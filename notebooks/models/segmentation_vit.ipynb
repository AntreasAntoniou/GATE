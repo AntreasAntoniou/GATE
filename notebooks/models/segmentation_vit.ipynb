{
 "cells": [
  {
   "cell_type": "code",
   "execution_count": null,
   "metadata": {},
   "outputs": [],
   "source": [
    "import torch\n",
    "\n",
    "from gate.models.task_specific_models.semantic_segmentation.timm import (\n",
    "    ModelAndTransform,\n",
    "    build_gate_model,\n",
    "    build_model,\n",
    ")"
   ]
  },
  {
   "cell_type": "code",
   "execution_count": null,
   "metadata": {},
   "outputs": [],
   "source": [
    "model_and_transform = build_gate_model(\n",
    "        num_classes=100,\n",
    "        pretrained=True,\n",
    "    )"
   ]
  },
  {
   "cell_type": "code",
   "execution_count": null,
   "metadata": {},
   "outputs": [],
   "source": [
    "image = torch.rand(2, 3, 512, 512).to(\"cuda\")\n",
    "labels = torch.randint(low=0, high=100, size=(2, 1, 256, 256)).to(\"cuda\")\n",
    "\n",
    "model = model_and_transform.model.to(\"cuda\")\n",
    "transform = model_and_transform.transform\n",
    "\n",
    "input_dict = transform({\"image\": image, \"labels\": labels})\n",
    "input_dict = {k: v.to(\"cuda\") for k, v in input_dict.items()}"
   ]
  },
  {
   "cell_type": "code",
   "execution_count": null,
   "metadata": {},
   "outputs": [],
   "source": [
    "output = model.forward(input_dict)"
   ]
  },
  {
   "cell_type": "code",
   "execution_count": null,
   "metadata": {},
   "outputs": [],
   "source": [
    "loss = output['image']['image']['loss']\n",
    "loss.backward()"
   ]
  },
  {
   "cell_type": "code",
   "execution_count": null,
   "metadata": {},
   "outputs": [],
   "source": [
    "from tqdm.auto import tqdm\n",
    "import transformers\n",
    "import accelerate\n",
    "\n",
    "accelerator = accelerate.Accelerator(mixed_precision='fp16')\n",
    "model = accelerator.prepare(model)\n",
    "optimizer = transformers.AdamW(model.parameters(), lr=1e-1, weight_decay=0.)\n",
    "optimizer = accelerator.prepare(optimizer)\n"
   ]
  },
  {
   "cell_type": "code",
   "execution_count": null,
   "metadata": {},
   "outputs": [],
   "source": [
    "with tqdm(total=100) as pbar:\n",
    "    for i in range(100):\n",
    "        optimizer.zero_grad()\n",
    "        output = model.forward(input_dict)\n",
    "        loss = output['image']['image']['loss']\n",
    "        accelerator.backward(loss)\n",
    "        optimizer.step()\n",
    "        pbar.update(1)\n",
    "        pbar.set_description(f'loss: {loss.item():.4f}')"
   ]
  },
  {
   "cell_type": "code",
   "execution_count": null,
   "metadata": {},
   "outputs": [],
   "source": []
  }
 ],
 "metadata": {
  "kernelspec": {
   "display_name": "gate",
   "language": "python",
   "name": "python3"
  },
  "language_info": {
   "codemirror_mode": {
    "name": "ipython",
    "version": 3
   },
   "file_extension": ".py",
   "mimetype": "text/x-python",
   "name": "python",
   "nbconvert_exporter": "python",
   "pygments_lexer": "ipython3",
   "version": "3.10.12"
  },
  "orig_nbformat": 4
 },
 "nbformat": 4,
 "nbformat_minor": 2
}
