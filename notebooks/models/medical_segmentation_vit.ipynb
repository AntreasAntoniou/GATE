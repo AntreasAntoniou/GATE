{
 "cells": [
  {
   "cell_type": "code",
   "execution_count": null,
   "metadata": {},
   "outputs": [],
   "source": [
    "%load_ext autoreload\n",
    "%autoreload 2\n",
    "import torch\n",
    "from gate.models.task_specific_models.semantic_segmentation.timm import (\n",
    "    ModelAndTransform,\n",
    "    build_gate_model,\n",
    "    build_model,\n",
    ")\n",
    "from gate.models.adapters.medical_semantic_segmentation import logger\n",
    "\n",
    "logger.setLevel(\"DEBUG\")\n",
    "\n",
    "model_and_transform = build_gate_model(\n",
    "    timm_model_name=\"vit_base_patch16_clip_224.laion2b\",\n",
    "    num_classes=100,\n",
    "    pretrained=True,\n",
    "    use_temporal_model=True,\n",
    "    num_channels=3,\n",
    ")"
   ]
  },
  {
   "cell_type": "code",
   "execution_count": null,
   "metadata": {},
   "outputs": [],
   "source": [
    "import multiprocessing as mp\n",
    "import matplotlib.pyplot as plt\n",
    "import numpy as np\n",
    "import torch\n",
    "\n",
    "import gate.data.medical.segmentation.automated_cardiac_diagnosis as acd\n",
    "import gate.data.medical.segmentation.medical_decathlon as md\n",
    "\n",
    "data_dir = \"/data-fast0/\"\n",
    "\n",
    "model = model_and_transform.model\n",
    "transforms = model_and_transform.transform\n",
    "data = md.build_gate_dataset(\n",
    "    data_dir=data_dir,\n",
    "    image_size=512,\n",
    "    target_image_size=512,\n",
    "    transforms=transforms,\n",
    ")\n",
    "\n",
    "\n",
    "from torch.utils.data import DataLoader\n",
    "\n",
    "dataloader = DataLoader(\n",
    "    data[\"train\"], batch_size=1, shuffle=True, num_workers=12\n",
    ")"
   ]
  },
  {
   "cell_type": "code",
   "execution_count": null,
   "metadata": {},
   "outputs": [],
   "source": [
    "from tqdm.auto import tqdm\n",
    "import transformers\n",
    "import accelerate\n",
    "\n",
    "accelerator = accelerate.Accelerator(mixed_precision=\"fp16\")\n",
    "model = accelerator.prepare(model)\n",
    "dataloader = accelerator.prepare(dataloader)\n",
    "optimizer = transformers.AdamW(model.parameters(), lr=1e-8, weight_decay=0.0)\n",
    "optimizer = accelerator.prepare(optimizer)\n",
    "\n",
    "input_dict = next(iter(dataloader))"
   ]
  },
  {
   "cell_type": "code",
   "execution_count": null,
   "metadata": {},
   "outputs": [],
   "source": [
    "for key, value in input_dict.items():\n",
    "    print(f\"{key}: {value.shape}\")\n",
    "    # value_mean = value.mean()\n",
    "    # value_std = value.std()\n",
    "    # print(f\"mean: {value_mean}, std: {value_std}\")\n",
    "    # value_max = value.max()\n",
    "    # value_min = value.min()\n",
    "    # print(f\"max: {value_max}, min: {value_min}\")\n",
    "    input_dict[key] = value[:, :20]"
   ]
  },
  {
   "cell_type": "code",
   "execution_count": null,
   "metadata": {},
   "outputs": [],
   "source": [
    "with tqdm(total=100) as pbar:\n",
    "    for i in range(100):\n",
    "        optimizer.zero_grad()\n",
    "        output = model.forward(input_dict)\n",
    "        loss = output[\"image\"][\"image\"][\"loss\"]\n",
    "        accelerator.backward(loss)\n",
    "        optimizer.step()\n",
    "        pbar.update(1)\n",
    "        pbar.set_description(f\"loss: {loss.item():.4f}\")"
   ]
  }
 ],
 "metadata": {
  "kernelspec": {
   "display_name": "gate",
   "language": "python",
   "name": "python3"
  },
  "language_info": {
   "codemirror_mode": {
    "name": "ipython",
    "version": 3
   },
   "file_extension": ".py",
   "mimetype": "text/x-python",
   "name": "python",
   "nbconvert_exporter": "python",
   "pygments_lexer": "ipython3",
   "version": "3.10.12"
  },
  "orig_nbformat": 4
 },
 "nbformat": 4,
 "nbformat_minor": 2
}
