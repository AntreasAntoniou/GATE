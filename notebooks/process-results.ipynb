{
 "cells": [
  {
   "cell_type": "code",
   "execution_count": 37,
   "metadata": {},
   "outputs": [],
   "source": [
    "import os\n",
    "import sys\n",
    "import pathlib\n",
    "import pandas as pd\n",
    "import numpy as np\n",
    "import matplotlib.pyplot as plt\n",
    "\n",
    "plt.style.use(\"ggplot\")\n",
    "\n",
    "data_path = pathlib.Path(\"/devcode/GATE-private/notebooks/gate-results.csv\")"
   ]
  },
  {
   "cell_type": "code",
   "execution_count": 38,
   "metadata": {},
   "outputs": [
    {
     "data": {
      "text/html": [
       "<pre style=\"white-space:pre;overflow-x:auto;line-height:normal;font-family:Menlo,'DejaVu Sans Mono',consolas,'Courier New',monospace\">                                     Name  Runtime Notes     State  Tags   \n",
       "<span style=\"color: #008080; text-decoration-color: #008080; font-weight: bold\">0</span>     <span style=\"color: #008000; text-decoration-color: #008000\">\"athena-svhn-talip-base16-witav-42\"</span>     <span style=\"color: #008080; text-decoration-color: #008080; font-weight: bold\">4173</span>     -  finished   NaN  \\\n",
       "<span style=\"color: #008080; text-decoration-color: #008080; font-weight: bold\">1</span>   <span style=\"color: #008000; text-decoration-color: #008000\">\"athena-svhn-laion-vit-base16-224-42\"</span>     <span style=\"color: #008080; text-decoration-color: #008080; font-weight: bold\">2685</span>     -  finished   NaN   \n",
       "<span style=\"color: #008080; text-decoration-color: #008080; font-weight: bold\">2</span>   <span style=\"color: #008000; text-decoration-color: #008000\">\"athena-svhn-talip-base16-witav-2306\"</span>     <span style=\"color: #008080; text-decoration-color: #008080; font-weight: bold\">3414</span>     -  finished   NaN   \n",
       "<span style=\"color: #008080; text-decoration-color: #008080; font-weight: bold\">3</span>  <span style=\"color: #008000; text-decoration-color: #008000\">\"athena-svhn-clip-vit-base16-224-1337\"</span>     <span style=\"color: #008080; text-decoration-color: #008080; font-weight: bold\">6400</span>     -    failed   NaN   \n",
       "<span style=\"color: #008080; text-decoration-color: #008080; font-weight: bold\">4</span>   <span style=\"color: #008000; text-decoration-color: #008000\">\"athena-svhn-talip-base16-witav-1337\"</span>     <span style=\"color: #008080; text-decoration-color: #008080; font-weight: bold\">3963</span>     -  finished   NaN   \n",
       "\n",
       "   dataloader.num_workers                                   dataset._target_   \n",
       "<span style=\"color: #008080; text-decoration-color: #008080; font-weight: bold\">0</span>                    <span style=\"color: #008080; text-decoration-color: #008080; font-weight: bold\">16.0</span>  gate.data.image.classification.svhn.build_gate<span style=\"color: #808000; text-decoration-color: #808000\">...</span>  \\\n",
       "<span style=\"color: #008080; text-decoration-color: #008080; font-weight: bold\">1</span>                    <span style=\"color: #008080; text-decoration-color: #008080; font-weight: bold\">64.0</span>  gate.data.image.classification.svhn.build_gate<span style=\"color: #808000; text-decoration-color: #808000\">...</span>   \n",
       "<span style=\"color: #008080; text-decoration-color: #008080; font-weight: bold\">2</span>                    <span style=\"color: #008080; text-decoration-color: #008080; font-weight: bold\">64.0</span>  gate.data.image.classification.svhn.build_gate<span style=\"color: #808000; text-decoration-color: #808000\">...</span>   \n",
       "<span style=\"color: #008080; text-decoration-color: #008080; font-weight: bold\">3</span>                    <span style=\"color: #008080; text-decoration-color: #008080; font-weight: bold\">40.0</span>  gate.data.image.classification.svhn.build_gate<span style=\"color: #808000; text-decoration-color: #808000\">...</span>   \n",
       "<span style=\"color: #008080; text-decoration-color: #008080; font-weight: bold\">4</span>                    <span style=\"color: #008080; text-decoration-color: #008080; font-weight: bold\">16.0</span>  gate.data.image.classification.svhn.build_gate<span style=\"color: #808000; text-decoration-color: #808000\">...</span>   \n",
       "\n",
       "   dataset.num_classes  init_global_step   \n",
       "<span style=\"color: #008080; text-decoration-color: #008080; font-weight: bold\">0</span>                 <span style=\"color: #008080; text-decoration-color: #008080; font-weight: bold\">10.0</span>               <span style=\"color: #008080; text-decoration-color: #008080; font-weight: bold\">0.0</span>  \\\n",
       "<span style=\"color: #008080; text-decoration-color: #008080; font-weight: bold\">1</span>                 <span style=\"color: #008080; text-decoration-color: #008080; font-weight: bold\">10.0</span>               <span style=\"color: #008080; text-decoration-color: #008080; font-weight: bold\">0.0</span>   \n",
       "<span style=\"color: #008080; text-decoration-color: #008080; font-weight: bold\">2</span>                 <span style=\"color: #008080; text-decoration-color: #008080; font-weight: bold\">10.0</span>               <span style=\"color: #008080; text-decoration-color: #008080; font-weight: bold\">0.0</span>   \n",
       "<span style=\"color: #008080; text-decoration-color: #008080; font-weight: bold\">3</span>                 <span style=\"color: #008080; text-decoration-color: #008080; font-weight: bold\">10.0</span>            <span style=\"color: #008080; text-decoration-color: #008080; font-weight: bold\">4500.5</span>   \n",
       "<span style=\"color: #008080; text-decoration-color: #008080; font-weight: bold\">4</span>                 <span style=\"color: #008080; text-decoration-color: #008080; font-weight: bold\">10.0</span>               <span style=\"color: #008080; text-decoration-color: #008080; font-weight: bold\">0.0</span>   \n",
       "\n",
       "                                      model._target_  <span style=\"color: #808000; text-decoration-color: #808000\">...</span>   \n",
       "<span style=\"color: #008080; text-decoration-color: #008080; font-weight: bold\">0</span>  gate.models.task_specific_models.classificatio<span style=\"color: #808000; text-decoration-color: #808000\">...</span>  <span style=\"color: #808000; text-decoration-color: #808000\">...</span>  \\\n",
       "<span style=\"color: #008080; text-decoration-color: #008080; font-weight: bold\">1</span>  gate.models.task_specific_models.classificatio<span style=\"color: #808000; text-decoration-color: #808000\">...</span>  <span style=\"color: #808000; text-decoration-color: #808000\">...</span>   \n",
       "<span style=\"color: #008080; text-decoration-color: #008080; font-weight: bold\">2</span>  gate.models.task_specific_models.classificatio<span style=\"color: #808000; text-decoration-color: #808000\">...</span>  <span style=\"color: #808000; text-decoration-color: #808000\">...</span>   \n",
       "<span style=\"color: #008080; text-decoration-color: #008080; font-weight: bold\">3</span>  gate.models.task_specific_models.classificatio<span style=\"color: #808000; text-decoration-color: #808000\">...</span>  <span style=\"color: #808000; text-decoration-color: #808000\">...</span>   \n",
       "<span style=\"color: #008080; text-decoration-color: #008080; font-weight: bold\">4</span>  gate.models.task_specific_models.classificatio<span style=\"color: #808000; text-decoration-color: #808000\">...</span>  <span style=\"color: #808000; text-decoration-color: #808000\">...</span>   \n",
       "\n",
       "  validation/accuracy_top_1-epoch-mean validation/accuracy_top_1-epoch-std   \n",
       "<span style=\"color: #008080; text-decoration-color: #008080; font-weight: bold\">0</span>                            <span style=\"color: #008080; text-decoration-color: #008080; font-weight: bold\">99.407326</span>                  <span style=\"color: #008080; text-decoration-color: #008080; font-weight: bold\">0.6912270784378052</span>  \\\n",
       "<span style=\"color: #008080; text-decoration-color: #008080; font-weight: bold\">1</span>                            <span style=\"color: #008080; text-decoration-color: #008080; font-weight: bold\">99.407326</span>                  <span style=\"color: #008080; text-decoration-color: #008080; font-weight: bold\">0.7215445637702942</span>   \n",
       "<span style=\"color: #008080; text-decoration-color: #008080; font-weight: bold\">2</span>                            <span style=\"color: #008080; text-decoration-color: #008080; font-weight: bold\">99.515083</span>                  <span style=\"color: #008080; text-decoration-color: #008080; font-weight: bold\">0.7291801571846008</span>   \n",
       "<span style=\"color: #008080; text-decoration-color: #008080; font-weight: bold\">3</span>                            <span style=\"color: #008080; text-decoration-color: #008080; font-weight: bold\">99.602638</span>                  <span style=\"color: #008080; text-decoration-color: #008080; font-weight: bold\">0.6229731142520905</span>   \n",
       "<span style=\"color: #008080; text-decoration-color: #008080; font-weight: bold\">4</span>                            <span style=\"color: #008080; text-decoration-color: #008080; font-weight: bold\">99.555496</span>                  <span style=\"color: #008080; text-decoration-color: #008080; font-weight: bold\">0.6397664546966553</span>   \n",
       "\n",
       "  validation/accuracy_top_5 validation/accuracy_top_5-epoch-mean   \n",
       "<span style=\"color: #008080; text-decoration-color: #008080; font-weight: bold\">0</span>                     <span style=\"color: #008080; text-decoration-color: #008080; font-weight: bold\">100.0</span>                            <span style=\"color: #008080; text-decoration-color: #008080; font-weight: bold\">99.878769</span>  \\\n",
       "<span style=\"color: #008080; text-decoration-color: #008080; font-weight: bold\">1</span>                     <span style=\"color: #008080; text-decoration-color: #008080; font-weight: bold\">100.0</span>                            <span style=\"color: #008080; text-decoration-color: #008080; font-weight: bold\">99.905708</span>   \n",
       "<span style=\"color: #008080; text-decoration-color: #008080; font-weight: bold\">2</span>                     <span style=\"color: #008080; text-decoration-color: #008080; font-weight: bold\">100.0</span>                            <span style=\"color: #008080; text-decoration-color: #008080; font-weight: bold\">99.905708</span>   \n",
       "<span style=\"color: #008080; text-decoration-color: #008080; font-weight: bold\">3</span>                     <span style=\"color: #008080; text-decoration-color: #008080; font-weight: bold\">100.0</span>                            <span style=\"color: #008080; text-decoration-color: #008080; font-weight: bold\">99.905708</span>   \n",
       "<span style=\"color: #008080; text-decoration-color: #008080; font-weight: bold\">4</span>                     <span style=\"color: #008080; text-decoration-color: #008080; font-weight: bold\">100.0</span>                            <span style=\"color: #008080; text-decoration-color: #008080; font-weight: bold\">99.892242</span>   \n",
       "\n",
       "   validation/accuracy_top_5-epoch-std validation/logits-epoch-mean   \n",
       "<span style=\"color: #008080; text-decoration-color: #008080; font-weight: bold\">0</span>                   <span style=\"color: #008080; text-decoration-color: #008080; font-weight: bold\">0.2853368818759918</span>                    <span style=\"color: #008080; text-decoration-color: #008080; font-weight: bold\">-0.004663</span>  \\\n",
       "<span style=\"color: #008080; text-decoration-color: #008080; font-weight: bold\">1</span>                   <span style=\"color: #008080; text-decoration-color: #008080; font-weight: bold\">0.2955079674720764</span>                    <span style=\"color: #008080; text-decoration-color: #008080; font-weight: bold\">-0.043949</span>   \n",
       "<span style=\"color: #008080; text-decoration-color: #008080; font-weight: bold\">2</span>                   <span style=\"color: #008080; text-decoration-color: #008080; font-weight: bold\">0.2567276954650879</span>                    <span style=\"color: #008080; text-decoration-color: #008080; font-weight: bold\">-0.095437</span>   \n",
       "<span style=\"color: #008080; text-decoration-color: #008080; font-weight: bold\">3</span>                   <span style=\"color: #008080; text-decoration-color: #008080; font-weight: bold\">0.2567276954650879</span>                    <span style=\"color: #008080; text-decoration-color: #008080; font-weight: bold\">-0.000746</span>   \n",
       "<span style=\"color: #008080; text-decoration-color: #008080; font-weight: bold\">4</span>                   <span style=\"color: #008080; text-decoration-color: #008080; font-weight: bold\">0.3086479902267456</span>                    <span style=\"color: #008080; text-decoration-color: #008080; font-weight: bold\">-0.010631</span>   \n",
       "\n",
       "  validation/logits-epoch-std  validation/loss  validation/loss-epoch-mean   \n",
       "<span style=\"color: #008080; text-decoration-color: #008080; font-weight: bold\">0</span>         <span style=\"color: #008080; text-decoration-color: #008080; font-weight: bold\">0.01228101085871458</span>         <span style=\"color: #008080; text-decoration-color: #008080; font-weight: bold\">0.000664</span>                    <span style=\"color: #008080; text-decoration-color: #008080; font-weight: bold\">0.039007</span>  \\\n",
       "<span style=\"color: #008080; text-decoration-color: #008080; font-weight: bold\">1</span>         <span style=\"color: #008080; text-decoration-color: #008080; font-weight: bold\">0.02246733382344246</span>         <span style=\"color: #008080; text-decoration-color: #008080; font-weight: bold\">0.000062</span>                    <span style=\"color: #008080; text-decoration-color: #008080; font-weight: bold\">0.035251</span>   \n",
       "<span style=\"color: #008080; text-decoration-color: #008080; font-weight: bold\">2</span>         <span style=\"color: #008080; text-decoration-color: #008080; font-weight: bold\">0.01151279266923666</span>         <span style=\"color: #008080; text-decoration-color: #008080; font-weight: bold\">0.000197</span>                    <span style=\"color: #008080; text-decoration-color: #008080; font-weight: bold\">0.027152</span>   \n",
       "<span style=\"color: #008080; text-decoration-color: #008080; font-weight: bold\">3</span>        <span style=\"color: #008080; text-decoration-color: #008080; font-weight: bold\">0.013235040009021757</span>         <span style=\"color: #008080; text-decoration-color: #008080; font-weight: bold\">0.000184</span>                    <span style=\"color: #008080; text-decoration-color: #008080; font-weight: bold\">0.028256</span>   \n",
       "<span style=\"color: #008080; text-decoration-color: #008080; font-weight: bold\">4</span>        <span style=\"color: #008080; text-decoration-color: #008080; font-weight: bold\">0.013362712226808071</span>         <span style=\"color: #008080; text-decoration-color: #008080; font-weight: bold\">0.000249</span>                    <span style=\"color: #008080; text-decoration-color: #008080; font-weight: bold\">0.028540</span>   \n",
       "\n",
       "   validation/loss-epoch-std  \n",
       "<span style=\"color: #008080; text-decoration-color: #008080; font-weight: bold\">0</span>        <span style=\"color: #008080; text-decoration-color: #008080; font-weight: bold\">0.04896154627203941</span>  \n",
       "<span style=\"color: #008080; text-decoration-color: #008080; font-weight: bold\">1</span>        <span style=\"color: #008080; text-decoration-color: #008080; font-weight: bold\">0.05310678482055664</span>  \n",
       "<span style=\"color: #008080; text-decoration-color: #008080; font-weight: bold\">2</span>        <span style=\"color: #008080; text-decoration-color: #008080; font-weight: bold\">0.04407551139593125</span>  \n",
       "<span style=\"color: #008080; text-decoration-color: #008080; font-weight: bold\">3</span>       <span style=\"color: #008080; text-decoration-color: #008080; font-weight: bold\">0.043903104960918427</span>  \n",
       "<span style=\"color: #008080; text-decoration-color: #008080; font-weight: bold\">4</span>        <span style=\"color: #008080; text-decoration-color: #008080; font-weight: bold\">0.04779575020074845</span>  \n",
       "\n",
       "<span style=\"font-weight: bold\">[</span><span style=\"color: #008080; text-decoration-color: #008080; font-weight: bold\">5</span> rows x <span style=\"color: #008080; text-decoration-color: #008080; font-weight: bold\">45</span> columns<span style=\"font-weight: bold\">]</span>\n",
       "</pre>\n"
      ],
      "text/plain": [
       "                                     Name  Runtime Notes     State  Tags   \n",
       "\u001b[1;36m0\u001b[0m     \u001b[32m\"athena-svhn-talip-base16-witav-42\"\u001b[0m     \u001b[1;36m4173\u001b[0m     -  finished   NaN  \\\n",
       "\u001b[1;36m1\u001b[0m   \u001b[32m\"athena-svhn-laion-vit-base16-224-42\"\u001b[0m     \u001b[1;36m2685\u001b[0m     -  finished   NaN   \n",
       "\u001b[1;36m2\u001b[0m   \u001b[32m\"athena-svhn-talip-base16-witav-2306\"\u001b[0m     \u001b[1;36m3414\u001b[0m     -  finished   NaN   \n",
       "\u001b[1;36m3\u001b[0m  \u001b[32m\"athena-svhn-clip-vit-base16-224-1337\"\u001b[0m     \u001b[1;36m6400\u001b[0m     -    failed   NaN   \n",
       "\u001b[1;36m4\u001b[0m   \u001b[32m\"athena-svhn-talip-base16-witav-1337\"\u001b[0m     \u001b[1;36m3963\u001b[0m     -  finished   NaN   \n",
       "\n",
       "   dataloader.num_workers                                   dataset._target_   \n",
       "\u001b[1;36m0\u001b[0m                    \u001b[1;36m16.0\u001b[0m  gate.data.image.classification.svhn.build_gate\u001b[33m...\u001b[0m  \\\n",
       "\u001b[1;36m1\u001b[0m                    \u001b[1;36m64.0\u001b[0m  gate.data.image.classification.svhn.build_gate\u001b[33m...\u001b[0m   \n",
       "\u001b[1;36m2\u001b[0m                    \u001b[1;36m64.0\u001b[0m  gate.data.image.classification.svhn.build_gate\u001b[33m...\u001b[0m   \n",
       "\u001b[1;36m3\u001b[0m                    \u001b[1;36m40.0\u001b[0m  gate.data.image.classification.svhn.build_gate\u001b[33m...\u001b[0m   \n",
       "\u001b[1;36m4\u001b[0m                    \u001b[1;36m16.0\u001b[0m  gate.data.image.classification.svhn.build_gate\u001b[33m...\u001b[0m   \n",
       "\n",
       "   dataset.num_classes  init_global_step   \n",
       "\u001b[1;36m0\u001b[0m                 \u001b[1;36m10.0\u001b[0m               \u001b[1;36m0.0\u001b[0m  \\\n",
       "\u001b[1;36m1\u001b[0m                 \u001b[1;36m10.0\u001b[0m               \u001b[1;36m0.0\u001b[0m   \n",
       "\u001b[1;36m2\u001b[0m                 \u001b[1;36m10.0\u001b[0m               \u001b[1;36m0.0\u001b[0m   \n",
       "\u001b[1;36m3\u001b[0m                 \u001b[1;36m10.0\u001b[0m            \u001b[1;36m4500.5\u001b[0m   \n",
       "\u001b[1;36m4\u001b[0m                 \u001b[1;36m10.0\u001b[0m               \u001b[1;36m0.0\u001b[0m   \n",
       "\n",
       "                                      model._target_  \u001b[33m...\u001b[0m   \n",
       "\u001b[1;36m0\u001b[0m  gate.models.task_specific_models.classificatio\u001b[33m...\u001b[0m  \u001b[33m...\u001b[0m  \\\n",
       "\u001b[1;36m1\u001b[0m  gate.models.task_specific_models.classificatio\u001b[33m...\u001b[0m  \u001b[33m...\u001b[0m   \n",
       "\u001b[1;36m2\u001b[0m  gate.models.task_specific_models.classificatio\u001b[33m...\u001b[0m  \u001b[33m...\u001b[0m   \n",
       "\u001b[1;36m3\u001b[0m  gate.models.task_specific_models.classificatio\u001b[33m...\u001b[0m  \u001b[33m...\u001b[0m   \n",
       "\u001b[1;36m4\u001b[0m  gate.models.task_specific_models.classificatio\u001b[33m...\u001b[0m  \u001b[33m...\u001b[0m   \n",
       "\n",
       "  validation/accuracy_top_1-epoch-mean validation/accuracy_top_1-epoch-std   \n",
       "\u001b[1;36m0\u001b[0m                            \u001b[1;36m99.407326\u001b[0m                  \u001b[1;36m0.6912270784378052\u001b[0m  \\\n",
       "\u001b[1;36m1\u001b[0m                            \u001b[1;36m99.407326\u001b[0m                  \u001b[1;36m0.7215445637702942\u001b[0m   \n",
       "\u001b[1;36m2\u001b[0m                            \u001b[1;36m99.515083\u001b[0m                  \u001b[1;36m0.7291801571846008\u001b[0m   \n",
       "\u001b[1;36m3\u001b[0m                            \u001b[1;36m99.602638\u001b[0m                  \u001b[1;36m0.6229731142520905\u001b[0m   \n",
       "\u001b[1;36m4\u001b[0m                            \u001b[1;36m99.555496\u001b[0m                  \u001b[1;36m0.6397664546966553\u001b[0m   \n",
       "\n",
       "  validation/accuracy_top_5 validation/accuracy_top_5-epoch-mean   \n",
       "\u001b[1;36m0\u001b[0m                     \u001b[1;36m100.0\u001b[0m                            \u001b[1;36m99.878769\u001b[0m  \\\n",
       "\u001b[1;36m1\u001b[0m                     \u001b[1;36m100.0\u001b[0m                            \u001b[1;36m99.905708\u001b[0m   \n",
       "\u001b[1;36m2\u001b[0m                     \u001b[1;36m100.0\u001b[0m                            \u001b[1;36m99.905708\u001b[0m   \n",
       "\u001b[1;36m3\u001b[0m                     \u001b[1;36m100.0\u001b[0m                            \u001b[1;36m99.905708\u001b[0m   \n",
       "\u001b[1;36m4\u001b[0m                     \u001b[1;36m100.0\u001b[0m                            \u001b[1;36m99.892242\u001b[0m   \n",
       "\n",
       "   validation/accuracy_top_5-epoch-std validation/logits-epoch-mean   \n",
       "\u001b[1;36m0\u001b[0m                   \u001b[1;36m0.2853368818759918\u001b[0m                    \u001b[1;36m-0.004663\u001b[0m  \\\n",
       "\u001b[1;36m1\u001b[0m                   \u001b[1;36m0.2955079674720764\u001b[0m                    \u001b[1;36m-0.043949\u001b[0m   \n",
       "\u001b[1;36m2\u001b[0m                   \u001b[1;36m0.2567276954650879\u001b[0m                    \u001b[1;36m-0.095437\u001b[0m   \n",
       "\u001b[1;36m3\u001b[0m                   \u001b[1;36m0.2567276954650879\u001b[0m                    \u001b[1;36m-0.000746\u001b[0m   \n",
       "\u001b[1;36m4\u001b[0m                   \u001b[1;36m0.3086479902267456\u001b[0m                    \u001b[1;36m-0.010631\u001b[0m   \n",
       "\n",
       "  validation/logits-epoch-std  validation/loss  validation/loss-epoch-mean   \n",
       "\u001b[1;36m0\u001b[0m         \u001b[1;36m0.01228101085871458\u001b[0m         \u001b[1;36m0.000664\u001b[0m                    \u001b[1;36m0.039007\u001b[0m  \\\n",
       "\u001b[1;36m1\u001b[0m         \u001b[1;36m0.02246733382344246\u001b[0m         \u001b[1;36m0.000062\u001b[0m                    \u001b[1;36m0.035251\u001b[0m   \n",
       "\u001b[1;36m2\u001b[0m         \u001b[1;36m0.01151279266923666\u001b[0m         \u001b[1;36m0.000197\u001b[0m                    \u001b[1;36m0.027152\u001b[0m   \n",
       "\u001b[1;36m3\u001b[0m        \u001b[1;36m0.013235040009021757\u001b[0m         \u001b[1;36m0.000184\u001b[0m                    \u001b[1;36m0.028256\u001b[0m   \n",
       "\u001b[1;36m4\u001b[0m        \u001b[1;36m0.013362712226808071\u001b[0m         \u001b[1;36m0.000249\u001b[0m                    \u001b[1;36m0.028540\u001b[0m   \n",
       "\n",
       "   validation/loss-epoch-std  \n",
       "\u001b[1;36m0\u001b[0m        \u001b[1;36m0.04896154627203941\u001b[0m  \n",
       "\u001b[1;36m1\u001b[0m        \u001b[1;36m0.05310678482055664\u001b[0m  \n",
       "\u001b[1;36m2\u001b[0m        \u001b[1;36m0.04407551139593125\u001b[0m  \n",
       "\u001b[1;36m3\u001b[0m       \u001b[1;36m0.043903104960918427\u001b[0m  \n",
       "\u001b[1;36m4\u001b[0m        \u001b[1;36m0.04779575020074845\u001b[0m  \n",
       "\n",
       "\u001b[1m[\u001b[0m\u001b[1;36m5\u001b[0m rows x \u001b[1;36m45\u001b[0m columns\u001b[1m]\u001b[0m\n"
      ]
     },
     "metadata": {},
     "output_type": "display_data"
    }
   ],
   "source": [
    "df = pd.read_csv(data_path)\n",
    "\n",
    "# Print the first few rows of the DataFrame to see what's inside\n",
    "print(df.head())"
   ]
  },
  {
   "cell_type": "code",
   "execution_count": 3,
   "metadata": {},
   "outputs": [
    {
     "name": "stdout",
     "output_type": "stream",
     "text": [
      "       testing/accuracy_top_1-epoch-mean  testing/accuracy_top_1-epoch-std   \n",
      "count                         130.000000                        130.000000  \\\n",
      "mean                           65.825859                          4.967498   \n",
      "std                            27.083131                          3.582391   \n",
      "min                             2.274525                          1.162434   \n",
      "25%                            56.174597                          3.216839   \n",
      "50%                            77.484615                          3.790733   \n",
      "75%                            82.613693                          4.446880   \n",
      "max                            96.229073                         15.894830   \n",
      "\n",
      "       testing/accuracy_top_5-epoch-mean  testing/accuracy_top_5-epoch-std   \n",
      "count                         130.000000                        130.000000  \\\n",
      "mean                           82.054007                          3.441022   \n",
      "std                            24.640253                          3.722592   \n",
      "min                             8.435522                          0.621350   \n",
      "25%                            84.508425                          1.914730   \n",
      "50%                            93.701248                          2.271086   \n",
      "75%                            96.064394                          3.509837   \n",
      "max                            99.567245                         21.564909   \n",
      "\n",
      "       testing/loss-epoch-mean  testing/loss-epoch-std   \n",
      "count               130.000000              130.000000  \\\n",
      "mean                  1.755003                0.270493   \n",
      "std                   1.515841                0.231743   \n",
      "min                   0.220678                0.031796   \n",
      "25%                   0.825712                0.134932   \n",
      "50%                   0.975560                0.174448   \n",
      "75%                   2.633509                0.293939   \n",
      "max                   5.457809                0.988238   \n",
      "\n",
      "       validation/accuracy_top_1-epoch-mean   \n",
      "count                            533.000000  \\\n",
      "mean                              55.320829   \n",
      "std                               38.839077   \n",
      "min                                0.000000   \n",
      "25%                                6.283798   \n",
      "50%                               63.984215   \n",
      "75%                               93.534485   \n",
      "max                               99.622849   \n",
      "\n",
      "       validation/accuracy_top_5-epoch-mean  \n",
      "count                            529.000000  \n",
      "mean                              66.433828  \n",
      "std                               41.057963  \n",
      "min                                0.000000  \n",
      "25%                               16.952073  \n",
      "50%                               89.358917  \n",
      "75%                               99.322914  \n",
      "max                              100.000000  \n"
     ]
    }
   ],
   "source": [
    "# Print the summary statistics of the DataFrame\n",
    "print(df.describe())"
   ]
  },
  {
   "cell_type": "code",
   "execution_count": 39,
   "metadata": {},
   "outputs": [
    {
     "data": {
      "text/html": [
       "<pre style=\"white-space:pre;overflow-x:auto;line-height:normal;font-family:Menlo,'DejaVu Sans Mono',consolas,'Courier New',monospace\"><span style=\"color: #800080; text-decoration-color: #800080; font-style: italic\">None</span>\n",
       "</pre>\n"
      ],
      "text/plain": [
       "\u001b[3;35mNone\u001b[0m\n"
      ]
     },
     "metadata": {},
     "output_type": "display_data"
    }
   ],
   "source": [
    "import pandas as pd\n",
    "from rich.table import Table\n",
    "from rich.console import Console\n",
    "\n",
    "\n",
    "def load_and_process_data(data_path: str):\n",
    "    # Load the data\n",
    "    df = pd.read_csv(data_path)\n",
    "\n",
    "    # Extract the seed number and remove it from the \"Name\"\n",
    "    df[\"Seed\"] = df[\"Name\"].apply(\n",
    "        lambda x: int(x.split(\"-\")[-1].replace('\"', \"\"))\n",
    "        if x.split(\"-\")[-1].replace('\"', \"\").isdigit()\n",
    "        else None\n",
    "    )\n",
    "    df[\"Name\"] = df[\"Name\"].apply(\n",
    "        lambda x: \"-\".join(x.split(\"-\")[:-1]).replace('\"', \"\")\n",
    "    )\n",
    "\n",
    "    # Filter the DataFrame\n",
    "    df = df[df[\"Name\"].str.startswith(\"athena\")]\n",
    "    df = df[~df[\"Name\"].str.contains(\"tali\")]\n",
    "\n",
    "    # df = df.dropna()\n",
    "\n",
    "    # Extract the task name\n",
    "    df[\"Task\"] = df[\"Name\"].apply(lambda x: x.split(\"-\")[1])\n",
    "    df[\"Name\"] = df[\"Name\"].apply(lambda x: \"-\".join(x.split(\"-\")[2:-1]))\n",
    "\n",
    "    # Convert columns to numeric type\n",
    "    numeric_columns = [\n",
    "        \"validation/accuracy_top_1-epoch-mean\",\n",
    "        \"validation/accuracy_top_5-epoch-mean\",\n",
    "    ]\n",
    "\n",
    "    for col in numeric_columns:\n",
    "        df[col] = pd.to_numeric(df[col], errors=\"coerce\")\n",
    "\n",
    "    # Group by 'Name' and 'Task' and calculate mean and standard deviation\n",
    "    grouped = df.groupby([\"Task\", \"Name\"])[numeric_columns].agg(\n",
    "        [\"mean\", \"std\", \"count\"]\n",
    "    )\n",
    "\n",
    "    # Sort by 'Task'\n",
    "    grouped = grouped.sort_values(by=\"Task\")\n",
    "\n",
    "    return grouped\n",
    "\n",
    "\n",
    "df = load_and_process_data(data_path)\n",
    "print(df.to_csv(\"data.csv\"))"
   ]
  },
  {
   "cell_type": "code",
   "execution_count": 34,
   "metadata": {},
   "outputs": [
    {
     "data": {
      "text/html": [
       "<pre style=\"white-space:pre;overflow-x:auto;line-height:normal;font-family:Menlo,'DejaVu Sans Mono',consolas,'Courier New',monospace\">Task: c100\n",
       "</pre>\n"
      ],
      "text/plain": [
       "Task: c100\n"
      ]
     },
     "metadata": {},
     "output_type": "display_data"
    },
    {
     "data": {
      "text/html": [
       "<pre style=\"white-space:pre;overflow-x:auto;line-height:normal;font-family:Menlo,'DejaVu Sans Mono',consolas,'Courier New',monospace\">┏┳━━━━━━━━━━━━━━━┳━━━━━━━━━━━━━━━┳━━━━━━━━━━━━━━━━┳━━━━━━━━━━━━━━━┳━━━━━━━━━━━━━━━━┳━━━━━━━━━━━━━━━┓\n",
       "┃<span style=\"color: #800080; text-decoration-color: #800080; font-weight: bold\"></span>┃<span style=\"color: #800080; text-decoration-color: #800080; font-weight: bold\"> ('validation… </span>┃<span style=\"color: #800080; text-decoration-color: #800080; font-weight: bold\"> ('validation… </span>┃<span style=\"color: #800080; text-decoration-color: #800080; font-weight: bold\"> ('validation/… </span>┃<span style=\"color: #800080; text-decoration-color: #800080; font-weight: bold\"> ('validation… </span>┃<span style=\"color: #800080; text-decoration-color: #800080; font-weight: bold\"> ('validation/… </span>┃<span style=\"color: #800080; text-decoration-color: #800080; font-weight: bold\"> ('validation… </span>┃\n",
       "┃<span style=\"color: #800080; text-decoration-color: #800080; font-weight: bold\"></span>┃<span style=\"color: #800080; text-decoration-color: #800080; font-weight: bold\"> 'count')      </span>┃<span style=\"color: #800080; text-decoration-color: #800080; font-weight: bold\"> 'mean')       </span>┃<span style=\"color: #800080; text-decoration-color: #800080; font-weight: bold\"> 'std')         </span>┃<span style=\"color: #800080; text-decoration-color: #800080; font-weight: bold\"> 'count')      </span>┃<span style=\"color: #800080; text-decoration-color: #800080; font-weight: bold\"> 'mean')        </span>┃<span style=\"color: #800080; text-decoration-color: #800080; font-weight: bold\"> 'std')        </span>┃\n",
       "┡╇━━━━━━━━━━━━━━━╇━━━━━━━━━━━━━━━╇━━━━━━━━━━━━━━━━╇━━━━━━━━━━━━━━━╇━━━━━━━━━━━━━━━━╇━━━━━━━━━━━━━━━┩\n",
       "││ 3.0           │ 55.050549825… │ 0.23622645015… │ 3.0           │ 80.5736821492… │ 0.8293499782… │\n",
       "││ 3.0           │ 72.909772237… │ 0.75360886887… │ 3.0           │ 92.0867818196… │ 0.2284887658… │\n",
       "││ 3.0           │ 66.598883310… │ 1.68363837695… │ 3.0           │ 89.5998026529… │ 1.0626027462… │\n",
       "││ 3.0           │ 63.666512807… │ 0.40815487583… │ 3.0           │ 87.3307291666… │ 0.6078421009… │\n",
       "││ 3.0           │ 27.798253395… │ 15.0962063097… │ 3.0           │ 51.2244179301… │ 21.361073337… │\n",
       "││ 3.0           │ 71.305910746… │ 2.55861859879… │ 3.0           │ 91.6551767985… │ 1.1856509731… │\n",
       "││ 3.0           │ 72.223114013… │ 2.04500675116… │ 3.0           │ 92.0186131795… │ 1.1454854718… │\n",
       "││ 3.0           │ 62.788756052… │ 0.51435090144… │ 3.0           │ 87.5268071492… │ 0.5274142731… │\n",
       "││ 3.0           │ 65.080677032… │ 2.96661209102… │ 3.0           │ 88.2342715793… │ 1.0653565137… │\n",
       "││ 3.0           │ 51.865809122… │ 0.15118458333… │ 3.0           │ 77.7941157023… │ 0.7619220914… │\n",
       "││ 3.0           │ 37.440384970… │ 18.1543922817… │ 3.0           │ 61.0849412812… │ 26.635458858… │\n",
       "││ 3.0           │ 70.536150614… │ 1.58090177877… │ 3.0           │ 90.3844985961… │ 1.0651663601… │\n",
       "││ 3.0           │ 24.835324605… │ 0.59628645583… │ 3.0           │ 46.0523897806… │ 0.1898016810… │\n",
       "└┴───────────────┴───────────────┴────────────────┴───────────────┴────────────────┴───────────────┘\n",
       "</pre>\n"
      ],
      "text/plain": [
       "┏┳━━━━━━━━━━━━━━━┳━━━━━━━━━━━━━━━┳━━━━━━━━━━━━━━━━┳━━━━━━━━━━━━━━━┳━━━━━━━━━━━━━━━━┳━━━━━━━━━━━━━━━┓\n",
       "┃┃\u001b[1;35m \u001b[0m\u001b[1;35m('validation…\u001b[0m\u001b[1;35m \u001b[0m┃\u001b[1;35m \u001b[0m\u001b[1;35m('validation…\u001b[0m\u001b[1;35m \u001b[0m┃\u001b[1;35m \u001b[0m\u001b[1;35m('validation/…\u001b[0m\u001b[1;35m \u001b[0m┃\u001b[1;35m \u001b[0m\u001b[1;35m('validation…\u001b[0m\u001b[1;35m \u001b[0m┃\u001b[1;35m \u001b[0m\u001b[1;35m('validation/…\u001b[0m\u001b[1;35m \u001b[0m┃\u001b[1;35m \u001b[0m\u001b[1;35m('validation…\u001b[0m\u001b[1;35m \u001b[0m┃\n",
       "┃┃\u001b[1;35m \u001b[0m\u001b[1;35m'count')     \u001b[0m\u001b[1;35m \u001b[0m┃\u001b[1;35m \u001b[0m\u001b[1;35m'mean')      \u001b[0m\u001b[1;35m \u001b[0m┃\u001b[1;35m \u001b[0m\u001b[1;35m'std')        \u001b[0m\u001b[1;35m \u001b[0m┃\u001b[1;35m \u001b[0m\u001b[1;35m'count')     \u001b[0m\u001b[1;35m \u001b[0m┃\u001b[1;35m \u001b[0m\u001b[1;35m'mean')       \u001b[0m\u001b[1;35m \u001b[0m┃\u001b[1;35m \u001b[0m\u001b[1;35m'std')       \u001b[0m\u001b[1;35m \u001b[0m┃\n",
       "┡╇━━━━━━━━━━━━━━━╇━━━━━━━━━━━━━━━╇━━━━━━━━━━━━━━━━╇━━━━━━━━━━━━━━━╇━━━━━━━━━━━━━━━━╇━━━━━━━━━━━━━━━┩\n",
       "││ 3.0           │ 55.050549825… │ 0.23622645015… │ 3.0           │ 80.5736821492… │ 0.8293499782… │\n",
       "││ 3.0           │ 72.909772237… │ 0.75360886887… │ 3.0           │ 92.0867818196… │ 0.2284887658… │\n",
       "││ 3.0           │ 66.598883310… │ 1.68363837695… │ 3.0           │ 89.5998026529… │ 1.0626027462… │\n",
       "││ 3.0           │ 63.666512807… │ 0.40815487583… │ 3.0           │ 87.3307291666… │ 0.6078421009… │\n",
       "││ 3.0           │ 27.798253395… │ 15.0962063097… │ 3.0           │ 51.2244179301… │ 21.361073337… │\n",
       "││ 3.0           │ 71.305910746… │ 2.55861859879… │ 3.0           │ 91.6551767985… │ 1.1856509731… │\n",
       "││ 3.0           │ 72.223114013… │ 2.04500675116… │ 3.0           │ 92.0186131795… │ 1.1454854718… │\n",
       "││ 3.0           │ 62.788756052… │ 0.51435090144… │ 3.0           │ 87.5268071492… │ 0.5274142731… │\n",
       "││ 3.0           │ 65.080677032… │ 2.96661209102… │ 3.0           │ 88.2342715793… │ 1.0653565137… │\n",
       "││ 3.0           │ 51.865809122… │ 0.15118458333… │ 3.0           │ 77.7941157023… │ 0.7619220914… │\n",
       "││ 3.0           │ 37.440384970… │ 18.1543922817… │ 3.0           │ 61.0849412812… │ 26.635458858… │\n",
       "││ 3.0           │ 70.536150614… │ 1.58090177877… │ 3.0           │ 90.3844985961… │ 1.0651663601… │\n",
       "││ 3.0           │ 24.835324605… │ 0.59628645583… │ 3.0           │ 46.0523897806… │ 0.1898016810… │\n",
       "└┴───────────────┴───────────────┴────────────────┴───────────────┴────────────────┴───────────────┘\n"
      ]
     },
     "metadata": {},
     "output_type": "display_data"
    },
    {
     "data": {
      "text/html": [
       "<pre style=\"white-space:pre;overflow-x:auto;line-height:normal;font-family:Menlo,'DejaVu Sans Mono',consolas,'Courier New',monospace\">Task: clvr\n",
       "</pre>\n"
      ],
      "text/plain": [
       "Task: clvr\n"
      ]
     },
     "metadata": {},
     "output_type": "display_data"
    },
    {
     "data": {
      "text/html": [
       "<pre style=\"white-space:pre;overflow-x:auto;line-height:normal;font-family:Menlo,'DejaVu Sans Mono',consolas,'Courier New',monospace\">┏┳━━━━━━━━━━━━━━━┳━━━━━━━━━━━━━━━┳━━━━━━━━━━━━━━━━┳━━━━━━━━━━━━━━━┳━━━━━━━━━━━━━━━━┳━━━━━━━━━━━━━━━┓\n",
       "┃<span style=\"color: #800080; text-decoration-color: #800080; font-weight: bold\"></span>┃<span style=\"color: #800080; text-decoration-color: #800080; font-weight: bold\"> ('validation… </span>┃<span style=\"color: #800080; text-decoration-color: #800080; font-weight: bold\"> ('validation… </span>┃<span style=\"color: #800080; text-decoration-color: #800080; font-weight: bold\"> ('validation/… </span>┃<span style=\"color: #800080; text-decoration-color: #800080; font-weight: bold\"> ('validation… </span>┃<span style=\"color: #800080; text-decoration-color: #800080; font-weight: bold\"> ('validation/… </span>┃<span style=\"color: #800080; text-decoration-color: #800080; font-weight: bold\"> ('validation… </span>┃\n",
       "┃<span style=\"color: #800080; text-decoration-color: #800080; font-weight: bold\"></span>┃<span style=\"color: #800080; text-decoration-color: #800080; font-weight: bold\"> 'count')      </span>┃<span style=\"color: #800080; text-decoration-color: #800080; font-weight: bold\"> 'mean')       </span>┃<span style=\"color: #800080; text-decoration-color: #800080; font-weight: bold\"> 'std')         </span>┃<span style=\"color: #800080; text-decoration-color: #800080; font-weight: bold\"> 'count')      </span>┃<span style=\"color: #800080; text-decoration-color: #800080; font-weight: bold\"> 'mean')        </span>┃<span style=\"color: #800080; text-decoration-color: #800080; font-weight: bold\"> 'std')        </span>┃\n",
       "┡╇━━━━━━━━━━━━━━━╇━━━━━━━━━━━━━━━╇━━━━━━━━━━━━━━━━╇━━━━━━━━━━━━━━━╇━━━━━━━━━━━━━━━━╇━━━━━━━━━━━━━━━┩\n",
       "││ 3.0           │ 54.713666280… │ 0.36794319543… │ 3.0           │ 99.4462381998… │ 0.0268674263… │\n",
       "││ 3.0           │ 53.538756052… │ 0.24445255470… │ 0.0           │ nan            │ nan           │\n",
       "││ 3.0           │ 56.283620198… │ 2.35801065994… │ 3.0           │ 99.4266408284… │ 0.0332147549… │\n",
       "││ 1.0           │ 54.839569091… │ nan            │ 1.0           │ 99.2756423950… │ nan           │\n",
       "││ 2.0           │ 54.515863418… │ 0.13229929465… │ 2.0           │ 99.4196624755… │ 0.0063874391… │\n",
       "││ 2.0           │ 54.115459442… │ 0.11849131272… │ 2.0           │ 99.3943061828… │ 0.0301299390… │\n",
       "└┴───────────────┴───────────────┴────────────────┴───────────────┴────────────────┴───────────────┘\n",
       "</pre>\n"
      ],
      "text/plain": [
       "┏┳━━━━━━━━━━━━━━━┳━━━━━━━━━━━━━━━┳━━━━━━━━━━━━━━━━┳━━━━━━━━━━━━━━━┳━━━━━━━━━━━━━━━━┳━━━━━━━━━━━━━━━┓\n",
       "┃┃\u001b[1;35m \u001b[0m\u001b[1;35m('validation…\u001b[0m\u001b[1;35m \u001b[0m┃\u001b[1;35m \u001b[0m\u001b[1;35m('validation…\u001b[0m\u001b[1;35m \u001b[0m┃\u001b[1;35m \u001b[0m\u001b[1;35m('validation/…\u001b[0m\u001b[1;35m \u001b[0m┃\u001b[1;35m \u001b[0m\u001b[1;35m('validation…\u001b[0m\u001b[1;35m \u001b[0m┃\u001b[1;35m \u001b[0m\u001b[1;35m('validation/…\u001b[0m\u001b[1;35m \u001b[0m┃\u001b[1;35m \u001b[0m\u001b[1;35m('validation…\u001b[0m\u001b[1;35m \u001b[0m┃\n",
       "┃┃\u001b[1;35m \u001b[0m\u001b[1;35m'count')     \u001b[0m\u001b[1;35m \u001b[0m┃\u001b[1;35m \u001b[0m\u001b[1;35m'mean')      \u001b[0m\u001b[1;35m \u001b[0m┃\u001b[1;35m \u001b[0m\u001b[1;35m'std')        \u001b[0m\u001b[1;35m \u001b[0m┃\u001b[1;35m \u001b[0m\u001b[1;35m'count')     \u001b[0m\u001b[1;35m \u001b[0m┃\u001b[1;35m \u001b[0m\u001b[1;35m'mean')       \u001b[0m\u001b[1;35m \u001b[0m┃\u001b[1;35m \u001b[0m\u001b[1;35m'std')       \u001b[0m\u001b[1;35m \u001b[0m┃\n",
       "┡╇━━━━━━━━━━━━━━━╇━━━━━━━━━━━━━━━╇━━━━━━━━━━━━━━━━╇━━━━━━━━━━━━━━━╇━━━━━━━━━━━━━━━━╇━━━━━━━━━━━━━━━┩\n",
       "││ 3.0           │ 54.713666280… │ 0.36794319543… │ 3.0           │ 99.4462381998… │ 0.0268674263… │\n",
       "││ 3.0           │ 53.538756052… │ 0.24445255470… │ 0.0           │ nan            │ nan           │\n",
       "││ 3.0           │ 56.283620198… │ 2.35801065994… │ 3.0           │ 99.4266408284… │ 0.0332147549… │\n",
       "││ 1.0           │ 54.839569091… │ nan            │ 1.0           │ 99.2756423950… │ nan           │\n",
       "││ 2.0           │ 54.515863418… │ 0.13229929465… │ 2.0           │ 99.4196624755… │ 0.0063874391… │\n",
       "││ 2.0           │ 54.115459442… │ 0.11849131272… │ 2.0           │ 99.3943061828… │ 0.0301299390… │\n",
       "└┴───────────────┴───────────────┴────────────────┴───────────────┴────────────────┴───────────────┘\n"
      ]
     },
     "metadata": {},
     "output_type": "display_data"
    },
    {
     "data": {
      "text/html": [
       "<pre style=\"white-space:pre;overflow-x:auto;line-height:normal;font-family:Menlo,'DejaVu Sans Mono',consolas,'Courier New',monospace\">Task: f101\n",
       "</pre>\n"
      ],
      "text/plain": [
       "Task: f101\n"
      ]
     },
     "metadata": {},
     "output_type": "display_data"
    },
    {
     "data": {
      "text/html": [
       "<pre style=\"white-space:pre;overflow-x:auto;line-height:normal;font-family:Menlo,'DejaVu Sans Mono',consolas,'Courier New',monospace\">┏┳━━━━━━━━━━━━━━━┳━━━━━━━━━━━━━━━┳━━━━━━━━━━━━━━━━┳━━━━━━━━━━━━━━━┳━━━━━━━━━━━━━━━━┳━━━━━━━━━━━━━━━┓\n",
       "┃<span style=\"color: #800080; text-decoration-color: #800080; font-weight: bold\"></span>┃<span style=\"color: #800080; text-decoration-color: #800080; font-weight: bold\"> ('validation… </span>┃<span style=\"color: #800080; text-decoration-color: #800080; font-weight: bold\"> ('validation… </span>┃<span style=\"color: #800080; text-decoration-color: #800080; font-weight: bold\"> ('validation/… </span>┃<span style=\"color: #800080; text-decoration-color: #800080; font-weight: bold\"> ('validation… </span>┃<span style=\"color: #800080; text-decoration-color: #800080; font-weight: bold\"> ('validation/… </span>┃<span style=\"color: #800080; text-decoration-color: #800080; font-weight: bold\"> ('validation… </span>┃\n",
       "┃<span style=\"color: #800080; text-decoration-color: #800080; font-weight: bold\"></span>┃<span style=\"color: #800080; text-decoration-color: #800080; font-weight: bold\"> 'count')      </span>┃<span style=\"color: #800080; text-decoration-color: #800080; font-weight: bold\"> 'mean')       </span>┃<span style=\"color: #800080; text-decoration-color: #800080; font-weight: bold\"> 'std')         </span>┃<span style=\"color: #800080; text-decoration-color: #800080; font-weight: bold\"> 'count')      </span>┃<span style=\"color: #800080; text-decoration-color: #800080; font-weight: bold\"> 'mean')        </span>┃<span style=\"color: #800080; text-decoration-color: #800080; font-weight: bold\"> 'std')        </span>┃\n",
       "┡╇━━━━━━━━━━━━━━━╇━━━━━━━━━━━━━━━╇━━━━━━━━━━━━━━━━╇━━━━━━━━━━━━━━━╇━━━━━━━━━━━━━━━━╇━━━━━━━━━━━━━━━┩\n",
       "││ 3.0           │ 97.623418172… │ 0.15669232589… │ 3.0           │ 99.2144114176… │ 0.0198893740… │\n",
       "││ 3.0           │ 98.603090922… │ 0.19717694006… │ 3.0           │ 99.6896692911… │ 0.0690002874… │\n",
       "││ 3.0           │ 97.053611755… │ 1.14821197125… │ 3.0           │ 99.2088425954… │ 0.2434210525… │\n",
       "││ 3.0           │ 98.091880798… │ 0.26388701198… │ 3.0           │ 99.39453125    │ 0.0846328735… │\n",
       "││ 3.0           │ 95.216451009… │ 0.67935808645… │ 3.0           │ 98.5633672078… │ 0.2148766797… │\n",
       "││ 3.0           │ 98.196333143… │ 0.41590468912… │ 3.0           │ 99.4603585137… │ 0.1234763815… │\n",
       "││ 3.0           │ 98.682111740… │ 0.22690519027… │ 3.0           │ 99.6744798024… │ 0.0567551110… │\n",
       "││ 3.0           │ 97.794573465… │ 0.06565784962… │ 3.0           │ 99.3706588745… │ 0.0457289914… │\n",
       "││ 3.0           │ 98.070465087… │ 0.11189120328… │ 3.0           │ 99.3619791666… │ 0.0130195619… │\n",
       "││ 3.0           │ 97.169570922… │ 0.14187695364… │ 3.0           │ 99.0947697957… │ 0.1052470847… │\n",
       "││ 3.0           │ 95.134076436… │ 3.03514212493… │ 3.0           │ 98.5264752705… │ 0.4501294228… │\n",
       "││ 3.0           │ 98.608942667… │ 0.37907829326… │ 3.0           │ 99.6527760823… │ 0.0866963441… │\n",
       "││ 3.0           │ 93.041404724… │ 0.21792194235… │ 3.0           │ 95.6851959228… │ 0.1113396887… │\n",
       "└┴───────────────┴───────────────┴────────────────┴───────────────┴────────────────┴───────────────┘\n",
       "</pre>\n"
      ],
      "text/plain": [
       "┏┳━━━━━━━━━━━━━━━┳━━━━━━━━━━━━━━━┳━━━━━━━━━━━━━━━━┳━━━━━━━━━━━━━━━┳━━━━━━━━━━━━━━━━┳━━━━━━━━━━━━━━━┓\n",
       "┃┃\u001b[1;35m \u001b[0m\u001b[1;35m('validation…\u001b[0m\u001b[1;35m \u001b[0m┃\u001b[1;35m \u001b[0m\u001b[1;35m('validation…\u001b[0m\u001b[1;35m \u001b[0m┃\u001b[1;35m \u001b[0m\u001b[1;35m('validation/…\u001b[0m\u001b[1;35m \u001b[0m┃\u001b[1;35m \u001b[0m\u001b[1;35m('validation…\u001b[0m\u001b[1;35m \u001b[0m┃\u001b[1;35m \u001b[0m\u001b[1;35m('validation/…\u001b[0m\u001b[1;35m \u001b[0m┃\u001b[1;35m \u001b[0m\u001b[1;35m('validation…\u001b[0m\u001b[1;35m \u001b[0m┃\n",
       "┃┃\u001b[1;35m \u001b[0m\u001b[1;35m'count')     \u001b[0m\u001b[1;35m \u001b[0m┃\u001b[1;35m \u001b[0m\u001b[1;35m'mean')      \u001b[0m\u001b[1;35m \u001b[0m┃\u001b[1;35m \u001b[0m\u001b[1;35m'std')        \u001b[0m\u001b[1;35m \u001b[0m┃\u001b[1;35m \u001b[0m\u001b[1;35m'count')     \u001b[0m\u001b[1;35m \u001b[0m┃\u001b[1;35m \u001b[0m\u001b[1;35m'mean')       \u001b[0m\u001b[1;35m \u001b[0m┃\u001b[1;35m \u001b[0m\u001b[1;35m'std')       \u001b[0m\u001b[1;35m \u001b[0m┃\n",
       "┡╇━━━━━━━━━━━━━━━╇━━━━━━━━━━━━━━━╇━━━━━━━━━━━━━━━━╇━━━━━━━━━━━━━━━╇━━━━━━━━━━━━━━━━╇━━━━━━━━━━━━━━━┩\n",
       "││ 3.0           │ 97.623418172… │ 0.15669232589… │ 3.0           │ 99.2144114176… │ 0.0198893740… │\n",
       "││ 3.0           │ 98.603090922… │ 0.19717694006… │ 3.0           │ 99.6896692911… │ 0.0690002874… │\n",
       "││ 3.0           │ 97.053611755… │ 1.14821197125… │ 3.0           │ 99.2088425954… │ 0.2434210525… │\n",
       "││ 3.0           │ 98.091880798… │ 0.26388701198… │ 3.0           │ 99.39453125    │ 0.0846328735… │\n",
       "││ 3.0           │ 95.216451009… │ 0.67935808645… │ 3.0           │ 98.5633672078… │ 0.2148766797… │\n",
       "││ 3.0           │ 98.196333143… │ 0.41590468912… │ 3.0           │ 99.4603585137… │ 0.1234763815… │\n",
       "││ 3.0           │ 98.682111740… │ 0.22690519027… │ 3.0           │ 99.6744798024… │ 0.0567551110… │\n",
       "││ 3.0           │ 97.794573465… │ 0.06565784962… │ 3.0           │ 99.3706588745… │ 0.0457289914… │\n",
       "││ 3.0           │ 98.070465087… │ 0.11189120328… │ 3.0           │ 99.3619791666… │ 0.0130195619… │\n",
       "││ 3.0           │ 97.169570922… │ 0.14187695364… │ 3.0           │ 99.0947697957… │ 0.1052470847… │\n",
       "││ 3.0           │ 95.134076436… │ 3.03514212493… │ 3.0           │ 98.5264752705… │ 0.4501294228… │\n",
       "││ 3.0           │ 98.608942667… │ 0.37907829326… │ 3.0           │ 99.6527760823… │ 0.0866963441… │\n",
       "││ 3.0           │ 93.041404724… │ 0.21792194235… │ 3.0           │ 95.6851959228… │ 0.1113396887… │\n",
       "└┴───────────────┴───────────────┴────────────────┴───────────────┴────────────────┴───────────────┘\n"
      ]
     },
     "metadata": {},
     "output_type": "display_data"
    },
    {
     "data": {
      "text/html": [
       "<pre style=\"white-space:pre;overflow-x:auto;line-height:normal;font-family:Menlo,'DejaVu Sans Mono',consolas,'Courier New',monospace\">Task: in1k\n",
       "</pre>\n"
      ],
      "text/plain": [
       "Task: in1k\n"
      ]
     },
     "metadata": {},
     "output_type": "display_data"
    },
    {
     "data": {
      "text/html": [
       "<pre style=\"white-space:pre;overflow-x:auto;line-height:normal;font-family:Menlo,'DejaVu Sans Mono',consolas,'Courier New',monospace\">┏┳━━━━━━━━━━━━━━━┳━━━━━━━━━━━━━━━┳━━━━━━━━━━━━━━━━┳━━━━━━━━━━━━━━━┳━━━━━━━━━━━━━━━━┳━━━━━━━━━━━━━━━┓\n",
       "┃<span style=\"color: #800080; text-decoration-color: #800080; font-weight: bold\"></span>┃<span style=\"color: #800080; text-decoration-color: #800080; font-weight: bold\"> ('validation… </span>┃<span style=\"color: #800080; text-decoration-color: #800080; font-weight: bold\"> ('validation… </span>┃<span style=\"color: #800080; text-decoration-color: #800080; font-weight: bold\"> ('validation/… </span>┃<span style=\"color: #800080; text-decoration-color: #800080; font-weight: bold\"> ('validation… </span>┃<span style=\"color: #800080; text-decoration-color: #800080; font-weight: bold\"> ('validation/… </span>┃<span style=\"color: #800080; text-decoration-color: #800080; font-weight: bold\"> ('validation… </span>┃\n",
       "┃<span style=\"color: #800080; text-decoration-color: #800080; font-weight: bold\"></span>┃<span style=\"color: #800080; text-decoration-color: #800080; font-weight: bold\"> 'count')      </span>┃<span style=\"color: #800080; text-decoration-color: #800080; font-weight: bold\"> 'mean')       </span>┃<span style=\"color: #800080; text-decoration-color: #800080; font-weight: bold\"> 'std')         </span>┃<span style=\"color: #800080; text-decoration-color: #800080; font-weight: bold\"> 'count')      </span>┃<span style=\"color: #800080; text-decoration-color: #800080; font-weight: bold\"> 'mean')        </span>┃<span style=\"color: #800080; text-decoration-color: #800080; font-weight: bold\"> 'std')        </span>┃\n",
       "┡╇━━━━━━━━━━━━━━━╇━━━━━━━━━━━━━━━╇━━━━━━━━━━━━━━━━╇━━━━━━━━━━━━━━━╇━━━━━━━━━━━━━━━━╇━━━━━━━━━━━━━━━┩\n",
       "││ 3.0           │ 91.236316257… │ 0.17510794355… │ 3.0           │ 98.4436408148… │ 0.0949434891… │\n",
       "││ 3.0           │ 81.270136515… │ 1.14556745310… │ 3.0           │ 96.0662727355… │ 0.3990585234… │\n",
       "││ 3.0           │ 93.016166687… │ 0.16003286101… │ 3.0           │ 98.6387437184… │ 0.0481432781… │\n",
       "││ 3.0           │ 79.142199198… │ 0.76983936767… │ 3.0           │ 94.3562935723… │ 0.4331590372… │\n",
       "││ 3.0           │ 92.195739322… │ 0.32131203694… │ 3.0           │ 99.0399945576… │ 0.0742629115… │\n",
       "││ 3.0           │ 93.997324625… │ 0.12626093972… │ 3.0           │ 99.0081456502… │ 0.0726614019… │\n",
       "││ 3.0           │ 70.589090738… │ 16.9911832595… │ 3.0           │ 84.7939420044… │ 19.084180298… │\n",
       "││ 3.0           │ 88.104630788… │ 0.32697553643… │ 3.0           │ 97.4643516540… │ 0.0963789293… │\n",
       "││ 3.0           │ 92.228113810… │ 0.58843148223… │ 3.0           │ 98.6186447143… │ 0.1360871582… │\n",
       "││ 2.0           │ 88.288633346… │ 0.15087357937… │ 2.0           │ 97.3052501678… │ 0.0457613622… │\n",
       "││ 3.0           │ 34.908925374… │ 4.77055537686… │ 3.0           │ 61.1442909240… │ 5.1131864104… │\n",
       "││ 3.0           │ 81.761431799… │ 0.71876147486… │ 3.0           │ 96.2328283521… │ 0.2530376537… │\n",
       "││ 3.0           │ 9.3432706594… │ 2.17524088380… │ 3.0           │ 23.2819183667… │ 4.7834615707… │\n",
       "└┴───────────────┴───────────────┴────────────────┴───────────────┴────────────────┴───────────────┘\n",
       "</pre>\n"
      ],
      "text/plain": [
       "┏┳━━━━━━━━━━━━━━━┳━━━━━━━━━━━━━━━┳━━━━━━━━━━━━━━━━┳━━━━━━━━━━━━━━━┳━━━━━━━━━━━━━━━━┳━━━━━━━━━━━━━━━┓\n",
       "┃┃\u001b[1;35m \u001b[0m\u001b[1;35m('validation…\u001b[0m\u001b[1;35m \u001b[0m┃\u001b[1;35m \u001b[0m\u001b[1;35m('validation…\u001b[0m\u001b[1;35m \u001b[0m┃\u001b[1;35m \u001b[0m\u001b[1;35m('validation/…\u001b[0m\u001b[1;35m \u001b[0m┃\u001b[1;35m \u001b[0m\u001b[1;35m('validation…\u001b[0m\u001b[1;35m \u001b[0m┃\u001b[1;35m \u001b[0m\u001b[1;35m('validation/…\u001b[0m\u001b[1;35m \u001b[0m┃\u001b[1;35m \u001b[0m\u001b[1;35m('validation…\u001b[0m\u001b[1;35m \u001b[0m┃\n",
       "┃┃\u001b[1;35m \u001b[0m\u001b[1;35m'count')     \u001b[0m\u001b[1;35m \u001b[0m┃\u001b[1;35m \u001b[0m\u001b[1;35m'mean')      \u001b[0m\u001b[1;35m \u001b[0m┃\u001b[1;35m \u001b[0m\u001b[1;35m'std')        \u001b[0m\u001b[1;35m \u001b[0m┃\u001b[1;35m \u001b[0m\u001b[1;35m'count')     \u001b[0m\u001b[1;35m \u001b[0m┃\u001b[1;35m \u001b[0m\u001b[1;35m'mean')       \u001b[0m\u001b[1;35m \u001b[0m┃\u001b[1;35m \u001b[0m\u001b[1;35m'std')       \u001b[0m\u001b[1;35m \u001b[0m┃\n",
       "┡╇━━━━━━━━━━━━━━━╇━━━━━━━━━━━━━━━╇━━━━━━━━━━━━━━━━╇━━━━━━━━━━━━━━━╇━━━━━━━━━━━━━━━━╇━━━━━━━━━━━━━━━┩\n",
       "││ 3.0           │ 91.236316257… │ 0.17510794355… │ 3.0           │ 98.4436408148… │ 0.0949434891… │\n",
       "││ 3.0           │ 81.270136515… │ 1.14556745310… │ 3.0           │ 96.0662727355… │ 0.3990585234… │\n",
       "││ 3.0           │ 93.016166687… │ 0.16003286101… │ 3.0           │ 98.6387437184… │ 0.0481432781… │\n",
       "││ 3.0           │ 79.142199198… │ 0.76983936767… │ 3.0           │ 94.3562935723… │ 0.4331590372… │\n",
       "││ 3.0           │ 92.195739322… │ 0.32131203694… │ 3.0           │ 99.0399945576… │ 0.0742629115… │\n",
       "││ 3.0           │ 93.997324625… │ 0.12626093972… │ 3.0           │ 99.0081456502… │ 0.0726614019… │\n",
       "││ 3.0           │ 70.589090738… │ 16.9911832595… │ 3.0           │ 84.7939420044… │ 19.084180298… │\n",
       "││ 3.0           │ 88.104630788… │ 0.32697553643… │ 3.0           │ 97.4643516540… │ 0.0963789293… │\n",
       "││ 3.0           │ 92.228113810… │ 0.58843148223… │ 3.0           │ 98.6186447143… │ 0.1360871582… │\n",
       "││ 2.0           │ 88.288633346… │ 0.15087357937… │ 2.0           │ 97.3052501678… │ 0.0457613622… │\n",
       "││ 3.0           │ 34.908925374… │ 4.77055537686… │ 3.0           │ 61.1442909240… │ 5.1131864104… │\n",
       "││ 3.0           │ 81.761431799… │ 0.71876147486… │ 3.0           │ 96.2328283521… │ 0.2530376537… │\n",
       "││ 3.0           │ 9.3432706594… │ 2.17524088380… │ 3.0           │ 23.2819183667… │ 4.7834615707… │\n",
       "└┴───────────────┴───────────────┴────────────────┴───────────────┴────────────────┴───────────────┘\n"
      ]
     },
     "metadata": {},
     "output_type": "display_data"
    },
    {
     "data": {
      "text/html": [
       "<pre style=\"white-space:pre;overflow-x:auto;line-height:normal;font-family:Menlo,'DejaVu Sans Mono',consolas,'Courier New',monospace\">Task: p365\n",
       "</pre>\n"
      ],
      "text/plain": [
       "Task: p365\n"
      ]
     },
     "metadata": {},
     "output_type": "display_data"
    },
    {
     "data": {
      "text/html": [
       "<pre style=\"white-space:pre;overflow-x:auto;line-height:normal;font-family:Menlo,'DejaVu Sans Mono',consolas,'Courier New',monospace\">┏┳━━━━━━━━━━━━━━━┳━━━━━━━━━━━━━━━┳━━━━━━━━━━━━━━━━┳━━━━━━━━━━━━━━━┳━━━━━━━━━━━━━━━━┳━━━━━━━━━━━━━━━┓\n",
       "┃<span style=\"color: #800080; text-decoration-color: #800080; font-weight: bold\"></span>┃<span style=\"color: #800080; text-decoration-color: #800080; font-weight: bold\"> ('validation… </span>┃<span style=\"color: #800080; text-decoration-color: #800080; font-weight: bold\"> ('validation… </span>┃<span style=\"color: #800080; text-decoration-color: #800080; font-weight: bold\"> ('validation/… </span>┃<span style=\"color: #800080; text-decoration-color: #800080; font-weight: bold\"> ('validation… </span>┃<span style=\"color: #800080; text-decoration-color: #800080; font-weight: bold\"> ('validation/… </span>┃<span style=\"color: #800080; text-decoration-color: #800080; font-weight: bold\"> ('validation… </span>┃\n",
       "┃<span style=\"color: #800080; text-decoration-color: #800080; font-weight: bold\"></span>┃<span style=\"color: #800080; text-decoration-color: #800080; font-weight: bold\"> 'count')      </span>┃<span style=\"color: #800080; text-decoration-color: #800080; font-weight: bold\"> 'mean')       </span>┃<span style=\"color: #800080; text-decoration-color: #800080; font-weight: bold\"> 'std')         </span>┃<span style=\"color: #800080; text-decoration-color: #800080; font-weight: bold\"> 'count')      </span>┃<span style=\"color: #800080; text-decoration-color: #800080; font-weight: bold\"> 'mean')        </span>┃<span style=\"color: #800080; text-decoration-color: #800080; font-weight: bold\"> 'std')        </span>┃\n",
       "┡╇━━━━━━━━━━━━━━━╇━━━━━━━━━━━━━━━╇━━━━━━━━━━━━━━━━╇━━━━━━━━━━━━━━━╇━━━━━━━━━━━━━━━━╇━━━━━━━━━━━━━━━┩\n",
       "││ 2.0           │ 37.397850990… │ 17.1194416018… │ 2.0           │ 61.2371078431… │ 27.911380756… │\n",
       "││ 3.0           │ 56.917188008… │ 0.08307302989… │ 3.0           │ 86.7546869913… │ 0.0614937653… │\n",
       "││ 1.0           │ 46.09765625   │ nan            │ 1.0           │ 78.0890655517… │ nan           │\n",
       "││ 3.0           │ 53.388020833… │ 0.26950464237… │ 3.0           │ 84.1601587931… │ 0.1666875691… │\n",
       "││ 0.0           │ nan           │ nan            │ 0.0           │ nan            │ nan           │\n",
       "││ 3.0           │ 52.001823425… │ 3.19403768759… │ 3.0           │ 83.1333338419… │ 2.5847618533… │\n",
       "││ 3.0           │ 56.981510162… │ 0.14570601651… │ 3.0           │ 86.8052088419… │ 0.0875599655… │\n",
       "││ 3.0           │ 52.899478912… │ 0.65693960408… │ 3.0           │ 83.8195292154… │ 0.4148923137… │\n",
       "││ 3.0           │ 47.639321645… │ 1.17272069729… │ 3.0           │ 79.0809911092… │ 1.0119819703… │\n",
       "││ 2.0           │ 37.896484375  │ 1.65783178766… │ 2.0           │ 69.9308586120… │ 1.8942695386… │\n",
       "││ 2.0           │ 56.773826599… │ 0.18506310288… │ 2.0           │ 86.5910186767… │ 0.0138106793… │\n",
       "└┴───────────────┴───────────────┴────────────────┴───────────────┴────────────────┴───────────────┘\n",
       "</pre>\n"
      ],
      "text/plain": [
       "┏┳━━━━━━━━━━━━━━━┳━━━━━━━━━━━━━━━┳━━━━━━━━━━━━━━━━┳━━━━━━━━━━━━━━━┳━━━━━━━━━━━━━━━━┳━━━━━━━━━━━━━━━┓\n",
       "┃┃\u001b[1;35m \u001b[0m\u001b[1;35m('validation…\u001b[0m\u001b[1;35m \u001b[0m┃\u001b[1;35m \u001b[0m\u001b[1;35m('validation…\u001b[0m\u001b[1;35m \u001b[0m┃\u001b[1;35m \u001b[0m\u001b[1;35m('validation/…\u001b[0m\u001b[1;35m \u001b[0m┃\u001b[1;35m \u001b[0m\u001b[1;35m('validation…\u001b[0m\u001b[1;35m \u001b[0m┃\u001b[1;35m \u001b[0m\u001b[1;35m('validation/…\u001b[0m\u001b[1;35m \u001b[0m┃\u001b[1;35m \u001b[0m\u001b[1;35m('validation…\u001b[0m\u001b[1;35m \u001b[0m┃\n",
       "┃┃\u001b[1;35m \u001b[0m\u001b[1;35m'count')     \u001b[0m\u001b[1;35m \u001b[0m┃\u001b[1;35m \u001b[0m\u001b[1;35m'mean')      \u001b[0m\u001b[1;35m \u001b[0m┃\u001b[1;35m \u001b[0m\u001b[1;35m'std')        \u001b[0m\u001b[1;35m \u001b[0m┃\u001b[1;35m \u001b[0m\u001b[1;35m'count')     \u001b[0m\u001b[1;35m \u001b[0m┃\u001b[1;35m \u001b[0m\u001b[1;35m'mean')       \u001b[0m\u001b[1;35m \u001b[0m┃\u001b[1;35m \u001b[0m\u001b[1;35m'std')       \u001b[0m\u001b[1;35m \u001b[0m┃\n",
       "┡╇━━━━━━━━━━━━━━━╇━━━━━━━━━━━━━━━╇━━━━━━━━━━━━━━━━╇━━━━━━━━━━━━━━━╇━━━━━━━━━━━━━━━━╇━━━━━━━━━━━━━━━┩\n",
       "││ 2.0           │ 37.397850990… │ 17.1194416018… │ 2.0           │ 61.2371078431… │ 27.911380756… │\n",
       "││ 3.0           │ 56.917188008… │ 0.08307302989… │ 3.0           │ 86.7546869913… │ 0.0614937653… │\n",
       "││ 1.0           │ 46.09765625   │ nan            │ 1.0           │ 78.0890655517… │ nan           │\n",
       "││ 3.0           │ 53.388020833… │ 0.26950464237… │ 3.0           │ 84.1601587931… │ 0.1666875691… │\n",
       "││ 0.0           │ nan           │ nan            │ 0.0           │ nan            │ nan           │\n",
       "││ 3.0           │ 52.001823425… │ 3.19403768759… │ 3.0           │ 83.1333338419… │ 2.5847618533… │\n",
       "││ 3.0           │ 56.981510162… │ 0.14570601651… │ 3.0           │ 86.8052088419… │ 0.0875599655… │\n",
       "││ 3.0           │ 52.899478912… │ 0.65693960408… │ 3.0           │ 83.8195292154… │ 0.4148923137… │\n",
       "││ 3.0           │ 47.639321645… │ 1.17272069729… │ 3.0           │ 79.0809911092… │ 1.0119819703… │\n",
       "││ 2.0           │ 37.896484375  │ 1.65783178766… │ 2.0           │ 69.9308586120… │ 1.8942695386… │\n",
       "││ 2.0           │ 56.773826599… │ 0.18506310288… │ 2.0           │ 86.5910186767… │ 0.0138106793… │\n",
       "└┴───────────────┴───────────────┴────────────────┴───────────────┴────────────────┴───────────────┘\n"
      ]
     },
     "metadata": {},
     "output_type": "display_data"
    },
    {
     "data": {
      "text/html": [
       "<pre style=\"white-space:pre;overflow-x:auto;line-height:normal;font-family:Menlo,'DejaVu Sans Mono',consolas,'Courier New',monospace\">Task: stl10\n",
       "</pre>\n"
      ],
      "text/plain": [
       "Task: stl10\n"
      ]
     },
     "metadata": {},
     "output_type": "display_data"
    },
    {
     "data": {
      "text/html": [
       "<pre style=\"white-space:pre;overflow-x:auto;line-height:normal;font-family:Menlo,'DejaVu Sans Mono',consolas,'Courier New',monospace\">┏┳━━━━━━━━━━━━━━━┳━━━━━━━━━━━━━━━┳━━━━━━━━━━━━━━━━┳━━━━━━━━━━━━━━━┳━━━━━━━━━━━━━━━━┳━━━━━━━━━━━━━━━┓\n",
       "┃<span style=\"color: #800080; text-decoration-color: #800080; font-weight: bold\"></span>┃<span style=\"color: #800080; text-decoration-color: #800080; font-weight: bold\"> ('validation… </span>┃<span style=\"color: #800080; text-decoration-color: #800080; font-weight: bold\"> ('validation… </span>┃<span style=\"color: #800080; text-decoration-color: #800080; font-weight: bold\"> ('validation/… </span>┃<span style=\"color: #800080; text-decoration-color: #800080; font-weight: bold\"> ('validation… </span>┃<span style=\"color: #800080; text-decoration-color: #800080; font-weight: bold\"> ('validation/… </span>┃<span style=\"color: #800080; text-decoration-color: #800080; font-weight: bold\"> ('validation… </span>┃\n",
       "┃<span style=\"color: #800080; text-decoration-color: #800080; font-weight: bold\"></span>┃<span style=\"color: #800080; text-decoration-color: #800080; font-weight: bold\"> 'count')      </span>┃<span style=\"color: #800080; text-decoration-color: #800080; font-weight: bold\"> 'mean')       </span>┃<span style=\"color: #800080; text-decoration-color: #800080; font-weight: bold\"> 'std')         </span>┃<span style=\"color: #800080; text-decoration-color: #800080; font-weight: bold\"> 'count')      </span>┃<span style=\"color: #800080; text-decoration-color: #800080; font-weight: bold\"> 'mean')        </span>┃<span style=\"color: #800080; text-decoration-color: #800080; font-weight: bold\"> 'std')        </span>┃\n",
       "┡╇━━━━━━━━━━━━━━━╇━━━━━━━━━━━━━━━╇━━━━━━━━━━━━━━━━╇━━━━━━━━━━━━━━━╇━━━━━━━━━━━━━━━━╇━━━━━━━━━━━━━━━┩\n",
       "││ 3.0           │ 93.877962748… │ 0.29763216692… │ 3.0           │ 99.7395833333… │ 0.1127637244… │\n",
       "││ 3.0           │ 97.434000651… │ 0.72665085135… │ 3.0           │ 99.8697916666… │ 0.1127637244… │\n",
       "││ 3.0           │ 97.766255696… │ 0.29235581388… │ 3.0           │ 99.8046875     │ 0.0           │\n",
       "││ 3.0           │ 94.234911600… │ 0.37383187049… │ 3.0           │ 99.7395833333… │ 0.2983447718… │\n",
       "││ 3.0           │ 86.907328287… │ 0.34056441928… │ 3.0           │ 99.1267089843… │ 0.2963619001… │\n",
       "││ 3.0           │ 98.4375       │ 0.33829117335… │ 3.0           │ 99.8046875     │ 0.0           │\n",
       "││ 3.0           │ 95.629038492… │ 0.17549424058… │ 3.0           │ 99.8046875     │ 0.1953125     │\n",
       "││ 3.0           │ 89.634969075… │ 0.93058912025… │ 3.0           │ 99.4140625     │ 0.1953125     │\n",
       "││ 3.0           │ 83.113324483… │ 17.1459903125… │ 3.0           │ 97.4070587158… │ 3.6289384822… │\n",
       "││ 3.0           │ 88.319414774… │ 0.61639605618… │ 3.0           │ 98.8079198201… │ 0.5292376867… │\n",
       "││ 3.0           │ 79.034212748… │ 2.94576665256… │ 3.0           │ 98.0715713500… │ 0.4686620512… │\n",
       "││ 3.0           │ 96.313758850… │ 0.69478779466… │ 3.0           │ 99.9348958333… │ 0.1127637244… │\n",
       "││ 3.0           │ 44.498697916… │ 0.13216354592… │ 3.0           │ 85.8218841552… │ 1.6862895530… │\n",
       "└┴───────────────┴───────────────┴────────────────┴───────────────┴────────────────┴───────────────┘\n",
       "</pre>\n"
      ],
      "text/plain": [
       "┏┳━━━━━━━━━━━━━━━┳━━━━━━━━━━━━━━━┳━━━━━━━━━━━━━━━━┳━━━━━━━━━━━━━━━┳━━━━━━━━━━━━━━━━┳━━━━━━━━━━━━━━━┓\n",
       "┃┃\u001b[1;35m \u001b[0m\u001b[1;35m('validation…\u001b[0m\u001b[1;35m \u001b[0m┃\u001b[1;35m \u001b[0m\u001b[1;35m('validation…\u001b[0m\u001b[1;35m \u001b[0m┃\u001b[1;35m \u001b[0m\u001b[1;35m('validation/…\u001b[0m\u001b[1;35m \u001b[0m┃\u001b[1;35m \u001b[0m\u001b[1;35m('validation…\u001b[0m\u001b[1;35m \u001b[0m┃\u001b[1;35m \u001b[0m\u001b[1;35m('validation/…\u001b[0m\u001b[1;35m \u001b[0m┃\u001b[1;35m \u001b[0m\u001b[1;35m('validation…\u001b[0m\u001b[1;35m \u001b[0m┃\n",
       "┃┃\u001b[1;35m \u001b[0m\u001b[1;35m'count')     \u001b[0m\u001b[1;35m \u001b[0m┃\u001b[1;35m \u001b[0m\u001b[1;35m'mean')      \u001b[0m\u001b[1;35m \u001b[0m┃\u001b[1;35m \u001b[0m\u001b[1;35m'std')        \u001b[0m\u001b[1;35m \u001b[0m┃\u001b[1;35m \u001b[0m\u001b[1;35m'count')     \u001b[0m\u001b[1;35m \u001b[0m┃\u001b[1;35m \u001b[0m\u001b[1;35m'mean')       \u001b[0m\u001b[1;35m \u001b[0m┃\u001b[1;35m \u001b[0m\u001b[1;35m'std')       \u001b[0m\u001b[1;35m \u001b[0m┃\n",
       "┡╇━━━━━━━━━━━━━━━╇━━━━━━━━━━━━━━━╇━━━━━━━━━━━━━━━━╇━━━━━━━━━━━━━━━╇━━━━━━━━━━━━━━━━╇━━━━━━━━━━━━━━━┩\n",
       "││ 3.0           │ 93.877962748… │ 0.29763216692… │ 3.0           │ 99.7395833333… │ 0.1127637244… │\n",
       "││ 3.0           │ 97.434000651… │ 0.72665085135… │ 3.0           │ 99.8697916666… │ 0.1127637244… │\n",
       "││ 3.0           │ 97.766255696… │ 0.29235581388… │ 3.0           │ 99.8046875     │ 0.0           │\n",
       "││ 3.0           │ 94.234911600… │ 0.37383187049… │ 3.0           │ 99.7395833333… │ 0.2983447718… │\n",
       "││ 3.0           │ 86.907328287… │ 0.34056441928… │ 3.0           │ 99.1267089843… │ 0.2963619001… │\n",
       "││ 3.0           │ 98.4375       │ 0.33829117335… │ 3.0           │ 99.8046875     │ 0.0           │\n",
       "││ 3.0           │ 95.629038492… │ 0.17549424058… │ 3.0           │ 99.8046875     │ 0.1953125     │\n",
       "││ 3.0           │ 89.634969075… │ 0.93058912025… │ 3.0           │ 99.4140625     │ 0.1953125     │\n",
       "││ 3.0           │ 83.113324483… │ 17.1459903125… │ 3.0           │ 97.4070587158… │ 3.6289384822… │\n",
       "││ 3.0           │ 88.319414774… │ 0.61639605618… │ 3.0           │ 98.8079198201… │ 0.5292376867… │\n",
       "││ 3.0           │ 79.034212748… │ 2.94576665256… │ 3.0           │ 98.0715713500… │ 0.4686620512… │\n",
       "││ 3.0           │ 96.313758850… │ 0.69478779466… │ 3.0           │ 99.9348958333… │ 0.1127637244… │\n",
       "││ 3.0           │ 44.498697916… │ 0.13216354592… │ 3.0           │ 85.8218841552… │ 1.6862895530… │\n",
       "└┴───────────────┴───────────────┴────────────────┴───────────────┴────────────────┴───────────────┘\n"
      ]
     },
     "metadata": {},
     "output_type": "display_data"
    },
    {
     "data": {
      "text/html": [
       "<pre style=\"white-space:pre;overflow-x:auto;line-height:normal;font-family:Menlo,'DejaVu Sans Mono',consolas,'Courier New',monospace\">Task: svhn\n",
       "</pre>\n"
      ],
      "text/plain": [
       "Task: svhn\n"
      ]
     },
     "metadata": {},
     "output_type": "display_data"
    },
    {
     "data": {
      "text/html": [
       "<pre style=\"white-space:pre;overflow-x:auto;line-height:normal;font-family:Menlo,'DejaVu Sans Mono',consolas,'Courier New',monospace\">┏┳━━━━━━━━━━━━━━━┳━━━━━━━━━━━━━━━┳━━━━━━━━━━━━━━━━┳━━━━━━━━━━━━━━━┳━━━━━━━━━━━━━━━━┳━━━━━━━━━━━━━━━┓\n",
       "┃<span style=\"color: #800080; text-decoration-color: #800080; font-weight: bold\"></span>┃<span style=\"color: #800080; text-decoration-color: #800080; font-weight: bold\"> ('validation… </span>┃<span style=\"color: #800080; text-decoration-color: #800080; font-weight: bold\"> ('validation… </span>┃<span style=\"color: #800080; text-decoration-color: #800080; font-weight: bold\"> ('validation/… </span>┃<span style=\"color: #800080; text-decoration-color: #800080; font-weight: bold\"> ('validation… </span>┃<span style=\"color: #800080; text-decoration-color: #800080; font-weight: bold\"> ('validation/… </span>┃<span style=\"color: #800080; text-decoration-color: #800080; font-weight: bold\"> ('validation… </span>┃\n",
       "┃<span style=\"color: #800080; text-decoration-color: #800080; font-weight: bold\"></span>┃<span style=\"color: #800080; text-decoration-color: #800080; font-weight: bold\"> 'count')      </span>┃<span style=\"color: #800080; text-decoration-color: #800080; font-weight: bold\"> 'mean')       </span>┃<span style=\"color: #800080; text-decoration-color: #800080; font-weight: bold\"> 'std')         </span>┃<span style=\"color: #800080; text-decoration-color: #800080; font-weight: bold\"> 'count')      </span>┃<span style=\"color: #800080; text-decoration-color: #800080; font-weight: bold\"> 'mean')        </span>┃<span style=\"color: #800080; text-decoration-color: #800080; font-weight: bold\"> 'std')        </span>┃\n",
       "┡╇━━━━━━━━━━━━━━━╇━━━━━━━━━━━━━━━╇━━━━━━━━━━━━━━━━╇━━━━━━━━━━━━━━━╇━━━━━━━━━━━━━━━━╇━━━━━━━━━━━━━━━┩\n",
       "││ 3.0           │ 98.868532816… │ 0.16877663437… │ 3.0           │ 99.8069330851… │ 0.0741834542… │\n",
       "││ 3.0           │ 99.317529042… │ 0.25202566670… │ 3.0           │ 99.9102007548… │ 0.0077778340… │\n",
       "││ 3.0           │ 99.250179290… │ 0.24107871176… │ 3.0           │ 99.8877487182… │ 0.0411506011… │\n",
       "││ 3.0           │ 99.030171712… │ 0.65546808909… │ 3.0           │ 99.9012196858… │ 0.0664457216… │\n",
       "││ 3.0           │ 87.871765136… │ 16.7365555401… │ 3.0           │ 98.3375218709… │ 2.2624497379… │\n",
       "││ 2.0           │ 99.353448867… │ 0.01905172422… │ 2.0           │ 99.8855056762… │ 0.0095272108… │\n",
       "││ 3.0           │ 99.479166666… │ 0.12443212703… │ 3.0           │ 99.9191792805… │ 0.0134696962… │\n",
       "││ 3.0           │ 99.185076395… │ 0.08807262885… │ 3.0           │ 99.8810157775… │ 0.0254992345… │\n",
       "││ 2.0           │ 98.895473480… │ 0.74292283587… │ 2.0           │ 99.8720359802… │ 0.0285762376… │\n",
       "││ 3.0           │ 98.917922973… │ 0.12731060009… │ 3.0           │ 99.7755025227… │ 0.0339000127… │\n",
       "││ 3.0           │ 99.160380045… │ 0.10462736537… │ 3.0           │ 99.8742802937… │ 0.0338959706… │\n",
       "││ 3.0           │ 99.461207071… │ 0.14062994758… │ 3.0           │ 99.8832600911… │ 0.0509967896… │\n",
       "││ 2.0           │ 97.836296081… │ 0.73593657426… │ 2.0           │ 99.6767234802… │ 0.0190490268… │\n",
       "└┴───────────────┴───────────────┴────────────────┴───────────────┴────────────────┴───────────────┘\n",
       "</pre>\n"
      ],
      "text/plain": [
       "┏┳━━━━━━━━━━━━━━━┳━━━━━━━━━━━━━━━┳━━━━━━━━━━━━━━━━┳━━━━━━━━━━━━━━━┳━━━━━━━━━━━━━━━━┳━━━━━━━━━━━━━━━┓\n",
       "┃┃\u001b[1;35m \u001b[0m\u001b[1;35m('validation…\u001b[0m\u001b[1;35m \u001b[0m┃\u001b[1;35m \u001b[0m\u001b[1;35m('validation…\u001b[0m\u001b[1;35m \u001b[0m┃\u001b[1;35m \u001b[0m\u001b[1;35m('validation/…\u001b[0m\u001b[1;35m \u001b[0m┃\u001b[1;35m \u001b[0m\u001b[1;35m('validation…\u001b[0m\u001b[1;35m \u001b[0m┃\u001b[1;35m \u001b[0m\u001b[1;35m('validation/…\u001b[0m\u001b[1;35m \u001b[0m┃\u001b[1;35m \u001b[0m\u001b[1;35m('validation…\u001b[0m\u001b[1;35m \u001b[0m┃\n",
       "┃┃\u001b[1;35m \u001b[0m\u001b[1;35m'count')     \u001b[0m\u001b[1;35m \u001b[0m┃\u001b[1;35m \u001b[0m\u001b[1;35m'mean')      \u001b[0m\u001b[1;35m \u001b[0m┃\u001b[1;35m \u001b[0m\u001b[1;35m'std')        \u001b[0m\u001b[1;35m \u001b[0m┃\u001b[1;35m \u001b[0m\u001b[1;35m'count')     \u001b[0m\u001b[1;35m \u001b[0m┃\u001b[1;35m \u001b[0m\u001b[1;35m'mean')       \u001b[0m\u001b[1;35m \u001b[0m┃\u001b[1;35m \u001b[0m\u001b[1;35m'std')       \u001b[0m\u001b[1;35m \u001b[0m┃\n",
       "┡╇━━━━━━━━━━━━━━━╇━━━━━━━━━━━━━━━╇━━━━━━━━━━━━━━━━╇━━━━━━━━━━━━━━━╇━━━━━━━━━━━━━━━━╇━━━━━━━━━━━━━━━┩\n",
       "││ 3.0           │ 98.868532816… │ 0.16877663437… │ 3.0           │ 99.8069330851… │ 0.0741834542… │\n",
       "││ 3.0           │ 99.317529042… │ 0.25202566670… │ 3.0           │ 99.9102007548… │ 0.0077778340… │\n",
       "││ 3.0           │ 99.250179290… │ 0.24107871176… │ 3.0           │ 99.8877487182… │ 0.0411506011… │\n",
       "││ 3.0           │ 99.030171712… │ 0.65546808909… │ 3.0           │ 99.9012196858… │ 0.0664457216… │\n",
       "││ 3.0           │ 87.871765136… │ 16.7365555401… │ 3.0           │ 98.3375218709… │ 2.2624497379… │\n",
       "││ 2.0           │ 99.353448867… │ 0.01905172422… │ 2.0           │ 99.8855056762… │ 0.0095272108… │\n",
       "││ 3.0           │ 99.479166666… │ 0.12443212703… │ 3.0           │ 99.9191792805… │ 0.0134696962… │\n",
       "││ 3.0           │ 99.185076395… │ 0.08807262885… │ 3.0           │ 99.8810157775… │ 0.0254992345… │\n",
       "││ 2.0           │ 98.895473480… │ 0.74292283587… │ 2.0           │ 99.8720359802… │ 0.0285762376… │\n",
       "││ 3.0           │ 98.917922973… │ 0.12731060009… │ 3.0           │ 99.7755025227… │ 0.0339000127… │\n",
       "││ 3.0           │ 99.160380045… │ 0.10462736537… │ 3.0           │ 99.8742802937… │ 0.0338959706… │\n",
       "││ 3.0           │ 99.461207071… │ 0.14062994758… │ 3.0           │ 99.8832600911… │ 0.0509967896… │\n",
       "││ 2.0           │ 97.836296081… │ 0.73593657426… │ 2.0           │ 99.6767234802… │ 0.0190490268… │\n",
       "└┴───────────────┴───────────────┴────────────────┴───────────────┴────────────────┴───────────────┘\n"
      ]
     },
     "metadata": {},
     "output_type": "display_data"
    }
   ],
   "source": [
    "from rich.console import Console\n",
    "from rich.table import Table\n",
    "\n",
    "console = Console(width=100)\n",
    "\n",
    "\n",
    "def print_rich_table(df: pd.DataFrame, task: str):\n",
    "    # Create a new table\n",
    "    table = Table(show_header=True, header_style=\"bold magenta\")\n",
    "\n",
    "    # Add columns\n",
    "    table.add_column(\"Name\")\n",
    "    for col in df.columns:\n",
    "        table.add_column(str(col), width=50)\n",
    "\n",
    "    # Add rows\n",
    "    for index, row in df.iterrows():\n",
    "        table.add_row(str(index), *[str(v) for v in row])\n",
    "\n",
    "    # Print the table\n",
    "    console.print(f\"Task: {task}\")\n",
    "    console.print(table, width=100)\n",
    "\n",
    "\n",
    "# Pivot the data\n",
    "for task in df.index.get_level_values(\"Task\").unique():\n",
    "    pivot_df = df.loc[task].pivot_table(\n",
    "        index=\"Name\",\n",
    "        values=[\n",
    "            \"validation/accuracy_top_1-epoch-mean\",\n",
    "            \"validation/accuracy_top_5-epoch-mean\",\n",
    "        ],\n",
    "        aggfunc=[\"mean\", \"std\", \"count\"],\n",
    "    )\n",
    "    # Print the table\n",
    "    print_rich_table(pivot_df, task)"
   ]
  }
 ],
 "metadata": {
  "kernelspec": {
   "display_name": "base",
   "language": "python",
   "name": "python3"
  },
  "language_info": {
   "codemirror_mode": {
    "name": "ipython",
    "version": 3
   },
   "file_extension": ".py",
   "mimetype": "text/x-python",
   "name": "python",
   "nbconvert_exporter": "python",
   "pygments_lexer": "ipython3",
   "version": "3.10.10"
  },
  "orig_nbformat": 4
 },
 "nbformat": 4,
 "nbformat_minor": 2
}
