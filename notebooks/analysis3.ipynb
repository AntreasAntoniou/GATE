{
 "cells": [
  {
   "cell_type": "code",
   "execution_count": 1536,
   "metadata": {},
   "outputs": [],
   "source": [
    "import numpy as np\n",
    "import pandas as pd\n",
    "import matplotlib.pyplot as plt\n",
    "import seaborn as sns\n",
    "\n",
    "# Load your dataset\n",
    "data = pd.read_csv('/Users/antreasantoniou/Work/forge/GATE/notebooks/gate-nn-evolve-0.csv')"
   ]
  },
  {
   "cell_type": "code",
   "execution_count": 1537,
   "metadata": {},
   "outputs": [
    {
     "data": {
      "text/html": [
       "<div>\n",
       "<style scoped>\n",
       "    .dataframe tbody tr th:only-of-type {\n",
       "        vertical-align: middle;\n",
       "    }\n",
       "\n",
       "    .dataframe tbody tr th {\n",
       "        vertical-align: top;\n",
       "    }\n",
       "\n",
       "    .dataframe thead th {\n",
       "        text-align: right;\n",
       "    }\n",
       "</style>\n",
       "<table border=\"1\" class=\"dataframe\">\n",
       "  <thead>\n",
       "    <tr style=\"text-align: right;\">\n",
       "      <th></th>\n",
       "      <th>Name</th>\n",
       "      <th>mean_score</th>\n",
       "      <th>max_score</th>\n",
       "      <th>min_score</th>\n",
       "      <th>std_score</th>\n",
       "    </tr>\n",
       "  </thead>\n",
       "  <tbody>\n",
       "    <tr>\n",
       "      <th>0</th>\n",
       "      <td>1</td>\n",
       "      <td>1.058165</td>\n",
       "      <td>2.532485</td>\n",
       "      <td>0.615151</td>\n",
       "      <td>0.359992</td>\n",
       "    </tr>\n",
       "    <tr>\n",
       "      <th>1</th>\n",
       "      <td>2</td>\n",
       "      <td>0.509159</td>\n",
       "      <td>0.542741</td>\n",
       "      <td>0.440843</td>\n",
       "      <td>0.027338</td>\n",
       "    </tr>\n",
       "    <tr>\n",
       "      <th>2</th>\n",
       "      <td>3</td>\n",
       "      <td>0.389367</td>\n",
       "      <td>0.411305</td>\n",
       "      <td>0.350041</td>\n",
       "      <td>0.018272</td>\n",
       "    </tr>\n",
       "    <tr>\n",
       "      <th>3</th>\n",
       "      <td>4</td>\n",
       "      <td>0.357962</td>\n",
       "      <td>0.368967</td>\n",
       "      <td>0.338223</td>\n",
       "      <td>0.008213</td>\n",
       "    </tr>\n",
       "    <tr>\n",
       "      <th>4</th>\n",
       "      <td>5</td>\n",
       "      <td>0.356425</td>\n",
       "      <td>0.367420</td>\n",
       "      <td>0.338151</td>\n",
       "      <td>0.008299</td>\n",
       "    </tr>\n",
       "    <tr>\n",
       "      <th>6</th>\n",
       "      <td>6</td>\n",
       "      <td>0.348367</td>\n",
       "      <td>0.357971</td>\n",
       "      <td>0.325150</td>\n",
       "      <td>0.007828</td>\n",
       "    </tr>\n",
       "    <tr>\n",
       "      <th>5</th>\n",
       "      <td>7</td>\n",
       "      <td>0.350680</td>\n",
       "      <td>0.357866</td>\n",
       "      <td>0.332963</td>\n",
       "      <td>0.006713</td>\n",
       "    </tr>\n",
       "    <tr>\n",
       "      <th>7</th>\n",
       "      <td>8</td>\n",
       "      <td>0.347287</td>\n",
       "      <td>0.354208</td>\n",
       "      <td>0.333988</td>\n",
       "      <td>0.005556</td>\n",
       "    </tr>\n",
       "    <tr>\n",
       "      <th>8</th>\n",
       "      <td>9</td>\n",
       "      <td>0.345444</td>\n",
       "      <td>0.351014</td>\n",
       "      <td>0.325182</td>\n",
       "      <td>0.004335</td>\n",
       "    </tr>\n",
       "    <tr>\n",
       "      <th>9</th>\n",
       "      <td>10</td>\n",
       "      <td>0.339617</td>\n",
       "      <td>0.346127</td>\n",
       "      <td>0.315498</td>\n",
       "      <td>0.006003</td>\n",
       "    </tr>\n",
       "    <tr>\n",
       "      <th>11</th>\n",
       "      <td>11</td>\n",
       "      <td>0.330422</td>\n",
       "      <td>0.337606</td>\n",
       "      <td>0.307617</td>\n",
       "      <td>0.005652</td>\n",
       "    </tr>\n",
       "    <tr>\n",
       "      <th>10</th>\n",
       "      <td>12</td>\n",
       "      <td>0.333959</td>\n",
       "      <td>0.339044</td>\n",
       "      <td>0.320945</td>\n",
       "      <td>0.004165</td>\n",
       "    </tr>\n",
       "    <tr>\n",
       "      <th>13</th>\n",
       "      <td>13</td>\n",
       "      <td>0.325273</td>\n",
       "      <td>0.331726</td>\n",
       "      <td>0.309345</td>\n",
       "      <td>0.005654</td>\n",
       "    </tr>\n",
       "    <tr>\n",
       "      <th>15</th>\n",
       "      <td>14</td>\n",
       "      <td>0.321126</td>\n",
       "      <td>0.325049</td>\n",
       "      <td>0.311285</td>\n",
       "      <td>0.003192</td>\n",
       "    </tr>\n",
       "    <tr>\n",
       "      <th>14</th>\n",
       "      <td>15</td>\n",
       "      <td>0.323043</td>\n",
       "      <td>0.328096</td>\n",
       "      <td>0.306859</td>\n",
       "      <td>0.004744</td>\n",
       "    </tr>\n",
       "    <tr>\n",
       "      <th>17</th>\n",
       "      <td>16</td>\n",
       "      <td>0.319681</td>\n",
       "      <td>0.323908</td>\n",
       "      <td>0.308116</td>\n",
       "      <td>0.003369</td>\n",
       "    </tr>\n",
       "    <tr>\n",
       "      <th>19</th>\n",
       "      <td>17</td>\n",
       "      <td>0.315915</td>\n",
       "      <td>0.320459</td>\n",
       "      <td>0.309072</td>\n",
       "      <td>0.003345</td>\n",
       "    </tr>\n",
       "    <tr>\n",
       "      <th>20</th>\n",
       "      <td>18</td>\n",
       "      <td>0.313033</td>\n",
       "      <td>0.317446</td>\n",
       "      <td>0.298832</td>\n",
       "      <td>0.004107</td>\n",
       "    </tr>\n",
       "    <tr>\n",
       "      <th>24</th>\n",
       "      <td>19</td>\n",
       "      <td>0.311948</td>\n",
       "      <td>0.316633</td>\n",
       "      <td>0.303847</td>\n",
       "      <td>0.003414</td>\n",
       "    </tr>\n",
       "    <tr>\n",
       "      <th>26</th>\n",
       "      <td>20</td>\n",
       "      <td>0.310352</td>\n",
       "      <td>0.315488</td>\n",
       "      <td>0.299647</td>\n",
       "      <td>0.003897</td>\n",
       "    </tr>\n",
       "    <tr>\n",
       "      <th>25</th>\n",
       "      <td>21</td>\n",
       "      <td>0.311018</td>\n",
       "      <td>0.315400</td>\n",
       "      <td>0.300013</td>\n",
       "      <td>0.003557</td>\n",
       "    </tr>\n",
       "    <tr>\n",
       "      <th>28</th>\n",
       "      <td>22</td>\n",
       "      <td>0.309789</td>\n",
       "      <td>0.314013</td>\n",
       "      <td>0.298774</td>\n",
       "      <td>0.003896</td>\n",
       "    </tr>\n",
       "    <tr>\n",
       "      <th>29</th>\n",
       "      <td>23</td>\n",
       "      <td>0.309729</td>\n",
       "      <td>0.314965</td>\n",
       "      <td>0.297188</td>\n",
       "      <td>0.004082</td>\n",
       "    </tr>\n",
       "    <tr>\n",
       "      <th>23</th>\n",
       "      <td>24</td>\n",
       "      <td>0.312022</td>\n",
       "      <td>0.316968</td>\n",
       "      <td>0.303610</td>\n",
       "      <td>0.003825</td>\n",
       "    </tr>\n",
       "    <tr>\n",
       "      <th>27</th>\n",
       "      <td>25</td>\n",
       "      <td>0.309950</td>\n",
       "      <td>0.315105</td>\n",
       "      <td>0.298914</td>\n",
       "      <td>0.004337</td>\n",
       "    </tr>\n",
       "    <tr>\n",
       "      <th>22</th>\n",
       "      <td>26</td>\n",
       "      <td>0.312182</td>\n",
       "      <td>0.317106</td>\n",
       "      <td>0.300891</td>\n",
       "      <td>0.003906</td>\n",
       "    </tr>\n",
       "    <tr>\n",
       "      <th>21</th>\n",
       "      <td>27</td>\n",
       "      <td>0.312198</td>\n",
       "      <td>0.316340</td>\n",
       "      <td>0.298205</td>\n",
       "      <td>0.003739</td>\n",
       "    </tr>\n",
       "    <tr>\n",
       "      <th>18</th>\n",
       "      <td>28</td>\n",
       "      <td>0.316479</td>\n",
       "      <td>0.321655</td>\n",
       "      <td>0.297156</td>\n",
       "      <td>0.005083</td>\n",
       "    </tr>\n",
       "    <tr>\n",
       "      <th>12</th>\n",
       "      <td>29</td>\n",
       "      <td>0.330377</td>\n",
       "      <td>0.349362</td>\n",
       "      <td>0.314572</td>\n",
       "      <td>0.010215</td>\n",
       "    </tr>\n",
       "    <tr>\n",
       "      <th>16</th>\n",
       "      <td>30</td>\n",
       "      <td>0.320341</td>\n",
       "      <td>0.320341</td>\n",
       "      <td>0.320341</td>\n",
       "      <td>0.000000</td>\n",
       "    </tr>\n",
       "  </tbody>\n",
       "</table>\n",
       "</div>"
      ],
      "text/plain": [
       "    Name  mean_score  max_score  min_score  std_score\n",
       "0      1    1.058165   2.532485   0.615151   0.359992\n",
       "1      2    0.509159   0.542741   0.440843   0.027338\n",
       "2      3    0.389367   0.411305   0.350041   0.018272\n",
       "3      4    0.357962   0.368967   0.338223   0.008213\n",
       "4      5    0.356425   0.367420   0.338151   0.008299\n",
       "6      6    0.348367   0.357971   0.325150   0.007828\n",
       "5      7    0.350680   0.357866   0.332963   0.006713\n",
       "7      8    0.347287   0.354208   0.333988   0.005556\n",
       "8      9    0.345444   0.351014   0.325182   0.004335\n",
       "9     10    0.339617   0.346127   0.315498   0.006003\n",
       "11    11    0.330422   0.337606   0.307617   0.005652\n",
       "10    12    0.333959   0.339044   0.320945   0.004165\n",
       "13    13    0.325273   0.331726   0.309345   0.005654\n",
       "15    14    0.321126   0.325049   0.311285   0.003192\n",
       "14    15    0.323043   0.328096   0.306859   0.004744\n",
       "17    16    0.319681   0.323908   0.308116   0.003369\n",
       "19    17    0.315915   0.320459   0.309072   0.003345\n",
       "20    18    0.313033   0.317446   0.298832   0.004107\n",
       "24    19    0.311948   0.316633   0.303847   0.003414\n",
       "26    20    0.310352   0.315488   0.299647   0.003897\n",
       "25    21    0.311018   0.315400   0.300013   0.003557\n",
       "28    22    0.309789   0.314013   0.298774   0.003896\n",
       "29    23    0.309729   0.314965   0.297188   0.004082\n",
       "23    24    0.312022   0.316968   0.303610   0.003825\n",
       "27    25    0.309950   0.315105   0.298914   0.004337\n",
       "22    26    0.312182   0.317106   0.300891   0.003906\n",
       "21    27    0.312198   0.316340   0.298205   0.003739\n",
       "18    28    0.316479   0.321655   0.297156   0.005083\n",
       "12    29    0.330377   0.349362   0.314572   0.010215\n",
       "16    30    0.320341   0.320341   0.320341   0.000000"
      ]
     },
     "metadata": {},
     "output_type": "display_data"
    }
   ],
   "source": [
    "def display_custom(df):\n",
    "    # visualize using tabulate for ipython noteboooks\n",
    "    from IPython.display import display\n",
    "\n",
    "    # Assuming df is your DataFrame\n",
    "    with pd.option_context(\"display.max_rows\", None, \"display.max_columns\", None):\n",
    "        display(\n",
    "            df\n",
    "        )\n",
    "\n",
    "data[\"Name\"] = data[\"Name\"].str.replace(\"gate-evolve-nn-k=\", \"\")\n",
    "# set name to int and then sort\n",
    "data[\"Name\"] = data[\"Name\"].astype(int)\n",
    "data = data.sort_values(by=\"Name\")\n",
    "display_custom(data)"
   ]
  },
  {
   "cell_type": "code",
   "execution_count": 1538,
   "metadata": {},
   "outputs": [
    {
     "data": {
      "image/png": "[encoded data removed]",
      "text/plain": [
       "<Figure size 640x480 with 1 Axes>"
      ]
     },
     "metadata": {},
     "output_type": "display_data"
    }
   ],
   "source": [
    "# Initialize a DataFrame to store the simulated data\n",
    "sim_data = pd.DataFrame()\n",
    "\n",
    "# For each row in the data, simulate a dataset and add it to sim_data\n",
    "for idx, row in data.iterrows():\n",
    "    # Use the normal distribution to simulate data\n",
    "    if int(row[\"Name\"]) > 0:\n",
    "        simulated = np.random.normal(loc=row['mean_score'], scale=row['std_score'], size=1000)\n",
    "        # Clip the simulated data at the min and max values\n",
    "        simulated = np.clip(simulated, row['min_score'], row['max_score'])\n",
    "        # Add the simulated data to the DataFrame\n",
    "        sim_data[str(row['Name'])] = pd.Series(simulated)\n",
    "\n",
    "# Plot a boxplot of the simulated data\n",
    "# plt.figure(figsize=(10,6))\n",
    "sns.boxplot(data=sim_data)\n",
    "plt.xlabel('Name')\n",
    "plt.ylabel('Score')\n",
    "plt.yscale('log')\n",
    "plt.show()\n"
   ]
  },
  {
   "cell_type": "code",
   "execution_count": 1539,
   "metadata": {},
   "outputs": [
    {
     "data": {
      "application/vnd.plotly.v1+json": {
       "config": {
        "plotlyServerURL": "https://plot.ly"
       },
       "data": [
        {
         "boxpoints": false,
         "line": {
          "width": 2
         },
         "name": "1",
         "type": "box",
         "xaxis": "x",
         "y": [
          0.615150511264801,
          0.6981726288795471,
          1.0581649541854858,
          1.4181572794914246,
          2.532485008239746
         ],
         "yaxis": "y"
        },
        {
         "boxpoints": false,
         "line": {
          "width": 2
         },
         "name": "2",
         "type": "box",
         "xaxis": "x",
         "y": [
          0.4408431053161621,
          0.48182065039873134,
          0.5091588497161865,
          0.5364970490336417,
          0.5427407026290894
         ],
         "yaxis": "y"
        },
        {
         "boxpoints": false,
         "line": {
          "width": 2
         },
         "name": "3",
         "type": "box",
         "xaxis": "x2",
         "y": [
          0.3500409424304962,
          0.3710955288261175,
          0.3893670737743377,
          0.4076386187225579,
          0.4113051295280456
         ],
         "yaxis": "y2"
        },
        {
         "boxpoints": false,
         "line": {
          "width": 2
         },
         "name": "4",
         "type": "box",
         "xaxis": "x2",
         "y": [
          0.3382227420806885,
          0.3497487949207425,
          0.3579621016979217,
          0.3661754084751009,
          0.3689666390419006
         ],
         "yaxis": "y2"
        },
        {
         "boxpoints": false,
         "line": {
          "width": 2
         },
         "name": "5",
         "type": "box",
         "xaxis": "x2",
         "y": [
          0.3381508290767669,
          0.3481260426342488,
          0.3564247488975525,
          0.3647234551608562,
          0.3674196004867553
         ],
         "yaxis": "y2"
        },
        {
         "boxpoints": false,
         "line": {
          "width": 2
         },
         "name": "6",
         "type": "box",
         "xaxis": "x2",
         "y": [
          0.3251502513885498,
          0.3405387876555324,
          0.3483668267726898,
          0.3561948658898472,
          0.3579712510108948
         ],
         "yaxis": "y2"
        },
        {
         "boxpoints": false,
         "line": {
          "width": 2
         },
         "name": "7",
         "type": "box",
         "xaxis": "x2",
         "y": [
          0.3329632580280304,
          0.34396738978102803,
          0.3506804704666137,
          0.3573935511521994,
          0.3578655123710632
         ],
         "yaxis": "y2"
        },
        {
         "boxpoints": false,
         "line": {
          "width": 2
         },
         "name": "8",
         "type": "box",
         "xaxis": "x2",
         "y": [
          0.3339883387088775,
          0.34173136483877903,
          0.3472873568534851,
          0.3528433488681912,
          0.3542081713676452
         ],
         "yaxis": "y2"
        },
        {
         "boxpoints": false,
         "line": {
          "width": 2
         },
         "name": "9",
         "type": "box",
         "xaxis": "x2",
         "y": [
          0.3251820504665375,
          0.3411090043373406,
          0.3454436957836151,
          0.34977838722988963,
          0.3510136306285858
         ],
         "yaxis": "y2"
        },
        {
         "boxpoints": false,
         "line": {
          "width": 2
         },
         "name": "10",
         "type": "box",
         "xaxis": "x2",
         "y": [
          0.3154982030391693,
          0.3336149575188756,
          0.3396174609661102,
          0.34561996441334475,
          0.3461267352104187
         ],
         "yaxis": "y2"
        },
        {
         "boxpoints": false,
         "line": {
          "width": 2
         },
         "name": "11",
         "type": "box",
         "xaxis": "x2",
         "y": [
          0.3076165914535522,
          0.324769735801965,
          0.3304218053817749,
          0.3360738749615848,
          0.3376055657863617
         ],
         "yaxis": "y2"
        },
        {
         "boxpoints": false,
         "line": {
          "width": 2
         },
         "name": "12",
         "type": "box",
         "xaxis": "x2",
         "y": [
          0.320944607257843,
          0.32979380199685693,
          0.3339587748050689,
          0.3381237476132809,
          0.3390435576438904
         ],
         "yaxis": "y2"
        },
        {
         "boxpoints": false,
         "line": {
          "width": 2
         },
         "name": "13",
         "type": "box",
         "xaxis": "x2",
         "y": [
          0.3093449473381042,
          0.3196191992610693,
          0.3252727091312408,
          0.3309262190014123,
          0.3317256271839142
         ],
         "yaxis": "y2"
        },
        {
         "boxpoints": false,
         "line": {
          "width": 2
         },
         "name": "14",
         "type": "box",
         "xaxis": "x2",
         "y": [
          0.3112851083278656,
          0.3179337766487151,
          0.3211256861686706,
          0.3243175956886261,
          0.3250486254692077
         ],
         "yaxis": "y2"
        },
        {
         "boxpoints": false,
         "line": {
          "width": 2
         },
         "name": "15",
         "type": "box",
         "xaxis": "x2",
         "y": [
          0.3068588376045227,
          0.3182988637126982,
          0.3230432868003845,
          0.3277877098880708,
          0.3280956149101257
         ],
         "yaxis": "y2"
        },
        {
         "boxpoints": false,
         "line": {
          "width": 2
         },
         "name": "16",
         "type": "box",
         "xaxis": "x2",
         "y": [
          0.3081158697605133,
          0.3163121524266899,
          0.3196807205677032,
          0.32304928870871646,
          0.3239083886146545
         ],
         "yaxis": "y2"
        },
        {
         "boxpoints": false,
         "line": {
          "width": 2
         },
         "name": "17",
         "type": "box",
         "xaxis": "x2",
         "y": [
          0.3090724349021911,
          0.3125700699165463,
          0.3159154057502746,
          0.3192607415840029,
          0.3204587697982788
         ],
         "yaxis": "y2"
        },
        {
         "boxpoints": false,
         "line": {
          "width": 2
         },
         "name": "18",
         "type": "box",
         "xaxis": "x2",
         "y": [
          0.2988316714763641,
          0.308926051016897,
          0.3130325973033905,
          0.317139143589884,
          0.3174463510513305
         ],
         "yaxis": "y2"
        },
        {
         "boxpoints": false,
         "line": {
          "width": 2
         },
         "name": "19",
         "type": "box",
         "xaxis": "x2",
         "y": [
          0.3038472533226013,
          0.30853360984474415,
          0.3119479417800903,
          0.3153622737154364,
          0.3166325390338897
         ],
         "yaxis": "y2"
        },
        {
         "boxpoints": false,
         "line": {
          "width": 2
         },
         "name": "20",
         "type": "box",
         "xaxis": "x2",
         "y": [
          0.299647182226181,
          0.30645564477890735,
          0.3103522062301636,
          0.3142487676814198,
          0.3154881596565246
         ],
         "yaxis": "y2"
        },
        {
         "boxpoints": false,
         "line": {
          "width": 2
         },
         "name": "21",
         "type": "box",
         "xaxis": "x2",
         "y": [
          0.3000133633613586,
          0.30746085708960896,
          0.311017781496048,
          0.314574705902487,
          0.315399557352066
         ],
         "yaxis": "y2"
        },
        {
         "boxpoints": false,
         "line": {
          "width": 2
         },
         "name": "22",
         "type": "box",
         "xaxis": "x2",
         "y": [
          0.2987738251686096,
          0.30589346447959553,
          0.3097892105579376,
          0.3136849566362797,
          0.3140128850936889
         ],
         "yaxis": "y2"
        },
        {
         "boxpoints": false,
         "line": {
          "width": 2
         },
         "name": "23",
         "type": "box",
         "xaxis": "x2",
         "y": [
          0.2971875369548797,
          0.30564682371914387,
          0.3097285330295563,
          0.3138102423399687,
          0.3149650394916534
         ],
         "yaxis": "y2"
        },
        {
         "boxpoints": false,
         "line": {
          "width": 2
         },
         "name": "24",
         "type": "box",
         "xaxis": "x2",
         "y": [
          0.3036096394062042,
          0.3081969742197544,
          0.3120220899581909,
          0.31584720569662744,
          0.31696817278862
         ],
         "yaxis": "y2"
        },
        {
         "boxpoints": false,
         "line": {
          "width": 2
         },
         "name": "25",
         "type": "box",
         "xaxis": "x2",
         "y": [
          0.2989144623279571,
          0.3056132309138775,
          0.3099501132965088,
          0.3142869956791401,
          0.3151054382324219
         ],
         "yaxis": "y2"
        },
        {
         "boxpoints": false,
         "line": {
          "width": 2
         },
         "name": "26",
         "type": "box",
         "xaxis": "x2",
         "y": [
          0.3008913993835449,
          0.3082765373401344,
          0.3121824562549591,
          0.31608837516978383,
          0.3171059489250183
         ],
         "yaxis": "y2"
        },
        {
         "boxpoints": false,
         "line": {
          "width": 2
         },
         "name": "27",
         "type": "box",
         "xaxis": "x2",
         "y": [
          0.2982051074504852,
          0.3084588996134699,
          0.3121979534626007,
          0.3159370073117315,
          0.3163402676582336
         ],
         "yaxis": "y2"
        },
        {
         "boxpoints": false,
         "line": {
          "width": 2
         },
         "name": "28",
         "type": "box",
         "xaxis": "x2",
         "y": [
          0.2971557080745697,
          0.31139603443443775,
          0.3164787292480469,
          0.321561424061656,
          0.3216554224491119
         ],
         "yaxis": "y2"
        }
       ],
       "layout": {
        "annotations": [
         {
          "font": {
           "size": 16
          },
          "showarrow": false,
          "text": "k=1, 2",
          "x": 0.225,
          "xanchor": "center",
          "xref": "paper",
          "y": 1,
          "yanchor": "bottom",
          "yref": "paper"
         },
         {
          "font": {
           "size": 16
          },
          "showarrow": false,
          "text": "k>=3",
          "x": 0.775,
          "xanchor": "center",
          "xref": "paper",
          "y": 1,
          "yanchor": "bottom",
          "yref": "paper"
         }
        ],
        "autosize": false,
        "font": {
         "family": "Arial",
         "size": 20
        },
        "margin": {
         "b": 50,
         "l": 0,
         "r": 10,
         "t": 50
        },
        "showlegend": false,
        "template": {
         "data": {
          "bar": [
           {
            "error_x": {
             "color": "#2a3f5f"
            },
            "error_y": {
             "color": "#2a3f5f"
            },
            "marker": {
             "line": {
              "color": "#E5ECF6",
              "width": 0.5
             },
             "pattern": {
              "fillmode": "overlay",
              "size": 10,
              "solidity": 0.2
             }
            },
            "type": "bar"
           }
          ],
          "barpolar": [
           {
            "marker": {
             "line": {
              "color": "#E5ECF6",
              "width": 0.5
             },
             "pattern": {
              "fillmode": "overlay",
              "size": 10,
              "solidity": 0.2
             }
            },
            "type": "barpolar"
           }
          ],
          "carpet": [
           {
            "aaxis": {
             "endlinecolor": "#2a3f5f",
             "gridcolor": "white",
             "linecolor": "white",
             "minorgridcolor": "white",
             "startlinecolor": "#2a3f5f"
            },
            "baxis": {
             "endlinecolor": "#2a3f5f",
             "gridcolor": "white",
             "linecolor": "white",
             "minorgridcolor": "white",
             "startlinecolor": "#2a3f5f"
            },
            "type": "carpet"
           }
          ],
          "choropleth": [
           {
            "colorbar": {
             "outlinewidth": 0,
             "ticks": ""
            },
            "type": "choropleth"
           }
          ],
          "contour": [
           {
            "colorbar": {
             "outlinewidth": 0,
             "ticks": ""
            },
            "colorscale": [
             [
              0,
              "#0d0887"
             ],
             [
              0.1111111111111111,
              "#46039f"
             ],
             [
              0.2222222222222222,
              "#7201a8"
             ],
             [
              0.3333333333333333,
              "#9c179e"
             ],
             [
              0.4444444444444444,
              "#bd3786"
             ],
             [
              0.5555555555555556,
              "#d8576b"
             ],
             [
              0.6666666666666666,
              "#ed7953"
             ],
             [
              0.7777777777777778,
              "#fb9f3a"
             ],
             [
              0.8888888888888888,
              "#fdca26"
             ],
             [
              1,
              "#f0f921"
             ]
            ],
            "type": "contour"
           }
          ],
          "contourcarpet": [
           {
            "colorbar": {
             "outlinewidth": 0,
             "ticks": ""
            },
            "type": "contourcarpet"
           }
          ],
          "heatmap": [
           {
            "colorbar": {
             "outlinewidth": 0,
             "ticks": ""
            },
            "colorscale": [
             [
              0,
              "#0d0887"
             ],
             [
              0.1111111111111111,
              "#46039f"
             ],
             [
              0.2222222222222222,
              "#7201a8"
             ],
             [
              0.3333333333333333,
              "#9c179e"
             ],
             [
              0.4444444444444444,
              "#bd3786"
             ],
             [
              0.5555555555555556,
              "#d8576b"
             ],
             [
              0.6666666666666666,
              "#ed7953"
             ],
             [
              0.7777777777777778,
              "#fb9f3a"
             ],
             [
              0.8888888888888888,
              "#fdca26"
             ],
             [
              1,
              "#f0f921"
             ]
            ],
            "type": "heatmap"
           }
          ],
          "heatmapgl": [
           {
            "colorbar": {
             "outlinewidth": 0,
             "ticks": ""
            },
            "colorscale": [
             [
              0,
              "#0d0887"
             ],
             [
              0.1111111111111111,
              "#46039f"
             ],
             [
              0.2222222222222222,
              "#7201a8"
             ],
             [
              0.3333333333333333,
              "#9c179e"
             ],
             [
              0.4444444444444444,
              "#bd3786"
             ],
             [
              0.5555555555555556,
              "#d8576b"
             ],
             [
              0.6666666666666666,
              "#ed7953"
             ],
             [
              0.7777777777777778,
              "#fb9f3a"
             ],
             [
              0.8888888888888888,
              "#fdca26"
             ],
             [
              1,
              "#f0f921"
             ]
            ],
            "type": "heatmapgl"
           }
          ],
          "histogram": [
           {
            "marker": {
             "pattern": {
              "fillmode": "overlay",
              "size": 10,
              "solidity": 0.2
             }
            },
            "type": "histogram"
           }
          ],
          "histogram2d": [
           {
            "colorbar": {
             "outlinewidth": 0,
             "ticks": ""
            },
            "colorscale": [
             [
              0,
              "#0d0887"
             ],
             [
              0.1111111111111111,
              "#46039f"
             ],
             [
              0.2222222222222222,
              "#7201a8"
             ],
             [
              0.3333333333333333,
              "#9c179e"
             ],
             [
              0.4444444444444444,
              "#bd3786"
             ],
             [
              0.5555555555555556,
              "#d8576b"
             ],
             [
              0.6666666666666666,
              "#ed7953"
             ],
             [
              0.7777777777777778,
              "#fb9f3a"
             ],
             [
              0.8888888888888888,
              "#fdca26"
             ],
             [
              1,
              "#f0f921"
             ]
            ],
            "type": "histogram2d"
           }
          ],
          "histogram2dcontour": [
           {
            "colorbar": {
             "outlinewidth": 0,
             "ticks": ""
            },
            "colorscale": [
             [
              0,
              "#0d0887"
             ],
             [
              0.1111111111111111,
              "#46039f"
             ],
             [
              0.2222222222222222,
              "#7201a8"
             ],
             [
              0.3333333333333333,
              "#9c179e"
             ],
             [
              0.4444444444444444,
              "#bd3786"
             ],
             [
              0.5555555555555556,
              "#d8576b"
             ],
             [
              0.6666666666666666,
              "#ed7953"
             ],
             [
              0.7777777777777778,
              "#fb9f3a"
             ],
             [
              0.8888888888888888,
              "#fdca26"
             ],
             [
              1,
              "#f0f921"
             ]
            ],
            "type": "histogram2dcontour"
           }
          ],
          "mesh3d": [
           {
            "colorbar": {
             "outlinewidth": 0,
             "ticks": ""
            },
            "type": "mesh3d"
           }
          ],
          "parcoords": [
           {
            "line": {
             "colorbar": {
              "outlinewidth": 0,
              "ticks": ""
             }
            },
            "type": "parcoords"
           }
          ],
          "pie": [
           {
            "automargin": true,
            "type": "pie"
           }
          ],
          "scatter": [
           {
            "fillpattern": {
             "fillmode": "overlay",
             "size": 10,
             "solidity": 0.2
            },
            "type": "scatter"
           }
          ],
          "scatter3d": [
           {
            "line": {
             "colorbar": {
              "outlinewidth": 0,
              "ticks": ""
             }
            },
            "marker": {
             "colorbar": {
              "outlinewidth": 0,
              "ticks": ""
             }
            },
            "type": "scatter3d"
           }
          ],
          "scattercarpet": [
           {
            "marker": {
             "colorbar": {
              "outlinewidth": 0,
              "ticks": ""
             }
            },
            "type": "scattercarpet"
           }
          ],
          "scattergeo": [
           {
            "marker": {
             "colorbar": {
              "outlinewidth": 0,
              "ticks": ""
             }
            },
            "type": "scattergeo"
           }
          ],
          "scattergl": [
           {
            "marker": {
             "colorbar": {
              "outlinewidth": 0,
              "ticks": ""
             }
            },
            "type": "scattergl"
           }
          ],
          "scattermapbox": [
           {
            "marker": {
             "colorbar": {
              "outlinewidth": 0,
              "ticks": ""
             }
            },
            "type": "scattermapbox"
           }
          ],
          "scatterpolar": [
           {
            "marker": {
             "colorbar": {
              "outlinewidth": 0,
              "ticks": ""
             }
            },
            "type": "scatterpolar"
           }
          ],
          "scatterpolargl": [
           {
            "marker": {
             "colorbar": {
              "outlinewidth": 0,
              "ticks": ""
             }
            },
            "type": "scatterpolargl"
           }
          ],
          "scatterternary": [
           {
            "marker": {
             "colorbar": {
              "outlinewidth": 0,
              "ticks": ""
             }
            },
            "type": "scatterternary"
           }
          ],
          "surface": [
           {
            "colorbar": {
             "outlinewidth": 0,
             "ticks": ""
            },
            "colorscale": [
             [
              0,
              "#0d0887"
             ],
             [
              0.1111111111111111,
              "#46039f"
             ],
             [
              0.2222222222222222,
              "#7201a8"
             ],
             [
              0.3333333333333333,
              "#9c179e"
             ],
             [
              0.4444444444444444,
              "#bd3786"
             ],
             [
              0.5555555555555556,
              "#d8576b"
             ],
             [
              0.6666666666666666,
              "#ed7953"
             ],
             [
              0.7777777777777778,
              "#fb9f3a"
             ],
             [
              0.8888888888888888,
              "#fdca26"
             ],
             [
              1,
              "#f0f921"
             ]
            ],
            "type": "surface"
           }
          ],
          "table": [
           {
            "cells": {
             "fill": {
              "color": "#EBF0F8"
             },
             "line": {
              "color": "white"
             }
            },
            "header": {
             "fill": {
              "color": "#C8D4E3"
             },
             "line": {
              "color": "white"
             }
            },
            "type": "table"
           }
          ]
         },
         "layout": {
          "annotationdefaults": {
           "arrowcolor": "#2a3f5f",
           "arrowhead": 0,
           "arrowwidth": 1
          },
          "autotypenumbers": "strict",
          "coloraxis": {
           "colorbar": {
            "outlinewidth": 0,
            "ticks": ""
           }
          },
          "colorscale": {
           "diverging": [
            [
             0,
             "#8e0152"
            ],
            [
             0.1,
             "#c51b7d"
            ],
            [
             0.2,
             "#de77ae"
            ],
            [
             0.3,
             "#f1b6da"
            ],
            [
             0.4,
             "#fde0ef"
            ],
            [
             0.5,
             "#f7f7f7"
            ],
            [
             0.6,
             "#e6f5d0"
            ],
            [
             0.7,
             "#b8e186"
            ],
            [
             0.8,
             "#7fbc41"
            ],
            [
             0.9,
             "#4d9221"
            ],
            [
             1,
             "#276419"
            ]
           ],
           "sequential": [
            [
             0,
             "#0d0887"
            ],
            [
             0.1111111111111111,
             "#46039f"
            ],
            [
             0.2222222222222222,
             "#7201a8"
            ],
            [
             0.3333333333333333,
             "#9c179e"
            ],
            [
             0.4444444444444444,
             "#bd3786"
            ],
            [
             0.5555555555555556,
             "#d8576b"
            ],
            [
             0.6666666666666666,
             "#ed7953"
            ],
            [
             0.7777777777777778,
             "#fb9f3a"
            ],
            [
             0.8888888888888888,
             "#fdca26"
            ],
            [
             1,
             "#f0f921"
            ]
           ],
           "sequentialminus": [
            [
             0,
             "#0d0887"
            ],
            [
             0.1111111111111111,
             "#46039f"
            ],
            [
             0.2222222222222222,
             "#7201a8"
            ],
            [
             0.3333333333333333,
             "#9c179e"
            ],
            [
             0.4444444444444444,
             "#bd3786"
            ],
            [
             0.5555555555555556,
             "#d8576b"
            ],
            [
             0.6666666666666666,
             "#ed7953"
            ],
            [
             0.7777777777777778,
             "#fb9f3a"
            ],
            [
             0.8888888888888888,
             "#fdca26"
            ],
            [
             1,
             "#f0f921"
            ]
           ]
          },
          "colorway": [
           "#636efa",
           "#EF553B",
           "#00cc96",
           "#ab63fa",
           "#FFA15A",
           "#19d3f3",
           "#FF6692",
           "#B6E880",
           "#FF97FF",
           "#FECB52"
          ],
          "font": {
           "color": "#2a3f5f"
          },
          "geo": {
           "bgcolor": "white",
           "lakecolor": "white",
           "landcolor": "#E5ECF6",
           "showlakes": true,
           "showland": true,
           "subunitcolor": "white"
          },
          "hoverlabel": {
           "align": "left"
          },
          "hovermode": "closest",
          "mapbox": {
           "style": "light"
          },
          "paper_bgcolor": "white",
          "plot_bgcolor": "#E5ECF6",
          "polar": {
           "angularaxis": {
            "gridcolor": "white",
            "linecolor": "white",
            "ticks": ""
           },
           "bgcolor": "#E5ECF6",
           "radialaxis": {
            "gridcolor": "white",
            "linecolor": "white",
            "ticks": ""
           }
          },
          "scene": {
           "xaxis": {
            "backgroundcolor": "#E5ECF6",
            "gridcolor": "white",
            "gridwidth": 2,
            "linecolor": "white",
            "showbackground": true,
            "ticks": "",
            "zerolinecolor": "white"
           },
           "yaxis": {
            "backgroundcolor": "#E5ECF6",
            "gridcolor": "white",
            "gridwidth": 2,
            "linecolor": "white",
            "showbackground": true,
            "ticks": "",
            "zerolinecolor": "white"
           },
           "zaxis": {
            "backgroundcolor": "#E5ECF6",
            "gridcolor": "white",
            "gridwidth": 2,
            "linecolor": "white",
            "showbackground": true,
            "ticks": "",
            "zerolinecolor": "white"
           }
          },
          "shapedefaults": {
           "line": {
            "color": "#2a3f5f"
           }
          },
          "ternary": {
           "aaxis": {
            "gridcolor": "white",
            "linecolor": "white",
            "ticks": ""
           },
           "baxis": {
            "gridcolor": "white",
            "linecolor": "white",
            "ticks": ""
           },
           "bgcolor": "#E5ECF6",
           "caxis": {
            "gridcolor": "white",
            "linecolor": "white",
            "ticks": ""
           }
          },
          "title": {
           "x": 0.05
          },
          "xaxis": {
           "automargin": true,
           "gridcolor": "white",
           "linecolor": "white",
           "ticks": "",
           "title": {
            "standoff": 15
           },
           "zerolinecolor": "white",
           "zerolinewidth": 2
          },
          "yaxis": {
           "automargin": true,
           "gridcolor": "white",
           "linecolor": "white",
           "ticks": "",
           "title": {
            "standoff": 15
           },
           "zerolinecolor": "white",
           "zerolinewidth": 2
          }
         }
        },
        "width": 1200,
        "xaxis": {
         "anchor": "y",
         "domain": [
          0,
          0.45
         ]
        },
        "xaxis2": {
         "anchor": "y2",
         "domain": [
          0.55,
          1
         ]
        },
        "yaxis": {
         "anchor": "x",
         "domain": [
          0,
          1
         ],
         "title": {
          "text": "MSE"
         }
        },
        "yaxis2": {
         "anchor": "x2",
         "domain": [
          0,
          1
         ]
        }
       }
      }
     },
     "metadata": {},
     "output_type": "display_data"
    }
   ],
   "source": [
    "import plotly.graph_objects as go\n",
    "from plotly.subplots import make_subplots\n",
    "# Create a Box trace for each row in the data\n",
    "# Create a Box trace for each 'Name' in the data\n",
    "# Initialize a DataFrame to store the simulated data\n",
    "# Create a Box trace for each row in the data\n",
    "# Create a Box trace for each 'Name' in the data\n",
    "\n",
    "\n",
    "# Create traces for data points 1 and 2\n",
    "traces_1_2 = []\n",
    "for idx, row in data.iterrows():\n",
    "    if int(row['Name']) <= 2:\n",
    "        traces_1_2.append(go.Box(\n",
    "            y=[row['min_score'], row['mean_score'] - row['std_score'], row['mean_score'], row['mean_score'] + row['std_score'], row['max_score']],\n",
    "            name=int(row['Name']),\n",
    "            boxpoints=False,\n",
    "            line_width=2,\n",
    "        ))\n",
    "\n",
    "# Create traces for data points 3 and above\n",
    "traces_3_plus = []\n",
    "for idx, row in data.iterrows():\n",
    "    if int(row['Name']) > 2 and int(row['Name']) <= 28:\n",
    "        traces_3_plus.append(go.Box(\n",
    "            y=[row['min_score'], row['mean_score'] - row['std_score'], row['mean_score'], row['mean_score'] + row['std_score'], row['max_score']],\n",
    "            name=int(row['Name']),\n",
    "            boxpoints=False,\n",
    "            line_width=2,\n",
    "        ))\n",
    "\n",
    "# Create a figure with two subplots\n",
    "fig = make_subplots(rows=1, cols=2, subplot_titles=(\"k=1, 2\", \"k>=3\"))\n",
    "\n",
    "# Add traces to the subplots\n",
    "for trace in traces_1_2:\n",
    "    fig.add_trace(trace, row=1, col=1)\n",
    "\n",
    "for trace in traces_3_plus:\n",
    "    fig.add_trace(trace, row=1, col=2)\n",
    "\n",
    "# Update the layout\n",
    "fig.update_layout(\n",
    "    # title_text=\"Mean Squared Error for Different Number of Datasets (k)\",\n",
    "    \n",
    "    yaxis_title='MSE',\n",
    "    # xaxis_title='k (num datasets)',\n",
    "    width=1200,  # Width of the figure in pixels\n",
    "    # height=400,  # Height of the figure in pixels\n",
    "    autosize=False,\n",
    "    showlegend=False,\n",
    "    margin=dict(l=0, r=10, t=50, b=50),\n",
    "    font=dict(\n",
    "        family=\"Arial\",  # Font family\n",
    "        size=20,  # Font size\n",
    "    ),\n",
    "    # yaxis=dict(\n",
    "    #     title_font=dict(\n",
    "    #         size=14,  # Y-axis title font size\n",
    "    #     ),\n",
    "    #     tickfont=dict(\n",
    "    #         size=12,  # Y-axis tick font size\n",
    "    #     ),\n",
    "    # ),\n",
    "    # xaxis=dict(\n",
    "    #     tickfont=dict(\n",
    "    #         size=12,  # X-axis tick font size\n",
    "    #     ),\n",
    "    # ),\n",
    ")\n",
    "# Save the figure as a PDF\n",
    "fig.write_image(\"boxplots.pdf\")\n",
    "fig.show()\n",
    "\n",
    "\n"
   ]
  },
  {
   "cell_type": "code",
   "execution_count": 1540,
   "metadata": {},
   "outputs": [
    {
     "data": {
      "text/html": [
       "<div>\n",
       "<style scoped>\n",
       "    .dataframe tbody tr th:only-of-type {\n",
       "        vertical-align: middle;\n",
       "    }\n",
       "\n",
       "    .dataframe tbody tr th {\n",
       "        vertical-align: top;\n",
       "    }\n",
       "\n",
       "    .dataframe thead th {\n",
       "        text-align: right;\n",
       "    }\n",
       "</style>\n",
       "<table border=\"1\" class=\"dataframe\">\n",
       "  <thead>\n",
       "    <tr style=\"text-align: right;\">\n",
       "      <th>Name</th>\n",
       "      <th>Value</th>\n",
       "      <th>Name</th>\n",
       "      <th>Statistic</th>\n",
       "    </tr>\n",
       "  </thead>\n",
       "  <tbody>\n",
       "    <tr>\n",
       "      <th>gate-evolve-nn-k=14-loo-pokemonblipcaptions.max</th>\n",
       "      <td>0.804118</td>\n",
       "      <td>pokemonblipcaptions</td>\n",
       "      <td>max</td>\n",
       "    </tr>\n",
       "    <tr>\n",
       "      <th>gate-evolve-nn-k=14-loo-ham10k.max</th>\n",
       "      <td>0.78507</td>\n",
       "      <td>ham10k</td>\n",
       "      <td>max</td>\n",
       "    </tr>\n",
       "    <tr>\n",
       "      <th>gate-evolve-nn-k=14-loo-fungi.max</th>\n",
       "      <td>0.776644</td>\n",
       "      <td>fungi</td>\n",
       "      <td>max</td>\n",
       "    </tr>\n",
       "    <tr>\n",
       "      <th>gate-evolve-nn-k=14-loo-coco-10k.max</th>\n",
       "      <td>0.773991</td>\n",
       "      <td>coco-10k</td>\n",
       "      <td>max</td>\n",
       "    </tr>\n",
       "    <tr>\n",
       "      <th>gate-evolve-nn-k=14-loo-aircraft.max</th>\n",
       "      <td>0.772783</td>\n",
       "      <td>aircraft</td>\n",
       "      <td>max</td>\n",
       "    </tr>\n",
       "    <tr>\n",
       "      <th>gate-evolve-nn-k=14-loo-chexpert.max</th>\n",
       "      <td>0.751507</td>\n",
       "      <td>chexpert</td>\n",
       "      <td>max</td>\n",
       "    </tr>\n",
       "    <tr>\n",
       "      <th>gate-evolve-nn-k=14-loo-cubirds.max</th>\n",
       "      <td>0.751103</td>\n",
       "      <td>cubirds</td>\n",
       "      <td>max</td>\n",
       "    </tr>\n",
       "    <tr>\n",
       "      <th>gate-evolve-nn-k=14-loo-clevr.max</th>\n",
       "      <td>0.687444</td>\n",
       "      <td>clevr</td>\n",
       "      <td>max</td>\n",
       "    </tr>\n",
       "    <tr>\n",
       "      <th>gate-evolve-nn-k=14-loo-nyu.max</th>\n",
       "      <td>0.684614</td>\n",
       "      <td>nyu</td>\n",
       "      <td>max</td>\n",
       "    </tr>\n",
       "    <tr>\n",
       "      <th>gate-evolve-nn-k=14-loo-imagenet1k.max</th>\n",
       "      <td>0.671437</td>\n",
       "      <td>imagenet1k</td>\n",
       "      <td>max</td>\n",
       "    </tr>\n",
       "    <tr>\n",
       "      <th>gate-evolve-nn-k=14-loo-winoground.max</th>\n",
       "      <td>0.619738</td>\n",
       "      <td>winoground</td>\n",
       "      <td>max</td>\n",
       "    </tr>\n",
       "    <tr>\n",
       "      <th>gate-evolve-nn-k=14-loo-ucf.max</th>\n",
       "      <td>0.61922</td>\n",
       "      <td>ucf</td>\n",
       "      <td>max</td>\n",
       "    </tr>\n",
       "    <tr>\n",
       "      <th>gate-evolve-nn-k=14-loo-cifar100.max</th>\n",
       "      <td>0.600965</td>\n",
       "      <td>cifar100</td>\n",
       "      <td>max</td>\n",
       "    </tr>\n",
       "    <tr>\n",
       "      <th>gate-evolve-nn-k=14-loo-full.max</th>\n",
       "      <td>0.594251</td>\n",
       "      <td>full</td>\n",
       "      <td>max</td>\n",
       "    </tr>\n",
       "    <tr>\n",
       "      <th>gate-evolve-nn-k=14-loo-vgg.max</th>\n",
       "      <td>0.590332</td>\n",
       "      <td>vgg</td>\n",
       "      <td>max</td>\n",
       "    </tr>\n",
       "    <tr>\n",
       "      <th>gate-evolve-nn-k=14-loo-nyu.mean</th>\n",
       "      <td>0.43705</td>\n",
       "      <td>nyu</td>\n",
       "      <td>mean</td>\n",
       "    </tr>\n",
       "    <tr>\n",
       "      <th>gate-evolve-nn-k=14-loo-coco-10k.mean</th>\n",
       "      <td>0.432062</td>\n",
       "      <td>coco-10k</td>\n",
       "      <td>mean</td>\n",
       "    </tr>\n",
       "    <tr>\n",
       "      <th>gate-evolve-nn-k=14-loo-clevr.mean</th>\n",
       "      <td>0.416699</td>\n",
       "      <td>clevr</td>\n",
       "      <td>mean</td>\n",
       "    </tr>\n",
       "    <tr>\n",
       "      <th>gate-evolve-nn-k=14-loo-winoground.mean</th>\n",
       "      <td>0.411191</td>\n",
       "      <td>winoground</td>\n",
       "      <td>mean</td>\n",
       "    </tr>\n",
       "    <tr>\n",
       "      <th>gate-evolve-nn-k=14-loo-aircraft.mean</th>\n",
       "      <td>0.408978</td>\n",
       "      <td>aircraft</td>\n",
       "      <td>mean</td>\n",
       "    </tr>\n",
       "    <tr>\n",
       "      <th>gate-evolve-nn-k=14-loo-chexpert.mean</th>\n",
       "      <td>0.404609</td>\n",
       "      <td>chexpert</td>\n",
       "      <td>mean</td>\n",
       "    </tr>\n",
       "    <tr>\n",
       "      <th>gate-evolve-nn-k=14-loo-ucf.mean</th>\n",
       "      <td>0.40172</td>\n",
       "      <td>ucf</td>\n",
       "      <td>mean</td>\n",
       "    </tr>\n",
       "    <tr>\n",
       "      <th>gate-evolve-nn-k=14-loo-imagenet1k.mean</th>\n",
       "      <td>0.401064</td>\n",
       "      <td>imagenet1k</td>\n",
       "      <td>mean</td>\n",
       "    </tr>\n",
       "    <tr>\n",
       "      <th>gate-evolve-nn-k=14-loo-pokemonblipcaptions.mean</th>\n",
       "      <td>0.389157</td>\n",
       "      <td>pokemonblipcaptions</td>\n",
       "      <td>mean</td>\n",
       "    </tr>\n",
       "    <tr>\n",
       "      <th>gate-evolve-nn-k=14-loo-ham10k.mean</th>\n",
       "      <td>0.375283</td>\n",
       "      <td>ham10k</td>\n",
       "      <td>mean</td>\n",
       "    </tr>\n",
       "    <tr>\n",
       "      <th>gate-evolve-nn-k=14-loo-cifar100.mean</th>\n",
       "      <td>0.373567</td>\n",
       "      <td>cifar100</td>\n",
       "      <td>mean</td>\n",
       "    </tr>\n",
       "    <tr>\n",
       "      <th>gate-evolve-nn-k=14-loo-fungi.mean</th>\n",
       "      <td>0.371683</td>\n",
       "      <td>fungi</td>\n",
       "      <td>mean</td>\n",
       "    </tr>\n",
       "    <tr>\n",
       "      <th>gate-evolve-nn-k=14-loo-vgg.mean</th>\n",
       "      <td>0.367432</td>\n",
       "      <td>vgg</td>\n",
       "      <td>mean</td>\n",
       "    </tr>\n",
       "    <tr>\n",
       "      <th>gate-evolve-nn-k=14-loo-cubirds.mean</th>\n",
       "      <td>0.365401</td>\n",
       "      <td>cubirds</td>\n",
       "      <td>mean</td>\n",
       "    </tr>\n",
       "    <tr>\n",
       "      <th>gate-evolve-nn-k=14-loo-full.mean</th>\n",
       "      <td>0.334634</td>\n",
       "      <td>full</td>\n",
       "      <td>mean</td>\n",
       "    </tr>\n",
       "    <tr>\n",
       "      <th>gate-evolve-nn-k=14-loo-nyu.min</th>\n",
       "      <td>0.180734</td>\n",
       "      <td>nyu</td>\n",
       "      <td>min</td>\n",
       "    </tr>\n",
       "    <tr>\n",
       "      <th>gate-evolve-nn-k=14-loo-ham10k.min</th>\n",
       "      <td>0.179612</td>\n",
       "      <td>ham10k</td>\n",
       "      <td>min</td>\n",
       "    </tr>\n",
       "    <tr>\n",
       "      <th>gate-evolve-nn-k=14-loo-vgg.min</th>\n",
       "      <td>0.179348</td>\n",
       "      <td>vgg</td>\n",
       "      <td>min</td>\n",
       "    </tr>\n",
       "    <tr>\n",
       "      <th>gate-evolve-nn-k=14-loo-cifar100.min</th>\n",
       "      <td>0.178167</td>\n",
       "      <td>cifar100</td>\n",
       "      <td>min</td>\n",
       "    </tr>\n",
       "    <tr>\n",
       "      <th>gate-evolve-nn-k=14-loo-coco-10k.min</th>\n",
       "      <td>0.173421</td>\n",
       "      <td>coco-10k</td>\n",
       "      <td>min</td>\n",
       "    </tr>\n",
       "    <tr>\n",
       "      <th>gate-evolve-nn-k=14-loo-chexpert.min</th>\n",
       "      <td>0.172072</td>\n",
       "      <td>chexpert</td>\n",
       "      <td>min</td>\n",
       "    </tr>\n",
       "    <tr>\n",
       "      <th>gate-evolve-nn-k=14-loo-fungi.min</th>\n",
       "      <td>0.17176</td>\n",
       "      <td>fungi</td>\n",
       "      <td>min</td>\n",
       "    </tr>\n",
       "    <tr>\n",
       "      <th>gate-evolve-nn-k=14-loo-aircraft.min</th>\n",
       "      <td>0.171748</td>\n",
       "      <td>aircraft</td>\n",
       "      <td>min</td>\n",
       "    </tr>\n",
       "    <tr>\n",
       "      <th>gate-evolve-nn-k=14-loo-cubirds.min</th>\n",
       "      <td>0.17167</td>\n",
       "      <td>cubirds</td>\n",
       "      <td>min</td>\n",
       "    </tr>\n",
       "    <tr>\n",
       "      <th>gate-evolve-nn-k=14-loo-pokemonblipcaptions.min</th>\n",
       "      <td>0.165746</td>\n",
       "      <td>pokemonblipcaptions</td>\n",
       "      <td>min</td>\n",
       "    </tr>\n",
       "    <tr>\n",
       "      <th>gate-evolve-nn-k=14-loo-ucf.min</th>\n",
       "      <td>0.163736</td>\n",
       "      <td>ucf</td>\n",
       "      <td>min</td>\n",
       "    </tr>\n",
       "    <tr>\n",
       "      <th>gate-evolve-nn-k=14-loo-imagenet1k.min</th>\n",
       "      <td>0.163091</td>\n",
       "      <td>imagenet1k</td>\n",
       "      <td>min</td>\n",
       "    </tr>\n",
       "    <tr>\n",
       "      <th>gate-evolve-nn-k=14-loo-clevr.min</th>\n",
       "      <td>0.160353</td>\n",
       "      <td>clevr</td>\n",
       "      <td>min</td>\n",
       "    </tr>\n",
       "    <tr>\n",
       "      <th>gate-evolve-nn-k=14-loo-winoground.min</th>\n",
       "      <td>0.155647</td>\n",
       "      <td>winoground</td>\n",
       "      <td>min</td>\n",
       "    </tr>\n",
       "    <tr>\n",
       "      <th>gate-evolve-nn-k=14-loo-full.min</th>\n",
       "      <td>0.153326</td>\n",
       "      <td>full</td>\n",
       "      <td>min</td>\n",
       "    </tr>\n",
       "    <tr>\n",
       "      <th>gate-evolve-nn-k=14-loo-coco-10k.std</th>\n",
       "      <td>0.148052</td>\n",
       "      <td>coco-10k</td>\n",
       "      <td>std</td>\n",
       "    </tr>\n",
       "    <tr>\n",
       "      <th>gate-evolve-nn-k=14-loo-aircraft.std</th>\n",
       "      <td>0.146177</td>\n",
       "      <td>aircraft</td>\n",
       "      <td>std</td>\n",
       "    </tr>\n",
       "    <tr>\n",
       "      <th>gate-evolve-nn-k=14-loo-chexpert.std</th>\n",
       "      <td>0.141545</td>\n",
       "      <td>chexpert</td>\n",
       "      <td>std</td>\n",
       "    </tr>\n",
       "    <tr>\n",
       "      <th>gate-evolve-nn-k=14-loo-ham10k.std</th>\n",
       "      <td>0.137777</td>\n",
       "      <td>ham10k</td>\n",
       "      <td>std</td>\n",
       "    </tr>\n",
       "    <tr>\n",
       "      <th>gate-evolve-nn-k=14-loo-nyu.std</th>\n",
       "      <td>0.13574</td>\n",
       "      <td>nyu</td>\n",
       "      <td>std</td>\n",
       "    </tr>\n",
       "    <tr>\n",
       "      <th>gate-evolve-nn-k=14-loo-fungi.std</th>\n",
       "      <td>0.134862</td>\n",
       "      <td>fungi</td>\n",
       "      <td>std</td>\n",
       "    </tr>\n",
       "    <tr>\n",
       "      <th>gate-evolve-nn-k=14-loo-winoground.std</th>\n",
       "      <td>0.132889</td>\n",
       "      <td>winoground</td>\n",
       "      <td>std</td>\n",
       "    </tr>\n",
       "    <tr>\n",
       "      <th>gate-evolve-nn-k=14-loo-pokemonblipcaptions.std</th>\n",
       "      <td>0.131605</td>\n",
       "      <td>pokemonblipcaptions</td>\n",
       "      <td>std</td>\n",
       "    </tr>\n",
       "    <tr>\n",
       "      <th>gate-evolve-nn-k=14-loo-imagenet1k.std</th>\n",
       "      <td>0.129917</td>\n",
       "      <td>imagenet1k</td>\n",
       "      <td>std</td>\n",
       "    </tr>\n",
       "    <tr>\n",
       "      <th>gate-evolve-nn-k=14-loo-cubirds.std</th>\n",
       "      <td>0.127997</td>\n",
       "      <td>cubirds</td>\n",
       "      <td>std</td>\n",
       "    </tr>\n",
       "    <tr>\n",
       "      <th>gate-evolve-nn-k=14-loo-clevr.std</th>\n",
       "      <td>0.127256</td>\n",
       "      <td>clevr</td>\n",
       "      <td>std</td>\n",
       "    </tr>\n",
       "    <tr>\n",
       "      <th>gate-evolve-nn-k=14-loo-ucf.std</th>\n",
       "      <td>0.11576</td>\n",
       "      <td>ucf</td>\n",
       "      <td>std</td>\n",
       "    </tr>\n",
       "    <tr>\n",
       "      <th>gate-evolve-nn-k=14-loo-vgg.std</th>\n",
       "      <td>0.105724</td>\n",
       "      <td>vgg</td>\n",
       "      <td>std</td>\n",
       "    </tr>\n",
       "    <tr>\n",
       "      <th>gate-evolve-nn-k=14-loo-cifar100.std</th>\n",
       "      <td>0.104411</td>\n",
       "      <td>cifar100</td>\n",
       "      <td>std</td>\n",
       "    </tr>\n",
       "    <tr>\n",
       "      <th>gate-evolve-nn-k=14-loo-full.std</th>\n",
       "      <td>0.102115</td>\n",
       "      <td>full</td>\n",
       "      <td>std</td>\n",
       "    </tr>\n",
       "  </tbody>\n",
       "</table>\n",
       "</div>"
      ],
      "text/plain": [
       "Name                                                 Value  \\\n",
       "gate-evolve-nn-k=14-loo-pokemonblipcaptions.max   0.804118   \n",
       "gate-evolve-nn-k=14-loo-ham10k.max                 0.78507   \n",
       "gate-evolve-nn-k=14-loo-fungi.max                 0.776644   \n",
       "gate-evolve-nn-k=14-loo-coco-10k.max              0.773991   \n",
       "gate-evolve-nn-k=14-loo-aircraft.max              0.772783   \n",
       "gate-evolve-nn-k=14-loo-chexpert.max              0.751507   \n",
       "gate-evolve-nn-k=14-loo-cubirds.max               0.751103   \n",
       "gate-evolve-nn-k=14-loo-clevr.max                 0.687444   \n",
       "gate-evolve-nn-k=14-loo-nyu.max                   0.684614   \n",
       "gate-evolve-nn-k=14-loo-imagenet1k.max            0.671437   \n",
       "gate-evolve-nn-k=14-loo-winoground.max            0.619738   \n",
       "gate-evolve-nn-k=14-loo-ucf.max                    0.61922   \n",
       "gate-evolve-nn-k=14-loo-cifar100.max              0.600965   \n",
       "gate-evolve-nn-k=14-loo-full.max                  0.594251   \n",
       "gate-evolve-nn-k=14-loo-vgg.max                   0.590332   \n",
       "gate-evolve-nn-k=14-loo-nyu.mean                   0.43705   \n",
       "gate-evolve-nn-k=14-loo-coco-10k.mean             0.432062   \n",
       "gate-evolve-nn-k=14-loo-clevr.mean                0.416699   \n",
       "gate-evolve-nn-k=14-loo-winoground.mean           0.411191   \n",
       "gate-evolve-nn-k=14-loo-aircraft.mean             0.408978   \n",
       "gate-evolve-nn-k=14-loo-chexpert.mean             0.404609   \n",
       "gate-evolve-nn-k=14-loo-ucf.mean                   0.40172   \n",
       "gate-evolve-nn-k=14-loo-imagenet1k.mean           0.401064   \n",
       "gate-evolve-nn-k=14-loo-pokemonblipcaptions.mean  0.389157   \n",
       "gate-evolve-nn-k=14-loo-ham10k.mean               0.375283   \n",
       "gate-evolve-nn-k=14-loo-cifar100.mean             0.373567   \n",
       "gate-evolve-nn-k=14-loo-fungi.mean                0.371683   \n",
       "gate-evolve-nn-k=14-loo-vgg.mean                  0.367432   \n",
       "gate-evolve-nn-k=14-loo-cubirds.mean              0.365401   \n",
       "gate-evolve-nn-k=14-loo-full.mean                 0.334634   \n",
       "gate-evolve-nn-k=14-loo-nyu.min                   0.180734   \n",
       "gate-evolve-nn-k=14-loo-ham10k.min                0.179612   \n",
       "gate-evolve-nn-k=14-loo-vgg.min                   0.179348   \n",
       "gate-evolve-nn-k=14-loo-cifar100.min              0.178167   \n",
       "gate-evolve-nn-k=14-loo-coco-10k.min              0.173421   \n",
       "gate-evolve-nn-k=14-loo-chexpert.min              0.172072   \n",
       "gate-evolve-nn-k=14-loo-fungi.min                  0.17176   \n",
       "gate-evolve-nn-k=14-loo-aircraft.min              0.171748   \n",
       "gate-evolve-nn-k=14-loo-cubirds.min                0.17167   \n",
       "gate-evolve-nn-k=14-loo-pokemonblipcaptions.min   0.165746   \n",
       "gate-evolve-nn-k=14-loo-ucf.min                   0.163736   \n",
       "gate-evolve-nn-k=14-loo-imagenet1k.min            0.163091   \n",
       "gate-evolve-nn-k=14-loo-clevr.min                 0.160353   \n",
       "gate-evolve-nn-k=14-loo-winoground.min            0.155647   \n",
       "gate-evolve-nn-k=14-loo-full.min                  0.153326   \n",
       "gate-evolve-nn-k=14-loo-coco-10k.std              0.148052   \n",
       "gate-evolve-nn-k=14-loo-aircraft.std              0.146177   \n",
       "gate-evolve-nn-k=14-loo-chexpert.std              0.141545   \n",
       "gate-evolve-nn-k=14-loo-ham10k.std                0.137777   \n",
       "gate-evolve-nn-k=14-loo-nyu.std                    0.13574   \n",
       "gate-evolve-nn-k=14-loo-fungi.std                 0.134862   \n",
       "gate-evolve-nn-k=14-loo-winoground.std            0.132889   \n",
       "gate-evolve-nn-k=14-loo-pokemonblipcaptions.std   0.131605   \n",
       "gate-evolve-nn-k=14-loo-imagenet1k.std            0.129917   \n",
       "gate-evolve-nn-k=14-loo-cubirds.std               0.127997   \n",
       "gate-evolve-nn-k=14-loo-clevr.std                 0.127256   \n",
       "gate-evolve-nn-k=14-loo-ucf.std                    0.11576   \n",
       "gate-evolve-nn-k=14-loo-vgg.std                   0.105724   \n",
       "gate-evolve-nn-k=14-loo-cifar100.std              0.104411   \n",
       "gate-evolve-nn-k=14-loo-full.std                  0.102115   \n",
       "\n",
       "Name                                                             Name  \\\n",
       "gate-evolve-nn-k=14-loo-pokemonblipcaptions.max   pokemonblipcaptions   \n",
       "gate-evolve-nn-k=14-loo-ham10k.max                             ham10k   \n",
       "gate-evolve-nn-k=14-loo-fungi.max                               fungi   \n",
       "gate-evolve-nn-k=14-loo-coco-10k.max                         coco-10k   \n",
       "gate-evolve-nn-k=14-loo-aircraft.max                         aircraft   \n",
       "gate-evolve-nn-k=14-loo-chexpert.max                         chexpert   \n",
       "gate-evolve-nn-k=14-loo-cubirds.max                           cubirds   \n",
       "gate-evolve-nn-k=14-loo-clevr.max                               clevr   \n",
       "gate-evolve-nn-k=14-loo-nyu.max                                   nyu   \n",
       "gate-evolve-nn-k=14-loo-imagenet1k.max                     imagenet1k   \n",
       "gate-evolve-nn-k=14-loo-winoground.max                     winoground   \n",
       "gate-evolve-nn-k=14-loo-ucf.max                                   ucf   \n",
       "gate-evolve-nn-k=14-loo-cifar100.max                         cifar100   \n",
       "gate-evolve-nn-k=14-loo-full.max                                 full   \n",
       "gate-evolve-nn-k=14-loo-vgg.max                                   vgg   \n",
       "gate-evolve-nn-k=14-loo-nyu.mean                                  nyu   \n",
       "gate-evolve-nn-k=14-loo-coco-10k.mean                        coco-10k   \n",
       "gate-evolve-nn-k=14-loo-clevr.mean                              clevr   \n",
       "gate-evolve-nn-k=14-loo-winoground.mean                    winoground   \n",
       "gate-evolve-nn-k=14-loo-aircraft.mean                        aircraft   \n",
       "gate-evolve-nn-k=14-loo-chexpert.mean                        chexpert   \n",
       "gate-evolve-nn-k=14-loo-ucf.mean                                  ucf   \n",
       "gate-evolve-nn-k=14-loo-imagenet1k.mean                    imagenet1k   \n",
       "gate-evolve-nn-k=14-loo-pokemonblipcaptions.mean  pokemonblipcaptions   \n",
       "gate-evolve-nn-k=14-loo-ham10k.mean                            ham10k   \n",
       "gate-evolve-nn-k=14-loo-cifar100.mean                        cifar100   \n",
       "gate-evolve-nn-k=14-loo-fungi.mean                              fungi   \n",
       "gate-evolve-nn-k=14-loo-vgg.mean                                  vgg   \n",
       "gate-evolve-nn-k=14-loo-cubirds.mean                          cubirds   \n",
       "gate-evolve-nn-k=14-loo-full.mean                                full   \n",
       "gate-evolve-nn-k=14-loo-nyu.min                                   nyu   \n",
       "gate-evolve-nn-k=14-loo-ham10k.min                             ham10k   \n",
       "gate-evolve-nn-k=14-loo-vgg.min                                   vgg   \n",
       "gate-evolve-nn-k=14-loo-cifar100.min                         cifar100   \n",
       "gate-evolve-nn-k=14-loo-coco-10k.min                         coco-10k   \n",
       "gate-evolve-nn-k=14-loo-chexpert.min                         chexpert   \n",
       "gate-evolve-nn-k=14-loo-fungi.min                               fungi   \n",
       "gate-evolve-nn-k=14-loo-aircraft.min                         aircraft   \n",
       "gate-evolve-nn-k=14-loo-cubirds.min                           cubirds   \n",
       "gate-evolve-nn-k=14-loo-pokemonblipcaptions.min   pokemonblipcaptions   \n",
       "gate-evolve-nn-k=14-loo-ucf.min                                   ucf   \n",
       "gate-evolve-nn-k=14-loo-imagenet1k.min                     imagenet1k   \n",
       "gate-evolve-nn-k=14-loo-clevr.min                               clevr   \n",
       "gate-evolve-nn-k=14-loo-winoground.min                     winoground   \n",
       "gate-evolve-nn-k=14-loo-full.min                                 full   \n",
       "gate-evolve-nn-k=14-loo-coco-10k.std                         coco-10k   \n",
       "gate-evolve-nn-k=14-loo-aircraft.std                         aircraft   \n",
       "gate-evolve-nn-k=14-loo-chexpert.std                         chexpert   \n",
       "gate-evolve-nn-k=14-loo-ham10k.std                             ham10k   \n",
       "gate-evolve-nn-k=14-loo-nyu.std                                   nyu   \n",
       "gate-evolve-nn-k=14-loo-fungi.std                               fungi   \n",
       "gate-evolve-nn-k=14-loo-winoground.std                     winoground   \n",
       "gate-evolve-nn-k=14-loo-pokemonblipcaptions.std   pokemonblipcaptions   \n",
       "gate-evolve-nn-k=14-loo-imagenet1k.std                     imagenet1k   \n",
       "gate-evolve-nn-k=14-loo-cubirds.std                           cubirds   \n",
       "gate-evolve-nn-k=14-loo-clevr.std                               clevr   \n",
       "gate-evolve-nn-k=14-loo-ucf.std                                   ucf   \n",
       "gate-evolve-nn-k=14-loo-vgg.std                                   vgg   \n",
       "gate-evolve-nn-k=14-loo-cifar100.std                         cifar100   \n",
       "gate-evolve-nn-k=14-loo-full.std                                 full   \n",
       "\n",
       "Name                                             Statistic  \n",
       "gate-evolve-nn-k=14-loo-pokemonblipcaptions.max        max  \n",
       "gate-evolve-nn-k=14-loo-ham10k.max                     max  \n",
       "gate-evolve-nn-k=14-loo-fungi.max                      max  \n",
       "gate-evolve-nn-k=14-loo-coco-10k.max                   max  \n",
       "gate-evolve-nn-k=14-loo-aircraft.max                   max  \n",
       "gate-evolve-nn-k=14-loo-chexpert.max                   max  \n",
       "gate-evolve-nn-k=14-loo-cubirds.max                    max  \n",
       "gate-evolve-nn-k=14-loo-clevr.max                      max  \n",
       "gate-evolve-nn-k=14-loo-nyu.max                        max  \n",
       "gate-evolve-nn-k=14-loo-imagenet1k.max                 max  \n",
       "gate-evolve-nn-k=14-loo-winoground.max                 max  \n",
       "gate-evolve-nn-k=14-loo-ucf.max                        max  \n",
       "gate-evolve-nn-k=14-loo-cifar100.max                   max  \n",
       "gate-evolve-nn-k=14-loo-full.max                       max  \n",
       "gate-evolve-nn-k=14-loo-vgg.max                        max  \n",
       "gate-evolve-nn-k=14-loo-nyu.mean                      mean  \n",
       "gate-evolve-nn-k=14-loo-coco-10k.mean                 mean  \n",
       "gate-evolve-nn-k=14-loo-clevr.mean                    mean  \n",
       "gate-evolve-nn-k=14-loo-winoground.mean               mean  \n",
       "gate-evolve-nn-k=14-loo-aircraft.mean                 mean  \n",
       "gate-evolve-nn-k=14-loo-chexpert.mean                 mean  \n",
       "gate-evolve-nn-k=14-loo-ucf.mean                      mean  \n",
       "gate-evolve-nn-k=14-loo-imagenet1k.mean               mean  \n",
       "gate-evolve-nn-k=14-loo-pokemonblipcaptions.mean      mean  \n",
       "gate-evolve-nn-k=14-loo-ham10k.mean                   mean  \n",
       "gate-evolve-nn-k=14-loo-cifar100.mean                 mean  \n",
       "gate-evolve-nn-k=14-loo-fungi.mean                    mean  \n",
       "gate-evolve-nn-k=14-loo-vgg.mean                      mean  \n",
       "gate-evolve-nn-k=14-loo-cubirds.mean                  mean  \n",
       "gate-evolve-nn-k=14-loo-full.mean                     mean  \n",
       "gate-evolve-nn-k=14-loo-nyu.min                        min  \n",
       "gate-evolve-nn-k=14-loo-ham10k.min                     min  \n",
       "gate-evolve-nn-k=14-loo-vgg.min                        min  \n",
       "gate-evolve-nn-k=14-loo-cifar100.min                   min  \n",
       "gate-evolve-nn-k=14-loo-coco-10k.min                   min  \n",
       "gate-evolve-nn-k=14-loo-chexpert.min                   min  \n",
       "gate-evolve-nn-k=14-loo-fungi.min                      min  \n",
       "gate-evolve-nn-k=14-loo-aircraft.min                   min  \n",
       "gate-evolve-nn-k=14-loo-cubirds.min                    min  \n",
       "gate-evolve-nn-k=14-loo-pokemonblipcaptions.min        min  \n",
       "gate-evolve-nn-k=14-loo-ucf.min                        min  \n",
       "gate-evolve-nn-k=14-loo-imagenet1k.min                 min  \n",
       "gate-evolve-nn-k=14-loo-clevr.min                      min  \n",
       "gate-evolve-nn-k=14-loo-winoground.min                 min  \n",
       "gate-evolve-nn-k=14-loo-full.min                       min  \n",
       "gate-evolve-nn-k=14-loo-coco-10k.std                   std  \n",
       "gate-evolve-nn-k=14-loo-aircraft.std                   std  \n",
       "gate-evolve-nn-k=14-loo-chexpert.std                   std  \n",
       "gate-evolve-nn-k=14-loo-ham10k.std                     std  \n",
       "gate-evolve-nn-k=14-loo-nyu.std                        std  \n",
       "gate-evolve-nn-k=14-loo-fungi.std                      std  \n",
       "gate-evolve-nn-k=14-loo-winoground.std                 std  \n",
       "gate-evolve-nn-k=14-loo-pokemonblipcaptions.std        std  \n",
       "gate-evolve-nn-k=14-loo-imagenet1k.std                 std  \n",
       "gate-evolve-nn-k=14-loo-cubirds.std                    std  \n",
       "gate-evolve-nn-k=14-loo-clevr.std                      std  \n",
       "gate-evolve-nn-k=14-loo-ucf.std                        std  \n",
       "gate-evolve-nn-k=14-loo-vgg.std                        std  \n",
       "gate-evolve-nn-k=14-loo-cifar100.std                   std  \n",
       "gate-evolve-nn-k=14-loo-full.std                       std  "
      ]
     },
     "metadata": {},
     "output_type": "display_data"
    }
   ],
   "source": [
    "import dis\n",
    "import pandas as pd\n",
    "import plotly.express as px\n",
    "\n",
    "# Load the data from the CSV file\n",
    "data = pd.read_csv('k=14-nn-evolve-1.csv')\n",
    "# transpose\n",
    "data = data.T\n",
    "# Set the first row as the column names and remove it\n",
    "data.columns = data.iloc[0]\n",
    "data = data[1:]\n",
    "# remove term gate-evolve-nn-k=14-loo- and .mean from Name\n",
    "data[\"Name\"] = data.index.str.replace(\"gate-evolve-nn-k=14-loo-\", \"\").str.replace(\"newyorkercaptioncontest\", \"nyc\")\n",
    "# split name into two columns using . as separator\n",
    "data[['Name', 'Statistic']] = data[\"Name\"].str.split(\".\", expand=True)\n",
    "# display_custom(data)\n",
    "# rename second column to Score\n",
    "data = data.rename(columns={data.columns[0]: \"Value\"})\n",
    "# sort by score\n",
    "data = data.sort_values(by=\"Value\", ascending=False)\n",
    "# remove rows with nan values\n",
    "data = data.dropna()\n",
    "display_custom(data)\n",
    "\n"
   ]
  },
  {
   "cell_type": "code",
   "execution_count": 1541,
   "metadata": {},
   "outputs": [
    {
     "data": {
      "application/vnd.plotly.v1+json": {
       "config": {
        "plotlyServerURL": "https://plot.ly"
       },
       "data": [
        {
         "boxpoints": false,
         "line": {
          "width": 2
         },
         "name": "aircraft",
         "type": "box",
         "y": [
          0.1717475056648254,
          0.2628010511398315,
          0.4089780747890472,
          0.5551550984382629,
          0.7727833390235901
         ]
        },
        {
         "boxpoints": false,
         "line": {
          "width": 2
         },
         "name": "chexpert",
         "type": "box",
         "y": [
          0.1720724701881408,
          0.2630636096000672,
          0.404608815908432,
          0.5461540222167969,
          0.751506507396698
         ]
        },
        {
         "boxpoints": false,
         "line": {
          "width": 2
         },
         "name": "cifar100",
         "type": "box",
         "y": [
          0.1781671643257141,
          0.2691556215286255,
          0.373566597700119,
          0.47797757387161255,
          0.6009647250175476
         ]
        },
        {
         "boxpoints": false,
         "line": {
          "width": 2
         },
         "name": "clevr",
         "type": "box",
         "y": [
          0.1603529155254364,
          0.2894425243139267,
          0.4166990220546722,
          0.5439555197954177,
          0.6874444484710693
         ]
        },
        {
         "boxpoints": false,
         "line": {
          "width": 2
         },
         "name": "coco-10k",
         "type": "box",
         "y": [
          0.1734207719564438,
          0.28401018679142,
          0.4320623874664306,
          0.5801145881414412,
          0.7739912271499634
         ]
        },
        {
         "boxpoints": false,
         "line": {
          "width": 2
         },
         "name": "cubirds",
         "type": "box",
         "y": [
          0.1716697067022323,
          0.23740445077419278,
          0.3654011487960815,
          0.49339784681797016,
          0.7511026859283447
         ]
        },
        {
         "boxpoints": false,
         "line": {
          "width": 2
         },
         "name": "full",
         "type": "box",
         "y": [
          0.15332593023777,
          0.23251896351575851,
          0.3346337974071502,
          0.4367486312985419,
          0.5942511558532715
         ]
        },
        {
         "boxpoints": false,
         "line": {
          "width": 2
         },
         "name": "fungi",
         "type": "box",
         "y": [
          0.1717600524425506,
          0.23682108521461487,
          0.3716830909252167,
          0.5065450966358185,
          0.7766436338424683
         ]
        },
        {
         "boxpoints": false,
         "line": {
          "width": 2
         },
         "name": "ham10k",
         "type": "box",
         "y": [
          0.179611936211586,
          0.23750635981559762,
          0.3752829730510712,
          0.5130595862865448,
          0.7850701808929443
         ]
        },
        {
         "boxpoints": false,
         "line": {
          "width": 2
         },
         "name": "imagenet1k",
         "type": "box",
         "y": [
          0.163090780377388,
          0.2711468935012817,
          0.4010643661022186,
          0.5309818387031555,
          0.6714368462562561
         ]
        },
        {
         "boxpoints": false,
         "line": {
          "width": 2
         },
         "name": "nyu",
         "type": "box",
         "y": [
          0.1807339191436767,
          0.3013098984956741,
          0.4370501339435577,
          0.5727903693914413,
          0.6846140623092651
         ]
        },
        {
         "boxpoints": false,
         "line": {
          "width": 2
         },
         "name": "pokemonblipcaptions",
         "type": "box",
         "y": [
          0.1657463312149048,
          0.25755244493484497,
          0.3891570270061493,
          0.5207616090774536,
          0.8041180968284607
         ]
        },
        {
         "boxpoints": false,
         "line": {
          "width": 2
         },
         "name": "ucf",
         "type": "box",
         "y": [
          0.1637364625930786,
          0.2859599739313125,
          0.4017204344272613,
          0.5174808949232101,
          0.6192203760147095
         ]
        },
        {
         "boxpoints": false,
         "line": {
          "width": 2
         },
         "name": "vgg",
         "type": "box",
         "y": [
          0.1793475151062011,
          0.2617080286145211,
          0.3674319386482239,
          0.47315584868192667,
          0.5903315544128418
         ]
        },
        {
         "boxpoints": false,
         "line": {
          "width": 2
         },
         "name": "winoground",
         "type": "box",
         "y": [
          0.1556467413902282,
          0.278301477432251,
          0.4111907482147217,
          0.5440800189971924,
          0.6197376251220703
         ]
        }
       ],
       "layout": {
        "template": {
         "data": {
          "bar": [
           {
            "error_x": {
             "color": "#2a3f5f"
            },
            "error_y": {
             "color": "#2a3f5f"
            },
            "marker": {
             "line": {
              "color": "#E5ECF6",
              "width": 0.5
             },
             "pattern": {
              "fillmode": "overlay",
              "size": 10,
              "solidity": 0.2
             }
            },
            "type": "bar"
           }
          ],
          "barpolar": [
           {
            "marker": {
             "line": {
              "color": "#E5ECF6",
              "width": 0.5
             },
             "pattern": {
              "fillmode": "overlay",
              "size": 10,
              "solidity": 0.2
             }
            },
            "type": "barpolar"
           }
          ],
          "carpet": [
           {
            "aaxis": {
             "endlinecolor": "#2a3f5f",
             "gridcolor": "white",
             "linecolor": "white",
             "minorgridcolor": "white",
             "startlinecolor": "#2a3f5f"
            },
            "baxis": {
             "endlinecolor": "#2a3f5f",
             "gridcolor": "white",
             "linecolor": "white",
             "minorgridcolor": "white",
             "startlinecolor": "#2a3f5f"
            },
            "type": "carpet"
           }
          ],
          "choropleth": [
           {
            "colorbar": {
             "outlinewidth": 0,
             "ticks": ""
            },
            "type": "choropleth"
           }
          ],
          "contour": [
           {
            "colorbar": {
             "outlinewidth": 0,
             "ticks": ""
            },
            "colorscale": [
             [
              0,
              "#0d0887"
             ],
             [
              0.1111111111111111,
              "#46039f"
             ],
             [
              0.2222222222222222,
              "#7201a8"
             ],
             [
              0.3333333333333333,
              "#9c179e"
             ],
             [
              0.4444444444444444,
              "#bd3786"
             ],
             [
              0.5555555555555556,
              "#d8576b"
             ],
             [
              0.6666666666666666,
              "#ed7953"
             ],
             [
              0.7777777777777778,
              "#fb9f3a"
             ],
             [
              0.8888888888888888,
              "#fdca26"
             ],
             [
              1,
              "#f0f921"
             ]
            ],
            "type": "contour"
           }
          ],
          "contourcarpet": [
           {
            "colorbar": {
             "outlinewidth": 0,
             "ticks": ""
            },
            "type": "contourcarpet"
           }
          ],
          "heatmap": [
           {
            "colorbar": {
             "outlinewidth": 0,
             "ticks": ""
            },
            "colorscale": [
             [
              0,
              "#0d0887"
             ],
             [
              0.1111111111111111,
              "#46039f"
             ],
             [
              0.2222222222222222,
              "#7201a8"
             ],
             [
              0.3333333333333333,
              "#9c179e"
             ],
             [
              0.4444444444444444,
              "#bd3786"
             ],
             [
              0.5555555555555556,
              "#d8576b"
             ],
             [
              0.6666666666666666,
              "#ed7953"
             ],
             [
              0.7777777777777778,
              "#fb9f3a"
             ],
             [
              0.8888888888888888,
              "#fdca26"
             ],
             [
              1,
              "#f0f921"
             ]
            ],
            "type": "heatmap"
           }
          ],
          "heatmapgl": [
           {
            "colorbar": {
             "outlinewidth": 0,
             "ticks": ""
            },
            "colorscale": [
             [
              0,
              "#0d0887"
             ],
             [
              0.1111111111111111,
              "#46039f"
             ],
             [
              0.2222222222222222,
              "#7201a8"
             ],
             [
              0.3333333333333333,
              "#9c179e"
             ],
             [
              0.4444444444444444,
              "#bd3786"
             ],
             [
              0.5555555555555556,
              "#d8576b"
             ],
             [
              0.6666666666666666,
              "#ed7953"
             ],
             [
              0.7777777777777778,
              "#fb9f3a"
             ],
             [
              0.8888888888888888,
              "#fdca26"
             ],
             [
              1,
              "#f0f921"
             ]
            ],
            "type": "heatmapgl"
           }
          ],
          "histogram": [
           {
            "marker": {
             "pattern": {
              "fillmode": "overlay",
              "size": 10,
              "solidity": 0.2
             }
            },
            "type": "histogram"
           }
          ],
          "histogram2d": [
           {
            "colorbar": {
             "outlinewidth": 0,
             "ticks": ""
            },
            "colorscale": [
             [
              0,
              "#0d0887"
             ],
             [
              0.1111111111111111,
              "#46039f"
             ],
             [
              0.2222222222222222,
              "#7201a8"
             ],
             [
              0.3333333333333333,
              "#9c179e"
             ],
             [
              0.4444444444444444,
              "#bd3786"
             ],
             [
              0.5555555555555556,
              "#d8576b"
             ],
             [
              0.6666666666666666,
              "#ed7953"
             ],
             [
              0.7777777777777778,
              "#fb9f3a"
             ],
             [
              0.8888888888888888,
              "#fdca26"
             ],
             [
              1,
              "#f0f921"
             ]
            ],
            "type": "histogram2d"
           }
          ],
          "histogram2dcontour": [
           {
            "colorbar": {
             "outlinewidth": 0,
             "ticks": ""
            },
            "colorscale": [
             [
              0,
              "#0d0887"
             ],
             [
              0.1111111111111111,
              "#46039f"
             ],
             [
              0.2222222222222222,
              "#7201a8"
             ],
             [
              0.3333333333333333,
              "#9c179e"
             ],
             [
              0.4444444444444444,
              "#bd3786"
             ],
             [
              0.5555555555555556,
              "#d8576b"
             ],
             [
              0.6666666666666666,
              "#ed7953"
             ],
             [
              0.7777777777777778,
              "#fb9f3a"
             ],
             [
              0.8888888888888888,
              "#fdca26"
             ],
             [
              1,
              "#f0f921"
             ]
            ],
            "type": "histogram2dcontour"
           }
          ],
          "mesh3d": [
           {
            "colorbar": {
             "outlinewidth": 0,
             "ticks": ""
            },
            "type": "mesh3d"
           }
          ],
          "parcoords": [
           {
            "line": {
             "colorbar": {
              "outlinewidth": 0,
              "ticks": ""
             }
            },
            "type": "parcoords"
           }
          ],
          "pie": [
           {
            "automargin": true,
            "type": "pie"
           }
          ],
          "scatter": [
           {
            "fillpattern": {
             "fillmode": "overlay",
             "size": 10,
             "solidity": 0.2
            },
            "type": "scatter"
           }
          ],
          "scatter3d": [
           {
            "line": {
             "colorbar": {
              "outlinewidth": 0,
              "ticks": ""
             }
            },
            "marker": {
             "colorbar": {
              "outlinewidth": 0,
              "ticks": ""
             }
            },
            "type": "scatter3d"
           }
          ],
          "scattercarpet": [
           {
            "marker": {
             "colorbar": {
              "outlinewidth": 0,
              "ticks": ""
             }
            },
            "type": "scattercarpet"
           }
          ],
          "scattergeo": [
           {
            "marker": {
             "colorbar": {
              "outlinewidth": 0,
              "ticks": ""
             }
            },
            "type": "scattergeo"
           }
          ],
          "scattergl": [
           {
            "marker": {
             "colorbar": {
              "outlinewidth": 0,
              "ticks": ""
             }
            },
            "type": "scattergl"
           }
          ],
          "scattermapbox": [
           {
            "marker": {
             "colorbar": {
              "outlinewidth": 0,
              "ticks": ""
             }
            },
            "type": "scattermapbox"
           }
          ],
          "scatterpolar": [
           {
            "marker": {
             "colorbar": {
              "outlinewidth": 0,
              "ticks": ""
             }
            },
            "type": "scatterpolar"
           }
          ],
          "scatterpolargl": [
           {
            "marker": {
             "colorbar": {
              "outlinewidth": 0,
              "ticks": ""
             }
            },
            "type": "scatterpolargl"
           }
          ],
          "scatterternary": [
           {
            "marker": {
             "colorbar": {
              "outlinewidth": 0,
              "ticks": ""
             }
            },
            "type": "scatterternary"
           }
          ],
          "surface": [
           {
            "colorbar": {
             "outlinewidth": 0,
             "ticks": ""
            },
            "colorscale": [
             [
              0,
              "#0d0887"
             ],
             [
              0.1111111111111111,
              "#46039f"
             ],
             [
              0.2222222222222222,
              "#7201a8"
             ],
             [
              0.3333333333333333,
              "#9c179e"
             ],
             [
              0.4444444444444444,
              "#bd3786"
             ],
             [
              0.5555555555555556,
              "#d8576b"
             ],
             [
              0.6666666666666666,
              "#ed7953"
             ],
             [
              0.7777777777777778,
              "#fb9f3a"
             ],
             [
              0.8888888888888888,
              "#fdca26"
             ],
             [
              1,
              "#f0f921"
             ]
            ],
            "type": "surface"
           }
          ],
          "table": [
           {
            "cells": {
             "fill": {
              "color": "#EBF0F8"
             },
             "line": {
              "color": "white"
             }
            },
            "header": {
             "fill": {
              "color": "#C8D4E3"
             },
             "line": {
              "color": "white"
             }
            },
            "type": "table"
           }
          ]
         },
         "layout": {
          "annotationdefaults": {
           "arrowcolor": "#2a3f5f",
           "arrowhead": 0,
           "arrowwidth": 1
          },
          "autotypenumbers": "strict",
          "coloraxis": {
           "colorbar": {
            "outlinewidth": 0,
            "ticks": ""
           }
          },
          "colorscale": {
           "diverging": [
            [
             0,
             "#8e0152"
            ],
            [
             0.1,
             "#c51b7d"
            ],
            [
             0.2,
             "#de77ae"
            ],
            [
             0.3,
             "#f1b6da"
            ],
            [
             0.4,
             "#fde0ef"
            ],
            [
             0.5,
             "#f7f7f7"
            ],
            [
             0.6,
             "#e6f5d0"
            ],
            [
             0.7,
             "#b8e186"
            ],
            [
             0.8,
             "#7fbc41"
            ],
            [
             0.9,
             "#4d9221"
            ],
            [
             1,
             "#276419"
            ]
           ],
           "sequential": [
            [
             0,
             "#0d0887"
            ],
            [
             0.1111111111111111,
             "#46039f"
            ],
            [
             0.2222222222222222,
             "#7201a8"
            ],
            [
             0.3333333333333333,
             "#9c179e"
            ],
            [
             0.4444444444444444,
             "#bd3786"
            ],
            [
             0.5555555555555556,
             "#d8576b"
            ],
            [
             0.6666666666666666,
             "#ed7953"
            ],
            [
             0.7777777777777778,
             "#fb9f3a"
            ],
            [
             0.8888888888888888,
             "#fdca26"
            ],
            [
             1,
             "#f0f921"
            ]
           ],
           "sequentialminus": [
            [
             0,
             "#0d0887"
            ],
            [
             0.1111111111111111,
             "#46039f"
            ],
            [
             0.2222222222222222,
             "#7201a8"
            ],
            [
             0.3333333333333333,
             "#9c179e"
            ],
            [
             0.4444444444444444,
             "#bd3786"
            ],
            [
             0.5555555555555556,
             "#d8576b"
            ],
            [
             0.6666666666666666,
             "#ed7953"
            ],
            [
             0.7777777777777778,
             "#fb9f3a"
            ],
            [
             0.8888888888888888,
             "#fdca26"
            ],
            [
             1,
             "#f0f921"
            ]
           ]
          },
          "colorway": [
           "#636efa",
           "#EF553B",
           "#00cc96",
           "#ab63fa",
           "#FFA15A",
           "#19d3f3",
           "#FF6692",
           "#B6E880",
           "#FF97FF",
           "#FECB52"
          ],
          "font": {
           "color": "#2a3f5f"
          },
          "geo": {
           "bgcolor": "white",
           "lakecolor": "white",
           "landcolor": "#E5ECF6",
           "showlakes": true,
           "showland": true,
           "subunitcolor": "white"
          },
          "hoverlabel": {
           "align": "left"
          },
          "hovermode": "closest",
          "mapbox": {
           "style": "light"
          },
          "paper_bgcolor": "white",
          "plot_bgcolor": "#E5ECF6",
          "polar": {
           "angularaxis": {
            "gridcolor": "white",
            "linecolor": "white",
            "ticks": ""
           },
           "bgcolor": "#E5ECF6",
           "radialaxis": {
            "gridcolor": "white",
            "linecolor": "white",
            "ticks": ""
           }
          },
          "scene": {
           "xaxis": {
            "backgroundcolor": "#E5ECF6",
            "gridcolor": "white",
            "gridwidth": 2,
            "linecolor": "white",
            "showbackground": true,
            "ticks": "",
            "zerolinecolor": "white"
           },
           "yaxis": {
            "backgroundcolor": "#E5ECF6",
            "gridcolor": "white",
            "gridwidth": 2,
            "linecolor": "white",
            "showbackground": true,
            "ticks": "",
            "zerolinecolor": "white"
           },
           "zaxis": {
            "backgroundcolor": "#E5ECF6",
            "gridcolor": "white",
            "gridwidth": 2,
            "linecolor": "white",
            "showbackground": true,
            "ticks": "",
            "zerolinecolor": "white"
           }
          },
          "shapedefaults": {
           "line": {
            "color": "#2a3f5f"
           }
          },
          "ternary": {
           "aaxis": {
            "gridcolor": "white",
            "linecolor": "white",
            "ticks": ""
           },
           "baxis": {
            "gridcolor": "white",
            "linecolor": "white",
            "ticks": ""
           },
           "bgcolor": "#E5ECF6",
           "caxis": {
            "gridcolor": "white",
            "linecolor": "white",
            "ticks": ""
           }
          },
          "title": {
           "x": 0.05
          },
          "xaxis": {
           "automargin": true,
           "gridcolor": "white",
           "linecolor": "white",
           "ticks": "",
           "title": {
            "standoff": 15
           },
           "zerolinecolor": "white",
           "zerolinewidth": 2
          },
          "yaxis": {
           "automargin": true,
           "gridcolor": "white",
           "linecolor": "white",
           "ticks": "",
           "title": {
            "standoff": 15
           },
           "zerolinecolor": "white",
           "zerolinewidth": 2
          }
         }
        }
       }
      }
     },
     "metadata": {},
     "output_type": "display_data"
    }
   ],
   "source": [
    "stats_data = {\n",
    "    'Name': [],\n",
    "    'min_score': [],\n",
    "    'mean_score': [],\n",
    "    'max_score': [],\n",
    "    'std_score': []\n",
    "}\n",
    "\n",
    "for name, group in data.groupby('Name'):\n",
    "    min_row = group[group['Statistic'] == 'min']\n",
    "    mean_row = group[group['Statistic'] == 'mean']\n",
    "    max_row = group[group['Statistic'] == 'max']\n",
    "    std_row = group[group['Statistic'] == 'std']\n",
    "\n",
    "    stats_data['Name'].append(name)\n",
    "    stats_data['min_score'].append(min_row['Value'].values[0] if not min_row.empty else None)\n",
    "    stats_data['mean_score'].append(mean_row['Value'].values[0] if not mean_row.empty else None)\n",
    "    stats_data['max_score'].append(max_row['Value'].values[0] if not max_row.empty else None)\n",
    "    stats_data['std_score'].append(std_row['Value'].values[0] if not std_row.empty else None)\n",
    "\n",
    "stats_df = pd.DataFrame(stats_data)\n",
    "\n",
    "# Now create the box plots\n",
    "traces = []\n",
    "for idx, row in stats_df.iterrows():\n",
    "    # Check if we have all necessary stats to plot\n",
    "    if pd.notnull(row['min_score']) and pd.notnull(row['mean_score']) and pd.notnull(row['max_score']) and pd.notnull(row['std_score']):\n",
    "        traces.append(go.Box(\n",
    "            y=[row['min_score'], row['mean_score'] - row['std_score'], row['mean_score'], row['mean_score'] + row['std_score'], row['max_score']],\n",
    "            name=row['Name'],\n",
    "            boxpoints=False,\n",
    "            line_width=2,\n",
    "        ))\n",
    "\n",
    "# Create the figure and add traces\n",
    "fig = go.Figure(traces)\n",
    "fig.show()"
   ]
  },
  {
   "cell_type": "code",
   "execution_count": 1542,
   "metadata": {},
   "outputs": [
    {
     "data": {
      "text/html": [
       "<div>\n",
       "<style scoped>\n",
       "    .dataframe tbody tr th:only-of-type {\n",
       "        vertical-align: middle;\n",
       "    }\n",
       "\n",
       "    .dataframe tbody tr th {\n",
       "        vertical-align: top;\n",
       "    }\n",
       "\n",
       "    .dataframe thead th {\n",
       "        text-align: right;\n",
       "    }\n",
       "</style>\n",
       "<table border=\"1\" class=\"dataframe\">\n",
       "  <thead>\n",
       "    <tr style=\"text-align: right;\">\n",
       "      <th></th>\n",
       "      <th>Name</th>\n",
       "      <th>min_score</th>\n",
       "      <th>mean_score</th>\n",
       "      <th>max_score</th>\n",
       "      <th>std_score</th>\n",
       "    </tr>\n",
       "  </thead>\n",
       "  <tbody>\n",
       "    <tr>\n",
       "      <th>10</th>\n",
       "      <td>nyu</td>\n",
       "      <td>0.180734</td>\n",
       "      <td>0.437050</td>\n",
       "      <td>0.684614</td>\n",
       "      <td>0.135740</td>\n",
       "    </tr>\n",
       "    <tr>\n",
       "      <th>4</th>\n",
       "      <td>coco-10k</td>\n",
       "      <td>0.173421</td>\n",
       "      <td>0.432062</td>\n",
       "      <td>0.773991</td>\n",
       "      <td>0.148052</td>\n",
       "    </tr>\n",
       "    <tr>\n",
       "      <th>3</th>\n",
       "      <td>clevr</td>\n",
       "      <td>0.160353</td>\n",
       "      <td>0.416699</td>\n",
       "      <td>0.687444</td>\n",
       "      <td>0.127256</td>\n",
       "    </tr>\n",
       "    <tr>\n",
       "      <th>14</th>\n",
       "      <td>winoground</td>\n",
       "      <td>0.155647</td>\n",
       "      <td>0.411191</td>\n",
       "      <td>0.619738</td>\n",
       "      <td>0.132889</td>\n",
       "    </tr>\n",
       "    <tr>\n",
       "      <th>0</th>\n",
       "      <td>aircraft</td>\n",
       "      <td>0.171748</td>\n",
       "      <td>0.408978</td>\n",
       "      <td>0.772783</td>\n",
       "      <td>0.146177</td>\n",
       "    </tr>\n",
       "    <tr>\n",
       "      <th>1</th>\n",
       "      <td>chexpert</td>\n",
       "      <td>0.172072</td>\n",
       "      <td>0.404609</td>\n",
       "      <td>0.751507</td>\n",
       "      <td>0.141545</td>\n",
       "    </tr>\n",
       "    <tr>\n",
       "      <th>12</th>\n",
       "      <td>ucf</td>\n",
       "      <td>0.163736</td>\n",
       "      <td>0.401720</td>\n",
       "      <td>0.619220</td>\n",
       "      <td>0.115760</td>\n",
       "    </tr>\n",
       "    <tr>\n",
       "      <th>9</th>\n",
       "      <td>imagenet1k</td>\n",
       "      <td>0.163091</td>\n",
       "      <td>0.401064</td>\n",
       "      <td>0.671437</td>\n",
       "      <td>0.129917</td>\n",
       "    </tr>\n",
       "    <tr>\n",
       "      <th>11</th>\n",
       "      <td>pokemonblipcaptions</td>\n",
       "      <td>0.165746</td>\n",
       "      <td>0.389157</td>\n",
       "      <td>0.804118</td>\n",
       "      <td>0.131605</td>\n",
       "    </tr>\n",
       "    <tr>\n",
       "      <th>8</th>\n",
       "      <td>ham10k</td>\n",
       "      <td>0.179612</td>\n",
       "      <td>0.375283</td>\n",
       "      <td>0.785070</td>\n",
       "      <td>0.137777</td>\n",
       "    </tr>\n",
       "    <tr>\n",
       "      <th>2</th>\n",
       "      <td>cifar100</td>\n",
       "      <td>0.178167</td>\n",
       "      <td>0.373567</td>\n",
       "      <td>0.600965</td>\n",
       "      <td>0.104411</td>\n",
       "    </tr>\n",
       "    <tr>\n",
       "      <th>7</th>\n",
       "      <td>fungi</td>\n",
       "      <td>0.171760</td>\n",
       "      <td>0.371683</td>\n",
       "      <td>0.776644</td>\n",
       "      <td>0.134862</td>\n",
       "    </tr>\n",
       "    <tr>\n",
       "      <th>13</th>\n",
       "      <td>vgg</td>\n",
       "      <td>0.179348</td>\n",
       "      <td>0.367432</td>\n",
       "      <td>0.590332</td>\n",
       "      <td>0.105724</td>\n",
       "    </tr>\n",
       "    <tr>\n",
       "      <th>5</th>\n",
       "      <td>cubirds</td>\n",
       "      <td>0.171670</td>\n",
       "      <td>0.365401</td>\n",
       "      <td>0.751103</td>\n",
       "      <td>0.127997</td>\n",
       "    </tr>\n",
       "    <tr>\n",
       "      <th>6</th>\n",
       "      <td>full</td>\n",
       "      <td>0.153326</td>\n",
       "      <td>0.334634</td>\n",
       "      <td>0.594251</td>\n",
       "      <td>0.102115</td>\n",
       "    </tr>\n",
       "  </tbody>\n",
       "</table>\n",
       "</div>"
      ],
      "text/plain": [
       "                   Name  min_score  mean_score  max_score  std_score\n",
       "10                  nyu   0.180734    0.437050   0.684614   0.135740\n",
       "4              coco-10k   0.173421    0.432062   0.773991   0.148052\n",
       "3                 clevr   0.160353    0.416699   0.687444   0.127256\n",
       "14           winoground   0.155647    0.411191   0.619738   0.132889\n",
       "0              aircraft   0.171748    0.408978   0.772783   0.146177\n",
       "1              chexpert   0.172072    0.404609   0.751507   0.141545\n",
       "12                  ucf   0.163736    0.401720   0.619220   0.115760\n",
       "9            imagenet1k   0.163091    0.401064   0.671437   0.129917\n",
       "11  pokemonblipcaptions   0.165746    0.389157   0.804118   0.131605\n",
       "8                ham10k   0.179612    0.375283   0.785070   0.137777\n",
       "2              cifar100   0.178167    0.373567   0.600965   0.104411\n",
       "7                 fungi   0.171760    0.371683   0.776644   0.134862\n",
       "13                  vgg   0.179348    0.367432   0.590332   0.105724\n",
       "5               cubirds   0.171670    0.365401   0.751103   0.127997\n",
       "6                  full   0.153326    0.334634   0.594251   0.102115"
      ]
     },
     "metadata": {},
     "output_type": "display_data"
    },
    {
     "data": {
      "application/vnd.plotly.v1+json": {
       "config": {
        "plotlyServerURL": "https://plot.ly"
       },
       "data": [
        {
         "alignmentgroup": "True",
         "hovertemplate": "Dataset Name=%{x}<br>Score Difference (lower is better)=%{y}<extra></extra>",
         "legendgroup": "",
         "marker": {
          "color": "#636efa",
          "pattern": {
           "shape": ""
          }
         },
         "name": "",
         "offsetgroup": "",
         "orientation": "v",
         "showlegend": false,
         "textposition": "auto",
         "type": "bar",
         "x": [
          "nyu",
          "coco-10k",
          "clevr",
          "winoground",
          "aircraft",
          "chexpert",
          "ucf",
          "imagenet1k",
          "pokemonblip",
          "ham10k",
          "cifar100",
          "fungi",
          "vgg",
          "cubirds",
          "full"
         ],
         "xaxis": "x",
         "y": [
          0.10241633653640747,
          0.0974285900592804,
          0.08206522464752197,
          0.07655695080757147,
          0.07434427738189697,
          0.0699750185012818,
          0.06708663702011108,
          0.06643056869506836,
          0.05452322959899908,
          0.04064917564392101,
          0.038932800292968806,
          0.03704929351806646,
          0.032798141241073664,
          0.030767351388931274,
          0
         ],
         "yaxis": "y"
        }
       ],
       "layout": {
        "barmode": "relative",
        "font": {
         "size": 18
        },
        "legend": {
         "tracegroupgap": 0
        },
        "margin": {
         "t": 60
        },
        "showlegend": false,
        "template": {
         "data": {
          "bar": [
           {
            "error_x": {
             "color": "#2a3f5f"
            },
            "error_y": {
             "color": "#2a3f5f"
            },
            "marker": {
             "line": {
              "color": "#E5ECF6",
              "width": 0.5
             },
             "pattern": {
              "fillmode": "overlay",
              "size": 10,
              "solidity": 0.2
             }
            },
            "type": "bar"
           }
          ],
          "barpolar": [
           {
            "marker": {
             "line": {
              "color": "#E5ECF6",
              "width": 0.5
             },
             "pattern": {
              "fillmode": "overlay",
              "size": 10,
              "solidity": 0.2
             }
            },
            "type": "barpolar"
           }
          ],
          "carpet": [
           {
            "aaxis": {
             "endlinecolor": "#2a3f5f",
             "gridcolor": "white",
             "linecolor": "white",
             "minorgridcolor": "white",
             "startlinecolor": "#2a3f5f"
            },
            "baxis": {
             "endlinecolor": "#2a3f5f",
             "gridcolor": "white",
             "linecolor": "white",
             "minorgridcolor": "white",
             "startlinecolor": "#2a3f5f"
            },
            "type": "carpet"
           }
          ],
          "choropleth": [
           {
            "colorbar": {
             "outlinewidth": 0,
             "ticks": ""
            },
            "type": "choropleth"
           }
          ],
          "contour": [
           {
            "colorbar": {
             "outlinewidth": 0,
             "ticks": ""
            },
            "colorscale": [
             [
              0,
              "#0d0887"
             ],
             [
              0.1111111111111111,
              "#46039f"
             ],
             [
              0.2222222222222222,
              "#7201a8"
             ],
             [
              0.3333333333333333,
              "#9c179e"
             ],
             [
              0.4444444444444444,
              "#bd3786"
             ],
             [
              0.5555555555555556,
              "#d8576b"
             ],
             [
              0.6666666666666666,
              "#ed7953"
             ],
             [
              0.7777777777777778,
              "#fb9f3a"
             ],
             [
              0.8888888888888888,
              "#fdca26"
             ],
             [
              1,
              "#f0f921"
             ]
            ],
            "type": "contour"
           }
          ],
          "contourcarpet": [
           {
            "colorbar": {
             "outlinewidth": 0,
             "ticks": ""
            },
            "type": "contourcarpet"
           }
          ],
          "heatmap": [
           {
            "colorbar": {
             "outlinewidth": 0,
             "ticks": ""
            },
            "colorscale": [
             [
              0,
              "#0d0887"
             ],
             [
              0.1111111111111111,
              "#46039f"
             ],
             [
              0.2222222222222222,
              "#7201a8"
             ],
             [
              0.3333333333333333,
              "#9c179e"
             ],
             [
              0.4444444444444444,
              "#bd3786"
             ],
             [
              0.5555555555555556,
              "#d8576b"
             ],
             [
              0.6666666666666666,
              "#ed7953"
             ],
             [
              0.7777777777777778,
              "#fb9f3a"
             ],
             [
              0.8888888888888888,
              "#fdca26"
             ],
             [
              1,
              "#f0f921"
             ]
            ],
            "type": "heatmap"
           }
          ],
          "heatmapgl": [
           {
            "colorbar": {
             "outlinewidth": 0,
             "ticks": ""
            },
            "colorscale": [
             [
              0,
              "#0d0887"
             ],
             [
              0.1111111111111111,
              "#46039f"
             ],
             [
              0.2222222222222222,
              "#7201a8"
             ],
             [
              0.3333333333333333,
              "#9c179e"
             ],
             [
              0.4444444444444444,
              "#bd3786"
             ],
             [
              0.5555555555555556,
              "#d8576b"
             ],
             [
              0.6666666666666666,
              "#ed7953"
             ],
             [
              0.7777777777777778,
              "#fb9f3a"
             ],
             [
              0.8888888888888888,
              "#fdca26"
             ],
             [
              1,
              "#f0f921"
             ]
            ],
            "type": "heatmapgl"
           }
          ],
          "histogram": [
           {
            "marker": {
             "pattern": {
              "fillmode": "overlay",
              "size": 10,
              "solidity": 0.2
             }
            },
            "type": "histogram"
           }
          ],
          "histogram2d": [
           {
            "colorbar": {
             "outlinewidth": 0,
             "ticks": ""
            },
            "colorscale": [
             [
              0,
              "#0d0887"
             ],
             [
              0.1111111111111111,
              "#46039f"
             ],
             [
              0.2222222222222222,
              "#7201a8"
             ],
             [
              0.3333333333333333,
              "#9c179e"
             ],
             [
              0.4444444444444444,
              "#bd3786"
             ],
             [
              0.5555555555555556,
              "#d8576b"
             ],
             [
              0.6666666666666666,
              "#ed7953"
             ],
             [
              0.7777777777777778,
              "#fb9f3a"
             ],
             [
              0.8888888888888888,
              "#fdca26"
             ],
             [
              1,
              "#f0f921"
             ]
            ],
            "type": "histogram2d"
           }
          ],
          "histogram2dcontour": [
           {
            "colorbar": {
             "outlinewidth": 0,
             "ticks": ""
            },
            "colorscale": [
             [
              0,
              "#0d0887"
             ],
             [
              0.1111111111111111,
              "#46039f"
             ],
             [
              0.2222222222222222,
              "#7201a8"
             ],
             [
              0.3333333333333333,
              "#9c179e"
             ],
             [
              0.4444444444444444,
              "#bd3786"
             ],
             [
              0.5555555555555556,
              "#d8576b"
             ],
             [
              0.6666666666666666,
              "#ed7953"
             ],
             [
              0.7777777777777778,
              "#fb9f3a"
             ],
             [
              0.8888888888888888,
              "#fdca26"
             ],
             [
              1,
              "#f0f921"
             ]
            ],
            "type": "histogram2dcontour"
           }
          ],
          "mesh3d": [
           {
            "colorbar": {
             "outlinewidth": 0,
             "ticks": ""
            },
            "type": "mesh3d"
           }
          ],
          "parcoords": [
           {
            "line": {
             "colorbar": {
              "outlinewidth": 0,
              "ticks": ""
             }
            },
            "type": "parcoords"
           }
          ],
          "pie": [
           {
            "automargin": true,
            "type": "pie"
           }
          ],
          "scatter": [
           {
            "fillpattern": {
             "fillmode": "overlay",
             "size": 10,
             "solidity": 0.2
            },
            "type": "scatter"
           }
          ],
          "scatter3d": [
           {
            "line": {
             "colorbar": {
              "outlinewidth": 0,
              "ticks": ""
             }
            },
            "marker": {
             "colorbar": {
              "outlinewidth": 0,
              "ticks": ""
             }
            },
            "type": "scatter3d"
           }
          ],
          "scattercarpet": [
           {
            "marker": {
             "colorbar": {
              "outlinewidth": 0,
              "ticks": ""
             }
            },
            "type": "scattercarpet"
           }
          ],
          "scattergeo": [
           {
            "marker": {
             "colorbar": {
              "outlinewidth": 0,
              "ticks": ""
             }
            },
            "type": "scattergeo"
           }
          ],
          "scattergl": [
           {
            "marker": {
             "colorbar": {
              "outlinewidth": 0,
              "ticks": ""
             }
            },
            "type": "scattergl"
           }
          ],
          "scattermapbox": [
           {
            "marker": {
             "colorbar": {
              "outlinewidth": 0,
              "ticks": ""
             }
            },
            "type": "scattermapbox"
           }
          ],
          "scatterpolar": [
           {
            "marker": {
             "colorbar": {
              "outlinewidth": 0,
              "ticks": ""
             }
            },
            "type": "scatterpolar"
           }
          ],
          "scatterpolargl": [
           {
            "marker": {
             "colorbar": {
              "outlinewidth": 0,
              "ticks": ""
             }
            },
            "type": "scatterpolargl"
           }
          ],
          "scatterternary": [
           {
            "marker": {
             "colorbar": {
              "outlinewidth": 0,
              "ticks": ""
             }
            },
            "type": "scatterternary"
           }
          ],
          "surface": [
           {
            "colorbar": {
             "outlinewidth": 0,
             "ticks": ""
            },
            "colorscale": [
             [
              0,
              "#0d0887"
             ],
             [
              0.1111111111111111,
              "#46039f"
             ],
             [
              0.2222222222222222,
              "#7201a8"
             ],
             [
              0.3333333333333333,
              "#9c179e"
             ],
             [
              0.4444444444444444,
              "#bd3786"
             ],
             [
              0.5555555555555556,
              "#d8576b"
             ],
             [
              0.6666666666666666,
              "#ed7953"
             ],
             [
              0.7777777777777778,
              "#fb9f3a"
             ],
             [
              0.8888888888888888,
              "#fdca26"
             ],
             [
              1,
              "#f0f921"
             ]
            ],
            "type": "surface"
           }
          ],
          "table": [
           {
            "cells": {
             "fill": {
              "color": "#EBF0F8"
             },
             "line": {
              "color": "white"
             }
            },
            "header": {
             "fill": {
              "color": "#C8D4E3"
             },
             "line": {
              "color": "white"
             }
            },
            "type": "table"
           }
          ]
         },
         "layout": {
          "annotationdefaults": {
           "arrowcolor": "#2a3f5f",
           "arrowhead": 0,
           "arrowwidth": 1
          },
          "autotypenumbers": "strict",
          "coloraxis": {
           "colorbar": {
            "outlinewidth": 0,
            "ticks": ""
           }
          },
          "colorscale": {
           "diverging": [
            [
             0,
             "#8e0152"
            ],
            [
             0.1,
             "#c51b7d"
            ],
            [
             0.2,
             "#de77ae"
            ],
            [
             0.3,
             "#f1b6da"
            ],
            [
             0.4,
             "#fde0ef"
            ],
            [
             0.5,
             "#f7f7f7"
            ],
            [
             0.6,
             "#e6f5d0"
            ],
            [
             0.7,
             "#b8e186"
            ],
            [
             0.8,
             "#7fbc41"
            ],
            [
             0.9,
             "#4d9221"
            ],
            [
             1,
             "#276419"
            ]
           ],
           "sequential": [
            [
             0,
             "#0d0887"
            ],
            [
             0.1111111111111111,
             "#46039f"
            ],
            [
             0.2222222222222222,
             "#7201a8"
            ],
            [
             0.3333333333333333,
             "#9c179e"
            ],
            [
             0.4444444444444444,
             "#bd3786"
            ],
            [
             0.5555555555555556,
             "#d8576b"
            ],
            [
             0.6666666666666666,
             "#ed7953"
            ],
            [
             0.7777777777777778,
             "#fb9f3a"
            ],
            [
             0.8888888888888888,
             "#fdca26"
            ],
            [
             1,
             "#f0f921"
            ]
           ],
           "sequentialminus": [
            [
             0,
             "#0d0887"
            ],
            [
             0.1111111111111111,
             "#46039f"
            ],
            [
             0.2222222222222222,
             "#7201a8"
            ],
            [
             0.3333333333333333,
             "#9c179e"
            ],
            [
             0.4444444444444444,
             "#bd3786"
            ],
            [
             0.5555555555555556,
             "#d8576b"
            ],
            [
             0.6666666666666666,
             "#ed7953"
            ],
            [
             0.7777777777777778,
             "#fb9f3a"
            ],
            [
             0.8888888888888888,
             "#fdca26"
            ],
            [
             1,
             "#f0f921"
            ]
           ]
          },
          "colorway": [
           "#636efa",
           "#EF553B",
           "#00cc96",
           "#ab63fa",
           "#FFA15A",
           "#19d3f3",
           "#FF6692",
           "#B6E880",
           "#FF97FF",
           "#FECB52"
          ],
          "font": {
           "color": "#2a3f5f"
          },
          "geo": {
           "bgcolor": "white",
           "lakecolor": "white",
           "landcolor": "#E5ECF6",
           "showlakes": true,
           "showland": true,
           "subunitcolor": "white"
          },
          "hoverlabel": {
           "align": "left"
          },
          "hovermode": "closest",
          "mapbox": {
           "style": "light"
          },
          "paper_bgcolor": "white",
          "plot_bgcolor": "#E5ECF6",
          "polar": {
           "angularaxis": {
            "gridcolor": "white",
            "linecolor": "white",
            "ticks": ""
           },
           "bgcolor": "#E5ECF6",
           "radialaxis": {
            "gridcolor": "white",
            "linecolor": "white",
            "ticks": ""
           }
          },
          "scene": {
           "xaxis": {
            "backgroundcolor": "#E5ECF6",
            "gridcolor": "white",
            "gridwidth": 2,
            "linecolor": "white",
            "showbackground": true,
            "ticks": "",
            "zerolinecolor": "white"
           },
           "yaxis": {
            "backgroundcolor": "#E5ECF6",
            "gridcolor": "white",
            "gridwidth": 2,
            "linecolor": "white",
            "showbackground": true,
            "ticks": "",
            "zerolinecolor": "white"
           },
           "zaxis": {
            "backgroundcolor": "#E5ECF6",
            "gridcolor": "white",
            "gridwidth": 2,
            "linecolor": "white",
            "showbackground": true,
            "ticks": "",
            "zerolinecolor": "white"
           }
          },
          "shapedefaults": {
           "line": {
            "color": "#2a3f5f"
           }
          },
          "ternary": {
           "aaxis": {
            "gridcolor": "white",
            "linecolor": "white",
            "ticks": ""
           },
           "baxis": {
            "gridcolor": "white",
            "linecolor": "white",
            "ticks": ""
           },
           "bgcolor": "#E5ECF6",
           "caxis": {
            "gridcolor": "white",
            "linecolor": "white",
            "ticks": ""
           }
          },
          "title": {
           "x": 0.05
          },
          "xaxis": {
           "automargin": true,
           "gridcolor": "white",
           "linecolor": "white",
           "ticks": "",
           "title": {
            "standoff": 15
           },
           "zerolinecolor": "white",
           "zerolinewidth": 2
          },
          "yaxis": {
           "automargin": true,
           "gridcolor": "white",
           "linecolor": "white",
           "ticks": "",
           "title": {
            "standoff": 15
           },
           "zerolinecolor": "white",
           "zerolinewidth": 2
          }
         }
        },
        "width": 500,
        "xaxis": {
         "anchor": "y",
         "domain": [
          0,
          1
         ],
         "tickfont": {
          "size": 18
         },
         "title": {
          "font": {
           "size": 18
          },
          "text": "Dataset Name"
         }
        },
        "yaxis": {
         "anchor": "x",
         "domain": [
          0,
          1
         ],
         "tickfont": {
          "size": 18
         },
         "title": {
          "font": {
           "size": 18
          },
          "text": "Score Difference (lower is better)"
         }
        }
       }
      }
     },
     "metadata": {},
     "output_type": "display_data"
    }
   ],
   "source": [
    "# Calculate the difference from 'full' variant\n",
    "data = stats_df.copy()\n",
    "# sort by mean_score\n",
    "data = data.sort_values(by=\"mean_score\", ascending=False)\n",
    "display_custom(data)\n",
    "full_score = data[data['Name'] == 'full']['mean_score'].values[0]\n",
    "data['Score Difference'] = data['mean_score'] - full_score\n",
    "# rename pokemonblipcaptions to pokemonblip\n",
    "data[\"Name\"] = data[\"Name\"].str.replace(\"pokemonblipcaptions\", \"pokemonblip\")\n",
    "font_size = 18\n",
    "# Create a line chart with markers using Plotly\n",
    "fig = px.bar(data, x='Name', y='Score Difference', labels={'Name': 'Dataset Name', 'Score Difference':'Score Difference (lower is better)'})\n",
    "fig.update_layout(\n",
    "    # height=300,\n",
    "    width=500,\n",
    "    showlegend=False,\n",
    "    font=dict(size=font_size),  # Global font size\n",
    "    yaxis=dict(\n",
    "        title_font=dict(size=font_size),  # Y-axis title font size\n",
    "        tickfont=dict(size=font_size),  # Y-axis tick font size\n",
    "    ),\n",
    "    xaxis=dict(\n",
    "        title_font=dict(size=font_size),  # X-axis title font size (if any)\n",
    "        tickfont=dict(size=font_size),  # X-axis tick font size\n",
    "    ),\n",
    "    # margin=dict(l=20, r=20, t=20, b=20),  # margins\n",
    "    \n",
    ")\n",
    "\n",
    "# Save the figure as a PDF file\n",
    "fig.write_image(\"figure.pdf\")\n",
    "# Show the figure\n",
    "fig.show()"
   ]
  },
  {
   "cell_type": "code",
   "execution_count": 1543,
   "metadata": {},
   "outputs": [
    {
     "data": {
      "text/html": [
       "<pre style=\"white-space:pre;overflow-x:auto;line-height:normal;font-family:Menlo,'DejaVu Sans Mono',consolas,'Courier New',monospace\"><span style=\"font-weight: bold\">[</span>\n",
       "    <span style=\"color: #008000; text-decoration-color: #008000\">'coco-10k'</span>,\n",
       "    <span style=\"color: #008000; text-decoration-color: #008000\">'clevr'</span>,\n",
       "    <span style=\"color: #008000; text-decoration-color: #008000\">'winoground'</span>,\n",
       "    <span style=\"color: #008000; text-decoration-color: #008000\">'aircraft'</span>,\n",
       "    <span style=\"color: #008000; text-decoration-color: #008000\">'chexpert'</span>,\n",
       "    <span style=\"color: #008000; text-decoration-color: #008000\">'ucf'</span>,\n",
       "    <span style=\"color: #008000; text-decoration-color: #008000\">'imagenet1k'</span>,\n",
       "    <span style=\"color: #008000; text-decoration-color: #008000\">'pokemonblip'</span>,\n",
       "    <span style=\"color: #008000; text-decoration-color: #008000\">'ham10k'</span>,\n",
       "    <span style=\"color: #008000; text-decoration-color: #008000\">'cifar100'</span>,\n",
       "    <span style=\"color: #008000; text-decoration-color: #008000\">'fungi'</span>,\n",
       "    <span style=\"color: #008000; text-decoration-color: #008000\">'vgg'</span>,\n",
       "    <span style=\"color: #008000; text-decoration-color: #008000\">'cubirds'</span>,\n",
       "    <span style=\"color: #008000; text-decoration-color: #008000\">'full'</span>\n",
       "<span style=\"font-weight: bold\">]</span>\n",
       "</pre>\n"
      ],
      "text/plain": [
       "\u001b[1m[\u001b[0m\n",
       "    \u001b[32m'coco-10k'\u001b[0m,\n",
       "    \u001b[32m'clevr'\u001b[0m,\n",
       "    \u001b[32m'winoground'\u001b[0m,\n",
       "    \u001b[32m'aircraft'\u001b[0m,\n",
       "    \u001b[32m'chexpert'\u001b[0m,\n",
       "    \u001b[32m'ucf'\u001b[0m,\n",
       "    \u001b[32m'imagenet1k'\u001b[0m,\n",
       "    \u001b[32m'pokemonblip'\u001b[0m,\n",
       "    \u001b[32m'ham10k'\u001b[0m,\n",
       "    \u001b[32m'cifar100'\u001b[0m,\n",
       "    \u001b[32m'fungi'\u001b[0m,\n",
       "    \u001b[32m'vgg'\u001b[0m,\n",
       "    \u001b[32m'cubirds'\u001b[0m,\n",
       "    \u001b[32m'full'\u001b[0m\n",
       "\u001b[1m]\u001b[0m\n"
      ]
     },
     "metadata": {},
     "output_type": "display_data"
    }
   ],
   "source": [
    "sub_gate_columns = data[\"Name\"]\n",
    "\n",
    "sub_gate_columns = sub_gate_columns[1:]\n",
    "sub_gate_columns = [\"newyorkercaptioncontest\" if col == \"nycc\" else col for col in sub_gate_columns]\n",
    "print(sub_gate_columns)\n"
   ]
  },
  {
   "cell_type": "code",
   "execution_count": 1544,
   "metadata": {},
   "outputs": [
    {
     "name": "stderr",
     "output_type": "stream",
     "text": [
      "/var/folders/gh/_5t3nhn94t12m7rh483b8b7r0000gn/T/ipykernel_46178/553669900.py:10: FutureWarning:\n",
      "\n",
      "Series.__getitem__ treating keys as positions is deprecated. In a future version, integer keys will always be treated as labels (consistent with DataFrame behavior). To access a value by position, use `ser.iloc[pos]`\n",
      "\n"
     ]
    },
    {
     "data": {
      "text/html": [
       "<div>\n",
       "<style scoped>\n",
       "    .dataframe tbody tr th:only-of-type {\n",
       "        vertical-align: middle;\n",
       "    }\n",
       "\n",
       "    .dataframe tbody tr th {\n",
       "        vertical-align: top;\n",
       "    }\n",
       "\n",
       "    .dataframe thead th {\n",
       "        text-align: right;\n",
       "    }\n",
       "</style>\n",
       "<table border=\"1\" class=\"dataframe\">\n",
       "  <thead>\n",
       "    <tr style=\"text-align: right;\">\n",
       "      <th></th>\n",
       "      <th>Model.Metric</th>\n",
       "      <th>cityscapes.mIoU</th>\n",
       "      <th>cityscapes.dice-loss</th>\n",
       "      <th>acdc.dice-loss</th>\n",
       "      <th>ade20k.mIoU</th>\n",
       "      <th>ade20k.dice-loss</th>\n",
       "      <th>aircraft.acc@1</th>\n",
       "      <th>chexpert.auc</th>\n",
       "      <th>cifar100.loss</th>\n",
       "      <th>cifar100.acc@5</th>\n",
       "      <th>cifar100.acc@1</th>\n",
       "      <th>clevr.acc@1</th>\n",
       "      <th>clevr-math.acc@5</th>\n",
       "      <th>clevr-math.acc@1</th>\n",
       "      <th>coco-10k.mIoU</th>\n",
       "      <th>coco-10k.dice-loss</th>\n",
       "      <th>coco-164k.mIoU</th>\n",
       "      <th>coco-164k.dice-loss</th>\n",
       "      <th>cubirds.acc@1</th>\n",
       "      <th>diabetic.auc</th>\n",
       "      <th>dtextures.acc@1</th>\n",
       "      <th>flickr30k.text-to-image-acc@5</th>\n",
       "      <th>flickr30k.text-to-image-acc@1</th>\n",
       "      <th>flickr30k.image-to-text-acc@1</th>\n",
       "      <th>flickr30k.image-to-text-acc@5</th>\n",
       "      <th>food101.loss</th>\n",
       "      <th>food101.acc@5</th>\n",
       "      <th>food101.acc@1</th>\n",
       "      <th>fungi.acc@1</th>\n",
       "      <th>ham10k.auc</th>\n",
       "      <th>hmdb51.acc@5</th>\n",
       "      <th>hmdb51.acc@1</th>\n",
       "      <th>imagenet1k.loss</th>\n",
       "      <th>imagenet1k.acc@5</th>\n",
       "      <th>imagenet1k.acc@1</th>\n",
       "      <th>iwildcam.mae</th>\n",
       "      <th>kinetics.acc@5</th>\n",
       "      <th>kinetics.acc@1</th>\n",
       "      <th>mini.acc@1</th>\n",
       "      <th>newyorkercaptioncontest.text-to-image-acc@5</th>\n",
       "      <th>newyorkercaptioncontest.text-to-image-acc@1</th>\n",
       "      <th>newyorkercaptioncontest.image-to-text-acc@1</th>\n",
       "      <th>newyorkercaptioncontest.image-to-text-acc@5</th>\n",
       "      <th>nyu.mIoU</th>\n",
       "      <th>nyu.dice-loss</th>\n",
       "      <th>omniglot.acc@1</th>\n",
       "      <th>pascal.mIoU</th>\n",
       "      <th>pascal.dice-loss</th>\n",
       "      <th>places365.loss</th>\n",
       "      <th>places365.acc@5</th>\n",
       "      <th>places365.acc@1</th>\n",
       "      <th>pokemonblipcaptions.text-to-image-acc@5</th>\n",
       "      <th>pokemonblipcaptions.text-to-image-acc@1</th>\n",
       "      <th>pokemonblipcaptions.image-to-text-acc@1</th>\n",
       "      <th>pokemonblipcaptions.image-to-text-acc@5</th>\n",
       "      <th>ucf.acc@5</th>\n",
       "      <th>ucf.acc@1</th>\n",
       "      <th>vgg.acc@1</th>\n",
       "      <th>winoground.text-to-image-acc@1</th>\n",
       "      <th>winoground.image-to-text-acc@1</th>\n",
       "      <th>Image Classification</th>\n",
       "      <th>Few Shot Image Classification</th>\n",
       "      <th>Image Segmentation</th>\n",
       "      <th>Image Relational Reasoning</th>\n",
       "      <th>Medical Classification/Segmentation</th>\n",
       "      <th>Image to Text Zero Shot Learning</th>\n",
       "      <th>Video Classification</th>\n",
       "      <th>Video Regression</th>\n",
       "    </tr>\n",
       "  </thead>\n",
       "  <tbody>\n",
       "    <tr>\n",
       "      <th>0</th>\n",
       "      <td>AR-ViT-B16-224</td>\n",
       "      <td>57.848</td>\n",
       "      <td>35.19</td>\n",
       "      <td>42.9</td>\n",
       "      <td>17.353</td>\n",
       "      <td>22.3</td>\n",
       "      <td>94.4</td>\n",
       "      <td>81.3</td>\n",
       "      <td>76.628571</td>\n",
       "      <td>83.629</td>\n",
       "      <td>55.742</td>\n",
       "      <td>52.828</td>\n",
       "      <td>98.850</td>\n",
       "      <td>58.849</td>\n",
       "      <td>22.783</td>\n",
       "      <td>2.7</td>\n",
       "      <td>21.321</td>\n",
       "      <td>3.0</td>\n",
       "      <td>94.4</td>\n",
       "      <td>83.9</td>\n",
       "      <td>79.9</td>\n",
       "      <td>18.8</td>\n",
       "      <td>5.3</td>\n",
       "      <td>5.5</td>\n",
       "      <td>18.7</td>\n",
       "      <td>91.685714</td>\n",
       "      <td>96.630</td>\n",
       "      <td>83.834</td>\n",
       "      <td>77.5</td>\n",
       "      <td>98.5</td>\n",
       "      <td>57.917</td>\n",
       "      <td>28.385</td>\n",
       "      <td>86.185714</td>\n",
       "      <td>93.007</td>\n",
       "      <td>78.199</td>\n",
       "      <td>41.528571</td>\n",
       "      <td>63.288</td>\n",
       "      <td>36.718</td>\n",
       "      <td>98.7</td>\n",
       "      <td>19.5</td>\n",
       "      <td>5.2</td>\n",
       "      <td>5.4</td>\n",
       "      <td>18.7</td>\n",
       "      <td>8.345</td>\n",
       "      <td>72.9</td>\n",
       "      <td>98.6</td>\n",
       "      <td>15.460</td>\n",
       "      <td>21.9</td>\n",
       "      <td>70.542857</td>\n",
       "      <td>78.706</td>\n",
       "      <td>46.641</td>\n",
       "      <td>82.1</td>\n",
       "      <td>64.0</td>\n",
       "      <td>62.8</td>\n",
       "      <td>79.4</td>\n",
       "      <td>84.369</td>\n",
       "      <td>65.374</td>\n",
       "      <td>95.5</td>\n",
       "      <td>56.9</td>\n",
       "      <td>61.1</td>\n",
       "      <td>78.452571</td>\n",
       "      <td>91.285714</td>\n",
       "      <td>25.091667</td>\n",
       "      <td>70.175667</td>\n",
       "      <td>76.650</td>\n",
       "      <td>35.957143</td>\n",
       "      <td>56.008500</td>\n",
       "      <td>41.528571</td>\n",
       "    </tr>\n",
       "    <tr>\n",
       "      <th>1</th>\n",
       "      <td>BART</td>\n",
       "      <td>0.000</td>\n",
       "      <td>0.00</td>\n",
       "      <td>25.3</td>\n",
       "      <td>0.380</td>\n",
       "      <td>33.2</td>\n",
       "      <td>53.0</td>\n",
       "      <td>63.7</td>\n",
       "      <td>43.071429</td>\n",
       "      <td>29.170</td>\n",
       "      <td>8.967</td>\n",
       "      <td>42.563</td>\n",
       "      <td>96.450</td>\n",
       "      <td>41.761</td>\n",
       "      <td>0.056</td>\n",
       "      <td>4.1</td>\n",
       "      <td>0.110</td>\n",
       "      <td>3.5</td>\n",
       "      <td>50.3</td>\n",
       "      <td>55.1</td>\n",
       "      <td>35.4</td>\n",
       "      <td>7.9</td>\n",
       "      <td>1.6</td>\n",
       "      <td>1.5</td>\n",
       "      <td>7.8</td>\n",
       "      <td>44.442857</td>\n",
       "      <td>31.844</td>\n",
       "      <td>11.504</td>\n",
       "      <td>33.7</td>\n",
       "      <td>85.9</td>\n",
       "      <td>9.961</td>\n",
       "      <td>1.953</td>\n",
       "      <td>5.400000</td>\n",
       "      <td>3.107</td>\n",
       "      <td>0.713</td>\n",
       "      <td>35.871429</td>\n",
       "      <td>1.277</td>\n",
       "      <td>0.256</td>\n",
       "      <td>37.3</td>\n",
       "      <td>8.1</td>\n",
       "      <td>1.6</td>\n",
       "      <td>1.6</td>\n",
       "      <td>8.1</td>\n",
       "      <td>4.893</td>\n",
       "      <td>76.0</td>\n",
       "      <td>84.1</td>\n",
       "      <td>1.002</td>\n",
       "      <td>44.4</td>\n",
       "      <td>25.028571</td>\n",
       "      <td>11.058</td>\n",
       "      <td>2.953</td>\n",
       "      <td>74.8</td>\n",
       "      <td>55.6</td>\n",
       "      <td>55.6</td>\n",
       "      <td>69.4</td>\n",
       "      <td>5.444</td>\n",
       "      <td>1.031</td>\n",
       "      <td>59.4</td>\n",
       "      <td>47.7</td>\n",
       "      <td>48.8</td>\n",
       "      <td>18.104905</td>\n",
       "      <td>50.457143</td>\n",
       "      <td>13.970083</td>\n",
       "      <td>60.258000</td>\n",
       "      <td>57.500</td>\n",
       "      <td>27.864286</td>\n",
       "      <td>3.320333</td>\n",
       "      <td>35.871429</td>\n",
       "    </tr>\n",
       "    <tr>\n",
       "      <th>2</th>\n",
       "      <td>BERT</td>\n",
       "      <td>0.000</td>\n",
       "      <td>0.00</td>\n",
       "      <td>4.1</td>\n",
       "      <td>0.360</td>\n",
       "      <td>33.0</td>\n",
       "      <td>59.0</td>\n",
       "      <td>66.2</td>\n",
       "      <td>47.357143</td>\n",
       "      <td>38.137</td>\n",
       "      <td>14.520</td>\n",
       "      <td>42.593</td>\n",
       "      <td>97.400</td>\n",
       "      <td>44.265</td>\n",
       "      <td>0.055</td>\n",
       "      <td>3.8</td>\n",
       "      <td>0.096</td>\n",
       "      <td>3.4</td>\n",
       "      <td>47.4</td>\n",
       "      <td>57.6</td>\n",
       "      <td>37.6</td>\n",
       "      <td>8.1</td>\n",
       "      <td>1.6</td>\n",
       "      <td>1.5</td>\n",
       "      <td>8.3</td>\n",
       "      <td>50.014286</td>\n",
       "      <td>42.442</td>\n",
       "      <td>18.191</td>\n",
       "      <td>32.8</td>\n",
       "      <td>91.1</td>\n",
       "      <td>9.766</td>\n",
       "      <td>1.953</td>\n",
       "      <td>7.528571</td>\n",
       "      <td>4.616</td>\n",
       "      <td>1.173</td>\n",
       "      <td>34.628571</td>\n",
       "      <td>1.269</td>\n",
       "      <td>0.233</td>\n",
       "      <td>39.6</td>\n",
       "      <td>8.2</td>\n",
       "      <td>1.5</td>\n",
       "      <td>1.6</td>\n",
       "      <td>8.5</td>\n",
       "      <td>5.503</td>\n",
       "      <td>75.9</td>\n",
       "      <td>90.2</td>\n",
       "      <td>0.961</td>\n",
       "      <td>45.5</td>\n",
       "      <td>28.457143</td>\n",
       "      <td>16.037</td>\n",
       "      <td>4.795</td>\n",
       "      <td>75.6</td>\n",
       "      <td>59.9</td>\n",
       "      <td>58.7</td>\n",
       "      <td>72.2</td>\n",
       "      <td>6.040</td>\n",
       "      <td>1.287</td>\n",
       "      <td>59.4</td>\n",
       "      <td>50.4</td>\n",
       "      <td>50.3</td>\n",
       "      <td>22.772345</td>\n",
       "      <td>52.285714</td>\n",
       "      <td>14.047917</td>\n",
       "      <td>61.419333</td>\n",
       "      <td>54.750</td>\n",
       "      <td>29.028571</td>\n",
       "      <td>3.424667</td>\n",
       "      <td>34.628571</td>\n",
       "    </tr>\n",
       "    <tr>\n",
       "      <th>3</th>\n",
       "      <td>CLIP-B16-224</td>\n",
       "      <td>65.142</td>\n",
       "      <td>40.06</td>\n",
       "      <td>46.2</td>\n",
       "      <td>33.804</td>\n",
       "      <td>31.3</td>\n",
       "      <td>96.5</td>\n",
       "      <td>81.6</td>\n",
       "      <td>87.028571</td>\n",
       "      <td>93.760</td>\n",
       "      <td>74.731</td>\n",
       "      <td>52.622</td>\n",
       "      <td>99.113</td>\n",
       "      <td>61.218</td>\n",
       "      <td>29.609</td>\n",
       "      <td>3.2</td>\n",
       "      <td>30.369</td>\n",
       "      <td>4.6</td>\n",
       "      <td>97.9</td>\n",
       "      <td>86.7</td>\n",
       "      <td>84.3</td>\n",
       "      <td>20.9</td>\n",
       "      <td>5.5</td>\n",
       "      <td>6.2</td>\n",
       "      <td>20.6</td>\n",
       "      <td>95.628571</td>\n",
       "      <td>98.679</td>\n",
       "      <td>91.496</td>\n",
       "      <td>85.4</td>\n",
       "      <td>98.6</td>\n",
       "      <td>70.039</td>\n",
       "      <td>40.404</td>\n",
       "      <td>89.257143</td>\n",
       "      <td>95.708</td>\n",
       "      <td>81.815</td>\n",
       "      <td>48.385714</td>\n",
       "      <td>71.240</td>\n",
       "      <td>44.574</td>\n",
       "      <td>96.2</td>\n",
       "      <td>21.0</td>\n",
       "      <td>5.7</td>\n",
       "      <td>6.0</td>\n",
       "      <td>19.9</td>\n",
       "      <td>7.545</td>\n",
       "      <td>71.3</td>\n",
       "      <td>98.9</td>\n",
       "      <td>26.619</td>\n",
       "      <td>36.8</td>\n",
       "      <td>74.900000</td>\n",
       "      <td>83.864</td>\n",
       "      <td>53.445</td>\n",
       "      <td>85.2</td>\n",
       "      <td>67.9</td>\n",
       "      <td>61.8</td>\n",
       "      <td>81.7</td>\n",
       "      <td>88.238</td>\n",
       "      <td>71.440</td>\n",
       "      <td>98.9</td>\n",
       "      <td>54.0</td>\n",
       "      <td>48.6</td>\n",
       "      <td>85.026024</td>\n",
       "      <td>94.014286</td>\n",
       "      <td>31.695667</td>\n",
       "      <td>70.984333</td>\n",
       "      <td>78.275</td>\n",
       "      <td>36.071429</td>\n",
       "      <td>64.322500</td>\n",
       "      <td>48.385714</td>\n",
       "    </tr>\n",
       "    <tr>\n",
       "      <th>4</th>\n",
       "      <td>ConvNextV2-Base</td>\n",
       "      <td>62.341</td>\n",
       "      <td>41.78</td>\n",
       "      <td>36.4</td>\n",
       "      <td>37.253</td>\n",
       "      <td>52.8</td>\n",
       "      <td>96.7</td>\n",
       "      <td>81.8</td>\n",
       "      <td>90.857143</td>\n",
       "      <td>97.422</td>\n",
       "      <td>84.126</td>\n",
       "      <td>52.606</td>\n",
       "      <td>99.787</td>\n",
       "      <td>77.402</td>\n",
       "      <td>26.840</td>\n",
       "      <td>85.3</td>\n",
       "      <td>25.059</td>\n",
       "      <td>83.1</td>\n",
       "      <td>98.0</td>\n",
       "      <td>87.5</td>\n",
       "      <td>85.0</td>\n",
       "      <td>21.2</td>\n",
       "      <td>5.5</td>\n",
       "      <td>6.0</td>\n",
       "      <td>20.5</td>\n",
       "      <td>96.114286</td>\n",
       "      <td>98.991</td>\n",
       "      <td>92.896</td>\n",
       "      <td>85.7</td>\n",
       "      <td>99.1</td>\n",
       "      <td>77.539</td>\n",
       "      <td>50.326</td>\n",
       "      <td>90.928571</td>\n",
       "      <td>96.851</td>\n",
       "      <td>85.288</td>\n",
       "      <td>50.771429</td>\n",
       "      <td>75.765</td>\n",
       "      <td>49.011</td>\n",
       "      <td>95.8</td>\n",
       "      <td>21.4</td>\n",
       "      <td>5.8</td>\n",
       "      <td>6.3</td>\n",
       "      <td>21.0</td>\n",
       "      <td>5.260</td>\n",
       "      <td>77.5</td>\n",
       "      <td>98.6</td>\n",
       "      <td>32.665</td>\n",
       "      <td>70.3</td>\n",
       "      <td>76.300000</td>\n",
       "      <td>85.325</td>\n",
       "      <td>54.726</td>\n",
       "      <td>80.3</td>\n",
       "      <td>61.0</td>\n",
       "      <td>61.6</td>\n",
       "      <td>78.3</td>\n",
       "      <td>94.737</td>\n",
       "      <td>84.106</td>\n",
       "      <td>99.6</td>\n",
       "      <td>47.8</td>\n",
       "      <td>39.8</td>\n",
       "      <td>87.485417</td>\n",
       "      <td>94.200000</td>\n",
       "      <td>50.016500</td>\n",
       "      <td>76.598333</td>\n",
       "      <td>76.200</td>\n",
       "      <td>34.035714</td>\n",
       "      <td>71.914000</td>\n",
       "      <td>50.771429</td>\n",
       "    </tr>\n",
       "    <tr>\n",
       "      <th>5</th>\n",
       "      <td>DINO-B16-224</td>\n",
       "      <td>60.224</td>\n",
       "      <td>36.13</td>\n",
       "      <td>48.5</td>\n",
       "      <td>18.610</td>\n",
       "      <td>26.7</td>\n",
       "      <td>95.6</td>\n",
       "      <td>81.9</td>\n",
       "      <td>82.857143</td>\n",
       "      <td>89.590</td>\n",
       "      <td>66.282</td>\n",
       "      <td>52.846</td>\n",
       "      <td>99.188</td>\n",
       "      <td>61.001</td>\n",
       "      <td>24.968</td>\n",
       "      <td>3.1</td>\n",
       "      <td>24.292</td>\n",
       "      <td>4.9</td>\n",
       "      <td>95.9</td>\n",
       "      <td>84.7</td>\n",
       "      <td>79.1</td>\n",
       "      <td>19.6</td>\n",
       "      <td>4.6</td>\n",
       "      <td>5.4</td>\n",
       "      <td>18.6</td>\n",
       "      <td>93.171429</td>\n",
       "      <td>97.449</td>\n",
       "      <td>86.519</td>\n",
       "      <td>81.2</td>\n",
       "      <td>98.7</td>\n",
       "      <td>56.525</td>\n",
       "      <td>27.995</td>\n",
       "      <td>80.342857</td>\n",
       "      <td>88.493</td>\n",
       "      <td>67.529</td>\n",
       "      <td>42.714286</td>\n",
       "      <td>55.634</td>\n",
       "      <td>29.529</td>\n",
       "      <td>89.9</td>\n",
       "      <td>20.0</td>\n",
       "      <td>5.2</td>\n",
       "      <td>5.3</td>\n",
       "      <td>19.0</td>\n",
       "      <td>6.138</td>\n",
       "      <td>71.4</td>\n",
       "      <td>98.7</td>\n",
       "      <td>18.184</td>\n",
       "      <td>30.2</td>\n",
       "      <td>71.614286</td>\n",
       "      <td>79.704</td>\n",
       "      <td>47.454</td>\n",
       "      <td>85.6</td>\n",
       "      <td>68.2</td>\n",
       "      <td>65.5</td>\n",
       "      <td>81.8</td>\n",
       "      <td>77.125</td>\n",
       "      <td>52.769</td>\n",
       "      <td>95.9</td>\n",
       "      <td>48.3</td>\n",
       "      <td>49.5</td>\n",
       "      <td>79.250476</td>\n",
       "      <td>90.900000</td>\n",
       "      <td>27.070500</td>\n",
       "      <td>71.011667</td>\n",
       "      <td>78.450</td>\n",
       "      <td>35.471429</td>\n",
       "      <td>49.929500</td>\n",
       "      <td>42.714286</td>\n",
       "    </tr>\n",
       "    <tr>\n",
       "      <th>6</th>\n",
       "      <td>DeiT3-B16-224</td>\n",
       "      <td>62.833</td>\n",
       "      <td>35.99</td>\n",
       "      <td>40.9</td>\n",
       "      <td>21.900</td>\n",
       "      <td>29.7</td>\n",
       "      <td>95.3</td>\n",
       "      <td>82.7</td>\n",
       "      <td>83.400000</td>\n",
       "      <td>90.844</td>\n",
       "      <td>66.750</td>\n",
       "      <td>52.342</td>\n",
       "      <td>99.350</td>\n",
       "      <td>62.701</td>\n",
       "      <td>28.345</td>\n",
       "      <td>4.7</td>\n",
       "      <td>26.125</td>\n",
       "      <td>4.1</td>\n",
       "      <td>96.2</td>\n",
       "      <td>81.8</td>\n",
       "      <td>81.9</td>\n",
       "      <td>20.0</td>\n",
       "      <td>5.0</td>\n",
       "      <td>5.6</td>\n",
       "      <td>19.2</td>\n",
       "      <td>93.614286</td>\n",
       "      <td>97.718</td>\n",
       "      <td>87.331</td>\n",
       "      <td>80.5</td>\n",
       "      <td>98.5</td>\n",
       "      <td>64.338</td>\n",
       "      <td>36.523</td>\n",
       "      <td>88.657143</td>\n",
       "      <td>94.675</td>\n",
       "      <td>82.011</td>\n",
       "      <td>54.371429</td>\n",
       "      <td>66.558</td>\n",
       "      <td>39.528</td>\n",
       "      <td>98.8</td>\n",
       "      <td>21.9</td>\n",
       "      <td>6.0</td>\n",
       "      <td>6.5</td>\n",
       "      <td>20.5</td>\n",
       "      <td>7.488</td>\n",
       "      <td>70.8</td>\n",
       "      <td>98.6</td>\n",
       "      <td>22.291</td>\n",
       "      <td>33.3</td>\n",
       "      <td>72.242857</td>\n",
       "      <td>80.614</td>\n",
       "      <td>48.677</td>\n",
       "      <td>82.6</td>\n",
       "      <td>67.0</td>\n",
       "      <td>63.9</td>\n",
       "      <td>81.0</td>\n",
       "      <td>88.506</td>\n",
       "      <td>70.411</td>\n",
       "      <td>96.2</td>\n",
       "      <td>49.2</td>\n",
       "      <td>42.4</td>\n",
       "      <td>82.211190</td>\n",
       "      <td>92.500000</td>\n",
       "      <td>28.964333</td>\n",
       "      <td>71.464333</td>\n",
       "      <td>75.975</td>\n",
       "      <td>35.057143</td>\n",
       "      <td>60.977333</td>\n",
       "      <td>54.371429</td>\n",
       "    </tr>\n",
       "    <tr>\n",
       "      <th>7</th>\n",
       "      <td>EffFormer-s0</td>\n",
       "      <td>2.492</td>\n",
       "      <td>0.00</td>\n",
       "      <td>27.0</td>\n",
       "      <td>9.801</td>\n",
       "      <td>33.8</td>\n",
       "      <td>77.5</td>\n",
       "      <td>80.0</td>\n",
       "      <td>50.314286</td>\n",
       "      <td>43.571</td>\n",
       "      <td>16.511</td>\n",
       "      <td>45.115</td>\n",
       "      <td>98.700</td>\n",
       "      <td>53.862</td>\n",
       "      <td>13.995</td>\n",
       "      <td>9.7</td>\n",
       "      <td>13.549</td>\n",
       "      <td>13.5</td>\n",
       "      <td>86.3</td>\n",
       "      <td>81.8</td>\n",
       "      <td>56.7</td>\n",
       "      <td>15.6</td>\n",
       "      <td>3.5</td>\n",
       "      <td>4.2</td>\n",
       "      <td>16.0</td>\n",
       "      <td>78.814286</td>\n",
       "      <td>86.983</td>\n",
       "      <td>62.578</td>\n",
       "      <td>51.2</td>\n",
       "      <td>81.8</td>\n",
       "      <td>9.726</td>\n",
       "      <td>1.628</td>\n",
       "      <td>59.571429</td>\n",
       "      <td>72.456</td>\n",
       "      <td>44.615</td>\n",
       "      <td>50.214286</td>\n",
       "      <td>1.334</td>\n",
       "      <td>0.279</td>\n",
       "      <td>90.8</td>\n",
       "      <td>15.1</td>\n",
       "      <td>3.4</td>\n",
       "      <td>3.4</td>\n",
       "      <td>14.4</td>\n",
       "      <td>10.498</td>\n",
       "      <td>76.4</td>\n",
       "      <td>95.4</td>\n",
       "      <td>14.026</td>\n",
       "      <td>51.4</td>\n",
       "      <td>53.200000</td>\n",
       "      <td>55.901</td>\n",
       "      <td>25.548</td>\n",
       "      <td>77.5</td>\n",
       "      <td>60.5</td>\n",
       "      <td>59.4</td>\n",
       "      <td>78.2</td>\n",
       "      <td>5.173</td>\n",
       "      <td>0.840</td>\n",
       "      <td>90.3</td>\n",
       "      <td>56.8</td>\n",
       "      <td>51.3</td>\n",
       "      <td>54.171917</td>\n",
       "      <td>78.314286</td>\n",
       "      <td>20.763417</td>\n",
       "      <td>65.892333</td>\n",
       "      <td>67.650</td>\n",
       "      <td>32.807143</td>\n",
       "      <td>3.163333</td>\n",
       "      <td>50.214286</td>\n",
       "    </tr>\n",
       "    <tr>\n",
       "      <th>8</th>\n",
       "      <td>EffV2-RW-S</td>\n",
       "      <td>63.144</td>\n",
       "      <td>40.18</td>\n",
       "      <td>60.9</td>\n",
       "      <td>12.668</td>\n",
       "      <td>32.1</td>\n",
       "      <td>89.4</td>\n",
       "      <td>81.8</td>\n",
       "      <td>79.128571</td>\n",
       "      <td>89.471</td>\n",
       "      <td>64.968</td>\n",
       "      <td>39.848</td>\n",
       "      <td>97.463</td>\n",
       "      <td>43.199</td>\n",
       "      <td>8.704</td>\n",
       "      <td>6.3</td>\n",
       "      <td>8.268</td>\n",
       "      <td>4.5</td>\n",
       "      <td>92.1</td>\n",
       "      <td>86.1</td>\n",
       "      <td>59.5</td>\n",
       "      <td>17.3</td>\n",
       "      <td>4.0</td>\n",
       "      <td>3.7</td>\n",
       "      <td>16.1</td>\n",
       "      <td>90.814286</td>\n",
       "      <td>96.816</td>\n",
       "      <td>85.282</td>\n",
       "      <td>73.7</td>\n",
       "      <td>97.5</td>\n",
       "      <td>27.699</td>\n",
       "      <td>11.068</td>\n",
       "      <td>81.485714</td>\n",
       "      <td>90.439</td>\n",
       "      <td>71.549</td>\n",
       "      <td>47.128571</td>\n",
       "      <td>2.357</td>\n",
       "      <td>0.561</td>\n",
       "      <td>62.8</td>\n",
       "      <td>16.8</td>\n",
       "      <td>3.5</td>\n",
       "      <td>3.4</td>\n",
       "      <td>14.9</td>\n",
       "      <td>8.216</td>\n",
       "      <td>75.6</td>\n",
       "      <td>98.6</td>\n",
       "      <td>11.776</td>\n",
       "      <td>38.2</td>\n",
       "      <td>73.685714</td>\n",
       "      <td>82.389</td>\n",
       "      <td>51.066</td>\n",
       "      <td>65.1</td>\n",
       "      <td>46.3</td>\n",
       "      <td>46.0</td>\n",
       "      <td>62.5</td>\n",
       "      <td>25.840</td>\n",
       "      <td>9.611</td>\n",
       "      <td>91.2</td>\n",
       "      <td>50.0</td>\n",
       "      <td>50.0</td>\n",
       "      <td>79.757857</td>\n",
       "      <td>81.042857</td>\n",
       "      <td>25.804667</td>\n",
       "      <td>60.170000</td>\n",
       "      <td>81.575</td>\n",
       "      <td>28.542857</td>\n",
       "      <td>12.856000</td>\n",
       "      <td>47.128571</td>\n",
       "    </tr>\n",
       "    <tr>\n",
       "      <th>9</th>\n",
       "      <td>Flex-B-1200EP</td>\n",
       "      <td>66.623</td>\n",
       "      <td>38.59</td>\n",
       "      <td>45.4</td>\n",
       "      <td>23.308</td>\n",
       "      <td>29.2</td>\n",
       "      <td>95.9</td>\n",
       "      <td>82.9</td>\n",
       "      <td>87.428571</td>\n",
       "      <td>94.367</td>\n",
       "      <td>75.100</td>\n",
       "      <td>51.956</td>\n",
       "      <td>98.825</td>\n",
       "      <td>59.879</td>\n",
       "      <td>30.371</td>\n",
       "      <td>5.2</td>\n",
       "      <td>27.997</td>\n",
       "      <td>4.7</td>\n",
       "      <td>96.4</td>\n",
       "      <td>85.7</td>\n",
       "      <td>78.4</td>\n",
       "      <td>20.8</td>\n",
       "      <td>4.9</td>\n",
       "      <td>5.9</td>\n",
       "      <td>20.0</td>\n",
       "      <td>94.400000</td>\n",
       "      <td>98.093</td>\n",
       "      <td>89.142</td>\n",
       "      <td>83.7</td>\n",
       "      <td>98.5</td>\n",
       "      <td>60.885</td>\n",
       "      <td>32.227</td>\n",
       "      <td>89.142857</td>\n",
       "      <td>95.428</td>\n",
       "      <td>82.265</td>\n",
       "      <td>54.957143</td>\n",
       "      <td>67.584</td>\n",
       "      <td>40.673</td>\n",
       "      <td>99.1</td>\n",
       "      <td>20.9</td>\n",
       "      <td>5.3</td>\n",
       "      <td>5.3</td>\n",
       "      <td>19.6</td>\n",
       "      <td>6.197</td>\n",
       "      <td>72.5</td>\n",
       "      <td>98.9</td>\n",
       "      <td>21.660</td>\n",
       "      <td>31.4</td>\n",
       "      <td>74.528571</td>\n",
       "      <td>83.311</td>\n",
       "      <td>52.065</td>\n",
       "      <td>81.0</td>\n",
       "      <td>63.7</td>\n",
       "      <td>60.6</td>\n",
       "      <td>79.0</td>\n",
       "      <td>81.510</td>\n",
       "      <td>63.159</td>\n",
       "      <td>96.7</td>\n",
       "      <td>50.2</td>\n",
       "      <td>48.2</td>\n",
       "      <td>84.605917</td>\n",
       "      <td>92.728571</td>\n",
       "      <td>29.812167</td>\n",
       "      <td>70.220000</td>\n",
       "      <td>78.125</td>\n",
       "      <td>34.671429</td>\n",
       "      <td>57.673000</td>\n",
       "      <td>54.957143</td>\n",
       "    </tr>\n",
       "    <tr>\n",
       "      <th>10</th>\n",
       "      <td>Laion-B16-224</td>\n",
       "      <td>66.612</td>\n",
       "      <td>42.00</td>\n",
       "      <td>43.6</td>\n",
       "      <td>27.604</td>\n",
       "      <td>24.0</td>\n",
       "      <td>96.1</td>\n",
       "      <td>81.7</td>\n",
       "      <td>87.242857</td>\n",
       "      <td>93.859</td>\n",
       "      <td>75.139</td>\n",
       "      <td>46.963</td>\n",
       "      <td>99.000</td>\n",
       "      <td>61.104</td>\n",
       "      <td>30.564</td>\n",
       "      <td>3.2</td>\n",
       "      <td>27.208</td>\n",
       "      <td>2.6</td>\n",
       "      <td>96.6</td>\n",
       "      <td>84.9</td>\n",
       "      <td>85.4</td>\n",
       "      <td>20.9</td>\n",
       "      <td>5.2</td>\n",
       "      <td>5.9</td>\n",
       "      <td>20.2</td>\n",
       "      <td>95.585714</td>\n",
       "      <td>98.710</td>\n",
       "      <td>91.334</td>\n",
       "      <td>85.2</td>\n",
       "      <td>98.6</td>\n",
       "      <td>54.242</td>\n",
       "      <td>26.202</td>\n",
       "      <td>84.571429</td>\n",
       "      <td>93.055</td>\n",
       "      <td>74.079</td>\n",
       "      <td>45.600000</td>\n",
       "      <td>70.913</td>\n",
       "      <td>43.591</td>\n",
       "      <td>90.8</td>\n",
       "      <td>21.3</td>\n",
       "      <td>5.9</td>\n",
       "      <td>6.6</td>\n",
       "      <td>21.2</td>\n",
       "      <td>5.023</td>\n",
       "      <td>73.4</td>\n",
       "      <td>98.9</td>\n",
       "      <td>18.823</td>\n",
       "      <td>26.7</td>\n",
       "      <td>74.257143</td>\n",
       "      <td>83.650</td>\n",
       "      <td>52.924</td>\n",
       "      <td>91.0</td>\n",
       "      <td>67.6</td>\n",
       "      <td>64.8</td>\n",
       "      <td>85.6</td>\n",
       "      <td>83.914</td>\n",
       "      <td>62.289</td>\n",
       "      <td>96.8</td>\n",
       "      <td>56.2</td>\n",
       "      <td>48.2</td>\n",
       "      <td>83.700595</td>\n",
       "      <td>92.828571</td>\n",
       "      <td>28.977833</td>\n",
       "      <td>69.022333</td>\n",
       "      <td>77.200</td>\n",
       "      <td>37.185714</td>\n",
       "      <td>56.858500</td>\n",
       "      <td>45.600000</td>\n",
       "    </tr>\n",
       "    <tr>\n",
       "      <th>11</th>\n",
       "      <td>MPNET</td>\n",
       "      <td>0.000</td>\n",
       "      <td>0.00</td>\n",
       "      <td>25.3</td>\n",
       "      <td>0.368</td>\n",
       "      <td>33.0</td>\n",
       "      <td>15.8</td>\n",
       "      <td>61.2</td>\n",
       "      <td>34.214286</td>\n",
       "      <td>5.006</td>\n",
       "      <td>0.995</td>\n",
       "      <td>41.279</td>\n",
       "      <td>93.238</td>\n",
       "      <td>36.811</td>\n",
       "      <td>0.055</td>\n",
       "      <td>3.8</td>\n",
       "      <td>0.104</td>\n",
       "      <td>3.0</td>\n",
       "      <td>48.5</td>\n",
       "      <td>51.8</td>\n",
       "      <td>38.3</td>\n",
       "      <td>7.9</td>\n",
       "      <td>1.6</td>\n",
       "      <td>1.6</td>\n",
       "      <td>7.9</td>\n",
       "      <td>41.714286</td>\n",
       "      <td>26.332</td>\n",
       "      <td>8.421</td>\n",
       "      <td>6.6</td>\n",
       "      <td>83.3</td>\n",
       "      <td>9.766</td>\n",
       "      <td>1.432</td>\n",
       "      <td>2.485714</td>\n",
       "      <td>1.033</td>\n",
       "      <td>0.238</td>\n",
       "      <td>34.400000</td>\n",
       "      <td>1.277</td>\n",
       "      <td>0.248</td>\n",
       "      <td>36.7</td>\n",
       "      <td>7.9</td>\n",
       "      <td>1.6</td>\n",
       "      <td>1.6</td>\n",
       "      <td>7.9</td>\n",
       "      <td>5.452</td>\n",
       "      <td>75.8</td>\n",
       "      <td>90.7</td>\n",
       "      <td>0.948</td>\n",
       "      <td>42.2</td>\n",
       "      <td>15.700000</td>\n",
       "      <td>1.368</td>\n",
       "      <td>0.274</td>\n",
       "      <td>13.2</td>\n",
       "      <td>2.6</td>\n",
       "      <td>2.6</td>\n",
       "      <td>13.2</td>\n",
       "      <td>6.040</td>\n",
       "      <td>1.392</td>\n",
       "      <td>60.5</td>\n",
       "      <td>52.0</td>\n",
       "      <td>38.6</td>\n",
       "      <td>11.481774</td>\n",
       "      <td>42.442857</td>\n",
       "      <td>13.727250</td>\n",
       "      <td>57.109333</td>\n",
       "      <td>55.400</td>\n",
       "      <td>11.442857</td>\n",
       "      <td>3.359167</td>\n",
       "      <td>34.400000</td>\n",
       "    </tr>\n",
       "    <tr>\n",
       "      <th>12</th>\n",
       "      <td>RNX50-32x4A1</td>\n",
       "      <td>38.788</td>\n",
       "      <td>25.52</td>\n",
       "      <td>42.9</td>\n",
       "      <td>18.171</td>\n",
       "      <td>31.4</td>\n",
       "      <td>93.2</td>\n",
       "      <td>80.0</td>\n",
       "      <td>82.085714</td>\n",
       "      <td>91.262</td>\n",
       "      <td>68.312</td>\n",
       "      <td>39.924</td>\n",
       "      <td>96.725</td>\n",
       "      <td>42.582</td>\n",
       "      <td>18.284</td>\n",
       "      <td>8.7</td>\n",
       "      <td>16.795</td>\n",
       "      <td>9.5</td>\n",
       "      <td>92.7</td>\n",
       "      <td>85.6</td>\n",
       "      <td>64.8</td>\n",
       "      <td>16.3</td>\n",
       "      <td>3.8</td>\n",
       "      <td>3.7</td>\n",
       "      <td>16.1</td>\n",
       "      <td>91.100000</td>\n",
       "      <td>96.934</td>\n",
       "      <td>85.452</td>\n",
       "      <td>74.8</td>\n",
       "      <td>97.7</td>\n",
       "      <td>22.161</td>\n",
       "      <td>5.182</td>\n",
       "      <td>85.228571</td>\n",
       "      <td>93.232</td>\n",
       "      <td>77.340</td>\n",
       "      <td>47.857143</td>\n",
       "      <td>8.813</td>\n",
       "      <td>2.399</td>\n",
       "      <td>78.3</td>\n",
       "      <td>17.3</td>\n",
       "      <td>4.1</td>\n",
       "      <td>3.9</td>\n",
       "      <td>16.3</td>\n",
       "      <td>6.650</td>\n",
       "      <td>75.8</td>\n",
       "      <td>98.5</td>\n",
       "      <td>16.606</td>\n",
       "      <td>33.8</td>\n",
       "      <td>74.000000</td>\n",
       "      <td>82.509</td>\n",
       "      <td>51.461</td>\n",
       "      <td>63.9</td>\n",
       "      <td>51.0</td>\n",
       "      <td>49.1</td>\n",
       "      <td>61.4</td>\n",
       "      <td>41.912</td>\n",
       "      <td>19.380</td>\n",
       "      <td>87.8</td>\n",
       "      <td>50.0</td>\n",
       "      <td>50.0</td>\n",
       "      <td>81.576357</td>\n",
       "      <td>84.300000</td>\n",
       "      <td>25.001167</td>\n",
       "      <td>59.743667</td>\n",
       "      <td>76.550</td>\n",
       "      <td>29.064286</td>\n",
       "      <td>16.641167</td>\n",
       "      <td>47.857143</td>\n",
       "    </tr>\n",
       "    <tr>\n",
       "      <th>13</th>\n",
       "      <td>SIGLIP-P16-224</td>\n",
       "      <td>64.505</td>\n",
       "      <td>39.38</td>\n",
       "      <td>51.3</td>\n",
       "      <td>30.698</td>\n",
       "      <td>21.4</td>\n",
       "      <td>97.2</td>\n",
       "      <td>81.6</td>\n",
       "      <td>88.357143</td>\n",
       "      <td>95.074</td>\n",
       "      <td>76.871</td>\n",
       "      <td>52.545</td>\n",
       "      <td>99.537</td>\n",
       "      <td>68.768</td>\n",
       "      <td>23.841</td>\n",
       "      <td>3.0</td>\n",
       "      <td>29.024</td>\n",
       "      <td>2.9</td>\n",
       "      <td>97.2</td>\n",
       "      <td>85.4</td>\n",
       "      <td>88.5</td>\n",
       "      <td>21.6</td>\n",
       "      <td>5.9</td>\n",
       "      <td>7.0</td>\n",
       "      <td>21.0</td>\n",
       "      <td>96.457143</td>\n",
       "      <td>99.114</td>\n",
       "      <td>93.102</td>\n",
       "      <td>85.7</td>\n",
       "      <td>98.6</td>\n",
       "      <td>65.938</td>\n",
       "      <td>39.922</td>\n",
       "      <td>85.214286</td>\n",
       "      <td>93.067</td>\n",
       "      <td>75.070</td>\n",
       "      <td>53.171429</td>\n",
       "      <td>71.205</td>\n",
       "      <td>43.842</td>\n",
       "      <td>93.1</td>\n",
       "      <td>22.5</td>\n",
       "      <td>6.2</td>\n",
       "      <td>6.9</td>\n",
       "      <td>21.8</td>\n",
       "      <td>7.846</td>\n",
       "      <td>76.4</td>\n",
       "      <td>99.0</td>\n",
       "      <td>19.001</td>\n",
       "      <td>28.4</td>\n",
       "      <td>75.128571</td>\n",
       "      <td>84.061</td>\n",
       "      <td>53.563</td>\n",
       "      <td>86.5</td>\n",
       "      <td>66.4</td>\n",
       "      <td>65.2</td>\n",
       "      <td>87.1</td>\n",
       "      <td>88.352</td>\n",
       "      <td>68.101</td>\n",
       "      <td>98.6</td>\n",
       "      <td>47.2</td>\n",
       "      <td>59.5</td>\n",
       "      <td>84.589929</td>\n",
       "      <td>94.185714</td>\n",
       "      <td>28.866250</td>\n",
       "      <td>73.616667</td>\n",
       "      <td>79.225</td>\n",
       "      <td>37.485714</td>\n",
       "      <td>62.893333</td>\n",
       "      <td>53.171429</td>\n",
       "    </tr>\n",
       "    <tr>\n",
       "      <th>14</th>\n",
       "      <td>SViT-B16-224</td>\n",
       "      <td>53.125</td>\n",
       "      <td>32.03</td>\n",
       "      <td>41.7</td>\n",
       "      <td>18.183</td>\n",
       "      <td>31.6</td>\n",
       "      <td>92.9</td>\n",
       "      <td>82.4</td>\n",
       "      <td>73.257143</td>\n",
       "      <td>79.956</td>\n",
       "      <td>50.567</td>\n",
       "      <td>51.592</td>\n",
       "      <td>98.875</td>\n",
       "      <td>58.029</td>\n",
       "      <td>20.203</td>\n",
       "      <td>2.9</td>\n",
       "      <td>18.108</td>\n",
       "      <td>2.8</td>\n",
       "      <td>93.4</td>\n",
       "      <td>80.1</td>\n",
       "      <td>79.9</td>\n",
       "      <td>17.1</td>\n",
       "      <td>4.2</td>\n",
       "      <td>4.3</td>\n",
       "      <td>17.1</td>\n",
       "      <td>86.457143</td>\n",
       "      <td>93.509</td>\n",
       "      <td>75.677</td>\n",
       "      <td>77.7</td>\n",
       "      <td>97.8</td>\n",
       "      <td>56.510</td>\n",
       "      <td>26.641</td>\n",
       "      <td>41.457143</td>\n",
       "      <td>48.929</td>\n",
       "      <td>20.618</td>\n",
       "      <td>45.142857</td>\n",
       "      <td>51.144</td>\n",
       "      <td>25.282</td>\n",
       "      <td>91.8</td>\n",
       "      <td>18.4</td>\n",
       "      <td>4.7</td>\n",
       "      <td>4.6</td>\n",
       "      <td>17.8</td>\n",
       "      <td>8.323</td>\n",
       "      <td>72.5</td>\n",
       "      <td>98.6</td>\n",
       "      <td>15.266</td>\n",
       "      <td>23.8</td>\n",
       "      <td>55.357143</td>\n",
       "      <td>59.872</td>\n",
       "      <td>27.075</td>\n",
       "      <td>76.3</td>\n",
       "      <td>63.0</td>\n",
       "      <td>58.0</td>\n",
       "      <td>75.6</td>\n",
       "      <td>75.290</td>\n",
       "      <td>48.708</td>\n",
       "      <td>93.4</td>\n",
       "      <td>40.9</td>\n",
       "      <td>45.4</td>\n",
       "      <td>59.394298</td>\n",
       "      <td>89.671429</td>\n",
       "      <td>24.903167</td>\n",
       "      <td>69.498667</td>\n",
       "      <td>75.500</td>\n",
       "      <td>31.957143</td>\n",
       "      <td>47.262500</td>\n",
       "      <td>45.142857</td>\n",
       "    </tr>\n",
       "    <tr>\n",
       "      <th>15</th>\n",
       "      <td>Whisper</td>\n",
       "      <td>0.000</td>\n",
       "      <td>0.00</td>\n",
       "      <td>28.7</td>\n",
       "      <td>0.358</td>\n",
       "      <td>32.9</td>\n",
       "      <td>58.3</td>\n",
       "      <td>64.8</td>\n",
       "      <td>43.900000</td>\n",
       "      <td>32.136</td>\n",
       "      <td>10.997</td>\n",
       "      <td>44.873</td>\n",
       "      <td>97.537</td>\n",
       "      <td>44.653</td>\n",
       "      <td>0.056</td>\n",
       "      <td>3.7</td>\n",
       "      <td>0.086</td>\n",
       "      <td>3.3</td>\n",
       "      <td>31.7</td>\n",
       "      <td>56.9</td>\n",
       "      <td>33.2</td>\n",
       "      <td>9.1</td>\n",
       "      <td>2.0</td>\n",
       "      <td>1.8</td>\n",
       "      <td>8.9</td>\n",
       "      <td>47.942857</td>\n",
       "      <td>38.603</td>\n",
       "      <td>16.223</td>\n",
       "      <td>28.4</td>\n",
       "      <td>87.6</td>\n",
       "      <td>9.831</td>\n",
       "      <td>1.953</td>\n",
       "      <td>7.600000</td>\n",
       "      <td>4.705</td>\n",
       "      <td>1.285</td>\n",
       "      <td>49.157143</td>\n",
       "      <td>1.256</td>\n",
       "      <td>0.253</td>\n",
       "      <td>33.9</td>\n",
       "      <td>9.8</td>\n",
       "      <td>2.0</td>\n",
       "      <td>2.1</td>\n",
       "      <td>9.2</td>\n",
       "      <td>4.495</td>\n",
       "      <td>75.7</td>\n",
       "      <td>80.5</td>\n",
       "      <td>0.954</td>\n",
       "      <td>40.7</td>\n",
       "      <td>28.371429</td>\n",
       "      <td>16.028</td>\n",
       "      <td>4.931</td>\n",
       "      <td>75.2</td>\n",
       "      <td>61.4</td>\n",
       "      <td>57.6</td>\n",
       "      <td>68.7</td>\n",
       "      <td>6.171</td>\n",
       "      <td>1.155</td>\n",
       "      <td>53.5</td>\n",
       "      <td>51.5</td>\n",
       "      <td>50.8</td>\n",
       "      <td>21.060190</td>\n",
       "      <td>45.642857</td>\n",
       "      <td>13.520750</td>\n",
       "      <td>62.354333</td>\n",
       "      <td>59.500</td>\n",
       "      <td>29.292857</td>\n",
       "      <td>3.436500</td>\n",
       "      <td>49.157143</td>\n",
       "    </tr>\n",
       "  </tbody>\n",
       "</table>\n",
       "</div>"
      ],
      "text/plain": [
       "       Model.Metric  cityscapes.mIoU  cityscapes.dice-loss  acdc.dice-loss  \\\n",
       "0    AR-ViT-B16-224           57.848                 35.19            42.9   \n",
       "1              BART            0.000                  0.00            25.3   \n",
       "2              BERT            0.000                  0.00             4.1   \n",
       "3      CLIP-B16-224           65.142                 40.06            46.2   \n",
       "4   ConvNextV2-Base           62.341                 41.78            36.4   \n",
       "5      DINO-B16-224           60.224                 36.13            48.5   \n",
       "6     DeiT3-B16-224           62.833                 35.99            40.9   \n",
       "7      EffFormer-s0            2.492                  0.00            27.0   \n",
       "8        EffV2-RW-S           63.144                 40.18            60.9   \n",
       "9     Flex-B-1200EP           66.623                 38.59            45.4   \n",
       "10    Laion-B16-224           66.612                 42.00            43.6   \n",
       "11            MPNET            0.000                  0.00            25.3   \n",
       "12     RNX50-32x4A1           38.788                 25.52            42.9   \n",
       "13   SIGLIP-P16-224           64.505                 39.38            51.3   \n",
       "14     SViT-B16-224           53.125                 32.03            41.7   \n",
       "15          Whisper            0.000                  0.00            28.7   \n",
       "\n",
       "    ade20k.mIoU  ade20k.dice-loss  aircraft.acc@1  chexpert.auc  \\\n",
       "0        17.353              22.3            94.4          81.3   \n",
       "1         0.380              33.2            53.0          63.7   \n",
       "2         0.360              33.0            59.0          66.2   \n",
       "3        33.804              31.3            96.5          81.6   \n",
       "4        37.253              52.8            96.7          81.8   \n",
       "5        18.610              26.7            95.6          81.9   \n",
       "6        21.900              29.7            95.3          82.7   \n",
       "7         9.801              33.8            77.5          80.0   \n",
       "8        12.668              32.1            89.4          81.8   \n",
       "9        23.308              29.2            95.9          82.9   \n",
       "10       27.604              24.0            96.1          81.7   \n",
       "11        0.368              33.0            15.8          61.2   \n",
       "12       18.171              31.4            93.2          80.0   \n",
       "13       30.698              21.4            97.2          81.6   \n",
       "14       18.183              31.6            92.9          82.4   \n",
       "15        0.358              32.9            58.3          64.8   \n",
       "\n",
       "    cifar100.loss  cifar100.acc@5  cifar100.acc@1  clevr.acc@1  \\\n",
       "0       76.628571          83.629          55.742       52.828   \n",
       "1       43.071429          29.170           8.967       42.563   \n",
       "2       47.357143          38.137          14.520       42.593   \n",
       "3       87.028571          93.760          74.731       52.622   \n",
       "4       90.857143          97.422          84.126       52.606   \n",
       "5       82.857143          89.590          66.282       52.846   \n",
       "6       83.400000          90.844          66.750       52.342   \n",
       "7       50.314286          43.571          16.511       45.115   \n",
       "8       79.128571          89.471          64.968       39.848   \n",
       "9       87.428571          94.367          75.100       51.956   \n",
       "10      87.242857          93.859          75.139       46.963   \n",
       "11      34.214286           5.006           0.995       41.279   \n",
       "12      82.085714          91.262          68.312       39.924   \n",
       "13      88.357143          95.074          76.871       52.545   \n",
       "14      73.257143          79.956          50.567       51.592   \n",
       "15      43.900000          32.136          10.997       44.873   \n",
       "\n",
       "    clevr-math.acc@5  clevr-math.acc@1  coco-10k.mIoU  coco-10k.dice-loss  \\\n",
       "0             98.850            58.849         22.783                 2.7   \n",
       "1             96.450            41.761          0.056                 4.1   \n",
       "2             97.400            44.265          0.055                 3.8   \n",
       "3             99.113            61.218         29.609                 3.2   \n",
       "4             99.787            77.402         26.840                85.3   \n",
       "5             99.188            61.001         24.968                 3.1   \n",
       "6             99.350            62.701         28.345                 4.7   \n",
       "7             98.700            53.862         13.995                 9.7   \n",
       "8             97.463            43.199          8.704                 6.3   \n",
       "9             98.825            59.879         30.371                 5.2   \n",
       "10            99.000            61.104         30.564                 3.2   \n",
       "11            93.238            36.811          0.055                 3.8   \n",
       "12            96.725            42.582         18.284                 8.7   \n",
       "13            99.537            68.768         23.841                 3.0   \n",
       "14            98.875            58.029         20.203                 2.9   \n",
       "15            97.537            44.653          0.056                 3.7   \n",
       "\n",
       "    coco-164k.mIoU  coco-164k.dice-loss  cubirds.acc@1  diabetic.auc  \\\n",
       "0           21.321                  3.0           94.4          83.9   \n",
       "1            0.110                  3.5           50.3          55.1   \n",
       "2            0.096                  3.4           47.4          57.6   \n",
       "3           30.369                  4.6           97.9          86.7   \n",
       "4           25.059                 83.1           98.0          87.5   \n",
       "5           24.292                  4.9           95.9          84.7   \n",
       "6           26.125                  4.1           96.2          81.8   \n",
       "7           13.549                 13.5           86.3          81.8   \n",
       "8            8.268                  4.5           92.1          86.1   \n",
       "9           27.997                  4.7           96.4          85.7   \n",
       "10          27.208                  2.6           96.6          84.9   \n",
       "11           0.104                  3.0           48.5          51.8   \n",
       "12          16.795                  9.5           92.7          85.6   \n",
       "13          29.024                  2.9           97.2          85.4   \n",
       "14          18.108                  2.8           93.4          80.1   \n",
       "15           0.086                  3.3           31.7          56.9   \n",
       "\n",
       "    dtextures.acc@1  flickr30k.text-to-image-acc@5  \\\n",
       "0              79.9                           18.8   \n",
       "1              35.4                            7.9   \n",
       "2              37.6                            8.1   \n",
       "3              84.3                           20.9   \n",
       "4              85.0                           21.2   \n",
       "5              79.1                           19.6   \n",
       "6              81.9                           20.0   \n",
       "7              56.7                           15.6   \n",
       "8              59.5                           17.3   \n",
       "9              78.4                           20.8   \n",
       "10             85.4                           20.9   \n",
       "11             38.3                            7.9   \n",
       "12             64.8                           16.3   \n",
       "13             88.5                           21.6   \n",
       "14             79.9                           17.1   \n",
       "15             33.2                            9.1   \n",
       "\n",
       "    flickr30k.text-to-image-acc@1  flickr30k.image-to-text-acc@1  \\\n",
       "0                             5.3                            5.5   \n",
       "1                             1.6                            1.5   \n",
       "2                             1.6                            1.5   \n",
       "3                             5.5                            6.2   \n",
       "4                             5.5                            6.0   \n",
       "5                             4.6                            5.4   \n",
       "6                             5.0                            5.6   \n",
       "7                             3.5                            4.2   \n",
       "8                             4.0                            3.7   \n",
       "9                             4.9                            5.9   \n",
       "10                            5.2                            5.9   \n",
       "11                            1.6                            1.6   \n",
       "12                            3.8                            3.7   \n",
       "13                            5.9                            7.0   \n",
       "14                            4.2                            4.3   \n",
       "15                            2.0                            1.8   \n",
       "\n",
       "    flickr30k.image-to-text-acc@5  food101.loss  food101.acc@5  food101.acc@1  \\\n",
       "0                            18.7     91.685714         96.630         83.834   \n",
       "1                             7.8     44.442857         31.844         11.504   \n",
       "2                             8.3     50.014286         42.442         18.191   \n",
       "3                            20.6     95.628571         98.679         91.496   \n",
       "4                            20.5     96.114286         98.991         92.896   \n",
       "5                            18.6     93.171429         97.449         86.519   \n",
       "6                            19.2     93.614286         97.718         87.331   \n",
       "7                            16.0     78.814286         86.983         62.578   \n",
       "8                            16.1     90.814286         96.816         85.282   \n",
       "9                            20.0     94.400000         98.093         89.142   \n",
       "10                           20.2     95.585714         98.710         91.334   \n",
       "11                            7.9     41.714286         26.332          8.421   \n",
       "12                           16.1     91.100000         96.934         85.452   \n",
       "13                           21.0     96.457143         99.114         93.102   \n",
       "14                           17.1     86.457143         93.509         75.677   \n",
       "15                            8.9     47.942857         38.603         16.223   \n",
       "\n",
       "    fungi.acc@1  ham10k.auc  hmdb51.acc@5  hmdb51.acc@1  imagenet1k.loss  \\\n",
       "0          77.5        98.5        57.917        28.385        86.185714   \n",
       "1          33.7        85.9         9.961         1.953         5.400000   \n",
       "2          32.8        91.1         9.766         1.953         7.528571   \n",
       "3          85.4        98.6        70.039        40.404        89.257143   \n",
       "4          85.7        99.1        77.539        50.326        90.928571   \n",
       "5          81.2        98.7        56.525        27.995        80.342857   \n",
       "6          80.5        98.5        64.338        36.523        88.657143   \n",
       "7          51.2        81.8         9.726         1.628        59.571429   \n",
       "8          73.7        97.5        27.699        11.068        81.485714   \n",
       "9          83.7        98.5        60.885        32.227        89.142857   \n",
       "10         85.2        98.6        54.242        26.202        84.571429   \n",
       "11          6.6        83.3         9.766         1.432         2.485714   \n",
       "12         74.8        97.7        22.161         5.182        85.228571   \n",
       "13         85.7        98.6        65.938        39.922        85.214286   \n",
       "14         77.7        97.8        56.510        26.641        41.457143   \n",
       "15         28.4        87.6         9.831         1.953         7.600000   \n",
       "\n",
       "    imagenet1k.acc@5  imagenet1k.acc@1  iwildcam.mae  kinetics.acc@5  \\\n",
       "0             93.007            78.199     41.528571          63.288   \n",
       "1              3.107             0.713     35.871429           1.277   \n",
       "2              4.616             1.173     34.628571           1.269   \n",
       "3             95.708            81.815     48.385714          71.240   \n",
       "4             96.851            85.288     50.771429          75.765   \n",
       "5             88.493            67.529     42.714286          55.634   \n",
       "6             94.675            82.011     54.371429          66.558   \n",
       "7             72.456            44.615     50.214286           1.334   \n",
       "8             90.439            71.549     47.128571           2.357   \n",
       "9             95.428            82.265     54.957143          67.584   \n",
       "10            93.055            74.079     45.600000          70.913   \n",
       "11             1.033             0.238     34.400000           1.277   \n",
       "12            93.232            77.340     47.857143           8.813   \n",
       "13            93.067            75.070     53.171429          71.205   \n",
       "14            48.929            20.618     45.142857          51.144   \n",
       "15             4.705             1.285     49.157143           1.256   \n",
       "\n",
       "    kinetics.acc@1  mini.acc@1  newyorkercaptioncontest.text-to-image-acc@5  \\\n",
       "0           36.718        98.7                                         19.5   \n",
       "1            0.256        37.3                                          8.1   \n",
       "2            0.233        39.6                                          8.2   \n",
       "3           44.574        96.2                                         21.0   \n",
       "4           49.011        95.8                                         21.4   \n",
       "5           29.529        89.9                                         20.0   \n",
       "6           39.528        98.8                                         21.9   \n",
       "7            0.279        90.8                                         15.1   \n",
       "8            0.561        62.8                                         16.8   \n",
       "9           40.673        99.1                                         20.9   \n",
       "10          43.591        90.8                                         21.3   \n",
       "11           0.248        36.7                                          7.9   \n",
       "12           2.399        78.3                                         17.3   \n",
       "13          43.842        93.1                                         22.5   \n",
       "14          25.282        91.8                                         18.4   \n",
       "15           0.253        33.9                                          9.8   \n",
       "\n",
       "    newyorkercaptioncontest.text-to-image-acc@1  \\\n",
       "0                                           5.2   \n",
       "1                                           1.6   \n",
       "2                                           1.5   \n",
       "3                                           5.7   \n",
       "4                                           5.8   \n",
       "5                                           5.2   \n",
       "6                                           6.0   \n",
       "7                                           3.4   \n",
       "8                                           3.5   \n",
       "9                                           5.3   \n",
       "10                                          5.9   \n",
       "11                                          1.6   \n",
       "12                                          4.1   \n",
       "13                                          6.2   \n",
       "14                                          4.7   \n",
       "15                                          2.0   \n",
       "\n",
       "    newyorkercaptioncontest.image-to-text-acc@1  \\\n",
       "0                                           5.4   \n",
       "1                                           1.6   \n",
       "2                                           1.6   \n",
       "3                                           6.0   \n",
       "4                                           6.3   \n",
       "5                                           5.3   \n",
       "6                                           6.5   \n",
       "7                                           3.4   \n",
       "8                                           3.4   \n",
       "9                                           5.3   \n",
       "10                                          6.6   \n",
       "11                                          1.6   \n",
       "12                                          3.9   \n",
       "13                                          6.9   \n",
       "14                                          4.6   \n",
       "15                                          2.1   \n",
       "\n",
       "    newyorkercaptioncontest.image-to-text-acc@5  nyu.mIoU  nyu.dice-loss  \\\n",
       "0                                          18.7     8.345           72.9   \n",
       "1                                           8.1     4.893           76.0   \n",
       "2                                           8.5     5.503           75.9   \n",
       "3                                          19.9     7.545           71.3   \n",
       "4                                          21.0     5.260           77.5   \n",
       "5                                          19.0     6.138           71.4   \n",
       "6                                          20.5     7.488           70.8   \n",
       "7                                          14.4    10.498           76.4   \n",
       "8                                          14.9     8.216           75.6   \n",
       "9                                          19.6     6.197           72.5   \n",
       "10                                         21.2     5.023           73.4   \n",
       "11                                          7.9     5.452           75.8   \n",
       "12                                         16.3     6.650           75.8   \n",
       "13                                         21.8     7.846           76.4   \n",
       "14                                         17.8     8.323           72.5   \n",
       "15                                          9.2     4.495           75.7   \n",
       "\n",
       "    omniglot.acc@1  pascal.mIoU  pascal.dice-loss  places365.loss  \\\n",
       "0             98.6       15.460              21.9       70.542857   \n",
       "1             84.1        1.002              44.4       25.028571   \n",
       "2             90.2        0.961              45.5       28.457143   \n",
       "3             98.9       26.619              36.8       74.900000   \n",
       "4             98.6       32.665              70.3       76.300000   \n",
       "5             98.7       18.184              30.2       71.614286   \n",
       "6             98.6       22.291              33.3       72.242857   \n",
       "7             95.4       14.026              51.4       53.200000   \n",
       "8             98.6       11.776              38.2       73.685714   \n",
       "9             98.9       21.660              31.4       74.528571   \n",
       "10            98.9       18.823              26.7       74.257143   \n",
       "11            90.7        0.948              42.2       15.700000   \n",
       "12            98.5       16.606              33.8       74.000000   \n",
       "13            99.0       19.001              28.4       75.128571   \n",
       "14            98.6       15.266              23.8       55.357143   \n",
       "15            80.5        0.954              40.7       28.371429   \n",
       "\n",
       "    places365.acc@5  places365.acc@1  pokemonblipcaptions.text-to-image-acc@5  \\\n",
       "0            78.706           46.641                                     82.1   \n",
       "1            11.058            2.953                                     74.8   \n",
       "2            16.037            4.795                                     75.6   \n",
       "3            83.864           53.445                                     85.2   \n",
       "4            85.325           54.726                                     80.3   \n",
       "5            79.704           47.454                                     85.6   \n",
       "6            80.614           48.677                                     82.6   \n",
       "7            55.901           25.548                                     77.5   \n",
       "8            82.389           51.066                                     65.1   \n",
       "9            83.311           52.065                                     81.0   \n",
       "10           83.650           52.924                                     91.0   \n",
       "11            1.368            0.274                                     13.2   \n",
       "12           82.509           51.461                                     63.9   \n",
       "13           84.061           53.563                                     86.5   \n",
       "14           59.872           27.075                                     76.3   \n",
       "15           16.028            4.931                                     75.2   \n",
       "\n",
       "    pokemonblipcaptions.text-to-image-acc@1  \\\n",
       "0                                      64.0   \n",
       "1                                      55.6   \n",
       "2                                      59.9   \n",
       "3                                      67.9   \n",
       "4                                      61.0   \n",
       "5                                      68.2   \n",
       "6                                      67.0   \n",
       "7                                      60.5   \n",
       "8                                      46.3   \n",
       "9                                      63.7   \n",
       "10                                     67.6   \n",
       "11                                      2.6   \n",
       "12                                     51.0   \n",
       "13                                     66.4   \n",
       "14                                     63.0   \n",
       "15                                     61.4   \n",
       "\n",
       "    pokemonblipcaptions.image-to-text-acc@1  \\\n",
       "0                                      62.8   \n",
       "1                                      55.6   \n",
       "2                                      58.7   \n",
       "3                                      61.8   \n",
       "4                                      61.6   \n",
       "5                                      65.5   \n",
       "6                                      63.9   \n",
       "7                                      59.4   \n",
       "8                                      46.0   \n",
       "9                                      60.6   \n",
       "10                                     64.8   \n",
       "11                                      2.6   \n",
       "12                                     49.1   \n",
       "13                                     65.2   \n",
       "14                                     58.0   \n",
       "15                                     57.6   \n",
       "\n",
       "    pokemonblipcaptions.image-to-text-acc@5  ucf.acc@5  ucf.acc@1  vgg.acc@1  \\\n",
       "0                                      79.4     84.369     65.374       95.5   \n",
       "1                                      69.4      5.444      1.031       59.4   \n",
       "2                                      72.2      6.040      1.287       59.4   \n",
       "3                                      81.7     88.238     71.440       98.9   \n",
       "4                                      78.3     94.737     84.106       99.6   \n",
       "5                                      81.8     77.125     52.769       95.9   \n",
       "6                                      81.0     88.506     70.411       96.2   \n",
       "7                                      78.2      5.173      0.840       90.3   \n",
       "8                                      62.5     25.840      9.611       91.2   \n",
       "9                                      79.0     81.510     63.159       96.7   \n",
       "10                                     85.6     83.914     62.289       96.8   \n",
       "11                                     13.2      6.040      1.392       60.5   \n",
       "12                                     61.4     41.912     19.380       87.8   \n",
       "13                                     87.1     88.352     68.101       98.6   \n",
       "14                                     75.6     75.290     48.708       93.4   \n",
       "15                                     68.7      6.171      1.155       53.5   \n",
       "\n",
       "    winoground.text-to-image-acc@1  winoground.image-to-text-acc@1  \\\n",
       "0                             56.9                            61.1   \n",
       "1                             47.7                            48.8   \n",
       "2                             50.4                            50.3   \n",
       "3                             54.0                            48.6   \n",
       "4                             47.8                            39.8   \n",
       "5                             48.3                            49.5   \n",
       "6                             49.2                            42.4   \n",
       "7                             56.8                            51.3   \n",
       "8                             50.0                            50.0   \n",
       "9                             50.2                            48.2   \n",
       "10                            56.2                            48.2   \n",
       "11                            52.0                            38.6   \n",
       "12                            50.0                            50.0   \n",
       "13                            47.2                            59.5   \n",
       "14                            40.9                            45.4   \n",
       "15                            51.5                            50.8   \n",
       "\n",
       "    Image Classification  Few Shot Image Classification  Image Segmentation  \\\n",
       "0              78.452571                      91.285714           25.091667   \n",
       "1              18.104905                      50.457143           13.970083   \n",
       "2              22.772345                      52.285714           14.047917   \n",
       "3              85.026024                      94.014286           31.695667   \n",
       "4              87.485417                      94.200000           50.016500   \n",
       "5              79.250476                      90.900000           27.070500   \n",
       "6              82.211190                      92.500000           28.964333   \n",
       "7              54.171917                      78.314286           20.763417   \n",
       "8              79.757857                      81.042857           25.804667   \n",
       "9              84.605917                      92.728571           29.812167   \n",
       "10             83.700595                      92.828571           28.977833   \n",
       "11             11.481774                      42.442857           13.727250   \n",
       "12             81.576357                      84.300000           25.001167   \n",
       "13             84.589929                      94.185714           28.866250   \n",
       "14             59.394298                      89.671429           24.903167   \n",
       "15             21.060190                      45.642857           13.520750   \n",
       "\n",
       "    Image Relational Reasoning  Medical Classification/Segmentation  \\\n",
       "0                    70.175667                               76.650   \n",
       "1                    60.258000                               57.500   \n",
       "2                    61.419333                               54.750   \n",
       "3                    70.984333                               78.275   \n",
       "4                    76.598333                               76.200   \n",
       "5                    71.011667                               78.450   \n",
       "6                    71.464333                               75.975   \n",
       "7                    65.892333                               67.650   \n",
       "8                    60.170000                               81.575   \n",
       "9                    70.220000                               78.125   \n",
       "10                   69.022333                               77.200   \n",
       "11                   57.109333                               55.400   \n",
       "12                   59.743667                               76.550   \n",
       "13                   73.616667                               79.225   \n",
       "14                   69.498667                               75.500   \n",
       "15                   62.354333                               59.500   \n",
       "\n",
       "    Image to Text Zero Shot Learning  Video Classification  Video Regression  \n",
       "0                          35.957143             56.008500         41.528571  \n",
       "1                          27.864286              3.320333         35.871429  \n",
       "2                          29.028571              3.424667         34.628571  \n",
       "3                          36.071429             64.322500         48.385714  \n",
       "4                          34.035714             71.914000         50.771429  \n",
       "5                          35.471429             49.929500         42.714286  \n",
       "6                          35.057143             60.977333         54.371429  \n",
       "7                          32.807143              3.163333         50.214286  \n",
       "8                          28.542857             12.856000         47.128571  \n",
       "9                          34.671429             57.673000         54.957143  \n",
       "10                         37.185714             56.858500         45.600000  \n",
       "11                         11.442857              3.359167         34.400000  \n",
       "12                         29.064286             16.641167         47.857143  \n",
       "13                         37.485714             62.893333         53.171429  \n",
       "14                         31.957143             47.262500         45.142857  \n",
       "15                         29.292857              3.436500         49.157143  "
      ]
     },
     "metadata": {},
     "output_type": "display_data"
    }
   ],
   "source": [
    "import pathlib\n",
    "\n",
    "import yaml\n",
    "\n",
    "def load_data_as_df(filepath):\n",
    "    df = pd.read_csv(filepath)\n",
    "    task_dataset_dict = yaml.safe_load(open(\"task_mapping.yaml\"))\n",
    "\n",
    "    # Concatenating the header with the first row\n",
    "    new_headers = [f\"{col.split('.')[0]}.{df.iloc[0][idx]}\" for idx, col in enumerate(df.columns)]\n",
    "\n",
    "    # Setting the new concatenated values as column names\n",
    "    df.columns = new_headers\n",
    "\n",
    "    # Removing the first row from the DataFrame\n",
    "    df = df.drop(df.index[0])\n",
    "\n",
    "    # Resetting the DataFrame index\n",
    "    df.reset_index(drop=True, inplace=True)\n",
    "    \n",
    "    columns = df.columns.tolist()[1:]\n",
    "    model_names = df.columns.tolist()[0]\n",
    "    # remove all datapoints with less than 50% on imagenet1k.1\n",
    "\n",
    "    # Replace NA with 5\n",
    "    df = df.fillna(1)\n",
    "    # model_names = df[model_names][1:]\n",
    "\n",
    "    # Convert all columns (except the first) to numeric\n",
    "    for col in df.columns[1:]:\n",
    "        df[col] = pd.to_numeric(df[col], errors=\"coerce\")\n",
    "    \n",
    "    # All columns that have mae in the name should be divided by 5 and then the result should be subtracted from 1 and multiplied by 100\n",
    "    mae_columns = df.columns[df.columns.str.contains('dice', case=False)]\n",
    "    for col in mae_columns:\n",
    "        df[col] = (1-df[col]) * 100\n",
    "    \n",
    "    # columns with mae or loss in their name (except those with dice loss) should be divided by 4 and then the result should be subtracted from 1 and multiplied by 100\n",
    "    \n",
    "    selected_columns = df.columns[df.columns.str.contains('mae|loss', case=False) & ~df.columns.str.contains('dice', case=False)]\n",
    "    for col in selected_columns:\n",
    "        df[col] = (1-df[col] / 7.) * 100\n",
    "        \n",
    "    for col in df.columns[1:]:\n",
    "        if df[col].max() < 1:  # Check if the column is in a fractional format\n",
    "            df[col] = df[col] * 100  # Convert to percentage format\n",
    "    \n",
    "    # for col in columns:\n",
    "    #     df[col] = (df[col] - df[col].min())\n",
    "    \n",
    "    # gaussian normalization\n",
    "    # for col in columns:\n",
    "    #     df[col] = (df[col] - df[col].mean()) / df[col].std()\n",
    "    \n",
    "    # Add a new column for each task, where the value is the mean of the columns that are in the task\n",
    "    for task, datasets in task_dataset_dict.items():\n",
    "        df[task] = df[datasets].mean(axis=1)\n",
    "    \n",
    "    return df\n",
    "\n",
    "source_csv_filepath = (\n",
    "    \"13032024-full.csv\"\n",
    ")\n",
    "source_csv_filepath = pathlib.Path(source_csv_filepath)\n",
    "\n",
    "df = load_data_as_df(source_csv_filepath)\n",
    "display_custom(df)\n"
   ]
  },
  {
   "cell_type": "code",
   "execution_count": 1545,
   "metadata": {},
   "outputs": [],
   "source": [
    "def move_column(df, column_name, position):\n",
    "    \"\"\"\n",
    "    Move a specific column to a specified position in a DataFrame.\n",
    "\n",
    "    Parameters:\n",
    "    df (pandas.DataFrame): The DataFrame to modify.\n",
    "    column_name (str): The name of the column to move.\n",
    "    position (int): The position to move the column to.\n",
    "\n",
    "    Returns:\n",
    "    pandas.DataFrame: The modified DataFrame.\n",
    "    \"\"\"\n",
    "    # Ensure the position is within the valid range\n",
    "    if position < 0 or position > len(df.columns):\n",
    "        raise ValueError(f\"Position must be between 0 and {len(df.columns)}\")\n",
    "\n",
    "    # Get a list of the column names\n",
    "    cols = df.columns.tolist()\n",
    "\n",
    "    # Check if the column name is in the list\n",
    "    if column_name in cols:\n",
    "        # Remove the column from its current position\n",
    "        cols.remove(column_name)\n",
    "\n",
    "        # Insert the column at the specified position\n",
    "        cols.insert(position, column_name)\n",
    "\n",
    "        # Reorder the DataFrame\n",
    "        df = df[cols]\n",
    "\n",
    "    return df"
   ]
  },
  {
   "cell_type": "code",
   "execution_count": 1546,
   "metadata": {},
   "outputs": [
    {
     "data": {
      "text/html": [
       "<pre style=\"white-space:pre;overflow-x:auto;line-height:normal;font-family:Menlo,'DejaVu Sans Mono',consolas,'Courier New',monospace\"><span style=\"font-weight: bold\">{</span>\n",
       "    <span style=\"color: #008000; text-decoration-color: #008000\">'Image Classification'</span>: <span style=\"font-weight: bold\">[</span>\n",
       "        <span style=\"color: #008000; text-decoration-color: #008000\">'cifar100.loss'</span>,\n",
       "        <span style=\"color: #008000; text-decoration-color: #008000\">'cifar100.acc@1'</span>,\n",
       "        <span style=\"color: #008000; text-decoration-color: #008000\">'cifar100.acc@5'</span>,\n",
       "        <span style=\"color: #008000; text-decoration-color: #008000\">'food101.loss'</span>,\n",
       "        <span style=\"color: #008000; text-decoration-color: #008000\">'food101.acc@5'</span>,\n",
       "        <span style=\"color: #008000; text-decoration-color: #008000\">'food101.acc@1'</span>,\n",
       "        <span style=\"color: #008000; text-decoration-color: #008000\">'imagenet1k.loss'</span>,\n",
       "        <span style=\"color: #008000; text-decoration-color: #008000\">'imagenet1k.acc@5'</span>,\n",
       "        <span style=\"color: #008000; text-decoration-color: #008000\">'imagenet1k.acc@1'</span>,\n",
       "        <span style=\"color: #008000; text-decoration-color: #008000\">'places365.loss'</span>,\n",
       "        <span style=\"color: #008000; text-decoration-color: #008000\">'places365.acc@5'</span>,\n",
       "        <span style=\"color: #008000; text-decoration-color: #008000\">'places365.acc@1'</span>\n",
       "    <span style=\"font-weight: bold\">]</span>,\n",
       "    <span style=\"color: #008000; text-decoration-color: #008000\">'Few Shot Image Classification'</span>: <span style=\"font-weight: bold\">[</span>\n",
       "        <span style=\"color: #008000; text-decoration-color: #008000\">'fungi.acc@1'</span>,\n",
       "        <span style=\"color: #008000; text-decoration-color: #008000\">'mini.acc@1'</span>,\n",
       "        <span style=\"color: #008000; text-decoration-color: #008000\">'omniglot.acc@1'</span>,\n",
       "        <span style=\"color: #008000; text-decoration-color: #008000\">'vgg.acc@1'</span>,\n",
       "        <span style=\"color: #008000; text-decoration-color: #008000\">'aircraft.acc@1'</span>,\n",
       "        <span style=\"color: #008000; text-decoration-color: #008000\">'dtextures.acc@1'</span>,\n",
       "        <span style=\"color: #008000; text-decoration-color: #008000\">'cubirds.acc@1'</span>\n",
       "    <span style=\"font-weight: bold\">]</span>,\n",
       "    <span style=\"color: #008000; text-decoration-color: #008000\">'Image Segmentation'</span>: <span style=\"font-weight: bold\">[</span>\n",
       "        <span style=\"color: #008000; text-decoration-color: #008000\">'ade20k.dice-loss'</span>,\n",
       "        <span style=\"color: #008000; text-decoration-color: #008000\">'ade20k.mIoU'</span>,\n",
       "        <span style=\"color: #008000; text-decoration-color: #008000\">'coco-10k.mIoU'</span>,\n",
       "        <span style=\"color: #008000; text-decoration-color: #008000\">'coco-10k.dice-loss'</span>,\n",
       "        <span style=\"color: #008000; text-decoration-color: #008000\">'coco-164k.mIoU'</span>,\n",
       "        <span style=\"color: #008000; text-decoration-color: #008000\">'coco-164k.dice-loss'</span>,\n",
       "        <span style=\"color: #008000; text-decoration-color: #008000\">'cityscapes.mIoU'</span>,\n",
       "        <span style=\"color: #008000; text-decoration-color: #008000\">'cityscapes.dice-loss'</span>,\n",
       "        <span style=\"color: #008000; text-decoration-color: #008000\">'nyu.mIoU'</span>,\n",
       "        <span style=\"color: #008000; text-decoration-color: #008000\">'nyu.dice-loss'</span>,\n",
       "        <span style=\"color: #008000; text-decoration-color: #008000\">'pascal.mIoU'</span>,\n",
       "        <span style=\"color: #008000; text-decoration-color: #008000\">'pascal.dice-loss'</span>\n",
       "    <span style=\"font-weight: bold\">]</span>,\n",
       "    <span style=\"color: #008000; text-decoration-color: #008000\">'Image Relational Reasoning'</span>: <span style=\"font-weight: bold\">[</span><span style=\"color: #008000; text-decoration-color: #008000\">'clevr.acc@1'</span>, <span style=\"color: #008000; text-decoration-color: #008000\">'clevr-math.acc@5'</span>, <span style=\"color: #008000; text-decoration-color: #008000\">'clevr-math.acc@1'</span><span style=\"font-weight: bold\">]</span>,\n",
       "    <span style=\"color: #008000; text-decoration-color: #008000\">'Medical Classification/Segmentation'</span>: <span style=\"font-weight: bold\">[</span><span style=\"color: #008000; text-decoration-color: #008000\">'ham10k.auc'</span>, <span style=\"color: #008000; text-decoration-color: #008000\">'chexpert.auc'</span>, <span style=\"color: #008000; text-decoration-color: #008000\">'diabetic.auc'</span>, <span style=\"color: #008000; text-decoration-color: #008000\">'acdc.dice-loss'</span><span style=\"font-weight: bold\">]</span>,\n",
       "    <span style=\"color: #008000; text-decoration-color: #008000\">'Image to Text Zero Shot Learning'</span>: <span style=\"font-weight: bold\">[</span>\n",
       "        <span style=\"color: #008000; text-decoration-color: #008000\">'flickr30k.text-to-image-acc@5'</span>,\n",
       "        <span style=\"color: #008000; text-decoration-color: #008000\">'flickr30k.text-to-image-acc@1'</span>,\n",
       "        <span style=\"color: #008000; text-decoration-color: #008000\">'flickr30k.image-to-text-acc@1'</span>,\n",
       "        <span style=\"color: #008000; text-decoration-color: #008000\">'flickr30k.image-to-text-acc@5'</span>,\n",
       "        <span style=\"color: #008000; text-decoration-color: #008000\">'newyorkercaptioncontest.text-to-image-acc@5'</span>,\n",
       "        <span style=\"color: #008000; text-decoration-color: #008000\">'newyorkercaptioncontest.text-to-image-acc@1'</span>,\n",
       "        <span style=\"color: #008000; text-decoration-color: #008000\">'newyorkercaptioncontest.image-to-text-acc@1'</span>,\n",
       "        <span style=\"color: #008000; text-decoration-color: #008000\">'newyorkercaptioncontest.image-to-text-acc@5'</span>,\n",
       "        <span style=\"color: #008000; text-decoration-color: #008000\">'pokemonblipcaptions.text-to-image-acc@5'</span>,\n",
       "        <span style=\"color: #008000; text-decoration-color: #008000\">'pokemonblipcaptions.text-to-image-acc@1'</span>,\n",
       "        <span style=\"color: #008000; text-decoration-color: #008000\">'pokemonblipcaptions.image-to-text-acc@1'</span>,\n",
       "        <span style=\"color: #008000; text-decoration-color: #008000\">'pokemonblipcaptions.image-to-text-acc@5'</span>,\n",
       "        <span style=\"color: #008000; text-decoration-color: #008000\">'winoground.image-to-text-acc@1'</span>,\n",
       "        <span style=\"color: #008000; text-decoration-color: #008000\">'winoground.text-to-image-acc@1'</span>\n",
       "    <span style=\"font-weight: bold\">]</span>,\n",
       "    <span style=\"color: #008000; text-decoration-color: #008000\">'Video Classification'</span>: <span style=\"font-weight: bold\">[</span>\n",
       "        <span style=\"color: #008000; text-decoration-color: #008000\">'kinetics.acc@5'</span>,\n",
       "        <span style=\"color: #008000; text-decoration-color: #008000\">'kinetics.acc@1'</span>,\n",
       "        <span style=\"color: #008000; text-decoration-color: #008000\">'hmdb51.acc@5'</span>,\n",
       "        <span style=\"color: #008000; text-decoration-color: #008000\">'hmdb51.acc@1'</span>,\n",
       "        <span style=\"color: #008000; text-decoration-color: #008000\">'ucf.acc@5'</span>,\n",
       "        <span style=\"color: #008000; text-decoration-color: #008000\">'ucf.acc@1'</span>\n",
       "    <span style=\"font-weight: bold\">]</span>,\n",
       "    <span style=\"color: #008000; text-decoration-color: #008000\">'Video Regression'</span>: <span style=\"font-weight: bold\">[</span><span style=\"color: #008000; text-decoration-color: #008000\">'iwildcam.mae'</span><span style=\"font-weight: bold\">]</span>\n",
       "<span style=\"font-weight: bold\">}</span>\n",
       "</pre>\n"
      ],
      "text/plain": [
       "\u001b[1m{\u001b[0m\n",
       "    \u001b[32m'Image Classification'\u001b[0m: \u001b[1m[\u001b[0m\n",
       "        \u001b[32m'cifar100.loss'\u001b[0m,\n",
       "        \u001b[32m'cifar100.acc@1'\u001b[0m,\n",
       "        \u001b[32m'cifar100.acc@5'\u001b[0m,\n",
       "        \u001b[32m'food101.loss'\u001b[0m,\n",
       "        \u001b[32m'food101.acc@5'\u001b[0m,\n",
       "        \u001b[32m'food101.acc@1'\u001b[0m,\n",
       "        \u001b[32m'imagenet1k.loss'\u001b[0m,\n",
       "        \u001b[32m'imagenet1k.acc@5'\u001b[0m,\n",
       "        \u001b[32m'imagenet1k.acc@1'\u001b[0m,\n",
       "        \u001b[32m'places365.loss'\u001b[0m,\n",
       "        \u001b[32m'places365.acc@5'\u001b[0m,\n",
       "        \u001b[32m'places365.acc@1'\u001b[0m\n",
       "    \u001b[1m]\u001b[0m,\n",
       "    \u001b[32m'Few Shot Image Classification'\u001b[0m: \u001b[1m[\u001b[0m\n",
       "        \u001b[32m'fungi.acc@1'\u001b[0m,\n",
       "        \u001b[32m'mini.acc@1'\u001b[0m,\n",
       "        \u001b[32m'omniglot.acc@1'\u001b[0m,\n",
       "        \u001b[32m'vgg.acc@1'\u001b[0m,\n",
       "        \u001b[32m'aircraft.acc@1'\u001b[0m,\n",
       "        \u001b[32m'dtextures.acc@1'\u001b[0m,\n",
       "        \u001b[32m'cubirds.acc@1'\u001b[0m\n",
       "    \u001b[1m]\u001b[0m,\n",
       "    \u001b[32m'Image Segmentation'\u001b[0m: \u001b[1m[\u001b[0m\n",
       "        \u001b[32m'ade20k.dice-loss'\u001b[0m,\n",
       "        \u001b[32m'ade20k.mIoU'\u001b[0m,\n",
       "        \u001b[32m'coco-10k.mIoU'\u001b[0m,\n",
       "        \u001b[32m'coco-10k.dice-loss'\u001b[0m,\n",
       "        \u001b[32m'coco-164k.mIoU'\u001b[0m,\n",
       "        \u001b[32m'coco-164k.dice-loss'\u001b[0m,\n",
       "        \u001b[32m'cityscapes.mIoU'\u001b[0m,\n",
       "        \u001b[32m'cityscapes.dice-loss'\u001b[0m,\n",
       "        \u001b[32m'nyu.mIoU'\u001b[0m,\n",
       "        \u001b[32m'nyu.dice-loss'\u001b[0m,\n",
       "        \u001b[32m'pascal.mIoU'\u001b[0m,\n",
       "        \u001b[32m'pascal.dice-loss'\u001b[0m\n",
       "    \u001b[1m]\u001b[0m,\n",
       "    \u001b[32m'Image Relational Reasoning'\u001b[0m: \u001b[1m[\u001b[0m\u001b[32m'clevr.acc@1'\u001b[0m, \u001b[32m'clevr-math.acc@5'\u001b[0m, \u001b[32m'clevr-math.acc@1'\u001b[0m\u001b[1m]\u001b[0m,\n",
       "    \u001b[32m'Medical Classification/Segmentation'\u001b[0m: \u001b[1m[\u001b[0m\u001b[32m'ham10k.auc'\u001b[0m, \u001b[32m'chexpert.auc'\u001b[0m, \u001b[32m'diabetic.auc'\u001b[0m, \u001b[32m'acdc.dice-loss'\u001b[0m\u001b[1m]\u001b[0m,\n",
       "    \u001b[32m'Image to Text Zero Shot Learning'\u001b[0m: \u001b[1m[\u001b[0m\n",
       "        \u001b[32m'flickr30k.text-to-image-acc@5'\u001b[0m,\n",
       "        \u001b[32m'flickr30k.text-to-image-acc@1'\u001b[0m,\n",
       "        \u001b[32m'flickr30k.image-to-text-acc@1'\u001b[0m,\n",
       "        \u001b[32m'flickr30k.image-to-text-acc@5'\u001b[0m,\n",
       "        \u001b[32m'newyorkercaptioncontest.text-to-image-acc@5'\u001b[0m,\n",
       "        \u001b[32m'newyorkercaptioncontest.text-to-image-acc@1'\u001b[0m,\n",
       "        \u001b[32m'newyorkercaptioncontest.image-to-text-acc@1'\u001b[0m,\n",
       "        \u001b[32m'newyorkercaptioncontest.image-to-text-acc@5'\u001b[0m,\n",
       "        \u001b[32m'pokemonblipcaptions.text-to-image-acc@5'\u001b[0m,\n",
       "        \u001b[32m'pokemonblipcaptions.text-to-image-acc@1'\u001b[0m,\n",
       "        \u001b[32m'pokemonblipcaptions.image-to-text-acc@1'\u001b[0m,\n",
       "        \u001b[32m'pokemonblipcaptions.image-to-text-acc@5'\u001b[0m,\n",
       "        \u001b[32m'winoground.image-to-text-acc@1'\u001b[0m,\n",
       "        \u001b[32m'winoground.text-to-image-acc@1'\u001b[0m\n",
       "    \u001b[1m]\u001b[0m,\n",
       "    \u001b[32m'Video Classification'\u001b[0m: \u001b[1m[\u001b[0m\n",
       "        \u001b[32m'kinetics.acc@5'\u001b[0m,\n",
       "        \u001b[32m'kinetics.acc@1'\u001b[0m,\n",
       "        \u001b[32m'hmdb51.acc@5'\u001b[0m,\n",
       "        \u001b[32m'hmdb51.acc@1'\u001b[0m,\n",
       "        \u001b[32m'ucf.acc@5'\u001b[0m,\n",
       "        \u001b[32m'ucf.acc@1'\u001b[0m\n",
       "    \u001b[1m]\u001b[0m,\n",
       "    \u001b[32m'Video Regression'\u001b[0m: \u001b[1m[\u001b[0m\u001b[32m'iwildcam.mae'\u001b[0m\u001b[1m]\u001b[0m\n",
       "\u001b[1m}\u001b[0m\n"
      ]
     },
     "metadata": {},
     "output_type": "display_data"
    }
   ],
   "source": [
    "import yaml\n",
    "\n",
    "task_to_dataset_metrics = yaml.safe_load(open(\"task_mapping.yaml\"))\n",
    "idx = 1\n",
    "for task_name, dataset_metrics in task_to_dataset_metrics.items():\n",
    "    for metric in dataset_metrics:\n",
    "        df = move_column(df, metric, idx)\n",
    "        idx += 1\n",
    "print(task_to_dataset_metrics)"
   ]
  },
  {
   "cell_type": "code",
   "execution_count": 1547,
   "metadata": {},
   "outputs": [
    {
     "data": {
      "text/html": [
       "<pre style=\"white-space:pre;overflow-x:auto;line-height:normal;font-family:Menlo,'DejaVu Sans Mono',consolas,'Courier New',monospace\"><span style=\"color: #008080; text-decoration-color: #008080; font-weight: bold\">0</span>      AR-ViT-B16-<span style=\"color: #008080; text-decoration-color: #008080; font-weight: bold\">224</span>\n",
       "<span style=\"color: #008080; text-decoration-color: #008080; font-weight: bold\">1</span>                BART\n",
       "<span style=\"color: #008080; text-decoration-color: #008080; font-weight: bold\">2</span>                BERT\n",
       "<span style=\"color: #008080; text-decoration-color: #008080; font-weight: bold\">3</span>        CLIP-B16-<span style=\"color: #008080; text-decoration-color: #008080; font-weight: bold\">224</span>\n",
       "<span style=\"color: #008080; text-decoration-color: #008080; font-weight: bold\">4</span>     ConvNextV2-Base\n",
       "<span style=\"color: #008080; text-decoration-color: #008080; font-weight: bold\">5</span>        DINO-B16-<span style=\"color: #008080; text-decoration-color: #008080; font-weight: bold\">224</span>\n",
       "<span style=\"color: #008080; text-decoration-color: #008080; font-weight: bold\">6</span>       DeiT3-B16-<span style=\"color: #008080; text-decoration-color: #008080; font-weight: bold\">224</span>\n",
       "<span style=\"color: #008080; text-decoration-color: #008080; font-weight: bold\">7</span>        EffFormer-s0\n",
       "<span style=\"color: #008080; text-decoration-color: #008080; font-weight: bold\">8</span>          EffV2-RW-S\n",
       "<span style=\"color: #008080; text-decoration-color: #008080; font-weight: bold\">9</span>       Flex-B-1200EP\n",
       "<span style=\"color: #008080; text-decoration-color: #008080; font-weight: bold\">10</span>      Laion-B16-<span style=\"color: #008080; text-decoration-color: #008080; font-weight: bold\">224</span>\n",
       "<span style=\"color: #008080; text-decoration-color: #008080; font-weight: bold\">11</span>              MPNET\n",
       "<span style=\"color: #008080; text-decoration-color: #008080; font-weight: bold\">12</span>       RNX50-32x4A1\n",
       "<span style=\"color: #008080; text-decoration-color: #008080; font-weight: bold\">13</span>     SIGLIP-P16-<span style=\"color: #008080; text-decoration-color: #008080; font-weight: bold\">224</span>\n",
       "<span style=\"color: #008080; text-decoration-color: #008080; font-weight: bold\">14</span>       SViT-B16-<span style=\"color: #008080; text-decoration-color: #008080; font-weight: bold\">224</span>\n",
       "<span style=\"color: #008080; text-decoration-color: #008080; font-weight: bold\">15</span>            Whisper\n",
       "Name: Model.Metric, dtype: object\n",
       "</pre>\n"
      ],
      "text/plain": [
       "\u001b[1;36m0\u001b[0m      AR-ViT-B16-\u001b[1;36m224\u001b[0m\n",
       "\u001b[1;36m1\u001b[0m                BART\n",
       "\u001b[1;36m2\u001b[0m                BERT\n",
       "\u001b[1;36m3\u001b[0m        CLIP-B16-\u001b[1;36m224\u001b[0m\n",
       "\u001b[1;36m4\u001b[0m     ConvNextV2-Base\n",
       "\u001b[1;36m5\u001b[0m        DINO-B16-\u001b[1;36m224\u001b[0m\n",
       "\u001b[1;36m6\u001b[0m       DeiT3-B16-\u001b[1;36m224\u001b[0m\n",
       "\u001b[1;36m7\u001b[0m        EffFormer-s0\n",
       "\u001b[1;36m8\u001b[0m          EffV2-RW-S\n",
       "\u001b[1;36m9\u001b[0m       Flex-B-1200EP\n",
       "\u001b[1;36m10\u001b[0m      Laion-B16-\u001b[1;36m224\u001b[0m\n",
       "\u001b[1;36m11\u001b[0m              MPNET\n",
       "\u001b[1;36m12\u001b[0m       RNX50-32x4A1\n",
       "\u001b[1;36m13\u001b[0m     SIGLIP-P16-\u001b[1;36m224\u001b[0m\n",
       "\u001b[1;36m14\u001b[0m       SViT-B16-\u001b[1;36m224\u001b[0m\n",
       "\u001b[1;36m15\u001b[0m            Whisper\n",
       "Name: Model.Metric, dtype: object\n"
      ]
     },
     "metadata": {},
     "output_type": "display_data"
    }
   ],
   "source": [
    "model_names = df['Model.Metric']\n",
    "print(model_names)\n",
    "modality_shift = [\"BART\", \"BERT\", \"Whisper\", \"MPNET\"]\n",
    "pretraining_shift = [\"AR-ViT-B16-224\", \"CLIP-B16-224\", \"DINO-B16-224\", \"DeiT3-B16-224\", \"Flex-B-1200EP\", \"Laion-B16-224\", \"SIGLIP-P16-224\"]\n",
    "architecture_shift = [\"AR-ViT-B16-224\", \"ConvNextV2-Base\", \"EffV2-RW-S\", \"RNX50-32x4A1\", \"SViT-B16-224\", \"EffFormer-s0\"]"
   ]
  },
  {
   "cell_type": "code",
   "execution_count": 1548,
   "metadata": {},
   "outputs": [],
   "source": [
    "import numpy as np\n",
    "\n",
    "def generate_palette(palette, target_length):\n",
    "    if len(palette) >= target_length:\n",
    "        return palette[:target_length]\n",
    "    else:\n",
    "        # Interpolate colors in the palette\n",
    "        colors = np.array([px.colors.hex_to_rgb(color) for color in palette])\n",
    "        new_colors = np.array([\n",
    "            np.interp(np.linspace(0, len(colors) - 1, target_length), np.arange(len(colors)), colors[:, i])\n",
    "            for i in range(3)\n",
    "        ]).T.astype(int)\n",
    "        return [f'rgb({r},{g},{b})' for r, g, b in new_colors]"
   ]
  },
  {
   "cell_type": "code",
   "execution_count": 1549,
   "metadata": {},
   "outputs": [
    {
     "data": {
      "application/vnd.plotly.v1+json": {
       "config": {
        "plotlyServerURL": "https://plot.ly"
       },
       "data": [
        {
         "line": {
          "color": "#fcfdbf"
         },
         "mode": "lines",
         "name": "AR-ViT-B16-224",
         "r": [
          78.4525714285714,
          91.28571428571426,
          25.091666666666665,
          70.17566666666666,
          76.65,
          35.957142857142856,
          56.008500000000005,
          41.528571428571425
         ],
         "theta": [
          "Img Class",
          "FS Img Class",
          "Img Seg",
          "Img Relational Reasoning",
          "Medical Class/Seg",
          "Img to Text ZS Learning",
          "Video Class",
          "Video Reg"
         ],
         "type": "scatterpolar"
        },
        {
         "line": {
          "color": "#fcfdbf"
         },
         "mode": "lines",
         "name": "AR-ViT-B16-224",
         "r": [
          78.4525714285714,
          41.528571428571425
         ],
         "showlegend": false,
         "theta": [
          "Img Class",
          "Video Reg"
         ],
         "type": "scatterpolar"
        },
        {
         "line": {
          "color": "#feca8d"
         },
         "mode": "lines",
         "name": "ConvNextV2-Base",
         "r": [
          87.48541666666667,
          94.20000000000002,
          50.016499999999986,
          76.59833333333334,
          76.19999999999999,
          34.03571428571429,
          71.914,
          50.771428571428565
         ],
         "theta": [
          "Img Class",
          "FS Img Class",
          "Img Seg",
          "Img Relational Reasoning",
          "Medical Class/Seg",
          "Img to Text ZS Learning",
          "Video Class",
          "Video Reg"
         ],
         "type": "scatterpolar"
        },
        {
         "line": {
          "color": "#feca8d"
         },
         "mode": "lines",
         "name": "ConvNextV2-Base",
         "r": [
          87.48541666666667,
          50.771428571428565
         ],
         "showlegend": false,
         "theta": [
          "Img Class",
          "Video Reg"
         ],
         "type": "scatterpolar"
        },
        {
         "line": {
          "color": "#fd9668"
         },
         "mode": "lines",
         "name": "EffV2-RW-S",
         "r": [
          54.17191666666667,
          78.3142857142857,
          20.763416666666668,
          65.89233333333333,
          67.65,
          32.80714285714286,
          3.1633333333333336,
          50.21428571428572
         ],
         "theta": [
          "Img Class",
          "FS Img Class",
          "Img Seg",
          "Img Relational Reasoning",
          "Medical Class/Seg",
          "Img to Text ZS Learning",
          "Video Class",
          "Video Reg"
         ],
         "type": "scatterpolar"
        },
        {
         "line": {
          "color": "#fd9668"
         },
         "mode": "lines",
         "name": "EffV2-RW-S",
         "r": [
          54.17191666666667,
          50.21428571428572
         ],
         "showlegend": false,
         "theta": [
          "Img Class",
          "Video Reg"
         ],
         "type": "scatterpolar"
        },
        {
         "line": {
          "color": "#f1605d"
         },
         "mode": "lines",
         "name": "RNX50-32x4A1",
         "r": [
          79.75785714285715,
          81.04285714285716,
          25.804666666666666,
          60.169999999999995,
          81.57499999999999,
          28.542857142857144,
          12.856000000000002,
          47.12857142857143
         ],
         "theta": [
          "Img Class",
          "FS Img Class",
          "Img Seg",
          "Img Relational Reasoning",
          "Medical Class/Seg",
          "Img to Text ZS Learning",
          "Video Class",
          "Video Reg"
         ],
         "type": "scatterpolar"
        },
        {
         "line": {
          "color": "#f1605d"
         },
         "mode": "lines",
         "name": "RNX50-32x4A1",
         "r": [
          79.75785714285715,
          47.12857142857143
         ],
         "showlegend": false,
         "theta": [
          "Img Class",
          "Video Reg"
         ],
         "type": "scatterpolar"
        },
        {
         "line": {
          "color": "#cd4071"
         },
         "mode": "lines",
         "name": "SViT-B16-224",
         "r": [
          81.57635714285715,
          84.3,
          25.001166666666666,
          59.74366666666666,
          76.54999999999998,
          29.064285714285713,
          16.641166666666667,
          47.857142857142854
         ],
         "theta": [
          "Img Class",
          "FS Img Class",
          "Img Seg",
          "Img Relational Reasoning",
          "Medical Class/Seg",
          "Img to Text ZS Learning",
          "Video Class",
          "Video Reg"
         ],
         "type": "scatterpolar"
        },
        {
         "line": {
          "color": "#cd4071"
         },
         "mode": "lines",
         "name": "SViT-B16-224",
         "r": [
          81.57635714285715,
          47.857142857142854
         ],
         "showlegend": false,
         "theta": [
          "Img Class",
          "Video Reg"
         ],
         "type": "scatterpolar"
        },
        {
         "line": {
          "color": "#9e2f7f"
         },
         "mode": "lines",
         "name": "EffFormer-s0",
         "r": [
          59.39429761904763,
          89.67142857142856,
          24.903166666666667,
          69.49866666666667,
          75.5,
          31.957142857142856,
          47.26250000000001,
          45.14285714285714
         ],
         "theta": [
          "Img Class",
          "FS Img Class",
          "Img Seg",
          "Img Relational Reasoning",
          "Medical Class/Seg",
          "Img to Text ZS Learning",
          "Video Class",
          "Video Reg"
         ],
         "type": "scatterpolar"
        },
        {
         "line": {
          "color": "#9e2f7f"
         },
         "mode": "lines",
         "name": "EffFormer-s0",
         "r": [
          59.39429761904763,
          45.14285714285714
         ],
         "showlegend": false,
         "theta": [
          "Img Class",
          "Video Reg"
         ],
         "type": "scatterpolar"
        }
       ],
       "layout": {
        "autosize": true,
        "font": {
         "size": 8
        },
        "height": 400,
        "legend": {
         "orientation": "h",
         "x": 0.5,
         "xanchor": "center",
         "y": 1.4,
         "yanchor": "top"
        },
        "margin": {
         "b": 50,
         "l": 50,
         "pad": 4,
         "r": 50,
         "t": 100
        },
        "template": {
         "data": {
          "bar": [
           {
            "error_x": {
             "color": "#2a3f5f"
            },
            "error_y": {
             "color": "#2a3f5f"
            },
            "marker": {
             "line": {
              "color": "#E5ECF6",
              "width": 0.5
             },
             "pattern": {
              "fillmode": "overlay",
              "size": 10,
              "solidity": 0.2
             }
            },
            "type": "bar"
           }
          ],
          "barpolar": [
           {
            "marker": {
             "line": {
              "color": "#E5ECF6",
              "width": 0.5
             },
             "pattern": {
              "fillmode": "overlay",
              "size": 10,
              "solidity": 0.2
             }
            },
            "type": "barpolar"
           }
          ],
          "carpet": [
           {
            "aaxis": {
             "endlinecolor": "#2a3f5f",
             "gridcolor": "white",
             "linecolor": "white",
             "minorgridcolor": "white",
             "startlinecolor": "#2a3f5f"
            },
            "baxis": {
             "endlinecolor": "#2a3f5f",
             "gridcolor": "white",
             "linecolor": "white",
             "minorgridcolor": "white",
             "startlinecolor": "#2a3f5f"
            },
            "type": "carpet"
           }
          ],
          "choropleth": [
           {
            "colorbar": {
             "outlinewidth": 0,
             "ticks": ""
            },
            "type": "choropleth"
           }
          ],
          "contour": [
           {
            "colorbar": {
             "outlinewidth": 0,
             "ticks": ""
            },
            "colorscale": [
             [
              0,
              "#0d0887"
             ],
             [
              0.1111111111111111,
              "#46039f"
             ],
             [
              0.2222222222222222,
              "#7201a8"
             ],
             [
              0.3333333333333333,
              "#9c179e"
             ],
             [
              0.4444444444444444,
              "#bd3786"
             ],
             [
              0.5555555555555556,
              "#d8576b"
             ],
             [
              0.6666666666666666,
              "#ed7953"
             ],
             [
              0.7777777777777778,
              "#fb9f3a"
             ],
             [
              0.8888888888888888,
              "#fdca26"
             ],
             [
              1,
              "#f0f921"
             ]
            ],
            "type": "contour"
           }
          ],
          "contourcarpet": [
           {
            "colorbar": {
             "outlinewidth": 0,
             "ticks": ""
            },
            "type": "contourcarpet"
           }
          ],
          "heatmap": [
           {
            "colorbar": {
             "outlinewidth": 0,
             "ticks": ""
            },
            "colorscale": [
             [
              0,
              "#0d0887"
             ],
             [
              0.1111111111111111,
              "#46039f"
             ],
             [
              0.2222222222222222,
              "#7201a8"
             ],
             [
              0.3333333333333333,
              "#9c179e"
             ],
             [
              0.4444444444444444,
              "#bd3786"
             ],
             [
              0.5555555555555556,
              "#d8576b"
             ],
             [
              0.6666666666666666,
              "#ed7953"
             ],
             [
              0.7777777777777778,
              "#fb9f3a"
             ],
             [
              0.8888888888888888,
              "#fdca26"
             ],
             [
              1,
              "#f0f921"
             ]
            ],
            "type": "heatmap"
           }
          ],
          "heatmapgl": [
           {
            "colorbar": {
             "outlinewidth": 0,
             "ticks": ""
            },
            "colorscale": [
             [
              0,
              "#0d0887"
             ],
             [
              0.1111111111111111,
              "#46039f"
             ],
             [
              0.2222222222222222,
              "#7201a8"
             ],
             [
              0.3333333333333333,
              "#9c179e"
             ],
             [
              0.4444444444444444,
              "#bd3786"
             ],
             [
              0.5555555555555556,
              "#d8576b"
             ],
             [
              0.6666666666666666,
              "#ed7953"
             ],
             [
              0.7777777777777778,
              "#fb9f3a"
             ],
             [
              0.8888888888888888,
              "#fdca26"
             ],
             [
              1,
              "#f0f921"
             ]
            ],
            "type": "heatmapgl"
           }
          ],
          "histogram": [
           {
            "marker": {
             "pattern": {
              "fillmode": "overlay",
              "size": 10,
              "solidity": 0.2
             }
            },
            "type": "histogram"
           }
          ],
          "histogram2d": [
           {
            "colorbar": {
             "outlinewidth": 0,
             "ticks": ""
            },
            "colorscale": [
             [
              0,
              "#0d0887"
             ],
             [
              0.1111111111111111,
              "#46039f"
             ],
             [
              0.2222222222222222,
              "#7201a8"
             ],
             [
              0.3333333333333333,
              "#9c179e"
             ],
             [
              0.4444444444444444,
              "#bd3786"
             ],
             [
              0.5555555555555556,
              "#d8576b"
             ],
             [
              0.6666666666666666,
              "#ed7953"
             ],
             [
              0.7777777777777778,
              "#fb9f3a"
             ],
             [
              0.8888888888888888,
              "#fdca26"
             ],
             [
              1,
              "#f0f921"
             ]
            ],
            "type": "histogram2d"
           }
          ],
          "histogram2dcontour": [
           {
            "colorbar": {
             "outlinewidth": 0,
             "ticks": ""
            },
            "colorscale": [
             [
              0,
              "#0d0887"
             ],
             [
              0.1111111111111111,
              "#46039f"
             ],
             [
              0.2222222222222222,
              "#7201a8"
             ],
             [
              0.3333333333333333,
              "#9c179e"
             ],
             [
              0.4444444444444444,
              "#bd3786"
             ],
             [
              0.5555555555555556,
              "#d8576b"
             ],
             [
              0.6666666666666666,
              "#ed7953"
             ],
             [
              0.7777777777777778,
              "#fb9f3a"
             ],
             [
              0.8888888888888888,
              "#fdca26"
             ],
             [
              1,
              "#f0f921"
             ]
            ],
            "type": "histogram2dcontour"
           }
          ],
          "mesh3d": [
           {
            "colorbar": {
             "outlinewidth": 0,
             "ticks": ""
            },
            "type": "mesh3d"
           }
          ],
          "parcoords": [
           {
            "line": {
             "colorbar": {
              "outlinewidth": 0,
              "ticks": ""
             }
            },
            "type": "parcoords"
           }
          ],
          "pie": [
           {
            "automargin": true,
            "type": "pie"
           }
          ],
          "scatter": [
           {
            "fillpattern": {
             "fillmode": "overlay",
             "size": 10,
             "solidity": 0.2
            },
            "type": "scatter"
           }
          ],
          "scatter3d": [
           {
            "line": {
             "colorbar": {
              "outlinewidth": 0,
              "ticks": ""
             }
            },
            "marker": {
             "colorbar": {
              "outlinewidth": 0,
              "ticks": ""
             }
            },
            "type": "scatter3d"
           }
          ],
          "scattercarpet": [
           {
            "marker": {
             "colorbar": {
              "outlinewidth": 0,
              "ticks": ""
             }
            },
            "type": "scattercarpet"
           }
          ],
          "scattergeo": [
           {
            "marker": {
             "colorbar": {
              "outlinewidth": 0,
              "ticks": ""
             }
            },
            "type": "scattergeo"
           }
          ],
          "scattergl": [
           {
            "marker": {
             "colorbar": {
              "outlinewidth": 0,
              "ticks": ""
             }
            },
            "type": "scattergl"
           }
          ],
          "scattermapbox": [
           {
            "marker": {
             "colorbar": {
              "outlinewidth": 0,
              "ticks": ""
             }
            },
            "type": "scattermapbox"
           }
          ],
          "scatterpolar": [
           {
            "marker": {
             "colorbar": {
              "outlinewidth": 0,
              "ticks": ""
             }
            },
            "type": "scatterpolar"
           }
          ],
          "scatterpolargl": [
           {
            "marker": {
             "colorbar": {
              "outlinewidth": 0,
              "ticks": ""
             }
            },
            "type": "scatterpolargl"
           }
          ],
          "scatterternary": [
           {
            "marker": {
             "colorbar": {
              "outlinewidth": 0,
              "ticks": ""
             }
            },
            "type": "scatterternary"
           }
          ],
          "surface": [
           {
            "colorbar": {
             "outlinewidth": 0,
             "ticks": ""
            },
            "colorscale": [
             [
              0,
              "#0d0887"
             ],
             [
              0.1111111111111111,
              "#46039f"
             ],
             [
              0.2222222222222222,
              "#7201a8"
             ],
             [
              0.3333333333333333,
              "#9c179e"
             ],
             [
              0.4444444444444444,
              "#bd3786"
             ],
             [
              0.5555555555555556,
              "#d8576b"
             ],
             [
              0.6666666666666666,
              "#ed7953"
             ],
             [
              0.7777777777777778,
              "#fb9f3a"
             ],
             [
              0.8888888888888888,
              "#fdca26"
             ],
             [
              1,
              "#f0f921"
             ]
            ],
            "type": "surface"
           }
          ],
          "table": [
           {
            "cells": {
             "fill": {
              "color": "#EBF0F8"
             },
             "line": {
              "color": "white"
             }
            },
            "header": {
             "fill": {
              "color": "#C8D4E3"
             },
             "line": {
              "color": "white"
             }
            },
            "type": "table"
           }
          ]
         },
         "layout": {
          "annotationdefaults": {
           "arrowcolor": "#2a3f5f",
           "arrowhead": 0,
           "arrowwidth": 1
          },
          "autotypenumbers": "strict",
          "coloraxis": {
           "colorbar": {
            "outlinewidth": 0,
            "ticks": ""
           }
          },
          "colorscale": {
           "diverging": [
            [
             0,
             "#8e0152"
            ],
            [
             0.1,
             "#c51b7d"
            ],
            [
             0.2,
             "#de77ae"
            ],
            [
             0.3,
             "#f1b6da"
            ],
            [
             0.4,
             "#fde0ef"
            ],
            [
             0.5,
             "#f7f7f7"
            ],
            [
             0.6,
             "#e6f5d0"
            ],
            [
             0.7,
             "#b8e186"
            ],
            [
             0.8,
             "#7fbc41"
            ],
            [
             0.9,
             "#4d9221"
            ],
            [
             1,
             "#276419"
            ]
           ],
           "sequential": [
            [
             0,
             "#0d0887"
            ],
            [
             0.1111111111111111,
             "#46039f"
            ],
            [
             0.2222222222222222,
             "#7201a8"
            ],
            [
             0.3333333333333333,
             "#9c179e"
            ],
            [
             0.4444444444444444,
             "#bd3786"
            ],
            [
             0.5555555555555556,
             "#d8576b"
            ],
            [
             0.6666666666666666,
             "#ed7953"
            ],
            [
             0.7777777777777778,
             "#fb9f3a"
            ],
            [
             0.8888888888888888,
             "#fdca26"
            ],
            [
             1,
             "#f0f921"
            ]
           ],
           "sequentialminus": [
            [
             0,
             "#0d0887"
            ],
            [
             0.1111111111111111,
             "#46039f"
            ],
            [
             0.2222222222222222,
             "#7201a8"
            ],
            [
             0.3333333333333333,
             "#9c179e"
            ],
            [
             0.4444444444444444,
             "#bd3786"
            ],
            [
             0.5555555555555556,
             "#d8576b"
            ],
            [
             0.6666666666666666,
             "#ed7953"
            ],
            [
             0.7777777777777778,
             "#fb9f3a"
            ],
            [
             0.8888888888888888,
             "#fdca26"
            ],
            [
             1,
             "#f0f921"
            ]
           ]
          },
          "colorway": [
           "#636efa",
           "#EF553B",
           "#00cc96",
           "#ab63fa",
           "#FFA15A",
           "#19d3f3",
           "#FF6692",
           "#B6E880",
           "#FF97FF",
           "#FECB52"
          ],
          "font": {
           "color": "#2a3f5f"
          },
          "geo": {
           "bgcolor": "white",
           "lakecolor": "white",
           "landcolor": "#E5ECF6",
           "showlakes": true,
           "showland": true,
           "subunitcolor": "white"
          },
          "hoverlabel": {
           "align": "left"
          },
          "hovermode": "closest",
          "mapbox": {
           "style": "light"
          },
          "paper_bgcolor": "white",
          "plot_bgcolor": "#E5ECF6",
          "polar": {
           "angularaxis": {
            "gridcolor": "white",
            "linecolor": "white",
            "ticks": ""
           },
           "bgcolor": "#E5ECF6",
           "radialaxis": {
            "gridcolor": "white",
            "linecolor": "white",
            "ticks": ""
           }
          },
          "scene": {
           "xaxis": {
            "backgroundcolor": "#E5ECF6",
            "gridcolor": "white",
            "gridwidth": 2,
            "linecolor": "white",
            "showbackground": true,
            "ticks": "",
            "zerolinecolor": "white"
           },
           "yaxis": {
            "backgroundcolor": "#E5ECF6",
            "gridcolor": "white",
            "gridwidth": 2,
            "linecolor": "white",
            "showbackground": true,
            "ticks": "",
            "zerolinecolor": "white"
           },
           "zaxis": {
            "backgroundcolor": "#E5ECF6",
            "gridcolor": "white",
            "gridwidth": 2,
            "linecolor": "white",
            "showbackground": true,
            "ticks": "",
            "zerolinecolor": "white"
           }
          },
          "shapedefaults": {
           "line": {
            "color": "#2a3f5f"
           }
          },
          "ternary": {
           "aaxis": {
            "gridcolor": "white",
            "linecolor": "white",
            "ticks": ""
           },
           "baxis": {
            "gridcolor": "white",
            "linecolor": "white",
            "ticks": ""
           },
           "bgcolor": "#E5ECF6",
           "caxis": {
            "gridcolor": "white",
            "linecolor": "white",
            "ticks": ""
           }
          },
          "title": {
           "x": 0.05
          },
          "xaxis": {
           "automargin": true,
           "gridcolor": "white",
           "linecolor": "white",
           "ticks": "",
           "title": {
            "standoff": 15
           },
           "zerolinecolor": "white",
           "zerolinewidth": 2
          },
          "yaxis": {
           "automargin": true,
           "gridcolor": "white",
           "linecolor": "white",
           "ticks": "",
           "title": {
            "standoff": 15
           },
           "zerolinecolor": "white",
           "zerolinewidth": 2
          }
         }
        },
        "width": 400
       }
      }
     },
     "metadata": {},
     "output_type": "display_data"
    }
   ],
   "source": [
    "import plotly.express as px\n",
    "# Preprocess data for polar plot\n",
    "color_palette = px.colors.sequential.Magma_r  # Original palette\n",
    "target_length = len(architecture_shift)\n",
    "color_palette = generate_palette(color_palette, target_length)\n",
    "\n",
    "categories = df.columns[-8:]  # Exclude the first column (Model.Metric)\n",
    "values = df.iloc[:, -8:].values  # Exclude the first column\n",
    "\n",
    "categories = [category.replace(\"Classification\", \"Class\").replace(\"Zero Shot\", \"ZS\").replace(\"Image\", \"Img\").replace(\"Regression\", \"Reg\").replace(\"Few Shot\", \"FS\").replace(\"Segmentation\", \"Seg\") for category in categories]  # Shorten the category names\n",
    "# dataframe that includes only Model.Metrics matching entries in pretraining_shift\n",
    "new_df = df[df['Model.Metric'].isin(architecture_shift)]\n",
    "columns = new_df.columns\n",
    "# gaussian normalization\n",
    "# for col in columns[1:]:\n",
    "#     new_df[col] = (new_df[col] - new_df[col].mean()) / (new_df[col].std())\n",
    "values = new_df.iloc[:, -8:].values  # Exclude the first column\n",
    "new_df = new_df.reset_index(drop=True)\n",
    "# Create polar plot for each model\n",
    "fig = go.Figure()\n",
    "for i, model in enumerate(architecture_shift):\n",
    "    id = new_df[new_df['Model.Metric'] == model].index[0]\n",
    "    color_index = i % len(color_palette)  # Ensure the index is within the range of the color palette\n",
    "    fig.add_trace(go.Scatterpolar(\n",
    "        r=values[i],\n",
    "        theta=categories,\n",
    "        name=model,\n",
    "        mode='lines',\n",
    "        line=dict(color=color_palette[color_index])  \n",
    "        \n",
    "    ))\n",
    "    fig.add_trace(go.Scatterpolar(\n",
    "        r=[values[i][0], values[i][-1]],\n",
    "        theta=[categories[0], categories[-1]],\n",
    "        name=model,\n",
    "        mode='lines',\n",
    "        showlegend=False,\n",
    "        line=dict(color=color_palette[color_index]) \n",
    "        \n",
    "    ))\n",
    "    \n",
    "    \n",
    "\n",
    "# Update layout\n",
    "fig.update_layout(\n",
    "    height=400,\n",
    "    width=400,\n",
    "    autosize=True,\n",
    "    margin=dict(\n",
    "            l=50,\n",
    "            r=50,\n",
    "            b=50,\n",
    "            t=100,\n",
    "            pad=4\n",
    "        ),\n",
    "    font=dict(\n",
    "        size=8\n",
    "    ),\n",
    ")\n",
    "\n",
    "# make legend smaller and move it to the top center\n",
    "fig.update_layout(\n",
    "    legend=dict(\n",
    "        orientation=\"h\",\n",
    "        yanchor=\"top\",\n",
    "        y=1.4,\n",
    "        xanchor=\"center\",\n",
    "        x=0.5\n",
    "    )\n",
    ")\n",
    "\n",
    "fig.show()\n",
    "fig.write_image(\"architecture_polar_plot.pdf\")\n",
    "fig.write_image(\"architecture_polar_plot.png\")"
   ]
  },
  {
   "cell_type": "code",
   "execution_count": 1550,
   "metadata": {},
   "outputs": [
    {
     "data": {
      "application/vnd.plotly.v1+json": {
       "config": {
        "plotlyServerURL": "https://plot.ly"
       },
       "data": [
        {
         "line": {
          "color": "#fcfdbf"
         },
         "mode": "lines",
         "name": "AR-ViT-B16-224",
         "r": [
          78.4525714285714,
          91.28571428571426,
          25.091666666666665,
          70.17566666666666,
          76.65,
          35.957142857142856,
          56.008500000000005,
          41.528571428571425
         ],
         "theta": [
          "Img Class",
          "FS Img Class",
          "Img Seg",
          "Img Relational Reasoning",
          "Medical Class/Seg",
          "Img to Text ZS Learning",
          "Video Class",
          "Video Reg"
         ],
         "type": "scatterpolar"
        },
        {
         "line": {
          "color": "#fcfdbf"
         },
         "mode": "lines",
         "name": "AR-ViT-B16-224",
         "r": [
          78.4525714285714,
          41.528571428571425
         ],
         "showlegend": false,
         "theta": [
          "Img Class",
          "Video Reg"
         ],
         "type": "scatterpolar"
        },
        {
         "line": {
          "color": "#feca8d"
         },
         "mode": "lines",
         "name": "CLIP-B16-224",
         "r": [
          85.0260238095238,
          94.0142857142857,
          31.695666666666668,
          70.98433333333334,
          78.27499999999999,
          36.07142857142857,
          64.3225,
          48.385714285714286
         ],
         "theta": [
          "Img Class",
          "FS Img Class",
          "Img Seg",
          "Img Relational Reasoning",
          "Medical Class/Seg",
          "Img to Text ZS Learning",
          "Video Class",
          "Video Reg"
         ],
         "type": "scatterpolar"
        },
        {
         "line": {
          "color": "#feca8d"
         },
         "mode": "lines",
         "name": "CLIP-B16-224",
         "r": [
          85.0260238095238,
          48.385714285714286
         ],
         "showlegend": false,
         "theta": [
          "Img Class",
          "Video Reg"
         ],
         "type": "scatterpolar"
        },
        {
         "line": {
          "color": "#fd9668"
         },
         "mode": "lines",
         "name": "DINO-B16-224",
         "r": [
          79.25047619047618,
          90.89999999999999,
          27.0705,
          71.01166666666667,
          78.45,
          35.471428571428575,
          49.9295,
          42.714285714285715
         ],
         "theta": [
          "Img Class",
          "FS Img Class",
          "Img Seg",
          "Img Relational Reasoning",
          "Medical Class/Seg",
          "Img to Text ZS Learning",
          "Video Class",
          "Video Reg"
         ],
         "type": "scatterpolar"
        },
        {
         "line": {
          "color": "#fd9668"
         },
         "mode": "lines",
         "name": "DINO-B16-224",
         "r": [
          79.25047619047618,
          42.714285714285715
         ],
         "showlegend": false,
         "theta": [
          "Img Class",
          "Video Reg"
         ],
         "type": "scatterpolar"
        },
        {
         "line": {
          "color": "#f1605d"
         },
         "mode": "lines",
         "name": "DeiT3-B16-224",
         "r": [
          82.21119047619048,
          92.5,
          28.964333333333332,
          71.46433333333333,
          75.975,
          35.05714285714286,
          60.97733333333333,
          54.371428571428574
         ],
         "theta": [
          "Img Class",
          "FS Img Class",
          "Img Seg",
          "Img Relational Reasoning",
          "Medical Class/Seg",
          "Img to Text ZS Learning",
          "Video Class",
          "Video Reg"
         ],
         "type": "scatterpolar"
        },
        {
         "line": {
          "color": "#f1605d"
         },
         "mode": "lines",
         "name": "DeiT3-B16-224",
         "r": [
          82.21119047619048,
          54.371428571428574
         ],
         "showlegend": false,
         "theta": [
          "Img Class",
          "Video Reg"
         ],
         "type": "scatterpolar"
        },
        {
         "line": {
          "color": "#cd4071"
         },
         "mode": "lines",
         "name": "Flex-B-1200EP",
         "r": [
          84.60591666666666,
          92.72857142857143,
          29.81216666666667,
          70.22,
          78.12499999999999,
          34.67142857142857,
          57.673,
          54.95714285714286
         ],
         "theta": [
          "Img Class",
          "FS Img Class",
          "Img Seg",
          "Img Relational Reasoning",
          "Medical Class/Seg",
          "Img to Text ZS Learning",
          "Video Class",
          "Video Reg"
         ],
         "type": "scatterpolar"
        },
        {
         "line": {
          "color": "#cd4071"
         },
         "mode": "lines",
         "name": "Flex-B-1200EP",
         "r": [
          84.60591666666666,
          54.95714285714286
         ],
         "showlegend": false,
         "theta": [
          "Img Class",
          "Video Reg"
         ],
         "type": "scatterpolar"
        },
        {
         "line": {
          "color": "#9e2f7f"
         },
         "mode": "lines",
         "name": "Laion-B16-224",
         "r": [
          83.70059523809522,
          92.82857142857142,
          28.977833333333333,
          69.02233333333334,
          77.2,
          37.18571428571429,
          56.85849999999999,
          45.60000000000001
         ],
         "theta": [
          "Img Class",
          "FS Img Class",
          "Img Seg",
          "Img Relational Reasoning",
          "Medical Class/Seg",
          "Img to Text ZS Learning",
          "Video Class",
          "Video Reg"
         ],
         "type": "scatterpolar"
        },
        {
         "line": {
          "color": "#9e2f7f"
         },
         "mode": "lines",
         "name": "Laion-B16-224",
         "r": [
          83.70059523809522,
          45.60000000000001
         ],
         "showlegend": false,
         "theta": [
          "Img Class",
          "Video Reg"
         ],
         "type": "scatterpolar"
        },
        {
         "line": {
          "color": "#721f81"
         },
         "mode": "lines",
         "name": "SIGLIP-P16-224",
         "r": [
          84.58992857142857,
          94.18571428571428,
          28.866249999999997,
          73.61666666666666,
          79.225,
          37.48571428571429,
          62.89333333333334,
          53.17142857142857
         ],
         "theta": [
          "Img Class",
          "FS Img Class",
          "Img Seg",
          "Img Relational Reasoning",
          "Medical Class/Seg",
          "Img to Text ZS Learning",
          "Video Class",
          "Video Reg"
         ],
         "type": "scatterpolar"
        },
        {
         "line": {
          "color": "#721f81"
         },
         "mode": "lines",
         "name": "SIGLIP-P16-224",
         "r": [
          84.58992857142857,
          53.17142857142857
         ],
         "showlegend": false,
         "theta": [
          "Img Class",
          "Video Reg"
         ],
         "type": "scatterpolar"
        }
       ],
       "layout": {
        "autosize": true,
        "font": {
         "size": 8
        },
        "height": 400,
        "legend": {
         "orientation": "h",
         "x": 0.5,
         "xanchor": "center",
         "y": 1.4,
         "yanchor": "top"
        },
        "margin": {
         "b": 50,
         "l": 50,
         "pad": 4,
         "r": 50,
         "t": 100
        },
        "template": {
         "data": {
          "bar": [
           {
            "error_x": {
             "color": "#2a3f5f"
            },
            "error_y": {
             "color": "#2a3f5f"
            },
            "marker": {
             "line": {
              "color": "#E5ECF6",
              "width": 0.5
             },
             "pattern": {
              "fillmode": "overlay",
              "size": 10,
              "solidity": 0.2
             }
            },
            "type": "bar"
           }
          ],
          "barpolar": [
           {
            "marker": {
             "line": {
              "color": "#E5ECF6",
              "width": 0.5
             },
             "pattern": {
              "fillmode": "overlay",
              "size": 10,
              "solidity": 0.2
             }
            },
            "type": "barpolar"
           }
          ],
          "carpet": [
           {
            "aaxis": {
             "endlinecolor": "#2a3f5f",
             "gridcolor": "white",
             "linecolor": "white",
             "minorgridcolor": "white",
             "startlinecolor": "#2a3f5f"
            },
            "baxis": {
             "endlinecolor": "#2a3f5f",
             "gridcolor": "white",
             "linecolor": "white",
             "minorgridcolor": "white",
             "startlinecolor": "#2a3f5f"
            },
            "type": "carpet"
           }
          ],
          "choropleth": [
           {
            "colorbar": {
             "outlinewidth": 0,
             "ticks": ""
            },
            "type": "choropleth"
           }
          ],
          "contour": [
           {
            "colorbar": {
             "outlinewidth": 0,
             "ticks": ""
            },
            "colorscale": [
             [
              0,
              "#0d0887"
             ],
             [
              0.1111111111111111,
              "#46039f"
             ],
             [
              0.2222222222222222,
              "#7201a8"
             ],
             [
              0.3333333333333333,
              "#9c179e"
             ],
             [
              0.4444444444444444,
              "#bd3786"
             ],
             [
              0.5555555555555556,
              "#d8576b"
             ],
             [
              0.6666666666666666,
              "#ed7953"
             ],
             [
              0.7777777777777778,
              "#fb9f3a"
             ],
             [
              0.8888888888888888,
              "#fdca26"
             ],
             [
              1,
              "#f0f921"
             ]
            ],
            "type": "contour"
           }
          ],
          "contourcarpet": [
           {
            "colorbar": {
             "outlinewidth": 0,
             "ticks": ""
            },
            "type": "contourcarpet"
           }
          ],
          "heatmap": [
           {
            "colorbar": {
             "outlinewidth": 0,
             "ticks": ""
            },
            "colorscale": [
             [
              0,
              "#0d0887"
             ],
             [
              0.1111111111111111,
              "#46039f"
             ],
             [
              0.2222222222222222,
              "#7201a8"
             ],
             [
              0.3333333333333333,
              "#9c179e"
             ],
             [
              0.4444444444444444,
              "#bd3786"
             ],
             [
              0.5555555555555556,
              "#d8576b"
             ],
             [
              0.6666666666666666,
              "#ed7953"
             ],
             [
              0.7777777777777778,
              "#fb9f3a"
             ],
             [
              0.8888888888888888,
              "#fdca26"
             ],
             [
              1,
              "#f0f921"
             ]
            ],
            "type": "heatmap"
           }
          ],
          "heatmapgl": [
           {
            "colorbar": {
             "outlinewidth": 0,
             "ticks": ""
            },
            "colorscale": [
             [
              0,
              "#0d0887"
             ],
             [
              0.1111111111111111,
              "#46039f"
             ],
             [
              0.2222222222222222,
              "#7201a8"
             ],
             [
              0.3333333333333333,
              "#9c179e"
             ],
             [
              0.4444444444444444,
              "#bd3786"
             ],
             [
              0.5555555555555556,
              "#d8576b"
             ],
             [
              0.6666666666666666,
              "#ed7953"
             ],
             [
              0.7777777777777778,
              "#fb9f3a"
             ],
             [
              0.8888888888888888,
              "#fdca26"
             ],
             [
              1,
              "#f0f921"
             ]
            ],
            "type": "heatmapgl"
           }
          ],
          "histogram": [
           {
            "marker": {
             "pattern": {
              "fillmode": "overlay",
              "size": 10,
              "solidity": 0.2
             }
            },
            "type": "histogram"
           }
          ],
          "histogram2d": [
           {
            "colorbar": {
             "outlinewidth": 0,
             "ticks": ""
            },
            "colorscale": [
             [
              0,
              "#0d0887"
             ],
             [
              0.1111111111111111,
              "#46039f"
             ],
             [
              0.2222222222222222,
              "#7201a8"
             ],
             [
              0.3333333333333333,
              "#9c179e"
             ],
             [
              0.4444444444444444,
              "#bd3786"
             ],
             [
              0.5555555555555556,
              "#d8576b"
             ],
             [
              0.6666666666666666,
              "#ed7953"
             ],
             [
              0.7777777777777778,
              "#fb9f3a"
             ],
             [
              0.8888888888888888,
              "#fdca26"
             ],
             [
              1,
              "#f0f921"
             ]
            ],
            "type": "histogram2d"
           }
          ],
          "histogram2dcontour": [
           {
            "colorbar": {
             "outlinewidth": 0,
             "ticks": ""
            },
            "colorscale": [
             [
              0,
              "#0d0887"
             ],
             [
              0.1111111111111111,
              "#46039f"
             ],
             [
              0.2222222222222222,
              "#7201a8"
             ],
             [
              0.3333333333333333,
              "#9c179e"
             ],
             [
              0.4444444444444444,
              "#bd3786"
             ],
             [
              0.5555555555555556,
              "#d8576b"
             ],
             [
              0.6666666666666666,
              "#ed7953"
             ],
             [
              0.7777777777777778,
              "#fb9f3a"
             ],
             [
              0.8888888888888888,
              "#fdca26"
             ],
             [
              1,
              "#f0f921"
             ]
            ],
            "type": "histogram2dcontour"
           }
          ],
          "mesh3d": [
           {
            "colorbar": {
             "outlinewidth": 0,
             "ticks": ""
            },
            "type": "mesh3d"
           }
          ],
          "parcoords": [
           {
            "line": {
             "colorbar": {
              "outlinewidth": 0,
              "ticks": ""
             }
            },
            "type": "parcoords"
           }
          ],
          "pie": [
           {
            "automargin": true,
            "type": "pie"
           }
          ],
          "scatter": [
           {
            "fillpattern": {
             "fillmode": "overlay",
             "size": 10,
             "solidity": 0.2
            },
            "type": "scatter"
           }
          ],
          "scatter3d": [
           {
            "line": {
             "colorbar": {
              "outlinewidth": 0,
              "ticks": ""
             }
            },
            "marker": {
             "colorbar": {
              "outlinewidth": 0,
              "ticks": ""
             }
            },
            "type": "scatter3d"
           }
          ],
          "scattercarpet": [
           {
            "marker": {
             "colorbar": {
              "outlinewidth": 0,
              "ticks": ""
             }
            },
            "type": "scattercarpet"
           }
          ],
          "scattergeo": [
           {
            "marker": {
             "colorbar": {
              "outlinewidth": 0,
              "ticks": ""
             }
            },
            "type": "scattergeo"
           }
          ],
          "scattergl": [
           {
            "marker": {
             "colorbar": {
              "outlinewidth": 0,
              "ticks": ""
             }
            },
            "type": "scattergl"
           }
          ],
          "scattermapbox": [
           {
            "marker": {
             "colorbar": {
              "outlinewidth": 0,
              "ticks": ""
             }
            },
            "type": "scattermapbox"
           }
          ],
          "scatterpolar": [
           {
            "marker": {
             "colorbar": {
              "outlinewidth": 0,
              "ticks": ""
             }
            },
            "type": "scatterpolar"
           }
          ],
          "scatterpolargl": [
           {
            "marker": {
             "colorbar": {
              "outlinewidth": 0,
              "ticks": ""
             }
            },
            "type": "scatterpolargl"
           }
          ],
          "scatterternary": [
           {
            "marker": {
             "colorbar": {
              "outlinewidth": 0,
              "ticks": ""
             }
            },
            "type": "scatterternary"
           }
          ],
          "surface": [
           {
            "colorbar": {
             "outlinewidth": 0,
             "ticks": ""
            },
            "colorscale": [
             [
              0,
              "#0d0887"
             ],
             [
              0.1111111111111111,
              "#46039f"
             ],
             [
              0.2222222222222222,
              "#7201a8"
             ],
             [
              0.3333333333333333,
              "#9c179e"
             ],
             [
              0.4444444444444444,
              "#bd3786"
             ],
             [
              0.5555555555555556,
              "#d8576b"
             ],
             [
              0.6666666666666666,
              "#ed7953"
             ],
             [
              0.7777777777777778,
              "#fb9f3a"
             ],
             [
              0.8888888888888888,
              "#fdca26"
             ],
             [
              1,
              "#f0f921"
             ]
            ],
            "type": "surface"
           }
          ],
          "table": [
           {
            "cells": {
             "fill": {
              "color": "#EBF0F8"
             },
             "line": {
              "color": "white"
             }
            },
            "header": {
             "fill": {
              "color": "#C8D4E3"
             },
             "line": {
              "color": "white"
             }
            },
            "type": "table"
           }
          ]
         },
         "layout": {
          "annotationdefaults": {
           "arrowcolor": "#2a3f5f",
           "arrowhead": 0,
           "arrowwidth": 1
          },
          "autotypenumbers": "strict",
          "coloraxis": {
           "colorbar": {
            "outlinewidth": 0,
            "ticks": ""
           }
          },
          "colorscale": {
           "diverging": [
            [
             0,
             "#8e0152"
            ],
            [
             0.1,
             "#c51b7d"
            ],
            [
             0.2,
             "#de77ae"
            ],
            [
             0.3,
             "#f1b6da"
            ],
            [
             0.4,
             "#fde0ef"
            ],
            [
             0.5,
             "#f7f7f7"
            ],
            [
             0.6,
             "#e6f5d0"
            ],
            [
             0.7,
             "#b8e186"
            ],
            [
             0.8,
             "#7fbc41"
            ],
            [
             0.9,
             "#4d9221"
            ],
            [
             1,
             "#276419"
            ]
           ],
           "sequential": [
            [
             0,
             "#0d0887"
            ],
            [
             0.1111111111111111,
             "#46039f"
            ],
            [
             0.2222222222222222,
             "#7201a8"
            ],
            [
             0.3333333333333333,
             "#9c179e"
            ],
            [
             0.4444444444444444,
             "#bd3786"
            ],
            [
             0.5555555555555556,
             "#d8576b"
            ],
            [
             0.6666666666666666,
             "#ed7953"
            ],
            [
             0.7777777777777778,
             "#fb9f3a"
            ],
            [
             0.8888888888888888,
             "#fdca26"
            ],
            [
             1,
             "#f0f921"
            ]
           ],
           "sequentialminus": [
            [
             0,
             "#0d0887"
            ],
            [
             0.1111111111111111,
             "#46039f"
            ],
            [
             0.2222222222222222,
             "#7201a8"
            ],
            [
             0.3333333333333333,
             "#9c179e"
            ],
            [
             0.4444444444444444,
             "#bd3786"
            ],
            [
             0.5555555555555556,
             "#d8576b"
            ],
            [
             0.6666666666666666,
             "#ed7953"
            ],
            [
             0.7777777777777778,
             "#fb9f3a"
            ],
            [
             0.8888888888888888,
             "#fdca26"
            ],
            [
             1,
             "#f0f921"
            ]
           ]
          },
          "colorway": [
           "#636efa",
           "#EF553B",
           "#00cc96",
           "#ab63fa",
           "#FFA15A",
           "#19d3f3",
           "#FF6692",
           "#B6E880",
           "#FF97FF",
           "#FECB52"
          ],
          "font": {
           "color": "#2a3f5f"
          },
          "geo": {
           "bgcolor": "white",
           "lakecolor": "white",
           "landcolor": "#E5ECF6",
           "showlakes": true,
           "showland": true,
           "subunitcolor": "white"
          },
          "hoverlabel": {
           "align": "left"
          },
          "hovermode": "closest",
          "mapbox": {
           "style": "light"
          },
          "paper_bgcolor": "white",
          "plot_bgcolor": "#E5ECF6",
          "polar": {
           "angularaxis": {
            "gridcolor": "white",
            "linecolor": "white",
            "ticks": ""
           },
           "bgcolor": "#E5ECF6",
           "radialaxis": {
            "gridcolor": "white",
            "linecolor": "white",
            "ticks": ""
           }
          },
          "scene": {
           "xaxis": {
            "backgroundcolor": "#E5ECF6",
            "gridcolor": "white",
            "gridwidth": 2,
            "linecolor": "white",
            "showbackground": true,
            "ticks": "",
            "zerolinecolor": "white"
           },
           "yaxis": {
            "backgroundcolor": "#E5ECF6",
            "gridcolor": "white",
            "gridwidth": 2,
            "linecolor": "white",
            "showbackground": true,
            "ticks": "",
            "zerolinecolor": "white"
           },
           "zaxis": {
            "backgroundcolor": "#E5ECF6",
            "gridcolor": "white",
            "gridwidth": 2,
            "linecolor": "white",
            "showbackground": true,
            "ticks": "",
            "zerolinecolor": "white"
           }
          },
          "shapedefaults": {
           "line": {
            "color": "#2a3f5f"
           }
          },
          "ternary": {
           "aaxis": {
            "gridcolor": "white",
            "linecolor": "white",
            "ticks": ""
           },
           "baxis": {
            "gridcolor": "white",
            "linecolor": "white",
            "ticks": ""
           },
           "bgcolor": "#E5ECF6",
           "caxis": {
            "gridcolor": "white",
            "linecolor": "white",
            "ticks": ""
           }
          },
          "title": {
           "x": 0.05
          },
          "xaxis": {
           "automargin": true,
           "gridcolor": "white",
           "linecolor": "white",
           "ticks": "",
           "title": {
            "standoff": 15
           },
           "zerolinecolor": "white",
           "zerolinewidth": 2
          },
          "yaxis": {
           "automargin": true,
           "gridcolor": "white",
           "linecolor": "white",
           "ticks": "",
           "title": {
            "standoff": 15
           },
           "zerolinecolor": "white",
           "zerolinewidth": 2
          }
         }
        },
        "width": 400
       }
      }
     },
     "metadata": {},
     "output_type": "display_data"
    }
   ],
   "source": [
    "import plotly.express as px\n",
    "# Preprocess data for polar plot\n",
    "color_palette = px.colors.sequential.Magma_r  # Original palette\n",
    "target_length = len(pretraining_shift)\n",
    "color_palette = generate_palette(color_palette, target_length)\n",
    "\n",
    "categories = df.columns[-8:]  # Exclude the first column (Model.Metric)\n",
    "values = df.iloc[:, -8:].values  # Exclude the first column\n",
    "\n",
    "categories = [category.replace(\"Classification\", \"Class\").replace(\"Zero Shot\", \"ZS\").replace(\"Image\", \"Img\").replace(\"Regression\", \"Reg\").replace(\"Few Shot\", \"FS\").replace(\"Segmentation\", \"Seg\") for category in categories]  # Shorten the category names\n",
    "# dataframe that includes only Model.Metrics matching entries in pretraining_shift\n",
    "new_df = df[df['Model.Metric'].isin(pretraining_shift)]\n",
    "columns = new_df.columns\n",
    "# gaussian normalization\n",
    "# for col in columns[1:]:\n",
    "#     new_df[col] = (new_df[col] - new_df[col].mean()) / new_df[col].std()\n",
    "values = new_df.iloc[:, -8:].values  # Exclude the first column\n",
    "new_df = new_df.reset_index(drop=True)\n",
    "# Create polar plot for each model\n",
    "fig = go.Figure()\n",
    "for i, model in enumerate(pretraining_shift):\n",
    "    id = new_df[new_df['Model.Metric'] == model].index[0]\n",
    "    color_index = i % len(color_palette)  # Ensure the index is within the range of the color palette\n",
    "    fig.add_trace(go.Scatterpolar(\n",
    "        r=values[i],\n",
    "        theta=categories,\n",
    "        name=model,\n",
    "        mode='lines',\n",
    "        line=dict(color=color_palette[color_index])  \n",
    "        \n",
    "    ))\n",
    "    fig.add_trace(go.Scatterpolar(\n",
    "        r=[values[i][0], values[i][-1]],\n",
    "        theta=[categories[0], categories[-1]],\n",
    "        name=model,\n",
    "        mode='lines',\n",
    "        showlegend=False,\n",
    "        line=dict(color=color_palette[color_index]) \n",
    "        \n",
    "    ))\n",
    "    \n",
    "    \n",
    "\n",
    "# Update layout\n",
    "fig.update_layout(\n",
    "    height=400,\n",
    "    width=400,\n",
    "    autosize=True,\n",
    "    margin=dict(\n",
    "            l=50,\n",
    "            r=50,\n",
    "            b=50,\n",
    "            t=100,\n",
    "            pad=4\n",
    "        ),\n",
    "    font=dict(\n",
    "        size=8\n",
    "    ),\n",
    ")\n",
    "\n",
    "# make legend smaller and move it to the top center\n",
    "fig.update_layout(\n",
    "    legend=dict(\n",
    "        orientation=\"h\",\n",
    "        yanchor=\"top\",\n",
    "        y=1.4,\n",
    "        xanchor=\"center\",\n",
    "        x=0.5\n",
    "    )\n",
    ")\n",
    "\n",
    "fig.show()\n",
    "fig.write_image(\"pretraining_polar_plot.pdf\")\n",
    "fig.write_image(\"pretraining_polar_plot.png\")"
   ]
  },
  {
   "cell_type": "code",
   "execution_count": 1551,
   "metadata": {},
   "outputs": [
    {
     "data": {
      "application/vnd.plotly.v1+json": {
       "config": {
        "plotlyServerURL": "https://plot.ly"
       },
       "data": [
        {
         "line": {
          "color": "#fcfdbf"
         },
         "mode": "lines",
         "name": "BART",
         "r": [
          18.10490476190476,
          50.457142857142856,
          13.970083333333333,
          60.258,
          57.50000000000001,
          27.864285714285717,
          3.3203333333333327,
          35.871428571428574
         ],
         "theta": [
          "Img Class",
          "FS Img Class",
          "Img Seg",
          "Img Relational Reasoning",
          "Medical Class/Seg",
          "Img to Text ZS Learning",
          "Video Class",
          "Video Reg"
         ],
         "type": "scatterpolar"
        },
        {
         "line": {
          "color": "#fcfdbf"
         },
         "mode": "lines",
         "name": "BART",
         "r": [
          18.10490476190476,
          35.871428571428574
         ],
         "showlegend": false,
         "theta": [
          "Img Class",
          "Video Reg"
         ],
         "type": "scatterpolar"
        },
        {
         "line": {
          "color": "#feca8d"
         },
         "mode": "lines",
         "name": "BERT",
         "r": [
          22.77234523809524,
          52.285714285714285,
          14.047916666666666,
          61.41933333333333,
          54.75,
          29.02857142857143,
          3.4246666666666665,
          34.62857142857143
         ],
         "theta": [
          "Img Class",
          "FS Img Class",
          "Img Seg",
          "Img Relational Reasoning",
          "Medical Class/Seg",
          "Img to Text ZS Learning",
          "Video Class",
          "Video Reg"
         ],
         "type": "scatterpolar"
        },
        {
         "line": {
          "color": "#feca8d"
         },
         "mode": "lines",
         "name": "BERT",
         "r": [
          22.77234523809524,
          34.62857142857143
         ],
         "showlegend": false,
         "theta": [
          "Img Class",
          "Video Reg"
         ],
         "type": "scatterpolar"
        },
        {
         "line": {
          "color": "#fd9668"
         },
         "mode": "lines",
         "name": "Whisper",
         "r": [
          11.481773809523808,
          42.44285714285714,
          13.727249999999998,
          57.10933333333333,
          55.400000000000006,
          11.442857142857145,
          3.359166666666667,
          34.400000000000006
         ],
         "theta": [
          "Img Class",
          "FS Img Class",
          "Img Seg",
          "Img Relational Reasoning",
          "Medical Class/Seg",
          "Img to Text ZS Learning",
          "Video Class",
          "Video Reg"
         ],
         "type": "scatterpolar"
        },
        {
         "line": {
          "color": "#fd9668"
         },
         "mode": "lines",
         "name": "Whisper",
         "r": [
          11.481773809523808,
          34.400000000000006
         ],
         "showlegend": false,
         "theta": [
          "Img Class",
          "Video Reg"
         ],
         "type": "scatterpolar"
        },
        {
         "line": {
          "color": "#f1605d"
         },
         "mode": "lines",
         "name": "MPNET",
         "r": [
          21.060190476190478,
          45.642857142857146,
          13.52075,
          62.35433333333333,
          59.499999999999986,
          29.292857142857144,
          3.4365,
          49.15714285714286
         ],
         "theta": [
          "Img Class",
          "FS Img Class",
          "Img Seg",
          "Img Relational Reasoning",
          "Medical Class/Seg",
          "Img to Text ZS Learning",
          "Video Class",
          "Video Reg"
         ],
         "type": "scatterpolar"
        },
        {
         "line": {
          "color": "#f1605d"
         },
         "mode": "lines",
         "name": "MPNET",
         "r": [
          21.060190476190478,
          49.15714285714286
         ],
         "showlegend": false,
         "theta": [
          "Img Class",
          "Video Reg"
         ],
         "type": "scatterpolar"
        }
       ],
       "layout": {
        "autosize": true,
        "font": {
         "size": 8
        },
        "height": 400,
        "legend": {
         "orientation": "h",
         "x": 0.5,
         "xanchor": "center",
         "y": 1.4,
         "yanchor": "top"
        },
        "margin": {
         "b": 50,
         "l": 50,
         "pad": 4,
         "r": 50,
         "t": 100
        },
        "template": {
         "data": {
          "bar": [
           {
            "error_x": {
             "color": "#2a3f5f"
            },
            "error_y": {
             "color": "#2a3f5f"
            },
            "marker": {
             "line": {
              "color": "#E5ECF6",
              "width": 0.5
             },
             "pattern": {
              "fillmode": "overlay",
              "size": 10,
              "solidity": 0.2
             }
            },
            "type": "bar"
           }
          ],
          "barpolar": [
           {
            "marker": {
             "line": {
              "color": "#E5ECF6",
              "width": 0.5
             },
             "pattern": {
              "fillmode": "overlay",
              "size": 10,
              "solidity": 0.2
             }
            },
            "type": "barpolar"
           }
          ],
          "carpet": [
           {
            "aaxis": {
             "endlinecolor": "#2a3f5f",
             "gridcolor": "white",
             "linecolor": "white",
             "minorgridcolor": "white",
             "startlinecolor": "#2a3f5f"
            },
            "baxis": {
             "endlinecolor": "#2a3f5f",
             "gridcolor": "white",
             "linecolor": "white",
             "minorgridcolor": "white",
             "startlinecolor": "#2a3f5f"
            },
            "type": "carpet"
           }
          ],
          "choropleth": [
           {
            "colorbar": {
             "outlinewidth": 0,
             "ticks": ""
            },
            "type": "choropleth"
           }
          ],
          "contour": [
           {
            "colorbar": {
             "outlinewidth": 0,
             "ticks": ""
            },
            "colorscale": [
             [
              0,
              "#0d0887"
             ],
             [
              0.1111111111111111,
              "#46039f"
             ],
             [
              0.2222222222222222,
              "#7201a8"
             ],
             [
              0.3333333333333333,
              "#9c179e"
             ],
             [
              0.4444444444444444,
              "#bd3786"
             ],
             [
              0.5555555555555556,
              "#d8576b"
             ],
             [
              0.6666666666666666,
              "#ed7953"
             ],
             [
              0.7777777777777778,
              "#fb9f3a"
             ],
             [
              0.8888888888888888,
              "#fdca26"
             ],
             [
              1,
              "#f0f921"
             ]
            ],
            "type": "contour"
           }
          ],
          "contourcarpet": [
           {
            "colorbar": {
             "outlinewidth": 0,
             "ticks": ""
            },
            "type": "contourcarpet"
           }
          ],
          "heatmap": [
           {
            "colorbar": {
             "outlinewidth": 0,
             "ticks": ""
            },
            "colorscale": [
             [
              0,
              "#0d0887"
             ],
             [
              0.1111111111111111,
              "#46039f"
             ],
             [
              0.2222222222222222,
              "#7201a8"
             ],
             [
              0.3333333333333333,
              "#9c179e"
             ],
             [
              0.4444444444444444,
              "#bd3786"
             ],
             [
              0.5555555555555556,
              "#d8576b"
             ],
             [
              0.6666666666666666,
              "#ed7953"
             ],
             [
              0.7777777777777778,
              "#fb9f3a"
             ],
             [
              0.8888888888888888,
              "#fdca26"
             ],
             [
              1,
              "#f0f921"
             ]
            ],
            "type": "heatmap"
           }
          ],
          "heatmapgl": [
           {
            "colorbar": {
             "outlinewidth": 0,
             "ticks": ""
            },
            "colorscale": [
             [
              0,
              "#0d0887"
             ],
             [
              0.1111111111111111,
              "#46039f"
             ],
             [
              0.2222222222222222,
              "#7201a8"
             ],
             [
              0.3333333333333333,
              "#9c179e"
             ],
             [
              0.4444444444444444,
              "#bd3786"
             ],
             [
              0.5555555555555556,
              "#d8576b"
             ],
             [
              0.6666666666666666,
              "#ed7953"
             ],
             [
              0.7777777777777778,
              "#fb9f3a"
             ],
             [
              0.8888888888888888,
              "#fdca26"
             ],
             [
              1,
              "#f0f921"
             ]
            ],
            "type": "heatmapgl"
           }
          ],
          "histogram": [
           {
            "marker": {
             "pattern": {
              "fillmode": "overlay",
              "size": 10,
              "solidity": 0.2
             }
            },
            "type": "histogram"
           }
          ],
          "histogram2d": [
           {
            "colorbar": {
             "outlinewidth": 0,
             "ticks": ""
            },
            "colorscale": [
             [
              0,
              "#0d0887"
             ],
             [
              0.1111111111111111,
              "#46039f"
             ],
             [
              0.2222222222222222,
              "#7201a8"
             ],
             [
              0.3333333333333333,
              "#9c179e"
             ],
             [
              0.4444444444444444,
              "#bd3786"
             ],
             [
              0.5555555555555556,
              "#d8576b"
             ],
             [
              0.6666666666666666,
              "#ed7953"
             ],
             [
              0.7777777777777778,
              "#fb9f3a"
             ],
             [
              0.8888888888888888,
              "#fdca26"
             ],
             [
              1,
              "#f0f921"
             ]
            ],
            "type": "histogram2d"
           }
          ],
          "histogram2dcontour": [
           {
            "colorbar": {
             "outlinewidth": 0,
             "ticks": ""
            },
            "colorscale": [
             [
              0,
              "#0d0887"
             ],
             [
              0.1111111111111111,
              "#46039f"
             ],
             [
              0.2222222222222222,
              "#7201a8"
             ],
             [
              0.3333333333333333,
              "#9c179e"
             ],
             [
              0.4444444444444444,
              "#bd3786"
             ],
             [
              0.5555555555555556,
              "#d8576b"
             ],
             [
              0.6666666666666666,
              "#ed7953"
             ],
             [
              0.7777777777777778,
              "#fb9f3a"
             ],
             [
              0.8888888888888888,
              "#fdca26"
             ],
             [
              1,
              "#f0f921"
             ]
            ],
            "type": "histogram2dcontour"
           }
          ],
          "mesh3d": [
           {
            "colorbar": {
             "outlinewidth": 0,
             "ticks": ""
            },
            "type": "mesh3d"
           }
          ],
          "parcoords": [
           {
            "line": {
             "colorbar": {
              "outlinewidth": 0,
              "ticks": ""
             }
            },
            "type": "parcoords"
           }
          ],
          "pie": [
           {
            "automargin": true,
            "type": "pie"
           }
          ],
          "scatter": [
           {
            "fillpattern": {
             "fillmode": "overlay",
             "size": 10,
             "solidity": 0.2
            },
            "type": "scatter"
           }
          ],
          "scatter3d": [
           {
            "line": {
             "colorbar": {
              "outlinewidth": 0,
              "ticks": ""
             }
            },
            "marker": {
             "colorbar": {
              "outlinewidth": 0,
              "ticks": ""
             }
            },
            "type": "scatter3d"
           }
          ],
          "scattercarpet": [
           {
            "marker": {
             "colorbar": {
              "outlinewidth": 0,
              "ticks": ""
             }
            },
            "type": "scattercarpet"
           }
          ],
          "scattergeo": [
           {
            "marker": {
             "colorbar": {
              "outlinewidth": 0,
              "ticks": ""
             }
            },
            "type": "scattergeo"
           }
          ],
          "scattergl": [
           {
            "marker": {
             "colorbar": {
              "outlinewidth": 0,
              "ticks": ""
             }
            },
            "type": "scattergl"
           }
          ],
          "scattermapbox": [
           {
            "marker": {
             "colorbar": {
              "outlinewidth": 0,
              "ticks": ""
             }
            },
            "type": "scattermapbox"
           }
          ],
          "scatterpolar": [
           {
            "marker": {
             "colorbar": {
              "outlinewidth": 0,
              "ticks": ""
             }
            },
            "type": "scatterpolar"
           }
          ],
          "scatterpolargl": [
           {
            "marker": {
             "colorbar": {
              "outlinewidth": 0,
              "ticks": ""
             }
            },
            "type": "scatterpolargl"
           }
          ],
          "scatterternary": [
           {
            "marker": {
             "colorbar": {
              "outlinewidth": 0,
              "ticks": ""
             }
            },
            "type": "scatterternary"
           }
          ],
          "surface": [
           {
            "colorbar": {
             "outlinewidth": 0,
             "ticks": ""
            },
            "colorscale": [
             [
              0,
              "#0d0887"
             ],
             [
              0.1111111111111111,
              "#46039f"
             ],
             [
              0.2222222222222222,
              "#7201a8"
             ],
             [
              0.3333333333333333,
              "#9c179e"
             ],
             [
              0.4444444444444444,
              "#bd3786"
             ],
             [
              0.5555555555555556,
              "#d8576b"
             ],
             [
              0.6666666666666666,
              "#ed7953"
             ],
             [
              0.7777777777777778,
              "#fb9f3a"
             ],
             [
              0.8888888888888888,
              "#fdca26"
             ],
             [
              1,
              "#f0f921"
             ]
            ],
            "type": "surface"
           }
          ],
          "table": [
           {
            "cells": {
             "fill": {
              "color": "#EBF0F8"
             },
             "line": {
              "color": "white"
             }
            },
            "header": {
             "fill": {
              "color": "#C8D4E3"
             },
             "line": {
              "color": "white"
             }
            },
            "type": "table"
           }
          ]
         },
         "layout": {
          "annotationdefaults": {
           "arrowcolor": "#2a3f5f",
           "arrowhead": 0,
           "arrowwidth": 1
          },
          "autotypenumbers": "strict",
          "coloraxis": {
           "colorbar": {
            "outlinewidth": 0,
            "ticks": ""
           }
          },
          "colorscale": {
           "diverging": [
            [
             0,
             "#8e0152"
            ],
            [
             0.1,
             "#c51b7d"
            ],
            [
             0.2,
             "#de77ae"
            ],
            [
             0.3,
             "#f1b6da"
            ],
            [
             0.4,
             "#fde0ef"
            ],
            [
             0.5,
             "#f7f7f7"
            ],
            [
             0.6,
             "#e6f5d0"
            ],
            [
             0.7,
             "#b8e186"
            ],
            [
             0.8,
             "#7fbc41"
            ],
            [
             0.9,
             "#4d9221"
            ],
            [
             1,
             "#276419"
            ]
           ],
           "sequential": [
            [
             0,
             "#0d0887"
            ],
            [
             0.1111111111111111,
             "#46039f"
            ],
            [
             0.2222222222222222,
             "#7201a8"
            ],
            [
             0.3333333333333333,
             "#9c179e"
            ],
            [
             0.4444444444444444,
             "#bd3786"
            ],
            [
             0.5555555555555556,
             "#d8576b"
            ],
            [
             0.6666666666666666,
             "#ed7953"
            ],
            [
             0.7777777777777778,
             "#fb9f3a"
            ],
            [
             0.8888888888888888,
             "#fdca26"
            ],
            [
             1,
             "#f0f921"
            ]
           ],
           "sequentialminus": [
            [
             0,
             "#0d0887"
            ],
            [
             0.1111111111111111,
             "#46039f"
            ],
            [
             0.2222222222222222,
             "#7201a8"
            ],
            [
             0.3333333333333333,
             "#9c179e"
            ],
            [
             0.4444444444444444,
             "#bd3786"
            ],
            [
             0.5555555555555556,
             "#d8576b"
            ],
            [
             0.6666666666666666,
             "#ed7953"
            ],
            [
             0.7777777777777778,
             "#fb9f3a"
            ],
            [
             0.8888888888888888,
             "#fdca26"
            ],
            [
             1,
             "#f0f921"
            ]
           ]
          },
          "colorway": [
           "#636efa",
           "#EF553B",
           "#00cc96",
           "#ab63fa",
           "#FFA15A",
           "#19d3f3",
           "#FF6692",
           "#B6E880",
           "#FF97FF",
           "#FECB52"
          ],
          "font": {
           "color": "#2a3f5f"
          },
          "geo": {
           "bgcolor": "white",
           "lakecolor": "white",
           "landcolor": "#E5ECF6",
           "showlakes": true,
           "showland": true,
           "subunitcolor": "white"
          },
          "hoverlabel": {
           "align": "left"
          },
          "hovermode": "closest",
          "mapbox": {
           "style": "light"
          },
          "paper_bgcolor": "white",
          "plot_bgcolor": "#E5ECF6",
          "polar": {
           "angularaxis": {
            "gridcolor": "white",
            "linecolor": "white",
            "ticks": ""
           },
           "bgcolor": "#E5ECF6",
           "radialaxis": {
            "gridcolor": "white",
            "linecolor": "white",
            "ticks": ""
           }
          },
          "scene": {
           "xaxis": {
            "backgroundcolor": "#E5ECF6",
            "gridcolor": "white",
            "gridwidth": 2,
            "linecolor": "white",
            "showbackground": true,
            "ticks": "",
            "zerolinecolor": "white"
           },
           "yaxis": {
            "backgroundcolor": "#E5ECF6",
            "gridcolor": "white",
            "gridwidth": 2,
            "linecolor": "white",
            "showbackground": true,
            "ticks": "",
            "zerolinecolor": "white"
           },
           "zaxis": {
            "backgroundcolor": "#E5ECF6",
            "gridcolor": "white",
            "gridwidth": 2,
            "linecolor": "white",
            "showbackground": true,
            "ticks": "",
            "zerolinecolor": "white"
           }
          },
          "shapedefaults": {
           "line": {
            "color": "#2a3f5f"
           }
          },
          "ternary": {
           "aaxis": {
            "gridcolor": "white",
            "linecolor": "white",
            "ticks": ""
           },
           "baxis": {
            "gridcolor": "white",
            "linecolor": "white",
            "ticks": ""
           },
           "bgcolor": "#E5ECF6",
           "caxis": {
            "gridcolor": "white",
            "linecolor": "white",
            "ticks": ""
           }
          },
          "title": {
           "x": 0.05
          },
          "xaxis": {
           "automargin": true,
           "gridcolor": "white",
           "linecolor": "white",
           "ticks": "",
           "title": {
            "standoff": 15
           },
           "zerolinecolor": "white",
           "zerolinewidth": 2
          },
          "yaxis": {
           "automargin": true,
           "gridcolor": "white",
           "linecolor": "white",
           "ticks": "",
           "title": {
            "standoff": 15
           },
           "zerolinecolor": "white",
           "zerolinewidth": 2
          }
         }
        },
        "width": 400
       }
      }
     },
     "metadata": {},
     "output_type": "display_data"
    }
   ],
   "source": [
    "import plotly.express as px\n",
    "# Preprocess data for polar plot\n",
    "color_palette = px.colors.sequential.Magma_r  # Original palette\n",
    "target_length = len(modality_shift)\n",
    "color_palette = generate_palette(color_palette, target_length)\n",
    "\n",
    "categories = df.columns[-8:]  # Exclude the first column (Model.Metric)\n",
    "values = df.iloc[:, -8:].values  # Exclude the first column\n",
    "\n",
    "categories = [category.replace(\"Classification\", \"Class\").replace(\"Zero Shot\", \"ZS\").replace(\"Image\", \"Img\").replace(\"Regression\", \"Reg\").replace(\"Few Shot\", \"FS\").replace(\"Segmentation\", \"Seg\") for category in categories]  # Shorten the category names\n",
    "# dataframe that includes only Model.Metrics matching entries in pretraining_shift\n",
    "new_df = df[df['Model.Metric'].isin(modality_shift)]\n",
    "columns = new_df.columns\n",
    "# gaussian normalization\n",
    "# for col in columns[1:]:\n",
    "#     new_df[col] = (new_df[col] - new_df[col].mean()) / new_df[col].std()\n",
    "values = new_df.iloc[:, -8:].values  # Exclude the first column\n",
    "new_df = new_df.reset_index(drop=True)\n",
    "# Create polar plot for each model\n",
    "fig = go.Figure()\n",
    "for i, model in enumerate(modality_shift):\n",
    "    id = new_df[new_df['Model.Metric'] == model].index[0]\n",
    "    color_index = i % len(color_palette)  # Ensure the index is within the range of the color palette\n",
    "    fig.add_trace(go.Scatterpolar(\n",
    "        r=values[i],\n",
    "        theta=categories,\n",
    "        name=model,\n",
    "        mode='lines',\n",
    "        line=dict(color=color_palette[color_index])  \n",
    "        \n",
    "    ))\n",
    "    fig.add_trace(go.Scatterpolar(\n",
    "        r=[values[i][0], values[i][-1]],\n",
    "        theta=[categories[0], categories[-1]],\n",
    "        name=model,\n",
    "        mode='lines',\n",
    "        showlegend=False,\n",
    "        line=dict(color=color_palette[color_index]) \n",
    "        \n",
    "    ))\n",
    "    \n",
    "    \n",
    "\n",
    "# Update layout\n",
    "fig.update_layout(\n",
    "    height=400,\n",
    "    width=400,\n",
    "    autosize=True,\n",
    "    margin=dict(\n",
    "            l=50,\n",
    "            r=50,\n",
    "            b=50,\n",
    "            t=100,\n",
    "            pad=4\n",
    "        ),\n",
    "    font=dict(\n",
    "        size=8\n",
    "    ),\n",
    ")\n",
    "\n",
    "# make legend smaller and move it to the top center\n",
    "fig.update_layout(\n",
    "    legend=dict(\n",
    "        orientation=\"h\",\n",
    "        yanchor=\"top\",\n",
    "        y=1.4,\n",
    "        xanchor=\"center\",\n",
    "        x=0.5\n",
    "    )\n",
    ")\n",
    "\n",
    "fig.show()\n",
    "fig.write_image(\"modality_polar_plot.pdf\")\n",
    "fig.write_image(\"modality_polar_plot.png\")"
   ]
  },
  {
   "cell_type": "code",
   "execution_count": 1552,
   "metadata": {},
   "outputs": [
    {
     "data": {
      "text/html": [
       "<pre style=\"white-space:pre;overflow-x:auto;line-height:normal;font-family:Menlo,'DejaVu Sans Mono',consolas,'Courier New',monospace\"><span style=\"font-weight: bold\">[</span>\n",
       "    <span style=\"color: #008000; text-decoration-color: #008000\">'Model.Metric'</span>,\n",
       "    <span style=\"color: #008000; text-decoration-color: #008000\">'cifar100.loss'</span>,\n",
       "    <span style=\"color: #008000; text-decoration-color: #008000\">'cifar100.acc@1'</span>,\n",
       "    <span style=\"color: #008000; text-decoration-color: #008000\">'cifar100.acc@5'</span>,\n",
       "    <span style=\"color: #008000; text-decoration-color: #008000\">'food101.loss'</span>,\n",
       "    <span style=\"color: #008000; text-decoration-color: #008000\">'food101.acc@5'</span>,\n",
       "    <span style=\"color: #008000; text-decoration-color: #008000\">'food101.acc@1'</span>,\n",
       "    <span style=\"color: #008000; text-decoration-color: #008000\">'imagenet1k.loss'</span>,\n",
       "    <span style=\"color: #008000; text-decoration-color: #008000\">'imagenet1k.acc@5'</span>,\n",
       "    <span style=\"color: #008000; text-decoration-color: #008000\">'imagenet1k.acc@1'</span>,\n",
       "    <span style=\"color: #008000; text-decoration-color: #008000\">'places365.loss'</span>,\n",
       "    <span style=\"color: #008000; text-decoration-color: #008000\">'places365.acc@5'</span>,\n",
       "    <span style=\"color: #008000; text-decoration-color: #008000\">'places365.acc@1'</span>,\n",
       "    <span style=\"color: #008000; text-decoration-color: #008000\">'fungi.acc@1'</span>,\n",
       "    <span style=\"color: #008000; text-decoration-color: #008000\">'mini.acc@1'</span>,\n",
       "    <span style=\"color: #008000; text-decoration-color: #008000\">'omniglot.acc@1'</span>,\n",
       "    <span style=\"color: #008000; text-decoration-color: #008000\">'vgg.acc@1'</span>,\n",
       "    <span style=\"color: #008000; text-decoration-color: #008000\">'aircraft.acc@1'</span>,\n",
       "    <span style=\"color: #008000; text-decoration-color: #008000\">'dtextures.acc@1'</span>,\n",
       "    <span style=\"color: #008000; text-decoration-color: #008000\">'cubirds.acc@1'</span>,\n",
       "    <span style=\"color: #008000; text-decoration-color: #008000\">'ade20k.dice-loss'</span>,\n",
       "    <span style=\"color: #008000; text-decoration-color: #008000\">'ade20k.mIoU'</span>,\n",
       "    <span style=\"color: #008000; text-decoration-color: #008000\">'coco-10k.mIoU'</span>,\n",
       "    <span style=\"color: #008000; text-decoration-color: #008000\">'coco-10k.dice-loss'</span>,\n",
       "    <span style=\"color: #008000; text-decoration-color: #008000\">'coco-164k.mIoU'</span>,\n",
       "    <span style=\"color: #008000; text-decoration-color: #008000\">'coco-164k.dice-loss'</span>,\n",
       "    <span style=\"color: #008000; text-decoration-color: #008000\">'cityscapes.mIoU'</span>,\n",
       "    <span style=\"color: #008000; text-decoration-color: #008000\">'cityscapes.dice-loss'</span>,\n",
       "    <span style=\"color: #008000; text-decoration-color: #008000\">'nyu.mIoU'</span>,\n",
       "    <span style=\"color: #008000; text-decoration-color: #008000\">'nyu.dice-loss'</span>,\n",
       "    <span style=\"color: #008000; text-decoration-color: #008000\">'pascal.mIoU'</span>,\n",
       "    <span style=\"color: #008000; text-decoration-color: #008000\">'pascal.dice-loss'</span>,\n",
       "    <span style=\"color: #008000; text-decoration-color: #008000\">'clevr.acc@1'</span>,\n",
       "    <span style=\"color: #008000; text-decoration-color: #008000\">'clevr-math.acc@5'</span>,\n",
       "    <span style=\"color: #008000; text-decoration-color: #008000\">'clevr-math.acc@1'</span>,\n",
       "    <span style=\"color: #008000; text-decoration-color: #008000\">'ham10k.auc'</span>,\n",
       "    <span style=\"color: #008000; text-decoration-color: #008000\">'chexpert.auc'</span>,\n",
       "    <span style=\"color: #008000; text-decoration-color: #008000\">'diabetic.auc'</span>,\n",
       "    <span style=\"color: #008000; text-decoration-color: #008000\">'acdc.dice-loss'</span>,\n",
       "    <span style=\"color: #008000; text-decoration-color: #008000\">'flickr30k.text-to-image-acc@5'</span>,\n",
       "    <span style=\"color: #008000; text-decoration-color: #008000\">'flickr30k.text-to-image-acc@1'</span>,\n",
       "    <span style=\"color: #008000; text-decoration-color: #008000\">'flickr30k.image-to-text-acc@1'</span>,\n",
       "    <span style=\"color: #008000; text-decoration-color: #008000\">'flickr30k.image-to-text-acc@5'</span>,\n",
       "    <span style=\"color: #008000; text-decoration-color: #008000\">'newyorkercaptioncontest.text-to-image-acc@5'</span>,\n",
       "    <span style=\"color: #008000; text-decoration-color: #008000\">'newyorkercaptioncontest.text-to-image-acc@1'</span>,\n",
       "    <span style=\"color: #008000; text-decoration-color: #008000\">'newyorkercaptioncontest.image-to-text-acc@1'</span>,\n",
       "    <span style=\"color: #008000; text-decoration-color: #008000\">'newyorkercaptioncontest.image-to-text-acc@5'</span>,\n",
       "    <span style=\"color: #008000; text-decoration-color: #008000\">'pokemonblipcaptions.text-to-image-acc@5'</span>,\n",
       "    <span style=\"color: #008000; text-decoration-color: #008000\">'pokemonblipcaptions.text-to-image-acc@1'</span>,\n",
       "    <span style=\"color: #008000; text-decoration-color: #008000\">'pokemonblipcaptions.image-to-text-acc@1'</span>,\n",
       "    <span style=\"color: #008000; text-decoration-color: #008000\">'pokemonblipcaptions.image-to-text-acc@5'</span>,\n",
       "    <span style=\"color: #008000; text-decoration-color: #008000\">'winoground.image-to-text-acc@1'</span>,\n",
       "    <span style=\"color: #008000; text-decoration-color: #008000\">'winoground.text-to-image-acc@1'</span>,\n",
       "    <span style=\"color: #008000; text-decoration-color: #008000\">'kinetics.acc@5'</span>,\n",
       "    <span style=\"color: #008000; text-decoration-color: #008000\">'kinetics.acc@1'</span>,\n",
       "    <span style=\"color: #008000; text-decoration-color: #008000\">'hmdb51.acc@5'</span>,\n",
       "    <span style=\"color: #008000; text-decoration-color: #008000\">'hmdb51.acc@1'</span>,\n",
       "    <span style=\"color: #008000; text-decoration-color: #008000\">'ucf.acc@5'</span>,\n",
       "    <span style=\"color: #008000; text-decoration-color: #008000\">'ucf.acc@1'</span>,\n",
       "    <span style=\"color: #008000; text-decoration-color: #008000\">'iwildcam.mae'</span>,\n",
       "    <span style=\"color: #008000; text-decoration-color: #008000\">'Image Classification'</span>,\n",
       "    <span style=\"color: #008000; text-decoration-color: #008000\">'Few Shot Image Classification'</span>,\n",
       "    <span style=\"color: #008000; text-decoration-color: #008000\">'Image Segmentation'</span>,\n",
       "    <span style=\"color: #008000; text-decoration-color: #008000\">'Image Relational Reasoning'</span>,\n",
       "    <span style=\"color: #008000; text-decoration-color: #008000\">'Medical Classification/Segmentation'</span>,\n",
       "    <span style=\"color: #008000; text-decoration-color: #008000\">'Image to Text Zero Shot Learning'</span>,\n",
       "    <span style=\"color: #008000; text-decoration-color: #008000\">'Video Classification'</span>,\n",
       "    <span style=\"color: #008000; text-decoration-color: #008000\">'Video Regression'</span>\n",
       "<span style=\"font-weight: bold\">]</span>\n",
       "</pre>\n"
      ],
      "text/plain": [
       "\u001b[1m[\u001b[0m\n",
       "    \u001b[32m'Model.Metric'\u001b[0m,\n",
       "    \u001b[32m'cifar100.loss'\u001b[0m,\n",
       "    \u001b[32m'cifar100.acc@1'\u001b[0m,\n",
       "    \u001b[32m'cifar100.acc@5'\u001b[0m,\n",
       "    \u001b[32m'food101.loss'\u001b[0m,\n",
       "    \u001b[32m'food101.acc@5'\u001b[0m,\n",
       "    \u001b[32m'food101.acc@1'\u001b[0m,\n",
       "    \u001b[32m'imagenet1k.loss'\u001b[0m,\n",
       "    \u001b[32m'imagenet1k.acc@5'\u001b[0m,\n",
       "    \u001b[32m'imagenet1k.acc@1'\u001b[0m,\n",
       "    \u001b[32m'places365.loss'\u001b[0m,\n",
       "    \u001b[32m'places365.acc@5'\u001b[0m,\n",
       "    \u001b[32m'places365.acc@1'\u001b[0m,\n",
       "    \u001b[32m'fungi.acc@1'\u001b[0m,\n",
       "    \u001b[32m'mini.acc@1'\u001b[0m,\n",
       "    \u001b[32m'omniglot.acc@1'\u001b[0m,\n",
       "    \u001b[32m'vgg.acc@1'\u001b[0m,\n",
       "    \u001b[32m'aircraft.acc@1'\u001b[0m,\n",
       "    \u001b[32m'dtextures.acc@1'\u001b[0m,\n",
       "    \u001b[32m'cubirds.acc@1'\u001b[0m,\n",
       "    \u001b[32m'ade20k.dice-loss'\u001b[0m,\n",
       "    \u001b[32m'ade20k.mIoU'\u001b[0m,\n",
       "    \u001b[32m'coco-10k.mIoU'\u001b[0m,\n",
       "    \u001b[32m'coco-10k.dice-loss'\u001b[0m,\n",
       "    \u001b[32m'coco-164k.mIoU'\u001b[0m,\n",
       "    \u001b[32m'coco-164k.dice-loss'\u001b[0m,\n",
       "    \u001b[32m'cityscapes.mIoU'\u001b[0m,\n",
       "    \u001b[32m'cityscapes.dice-loss'\u001b[0m,\n",
       "    \u001b[32m'nyu.mIoU'\u001b[0m,\n",
       "    \u001b[32m'nyu.dice-loss'\u001b[0m,\n",
       "    \u001b[32m'pascal.mIoU'\u001b[0m,\n",
       "    \u001b[32m'pascal.dice-loss'\u001b[0m,\n",
       "    \u001b[32m'clevr.acc@1'\u001b[0m,\n",
       "    \u001b[32m'clevr-math.acc@5'\u001b[0m,\n",
       "    \u001b[32m'clevr-math.acc@1'\u001b[0m,\n",
       "    \u001b[32m'ham10k.auc'\u001b[0m,\n",
       "    \u001b[32m'chexpert.auc'\u001b[0m,\n",
       "    \u001b[32m'diabetic.auc'\u001b[0m,\n",
       "    \u001b[32m'acdc.dice-loss'\u001b[0m,\n",
       "    \u001b[32m'flickr30k.text-to-image-acc@5'\u001b[0m,\n",
       "    \u001b[32m'flickr30k.text-to-image-acc@1'\u001b[0m,\n",
       "    \u001b[32m'flickr30k.image-to-text-acc@1'\u001b[0m,\n",
       "    \u001b[32m'flickr30k.image-to-text-acc@5'\u001b[0m,\n",
       "    \u001b[32m'newyorkercaptioncontest.text-to-image-acc@5'\u001b[0m,\n",
       "    \u001b[32m'newyorkercaptioncontest.text-to-image-acc@1'\u001b[0m,\n",
       "    \u001b[32m'newyorkercaptioncontest.image-to-text-acc@1'\u001b[0m,\n",
       "    \u001b[32m'newyorkercaptioncontest.image-to-text-acc@5'\u001b[0m,\n",
       "    \u001b[32m'pokemonblipcaptions.text-to-image-acc@5'\u001b[0m,\n",
       "    \u001b[32m'pokemonblipcaptions.text-to-image-acc@1'\u001b[0m,\n",
       "    \u001b[32m'pokemonblipcaptions.image-to-text-acc@1'\u001b[0m,\n",
       "    \u001b[32m'pokemonblipcaptions.image-to-text-acc@5'\u001b[0m,\n",
       "    \u001b[32m'winoground.image-to-text-acc@1'\u001b[0m,\n",
       "    \u001b[32m'winoground.text-to-image-acc@1'\u001b[0m,\n",
       "    \u001b[32m'kinetics.acc@5'\u001b[0m,\n",
       "    \u001b[32m'kinetics.acc@1'\u001b[0m,\n",
       "    \u001b[32m'hmdb51.acc@5'\u001b[0m,\n",
       "    \u001b[32m'hmdb51.acc@1'\u001b[0m,\n",
       "    \u001b[32m'ucf.acc@5'\u001b[0m,\n",
       "    \u001b[32m'ucf.acc@1'\u001b[0m,\n",
       "    \u001b[32m'iwildcam.mae'\u001b[0m,\n",
       "    \u001b[32m'Image Classification'\u001b[0m,\n",
       "    \u001b[32m'Few Shot Image Classification'\u001b[0m,\n",
       "    \u001b[32m'Image Segmentation'\u001b[0m,\n",
       "    \u001b[32m'Image Relational Reasoning'\u001b[0m,\n",
       "    \u001b[32m'Medical Classification/Segmentation'\u001b[0m,\n",
       "    \u001b[32m'Image to Text Zero Shot Learning'\u001b[0m,\n",
       "    \u001b[32m'Video Classification'\u001b[0m,\n",
       "    \u001b[32m'Video Regression'\u001b[0m\n",
       "\u001b[1m]\u001b[0m\n"
      ]
     },
     "metadata": {},
     "output_type": "display_data"
    }
   ],
   "source": [
    "column_names = list(df.columns)\n",
    "\n",
    "print(column_names)"
   ]
  },
  {
   "cell_type": "code",
   "execution_count": 1553,
   "metadata": {},
   "outputs": [
    {
     "data": {
      "text/html": [
       "<pre style=\"white-space:pre;overflow-x:auto;line-height:normal;font-family:Menlo,'DejaVu Sans Mono',consolas,'Courier New',monospace\"><span style=\"font-weight: bold\">{</span>\n",
       "    <span style=\"color: #008000; text-decoration-color: #008000\">'Image Classification'</span>: <span style=\"font-weight: bold\">[</span>\n",
       "        <span style=\"color: #008000; text-decoration-color: #008000\">'cifar100.loss'</span>,\n",
       "        <span style=\"color: #008000; text-decoration-color: #008000\">'cifar100.acc@1'</span>,\n",
       "        <span style=\"color: #008000; text-decoration-color: #008000\">'cifar100.acc@5'</span>,\n",
       "        <span style=\"color: #008000; text-decoration-color: #008000\">'food101.loss'</span>,\n",
       "        <span style=\"color: #008000; text-decoration-color: #008000\">'food101.acc@5'</span>,\n",
       "        <span style=\"color: #008000; text-decoration-color: #008000\">'food101.acc@1'</span>,\n",
       "        <span style=\"color: #008000; text-decoration-color: #008000\">'imagenet1k.loss'</span>,\n",
       "        <span style=\"color: #008000; text-decoration-color: #008000\">'imagenet1k.acc@5'</span>,\n",
       "        <span style=\"color: #008000; text-decoration-color: #008000\">'imagenet1k.acc@1'</span>,\n",
       "        <span style=\"color: #008000; text-decoration-color: #008000\">'places365.loss'</span>,\n",
       "        <span style=\"color: #008000; text-decoration-color: #008000\">'places365.acc@5'</span>,\n",
       "        <span style=\"color: #008000; text-decoration-color: #008000\">'places365.acc@1'</span>\n",
       "    <span style=\"font-weight: bold\">]</span>,\n",
       "    <span style=\"color: #008000; text-decoration-color: #008000\">'Few Shot Image Classification'</span>: <span style=\"font-weight: bold\">[</span>\n",
       "        <span style=\"color: #008000; text-decoration-color: #008000\">'fungi.acc@1'</span>,\n",
       "        <span style=\"color: #008000; text-decoration-color: #008000\">'mini.acc@1'</span>,\n",
       "        <span style=\"color: #008000; text-decoration-color: #008000\">'omniglot.acc@1'</span>,\n",
       "        <span style=\"color: #008000; text-decoration-color: #008000\">'vgg.acc@1'</span>,\n",
       "        <span style=\"color: #008000; text-decoration-color: #008000\">'aircraft.acc@1'</span>,\n",
       "        <span style=\"color: #008000; text-decoration-color: #008000\">'dtextures.acc@1'</span>,\n",
       "        <span style=\"color: #008000; text-decoration-color: #008000\">'cubirds.acc@1'</span>\n",
       "    <span style=\"font-weight: bold\">]</span>,\n",
       "    <span style=\"color: #008000; text-decoration-color: #008000\">'Image Segmentation'</span>: <span style=\"font-weight: bold\">[</span>\n",
       "        <span style=\"color: #008000; text-decoration-color: #008000\">'ade20k.dice-loss'</span>,\n",
       "        <span style=\"color: #008000; text-decoration-color: #008000\">'ade20k.mIoU'</span>,\n",
       "        <span style=\"color: #008000; text-decoration-color: #008000\">'coco-10k.mIoU'</span>,\n",
       "        <span style=\"color: #008000; text-decoration-color: #008000\">'coco-10k.dice-loss'</span>,\n",
       "        <span style=\"color: #008000; text-decoration-color: #008000\">'coco-164k.mIoU'</span>,\n",
       "        <span style=\"color: #008000; text-decoration-color: #008000\">'coco-164k.dice-loss'</span>,\n",
       "        <span style=\"color: #008000; text-decoration-color: #008000\">'cityscapes.mIoU'</span>,\n",
       "        <span style=\"color: #008000; text-decoration-color: #008000\">'cityscapes.dice-loss'</span>,\n",
       "        <span style=\"color: #008000; text-decoration-color: #008000\">'nyu.mIoU'</span>,\n",
       "        <span style=\"color: #008000; text-decoration-color: #008000\">'nyu.dice-loss'</span>,\n",
       "        <span style=\"color: #008000; text-decoration-color: #008000\">'pascal.mIoU'</span>,\n",
       "        <span style=\"color: #008000; text-decoration-color: #008000\">'pascal.dice-loss'</span>\n",
       "    <span style=\"font-weight: bold\">]</span>,\n",
       "    <span style=\"color: #008000; text-decoration-color: #008000\">'Image Relational Reasoning'</span>: <span style=\"font-weight: bold\">[</span><span style=\"color: #008000; text-decoration-color: #008000\">'clevr.acc@1'</span>, <span style=\"color: #008000; text-decoration-color: #008000\">'clevr-math.acc@5'</span>, <span style=\"color: #008000; text-decoration-color: #008000\">'clevr-math.acc@1'</span><span style=\"font-weight: bold\">]</span>,\n",
       "    <span style=\"color: #008000; text-decoration-color: #008000\">'Medical Classification/Segmentation'</span>: <span style=\"font-weight: bold\">[</span><span style=\"color: #008000; text-decoration-color: #008000\">'ham10k.auc'</span>, <span style=\"color: #008000; text-decoration-color: #008000\">'chexpert.auc'</span>, <span style=\"color: #008000; text-decoration-color: #008000\">'diabetic.auc'</span>, <span style=\"color: #008000; text-decoration-color: #008000\">'acdc.dice-loss'</span><span style=\"font-weight: bold\">]</span>,\n",
       "    <span style=\"color: #008000; text-decoration-color: #008000\">'Image to Text Zero Shot Learning'</span>: <span style=\"font-weight: bold\">[</span>\n",
       "        <span style=\"color: #008000; text-decoration-color: #008000\">'flickr30k.text-to-image-acc@5'</span>,\n",
       "        <span style=\"color: #008000; text-decoration-color: #008000\">'flickr30k.text-to-image-acc@1'</span>,\n",
       "        <span style=\"color: #008000; text-decoration-color: #008000\">'flickr30k.image-to-text-acc@1'</span>,\n",
       "        <span style=\"color: #008000; text-decoration-color: #008000\">'flickr30k.image-to-text-acc@5'</span>,\n",
       "        <span style=\"color: #008000; text-decoration-color: #008000\">'newyorkercaptioncontest.text-to-image-acc@5'</span>,\n",
       "        <span style=\"color: #008000; text-decoration-color: #008000\">'newyorkercaptioncontest.text-to-image-acc@1'</span>,\n",
       "        <span style=\"color: #008000; text-decoration-color: #008000\">'newyorkercaptioncontest.image-to-text-acc@1'</span>,\n",
       "        <span style=\"color: #008000; text-decoration-color: #008000\">'newyorkercaptioncontest.image-to-text-acc@5'</span>,\n",
       "        <span style=\"color: #008000; text-decoration-color: #008000\">'pokemonblipcaptions.text-to-image-acc@5'</span>,\n",
       "        <span style=\"color: #008000; text-decoration-color: #008000\">'pokemonblipcaptions.text-to-image-acc@1'</span>,\n",
       "        <span style=\"color: #008000; text-decoration-color: #008000\">'pokemonblipcaptions.image-to-text-acc@1'</span>,\n",
       "        <span style=\"color: #008000; text-decoration-color: #008000\">'pokemonblipcaptions.image-to-text-acc@5'</span>,\n",
       "        <span style=\"color: #008000; text-decoration-color: #008000\">'winoground.image-to-text-acc@1'</span>,\n",
       "        <span style=\"color: #008000; text-decoration-color: #008000\">'winoground.text-to-image-acc@1'</span>\n",
       "    <span style=\"font-weight: bold\">]</span>,\n",
       "    <span style=\"color: #008000; text-decoration-color: #008000\">'Video Classification'</span>: <span style=\"font-weight: bold\">[</span>\n",
       "        <span style=\"color: #008000; text-decoration-color: #008000\">'kinetics.acc@5'</span>,\n",
       "        <span style=\"color: #008000; text-decoration-color: #008000\">'kinetics.acc@1'</span>,\n",
       "        <span style=\"color: #008000; text-decoration-color: #008000\">'hmdb51.acc@5'</span>,\n",
       "        <span style=\"color: #008000; text-decoration-color: #008000\">'hmdb51.acc@1'</span>,\n",
       "        <span style=\"color: #008000; text-decoration-color: #008000\">'ucf.acc@5'</span>,\n",
       "        <span style=\"color: #008000; text-decoration-color: #008000\">'ucf.acc@1'</span>\n",
       "    <span style=\"font-weight: bold\">]</span>,\n",
       "    <span style=\"color: #008000; text-decoration-color: #008000\">'Video Regression'</span>: <span style=\"font-weight: bold\">[</span><span style=\"color: #008000; text-decoration-color: #008000\">'iwildcam.mae'</span><span style=\"font-weight: bold\">]</span>\n",
       "<span style=\"font-weight: bold\">}</span>\n",
       "</pre>\n"
      ],
      "text/plain": [
       "\u001b[1m{\u001b[0m\n",
       "    \u001b[32m'Image Classification'\u001b[0m: \u001b[1m[\u001b[0m\n",
       "        \u001b[32m'cifar100.loss'\u001b[0m,\n",
       "        \u001b[32m'cifar100.acc@1'\u001b[0m,\n",
       "        \u001b[32m'cifar100.acc@5'\u001b[0m,\n",
       "        \u001b[32m'food101.loss'\u001b[0m,\n",
       "        \u001b[32m'food101.acc@5'\u001b[0m,\n",
       "        \u001b[32m'food101.acc@1'\u001b[0m,\n",
       "        \u001b[32m'imagenet1k.loss'\u001b[0m,\n",
       "        \u001b[32m'imagenet1k.acc@5'\u001b[0m,\n",
       "        \u001b[32m'imagenet1k.acc@1'\u001b[0m,\n",
       "        \u001b[32m'places365.loss'\u001b[0m,\n",
       "        \u001b[32m'places365.acc@5'\u001b[0m,\n",
       "        \u001b[32m'places365.acc@1'\u001b[0m\n",
       "    \u001b[1m]\u001b[0m,\n",
       "    \u001b[32m'Few Shot Image Classification'\u001b[0m: \u001b[1m[\u001b[0m\n",
       "        \u001b[32m'fungi.acc@1'\u001b[0m,\n",
       "        \u001b[32m'mini.acc@1'\u001b[0m,\n",
       "        \u001b[32m'omniglot.acc@1'\u001b[0m,\n",
       "        \u001b[32m'vgg.acc@1'\u001b[0m,\n",
       "        \u001b[32m'aircraft.acc@1'\u001b[0m,\n",
       "        \u001b[32m'dtextures.acc@1'\u001b[0m,\n",
       "        \u001b[32m'cubirds.acc@1'\u001b[0m\n",
       "    \u001b[1m]\u001b[0m,\n",
       "    \u001b[32m'Image Segmentation'\u001b[0m: \u001b[1m[\u001b[0m\n",
       "        \u001b[32m'ade20k.dice-loss'\u001b[0m,\n",
       "        \u001b[32m'ade20k.mIoU'\u001b[0m,\n",
       "        \u001b[32m'coco-10k.mIoU'\u001b[0m,\n",
       "        \u001b[32m'coco-10k.dice-loss'\u001b[0m,\n",
       "        \u001b[32m'coco-164k.mIoU'\u001b[0m,\n",
       "        \u001b[32m'coco-164k.dice-loss'\u001b[0m,\n",
       "        \u001b[32m'cityscapes.mIoU'\u001b[0m,\n",
       "        \u001b[32m'cityscapes.dice-loss'\u001b[0m,\n",
       "        \u001b[32m'nyu.mIoU'\u001b[0m,\n",
       "        \u001b[32m'nyu.dice-loss'\u001b[0m,\n",
       "        \u001b[32m'pascal.mIoU'\u001b[0m,\n",
       "        \u001b[32m'pascal.dice-loss'\u001b[0m\n",
       "    \u001b[1m]\u001b[0m,\n",
       "    \u001b[32m'Image Relational Reasoning'\u001b[0m: \u001b[1m[\u001b[0m\u001b[32m'clevr.acc@1'\u001b[0m, \u001b[32m'clevr-math.acc@5'\u001b[0m, \u001b[32m'clevr-math.acc@1'\u001b[0m\u001b[1m]\u001b[0m,\n",
       "    \u001b[32m'Medical Classification/Segmentation'\u001b[0m: \u001b[1m[\u001b[0m\u001b[32m'ham10k.auc'\u001b[0m, \u001b[32m'chexpert.auc'\u001b[0m, \u001b[32m'diabetic.auc'\u001b[0m, \u001b[32m'acdc.dice-loss'\u001b[0m\u001b[1m]\u001b[0m,\n",
       "    \u001b[32m'Image to Text Zero Shot Learning'\u001b[0m: \u001b[1m[\u001b[0m\n",
       "        \u001b[32m'flickr30k.text-to-image-acc@5'\u001b[0m,\n",
       "        \u001b[32m'flickr30k.text-to-image-acc@1'\u001b[0m,\n",
       "        \u001b[32m'flickr30k.image-to-text-acc@1'\u001b[0m,\n",
       "        \u001b[32m'flickr30k.image-to-text-acc@5'\u001b[0m,\n",
       "        \u001b[32m'newyorkercaptioncontest.text-to-image-acc@5'\u001b[0m,\n",
       "        \u001b[32m'newyorkercaptioncontest.text-to-image-acc@1'\u001b[0m,\n",
       "        \u001b[32m'newyorkercaptioncontest.image-to-text-acc@1'\u001b[0m,\n",
       "        \u001b[32m'newyorkercaptioncontest.image-to-text-acc@5'\u001b[0m,\n",
       "        \u001b[32m'pokemonblipcaptions.text-to-image-acc@5'\u001b[0m,\n",
       "        \u001b[32m'pokemonblipcaptions.text-to-image-acc@1'\u001b[0m,\n",
       "        \u001b[32m'pokemonblipcaptions.image-to-text-acc@1'\u001b[0m,\n",
       "        \u001b[32m'pokemonblipcaptions.image-to-text-acc@5'\u001b[0m,\n",
       "        \u001b[32m'winoground.image-to-text-acc@1'\u001b[0m,\n",
       "        \u001b[32m'winoground.text-to-image-acc@1'\u001b[0m\n",
       "    \u001b[1m]\u001b[0m,\n",
       "    \u001b[32m'Video Classification'\u001b[0m: \u001b[1m[\u001b[0m\n",
       "        \u001b[32m'kinetics.acc@5'\u001b[0m,\n",
       "        \u001b[32m'kinetics.acc@1'\u001b[0m,\n",
       "        \u001b[32m'hmdb51.acc@5'\u001b[0m,\n",
       "        \u001b[32m'hmdb51.acc@1'\u001b[0m,\n",
       "        \u001b[32m'ucf.acc@5'\u001b[0m,\n",
       "        \u001b[32m'ucf.acc@1'\u001b[0m\n",
       "    \u001b[1m]\u001b[0m,\n",
       "    \u001b[32m'Video Regression'\u001b[0m: \u001b[1m[\u001b[0m\u001b[32m'iwildcam.mae'\u001b[0m\u001b[1m]\u001b[0m\n",
       "\u001b[1m}\u001b[0m\n"
      ]
     },
     "metadata": {},
     "output_type": "display_data"
    },
    {
     "data": {
      "text/html": [
       "<pre style=\"white-space:pre;overflow-x:auto;line-height:normal;font-family:Menlo,'DejaVu Sans Mono',consolas,'Courier New',monospace\"><span style=\"font-weight: bold\">{</span>\n",
       "    <span style=\"color: #008000; text-decoration-color: #008000\">'cifar100.loss'</span>: <span style=\"color: #008080; text-decoration-color: #008080; font-weight: bold\">0.010416666666666666</span>,\n",
       "    <span style=\"color: #008000; text-decoration-color: #008000\">'cifar100.acc@1'</span>: <span style=\"color: #008080; text-decoration-color: #008080; font-weight: bold\">0.010416666666666666</span>,\n",
       "    <span style=\"color: #008000; text-decoration-color: #008000\">'cifar100.acc@5'</span>: <span style=\"color: #008080; text-decoration-color: #008080; font-weight: bold\">0.010416666666666666</span>,\n",
       "    <span style=\"color: #008000; text-decoration-color: #008000\">'food101.loss'</span>: <span style=\"color: #008080; text-decoration-color: #008080; font-weight: bold\">0.010416666666666666</span>,\n",
       "    <span style=\"color: #008000; text-decoration-color: #008000\">'food101.acc@5'</span>: <span style=\"color: #008080; text-decoration-color: #008080; font-weight: bold\">0.010416666666666666</span>,\n",
       "    <span style=\"color: #008000; text-decoration-color: #008000\">'food101.acc@1'</span>: <span style=\"color: #008080; text-decoration-color: #008080; font-weight: bold\">0.010416666666666666</span>,\n",
       "    <span style=\"color: #008000; text-decoration-color: #008000\">'imagenet1k.loss'</span>: <span style=\"color: #008080; text-decoration-color: #008080; font-weight: bold\">0.010416666666666666</span>,\n",
       "    <span style=\"color: #008000; text-decoration-color: #008000\">'imagenet1k.acc@5'</span>: <span style=\"color: #008080; text-decoration-color: #008080; font-weight: bold\">0.010416666666666666</span>,\n",
       "    <span style=\"color: #008000; text-decoration-color: #008000\">'imagenet1k.acc@1'</span>: <span style=\"color: #008080; text-decoration-color: #008080; font-weight: bold\">0.010416666666666666</span>,\n",
       "    <span style=\"color: #008000; text-decoration-color: #008000\">'places365.loss'</span>: <span style=\"color: #008080; text-decoration-color: #008080; font-weight: bold\">0.010416666666666666</span>,\n",
       "    <span style=\"color: #008000; text-decoration-color: #008000\">'places365.acc@5'</span>: <span style=\"color: #008080; text-decoration-color: #008080; font-weight: bold\">0.010416666666666666</span>,\n",
       "    <span style=\"color: #008000; text-decoration-color: #008000\">'places365.acc@1'</span>: <span style=\"color: #008080; text-decoration-color: #008080; font-weight: bold\">0.010416666666666666</span>,\n",
       "    <span style=\"color: #008000; text-decoration-color: #008000\">'fungi.acc@1'</span>: <span style=\"color: #008080; text-decoration-color: #008080; font-weight: bold\">0.017857142857142856</span>,\n",
       "    <span style=\"color: #008000; text-decoration-color: #008000\">'mini.acc@1'</span>: <span style=\"color: #008080; text-decoration-color: #008080; font-weight: bold\">0.017857142857142856</span>,\n",
       "    <span style=\"color: #008000; text-decoration-color: #008000\">'omniglot.acc@1'</span>: <span style=\"color: #008080; text-decoration-color: #008080; font-weight: bold\">0.017857142857142856</span>,\n",
       "    <span style=\"color: #008000; text-decoration-color: #008000\">'vgg.acc@1'</span>: <span style=\"color: #008080; text-decoration-color: #008080; font-weight: bold\">0.017857142857142856</span>,\n",
       "    <span style=\"color: #008000; text-decoration-color: #008000\">'aircraft.acc@1'</span>: <span style=\"color: #008080; text-decoration-color: #008080; font-weight: bold\">0.017857142857142856</span>,\n",
       "    <span style=\"color: #008000; text-decoration-color: #008000\">'dtextures.acc@1'</span>: <span style=\"color: #008080; text-decoration-color: #008080; font-weight: bold\">0.017857142857142856</span>,\n",
       "    <span style=\"color: #008000; text-decoration-color: #008000\">'cubirds.acc@1'</span>: <span style=\"color: #008080; text-decoration-color: #008080; font-weight: bold\">0.017857142857142856</span>,\n",
       "    <span style=\"color: #008000; text-decoration-color: #008000\">'ade20k.dice-loss'</span>: <span style=\"color: #008080; text-decoration-color: #008080; font-weight: bold\">0.010416666666666666</span>,\n",
       "    <span style=\"color: #008000; text-decoration-color: #008000\">'ade20k.mIoU'</span>: <span style=\"color: #008080; text-decoration-color: #008080; font-weight: bold\">0.010416666666666666</span>,\n",
       "    <span style=\"color: #008000; text-decoration-color: #008000\">'coco-10k.mIoU'</span>: <span style=\"color: #008080; text-decoration-color: #008080; font-weight: bold\">0.010416666666666666</span>,\n",
       "    <span style=\"color: #008000; text-decoration-color: #008000\">'coco-10k.dice-loss'</span>: <span style=\"color: #008080; text-decoration-color: #008080; font-weight: bold\">0.010416666666666666</span>,\n",
       "    <span style=\"color: #008000; text-decoration-color: #008000\">'coco-164k.mIoU'</span>: <span style=\"color: #008080; text-decoration-color: #008080; font-weight: bold\">0.010416666666666666</span>,\n",
       "    <span style=\"color: #008000; text-decoration-color: #008000\">'coco-164k.dice-loss'</span>: <span style=\"color: #008080; text-decoration-color: #008080; font-weight: bold\">0.010416666666666666</span>,\n",
       "    <span style=\"color: #008000; text-decoration-color: #008000\">'cityscapes.mIoU'</span>: <span style=\"color: #008080; text-decoration-color: #008080; font-weight: bold\">0.010416666666666666</span>,\n",
       "    <span style=\"color: #008000; text-decoration-color: #008000\">'cityscapes.dice-loss'</span>: <span style=\"color: #008080; text-decoration-color: #008080; font-weight: bold\">0.010416666666666666</span>,\n",
       "    <span style=\"color: #008000; text-decoration-color: #008000\">'nyu.mIoU'</span>: <span style=\"color: #008080; text-decoration-color: #008080; font-weight: bold\">0.010416666666666666</span>,\n",
       "    <span style=\"color: #008000; text-decoration-color: #008000\">'nyu.dice-loss'</span>: <span style=\"color: #008080; text-decoration-color: #008080; font-weight: bold\">0.010416666666666666</span>,\n",
       "    <span style=\"color: #008000; text-decoration-color: #008000\">'pascal.mIoU'</span>: <span style=\"color: #008080; text-decoration-color: #008080; font-weight: bold\">0.010416666666666666</span>,\n",
       "    <span style=\"color: #008000; text-decoration-color: #008000\">'pascal.dice-loss'</span>: <span style=\"color: #008080; text-decoration-color: #008080; font-weight: bold\">0.010416666666666666</span>,\n",
       "    <span style=\"color: #008000; text-decoration-color: #008000\">'clevr.acc@1'</span>: <span style=\"color: #008080; text-decoration-color: #008080; font-weight: bold\">0.041666666666666664</span>,\n",
       "    <span style=\"color: #008000; text-decoration-color: #008000\">'clevr-math.acc@5'</span>: <span style=\"color: #008080; text-decoration-color: #008080; font-weight: bold\">0.041666666666666664</span>,\n",
       "    <span style=\"color: #008000; text-decoration-color: #008000\">'clevr-math.acc@1'</span>: <span style=\"color: #008080; text-decoration-color: #008080; font-weight: bold\">0.041666666666666664</span>,\n",
       "    <span style=\"color: #008000; text-decoration-color: #008000\">'ham10k.auc'</span>: <span style=\"color: #008080; text-decoration-color: #008080; font-weight: bold\">0.03125</span>,\n",
       "    <span style=\"color: #008000; text-decoration-color: #008000\">'chexpert.auc'</span>: <span style=\"color: #008080; text-decoration-color: #008080; font-weight: bold\">0.03125</span>,\n",
       "    <span style=\"color: #008000; text-decoration-color: #008000\">'diabetic.auc'</span>: <span style=\"color: #008080; text-decoration-color: #008080; font-weight: bold\">0.03125</span>,\n",
       "    <span style=\"color: #008000; text-decoration-color: #008000\">'acdc.dice-loss'</span>: <span style=\"color: #008080; text-decoration-color: #008080; font-weight: bold\">0.03125</span>,\n",
       "    <span style=\"color: #008000; text-decoration-color: #008000\">'flickr30k.text-to-image-acc@5'</span>: <span style=\"color: #008080; text-decoration-color: #008080; font-weight: bold\">0.008928571428571428</span>,\n",
       "    <span style=\"color: #008000; text-decoration-color: #008000\">'flickr30k.text-to-image-acc@1'</span>: <span style=\"color: #008080; text-decoration-color: #008080; font-weight: bold\">0.008928571428571428</span>,\n",
       "    <span style=\"color: #008000; text-decoration-color: #008000\">'flickr30k.image-to-text-acc@1'</span>: <span style=\"color: #008080; text-decoration-color: #008080; font-weight: bold\">0.008928571428571428</span>,\n",
       "    <span style=\"color: #008000; text-decoration-color: #008000\">'flickr30k.image-to-text-acc@5'</span>: <span style=\"color: #008080; text-decoration-color: #008080; font-weight: bold\">0.008928571428571428</span>,\n",
       "    <span style=\"color: #008000; text-decoration-color: #008000\">'newyorkercaptioncontest.text-to-image-acc@5'</span>: <span style=\"color: #008080; text-decoration-color: #008080; font-weight: bold\">0.008928571428571428</span>,\n",
       "    <span style=\"color: #008000; text-decoration-color: #008000\">'newyorkercaptioncontest.text-to-image-acc@1'</span>: <span style=\"color: #008080; text-decoration-color: #008080; font-weight: bold\">0.008928571428571428</span>,\n",
       "    <span style=\"color: #008000; text-decoration-color: #008000\">'newyorkercaptioncontest.image-to-text-acc@1'</span>: <span style=\"color: #008080; text-decoration-color: #008080; font-weight: bold\">0.008928571428571428</span>,\n",
       "    <span style=\"color: #008000; text-decoration-color: #008000\">'newyorkercaptioncontest.image-to-text-acc@5'</span>: <span style=\"color: #008080; text-decoration-color: #008080; font-weight: bold\">0.008928571428571428</span>,\n",
       "    <span style=\"color: #008000; text-decoration-color: #008000\">'pokemonblipcaptions.text-to-image-acc@5'</span>: <span style=\"color: #008080; text-decoration-color: #008080; font-weight: bold\">0.008928571428571428</span>,\n",
       "    <span style=\"color: #008000; text-decoration-color: #008000\">'pokemonblipcaptions.text-to-image-acc@1'</span>: <span style=\"color: #008080; text-decoration-color: #008080; font-weight: bold\">0.008928571428571428</span>,\n",
       "    <span style=\"color: #008000; text-decoration-color: #008000\">'pokemonblipcaptions.image-to-text-acc@1'</span>: <span style=\"color: #008080; text-decoration-color: #008080; font-weight: bold\">0.008928571428571428</span>,\n",
       "    <span style=\"color: #008000; text-decoration-color: #008000\">'pokemonblipcaptions.image-to-text-acc@5'</span>: <span style=\"color: #008080; text-decoration-color: #008080; font-weight: bold\">0.008928571428571428</span>,\n",
       "    <span style=\"color: #008000; text-decoration-color: #008000\">'winoground.image-to-text-acc@1'</span>: <span style=\"color: #008080; text-decoration-color: #008080; font-weight: bold\">0.008928571428571428</span>,\n",
       "    <span style=\"color: #008000; text-decoration-color: #008000\">'winoground.text-to-image-acc@1'</span>: <span style=\"color: #008080; text-decoration-color: #008080; font-weight: bold\">0.008928571428571428</span>,\n",
       "    <span style=\"color: #008000; text-decoration-color: #008000\">'kinetics.acc@5'</span>: <span style=\"color: #008080; text-decoration-color: #008080; font-weight: bold\">0.020833333333333332</span>,\n",
       "    <span style=\"color: #008000; text-decoration-color: #008000\">'kinetics.acc@1'</span>: <span style=\"color: #008080; text-decoration-color: #008080; font-weight: bold\">0.020833333333333332</span>,\n",
       "    <span style=\"color: #008000; text-decoration-color: #008000\">'hmdb51.acc@5'</span>: <span style=\"color: #008080; text-decoration-color: #008080; font-weight: bold\">0.020833333333333332</span>,\n",
       "    <span style=\"color: #008000; text-decoration-color: #008000\">'hmdb51.acc@1'</span>: <span style=\"color: #008080; text-decoration-color: #008080; font-weight: bold\">0.020833333333333332</span>,\n",
       "    <span style=\"color: #008000; text-decoration-color: #008000\">'ucf.acc@5'</span>: <span style=\"color: #008080; text-decoration-color: #008080; font-weight: bold\">0.020833333333333332</span>,\n",
       "    <span style=\"color: #008000; text-decoration-color: #008000\">'ucf.acc@1'</span>: <span style=\"color: #008080; text-decoration-color: #008080; font-weight: bold\">0.020833333333333332</span>,\n",
       "    <span style=\"color: #008000; text-decoration-color: #008000\">'iwildcam.mae'</span>: <span style=\"color: #008080; text-decoration-color: #008080; font-weight: bold\">0.125</span>\n",
       "<span style=\"font-weight: bold\">}</span>\n",
       "</pre>\n"
      ],
      "text/plain": [
       "\u001b[1m{\u001b[0m\n",
       "    \u001b[32m'cifar100.loss'\u001b[0m: \u001b[1;36m0.010416666666666666\u001b[0m,\n",
       "    \u001b[32m'cifar100.acc@1'\u001b[0m: \u001b[1;36m0.010416666666666666\u001b[0m,\n",
       "    \u001b[32m'cifar100.acc@5'\u001b[0m: \u001b[1;36m0.010416666666666666\u001b[0m,\n",
       "    \u001b[32m'food101.loss'\u001b[0m: \u001b[1;36m0.010416666666666666\u001b[0m,\n",
       "    \u001b[32m'food101.acc@5'\u001b[0m: \u001b[1;36m0.010416666666666666\u001b[0m,\n",
       "    \u001b[32m'food101.acc@1'\u001b[0m: \u001b[1;36m0.010416666666666666\u001b[0m,\n",
       "    \u001b[32m'imagenet1k.loss'\u001b[0m: \u001b[1;36m0.010416666666666666\u001b[0m,\n",
       "    \u001b[32m'imagenet1k.acc@5'\u001b[0m: \u001b[1;36m0.010416666666666666\u001b[0m,\n",
       "    \u001b[32m'imagenet1k.acc@1'\u001b[0m: \u001b[1;36m0.010416666666666666\u001b[0m,\n",
       "    \u001b[32m'places365.loss'\u001b[0m: \u001b[1;36m0.010416666666666666\u001b[0m,\n",
       "    \u001b[32m'places365.acc@5'\u001b[0m: \u001b[1;36m0.010416666666666666\u001b[0m,\n",
       "    \u001b[32m'places365.acc@1'\u001b[0m: \u001b[1;36m0.010416666666666666\u001b[0m,\n",
       "    \u001b[32m'fungi.acc@1'\u001b[0m: \u001b[1;36m0.017857142857142856\u001b[0m,\n",
       "    \u001b[32m'mini.acc@1'\u001b[0m: \u001b[1;36m0.017857142857142856\u001b[0m,\n",
       "    \u001b[32m'omniglot.acc@1'\u001b[0m: \u001b[1;36m0.017857142857142856\u001b[0m,\n",
       "    \u001b[32m'vgg.acc@1'\u001b[0m: \u001b[1;36m0.017857142857142856\u001b[0m,\n",
       "    \u001b[32m'aircraft.acc@1'\u001b[0m: \u001b[1;36m0.017857142857142856\u001b[0m,\n",
       "    \u001b[32m'dtextures.acc@1'\u001b[0m: \u001b[1;36m0.017857142857142856\u001b[0m,\n",
       "    \u001b[32m'cubirds.acc@1'\u001b[0m: \u001b[1;36m0.017857142857142856\u001b[0m,\n",
       "    \u001b[32m'ade20k.dice-loss'\u001b[0m: \u001b[1;36m0.010416666666666666\u001b[0m,\n",
       "    \u001b[32m'ade20k.mIoU'\u001b[0m: \u001b[1;36m0.010416666666666666\u001b[0m,\n",
       "    \u001b[32m'coco-10k.mIoU'\u001b[0m: \u001b[1;36m0.010416666666666666\u001b[0m,\n",
       "    \u001b[32m'coco-10k.dice-loss'\u001b[0m: \u001b[1;36m0.010416666666666666\u001b[0m,\n",
       "    \u001b[32m'coco-164k.mIoU'\u001b[0m: \u001b[1;36m0.010416666666666666\u001b[0m,\n",
       "    \u001b[32m'coco-164k.dice-loss'\u001b[0m: \u001b[1;36m0.010416666666666666\u001b[0m,\n",
       "    \u001b[32m'cityscapes.mIoU'\u001b[0m: \u001b[1;36m0.010416666666666666\u001b[0m,\n",
       "    \u001b[32m'cityscapes.dice-loss'\u001b[0m: \u001b[1;36m0.010416666666666666\u001b[0m,\n",
       "    \u001b[32m'nyu.mIoU'\u001b[0m: \u001b[1;36m0.010416666666666666\u001b[0m,\n",
       "    \u001b[32m'nyu.dice-loss'\u001b[0m: \u001b[1;36m0.010416666666666666\u001b[0m,\n",
       "    \u001b[32m'pascal.mIoU'\u001b[0m: \u001b[1;36m0.010416666666666666\u001b[0m,\n",
       "    \u001b[32m'pascal.dice-loss'\u001b[0m: \u001b[1;36m0.010416666666666666\u001b[0m,\n",
       "    \u001b[32m'clevr.acc@1'\u001b[0m: \u001b[1;36m0.041666666666666664\u001b[0m,\n",
       "    \u001b[32m'clevr-math.acc@5'\u001b[0m: \u001b[1;36m0.041666666666666664\u001b[0m,\n",
       "    \u001b[32m'clevr-math.acc@1'\u001b[0m: \u001b[1;36m0.041666666666666664\u001b[0m,\n",
       "    \u001b[32m'ham10k.auc'\u001b[0m: \u001b[1;36m0.03125\u001b[0m,\n",
       "    \u001b[32m'chexpert.auc'\u001b[0m: \u001b[1;36m0.03125\u001b[0m,\n",
       "    \u001b[32m'diabetic.auc'\u001b[0m: \u001b[1;36m0.03125\u001b[0m,\n",
       "    \u001b[32m'acdc.dice-loss'\u001b[0m: \u001b[1;36m0.03125\u001b[0m,\n",
       "    \u001b[32m'flickr30k.text-to-image-acc@5'\u001b[0m: \u001b[1;36m0.008928571428571428\u001b[0m,\n",
       "    \u001b[32m'flickr30k.text-to-image-acc@1'\u001b[0m: \u001b[1;36m0.008928571428571428\u001b[0m,\n",
       "    \u001b[32m'flickr30k.image-to-text-acc@1'\u001b[0m: \u001b[1;36m0.008928571428571428\u001b[0m,\n",
       "    \u001b[32m'flickr30k.image-to-text-acc@5'\u001b[0m: \u001b[1;36m0.008928571428571428\u001b[0m,\n",
       "    \u001b[32m'newyorkercaptioncontest.text-to-image-acc@5'\u001b[0m: \u001b[1;36m0.008928571428571428\u001b[0m,\n",
       "    \u001b[32m'newyorkercaptioncontest.text-to-image-acc@1'\u001b[0m: \u001b[1;36m0.008928571428571428\u001b[0m,\n",
       "    \u001b[32m'newyorkercaptioncontest.image-to-text-acc@1'\u001b[0m: \u001b[1;36m0.008928571428571428\u001b[0m,\n",
       "    \u001b[32m'newyorkercaptioncontest.image-to-text-acc@5'\u001b[0m: \u001b[1;36m0.008928571428571428\u001b[0m,\n",
       "    \u001b[32m'pokemonblipcaptions.text-to-image-acc@5'\u001b[0m: \u001b[1;36m0.008928571428571428\u001b[0m,\n",
       "    \u001b[32m'pokemonblipcaptions.text-to-image-acc@1'\u001b[0m: \u001b[1;36m0.008928571428571428\u001b[0m,\n",
       "    \u001b[32m'pokemonblipcaptions.image-to-text-acc@1'\u001b[0m: \u001b[1;36m0.008928571428571428\u001b[0m,\n",
       "    \u001b[32m'pokemonblipcaptions.image-to-text-acc@5'\u001b[0m: \u001b[1;36m0.008928571428571428\u001b[0m,\n",
       "    \u001b[32m'winoground.image-to-text-acc@1'\u001b[0m: \u001b[1;36m0.008928571428571428\u001b[0m,\n",
       "    \u001b[32m'winoground.text-to-image-acc@1'\u001b[0m: \u001b[1;36m0.008928571428571428\u001b[0m,\n",
       "    \u001b[32m'kinetics.acc@5'\u001b[0m: \u001b[1;36m0.020833333333333332\u001b[0m,\n",
       "    \u001b[32m'kinetics.acc@1'\u001b[0m: \u001b[1;36m0.020833333333333332\u001b[0m,\n",
       "    \u001b[32m'hmdb51.acc@5'\u001b[0m: \u001b[1;36m0.020833333333333332\u001b[0m,\n",
       "    \u001b[32m'hmdb51.acc@1'\u001b[0m: \u001b[1;36m0.020833333333333332\u001b[0m,\n",
       "    \u001b[32m'ucf.acc@5'\u001b[0m: \u001b[1;36m0.020833333333333332\u001b[0m,\n",
       "    \u001b[32m'ucf.acc@1'\u001b[0m: \u001b[1;36m0.020833333333333332\u001b[0m,\n",
       "    \u001b[32m'iwildcam.mae'\u001b[0m: \u001b[1;36m0.125\u001b[0m\n",
       "\u001b[1m}\u001b[0m\n"
      ]
     },
     "metadata": {},
     "output_type": "display_data"
    },
    {
     "data": {
      "text/html": [
       "<pre style=\"white-space:pre;overflow-x:auto;line-height:normal;font-family:Menlo,'DejaVu Sans Mono',consolas,'Courier New',monospace\">Sum of weights: <span style=\"color: #008080; text-decoration-color: #008080; font-weight: bold\">1.0</span>\n",
       "</pre>\n"
      ],
      "text/plain": [
       "Sum of weights: \u001b[1;36m1.0\u001b[0m\n"
      ]
     },
     "metadata": {},
     "output_type": "display_data"
    }
   ],
   "source": [
    "import yaml\n",
    "\n",
    "\n",
    "task_to_dataset = yaml.safe_load(open(\"task_mapping.yaml\"))\n",
    "task_to_dataset = {k: [d for d in v if d in df.columns] for k, v in task_to_dataset.items()}\n",
    "dataset_to_weight = {}\n",
    "for task_name, task_datasets in task_to_dataset.items():\n",
    "    for dataset in task_datasets:\n",
    "        dataset_to_weight[dataset] = 1. / len(task_datasets) / len(task_to_dataset)\n",
    "print(task_to_dataset)\n",
    "print(dataset_to_weight)\n",
    "print(f\"Sum of weights: {sum(dataset_to_weight.values())}\")"
   ]
  },
  {
   "cell_type": "code",
   "execution_count": 1554,
   "metadata": {},
   "outputs": [
    {
     "data": {
      "text/html": [
       "<pre style=\"white-space:pre;overflow-x:auto;line-height:normal;font-family:Menlo,'DejaVu Sans Mono',consolas,'Courier New',monospace\"><span style=\"font-weight: bold\">{</span>\n",
       "    <span style=\"color: #008000; text-decoration-color: #008000\">'Image Classification'</span>: <span style=\"font-weight: bold\">[</span>\n",
       "        <span style=\"color: #008000; text-decoration-color: #008000\">'cifar100.loss'</span>,\n",
       "        <span style=\"color: #008000; text-decoration-color: #008000\">'cifar100.acc@1'</span>,\n",
       "        <span style=\"color: #008000; text-decoration-color: #008000\">'cifar100.acc@5'</span>,\n",
       "        <span style=\"color: #008000; text-decoration-color: #008000\">'food101.loss'</span>,\n",
       "        <span style=\"color: #008000; text-decoration-color: #008000\">'food101.acc@5'</span>,\n",
       "        <span style=\"color: #008000; text-decoration-color: #008000\">'food101.acc@1'</span>,\n",
       "        <span style=\"color: #008000; text-decoration-color: #008000\">'imagenet1k.loss'</span>,\n",
       "        <span style=\"color: #008000; text-decoration-color: #008000\">'imagenet1k.acc@5'</span>,\n",
       "        <span style=\"color: #008000; text-decoration-color: #008000\">'imagenet1k.acc@1'</span>,\n",
       "        <span style=\"color: #008000; text-decoration-color: #008000\">'places365.loss'</span>,\n",
       "        <span style=\"color: #008000; text-decoration-color: #008000\">'places365.acc@5'</span>,\n",
       "        <span style=\"color: #008000; text-decoration-color: #008000\">'places365.acc@1'</span>\n",
       "    <span style=\"font-weight: bold\">]</span>,\n",
       "    <span style=\"color: #008000; text-decoration-color: #008000\">'Few Shot Image Classification'</span>: <span style=\"font-weight: bold\">[</span>\n",
       "        <span style=\"color: #008000; text-decoration-color: #008000\">'fungi.acc@1'</span>,\n",
       "        <span style=\"color: #008000; text-decoration-color: #008000\">'mini.acc@1'</span>,\n",
       "        <span style=\"color: #008000; text-decoration-color: #008000\">'omniglot.acc@1'</span>,\n",
       "        <span style=\"color: #008000; text-decoration-color: #008000\">'vgg.acc@1'</span>,\n",
       "        <span style=\"color: #008000; text-decoration-color: #008000\">'aircraft.acc@1'</span>,\n",
       "        <span style=\"color: #008000; text-decoration-color: #008000\">'dtextures.acc@1'</span>,\n",
       "        <span style=\"color: #008000; text-decoration-color: #008000\">'cubirds.acc@1'</span>\n",
       "    <span style=\"font-weight: bold\">]</span>,\n",
       "    <span style=\"color: #008000; text-decoration-color: #008000\">'Image Segmentation'</span>: <span style=\"font-weight: bold\">[</span>\n",
       "        <span style=\"color: #008000; text-decoration-color: #008000\">'ade20k.dice-loss'</span>,\n",
       "        <span style=\"color: #008000; text-decoration-color: #008000\">'ade20k.mIoU'</span>,\n",
       "        <span style=\"color: #008000; text-decoration-color: #008000\">'coco-10k.mIoU'</span>,\n",
       "        <span style=\"color: #008000; text-decoration-color: #008000\">'coco-10k.dice-loss'</span>,\n",
       "        <span style=\"color: #008000; text-decoration-color: #008000\">'coco-164k.mIoU'</span>,\n",
       "        <span style=\"color: #008000; text-decoration-color: #008000\">'coco-164k.dice-loss'</span>,\n",
       "        <span style=\"color: #008000; text-decoration-color: #008000\">'cityscapes.mIoU'</span>,\n",
       "        <span style=\"color: #008000; text-decoration-color: #008000\">'cityscapes.dice-loss'</span>,\n",
       "        <span style=\"color: #008000; text-decoration-color: #008000\">'nyu.mIoU'</span>,\n",
       "        <span style=\"color: #008000; text-decoration-color: #008000\">'nyu.dice-loss'</span>,\n",
       "        <span style=\"color: #008000; text-decoration-color: #008000\">'pascal.mIoU'</span>,\n",
       "        <span style=\"color: #008000; text-decoration-color: #008000\">'pascal.dice-loss'</span>\n",
       "    <span style=\"font-weight: bold\">]</span>,\n",
       "    <span style=\"color: #008000; text-decoration-color: #008000\">'Image Relational Reasoning'</span>: <span style=\"font-weight: bold\">[</span><span style=\"color: #008000; text-decoration-color: #008000\">'clevr.acc@1'</span>, <span style=\"color: #008000; text-decoration-color: #008000\">'clevr-math.acc@5'</span>, <span style=\"color: #008000; text-decoration-color: #008000\">'clevr-math.acc@1'</span><span style=\"font-weight: bold\">]</span>,\n",
       "    <span style=\"color: #008000; text-decoration-color: #008000\">'Medical Classification/Segmentation'</span>: <span style=\"font-weight: bold\">[</span><span style=\"color: #008000; text-decoration-color: #008000\">'ham10k.auc'</span>, <span style=\"color: #008000; text-decoration-color: #008000\">'chexpert.auc'</span>, <span style=\"color: #008000; text-decoration-color: #008000\">'diabetic.auc'</span>, <span style=\"color: #008000; text-decoration-color: #008000\">'acdc.dice-loss'</span><span style=\"font-weight: bold\">]</span>,\n",
       "    <span style=\"color: #008000; text-decoration-color: #008000\">'Image to Text Zero Shot Learning'</span>: <span style=\"font-weight: bold\">[</span>\n",
       "        <span style=\"color: #008000; text-decoration-color: #008000\">'flickr30k.text-to-image-acc@5'</span>,\n",
       "        <span style=\"color: #008000; text-decoration-color: #008000\">'flickr30k.text-to-image-acc@1'</span>,\n",
       "        <span style=\"color: #008000; text-decoration-color: #008000\">'flickr30k.image-to-text-acc@1'</span>,\n",
       "        <span style=\"color: #008000; text-decoration-color: #008000\">'flickr30k.image-to-text-acc@5'</span>,\n",
       "        <span style=\"color: #008000; text-decoration-color: #008000\">'newyorkercaptioncontest.text-to-image-acc@5'</span>,\n",
       "        <span style=\"color: #008000; text-decoration-color: #008000\">'newyorkercaptioncontest.text-to-image-acc@1'</span>,\n",
       "        <span style=\"color: #008000; text-decoration-color: #008000\">'newyorkercaptioncontest.image-to-text-acc@1'</span>,\n",
       "        <span style=\"color: #008000; text-decoration-color: #008000\">'newyorkercaptioncontest.image-to-text-acc@5'</span>,\n",
       "        <span style=\"color: #008000; text-decoration-color: #008000\">'pokemonblipcaptions.text-to-image-acc@5'</span>,\n",
       "        <span style=\"color: #008000; text-decoration-color: #008000\">'pokemonblipcaptions.text-to-image-acc@1'</span>,\n",
       "        <span style=\"color: #008000; text-decoration-color: #008000\">'pokemonblipcaptions.image-to-text-acc@1'</span>,\n",
       "        <span style=\"color: #008000; text-decoration-color: #008000\">'pokemonblipcaptions.image-to-text-acc@5'</span>,\n",
       "        <span style=\"color: #008000; text-decoration-color: #008000\">'winoground.image-to-text-acc@1'</span>,\n",
       "        <span style=\"color: #008000; text-decoration-color: #008000\">'winoground.text-to-image-acc@1'</span>\n",
       "    <span style=\"font-weight: bold\">]</span>,\n",
       "    <span style=\"color: #008000; text-decoration-color: #008000\">'Video Classification'</span>: <span style=\"font-weight: bold\">[</span>\n",
       "        <span style=\"color: #008000; text-decoration-color: #008000\">'kinetics.acc@5'</span>,\n",
       "        <span style=\"color: #008000; text-decoration-color: #008000\">'kinetics.acc@1'</span>,\n",
       "        <span style=\"color: #008000; text-decoration-color: #008000\">'hmdb51.acc@5'</span>,\n",
       "        <span style=\"color: #008000; text-decoration-color: #008000\">'hmdb51.acc@1'</span>,\n",
       "        <span style=\"color: #008000; text-decoration-color: #008000\">'ucf.acc@5'</span>,\n",
       "        <span style=\"color: #008000; text-decoration-color: #008000\">'ucf.acc@1'</span>\n",
       "    <span style=\"font-weight: bold\">]</span>,\n",
       "    <span style=\"color: #008000; text-decoration-color: #008000\">'Video Regression'</span>: <span style=\"font-weight: bold\">[</span><span style=\"color: #008000; text-decoration-color: #008000\">'iwildcam.mae'</span><span style=\"font-weight: bold\">]</span>\n",
       "<span style=\"font-weight: bold\">}</span>\n",
       "</pre>\n"
      ],
      "text/plain": [
       "\u001b[1m{\u001b[0m\n",
       "    \u001b[32m'Image Classification'\u001b[0m: \u001b[1m[\u001b[0m\n",
       "        \u001b[32m'cifar100.loss'\u001b[0m,\n",
       "        \u001b[32m'cifar100.acc@1'\u001b[0m,\n",
       "        \u001b[32m'cifar100.acc@5'\u001b[0m,\n",
       "        \u001b[32m'food101.loss'\u001b[0m,\n",
       "        \u001b[32m'food101.acc@5'\u001b[0m,\n",
       "        \u001b[32m'food101.acc@1'\u001b[0m,\n",
       "        \u001b[32m'imagenet1k.loss'\u001b[0m,\n",
       "        \u001b[32m'imagenet1k.acc@5'\u001b[0m,\n",
       "        \u001b[32m'imagenet1k.acc@1'\u001b[0m,\n",
       "        \u001b[32m'places365.loss'\u001b[0m,\n",
       "        \u001b[32m'places365.acc@5'\u001b[0m,\n",
       "        \u001b[32m'places365.acc@1'\u001b[0m\n",
       "    \u001b[1m]\u001b[0m,\n",
       "    \u001b[32m'Few Shot Image Classification'\u001b[0m: \u001b[1m[\u001b[0m\n",
       "        \u001b[32m'fungi.acc@1'\u001b[0m,\n",
       "        \u001b[32m'mini.acc@1'\u001b[0m,\n",
       "        \u001b[32m'omniglot.acc@1'\u001b[0m,\n",
       "        \u001b[32m'vgg.acc@1'\u001b[0m,\n",
       "        \u001b[32m'aircraft.acc@1'\u001b[0m,\n",
       "        \u001b[32m'dtextures.acc@1'\u001b[0m,\n",
       "        \u001b[32m'cubirds.acc@1'\u001b[0m\n",
       "    \u001b[1m]\u001b[0m,\n",
       "    \u001b[32m'Image Segmentation'\u001b[0m: \u001b[1m[\u001b[0m\n",
       "        \u001b[32m'ade20k.dice-loss'\u001b[0m,\n",
       "        \u001b[32m'ade20k.mIoU'\u001b[0m,\n",
       "        \u001b[32m'coco-10k.mIoU'\u001b[0m,\n",
       "        \u001b[32m'coco-10k.dice-loss'\u001b[0m,\n",
       "        \u001b[32m'coco-164k.mIoU'\u001b[0m,\n",
       "        \u001b[32m'coco-164k.dice-loss'\u001b[0m,\n",
       "        \u001b[32m'cityscapes.mIoU'\u001b[0m,\n",
       "        \u001b[32m'cityscapes.dice-loss'\u001b[0m,\n",
       "        \u001b[32m'nyu.mIoU'\u001b[0m,\n",
       "        \u001b[32m'nyu.dice-loss'\u001b[0m,\n",
       "        \u001b[32m'pascal.mIoU'\u001b[0m,\n",
       "        \u001b[32m'pascal.dice-loss'\u001b[0m\n",
       "    \u001b[1m]\u001b[0m,\n",
       "    \u001b[32m'Image Relational Reasoning'\u001b[0m: \u001b[1m[\u001b[0m\u001b[32m'clevr.acc@1'\u001b[0m, \u001b[32m'clevr-math.acc@5'\u001b[0m, \u001b[32m'clevr-math.acc@1'\u001b[0m\u001b[1m]\u001b[0m,\n",
       "    \u001b[32m'Medical Classification/Segmentation'\u001b[0m: \u001b[1m[\u001b[0m\u001b[32m'ham10k.auc'\u001b[0m, \u001b[32m'chexpert.auc'\u001b[0m, \u001b[32m'diabetic.auc'\u001b[0m, \u001b[32m'acdc.dice-loss'\u001b[0m\u001b[1m]\u001b[0m,\n",
       "    \u001b[32m'Image to Text Zero Shot Learning'\u001b[0m: \u001b[1m[\u001b[0m\n",
       "        \u001b[32m'flickr30k.text-to-image-acc@5'\u001b[0m,\n",
       "        \u001b[32m'flickr30k.text-to-image-acc@1'\u001b[0m,\n",
       "        \u001b[32m'flickr30k.image-to-text-acc@1'\u001b[0m,\n",
       "        \u001b[32m'flickr30k.image-to-text-acc@5'\u001b[0m,\n",
       "        \u001b[32m'newyorkercaptioncontest.text-to-image-acc@5'\u001b[0m,\n",
       "        \u001b[32m'newyorkercaptioncontest.text-to-image-acc@1'\u001b[0m,\n",
       "        \u001b[32m'newyorkercaptioncontest.image-to-text-acc@1'\u001b[0m,\n",
       "        \u001b[32m'newyorkercaptioncontest.image-to-text-acc@5'\u001b[0m,\n",
       "        \u001b[32m'pokemonblipcaptions.text-to-image-acc@5'\u001b[0m,\n",
       "        \u001b[32m'pokemonblipcaptions.text-to-image-acc@1'\u001b[0m,\n",
       "        \u001b[32m'pokemonblipcaptions.image-to-text-acc@1'\u001b[0m,\n",
       "        \u001b[32m'pokemonblipcaptions.image-to-text-acc@5'\u001b[0m,\n",
       "        \u001b[32m'winoground.image-to-text-acc@1'\u001b[0m,\n",
       "        \u001b[32m'winoground.text-to-image-acc@1'\u001b[0m\n",
       "    \u001b[1m]\u001b[0m,\n",
       "    \u001b[32m'Video Classification'\u001b[0m: \u001b[1m[\u001b[0m\n",
       "        \u001b[32m'kinetics.acc@5'\u001b[0m,\n",
       "        \u001b[32m'kinetics.acc@1'\u001b[0m,\n",
       "        \u001b[32m'hmdb51.acc@5'\u001b[0m,\n",
       "        \u001b[32m'hmdb51.acc@1'\u001b[0m,\n",
       "        \u001b[32m'ucf.acc@5'\u001b[0m,\n",
       "        \u001b[32m'ucf.acc@1'\u001b[0m\n",
       "    \u001b[1m]\u001b[0m,\n",
       "    \u001b[32m'Video Regression'\u001b[0m: \u001b[1m[\u001b[0m\u001b[32m'iwildcam.mae'\u001b[0m\u001b[1m]\u001b[0m\n",
       "\u001b[1m}\u001b[0m\n"
      ]
     },
     "metadata": {},
     "output_type": "display_data"
    },
    {
     "data": {
      "text/html": [
       "<pre style=\"white-space:pre;overflow-x:auto;line-height:normal;font-family:Menlo,'DejaVu Sans Mono',consolas,'Courier New',monospace\"><span style=\"font-weight: bold\">{</span>\n",
       "    <span style=\"color: #008000; text-decoration-color: #008000\">'cifar100.loss'</span>: <span style=\"color: #008080; text-decoration-color: #008080; font-weight: bold\">0.010416666666666666</span>,\n",
       "    <span style=\"color: #008000; text-decoration-color: #008000\">'cifar100.acc@1'</span>: <span style=\"color: #008080; text-decoration-color: #008080; font-weight: bold\">0.010416666666666666</span>,\n",
       "    <span style=\"color: #008000; text-decoration-color: #008000\">'cifar100.acc@5'</span>: <span style=\"color: #008080; text-decoration-color: #008080; font-weight: bold\">0.010416666666666666</span>,\n",
       "    <span style=\"color: #008000; text-decoration-color: #008000\">'food101.loss'</span>: <span style=\"color: #008080; text-decoration-color: #008080; font-weight: bold\">0.010416666666666666</span>,\n",
       "    <span style=\"color: #008000; text-decoration-color: #008000\">'food101.acc@5'</span>: <span style=\"color: #008080; text-decoration-color: #008080; font-weight: bold\">0.010416666666666666</span>,\n",
       "    <span style=\"color: #008000; text-decoration-color: #008000\">'food101.acc@1'</span>: <span style=\"color: #008080; text-decoration-color: #008080; font-weight: bold\">0.010416666666666666</span>,\n",
       "    <span style=\"color: #008000; text-decoration-color: #008000\">'imagenet1k.loss'</span>: <span style=\"color: #008080; text-decoration-color: #008080; font-weight: bold\">0.010416666666666666</span>,\n",
       "    <span style=\"color: #008000; text-decoration-color: #008000\">'imagenet1k.acc@5'</span>: <span style=\"color: #008080; text-decoration-color: #008080; font-weight: bold\">0.010416666666666666</span>,\n",
       "    <span style=\"color: #008000; text-decoration-color: #008000\">'imagenet1k.acc@1'</span>: <span style=\"color: #008080; text-decoration-color: #008080; font-weight: bold\">0.010416666666666666</span>,\n",
       "    <span style=\"color: #008000; text-decoration-color: #008000\">'places365.loss'</span>: <span style=\"color: #008080; text-decoration-color: #008080; font-weight: bold\">0.010416666666666666</span>,\n",
       "    <span style=\"color: #008000; text-decoration-color: #008000\">'places365.acc@5'</span>: <span style=\"color: #008080; text-decoration-color: #008080; font-weight: bold\">0.010416666666666666</span>,\n",
       "    <span style=\"color: #008000; text-decoration-color: #008000\">'places365.acc@1'</span>: <span style=\"color: #008080; text-decoration-color: #008080; font-weight: bold\">0.010416666666666666</span>,\n",
       "    <span style=\"color: #008000; text-decoration-color: #008000\">'fungi.acc@1'</span>: <span style=\"color: #008080; text-decoration-color: #008080; font-weight: bold\">0.017857142857142856</span>,\n",
       "    <span style=\"color: #008000; text-decoration-color: #008000\">'mini.acc@1'</span>: <span style=\"color: #008080; text-decoration-color: #008080; font-weight: bold\">0.017857142857142856</span>,\n",
       "    <span style=\"color: #008000; text-decoration-color: #008000\">'omniglot.acc@1'</span>: <span style=\"color: #008080; text-decoration-color: #008080; font-weight: bold\">0.017857142857142856</span>,\n",
       "    <span style=\"color: #008000; text-decoration-color: #008000\">'vgg.acc@1'</span>: <span style=\"color: #008080; text-decoration-color: #008080; font-weight: bold\">0.017857142857142856</span>,\n",
       "    <span style=\"color: #008000; text-decoration-color: #008000\">'aircraft.acc@1'</span>: <span style=\"color: #008080; text-decoration-color: #008080; font-weight: bold\">0.017857142857142856</span>,\n",
       "    <span style=\"color: #008000; text-decoration-color: #008000\">'dtextures.acc@1'</span>: <span style=\"color: #008080; text-decoration-color: #008080; font-weight: bold\">0.017857142857142856</span>,\n",
       "    <span style=\"color: #008000; text-decoration-color: #008000\">'cubirds.acc@1'</span>: <span style=\"color: #008080; text-decoration-color: #008080; font-weight: bold\">0.017857142857142856</span>,\n",
       "    <span style=\"color: #008000; text-decoration-color: #008000\">'ade20k.dice-loss'</span>: <span style=\"color: #008080; text-decoration-color: #008080; font-weight: bold\">0.010416666666666666</span>,\n",
       "    <span style=\"color: #008000; text-decoration-color: #008000\">'ade20k.mIoU'</span>: <span style=\"color: #008080; text-decoration-color: #008080; font-weight: bold\">0.010416666666666666</span>,\n",
       "    <span style=\"color: #008000; text-decoration-color: #008000\">'coco-10k.mIoU'</span>: <span style=\"color: #008080; text-decoration-color: #008080; font-weight: bold\">0.010416666666666666</span>,\n",
       "    <span style=\"color: #008000; text-decoration-color: #008000\">'coco-10k.dice-loss'</span>: <span style=\"color: #008080; text-decoration-color: #008080; font-weight: bold\">0.010416666666666666</span>,\n",
       "    <span style=\"color: #008000; text-decoration-color: #008000\">'coco-164k.mIoU'</span>: <span style=\"color: #008080; text-decoration-color: #008080; font-weight: bold\">0.010416666666666666</span>,\n",
       "    <span style=\"color: #008000; text-decoration-color: #008000\">'coco-164k.dice-loss'</span>: <span style=\"color: #008080; text-decoration-color: #008080; font-weight: bold\">0.010416666666666666</span>,\n",
       "    <span style=\"color: #008000; text-decoration-color: #008000\">'cityscapes.mIoU'</span>: <span style=\"color: #008080; text-decoration-color: #008080; font-weight: bold\">0.010416666666666666</span>,\n",
       "    <span style=\"color: #008000; text-decoration-color: #008000\">'cityscapes.dice-loss'</span>: <span style=\"color: #008080; text-decoration-color: #008080; font-weight: bold\">0.010416666666666666</span>,\n",
       "    <span style=\"color: #008000; text-decoration-color: #008000\">'nyu.mIoU'</span>: <span style=\"color: #008080; text-decoration-color: #008080; font-weight: bold\">0.010416666666666666</span>,\n",
       "    <span style=\"color: #008000; text-decoration-color: #008000\">'nyu.dice-loss'</span>: <span style=\"color: #008080; text-decoration-color: #008080; font-weight: bold\">0.010416666666666666</span>,\n",
       "    <span style=\"color: #008000; text-decoration-color: #008000\">'pascal.mIoU'</span>: <span style=\"color: #008080; text-decoration-color: #008080; font-weight: bold\">0.010416666666666666</span>,\n",
       "    <span style=\"color: #008000; text-decoration-color: #008000\">'pascal.dice-loss'</span>: <span style=\"color: #008080; text-decoration-color: #008080; font-weight: bold\">0.010416666666666666</span>,\n",
       "    <span style=\"color: #008000; text-decoration-color: #008000\">'clevr.acc@1'</span>: <span style=\"color: #008080; text-decoration-color: #008080; font-weight: bold\">0.041666666666666664</span>,\n",
       "    <span style=\"color: #008000; text-decoration-color: #008000\">'clevr-math.acc@5'</span>: <span style=\"color: #008080; text-decoration-color: #008080; font-weight: bold\">0.041666666666666664</span>,\n",
       "    <span style=\"color: #008000; text-decoration-color: #008000\">'clevr-math.acc@1'</span>: <span style=\"color: #008080; text-decoration-color: #008080; font-weight: bold\">0.041666666666666664</span>,\n",
       "    <span style=\"color: #008000; text-decoration-color: #008000\">'ham10k.auc'</span>: <span style=\"color: #008080; text-decoration-color: #008080; font-weight: bold\">0.03125</span>,\n",
       "    <span style=\"color: #008000; text-decoration-color: #008000\">'chexpert.auc'</span>: <span style=\"color: #008080; text-decoration-color: #008080; font-weight: bold\">0.03125</span>,\n",
       "    <span style=\"color: #008000; text-decoration-color: #008000\">'diabetic.auc'</span>: <span style=\"color: #008080; text-decoration-color: #008080; font-weight: bold\">0.03125</span>,\n",
       "    <span style=\"color: #008000; text-decoration-color: #008000\">'acdc.dice-loss'</span>: <span style=\"color: #008080; text-decoration-color: #008080; font-weight: bold\">0.03125</span>,\n",
       "    <span style=\"color: #008000; text-decoration-color: #008000\">'flickr30k.text-to-image-acc@5'</span>: <span style=\"color: #008080; text-decoration-color: #008080; font-weight: bold\">0.008928571428571428</span>,\n",
       "    <span style=\"color: #008000; text-decoration-color: #008000\">'flickr30k.text-to-image-acc@1'</span>: <span style=\"color: #008080; text-decoration-color: #008080; font-weight: bold\">0.008928571428571428</span>,\n",
       "    <span style=\"color: #008000; text-decoration-color: #008000\">'flickr30k.image-to-text-acc@1'</span>: <span style=\"color: #008080; text-decoration-color: #008080; font-weight: bold\">0.008928571428571428</span>,\n",
       "    <span style=\"color: #008000; text-decoration-color: #008000\">'flickr30k.image-to-text-acc@5'</span>: <span style=\"color: #008080; text-decoration-color: #008080; font-weight: bold\">0.008928571428571428</span>,\n",
       "    <span style=\"color: #008000; text-decoration-color: #008000\">'newyorkercaptioncontest.text-to-image-acc@5'</span>: <span style=\"color: #008080; text-decoration-color: #008080; font-weight: bold\">0.008928571428571428</span>,\n",
       "    <span style=\"color: #008000; text-decoration-color: #008000\">'newyorkercaptioncontest.text-to-image-acc@1'</span>: <span style=\"color: #008080; text-decoration-color: #008080; font-weight: bold\">0.008928571428571428</span>,\n",
       "    <span style=\"color: #008000; text-decoration-color: #008000\">'newyorkercaptioncontest.image-to-text-acc@1'</span>: <span style=\"color: #008080; text-decoration-color: #008080; font-weight: bold\">0.008928571428571428</span>,\n",
       "    <span style=\"color: #008000; text-decoration-color: #008000\">'newyorkercaptioncontest.image-to-text-acc@5'</span>: <span style=\"color: #008080; text-decoration-color: #008080; font-weight: bold\">0.008928571428571428</span>,\n",
       "    <span style=\"color: #008000; text-decoration-color: #008000\">'pokemonblipcaptions.text-to-image-acc@5'</span>: <span style=\"color: #008080; text-decoration-color: #008080; font-weight: bold\">0.008928571428571428</span>,\n",
       "    <span style=\"color: #008000; text-decoration-color: #008000\">'pokemonblipcaptions.text-to-image-acc@1'</span>: <span style=\"color: #008080; text-decoration-color: #008080; font-weight: bold\">0.008928571428571428</span>,\n",
       "    <span style=\"color: #008000; text-decoration-color: #008000\">'pokemonblipcaptions.image-to-text-acc@1'</span>: <span style=\"color: #008080; text-decoration-color: #008080; font-weight: bold\">0.008928571428571428</span>,\n",
       "    <span style=\"color: #008000; text-decoration-color: #008000\">'pokemonblipcaptions.image-to-text-acc@5'</span>: <span style=\"color: #008080; text-decoration-color: #008080; font-weight: bold\">0.008928571428571428</span>,\n",
       "    <span style=\"color: #008000; text-decoration-color: #008000\">'winoground.image-to-text-acc@1'</span>: <span style=\"color: #008080; text-decoration-color: #008080; font-weight: bold\">0.008928571428571428</span>,\n",
       "    <span style=\"color: #008000; text-decoration-color: #008000\">'winoground.text-to-image-acc@1'</span>: <span style=\"color: #008080; text-decoration-color: #008080; font-weight: bold\">0.008928571428571428</span>,\n",
       "    <span style=\"color: #008000; text-decoration-color: #008000\">'kinetics.acc@5'</span>: <span style=\"color: #008080; text-decoration-color: #008080; font-weight: bold\">0.020833333333333332</span>,\n",
       "    <span style=\"color: #008000; text-decoration-color: #008000\">'kinetics.acc@1'</span>: <span style=\"color: #008080; text-decoration-color: #008080; font-weight: bold\">0.020833333333333332</span>,\n",
       "    <span style=\"color: #008000; text-decoration-color: #008000\">'hmdb51.acc@5'</span>: <span style=\"color: #008080; text-decoration-color: #008080; font-weight: bold\">0.020833333333333332</span>,\n",
       "    <span style=\"color: #008000; text-decoration-color: #008000\">'hmdb51.acc@1'</span>: <span style=\"color: #008080; text-decoration-color: #008080; font-weight: bold\">0.020833333333333332</span>,\n",
       "    <span style=\"color: #008000; text-decoration-color: #008000\">'ucf.acc@5'</span>: <span style=\"color: #008080; text-decoration-color: #008080; font-weight: bold\">0.020833333333333332</span>,\n",
       "    <span style=\"color: #008000; text-decoration-color: #008000\">'ucf.acc@1'</span>: <span style=\"color: #008080; text-decoration-color: #008080; font-weight: bold\">0.020833333333333332</span>,\n",
       "    <span style=\"color: #008000; text-decoration-color: #008000\">'iwildcam.mae'</span>: <span style=\"color: #008080; text-decoration-color: #008080; font-weight: bold\">0.125</span>\n",
       "<span style=\"font-weight: bold\">}</span>\n",
       "</pre>\n"
      ],
      "text/plain": [
       "\u001b[1m{\u001b[0m\n",
       "    \u001b[32m'cifar100.loss'\u001b[0m: \u001b[1;36m0.010416666666666666\u001b[0m,\n",
       "    \u001b[32m'cifar100.acc@1'\u001b[0m: \u001b[1;36m0.010416666666666666\u001b[0m,\n",
       "    \u001b[32m'cifar100.acc@5'\u001b[0m: \u001b[1;36m0.010416666666666666\u001b[0m,\n",
       "    \u001b[32m'food101.loss'\u001b[0m: \u001b[1;36m0.010416666666666666\u001b[0m,\n",
       "    \u001b[32m'food101.acc@5'\u001b[0m: \u001b[1;36m0.010416666666666666\u001b[0m,\n",
       "    \u001b[32m'food101.acc@1'\u001b[0m: \u001b[1;36m0.010416666666666666\u001b[0m,\n",
       "    \u001b[32m'imagenet1k.loss'\u001b[0m: \u001b[1;36m0.010416666666666666\u001b[0m,\n",
       "    \u001b[32m'imagenet1k.acc@5'\u001b[0m: \u001b[1;36m0.010416666666666666\u001b[0m,\n",
       "    \u001b[32m'imagenet1k.acc@1'\u001b[0m: \u001b[1;36m0.010416666666666666\u001b[0m,\n",
       "    \u001b[32m'places365.loss'\u001b[0m: \u001b[1;36m0.010416666666666666\u001b[0m,\n",
       "    \u001b[32m'places365.acc@5'\u001b[0m: \u001b[1;36m0.010416666666666666\u001b[0m,\n",
       "    \u001b[32m'places365.acc@1'\u001b[0m: \u001b[1;36m0.010416666666666666\u001b[0m,\n",
       "    \u001b[32m'fungi.acc@1'\u001b[0m: \u001b[1;36m0.017857142857142856\u001b[0m,\n",
       "    \u001b[32m'mini.acc@1'\u001b[0m: \u001b[1;36m0.017857142857142856\u001b[0m,\n",
       "    \u001b[32m'omniglot.acc@1'\u001b[0m: \u001b[1;36m0.017857142857142856\u001b[0m,\n",
       "    \u001b[32m'vgg.acc@1'\u001b[0m: \u001b[1;36m0.017857142857142856\u001b[0m,\n",
       "    \u001b[32m'aircraft.acc@1'\u001b[0m: \u001b[1;36m0.017857142857142856\u001b[0m,\n",
       "    \u001b[32m'dtextures.acc@1'\u001b[0m: \u001b[1;36m0.017857142857142856\u001b[0m,\n",
       "    \u001b[32m'cubirds.acc@1'\u001b[0m: \u001b[1;36m0.017857142857142856\u001b[0m,\n",
       "    \u001b[32m'ade20k.dice-loss'\u001b[0m: \u001b[1;36m0.010416666666666666\u001b[0m,\n",
       "    \u001b[32m'ade20k.mIoU'\u001b[0m: \u001b[1;36m0.010416666666666666\u001b[0m,\n",
       "    \u001b[32m'coco-10k.mIoU'\u001b[0m: \u001b[1;36m0.010416666666666666\u001b[0m,\n",
       "    \u001b[32m'coco-10k.dice-loss'\u001b[0m: \u001b[1;36m0.010416666666666666\u001b[0m,\n",
       "    \u001b[32m'coco-164k.mIoU'\u001b[0m: \u001b[1;36m0.010416666666666666\u001b[0m,\n",
       "    \u001b[32m'coco-164k.dice-loss'\u001b[0m: \u001b[1;36m0.010416666666666666\u001b[0m,\n",
       "    \u001b[32m'cityscapes.mIoU'\u001b[0m: \u001b[1;36m0.010416666666666666\u001b[0m,\n",
       "    \u001b[32m'cityscapes.dice-loss'\u001b[0m: \u001b[1;36m0.010416666666666666\u001b[0m,\n",
       "    \u001b[32m'nyu.mIoU'\u001b[0m: \u001b[1;36m0.010416666666666666\u001b[0m,\n",
       "    \u001b[32m'nyu.dice-loss'\u001b[0m: \u001b[1;36m0.010416666666666666\u001b[0m,\n",
       "    \u001b[32m'pascal.mIoU'\u001b[0m: \u001b[1;36m0.010416666666666666\u001b[0m,\n",
       "    \u001b[32m'pascal.dice-loss'\u001b[0m: \u001b[1;36m0.010416666666666666\u001b[0m,\n",
       "    \u001b[32m'clevr.acc@1'\u001b[0m: \u001b[1;36m0.041666666666666664\u001b[0m,\n",
       "    \u001b[32m'clevr-math.acc@5'\u001b[0m: \u001b[1;36m0.041666666666666664\u001b[0m,\n",
       "    \u001b[32m'clevr-math.acc@1'\u001b[0m: \u001b[1;36m0.041666666666666664\u001b[0m,\n",
       "    \u001b[32m'ham10k.auc'\u001b[0m: \u001b[1;36m0.03125\u001b[0m,\n",
       "    \u001b[32m'chexpert.auc'\u001b[0m: \u001b[1;36m0.03125\u001b[0m,\n",
       "    \u001b[32m'diabetic.auc'\u001b[0m: \u001b[1;36m0.03125\u001b[0m,\n",
       "    \u001b[32m'acdc.dice-loss'\u001b[0m: \u001b[1;36m0.03125\u001b[0m,\n",
       "    \u001b[32m'flickr30k.text-to-image-acc@5'\u001b[0m: \u001b[1;36m0.008928571428571428\u001b[0m,\n",
       "    \u001b[32m'flickr30k.text-to-image-acc@1'\u001b[0m: \u001b[1;36m0.008928571428571428\u001b[0m,\n",
       "    \u001b[32m'flickr30k.image-to-text-acc@1'\u001b[0m: \u001b[1;36m0.008928571428571428\u001b[0m,\n",
       "    \u001b[32m'flickr30k.image-to-text-acc@5'\u001b[0m: \u001b[1;36m0.008928571428571428\u001b[0m,\n",
       "    \u001b[32m'newyorkercaptioncontest.text-to-image-acc@5'\u001b[0m: \u001b[1;36m0.008928571428571428\u001b[0m,\n",
       "    \u001b[32m'newyorkercaptioncontest.text-to-image-acc@1'\u001b[0m: \u001b[1;36m0.008928571428571428\u001b[0m,\n",
       "    \u001b[32m'newyorkercaptioncontest.image-to-text-acc@1'\u001b[0m: \u001b[1;36m0.008928571428571428\u001b[0m,\n",
       "    \u001b[32m'newyorkercaptioncontest.image-to-text-acc@5'\u001b[0m: \u001b[1;36m0.008928571428571428\u001b[0m,\n",
       "    \u001b[32m'pokemonblipcaptions.text-to-image-acc@5'\u001b[0m: \u001b[1;36m0.008928571428571428\u001b[0m,\n",
       "    \u001b[32m'pokemonblipcaptions.text-to-image-acc@1'\u001b[0m: \u001b[1;36m0.008928571428571428\u001b[0m,\n",
       "    \u001b[32m'pokemonblipcaptions.image-to-text-acc@1'\u001b[0m: \u001b[1;36m0.008928571428571428\u001b[0m,\n",
       "    \u001b[32m'pokemonblipcaptions.image-to-text-acc@5'\u001b[0m: \u001b[1;36m0.008928571428571428\u001b[0m,\n",
       "    \u001b[32m'winoground.image-to-text-acc@1'\u001b[0m: \u001b[1;36m0.008928571428571428\u001b[0m,\n",
       "    \u001b[32m'winoground.text-to-image-acc@1'\u001b[0m: \u001b[1;36m0.008928571428571428\u001b[0m,\n",
       "    \u001b[32m'kinetics.acc@5'\u001b[0m: \u001b[1;36m0.020833333333333332\u001b[0m,\n",
       "    \u001b[32m'kinetics.acc@1'\u001b[0m: \u001b[1;36m0.020833333333333332\u001b[0m,\n",
       "    \u001b[32m'hmdb51.acc@5'\u001b[0m: \u001b[1;36m0.020833333333333332\u001b[0m,\n",
       "    \u001b[32m'hmdb51.acc@1'\u001b[0m: \u001b[1;36m0.020833333333333332\u001b[0m,\n",
       "    \u001b[32m'ucf.acc@5'\u001b[0m: \u001b[1;36m0.020833333333333332\u001b[0m,\n",
       "    \u001b[32m'ucf.acc@1'\u001b[0m: \u001b[1;36m0.020833333333333332\u001b[0m,\n",
       "    \u001b[32m'iwildcam.mae'\u001b[0m: \u001b[1;36m0.125\u001b[0m\n",
       "\u001b[1m}\u001b[0m\n"
      ]
     },
     "metadata": {},
     "output_type": "display_data"
    },
    {
     "data": {
      "text/html": [
       "<pre style=\"white-space:pre;overflow-x:auto;line-height:normal;font-family:Menlo,'DejaVu Sans Mono',consolas,'Courier New',monospace\">Sum of weights: <span style=\"color: #008080; text-decoration-color: #008080; font-weight: bold\">1.0</span>\n",
       "</pre>\n"
      ],
      "text/plain": [
       "Sum of weights: \u001b[1;36m1.0\u001b[0m\n"
      ]
     },
     "metadata": {},
     "output_type": "display_data"
    }
   ],
   "source": [
    "import yaml\n",
    "\n",
    "\n",
    "task_to_dataset = yaml.safe_load(open(\"task_mapping.yaml\"))\n",
    "task_to_dataset = {k: [d for d in v if d in df.columns] for k, v in task_to_dataset.items()}\n",
    "dataset_to_weight = {}\n",
    "for task_name, task_datasets in task_to_dataset.items():\n",
    "    for dataset in task_datasets:\n",
    "        dataset_to_weight[dataset] = 1. / len(task_datasets) / len(task_to_dataset)\n",
    "print(task_to_dataset)\n",
    "print(dataset_to_weight)\n",
    "print(f\"Sum of weights: {sum(dataset_to_weight.values())}\")"
   ]
  },
  {
   "cell_type": "code",
   "execution_count": 1555,
   "metadata": {},
   "outputs": [
    {
     "data": {
      "text/html": [
       "<pre style=\"white-space:pre;overflow-x:auto;line-height:normal;font-family:Menlo,'DejaVu Sans Mono',consolas,'Courier New',monospace\"><span style=\"font-weight: bold\">{</span>\n",
       "    <span style=\"color: #008000; text-decoration-color: #008000\">'cifar100.loss'</span>: <span style=\"color: #008080; text-decoration-color: #008080; font-weight: bold\">0.023809523809523805</span>,\n",
       "    <span style=\"color: #008000; text-decoration-color: #008000\">'cifar100.acc@1'</span>: <span style=\"color: #008080; text-decoration-color: #008080; font-weight: bold\">0.023809523809523805</span>,\n",
       "    <span style=\"color: #008000; text-decoration-color: #008000\">'cifar100.acc@5'</span>: <span style=\"color: #008080; text-decoration-color: #008080; font-weight: bold\">0.023809523809523805</span>,\n",
       "    <span style=\"color: #008000; text-decoration-color: #008000\">'imagenet1k.loss'</span>: <span style=\"color: #008080; text-decoration-color: #008080; font-weight: bold\">0.023809523809523805</span>,\n",
       "    <span style=\"color: #008000; text-decoration-color: #008000\">'imagenet1k.acc@5'</span>: <span style=\"color: #008080; text-decoration-color: #008080; font-weight: bold\">0.023809523809523805</span>,\n",
       "    <span style=\"color: #008000; text-decoration-color: #008000\">'imagenet1k.acc@1'</span>: <span style=\"color: #008080; text-decoration-color: #008080; font-weight: bold\">0.023809523809523805</span>,\n",
       "    <span style=\"color: #008000; text-decoration-color: #008000\">'fungi.acc@1'</span>: <span style=\"color: #008080; text-decoration-color: #008080; font-weight: bold\">0.040816326530612235</span>,\n",
       "    <span style=\"color: #008000; text-decoration-color: #008000\">'vgg.acc@1'</span>: <span style=\"color: #008080; text-decoration-color: #008080; font-weight: bold\">0.040816326530612235</span>,\n",
       "    <span style=\"color: #008000; text-decoration-color: #008000\">'aircraft.acc@1'</span>: <span style=\"color: #008080; text-decoration-color: #008080; font-weight: bold\">0.040816326530612235</span>,\n",
       "    <span style=\"color: #008000; text-decoration-color: #008000\">'cubirds.acc@1'</span>: <span style=\"color: #008080; text-decoration-color: #008080; font-weight: bold\">0.040816326530612235</span>,\n",
       "    <span style=\"color: #008000; text-decoration-color: #008000\">'coco-10k.mIoU'</span>: <span style=\"color: #008080; text-decoration-color: #008080; font-weight: bold\">0.023809523809523805</span>,\n",
       "    <span style=\"color: #008000; text-decoration-color: #008000\">'coco-10k.dice-loss'</span>: <span style=\"color: #008080; text-decoration-color: #008080; font-weight: bold\">0.023809523809523805</span>,\n",
       "    <span style=\"color: #008000; text-decoration-color: #008000\">'clevr.acc@1'</span>: <span style=\"color: #008080; text-decoration-color: #008080; font-weight: bold\">0.09523809523809522</span>,\n",
       "    <span style=\"color: #008000; text-decoration-color: #008000\">'clevr-math.acc@5'</span>: <span style=\"color: #008080; text-decoration-color: #008080; font-weight: bold\">0.09523809523809522</span>,\n",
       "    <span style=\"color: #008000; text-decoration-color: #008000\">'clevr-math.acc@1'</span>: <span style=\"color: #008080; text-decoration-color: #008080; font-weight: bold\">0.09523809523809522</span>,\n",
       "    <span style=\"color: #008000; text-decoration-color: #008000\">'ham10k.auc'</span>: <span style=\"color: #008080; text-decoration-color: #008080; font-weight: bold\">0.07142857142857142</span>,\n",
       "    <span style=\"color: #008000; text-decoration-color: #008000\">'chexpert.auc'</span>: <span style=\"color: #008080; text-decoration-color: #008080; font-weight: bold\">0.07142857142857142</span>,\n",
       "    <span style=\"color: #008000; text-decoration-color: #008000\">'pokemonblipcaptions.text-to-image-acc@5'</span>: <span style=\"color: #008080; text-decoration-color: #008080; font-weight: bold\">0.020408163265306117</span>,\n",
       "    <span style=\"color: #008000; text-decoration-color: #008000\">'pokemonblipcaptions.text-to-image-acc@1'</span>: <span style=\"color: #008080; text-decoration-color: #008080; font-weight: bold\">0.020408163265306117</span>,\n",
       "    <span style=\"color: #008000; text-decoration-color: #008000\">'pokemonblipcaptions.image-to-text-acc@1'</span>: <span style=\"color: #008080; text-decoration-color: #008080; font-weight: bold\">0.020408163265306117</span>,\n",
       "    <span style=\"color: #008000; text-decoration-color: #008000\">'pokemonblipcaptions.image-to-text-acc@5'</span>: <span style=\"color: #008080; text-decoration-color: #008080; font-weight: bold\">0.020408163265306117</span>,\n",
       "    <span style=\"color: #008000; text-decoration-color: #008000\">'winoground.image-to-text-acc@1'</span>: <span style=\"color: #008080; text-decoration-color: #008080; font-weight: bold\">0.020408163265306117</span>,\n",
       "    <span style=\"color: #008000; text-decoration-color: #008000\">'winoground.text-to-image-acc@1'</span>: <span style=\"color: #008080; text-decoration-color: #008080; font-weight: bold\">0.020408163265306117</span>,\n",
       "    <span style=\"color: #008000; text-decoration-color: #008000\">'ucf.acc@5'</span>: <span style=\"color: #008080; text-decoration-color: #008080; font-weight: bold\">0.04761904761904761</span>,\n",
       "    <span style=\"color: #008000; text-decoration-color: #008000\">'ucf.acc@1'</span>: <span style=\"color: #008080; text-decoration-color: #008080; font-weight: bold\">0.04761904761904761</span>\n",
       "<span style=\"font-weight: bold\">}</span>\n",
       "</pre>\n"
      ],
      "text/plain": [
       "\u001b[1m{\u001b[0m\n",
       "    \u001b[32m'cifar100.loss'\u001b[0m: \u001b[1;36m0.023809523809523805\u001b[0m,\n",
       "    \u001b[32m'cifar100.acc@1'\u001b[0m: \u001b[1;36m0.023809523809523805\u001b[0m,\n",
       "    \u001b[32m'cifar100.acc@5'\u001b[0m: \u001b[1;36m0.023809523809523805\u001b[0m,\n",
       "    \u001b[32m'imagenet1k.loss'\u001b[0m: \u001b[1;36m0.023809523809523805\u001b[0m,\n",
       "    \u001b[32m'imagenet1k.acc@5'\u001b[0m: \u001b[1;36m0.023809523809523805\u001b[0m,\n",
       "    \u001b[32m'imagenet1k.acc@1'\u001b[0m: \u001b[1;36m0.023809523809523805\u001b[0m,\n",
       "    \u001b[32m'fungi.acc@1'\u001b[0m: \u001b[1;36m0.040816326530612235\u001b[0m,\n",
       "    \u001b[32m'vgg.acc@1'\u001b[0m: \u001b[1;36m0.040816326530612235\u001b[0m,\n",
       "    \u001b[32m'aircraft.acc@1'\u001b[0m: \u001b[1;36m0.040816326530612235\u001b[0m,\n",
       "    \u001b[32m'cubirds.acc@1'\u001b[0m: \u001b[1;36m0.040816326530612235\u001b[0m,\n",
       "    \u001b[32m'coco-10k.mIoU'\u001b[0m: \u001b[1;36m0.023809523809523805\u001b[0m,\n",
       "    \u001b[32m'coco-10k.dice-loss'\u001b[0m: \u001b[1;36m0.023809523809523805\u001b[0m,\n",
       "    \u001b[32m'clevr.acc@1'\u001b[0m: \u001b[1;36m0.09523809523809522\u001b[0m,\n",
       "    \u001b[32m'clevr-math.acc@5'\u001b[0m: \u001b[1;36m0.09523809523809522\u001b[0m,\n",
       "    \u001b[32m'clevr-math.acc@1'\u001b[0m: \u001b[1;36m0.09523809523809522\u001b[0m,\n",
       "    \u001b[32m'ham10k.auc'\u001b[0m: \u001b[1;36m0.07142857142857142\u001b[0m,\n",
       "    \u001b[32m'chexpert.auc'\u001b[0m: \u001b[1;36m0.07142857142857142\u001b[0m,\n",
       "    \u001b[32m'pokemonblipcaptions.text-to-image-acc@5'\u001b[0m: \u001b[1;36m0.020408163265306117\u001b[0m,\n",
       "    \u001b[32m'pokemonblipcaptions.text-to-image-acc@1'\u001b[0m: \u001b[1;36m0.020408163265306117\u001b[0m,\n",
       "    \u001b[32m'pokemonblipcaptions.image-to-text-acc@1'\u001b[0m: \u001b[1;36m0.020408163265306117\u001b[0m,\n",
       "    \u001b[32m'pokemonblipcaptions.image-to-text-acc@5'\u001b[0m: \u001b[1;36m0.020408163265306117\u001b[0m,\n",
       "    \u001b[32m'winoground.image-to-text-acc@1'\u001b[0m: \u001b[1;36m0.020408163265306117\u001b[0m,\n",
       "    \u001b[32m'winoground.text-to-image-acc@1'\u001b[0m: \u001b[1;36m0.020408163265306117\u001b[0m,\n",
       "    \u001b[32m'ucf.acc@5'\u001b[0m: \u001b[1;36m0.04761904761904761\u001b[0m,\n",
       "    \u001b[32m'ucf.acc@1'\u001b[0m: \u001b[1;36m0.04761904761904761\u001b[0m\n",
       "\u001b[1m}\u001b[0m\n"
      ]
     },
     "metadata": {},
     "output_type": "display_data"
    },
    {
     "data": {
      "text/html": [
       "<pre style=\"white-space:pre;overflow-x:auto;line-height:normal;font-family:Menlo,'DejaVu Sans Mono',consolas,'Courier New',monospace\">sum of weights: <span style=\"color: #008080; text-decoration-color: #008080; font-weight: bold\">0.9999999999999998</span>\n",
       "</pre>\n"
      ],
      "text/plain": [
       "sum of weights: \u001b[1;36m0.9999999999999998\u001b[0m\n"
      ]
     },
     "metadata": {},
     "output_type": "display_data"
    }
   ],
   "source": [
    "from re import sub\n",
    "import yaml\n",
    "\n",
    "\n",
    "sub_gate_metrics = [col for col in df.columns if any(term in col for term in sub_gate_columns)]\n",
    "\n",
    "task_to_dataset = yaml.safe_load(open(\"task_mapping.yaml\"))\n",
    "reverse_task_to_dataset = {d: k for k, v in task_to_dataset.items() for d in v}\n",
    "sub_gate_dataset_to_weight = {}\n",
    "\n",
    "for dataset in sub_gate_metrics:\n",
    "    if \"rank\" not in dataset:\n",
    "        sub_gate_dataset_to_weight[dataset] = 1. / len(task_to_dataset[reverse_task_to_dataset[dataset]])\n",
    "\n",
    "# normalize the weights\n",
    "sub_gate_dataset_to_weight = {k: v / sum(sub_gate_dataset_to_weight.values()) for k, v in sub_gate_dataset_to_weight.items()}\n",
    "\n",
    "print(sub_gate_dataset_to_weight)\n",
    "print(f\"sum of weights: {sum(sub_gate_dataset_to_weight.values())}\")"
   ]
  },
  {
   "cell_type": "code",
   "execution_count": 1556,
   "metadata": {},
   "outputs": [],
   "source": [
    "from typing import Dict, List, Optional\n",
    "import pandas as pd\n",
    "\n",
    "def calculate_means(df, terms: Optional[List], prefix: Optional[str] = None, term_weight: Optional[Dict[str, float]] = None):\n",
    "    # Find the metrics that contain any of the terms\n",
    "    if not terms:\n",
    "        included_metrics = df.columns[1:]\n",
    "    else:\n",
    "        included_metrics = [col for col in df.columns if any(term in col for term in terms)]\n",
    "\n",
    "    # Separate the metrics into \"lower is better\" and \"higher is better\"\n",
    "    # lower_is_better_metrics = [col for col in included_metrics if 'loss' in col or 'mae' in col]\n",
    "    higher_is_better_metrics = list(set(included_metrics))\n",
    "    # print(lower_is_better_metrics)\n",
    "    # print(higher_is_better_metrics)\n",
    "    \n",
    "    # Convert fractional values to percentages in the higher_is_better_metrics, if necessary\n",
    "    for col in higher_is_better_metrics:\n",
    "        if df[col].max() < 1:  # Check if the column is in a fractional format\n",
    "            df[col] = df[col] * 100  # Convert to percentage format\n",
    "    \n",
    "    if prefix is None:\n",
    "        prefix = 'Mean'\n",
    "    \n",
    "    # Calculate the weighted sum for lower and higher is better metrics\n",
    "    if term_weight is not None:\n",
    "        # df[f\"{prefix} (Weighted Lower is better)\"] = df[lower_is_better_metrics].apply(lambda row: sum(row[col] * term_weight.get(col, 1) for col in lower_is_better_metrics), axis=1)\n",
    "        df[f\"{prefix} (Weighted Higher is better)\"] = df[higher_is_better_metrics].apply(lambda row: sum(row[col] * term_weight.get(col, 1) for col in higher_is_better_metrics), axis=1)\n",
    "    else:\n",
    "        # df[f\"{prefix} (Weighted Lower is better)\"] = df[lower_is_better_metrics].mean(axis=1)\n",
    "        df[f\"{prefix} (Weighted Higher is better)\"] = df[higher_is_better_metrics].mean(axis=1)\n",
    "    \n",
    "    # df[f'{prefix} (Lower is better)'] = df[lower_is_better_metrics].mean(axis=1)\n",
    "    # df[f'{prefix} (Higher is better)'] = df[higher_is_better_metrics].mean(axis=1)\n",
    "\n",
    "    return df\n"
   ]
  },
  {
   "cell_type": "code",
   "execution_count": 1557,
   "metadata": {},
   "outputs": [],
   "source": [
    "df = calculate_means(df, None, 'GATE', term_weight=dataset_to_weight)\n",
    "df = calculate_means(df, sub_gate_columns, 'devGATE', term_weight=sub_gate_dataset_to_weight)"
   ]
  },
  {
   "cell_type": "code",
   "execution_count": 1558,
   "metadata": {},
   "outputs": [
    {
     "data": {
      "text/html": [
       "<div>\n",
       "<style scoped>\n",
       "    .dataframe tbody tr th:only-of-type {\n",
       "        vertical-align: middle;\n",
       "    }\n",
       "\n",
       "    .dataframe tbody tr th {\n",
       "        vertical-align: top;\n",
       "    }\n",
       "\n",
       "    .dataframe thead th {\n",
       "        text-align: right;\n",
       "    }\n",
       "</style>\n",
       "<table border=\"1\" class=\"dataframe\">\n",
       "  <thead>\n",
       "    <tr style=\"text-align: right;\">\n",
       "      <th></th>\n",
       "      <th>Model.Metric</th>\n",
       "      <th>cifar100.loss</th>\n",
       "      <th>cifar100.acc@1</th>\n",
       "      <th>cifar100.acc@5</th>\n",
       "      <th>food101.loss</th>\n",
       "      <th>food101.acc@5</th>\n",
       "      <th>food101.acc@1</th>\n",
       "      <th>imagenet1k.loss</th>\n",
       "      <th>imagenet1k.acc@5</th>\n",
       "      <th>imagenet1k.acc@1</th>\n",
       "      <th>places365.loss</th>\n",
       "      <th>places365.acc@5</th>\n",
       "      <th>places365.acc@1</th>\n",
       "      <th>fungi.acc@1</th>\n",
       "      <th>mini.acc@1</th>\n",
       "      <th>omniglot.acc@1</th>\n",
       "      <th>vgg.acc@1</th>\n",
       "      <th>aircraft.acc@1</th>\n",
       "      <th>dtextures.acc@1</th>\n",
       "      <th>cubirds.acc@1</th>\n",
       "      <th>ade20k.dice-loss</th>\n",
       "      <th>ade20k.mIoU</th>\n",
       "      <th>coco-10k.mIoU</th>\n",
       "      <th>coco-10k.dice-loss</th>\n",
       "      <th>coco-164k.mIoU</th>\n",
       "      <th>coco-164k.dice-loss</th>\n",
       "      <th>cityscapes.mIoU</th>\n",
       "      <th>cityscapes.dice-loss</th>\n",
       "      <th>nyu.mIoU</th>\n",
       "      <th>nyu.dice-loss</th>\n",
       "      <th>pascal.mIoU</th>\n",
       "      <th>pascal.dice-loss</th>\n",
       "      <th>clevr.acc@1</th>\n",
       "      <th>clevr-math.acc@5</th>\n",
       "      <th>clevr-math.acc@1</th>\n",
       "      <th>ham10k.auc</th>\n",
       "      <th>chexpert.auc</th>\n",
       "      <th>diabetic.auc</th>\n",
       "      <th>acdc.dice-loss</th>\n",
       "      <th>flickr30k.text-to-image-acc@5</th>\n",
       "      <th>flickr30k.text-to-image-acc@1</th>\n",
       "      <th>flickr30k.image-to-text-acc@1</th>\n",
       "      <th>flickr30k.image-to-text-acc@5</th>\n",
       "      <th>newyorkercaptioncontest.text-to-image-acc@5</th>\n",
       "      <th>newyorkercaptioncontest.text-to-image-acc@1</th>\n",
       "      <th>newyorkercaptioncontest.image-to-text-acc@1</th>\n",
       "      <th>newyorkercaptioncontest.image-to-text-acc@5</th>\n",
       "      <th>pokemonblipcaptions.text-to-image-acc@5</th>\n",
       "      <th>pokemonblipcaptions.text-to-image-acc@1</th>\n",
       "      <th>pokemonblipcaptions.image-to-text-acc@1</th>\n",
       "      <th>pokemonblipcaptions.image-to-text-acc@5</th>\n",
       "      <th>winoground.image-to-text-acc@1</th>\n",
       "      <th>winoground.text-to-image-acc@1</th>\n",
       "      <th>kinetics.acc@5</th>\n",
       "      <th>kinetics.acc@1</th>\n",
       "      <th>hmdb51.acc@5</th>\n",
       "      <th>hmdb51.acc@1</th>\n",
       "      <th>ucf.acc@5</th>\n",
       "      <th>ucf.acc@1</th>\n",
       "      <th>iwildcam.mae</th>\n",
       "      <th>Image Classification</th>\n",
       "      <th>Few Shot Image Classification</th>\n",
       "      <th>Image Segmentation</th>\n",
       "      <th>Image Relational Reasoning</th>\n",
       "      <th>Medical Classification/Segmentation</th>\n",
       "      <th>Image to Text Zero Shot Learning</th>\n",
       "      <th>Video Classification</th>\n",
       "      <th>Video Regression</th>\n",
       "      <th>GATE (Weighted Higher is better)</th>\n",
       "      <th>devGATE (Weighted Higher is better)</th>\n",
       "      <th>imagenet1k.acc@1 rank</th>\n",
       "      <th>imagenet1k.acc@5 rank</th>\n",
       "      <th>devGATE (Weighted Higher is better rank)</th>\n",
       "      <th>GATE (Weighted Higher is better rank)</th>\n",
       "    </tr>\n",
       "  </thead>\n",
       "  <tbody>\n",
       "    <tr>\n",
       "      <th>0</th>\n",
       "      <td>AR-ViT-B16-224</td>\n",
       "      <td>76.628571</td>\n",
       "      <td>55.742</td>\n",
       "      <td>83.629</td>\n",
       "      <td>91.685714</td>\n",
       "      <td>96.630</td>\n",
       "      <td>83.834</td>\n",
       "      <td>86.185714</td>\n",
       "      <td>93.007</td>\n",
       "      <td>78.199</td>\n",
       "      <td>70.542857</td>\n",
       "      <td>78.706</td>\n",
       "      <td>46.641</td>\n",
       "      <td>77.5</td>\n",
       "      <td>98.7</td>\n",
       "      <td>98.6</td>\n",
       "      <td>95.5</td>\n",
       "      <td>94.4</td>\n",
       "      <td>79.9</td>\n",
       "      <td>94.4</td>\n",
       "      <td>22.3</td>\n",
       "      <td>17.353</td>\n",
       "      <td>22.783</td>\n",
       "      <td>2.7</td>\n",
       "      <td>21.321</td>\n",
       "      <td>3.0</td>\n",
       "      <td>57.848</td>\n",
       "      <td>35.19</td>\n",
       "      <td>8.345</td>\n",
       "      <td>72.9</td>\n",
       "      <td>15.460</td>\n",
       "      <td>21.9</td>\n",
       "      <td>52.828</td>\n",
       "      <td>98.850</td>\n",
       "      <td>58.849</td>\n",
       "      <td>98.5</td>\n",
       "      <td>81.3</td>\n",
       "      <td>83.9</td>\n",
       "      <td>42.9</td>\n",
       "      <td>18.8</td>\n",
       "      <td>5.3</td>\n",
       "      <td>5.5</td>\n",
       "      <td>18.7</td>\n",
       "      <td>19.5</td>\n",
       "      <td>5.2</td>\n",
       "      <td>5.4</td>\n",
       "      <td>18.7</td>\n",
       "      <td>82.1</td>\n",
       "      <td>64.0</td>\n",
       "      <td>62.8</td>\n",
       "      <td>79.4</td>\n",
       "      <td>61.1</td>\n",
       "      <td>56.9</td>\n",
       "      <td>63.288</td>\n",
       "      <td>36.718</td>\n",
       "      <td>57.917</td>\n",
       "      <td>28.385</td>\n",
       "      <td>84.369</td>\n",
       "      <td>65.374</td>\n",
       "      <td>41.528571</td>\n",
       "      <td>78.452571</td>\n",
       "      <td>91.285714</td>\n",
       "      <td>25.091667</td>\n",
       "      <td>70.175667</td>\n",
       "      <td>76.650</td>\n",
       "      <td>35.957143</td>\n",
       "      <td>56.008500</td>\n",
       "      <td>41.528571</td>\n",
       "      <td>534.543562</td>\n",
       "      <td>74.960810</td>\n",
       "      <td>5.0</td>\n",
       "      <td>8.0</td>\n",
       "      <td>7.0</td>\n",
       "      <td>7.0</td>\n",
       "    </tr>\n",
       "    <tr>\n",
       "      <th>1</th>\n",
       "      <td>BART</td>\n",
       "      <td>43.071429</td>\n",
       "      <td>8.967</td>\n",
       "      <td>29.170</td>\n",
       "      <td>44.442857</td>\n",
       "      <td>31.844</td>\n",
       "      <td>11.504</td>\n",
       "      <td>5.400000</td>\n",
       "      <td>3.107</td>\n",
       "      <td>0.713</td>\n",
       "      <td>25.028571</td>\n",
       "      <td>11.058</td>\n",
       "      <td>2.953</td>\n",
       "      <td>33.7</td>\n",
       "      <td>37.3</td>\n",
       "      <td>84.1</td>\n",
       "      <td>59.4</td>\n",
       "      <td>53.0</td>\n",
       "      <td>35.4</td>\n",
       "      <td>50.3</td>\n",
       "      <td>33.2</td>\n",
       "      <td>0.380</td>\n",
       "      <td>0.056</td>\n",
       "      <td>4.1</td>\n",
       "      <td>0.110</td>\n",
       "      <td>3.5</td>\n",
       "      <td>0.000</td>\n",
       "      <td>0.00</td>\n",
       "      <td>4.893</td>\n",
       "      <td>76.0</td>\n",
       "      <td>1.002</td>\n",
       "      <td>44.4</td>\n",
       "      <td>42.563</td>\n",
       "      <td>96.450</td>\n",
       "      <td>41.761</td>\n",
       "      <td>85.9</td>\n",
       "      <td>63.7</td>\n",
       "      <td>55.1</td>\n",
       "      <td>25.3</td>\n",
       "      <td>7.9</td>\n",
       "      <td>1.6</td>\n",
       "      <td>1.5</td>\n",
       "      <td>7.8</td>\n",
       "      <td>8.1</td>\n",
       "      <td>1.6</td>\n",
       "      <td>1.6</td>\n",
       "      <td>8.1</td>\n",
       "      <td>74.8</td>\n",
       "      <td>55.6</td>\n",
       "      <td>55.6</td>\n",
       "      <td>69.4</td>\n",
       "      <td>48.8</td>\n",
       "      <td>47.7</td>\n",
       "      <td>1.277</td>\n",
       "      <td>0.256</td>\n",
       "      <td>9.961</td>\n",
       "      <td>1.953</td>\n",
       "      <td>5.444</td>\n",
       "      <td>1.031</td>\n",
       "      <td>35.871429</td>\n",
       "      <td>18.104905</td>\n",
       "      <td>50.457143</td>\n",
       "      <td>13.970083</td>\n",
       "      <td>60.258000</td>\n",
       "      <td>57.500</td>\n",
       "      <td>27.864286</td>\n",
       "      <td>3.320333</td>\n",
       "      <td>35.871429</td>\n",
       "      <td>300.764451</td>\n",
       "      <td>45.660588</td>\n",
       "      <td>15.0</td>\n",
       "      <td>15.0</td>\n",
       "      <td>15.0</td>\n",
       "      <td>15.0</td>\n",
       "    </tr>\n",
       "    <tr>\n",
       "      <th>2</th>\n",
       "      <td>BERT</td>\n",
       "      <td>47.357143</td>\n",
       "      <td>14.520</td>\n",
       "      <td>38.137</td>\n",
       "      <td>50.014286</td>\n",
       "      <td>42.442</td>\n",
       "      <td>18.191</td>\n",
       "      <td>7.528571</td>\n",
       "      <td>4.616</td>\n",
       "      <td>1.173</td>\n",
       "      <td>28.457143</td>\n",
       "      <td>16.037</td>\n",
       "      <td>4.795</td>\n",
       "      <td>32.8</td>\n",
       "      <td>39.6</td>\n",
       "      <td>90.2</td>\n",
       "      <td>59.4</td>\n",
       "      <td>59.0</td>\n",
       "      <td>37.6</td>\n",
       "      <td>47.4</td>\n",
       "      <td>33.0</td>\n",
       "      <td>0.360</td>\n",
       "      <td>0.055</td>\n",
       "      <td>3.8</td>\n",
       "      <td>0.096</td>\n",
       "      <td>3.4</td>\n",
       "      <td>0.000</td>\n",
       "      <td>0.00</td>\n",
       "      <td>5.503</td>\n",
       "      <td>75.9</td>\n",
       "      <td>0.961</td>\n",
       "      <td>45.5</td>\n",
       "      <td>42.593</td>\n",
       "      <td>97.400</td>\n",
       "      <td>44.265</td>\n",
       "      <td>91.1</td>\n",
       "      <td>66.2</td>\n",
       "      <td>57.6</td>\n",
       "      <td>4.1</td>\n",
       "      <td>8.1</td>\n",
       "      <td>1.6</td>\n",
       "      <td>1.5</td>\n",
       "      <td>8.3</td>\n",
       "      <td>8.2</td>\n",
       "      <td>1.5</td>\n",
       "      <td>1.6</td>\n",
       "      <td>8.5</td>\n",
       "      <td>75.6</td>\n",
       "      <td>59.9</td>\n",
       "      <td>58.7</td>\n",
       "      <td>72.2</td>\n",
       "      <td>50.3</td>\n",
       "      <td>50.4</td>\n",
       "      <td>1.269</td>\n",
       "      <td>0.233</td>\n",
       "      <td>9.766</td>\n",
       "      <td>1.953</td>\n",
       "      <td>6.040</td>\n",
       "      <td>1.287</td>\n",
       "      <td>34.628571</td>\n",
       "      <td>22.772345</td>\n",
       "      <td>52.285714</td>\n",
       "      <td>14.047917</td>\n",
       "      <td>61.419333</td>\n",
       "      <td>54.750</td>\n",
       "      <td>29.028571</td>\n",
       "      <td>3.424667</td>\n",
       "      <td>34.628571</td>\n",
       "      <td>306.401759</td>\n",
       "      <td>47.521119</td>\n",
       "      <td>14.0</td>\n",
       "      <td>14.0</td>\n",
       "      <td>13.0</td>\n",
       "      <td>14.0</td>\n",
       "    </tr>\n",
       "    <tr>\n",
       "      <th>3</th>\n",
       "      <td>CLIP-B16-224</td>\n",
       "      <td>87.028571</td>\n",
       "      <td>74.731</td>\n",
       "      <td>93.760</td>\n",
       "      <td>95.628571</td>\n",
       "      <td>98.679</td>\n",
       "      <td>91.496</td>\n",
       "      <td>89.257143</td>\n",
       "      <td>95.708</td>\n",
       "      <td>81.815</td>\n",
       "      <td>74.900000</td>\n",
       "      <td>83.864</td>\n",
       "      <td>53.445</td>\n",
       "      <td>85.4</td>\n",
       "      <td>96.2</td>\n",
       "      <td>98.9</td>\n",
       "      <td>98.9</td>\n",
       "      <td>96.5</td>\n",
       "      <td>84.3</td>\n",
       "      <td>97.9</td>\n",
       "      <td>31.3</td>\n",
       "      <td>33.804</td>\n",
       "      <td>29.609</td>\n",
       "      <td>3.2</td>\n",
       "      <td>30.369</td>\n",
       "      <td>4.6</td>\n",
       "      <td>65.142</td>\n",
       "      <td>40.06</td>\n",
       "      <td>7.545</td>\n",
       "      <td>71.3</td>\n",
       "      <td>26.619</td>\n",
       "      <td>36.8</td>\n",
       "      <td>52.622</td>\n",
       "      <td>99.113</td>\n",
       "      <td>61.218</td>\n",
       "      <td>98.6</td>\n",
       "      <td>81.6</td>\n",
       "      <td>86.7</td>\n",
       "      <td>46.2</td>\n",
       "      <td>20.9</td>\n",
       "      <td>5.5</td>\n",
       "      <td>6.2</td>\n",
       "      <td>20.6</td>\n",
       "      <td>21.0</td>\n",
       "      <td>5.7</td>\n",
       "      <td>6.0</td>\n",
       "      <td>19.9</td>\n",
       "      <td>85.2</td>\n",
       "      <td>67.9</td>\n",
       "      <td>61.8</td>\n",
       "      <td>81.7</td>\n",
       "      <td>48.6</td>\n",
       "      <td>54.0</td>\n",
       "      <td>71.240</td>\n",
       "      <td>44.574</td>\n",
       "      <td>70.039</td>\n",
       "      <td>40.404</td>\n",
       "      <td>88.238</td>\n",
       "      <td>71.440</td>\n",
       "      <td>48.385714</td>\n",
       "      <td>85.026024</td>\n",
       "      <td>94.014286</td>\n",
       "      <td>31.695667</td>\n",
       "      <td>70.984333</td>\n",
       "      <td>78.275</td>\n",
       "      <td>36.071429</td>\n",
       "      <td>64.322500</td>\n",
       "      <td>48.385714</td>\n",
       "      <td>572.371821</td>\n",
       "      <td>77.577337</td>\n",
       "      <td>4.0</td>\n",
       "      <td>2.0</td>\n",
       "      <td>3.0</td>\n",
       "      <td>3.0</td>\n",
       "    </tr>\n",
       "    <tr>\n",
       "      <th>4</th>\n",
       "      <td>ConvNextV2-Base</td>\n",
       "      <td>90.857143</td>\n",
       "      <td>84.126</td>\n",
       "      <td>97.422</td>\n",
       "      <td>96.114286</td>\n",
       "      <td>98.991</td>\n",
       "      <td>92.896</td>\n",
       "      <td>90.928571</td>\n",
       "      <td>96.851</td>\n",
       "      <td>85.288</td>\n",
       "      <td>76.300000</td>\n",
       "      <td>85.325</td>\n",
       "      <td>54.726</td>\n",
       "      <td>85.7</td>\n",
       "      <td>95.8</td>\n",
       "      <td>98.6</td>\n",
       "      <td>99.6</td>\n",
       "      <td>96.7</td>\n",
       "      <td>85.0</td>\n",
       "      <td>98.0</td>\n",
       "      <td>52.8</td>\n",
       "      <td>37.253</td>\n",
       "      <td>26.840</td>\n",
       "      <td>85.3</td>\n",
       "      <td>25.059</td>\n",
       "      <td>83.1</td>\n",
       "      <td>62.341</td>\n",
       "      <td>41.78</td>\n",
       "      <td>5.260</td>\n",
       "      <td>77.5</td>\n",
       "      <td>32.665</td>\n",
       "      <td>70.3</td>\n",
       "      <td>52.606</td>\n",
       "      <td>99.787</td>\n",
       "      <td>77.402</td>\n",
       "      <td>99.1</td>\n",
       "      <td>81.8</td>\n",
       "      <td>87.5</td>\n",
       "      <td>36.4</td>\n",
       "      <td>21.2</td>\n",
       "      <td>5.5</td>\n",
       "      <td>6.0</td>\n",
       "      <td>20.5</td>\n",
       "      <td>21.4</td>\n",
       "      <td>5.8</td>\n",
       "      <td>6.3</td>\n",
       "      <td>21.0</td>\n",
       "      <td>80.3</td>\n",
       "      <td>61.0</td>\n",
       "      <td>61.6</td>\n",
       "      <td>78.3</td>\n",
       "      <td>39.8</td>\n",
       "      <td>47.8</td>\n",
       "      <td>75.765</td>\n",
       "      <td>49.011</td>\n",
       "      <td>77.539</td>\n",
       "      <td>50.326</td>\n",
       "      <td>94.737</td>\n",
       "      <td>84.106</td>\n",
       "      <td>50.771429</td>\n",
       "      <td>87.485417</td>\n",
       "      <td>94.200000</td>\n",
       "      <td>50.016500</td>\n",
       "      <td>76.598333</td>\n",
       "      <td>76.200</td>\n",
       "      <td>34.035714</td>\n",
       "      <td>71.914000</td>\n",
       "      <td>50.771429</td>\n",
       "      <td>608.874067</td>\n",
       "      <td>82.017180</td>\n",
       "      <td>1.0</td>\n",
       "      <td>1.0</td>\n",
       "      <td>1.0</td>\n",
       "      <td>1.0</td>\n",
       "    </tr>\n",
       "    <tr>\n",
       "      <th>5</th>\n",
       "      <td>DINO-B16-224</td>\n",
       "      <td>82.857143</td>\n",
       "      <td>66.282</td>\n",
       "      <td>89.590</td>\n",
       "      <td>93.171429</td>\n",
       "      <td>97.449</td>\n",
       "      <td>86.519</td>\n",
       "      <td>80.342857</td>\n",
       "      <td>88.493</td>\n",
       "      <td>67.529</td>\n",
       "      <td>71.614286</td>\n",
       "      <td>79.704</td>\n",
       "      <td>47.454</td>\n",
       "      <td>81.2</td>\n",
       "      <td>89.9</td>\n",
       "      <td>98.7</td>\n",
       "      <td>95.9</td>\n",
       "      <td>95.6</td>\n",
       "      <td>79.1</td>\n",
       "      <td>95.9</td>\n",
       "      <td>26.7</td>\n",
       "      <td>18.610</td>\n",
       "      <td>24.968</td>\n",
       "      <td>3.1</td>\n",
       "      <td>24.292</td>\n",
       "      <td>4.9</td>\n",
       "      <td>60.224</td>\n",
       "      <td>36.13</td>\n",
       "      <td>6.138</td>\n",
       "      <td>71.4</td>\n",
       "      <td>18.184</td>\n",
       "      <td>30.2</td>\n",
       "      <td>52.846</td>\n",
       "      <td>99.188</td>\n",
       "      <td>61.001</td>\n",
       "      <td>98.7</td>\n",
       "      <td>81.9</td>\n",
       "      <td>84.7</td>\n",
       "      <td>48.5</td>\n",
       "      <td>19.6</td>\n",
       "      <td>4.6</td>\n",
       "      <td>5.4</td>\n",
       "      <td>18.6</td>\n",
       "      <td>20.0</td>\n",
       "      <td>5.2</td>\n",
       "      <td>5.3</td>\n",
       "      <td>19.0</td>\n",
       "      <td>85.6</td>\n",
       "      <td>68.2</td>\n",
       "      <td>65.5</td>\n",
       "      <td>81.8</td>\n",
       "      <td>49.5</td>\n",
       "      <td>48.3</td>\n",
       "      <td>55.634</td>\n",
       "      <td>29.529</td>\n",
       "      <td>56.525</td>\n",
       "      <td>27.995</td>\n",
       "      <td>77.125</td>\n",
       "      <td>52.769</td>\n",
       "      <td>42.714286</td>\n",
       "      <td>79.250476</td>\n",
       "      <td>90.900000</td>\n",
       "      <td>27.070500</td>\n",
       "      <td>71.011667</td>\n",
       "      <td>78.450</td>\n",
       "      <td>35.471429</td>\n",
       "      <td>49.929500</td>\n",
       "      <td>42.714286</td>\n",
       "      <td>534.147589</td>\n",
       "      <td>74.540238</td>\n",
       "      <td>10.0</td>\n",
       "      <td>10.0</td>\n",
       "      <td>8.0</td>\n",
       "      <td>8.0</td>\n",
       "    </tr>\n",
       "    <tr>\n",
       "      <th>6</th>\n",
       "      <td>DeiT3-B16-224</td>\n",
       "      <td>83.400000</td>\n",
       "      <td>66.750</td>\n",
       "      <td>90.844</td>\n",
       "      <td>93.614286</td>\n",
       "      <td>97.718</td>\n",
       "      <td>87.331</td>\n",
       "      <td>88.657143</td>\n",
       "      <td>94.675</td>\n",
       "      <td>82.011</td>\n",
       "      <td>72.242857</td>\n",
       "      <td>80.614</td>\n",
       "      <td>48.677</td>\n",
       "      <td>80.5</td>\n",
       "      <td>98.8</td>\n",
       "      <td>98.6</td>\n",
       "      <td>96.2</td>\n",
       "      <td>95.3</td>\n",
       "      <td>81.9</td>\n",
       "      <td>96.2</td>\n",
       "      <td>29.7</td>\n",
       "      <td>21.900</td>\n",
       "      <td>28.345</td>\n",
       "      <td>4.7</td>\n",
       "      <td>26.125</td>\n",
       "      <td>4.1</td>\n",
       "      <td>62.833</td>\n",
       "      <td>35.99</td>\n",
       "      <td>7.488</td>\n",
       "      <td>70.8</td>\n",
       "      <td>22.291</td>\n",
       "      <td>33.3</td>\n",
       "      <td>52.342</td>\n",
       "      <td>99.350</td>\n",
       "      <td>62.701</td>\n",
       "      <td>98.5</td>\n",
       "      <td>82.7</td>\n",
       "      <td>81.8</td>\n",
       "      <td>40.9</td>\n",
       "      <td>20.0</td>\n",
       "      <td>5.0</td>\n",
       "      <td>5.6</td>\n",
       "      <td>19.2</td>\n",
       "      <td>21.9</td>\n",
       "      <td>6.0</td>\n",
       "      <td>6.5</td>\n",
       "      <td>20.5</td>\n",
       "      <td>82.6</td>\n",
       "      <td>67.0</td>\n",
       "      <td>63.9</td>\n",
       "      <td>81.0</td>\n",
       "      <td>42.4</td>\n",
       "      <td>49.2</td>\n",
       "      <td>66.558</td>\n",
       "      <td>39.528</td>\n",
       "      <td>64.338</td>\n",
       "      <td>36.523</td>\n",
       "      <td>88.506</td>\n",
       "      <td>70.411</td>\n",
       "      <td>54.371429</td>\n",
       "      <td>82.211190</td>\n",
       "      <td>92.500000</td>\n",
       "      <td>28.964333</td>\n",
       "      <td>71.464333</td>\n",
       "      <td>75.975</td>\n",
       "      <td>35.057143</td>\n",
       "      <td>60.977333</td>\n",
       "      <td>54.371429</td>\n",
       "      <td>564.210857</td>\n",
       "      <td>76.679310</td>\n",
       "      <td>3.0</td>\n",
       "      <td>4.0</td>\n",
       "      <td>4.0</td>\n",
       "      <td>5.0</td>\n",
       "    </tr>\n",
       "    <tr>\n",
       "      <th>7</th>\n",
       "      <td>EffFormer-s0</td>\n",
       "      <td>50.314286</td>\n",
       "      <td>16.511</td>\n",
       "      <td>43.571</td>\n",
       "      <td>78.814286</td>\n",
       "      <td>86.983</td>\n",
       "      <td>62.578</td>\n",
       "      <td>59.571429</td>\n",
       "      <td>72.456</td>\n",
       "      <td>44.615</td>\n",
       "      <td>53.200000</td>\n",
       "      <td>55.901</td>\n",
       "      <td>25.548</td>\n",
       "      <td>51.2</td>\n",
       "      <td>90.8</td>\n",
       "      <td>95.4</td>\n",
       "      <td>90.3</td>\n",
       "      <td>77.5</td>\n",
       "      <td>56.7</td>\n",
       "      <td>86.3</td>\n",
       "      <td>33.8</td>\n",
       "      <td>9.801</td>\n",
       "      <td>13.995</td>\n",
       "      <td>9.7</td>\n",
       "      <td>13.549</td>\n",
       "      <td>13.5</td>\n",
       "      <td>2.492</td>\n",
       "      <td>0.00</td>\n",
       "      <td>10.498</td>\n",
       "      <td>76.4</td>\n",
       "      <td>14.026</td>\n",
       "      <td>51.4</td>\n",
       "      <td>45.115</td>\n",
       "      <td>98.700</td>\n",
       "      <td>53.862</td>\n",
       "      <td>81.8</td>\n",
       "      <td>80.0</td>\n",
       "      <td>81.8</td>\n",
       "      <td>27.0</td>\n",
       "      <td>15.6</td>\n",
       "      <td>3.5</td>\n",
       "      <td>4.2</td>\n",
       "      <td>16.0</td>\n",
       "      <td>15.1</td>\n",
       "      <td>3.4</td>\n",
       "      <td>3.4</td>\n",
       "      <td>14.4</td>\n",
       "      <td>77.5</td>\n",
       "      <td>60.5</td>\n",
       "      <td>59.4</td>\n",
       "      <td>78.2</td>\n",
       "      <td>51.3</td>\n",
       "      <td>56.8</td>\n",
       "      <td>1.334</td>\n",
       "      <td>0.279</td>\n",
       "      <td>9.726</td>\n",
       "      <td>1.628</td>\n",
       "      <td>5.173</td>\n",
       "      <td>0.840</td>\n",
       "      <td>50.214286</td>\n",
       "      <td>54.171917</td>\n",
       "      <td>78.314286</td>\n",
       "      <td>20.763417</td>\n",
       "      <td>65.892333</td>\n",
       "      <td>67.650</td>\n",
       "      <td>32.807143</td>\n",
       "      <td>3.163333</td>\n",
       "      <td>50.214286</td>\n",
       "      <td>419.598804</td>\n",
       "      <td>58.360116</td>\n",
       "      <td>11.0</td>\n",
       "      <td>11.0</td>\n",
       "      <td>12.0</td>\n",
       "      <td>12.0</td>\n",
       "    </tr>\n",
       "    <tr>\n",
       "      <th>8</th>\n",
       "      <td>EffV2-RW-S</td>\n",
       "      <td>79.128571</td>\n",
       "      <td>64.968</td>\n",
       "      <td>89.471</td>\n",
       "      <td>90.814286</td>\n",
       "      <td>96.816</td>\n",
       "      <td>85.282</td>\n",
       "      <td>81.485714</td>\n",
       "      <td>90.439</td>\n",
       "      <td>71.549</td>\n",
       "      <td>73.685714</td>\n",
       "      <td>82.389</td>\n",
       "      <td>51.066</td>\n",
       "      <td>73.7</td>\n",
       "      <td>62.8</td>\n",
       "      <td>98.6</td>\n",
       "      <td>91.2</td>\n",
       "      <td>89.4</td>\n",
       "      <td>59.5</td>\n",
       "      <td>92.1</td>\n",
       "      <td>32.1</td>\n",
       "      <td>12.668</td>\n",
       "      <td>8.704</td>\n",
       "      <td>6.3</td>\n",
       "      <td>8.268</td>\n",
       "      <td>4.5</td>\n",
       "      <td>63.144</td>\n",
       "      <td>40.18</td>\n",
       "      <td>8.216</td>\n",
       "      <td>75.6</td>\n",
       "      <td>11.776</td>\n",
       "      <td>38.2</td>\n",
       "      <td>39.848</td>\n",
       "      <td>97.463</td>\n",
       "      <td>43.199</td>\n",
       "      <td>97.5</td>\n",
       "      <td>81.8</td>\n",
       "      <td>86.1</td>\n",
       "      <td>60.9</td>\n",
       "      <td>17.3</td>\n",
       "      <td>4.0</td>\n",
       "      <td>3.7</td>\n",
       "      <td>16.1</td>\n",
       "      <td>16.8</td>\n",
       "      <td>3.5</td>\n",
       "      <td>3.4</td>\n",
       "      <td>14.9</td>\n",
       "      <td>65.1</td>\n",
       "      <td>46.3</td>\n",
       "      <td>46.0</td>\n",
       "      <td>62.5</td>\n",
       "      <td>50.0</td>\n",
       "      <td>50.0</td>\n",
       "      <td>2.357</td>\n",
       "      <td>0.561</td>\n",
       "      <td>27.699</td>\n",
       "      <td>11.068</td>\n",
       "      <td>25.840</td>\n",
       "      <td>9.611</td>\n",
       "      <td>47.128571</td>\n",
       "      <td>79.757857</td>\n",
       "      <td>81.042857</td>\n",
       "      <td>25.804667</td>\n",
       "      <td>60.170000</td>\n",
       "      <td>81.575</td>\n",
       "      <td>28.542857</td>\n",
       "      <td>12.856000</td>\n",
       "      <td>47.128571</td>\n",
       "      <td>468.987536</td>\n",
       "      <td>64.069425</td>\n",
       "      <td>9.0</td>\n",
       "      <td>9.0</td>\n",
       "      <td>11.0</td>\n",
       "      <td>11.0</td>\n",
       "    </tr>\n",
       "    <tr>\n",
       "      <th>9</th>\n",
       "      <td>Flex-B-1200EP</td>\n",
       "      <td>87.428571</td>\n",
       "      <td>75.100</td>\n",
       "      <td>94.367</td>\n",
       "      <td>94.400000</td>\n",
       "      <td>98.093</td>\n",
       "      <td>89.142</td>\n",
       "      <td>89.142857</td>\n",
       "      <td>95.428</td>\n",
       "      <td>82.265</td>\n",
       "      <td>74.528571</td>\n",
       "      <td>83.311</td>\n",
       "      <td>52.065</td>\n",
       "      <td>83.7</td>\n",
       "      <td>99.1</td>\n",
       "      <td>98.9</td>\n",
       "      <td>96.7</td>\n",
       "      <td>95.9</td>\n",
       "      <td>78.4</td>\n",
       "      <td>96.4</td>\n",
       "      <td>29.2</td>\n",
       "      <td>23.308</td>\n",
       "      <td>30.371</td>\n",
       "      <td>5.2</td>\n",
       "      <td>27.997</td>\n",
       "      <td>4.7</td>\n",
       "      <td>66.623</td>\n",
       "      <td>38.59</td>\n",
       "      <td>6.197</td>\n",
       "      <td>72.5</td>\n",
       "      <td>21.660</td>\n",
       "      <td>31.4</td>\n",
       "      <td>51.956</td>\n",
       "      <td>98.825</td>\n",
       "      <td>59.879</td>\n",
       "      <td>98.5</td>\n",
       "      <td>82.9</td>\n",
       "      <td>85.7</td>\n",
       "      <td>45.4</td>\n",
       "      <td>20.8</td>\n",
       "      <td>4.9</td>\n",
       "      <td>5.9</td>\n",
       "      <td>20.0</td>\n",
       "      <td>20.9</td>\n",
       "      <td>5.3</td>\n",
       "      <td>5.3</td>\n",
       "      <td>19.6</td>\n",
       "      <td>81.0</td>\n",
       "      <td>63.7</td>\n",
       "      <td>60.6</td>\n",
       "      <td>79.0</td>\n",
       "      <td>48.2</td>\n",
       "      <td>50.2</td>\n",
       "      <td>67.584</td>\n",
       "      <td>40.673</td>\n",
       "      <td>60.885</td>\n",
       "      <td>32.227</td>\n",
       "      <td>81.510</td>\n",
       "      <td>63.159</td>\n",
       "      <td>54.957143</td>\n",
       "      <td>84.605917</td>\n",
       "      <td>92.728571</td>\n",
       "      <td>29.812167</td>\n",
       "      <td>70.220000</td>\n",
       "      <td>78.125</td>\n",
       "      <td>34.671429</td>\n",
       "      <td>57.673000</td>\n",
       "      <td>54.957143</td>\n",
       "      <td>565.642379</td>\n",
       "      <td>76.248173</td>\n",
       "      <td>2.0</td>\n",
       "      <td>3.0</td>\n",
       "      <td>5.0</td>\n",
       "      <td>4.0</td>\n",
       "    </tr>\n",
       "    <tr>\n",
       "      <th>10</th>\n",
       "      <td>Laion-B16-224</td>\n",
       "      <td>87.242857</td>\n",
       "      <td>75.139</td>\n",
       "      <td>93.859</td>\n",
       "      <td>95.585714</td>\n",
       "      <td>98.710</td>\n",
       "      <td>91.334</td>\n",
       "      <td>84.571429</td>\n",
       "      <td>93.055</td>\n",
       "      <td>74.079</td>\n",
       "      <td>74.257143</td>\n",
       "      <td>83.650</td>\n",
       "      <td>52.924</td>\n",
       "      <td>85.2</td>\n",
       "      <td>90.8</td>\n",
       "      <td>98.9</td>\n",
       "      <td>96.8</td>\n",
       "      <td>96.1</td>\n",
       "      <td>85.4</td>\n",
       "      <td>96.6</td>\n",
       "      <td>24.0</td>\n",
       "      <td>27.604</td>\n",
       "      <td>30.564</td>\n",
       "      <td>3.2</td>\n",
       "      <td>27.208</td>\n",
       "      <td>2.6</td>\n",
       "      <td>66.612</td>\n",
       "      <td>42.00</td>\n",
       "      <td>5.023</td>\n",
       "      <td>73.4</td>\n",
       "      <td>18.823</td>\n",
       "      <td>26.7</td>\n",
       "      <td>46.963</td>\n",
       "      <td>99.000</td>\n",
       "      <td>61.104</td>\n",
       "      <td>98.6</td>\n",
       "      <td>81.7</td>\n",
       "      <td>84.9</td>\n",
       "      <td>43.6</td>\n",
       "      <td>20.9</td>\n",
       "      <td>5.2</td>\n",
       "      <td>5.9</td>\n",
       "      <td>20.2</td>\n",
       "      <td>21.3</td>\n",
       "      <td>5.9</td>\n",
       "      <td>6.6</td>\n",
       "      <td>21.2</td>\n",
       "      <td>91.0</td>\n",
       "      <td>67.6</td>\n",
       "      <td>64.8</td>\n",
       "      <td>85.6</td>\n",
       "      <td>48.2</td>\n",
       "      <td>56.2</td>\n",
       "      <td>70.913</td>\n",
       "      <td>43.591</td>\n",
       "      <td>54.242</td>\n",
       "      <td>26.202</td>\n",
       "      <td>83.914</td>\n",
       "      <td>62.289</td>\n",
       "      <td>45.600000</td>\n",
       "      <td>83.700595</td>\n",
       "      <td>92.828571</td>\n",
       "      <td>28.977833</td>\n",
       "      <td>69.022333</td>\n",
       "      <td>77.200</td>\n",
       "      <td>37.185714</td>\n",
       "      <td>56.858500</td>\n",
       "      <td>45.600000</td>\n",
       "      <td>552.795241</td>\n",
       "      <td>76.189762</td>\n",
       "      <td>8.0</td>\n",
       "      <td>7.0</td>\n",
       "      <td>6.0</td>\n",
       "      <td>6.0</td>\n",
       "    </tr>\n",
       "    <tr>\n",
       "      <th>11</th>\n",
       "      <td>MPNET</td>\n",
       "      <td>34.214286</td>\n",
       "      <td>0.995</td>\n",
       "      <td>5.006</td>\n",
       "      <td>41.714286</td>\n",
       "      <td>26.332</td>\n",
       "      <td>8.421</td>\n",
       "      <td>2.485714</td>\n",
       "      <td>1.033</td>\n",
       "      <td>0.238</td>\n",
       "      <td>15.700000</td>\n",
       "      <td>1.368</td>\n",
       "      <td>0.274</td>\n",
       "      <td>6.6</td>\n",
       "      <td>36.7</td>\n",
       "      <td>90.7</td>\n",
       "      <td>60.5</td>\n",
       "      <td>15.8</td>\n",
       "      <td>38.3</td>\n",
       "      <td>48.5</td>\n",
       "      <td>33.0</td>\n",
       "      <td>0.368</td>\n",
       "      <td>0.055</td>\n",
       "      <td>3.8</td>\n",
       "      <td>0.104</td>\n",
       "      <td>3.0</td>\n",
       "      <td>0.000</td>\n",
       "      <td>0.00</td>\n",
       "      <td>5.452</td>\n",
       "      <td>75.8</td>\n",
       "      <td>0.948</td>\n",
       "      <td>42.2</td>\n",
       "      <td>41.279</td>\n",
       "      <td>93.238</td>\n",
       "      <td>36.811</td>\n",
       "      <td>83.3</td>\n",
       "      <td>61.2</td>\n",
       "      <td>51.8</td>\n",
       "      <td>25.3</td>\n",
       "      <td>7.9</td>\n",
       "      <td>1.6</td>\n",
       "      <td>1.6</td>\n",
       "      <td>7.9</td>\n",
       "      <td>7.9</td>\n",
       "      <td>1.6</td>\n",
       "      <td>1.6</td>\n",
       "      <td>7.9</td>\n",
       "      <td>13.2</td>\n",
       "      <td>2.6</td>\n",
       "      <td>2.6</td>\n",
       "      <td>13.2</td>\n",
       "      <td>38.6</td>\n",
       "      <td>52.0</td>\n",
       "      <td>1.277</td>\n",
       "      <td>0.248</td>\n",
       "      <td>9.766</td>\n",
       "      <td>1.432</td>\n",
       "      <td>6.040</td>\n",
       "      <td>1.392</td>\n",
       "      <td>34.400000</td>\n",
       "      <td>11.481774</td>\n",
       "      <td>42.442857</td>\n",
       "      <td>13.727250</td>\n",
       "      <td>57.109333</td>\n",
       "      <td>55.400</td>\n",
       "      <td>11.442857</td>\n",
       "      <td>3.359167</td>\n",
       "      <td>34.400000</td>\n",
       "      <td>258.033643</td>\n",
       "      <td>35.988167</td>\n",
       "      <td>16.0</td>\n",
       "      <td>16.0</td>\n",
       "      <td>16.0</td>\n",
       "      <td>16.0</td>\n",
       "    </tr>\n",
       "    <tr>\n",
       "      <th>12</th>\n",
       "      <td>RNX50-32x4A1</td>\n",
       "      <td>82.085714</td>\n",
       "      <td>68.312</td>\n",
       "      <td>91.262</td>\n",
       "      <td>91.100000</td>\n",
       "      <td>96.934</td>\n",
       "      <td>85.452</td>\n",
       "      <td>85.228571</td>\n",
       "      <td>93.232</td>\n",
       "      <td>77.340</td>\n",
       "      <td>74.000000</td>\n",
       "      <td>82.509</td>\n",
       "      <td>51.461</td>\n",
       "      <td>74.8</td>\n",
       "      <td>78.3</td>\n",
       "      <td>98.5</td>\n",
       "      <td>87.8</td>\n",
       "      <td>93.2</td>\n",
       "      <td>64.8</td>\n",
       "      <td>92.7</td>\n",
       "      <td>31.4</td>\n",
       "      <td>18.171</td>\n",
       "      <td>18.284</td>\n",
       "      <td>8.7</td>\n",
       "      <td>16.795</td>\n",
       "      <td>9.5</td>\n",
       "      <td>38.788</td>\n",
       "      <td>25.52</td>\n",
       "      <td>6.650</td>\n",
       "      <td>75.8</td>\n",
       "      <td>16.606</td>\n",
       "      <td>33.8</td>\n",
       "      <td>39.924</td>\n",
       "      <td>96.725</td>\n",
       "      <td>42.582</td>\n",
       "      <td>97.7</td>\n",
       "      <td>80.0</td>\n",
       "      <td>85.6</td>\n",
       "      <td>42.9</td>\n",
       "      <td>16.3</td>\n",
       "      <td>3.8</td>\n",
       "      <td>3.7</td>\n",
       "      <td>16.1</td>\n",
       "      <td>17.3</td>\n",
       "      <td>4.1</td>\n",
       "      <td>3.9</td>\n",
       "      <td>16.3</td>\n",
       "      <td>63.9</td>\n",
       "      <td>51.0</td>\n",
       "      <td>49.1</td>\n",
       "      <td>61.4</td>\n",
       "      <td>50.0</td>\n",
       "      <td>50.0</td>\n",
       "      <td>8.813</td>\n",
       "      <td>2.399</td>\n",
       "      <td>22.161</td>\n",
       "      <td>5.182</td>\n",
       "      <td>41.912</td>\n",
       "      <td>19.380</td>\n",
       "      <td>47.857143</td>\n",
       "      <td>81.576357</td>\n",
       "      <td>84.300000</td>\n",
       "      <td>25.001167</td>\n",
       "      <td>59.743667</td>\n",
       "      <td>76.550</td>\n",
       "      <td>29.064286</td>\n",
       "      <td>16.641167</td>\n",
       "      <td>47.857143</td>\n",
       "      <td>473.325509</td>\n",
       "      <td>66.033218</td>\n",
       "      <td>6.0</td>\n",
       "      <td>5.0</td>\n",
       "      <td>10.0</td>\n",
       "      <td>10.0</td>\n",
       "    </tr>\n",
       "    <tr>\n",
       "      <th>13</th>\n",
       "      <td>SIGLIP-P16-224</td>\n",
       "      <td>88.357143</td>\n",
       "      <td>76.871</td>\n",
       "      <td>95.074</td>\n",
       "      <td>96.457143</td>\n",
       "      <td>99.114</td>\n",
       "      <td>93.102</td>\n",
       "      <td>85.214286</td>\n",
       "      <td>93.067</td>\n",
       "      <td>75.070</td>\n",
       "      <td>75.128571</td>\n",
       "      <td>84.061</td>\n",
       "      <td>53.563</td>\n",
       "      <td>85.7</td>\n",
       "      <td>93.1</td>\n",
       "      <td>99.0</td>\n",
       "      <td>98.6</td>\n",
       "      <td>97.2</td>\n",
       "      <td>88.5</td>\n",
       "      <td>97.2</td>\n",
       "      <td>21.4</td>\n",
       "      <td>30.698</td>\n",
       "      <td>23.841</td>\n",
       "      <td>3.0</td>\n",
       "      <td>29.024</td>\n",
       "      <td>2.9</td>\n",
       "      <td>64.505</td>\n",
       "      <td>39.38</td>\n",
       "      <td>7.846</td>\n",
       "      <td>76.4</td>\n",
       "      <td>19.001</td>\n",
       "      <td>28.4</td>\n",
       "      <td>52.545</td>\n",
       "      <td>99.537</td>\n",
       "      <td>68.768</td>\n",
       "      <td>98.6</td>\n",
       "      <td>81.6</td>\n",
       "      <td>85.4</td>\n",
       "      <td>51.3</td>\n",
       "      <td>21.6</td>\n",
       "      <td>5.9</td>\n",
       "      <td>7.0</td>\n",
       "      <td>21.0</td>\n",
       "      <td>22.5</td>\n",
       "      <td>6.2</td>\n",
       "      <td>6.9</td>\n",
       "      <td>21.8</td>\n",
       "      <td>86.5</td>\n",
       "      <td>66.4</td>\n",
       "      <td>65.2</td>\n",
       "      <td>87.1</td>\n",
       "      <td>59.5</td>\n",
       "      <td>47.2</td>\n",
       "      <td>71.205</td>\n",
       "      <td>43.842</td>\n",
       "      <td>65.938</td>\n",
       "      <td>39.922</td>\n",
       "      <td>88.352</td>\n",
       "      <td>68.101</td>\n",
       "      <td>53.171429</td>\n",
       "      <td>84.589929</td>\n",
       "      <td>94.185714</td>\n",
       "      <td>28.866250</td>\n",
       "      <td>73.616667</td>\n",
       "      <td>79.225</td>\n",
       "      <td>37.485714</td>\n",
       "      <td>62.893333</td>\n",
       "      <td>53.171429</td>\n",
       "      <td>578.288290</td>\n",
       "      <td>78.087085</td>\n",
       "      <td>7.0</td>\n",
       "      <td>6.0</td>\n",
       "      <td>2.0</td>\n",
       "      <td>2.0</td>\n",
       "    </tr>\n",
       "    <tr>\n",
       "      <th>14</th>\n",
       "      <td>SViT-B16-224</td>\n",
       "      <td>73.257143</td>\n",
       "      <td>50.567</td>\n",
       "      <td>79.956</td>\n",
       "      <td>86.457143</td>\n",
       "      <td>93.509</td>\n",
       "      <td>75.677</td>\n",
       "      <td>41.457143</td>\n",
       "      <td>48.929</td>\n",
       "      <td>20.618</td>\n",
       "      <td>55.357143</td>\n",
       "      <td>59.872</td>\n",
       "      <td>27.075</td>\n",
       "      <td>77.7</td>\n",
       "      <td>91.8</td>\n",
       "      <td>98.6</td>\n",
       "      <td>93.4</td>\n",
       "      <td>92.9</td>\n",
       "      <td>79.9</td>\n",
       "      <td>93.4</td>\n",
       "      <td>31.6</td>\n",
       "      <td>18.183</td>\n",
       "      <td>20.203</td>\n",
       "      <td>2.9</td>\n",
       "      <td>18.108</td>\n",
       "      <td>2.8</td>\n",
       "      <td>53.125</td>\n",
       "      <td>32.03</td>\n",
       "      <td>8.323</td>\n",
       "      <td>72.5</td>\n",
       "      <td>15.266</td>\n",
       "      <td>23.8</td>\n",
       "      <td>51.592</td>\n",
       "      <td>98.875</td>\n",
       "      <td>58.029</td>\n",
       "      <td>97.8</td>\n",
       "      <td>82.4</td>\n",
       "      <td>80.1</td>\n",
       "      <td>41.7</td>\n",
       "      <td>17.1</td>\n",
       "      <td>4.2</td>\n",
       "      <td>4.3</td>\n",
       "      <td>17.1</td>\n",
       "      <td>18.4</td>\n",
       "      <td>4.7</td>\n",
       "      <td>4.6</td>\n",
       "      <td>17.8</td>\n",
       "      <td>76.3</td>\n",
       "      <td>63.0</td>\n",
       "      <td>58.0</td>\n",
       "      <td>75.6</td>\n",
       "      <td>45.4</td>\n",
       "      <td>40.9</td>\n",
       "      <td>51.144</td>\n",
       "      <td>25.282</td>\n",
       "      <td>56.510</td>\n",
       "      <td>26.641</td>\n",
       "      <td>75.290</td>\n",
       "      <td>48.708</td>\n",
       "      <td>45.142857</td>\n",
       "      <td>59.394298</td>\n",
       "      <td>89.671429</td>\n",
       "      <td>24.903167</td>\n",
       "      <td>69.498667</td>\n",
       "      <td>75.500</td>\n",
       "      <td>31.957143</td>\n",
       "      <td>47.262500</td>\n",
       "      <td>45.142857</td>\n",
       "      <td>498.746317</td>\n",
       "      <td>68.596160</td>\n",
       "      <td>12.0</td>\n",
       "      <td>12.0</td>\n",
       "      <td>9.0</td>\n",
       "      <td>9.0</td>\n",
       "    </tr>\n",
       "    <tr>\n",
       "      <th>15</th>\n",
       "      <td>Whisper</td>\n",
       "      <td>43.900000</td>\n",
       "      <td>10.997</td>\n",
       "      <td>32.136</td>\n",
       "      <td>47.942857</td>\n",
       "      <td>38.603</td>\n",
       "      <td>16.223</td>\n",
       "      <td>7.600000</td>\n",
       "      <td>4.705</td>\n",
       "      <td>1.285</td>\n",
       "      <td>28.371429</td>\n",
       "      <td>16.028</td>\n",
       "      <td>4.931</td>\n",
       "      <td>28.4</td>\n",
       "      <td>33.9</td>\n",
       "      <td>80.5</td>\n",
       "      <td>53.5</td>\n",
       "      <td>58.3</td>\n",
       "      <td>33.2</td>\n",
       "      <td>31.7</td>\n",
       "      <td>32.9</td>\n",
       "      <td>0.358</td>\n",
       "      <td>0.056</td>\n",
       "      <td>3.7</td>\n",
       "      <td>0.086</td>\n",
       "      <td>3.3</td>\n",
       "      <td>0.000</td>\n",
       "      <td>0.00</td>\n",
       "      <td>4.495</td>\n",
       "      <td>75.7</td>\n",
       "      <td>0.954</td>\n",
       "      <td>40.7</td>\n",
       "      <td>44.873</td>\n",
       "      <td>97.537</td>\n",
       "      <td>44.653</td>\n",
       "      <td>87.6</td>\n",
       "      <td>64.8</td>\n",
       "      <td>56.9</td>\n",
       "      <td>28.7</td>\n",
       "      <td>9.1</td>\n",
       "      <td>2.0</td>\n",
       "      <td>1.8</td>\n",
       "      <td>8.9</td>\n",
       "      <td>9.8</td>\n",
       "      <td>2.0</td>\n",
       "      <td>2.1</td>\n",
       "      <td>9.2</td>\n",
       "      <td>75.2</td>\n",
       "      <td>61.4</td>\n",
       "      <td>57.6</td>\n",
       "      <td>68.7</td>\n",
       "      <td>50.8</td>\n",
       "      <td>51.5</td>\n",
       "      <td>1.256</td>\n",
       "      <td>0.253</td>\n",
       "      <td>9.831</td>\n",
       "      <td>1.953</td>\n",
       "      <td>6.171</td>\n",
       "      <td>1.155</td>\n",
       "      <td>49.157143</td>\n",
       "      <td>21.060190</td>\n",
       "      <td>45.642857</td>\n",
       "      <td>13.520750</td>\n",
       "      <td>62.354333</td>\n",
       "      <td>59.500</td>\n",
       "      <td>29.292857</td>\n",
       "      <td>3.436500</td>\n",
       "      <td>49.157143</td>\n",
       "      <td>319.460210</td>\n",
       "      <td>46.004697</td>\n",
       "      <td>13.0</td>\n",
       "      <td>13.0</td>\n",
       "      <td>14.0</td>\n",
       "      <td>13.0</td>\n",
       "    </tr>\n",
       "  </tbody>\n",
       "</table>\n",
       "</div>"
      ],
      "text/plain": [
       "       Model.Metric  cifar100.loss  cifar100.acc@1  cifar100.acc@5  \\\n",
       "0    AR-ViT-B16-224      76.628571          55.742          83.629   \n",
       "1              BART      43.071429           8.967          29.170   \n",
       "2              BERT      47.357143          14.520          38.137   \n",
       "3      CLIP-B16-224      87.028571          74.731          93.760   \n",
       "4   ConvNextV2-Base      90.857143          84.126          97.422   \n",
       "5      DINO-B16-224      82.857143          66.282          89.590   \n",
       "6     DeiT3-B16-224      83.400000          66.750          90.844   \n",
       "7      EffFormer-s0      50.314286          16.511          43.571   \n",
       "8        EffV2-RW-S      79.128571          64.968          89.471   \n",
       "9     Flex-B-1200EP      87.428571          75.100          94.367   \n",
       "10    Laion-B16-224      87.242857          75.139          93.859   \n",
       "11            MPNET      34.214286           0.995           5.006   \n",
       "12     RNX50-32x4A1      82.085714          68.312          91.262   \n",
       "13   SIGLIP-P16-224      88.357143          76.871          95.074   \n",
       "14     SViT-B16-224      73.257143          50.567          79.956   \n",
       "15          Whisper      43.900000          10.997          32.136   \n",
       "\n",
       "    food101.loss  food101.acc@5  food101.acc@1  imagenet1k.loss  \\\n",
       "0      91.685714         96.630         83.834        86.185714   \n",
       "1      44.442857         31.844         11.504         5.400000   \n",
       "2      50.014286         42.442         18.191         7.528571   \n",
       "3      95.628571         98.679         91.496        89.257143   \n",
       "4      96.114286         98.991         92.896        90.928571   \n",
       "5      93.171429         97.449         86.519        80.342857   \n",
       "6      93.614286         97.718         87.331        88.657143   \n",
       "7      78.814286         86.983         62.578        59.571429   \n",
       "8      90.814286         96.816         85.282        81.485714   \n",
       "9      94.400000         98.093         89.142        89.142857   \n",
       "10     95.585714         98.710         91.334        84.571429   \n",
       "11     41.714286         26.332          8.421         2.485714   \n",
       "12     91.100000         96.934         85.452        85.228571   \n",
       "13     96.457143         99.114         93.102        85.214286   \n",
       "14     86.457143         93.509         75.677        41.457143   \n",
       "15     47.942857         38.603         16.223         7.600000   \n",
       "\n",
       "    imagenet1k.acc@5  imagenet1k.acc@1  places365.loss  places365.acc@5  \\\n",
       "0             93.007            78.199       70.542857           78.706   \n",
       "1              3.107             0.713       25.028571           11.058   \n",
       "2              4.616             1.173       28.457143           16.037   \n",
       "3             95.708            81.815       74.900000           83.864   \n",
       "4             96.851            85.288       76.300000           85.325   \n",
       "5             88.493            67.529       71.614286           79.704   \n",
       "6             94.675            82.011       72.242857           80.614   \n",
       "7             72.456            44.615       53.200000           55.901   \n",
       "8             90.439            71.549       73.685714           82.389   \n",
       "9             95.428            82.265       74.528571           83.311   \n",
       "10            93.055            74.079       74.257143           83.650   \n",
       "11             1.033             0.238       15.700000            1.368   \n",
       "12            93.232            77.340       74.000000           82.509   \n",
       "13            93.067            75.070       75.128571           84.061   \n",
       "14            48.929            20.618       55.357143           59.872   \n",
       "15             4.705             1.285       28.371429           16.028   \n",
       "\n",
       "    places365.acc@1  fungi.acc@1  mini.acc@1  omniglot.acc@1  vgg.acc@1  \\\n",
       "0            46.641         77.5        98.7            98.6       95.5   \n",
       "1             2.953         33.7        37.3            84.1       59.4   \n",
       "2             4.795         32.8        39.6            90.2       59.4   \n",
       "3            53.445         85.4        96.2            98.9       98.9   \n",
       "4            54.726         85.7        95.8            98.6       99.6   \n",
       "5            47.454         81.2        89.9            98.7       95.9   \n",
       "6            48.677         80.5        98.8            98.6       96.2   \n",
       "7            25.548         51.2        90.8            95.4       90.3   \n",
       "8            51.066         73.7        62.8            98.6       91.2   \n",
       "9            52.065         83.7        99.1            98.9       96.7   \n",
       "10           52.924         85.2        90.8            98.9       96.8   \n",
       "11            0.274          6.6        36.7            90.7       60.5   \n",
       "12           51.461         74.8        78.3            98.5       87.8   \n",
       "13           53.563         85.7        93.1            99.0       98.6   \n",
       "14           27.075         77.7        91.8            98.6       93.4   \n",
       "15            4.931         28.4        33.9            80.5       53.5   \n",
       "\n",
       "    aircraft.acc@1  dtextures.acc@1  cubirds.acc@1  ade20k.dice-loss  \\\n",
       "0             94.4             79.9           94.4              22.3   \n",
       "1             53.0             35.4           50.3              33.2   \n",
       "2             59.0             37.6           47.4              33.0   \n",
       "3             96.5             84.3           97.9              31.3   \n",
       "4             96.7             85.0           98.0              52.8   \n",
       "5             95.6             79.1           95.9              26.7   \n",
       "6             95.3             81.9           96.2              29.7   \n",
       "7             77.5             56.7           86.3              33.8   \n",
       "8             89.4             59.5           92.1              32.1   \n",
       "9             95.9             78.4           96.4              29.2   \n",
       "10            96.1             85.4           96.6              24.0   \n",
       "11            15.8             38.3           48.5              33.0   \n",
       "12            93.2             64.8           92.7              31.4   \n",
       "13            97.2             88.5           97.2              21.4   \n",
       "14            92.9             79.9           93.4              31.6   \n",
       "15            58.3             33.2           31.7              32.9   \n",
       "\n",
       "    ade20k.mIoU  coco-10k.mIoU  coco-10k.dice-loss  coco-164k.mIoU  \\\n",
       "0        17.353         22.783                 2.7          21.321   \n",
       "1         0.380          0.056                 4.1           0.110   \n",
       "2         0.360          0.055                 3.8           0.096   \n",
       "3        33.804         29.609                 3.2          30.369   \n",
       "4        37.253         26.840                85.3          25.059   \n",
       "5        18.610         24.968                 3.1          24.292   \n",
       "6        21.900         28.345                 4.7          26.125   \n",
       "7         9.801         13.995                 9.7          13.549   \n",
       "8        12.668          8.704                 6.3           8.268   \n",
       "9        23.308         30.371                 5.2          27.997   \n",
       "10       27.604         30.564                 3.2          27.208   \n",
       "11        0.368          0.055                 3.8           0.104   \n",
       "12       18.171         18.284                 8.7          16.795   \n",
       "13       30.698         23.841                 3.0          29.024   \n",
       "14       18.183         20.203                 2.9          18.108   \n",
       "15        0.358          0.056                 3.7           0.086   \n",
       "\n",
       "    coco-164k.dice-loss  cityscapes.mIoU  cityscapes.dice-loss  nyu.mIoU  \\\n",
       "0                   3.0           57.848                 35.19     8.345   \n",
       "1                   3.5            0.000                  0.00     4.893   \n",
       "2                   3.4            0.000                  0.00     5.503   \n",
       "3                   4.6           65.142                 40.06     7.545   \n",
       "4                  83.1           62.341                 41.78     5.260   \n",
       "5                   4.9           60.224                 36.13     6.138   \n",
       "6                   4.1           62.833                 35.99     7.488   \n",
       "7                  13.5            2.492                  0.00    10.498   \n",
       "8                   4.5           63.144                 40.18     8.216   \n",
       "9                   4.7           66.623                 38.59     6.197   \n",
       "10                  2.6           66.612                 42.00     5.023   \n",
       "11                  3.0            0.000                  0.00     5.452   \n",
       "12                  9.5           38.788                 25.52     6.650   \n",
       "13                  2.9           64.505                 39.38     7.846   \n",
       "14                  2.8           53.125                 32.03     8.323   \n",
       "15                  3.3            0.000                  0.00     4.495   \n",
       "\n",
       "    nyu.dice-loss  pascal.mIoU  pascal.dice-loss  clevr.acc@1  \\\n",
       "0            72.9       15.460              21.9       52.828   \n",
       "1            76.0        1.002              44.4       42.563   \n",
       "2            75.9        0.961              45.5       42.593   \n",
       "3            71.3       26.619              36.8       52.622   \n",
       "4            77.5       32.665              70.3       52.606   \n",
       "5            71.4       18.184              30.2       52.846   \n",
       "6            70.8       22.291              33.3       52.342   \n",
       "7            76.4       14.026              51.4       45.115   \n",
       "8            75.6       11.776              38.2       39.848   \n",
       "9            72.5       21.660              31.4       51.956   \n",
       "10           73.4       18.823              26.7       46.963   \n",
       "11           75.8        0.948              42.2       41.279   \n",
       "12           75.8       16.606              33.8       39.924   \n",
       "13           76.4       19.001              28.4       52.545   \n",
       "14           72.5       15.266              23.8       51.592   \n",
       "15           75.7        0.954              40.7       44.873   \n",
       "\n",
       "    clevr-math.acc@5  clevr-math.acc@1  ham10k.auc  chexpert.auc  \\\n",
       "0             98.850            58.849        98.5          81.3   \n",
       "1             96.450            41.761        85.9          63.7   \n",
       "2             97.400            44.265        91.1          66.2   \n",
       "3             99.113            61.218        98.6          81.6   \n",
       "4             99.787            77.402        99.1          81.8   \n",
       "5             99.188            61.001        98.7          81.9   \n",
       "6             99.350            62.701        98.5          82.7   \n",
       "7             98.700            53.862        81.8          80.0   \n",
       "8             97.463            43.199        97.5          81.8   \n",
       "9             98.825            59.879        98.5          82.9   \n",
       "10            99.000            61.104        98.6          81.7   \n",
       "11            93.238            36.811        83.3          61.2   \n",
       "12            96.725            42.582        97.7          80.0   \n",
       "13            99.537            68.768        98.6          81.6   \n",
       "14            98.875            58.029        97.8          82.4   \n",
       "15            97.537            44.653        87.6          64.8   \n",
       "\n",
       "    diabetic.auc  acdc.dice-loss  flickr30k.text-to-image-acc@5  \\\n",
       "0           83.9            42.9                           18.8   \n",
       "1           55.1            25.3                            7.9   \n",
       "2           57.6             4.1                            8.1   \n",
       "3           86.7            46.2                           20.9   \n",
       "4           87.5            36.4                           21.2   \n",
       "5           84.7            48.5                           19.6   \n",
       "6           81.8            40.9                           20.0   \n",
       "7           81.8            27.0                           15.6   \n",
       "8           86.1            60.9                           17.3   \n",
       "9           85.7            45.4                           20.8   \n",
       "10          84.9            43.6                           20.9   \n",
       "11          51.8            25.3                            7.9   \n",
       "12          85.6            42.9                           16.3   \n",
       "13          85.4            51.3                           21.6   \n",
       "14          80.1            41.7                           17.1   \n",
       "15          56.9            28.7                            9.1   \n",
       "\n",
       "    flickr30k.text-to-image-acc@1  flickr30k.image-to-text-acc@1  \\\n",
       "0                             5.3                            5.5   \n",
       "1                             1.6                            1.5   \n",
       "2                             1.6                            1.5   \n",
       "3                             5.5                            6.2   \n",
       "4                             5.5                            6.0   \n",
       "5                             4.6                            5.4   \n",
       "6                             5.0                            5.6   \n",
       "7                             3.5                            4.2   \n",
       "8                             4.0                            3.7   \n",
       "9                             4.9                            5.9   \n",
       "10                            5.2                            5.9   \n",
       "11                            1.6                            1.6   \n",
       "12                            3.8                            3.7   \n",
       "13                            5.9                            7.0   \n",
       "14                            4.2                            4.3   \n",
       "15                            2.0                            1.8   \n",
       "\n",
       "    flickr30k.image-to-text-acc@5  \\\n",
       "0                            18.7   \n",
       "1                             7.8   \n",
       "2                             8.3   \n",
       "3                            20.6   \n",
       "4                            20.5   \n",
       "5                            18.6   \n",
       "6                            19.2   \n",
       "7                            16.0   \n",
       "8                            16.1   \n",
       "9                            20.0   \n",
       "10                           20.2   \n",
       "11                            7.9   \n",
       "12                           16.1   \n",
       "13                           21.0   \n",
       "14                           17.1   \n",
       "15                            8.9   \n",
       "\n",
       "    newyorkercaptioncontest.text-to-image-acc@5  \\\n",
       "0                                          19.5   \n",
       "1                                           8.1   \n",
       "2                                           8.2   \n",
       "3                                          21.0   \n",
       "4                                          21.4   \n",
       "5                                          20.0   \n",
       "6                                          21.9   \n",
       "7                                          15.1   \n",
       "8                                          16.8   \n",
       "9                                          20.9   \n",
       "10                                         21.3   \n",
       "11                                          7.9   \n",
       "12                                         17.3   \n",
       "13                                         22.5   \n",
       "14                                         18.4   \n",
       "15                                          9.8   \n",
       "\n",
       "    newyorkercaptioncontest.text-to-image-acc@1  \\\n",
       "0                                           5.2   \n",
       "1                                           1.6   \n",
       "2                                           1.5   \n",
       "3                                           5.7   \n",
       "4                                           5.8   \n",
       "5                                           5.2   \n",
       "6                                           6.0   \n",
       "7                                           3.4   \n",
       "8                                           3.5   \n",
       "9                                           5.3   \n",
       "10                                          5.9   \n",
       "11                                          1.6   \n",
       "12                                          4.1   \n",
       "13                                          6.2   \n",
       "14                                          4.7   \n",
       "15                                          2.0   \n",
       "\n",
       "    newyorkercaptioncontest.image-to-text-acc@1  \\\n",
       "0                                           5.4   \n",
       "1                                           1.6   \n",
       "2                                           1.6   \n",
       "3                                           6.0   \n",
       "4                                           6.3   \n",
       "5                                           5.3   \n",
       "6                                           6.5   \n",
       "7                                           3.4   \n",
       "8                                           3.4   \n",
       "9                                           5.3   \n",
       "10                                          6.6   \n",
       "11                                          1.6   \n",
       "12                                          3.9   \n",
       "13                                          6.9   \n",
       "14                                          4.6   \n",
       "15                                          2.1   \n",
       "\n",
       "    newyorkercaptioncontest.image-to-text-acc@5  \\\n",
       "0                                          18.7   \n",
       "1                                           8.1   \n",
       "2                                           8.5   \n",
       "3                                          19.9   \n",
       "4                                          21.0   \n",
       "5                                          19.0   \n",
       "6                                          20.5   \n",
       "7                                          14.4   \n",
       "8                                          14.9   \n",
       "9                                          19.6   \n",
       "10                                         21.2   \n",
       "11                                          7.9   \n",
       "12                                         16.3   \n",
       "13                                         21.8   \n",
       "14                                         17.8   \n",
       "15                                          9.2   \n",
       "\n",
       "    pokemonblipcaptions.text-to-image-acc@5  \\\n",
       "0                                      82.1   \n",
       "1                                      74.8   \n",
       "2                                      75.6   \n",
       "3                                      85.2   \n",
       "4                                      80.3   \n",
       "5                                      85.6   \n",
       "6                                      82.6   \n",
       "7                                      77.5   \n",
       "8                                      65.1   \n",
       "9                                      81.0   \n",
       "10                                     91.0   \n",
       "11                                     13.2   \n",
       "12                                     63.9   \n",
       "13                                     86.5   \n",
       "14                                     76.3   \n",
       "15                                     75.2   \n",
       "\n",
       "    pokemonblipcaptions.text-to-image-acc@1  \\\n",
       "0                                      64.0   \n",
       "1                                      55.6   \n",
       "2                                      59.9   \n",
       "3                                      67.9   \n",
       "4                                      61.0   \n",
       "5                                      68.2   \n",
       "6                                      67.0   \n",
       "7                                      60.5   \n",
       "8                                      46.3   \n",
       "9                                      63.7   \n",
       "10                                     67.6   \n",
       "11                                      2.6   \n",
       "12                                     51.0   \n",
       "13                                     66.4   \n",
       "14                                     63.0   \n",
       "15                                     61.4   \n",
       "\n",
       "    pokemonblipcaptions.image-to-text-acc@1  \\\n",
       "0                                      62.8   \n",
       "1                                      55.6   \n",
       "2                                      58.7   \n",
       "3                                      61.8   \n",
       "4                                      61.6   \n",
       "5                                      65.5   \n",
       "6                                      63.9   \n",
       "7                                      59.4   \n",
       "8                                      46.0   \n",
       "9                                      60.6   \n",
       "10                                     64.8   \n",
       "11                                      2.6   \n",
       "12                                     49.1   \n",
       "13                                     65.2   \n",
       "14                                     58.0   \n",
       "15                                     57.6   \n",
       "\n",
       "    pokemonblipcaptions.image-to-text-acc@5  winoground.image-to-text-acc@1  \\\n",
       "0                                      79.4                            61.1   \n",
       "1                                      69.4                            48.8   \n",
       "2                                      72.2                            50.3   \n",
       "3                                      81.7                            48.6   \n",
       "4                                      78.3                            39.8   \n",
       "5                                      81.8                            49.5   \n",
       "6                                      81.0                            42.4   \n",
       "7                                      78.2                            51.3   \n",
       "8                                      62.5                            50.0   \n",
       "9                                      79.0                            48.2   \n",
       "10                                     85.6                            48.2   \n",
       "11                                     13.2                            38.6   \n",
       "12                                     61.4                            50.0   \n",
       "13                                     87.1                            59.5   \n",
       "14                                     75.6                            45.4   \n",
       "15                                     68.7                            50.8   \n",
       "\n",
       "    winoground.text-to-image-acc@1  kinetics.acc@5  kinetics.acc@1  \\\n",
       "0                             56.9          63.288          36.718   \n",
       "1                             47.7           1.277           0.256   \n",
       "2                             50.4           1.269           0.233   \n",
       "3                             54.0          71.240          44.574   \n",
       "4                             47.8          75.765          49.011   \n",
       "5                             48.3          55.634          29.529   \n",
       "6                             49.2          66.558          39.528   \n",
       "7                             56.8           1.334           0.279   \n",
       "8                             50.0           2.357           0.561   \n",
       "9                             50.2          67.584          40.673   \n",
       "10                            56.2          70.913          43.591   \n",
       "11                            52.0           1.277           0.248   \n",
       "12                            50.0           8.813           2.399   \n",
       "13                            47.2          71.205          43.842   \n",
       "14                            40.9          51.144          25.282   \n",
       "15                            51.5           1.256           0.253   \n",
       "\n",
       "    hmdb51.acc@5  hmdb51.acc@1  ucf.acc@5  ucf.acc@1  iwildcam.mae  \\\n",
       "0         57.917        28.385     84.369     65.374     41.528571   \n",
       "1          9.961         1.953      5.444      1.031     35.871429   \n",
       "2          9.766         1.953      6.040      1.287     34.628571   \n",
       "3         70.039        40.404     88.238     71.440     48.385714   \n",
       "4         77.539        50.326     94.737     84.106     50.771429   \n",
       "5         56.525        27.995     77.125     52.769     42.714286   \n",
       "6         64.338        36.523     88.506     70.411     54.371429   \n",
       "7          9.726         1.628      5.173      0.840     50.214286   \n",
       "8         27.699        11.068     25.840      9.611     47.128571   \n",
       "9         60.885        32.227     81.510     63.159     54.957143   \n",
       "10        54.242        26.202     83.914     62.289     45.600000   \n",
       "11         9.766         1.432      6.040      1.392     34.400000   \n",
       "12        22.161         5.182     41.912     19.380     47.857143   \n",
       "13        65.938        39.922     88.352     68.101     53.171429   \n",
       "14        56.510        26.641     75.290     48.708     45.142857   \n",
       "15         9.831         1.953      6.171      1.155     49.157143   \n",
       "\n",
       "    Image Classification  Few Shot Image Classification  Image Segmentation  \\\n",
       "0              78.452571                      91.285714           25.091667   \n",
       "1              18.104905                      50.457143           13.970083   \n",
       "2              22.772345                      52.285714           14.047917   \n",
       "3              85.026024                      94.014286           31.695667   \n",
       "4              87.485417                      94.200000           50.016500   \n",
       "5              79.250476                      90.900000           27.070500   \n",
       "6              82.211190                      92.500000           28.964333   \n",
       "7              54.171917                      78.314286           20.763417   \n",
       "8              79.757857                      81.042857           25.804667   \n",
       "9              84.605917                      92.728571           29.812167   \n",
       "10             83.700595                      92.828571           28.977833   \n",
       "11             11.481774                      42.442857           13.727250   \n",
       "12             81.576357                      84.300000           25.001167   \n",
       "13             84.589929                      94.185714           28.866250   \n",
       "14             59.394298                      89.671429           24.903167   \n",
       "15             21.060190                      45.642857           13.520750   \n",
       "\n",
       "    Image Relational Reasoning  Medical Classification/Segmentation  \\\n",
       "0                    70.175667                               76.650   \n",
       "1                    60.258000                               57.500   \n",
       "2                    61.419333                               54.750   \n",
       "3                    70.984333                               78.275   \n",
       "4                    76.598333                               76.200   \n",
       "5                    71.011667                               78.450   \n",
       "6                    71.464333                               75.975   \n",
       "7                    65.892333                               67.650   \n",
       "8                    60.170000                               81.575   \n",
       "9                    70.220000                               78.125   \n",
       "10                   69.022333                               77.200   \n",
       "11                   57.109333                               55.400   \n",
       "12                   59.743667                               76.550   \n",
       "13                   73.616667                               79.225   \n",
       "14                   69.498667                               75.500   \n",
       "15                   62.354333                               59.500   \n",
       "\n",
       "    Image to Text Zero Shot Learning  Video Classification  Video Regression  \\\n",
       "0                          35.957143             56.008500         41.528571   \n",
       "1                          27.864286              3.320333         35.871429   \n",
       "2                          29.028571              3.424667         34.628571   \n",
       "3                          36.071429             64.322500         48.385714   \n",
       "4                          34.035714             71.914000         50.771429   \n",
       "5                          35.471429             49.929500         42.714286   \n",
       "6                          35.057143             60.977333         54.371429   \n",
       "7                          32.807143              3.163333         50.214286   \n",
       "8                          28.542857             12.856000         47.128571   \n",
       "9                          34.671429             57.673000         54.957143   \n",
       "10                         37.185714             56.858500         45.600000   \n",
       "11                         11.442857              3.359167         34.400000   \n",
       "12                         29.064286             16.641167         47.857143   \n",
       "13                         37.485714             62.893333         53.171429   \n",
       "14                         31.957143             47.262500         45.142857   \n",
       "15                         29.292857              3.436500         49.157143   \n",
       "\n",
       "    GATE (Weighted Higher is better)  devGATE (Weighted Higher is better)  \\\n",
       "0                         534.543562                            74.960810   \n",
       "1                         300.764451                            45.660588   \n",
       "2                         306.401759                            47.521119   \n",
       "3                         572.371821                            77.577337   \n",
       "4                         608.874067                            82.017180   \n",
       "5                         534.147589                            74.540238   \n",
       "6                         564.210857                            76.679310   \n",
       "7                         419.598804                            58.360116   \n",
       "8                         468.987536                            64.069425   \n",
       "9                         565.642379                            76.248173   \n",
       "10                        552.795241                            76.189762   \n",
       "11                        258.033643                            35.988167   \n",
       "12                        473.325509                            66.033218   \n",
       "13                        578.288290                            78.087085   \n",
       "14                        498.746317                            68.596160   \n",
       "15                        319.460210                            46.004697   \n",
       "\n",
       "    imagenet1k.acc@1 rank  imagenet1k.acc@5 rank  \\\n",
       "0                     5.0                    8.0   \n",
       "1                    15.0                   15.0   \n",
       "2                    14.0                   14.0   \n",
       "3                     4.0                    2.0   \n",
       "4                     1.0                    1.0   \n",
       "5                    10.0                   10.0   \n",
       "6                     3.0                    4.0   \n",
       "7                    11.0                   11.0   \n",
       "8                     9.0                    9.0   \n",
       "9                     2.0                    3.0   \n",
       "10                    8.0                    7.0   \n",
       "11                   16.0                   16.0   \n",
       "12                    6.0                    5.0   \n",
       "13                    7.0                    6.0   \n",
       "14                   12.0                   12.0   \n",
       "15                   13.0                   13.0   \n",
       "\n",
       "    devGATE (Weighted Higher is better rank)  \\\n",
       "0                                        7.0   \n",
       "1                                       15.0   \n",
       "2                                       13.0   \n",
       "3                                        3.0   \n",
       "4                                        1.0   \n",
       "5                                        8.0   \n",
       "6                                        4.0   \n",
       "7                                       12.0   \n",
       "8                                       11.0   \n",
       "9                                        5.0   \n",
       "10                                       6.0   \n",
       "11                                      16.0   \n",
       "12                                      10.0   \n",
       "13                                       2.0   \n",
       "14                                       9.0   \n",
       "15                                      14.0   \n",
       "\n",
       "    GATE (Weighted Higher is better rank)  \n",
       "0                                     7.0  \n",
       "1                                    15.0  \n",
       "2                                    14.0  \n",
       "3                                     3.0  \n",
       "4                                     1.0  \n",
       "5                                     8.0  \n",
       "6                                     5.0  \n",
       "7                                    12.0  \n",
       "8                                    11.0  \n",
       "9                                     4.0  \n",
       "10                                    6.0  \n",
       "11                                   16.0  \n",
       "12                                   10.0  \n",
       "13                                    2.0  \n",
       "14                                    9.0  \n",
       "15                                   13.0  "
      ]
     },
     "metadata": {},
     "output_type": "display_data"
    }
   ],
   "source": [
    "# def add_average_rank_column(df):\n",
    "#     # Add a column for the average rank\n",
    "#     lower_is_better_columns = [col for col in df.columns if 'loss' in col or 'mae' in col]\n",
    "#     higher_is_better_columns = list(set(df.columns) - set(lower_is_better_columns))\n",
    "#     # lower_is_better_ranks = df[lower_is_better_columns].rank(ascending=True)\n",
    "#     # higher_is_better_ranks = df[higher_is_better_columns].rank(ascending=False)\n",
    "#     # merged_ranks = pd.concat([lower_is_better_ranks, higher_is_better_ranks], axis=1)\n",
    "#     # df['Average Rank'] = merged_ranks.mean(axis=1).rank(ascending=True)\n",
    "#     return df\n",
    "    \n",
    "df[\"imagenet1k.acc@1 rank\"] = df[\"imagenet1k.acc@1\"].rank(ascending=False)\n",
    "df[\"imagenet1k.acc@5 rank\"] = df[\"imagenet1k.acc@5\"].rank(ascending=False)\n",
    "df[\"devGATE (Weighted Higher is better rank)\"] = df[\"devGATE (Weighted Higher is better)\"].rank(ascending=False)\n",
    "df[\"GATE (Weighted Higher is better rank)\"] = df[\"GATE (Weighted Higher is better)\"].rank(ascending=False)\n",
    "# df[\"devGATE (Weighted Lower is better rank)\"] = df[\"devGATE (Weighted Lower is better)\"].rank(ascending=True)\n",
    "# df[\"GATE (Weighted Lower is better rank)\"] = df[\"GATE (Weighted Lower is better)\"].rank(ascending=True)\n",
    "# df[\"devGATE (Higher is better) rank\"] = df[\"devGATE (Higher is better)\"].rank(ascending=False)\n",
    "# df[\"GATE (Higher is better) rank\"] = df[\"GATE (Higher is better)\"].rank(ascending=False)\n",
    "\n",
    "# df[\"imagenet1k.loss rank\"] = df[\"imagenet1k.loss\"].rank(ascending=True)\n",
    "# df[\"devGATE (Lower is better) rank\"] = df[\"devGATE (Lower is better)\"].rank(ascending=True)\n",
    "# df[\"GATE (Lower is better) rank\"] = df[\"GATE (Lower is better)\"].rank(ascending=True)\n",
    "\n",
    "# df = add_average_rank_column(df)\n",
    "display_custom(df)"
   ]
  },
  {
   "cell_type": "code",
   "execution_count": 1559,
   "metadata": {},
   "outputs": [
    {
     "data": {
      "application/vnd.plotly.v1+json": {
       "config": {
        "plotlyServerURL": "https://plot.ly"
       },
       "data": [
        {
         "colorscale": [
          [
           0,
           "rgb(0,0,0)"
          ],
          [
           0.2,
           "rgb(30,0,100)"
          ],
          [
           0.4,
           "rgb(120,0,100)"
          ],
          [
           0.6,
           "rgb(160,90,0)"
          ],
          [
           0.8,
           "rgb(230,200,0)"
          ],
          [
           1,
           "rgb(255,250,220)"
          ]
         ],
         "type": "heatmap",
         "x": [
          "imagenet1k.acc@1",
          "imagenet1k.acc@5",
          "imagenet1k.loss",
          "cifar100.loss",
          "cifar100.acc@1",
          "cifar100.acc@5",
          "food101.loss",
          "food101.acc@5",
          "food101.acc@1",
          "places365.loss",
          "places365.acc@5",
          "places365.acc@1",
          "fungi.acc@1",
          "mini.acc@1",
          "omniglot.acc@1",
          "vgg.acc@1",
          "aircraft.acc@1",
          "dtextures.acc@1",
          "cubirds.acc@1",
          "ade20k.dice-loss",
          "ade20k.mIoU",
          "coco-10k.mIoU",
          "coco-10k.dice-loss",
          "coco-164k.mIoU",
          "coco-164k.dice-loss",
          "cityscapes.mIoU",
          "cityscapes.dice-loss",
          "nyu.mIoU",
          "nyu.dice-loss",
          "pascal.mIoU",
          "pascal.dice-loss",
          "clevr.acc@1",
          "clevr-math.acc@5",
          "clevr-math.acc@1",
          "ham10k.auc",
          "chexpert.auc",
          "diabetic.auc",
          "acdc.dice-loss",
          "f30k.txt-to-img-acc@5",
          "f30k.txt-to-img-acc@1",
          "f30k.img-to-txt-acc@1",
          "f30k.img-to-txt-acc@5",
          "nycc.txt-to-img-acc@5",
          "nycc.txt-to-img-acc@1",
          "nycc.img-to-txt-acc@1",
          "nycc.img-to-txt-acc@5",
          "pbc.txt-to-img-acc@5",
          "pbc.txt-to-img-acc@1",
          "pbc.img-to-txt-acc@1",
          "pbc.img-to-txt-acc@5",
          "wg.img-to-txt-acc@1",
          "wg.txt-to-img-acc@1",
          "kinetics.acc@5",
          "kinetics.acc@1",
          "hmdb51.acc@5",
          "hmdb51.acc@1",
          "ucf.acc@5",
          "ucf.acc@1",
          "iwildcam.mae"
         ],
         "y": [
          "MPNET",
          "BART",
          "BERT",
          "Whisper",
          "SViT-B16",
          "EffFormer-s0",
          "DINO-B16",
          "EffV2-RW-S",
          "Laion-B16",
          "SIGLIP-P16",
          "RNX50-32x4A1",
          "AR-ViT-B16",
          "CLIP-B16",
          "DeiT3-B16",
          "Flex-B-1200EP",
          "ConvNextV2-Base"
         ],
         "z": [
          [
           0,
           0,
           0,
           0,
           0,
           0,
           0,
           0,
           0,
           0,
           0,
           0,
           0,
           0.04294478527607359,
           0.5513513513513515,
           0.15184381778741868,
           0,
           0.0922242314647377,
           0.2533936651583711,
           0.36942675159235644,
           0.0002710394362379728,
           0,
           0.01331719128329299,
           0.0005943928937027376,
           0.004968944099378887,
           0,
           0,
           0.15942028985507245,
           0.7462686567164176,
           0,
           0.4194214876033058,
           0.1100938605939379,
           0,
           0,
           0.08670520231213874,
           0,
           0,
           0.37323943661971826,
           0,
           0,
           0.018181818181818195,
           0.007575757575757617,
           0,
           0.021276595744680868,
           0,
           0,
           0,
           0,
           0,
           0,
           0,
           0.6937500000000004,
           0.00028184514622394487,
           0.000307515683299848,
           0.0005898574019730604,
           0,
           0.00968022866330222,
           0.006629356520068215,
           0
          ],
          [
           0.005584950029394474,
           0.021645202362812838,
           0.03295105798740106,
           0.15636822194199249,
           0.09589683752150222,
           0.2614698753462604,
           0.04984342379958258,
           0.07573301090929076,
           0.036407222399357585,
           0.1539368222536538,
           0.11541622497230723,
           0.04919929479174318,
           0.34260429835651074,
           0.05214723926380356,
           0.1945945945945943,
           0.12798264642082427,
           0.457002457002457,
           0.03978300180831819,
           0.28054298642533937,
           0.3757961783439489,
           0.0005962867597235403,
           0.00003277721328132685,
           0.01694915254237289,
           0.0007925238582703169,
           0.011180124223602496,
           0,
           0,
           0.06630018324171244,
           0.7761194029850748,
           0.001702556988365862,
           0.46487603305785097,
           0.20887828896753377,
           0.4904565582531684,
           0.12194821512157875,
           0.2369942196531797,
           0.11520737327188975,
           0.0924369747899159,
           0.37323943661971826,
           0,
           0,
           0,
           0,
           0.013698630136986254,
           0.021276595744680868,
           0,
           0.014388489208633042,
           0.7917737789203084,
           0.8079268292682927,
           0.8426073131955486,
           0.760487144790257,
           0.45333333333333314,
           0.425,
           0.00028184514622394487,
           0.00047152404772643383,
           0.0034654122365917954,
           0.010655704176381562,
           0.0030257692823009237,
           0.0022938534335743277,
           0.0715774843641416
          ],
          [
           0.01099353321575544,
           0.03739380909641195,
           0.05701825230172826,
           0.23203026481715008,
           0.16269502351709952,
           0.35849852839335183,
           0.15161795407098116,
           0.2213459371822703,
           0.11537416893990385,
           0.21051390853371052,
           0.1747203925819169,
           0.0830272533607581,
           0.33122629582806573,
           0.08742331288343554,
           0.5243243243243245,
           0.12798264642082427,
           0.5307125307125307,
           0.0795660036166365,
           0.2368024132730015,
           0.36942675159235644,
           0.000054207887247594565,
           0,
           0.01331719128329299,
           0.0003302182742792989,
           0.009937888198757775,
           0,
           0,
           0.16791604197901053,
           0.7611940298507472,
           0.0004098748305325224,
           0.48760330578512373,
           0.2111863363594403,
           0.6355168728050087,
           0.18363676677095908,
           0.5375722543352609,
           0.23041474654377916,
           0.1624649859943975,
           0,
           0.014598540145985349,
           0,
           0,
           0.03787878787878795,
           0.020547945205479503,
           0,
           0,
           0.043165467625899255,
           0.8020565552699228,
           0.8734756097560974,
           0.8918918918918918,
           0.7983761840324765,
           0.5199999999999998,
           0.5937500000000002,
           0.00017447556671006052,
           0,
           0.0005898574019730604,
           0.010655704176381562,
           0.00968022866330222,
           0.00536833761679437,
           0.011118832522585088
          ],
          [
           0.012310405643738977,
           0.03832265336366862,
           0.05782587627200765,
           0.17099621689785616,
           0.12031612755771012,
           0.2935638850415513,
           0.11377870563674321,
           0.16859937896732707,
           0.09213400880953222,
           0.20909948137670906,
           0.17461319484974447,
           0.08552486593697202,
           0.2756005056890012,
           0,
           0,
           0,
           0.5221130221130221,
           0,
           0,
           0.36624203821656043,
           0,
           0.00003277721328132685,
           0.012106537530266356,
           0,
           0.008695652173913052,
           0,
           0,
           0,
           0.7313432835820901,
           0.00018917299870731803,
           0.3884297520661157,
           0.38659793814432986,
           0.6564360971140636,
           0.19319553595624642,
           0.3352601156069363,
           0.16589861751152082,
           0.14285714285714252,
           0.4330985915492958,
           0.08759124087591234,
           0.09302325581395349,
           0.0545454545454545,
           0.08333333333333338,
           0.13013698630136988,
           0.10638297872340426,
           0.09433962264150943,
           0.09352517985611503,
           0.7969151670951157,
           0.8963414634146339,
           0.8744038155802861,
           0.7510148849797024,
           0.542222222222222,
           0.6625000000000004,
           0,
           0.0004100209110664641,
           0.0015483756801792966,
           0.010655704176381562,
           0.011142869903086064,
           0.003783056709821537,
           0.7178596247394021
          ],
          [
           0.23962375073486183,
           0.4998643261182659,
           0.4406396381844612,
           0.6892812105926859,
           0.5963118451600486,
           0.8110067520775623,
           0.8173277661795407,
           0.9229892006265283,
           0.7942277488456677,
           0.6544082979726545,
           0.6968329025572614,
           0.4921949606993315,
           0.8988621997471555,
           0.8880368098159509,
           0.978378378378378,
           0.8655097613882866,
           0.9471744471744472,
           0.844484629294756,
           0.9306184012066366,
           0.32484076433121,
           0.48312779509418613,
           0.6603952931921728,
           0.002421307506053271,
           0.595119373906152,
           0.0024844720496894437,
           0.7973972952283745,
           0.7626190476190475,
           0.63768115942029,
           0.25373134328358243,
           0.4514298325818962,
           0.0392561983471074,
           0.9035236190183107,
           0.8607420980302328,
           0.5227267128181124,
           0.92485549132948,
           0.9769585253456221,
           0.7927170868347341,
           0.6619718309859155,
           0.6715328467153285,
           0.6046511627906979,
           0.5090909090909089,
           0.7045454545454546,
           0.7191780821917807,
           0.6808510638297872,
           0.5660377358490565,
           0.7122302158273381,
           0.8110539845758354,
           0.920731707317073,
           0.8807631160572336,
           0.8443843031123139,
           0.3022222222222221,
           0,
           0.6695566978485821,
           0.5135306900651933,
           0.6898972173477061,
           0.5155847343232298,
           0.7828703496940737,
           0.574880503446785,
           0.5225851285615005
          ],
          [
           0.5217754262198707,
           0.7454027426997015,
           0.6454530770473267,
           0.2842370744010088,
           0.1866451744836463,
           0.41729787049861494,
           0.677713987473904,
           0.8333241735593965,
           0.6395413374901099,
           0.6188118811881189,
           0.6495348809509629,
           0.4641519136119885,
           0.5638432364096081,
           0.8726993865030676,
           0.805405405405405,
           0.7982646420824295,
           0.757985257985258,
           0.42495479204339953,
           0.8235294117647058,
           0.39490445859872597,
           0.2559425396395175,
           0.4569143531416959,
           0.08474576271186435,
           0.4445728626622197,
           0.13540372670807455,
           0.037404499947465586,
           0,
           1,
           0.835820895522389,
           0.4123340795157171,
           0.6095041322314048,
           0.4052161871057089,
           0.8340204611391049,
           0.42006848808849256,
           0,
           0.8663594470046087,
           0.8403361344537814,
           0.40316901408450706,
           0.5620437956204378,
           0.44186046511627924,
           0.49090909090909085,
           0.6212121212121212,
           0.4931506849315068,
           0.40425531914893625,
           0.33962264150943394,
           0.4676258992805754,
           0.8264781491002571,
           0.882621951219512,
           0.9030206677265501,
           0.8795669824086605,
           0.5644444444444445,
           0.9937500000000004,
           0.001046853400260372,
           0.0009430480954528682,
           0,
           0.0040086718206732925,
           0,
           0,
           0.7692842251563587
          ],
          [
           0.79119341563786,
           0.9127721304974012,
           0.8803101276045873,
           0.8587641866330389,
           0.785350831819658,
           0.9152527700831026,
           0.9399791231732778,
           0.9771234645928936,
           0.9222611920029287,
           0.9226779820839227,
           0.9330490608287575,
           0.8664511863659737,
           0.943109987357775,
           0.8588957055214725,
           0.983783783783784,
           0.9197396963123644,
           0.9803439803439803,
           0.8300180831826403,
           0.9683257918552035,
           0.16878980891719755,
           0.4947011790215476,
           0.8165787144776951,
           0.004842615012106542,
           0.7993263547204703,
           0.028571428571428595,
           0.9039520886180447,
           0.860238095238095,
           0.2736964850907879,
           0.08955223880596927,
           0.5434309676198884,
           0.17148760330578516,
           1,
           0.9085356542983657,
           0.5959449138971693,
           0.9768786127167635,
           0.9539170506912442,
           0.9215686274509804,
           0.7816901408450705,
           0.8540145985401459,
           0.6976744186046512,
           0.709090909090909,
           0.8181818181818182,
           0.8287671232876712,
           0.7872340425531915,
           0.6981132075471697,
           0.7985611510791366,
           0.9305912596401027,
           1,
           1,
           0.9282814614343708,
           0.4844444444444444,
           0.46250000000000013,
           0.7298178743507495,
           0.6005986305301569,
           0.6901184138734461,
           0.543277293737473,
           0.803358492251351,
           0.623651910743881,
           0.40444753300903385
          ],
          [
           0.8384597295708408,
           0.9330814669477551,
           0.8932321111290582,
           0.7929382093316517,
           0.7695444539341522,
           0.9139651142659281,
           0.8969206680584552,
           0.968426259239922,
           0.9076534287502507,
           0.9568599717114569,
           0.96502971759353,
           0.9327848380224786,
           0.8482932996207333,
           0.4432515337423312,
           0.978378378378378,
           0.8177874186550977,
           0.9041769041769042,
           0.4755877034358047,
           0.9110105580693817,
           0.3407643312101909,
           0.33364954600894425,
           0.2834901176701957,
           0.043583535108958744,
           0.27018459201532213,
           0.02360248447204971,
           0.9477807964216561,
           0.9566666666666667,
           0.6198567382975179,
           0.7164179104477605,
           0.3413942050004729,
           0.3367768595041322,
           0,
           0.6451366620858131,
           0.1573747875144736,
           0.9075144508670523,
           0.9493087557603689,
           0.96078431372549,
           1,
           0.6861313868613136,
           0.558139534883721,
           0.3999999999999999,
           0.6287878787878789,
           0.6095890410958904,
           0.4255319148936171,
           0.33962264150943394,
           0.5035971223021581,
           0.667095115681234,
           0.6661585365853658,
           0.6899841017488076,
           0.6671177266576455,
           0.5066666666666666,
           0.5687500000000003,
           0.01477673838059832,
           0.0067243429414900165,
           0.265037677141551,
           0.19707939624493803,
           0.23075119467643254,
           0.10533711238680857,
           0.6191799861014593
          ],
          [
           0.868206937095826,
           0.9603832265336367,
           0.92812146664513,
           0.9361916771752837,
           0.8918935174603937,
           0.9614460699445984,
           0.9840814196242172,
           0.9944491769943115,
           0.9791216447609263,
           0.9662894860914663,
           0.9800493109567994,
           0.9669066333651657,
           0.9936788874841972,
           0.8726993865030676,
           0.9945945945945949,
           0.9392624728850326,
           0.9864864864864864,
           0.9439421338155514,
           0.9788838612368024,
           0.08280254777070067,
           0.7384740479739801,
           1,
           0.006053268765133178,
           0.8956180035003136,
           0,
           0.9998348918541643,
           1,
           0.08795602198900544,
           0.38805970149253843,
           0.5635778919822177,
           0.09917355371900832,
           0.547391906447146,
           0.879828981523896,
           0.5984824222118204,
           0.9710982658959537,
           0.944700460829493,
           0.9271708683473386,
           0.6954225352112677,
           0.9489051094890509,
           0.8372093023255817,
           0.7999999999999998,
           0.9393939393939396,
           0.9178082191780822,
           0.9361702127659572,
           0.9433962264150942,
           0.9568345323741007,
           1,
           0.9908536585365855,
           0.9888712241653418,
           0.979702300405954,
           0.4266666666666664,
           0.9562500000000007,
           0.9348803500248292,
           0.8888843331009881,
           0.6564523026558329,
           0.5066061275412117,
           0.8791590371131259,
           0.7379842913073764,
           0.5448227936066714
          ],
          [
           0.8798589065255732,
           0.9605084639629297,
           0.9353900823776449,
           0.9558638083228247,
           0.912728103836114,
           0.9745931440443213,
           1,
           1,
           1,
           0.9806694955209808,
           0.9849446740593399,
           0.9786417395137001,
           1,
           0.9079754601226996,
           1,
           0.9783080260303688,
           1,
           1,
           0.9879336349924586,
           0,
           0.8223336495460088,
           0.7796387951096398,
           0.003631961259079907,
           0.9555856421094344,
           0.0037267080745341653,
           0.968209177010942,
           0.9376190476190476,
           0.5582208895552224,
           0.835820895522389,
           0.5691900242772016,
           0.13429752066115705,
           0.9768425911678724,
           0.9618262330126738,
           0.787292749624301,
           0.9710982658959537,
           0.9400921658986177,
           0.9411764705882351,
           0.8309859154929579,
           1,
           1,
           1,
           1,
           1,
           1,
           1,
           1,
           0.9421593830334191,
           0.9725609756097561,
           0.9952305246422893,
           1,
           0.9288888888888889,
           0.39375,
           0.938799339677086,
           0.8940300955348722,
           0.8289266069927596,
           0.7872131549883421,
           0.9287101960609174,
           0.8077846900295439,
           0.9131341209173034
          ],
          [
           0.906549088771311,
           0.962230478615709,
           0.9355516071717008,
           0.8451450189155107,
           0.8097701218558659,
           0.9333448753462604,
           0.9021398747390399,
           0.9700475392267318,
           0.9096609629078541,
           0.9620462046204621,
           0.9664590206891622,
           0.9400389333725115,
           0.8621997471554993,
           0.6809815950920245,
           0.972972972972973,
           0.7440347071583514,
           0.9508599508599509,
           0.5714285714285714,
           0.9200603318250378,
           0.31847133757961765,
           0.4828025477707006,
           0.5974958209053066,
           0.07263922518159799,
           0.5517617144932802,
           0.08571428571428566,
           0.5822013418789306,
           0.6076190476190475,
           0.3589871730801267,
           0.7462686567164176,
           0.49367846895986384,
           0.24586776859504123,
           0.005847053392829707,
           0.5324477019392261,
           0.14217437362962235,
           0.919075144508671,
           0.8663594470046087,
           0.9467787114845937,
           0.6830985915492959,
           0.6131386861313869,
           0.5116279069767442,
           0.3999999999999999,
           0.6287878787878789,
           0.643835616438356,
           0.5531914893617023,
           0.4339622641509433,
           0.60431654676259,
           0.6516709511568123,
           0.7378048780487804,
           0.739268680445151,
           0.652232746955345,
           0.5066666666666666,
           0.5687500000000003,
           0.1014239890483029,
           0.04440526466849809,
           0.18337191983837908,
           0.07669652718124924,
           0.4101982939573936,
           0.22265990920663897,
           0.6546212647671991
          ],
          [
           0.9166490299823633,
           0.9598822768164647,
           0.9463737683734452,
           0.7488020176544765,
           0.6585629909420072,
           0.8507509522160666,
           0.912839248434238,
           0.9658706823115605,
           0.890553961337254,
           0.904997642621405,
           0.921162023416749,
           0.8515206053037537,
           0.8963337547408343,
           0.9938650306748468,
           0.978378378378378,
           0.9110629067245121,
           0.9656019656019654,
           0.844484629294756,
           0.9457013574660632,
           0.028662420382165554,
           0.46063152188643447,
           0.744960503457996,
           0,
           0.7012185054320906,
           0.004968944099378887,
           0.8682887291175719,
           0.8378571428571426,
           0.6413459936698319,
           0.31343283582089454,
           0.4575464262067661,
           0,
           0.9986151715648566,
           0.8569247213314993,
           0.5429282353231011,
           0.9653179190751449,
           0.926267281105991,
           0.899159663865546,
           0.6830985915492959,
           0.7956204379562043,
           0.86046511627907,
           0.7272727272727272,
           0.8257575757575757,
           0.7945205479452054,
           0.7872340425531915,
           0.7169811320754716,
           0.776978417266187,
           0.8856041131105398,
           0.9359756097560974,
           0.957074721780604,
           0.8958051420838973,
           1,
           1,
           0.8325437195506583,
           0.7479806470129977,
           0.710645451462109,
           0.5512537325643229,
           0.8842392032513063,
           0.775034227655946,
           0.34676858929812326
          ],
          [
           0.9591651969429748,
           0.9880711348598384,
           0.9811015990954611,
           0.932408575031526,
           0.8869856010393233,
           0.9603748268698061,
           0.9848643006263049,
           0.9940232475062515,
           0.9810347067228774,
           0.9768976897689771,
           0.9825982348106769,
           0.9764746933078675,
           0.9962073324905182,
           0.9555214723926382,
           0.9945945945945949,
           0.9848156182212584,
           0.9914004914004914,
           0.9240506329113923,
           0.9984917043740572,
           0.3152866242038214,
           0.9065184984415233,
           0.9686977613163329,
           0.006053268765133178,
           1,
           0.024844720496894436,
           0.9777704396379627,
           0.9538095238095236,
           0.5080792936864901,
           0.07462686567164388,
           0.8093766749692594,
           0.30785123966942135,
           0.9827665794737654,
           0.8970835242021674,
           0.601290926560075,
           0.9710982658959537,
           0.9400921658986177,
           0.9775910364145659,
           0.7411971830985915,
           0.9489051094890509,
           0.9069767441860467,
           0.8545454545454544,
           0.9696969696969695,
           0.8972602739726028,
           0.8936170212765957,
           0.830188679245283,
           0.8633093525179857,
           0.9254498714652957,
           0.9954268292682927,
           0.9411764705882353,
           0.9269282814614342,
           0.4444444444444444,
           0.8187500000000004,
           0.9392690815874591,
           0.9090368608799048,
           0.8894017371300488,
           0.7970712152820387,
           0.9274373632262963,
           0.8478850911536522,
           0.6803335649756773
          ],
          [
           0.9614697236919459,
           0.9772902794881964,
           0.9743175577451139,
           0.8683480453972258,
           0.7909805006555917,
           0.9288218490304708,
           0.9480688935281837,
           0.9808194333763841,
           0.931850119861598,
           0.9330504479019331,
           0.9438879426373025,
           0.8889113347535444,
           0.934260429835651,
           0.995398773006135,
           0.978378378378378,
           0.926247288503254,
           0.9766584766584766,
           0.880650994575045,
           0.9728506787330318,
           0.2643312101910829,
           0.5838731535438405,
           0.9272673637287357,
           0.024213075060532715,
           0.8598553643958656,
           0.018633540372670822,
           0.9431127388439426,
           0.8569047619047618,
           0.49858404131267714,
           0,
           0.6729198852350474,
           0.23553719008264454,
           0.9612248038159719,
           0.9332722553061519,
           0.6378261190904387,
           0.9653179190751449,
           0.9907834101382487,
           0.8403361344537814,
           0.6478873239436621,
           0.8832116788321167,
           0.7906976744186048,
           0.7454545454545455,
           0.8636363636363635,
           0.958904109589041,
           0.9574468085106382,
           0.9245283018867924,
           0.9064748201438848,
           0.8920308483290488,
           0.9817073170731707,
           0.9745627980922098,
           0.9174560216508796,
           0.16888888888888876,
           0.5187500000000005,
           0.8764310351769585,
           0.8055885850178358,
           0.8053323109138365,
           0.7176954227512579,
           0.9304296369076862,
           0.8355271059015685,
           0.9715079916608754
          ],
          [
           0.9644562022339801,
           0.9851489281763343,
           0.979809400743014,
           0.9394703656998739,
           0.8914243783907325,
           0.9669429536011082,
           0.9624217118997911,
           0.9859718062158224,
           0.9532362631523009,
           0.970768505421971,
           0.9760115297116382,
           0.9511312715786381,
           0.9747155499367889,
           1,
           0.9945945945945949,
           0.9370932754880696,
           0.9840294840294839,
           0.8173598553345389,
           0.9758672699849169,
           0.248407643312102,
           0.6220355061661471,
           0.9936739978367038,
           0.030266343825665887,
           0.9216722253409504,
           0.026086956521739164,
           1,
           0.9188095238095237,
           0.2835249042145594,
           0.25373134328358243,
           0.6530251915376613,
           0.19628099173553706,
           0.9315279273734426,
           0.853107344632768,
           0.5683033184696115,
           0.9653179190751449,
           1,
           0.9495798319327732,
           0.727112676056338,
           0.9416058394160584,
           0.7674418604651165,
           0.7999999999999998,
           0.9242424242424242,
           0.8904109589041095,
           0.8085106382978723,
           0.6981132075471697,
           0.8417266187050361,
           0.87146529562982,
           0.9314024390243901,
           0.9220985691573927,
           0.8903924221921516,
           0.4266666666666664,
           0.5812500000000005,
           0.8902011837496142,
           0.829062282176391,
           0.754412870688511,
           0.6298318812124187,
           0.8523178955830468,
           0.7484327336487883,
           1
          ],
          [
           1,
           1,
           1,
           1,
           1,
           1,
           0.9937369519832986,
           0.998310021708664,
           0.997567340961963,
           1,
           1,
           1,
           1,
           0.9493865030674847,
           0.978378378378378,
           1,
           0.9938574938574939,
           0.9367088607594937,
           1,
           1,
           1,
           0.8779376577403389,
           1,
           0.8246540963576925,
           1,
           0.935727901775663,
           0.9947619047619044,
           0.12743628185907044,
           1,
           1,
           1,
           0.9815356208647488,
           1,
           1,
           1,
           0.9493087557603689,
           1,
           0.5686619718309859,
           0.970802919708029,
           0.9069767441860467,
           0.818181818181818,
           0.9621212121212122,
           0.9246575342465753,
           0.9148936170212767,
           0.8867924528301884,
           0.9424460431654675,
           0.8624678663239076,
           0.8902439024390243,
           0.9379968203497615,
           0.8809201623815968,
           0.05333333333333346,
           0.4312500000000001,
           1,
           1,
           1,
           1,
           1,
           1,
           0.7963863794301592
          ]
         ]
        }
       ],
       "layout": {
        "autosize": true,
        "margin": {
         "b": 100,
         "l": 50,
         "pad": 4,
         "r": 50,
         "t": 100
        },
        "template": {
         "data": {
          "bar": [
           {
            "error_x": {
             "color": "#2a3f5f"
            },
            "error_y": {
             "color": "#2a3f5f"
            },
            "marker": {
             "line": {
              "color": "#E5ECF6",
              "width": 0.5
             },
             "pattern": {
              "fillmode": "overlay",
              "size": 10,
              "solidity": 0.2
             }
            },
            "type": "bar"
           }
          ],
          "barpolar": [
           {
            "marker": {
             "line": {
              "color": "#E5ECF6",
              "width": 0.5
             },
             "pattern": {
              "fillmode": "overlay",
              "size": 10,
              "solidity": 0.2
             }
            },
            "type": "barpolar"
           }
          ],
          "carpet": [
           {
            "aaxis": {
             "endlinecolor": "#2a3f5f",
             "gridcolor": "white",
             "linecolor": "white",
             "minorgridcolor": "white",
             "startlinecolor": "#2a3f5f"
            },
            "baxis": {
             "endlinecolor": "#2a3f5f",
             "gridcolor": "white",
             "linecolor": "white",
             "minorgridcolor": "white",
             "startlinecolor": "#2a3f5f"
            },
            "type": "carpet"
           }
          ],
          "choropleth": [
           {
            "colorbar": {
             "outlinewidth": 0,
             "ticks": ""
            },
            "type": "choropleth"
           }
          ],
          "contour": [
           {
            "colorbar": {
             "outlinewidth": 0,
             "ticks": ""
            },
            "colorscale": [
             [
              0,
              "#0d0887"
             ],
             [
              0.1111111111111111,
              "#46039f"
             ],
             [
              0.2222222222222222,
              "#7201a8"
             ],
             [
              0.3333333333333333,
              "#9c179e"
             ],
             [
              0.4444444444444444,
              "#bd3786"
             ],
             [
              0.5555555555555556,
              "#d8576b"
             ],
             [
              0.6666666666666666,
              "#ed7953"
             ],
             [
              0.7777777777777778,
              "#fb9f3a"
             ],
             [
              0.8888888888888888,
              "#fdca26"
             ],
             [
              1,
              "#f0f921"
             ]
            ],
            "type": "contour"
           }
          ],
          "contourcarpet": [
           {
            "colorbar": {
             "outlinewidth": 0,
             "ticks": ""
            },
            "type": "contourcarpet"
           }
          ],
          "heatmap": [
           {
            "colorbar": {
             "outlinewidth": 0,
             "ticks": ""
            },
            "colorscale": [
             [
              0,
              "#0d0887"
             ],
             [
              0.1111111111111111,
              "#46039f"
             ],
             [
              0.2222222222222222,
              "#7201a8"
             ],
             [
              0.3333333333333333,
              "#9c179e"
             ],
             [
              0.4444444444444444,
              "#bd3786"
             ],
             [
              0.5555555555555556,
              "#d8576b"
             ],
             [
              0.6666666666666666,
              "#ed7953"
             ],
             [
              0.7777777777777778,
              "#fb9f3a"
             ],
             [
              0.8888888888888888,
              "#fdca26"
             ],
             [
              1,
              "#f0f921"
             ]
            ],
            "type": "heatmap"
           }
          ],
          "heatmapgl": [
           {
            "colorbar": {
             "outlinewidth": 0,
             "ticks": ""
            },
            "colorscale": [
             [
              0,
              "#0d0887"
             ],
             [
              0.1111111111111111,
              "#46039f"
             ],
             [
              0.2222222222222222,
              "#7201a8"
             ],
             [
              0.3333333333333333,
              "#9c179e"
             ],
             [
              0.4444444444444444,
              "#bd3786"
             ],
             [
              0.5555555555555556,
              "#d8576b"
             ],
             [
              0.6666666666666666,
              "#ed7953"
             ],
             [
              0.7777777777777778,
              "#fb9f3a"
             ],
             [
              0.8888888888888888,
              "#fdca26"
             ],
             [
              1,
              "#f0f921"
             ]
            ],
            "type": "heatmapgl"
           }
          ],
          "histogram": [
           {
            "marker": {
             "pattern": {
              "fillmode": "overlay",
              "size": 10,
              "solidity": 0.2
             }
            },
            "type": "histogram"
           }
          ],
          "histogram2d": [
           {
            "colorbar": {
             "outlinewidth": 0,
             "ticks": ""
            },
            "colorscale": [
             [
              0,
              "#0d0887"
             ],
             [
              0.1111111111111111,
              "#46039f"
             ],
             [
              0.2222222222222222,
              "#7201a8"
             ],
             [
              0.3333333333333333,
              "#9c179e"
             ],
             [
              0.4444444444444444,
              "#bd3786"
             ],
             [
              0.5555555555555556,
              "#d8576b"
             ],
             [
              0.6666666666666666,
              "#ed7953"
             ],
             [
              0.7777777777777778,
              "#fb9f3a"
             ],
             [
              0.8888888888888888,
              "#fdca26"
             ],
             [
              1,
              "#f0f921"
             ]
            ],
            "type": "histogram2d"
           }
          ],
          "histogram2dcontour": [
           {
            "colorbar": {
             "outlinewidth": 0,
             "ticks": ""
            },
            "colorscale": [
             [
              0,
              "#0d0887"
             ],
             [
              0.1111111111111111,
              "#46039f"
             ],
             [
              0.2222222222222222,
              "#7201a8"
             ],
             [
              0.3333333333333333,
              "#9c179e"
             ],
             [
              0.4444444444444444,
              "#bd3786"
             ],
             [
              0.5555555555555556,
              "#d8576b"
             ],
             [
              0.6666666666666666,
              "#ed7953"
             ],
             [
              0.7777777777777778,
              "#fb9f3a"
             ],
             [
              0.8888888888888888,
              "#fdca26"
             ],
             [
              1,
              "#f0f921"
             ]
            ],
            "type": "histogram2dcontour"
           }
          ],
          "mesh3d": [
           {
            "colorbar": {
             "outlinewidth": 0,
             "ticks": ""
            },
            "type": "mesh3d"
           }
          ],
          "parcoords": [
           {
            "line": {
             "colorbar": {
              "outlinewidth": 0,
              "ticks": ""
             }
            },
            "type": "parcoords"
           }
          ],
          "pie": [
           {
            "automargin": true,
            "type": "pie"
           }
          ],
          "scatter": [
           {
            "fillpattern": {
             "fillmode": "overlay",
             "size": 10,
             "solidity": 0.2
            },
            "type": "scatter"
           }
          ],
          "scatter3d": [
           {
            "line": {
             "colorbar": {
              "outlinewidth": 0,
              "ticks": ""
             }
            },
            "marker": {
             "colorbar": {
              "outlinewidth": 0,
              "ticks": ""
             }
            },
            "type": "scatter3d"
           }
          ],
          "scattercarpet": [
           {
            "marker": {
             "colorbar": {
              "outlinewidth": 0,
              "ticks": ""
             }
            },
            "type": "scattercarpet"
           }
          ],
          "scattergeo": [
           {
            "marker": {
             "colorbar": {
              "outlinewidth": 0,
              "ticks": ""
             }
            },
            "type": "scattergeo"
           }
          ],
          "scattergl": [
           {
            "marker": {
             "colorbar": {
              "outlinewidth": 0,
              "ticks": ""
             }
            },
            "type": "scattergl"
           }
          ],
          "scattermapbox": [
           {
            "marker": {
             "colorbar": {
              "outlinewidth": 0,
              "ticks": ""
             }
            },
            "type": "scattermapbox"
           }
          ],
          "scatterpolar": [
           {
            "marker": {
             "colorbar": {
              "outlinewidth": 0,
              "ticks": ""
             }
            },
            "type": "scatterpolar"
           }
          ],
          "scatterpolargl": [
           {
            "marker": {
             "colorbar": {
              "outlinewidth": 0,
              "ticks": ""
             }
            },
            "type": "scatterpolargl"
           }
          ],
          "scatterternary": [
           {
            "marker": {
             "colorbar": {
              "outlinewidth": 0,
              "ticks": ""
             }
            },
            "type": "scatterternary"
           }
          ],
          "surface": [
           {
            "colorbar": {
             "outlinewidth": 0,
             "ticks": ""
            },
            "colorscale": [
             [
              0,
              "#0d0887"
             ],
             [
              0.1111111111111111,
              "#46039f"
             ],
             [
              0.2222222222222222,
              "#7201a8"
             ],
             [
              0.3333333333333333,
              "#9c179e"
             ],
             [
              0.4444444444444444,
              "#bd3786"
             ],
             [
              0.5555555555555556,
              "#d8576b"
             ],
             [
              0.6666666666666666,
              "#ed7953"
             ],
             [
              0.7777777777777778,
              "#fb9f3a"
             ],
             [
              0.8888888888888888,
              "#fdca26"
             ],
             [
              1,
              "#f0f921"
             ]
            ],
            "type": "surface"
           }
          ],
          "table": [
           {
            "cells": {
             "fill": {
              "color": "#EBF0F8"
             },
             "line": {
              "color": "white"
             }
            },
            "header": {
             "fill": {
              "color": "#C8D4E3"
             },
             "line": {
              "color": "white"
             }
            },
            "type": "table"
           }
          ]
         },
         "layout": {
          "annotationdefaults": {
           "arrowcolor": "#2a3f5f",
           "arrowhead": 0,
           "arrowwidth": 1
          },
          "autotypenumbers": "strict",
          "coloraxis": {
           "colorbar": {
            "outlinewidth": 0,
            "ticks": ""
           }
          },
          "colorscale": {
           "diverging": [
            [
             0,
             "#8e0152"
            ],
            [
             0.1,
             "#c51b7d"
            ],
            [
             0.2,
             "#de77ae"
            ],
            [
             0.3,
             "#f1b6da"
            ],
            [
             0.4,
             "#fde0ef"
            ],
            [
             0.5,
             "#f7f7f7"
            ],
            [
             0.6,
             "#e6f5d0"
            ],
            [
             0.7,
             "#b8e186"
            ],
            [
             0.8,
             "#7fbc41"
            ],
            [
             0.9,
             "#4d9221"
            ],
            [
             1,
             "#276419"
            ]
           ],
           "sequential": [
            [
             0,
             "#0d0887"
            ],
            [
             0.1111111111111111,
             "#46039f"
            ],
            [
             0.2222222222222222,
             "#7201a8"
            ],
            [
             0.3333333333333333,
             "#9c179e"
            ],
            [
             0.4444444444444444,
             "#bd3786"
            ],
            [
             0.5555555555555556,
             "#d8576b"
            ],
            [
             0.6666666666666666,
             "#ed7953"
            ],
            [
             0.7777777777777778,
             "#fb9f3a"
            ],
            [
             0.8888888888888888,
             "#fdca26"
            ],
            [
             1,
             "#f0f921"
            ]
           ],
           "sequentialminus": [
            [
             0,
             "#0d0887"
            ],
            [
             0.1111111111111111,
             "#46039f"
            ],
            [
             0.2222222222222222,
             "#7201a8"
            ],
            [
             0.3333333333333333,
             "#9c179e"
            ],
            [
             0.4444444444444444,
             "#bd3786"
            ],
            [
             0.5555555555555556,
             "#d8576b"
            ],
            [
             0.6666666666666666,
             "#ed7953"
            ],
            [
             0.7777777777777778,
             "#fb9f3a"
            ],
            [
             0.8888888888888888,
             "#fdca26"
            ],
            [
             1,
             "#f0f921"
            ]
           ]
          },
          "colorway": [
           "#636efa",
           "#EF553B",
           "#00cc96",
           "#ab63fa",
           "#FFA15A",
           "#19d3f3",
           "#FF6692",
           "#B6E880",
           "#FF97FF",
           "#FECB52"
          ],
          "font": {
           "color": "#2a3f5f"
          },
          "geo": {
           "bgcolor": "white",
           "lakecolor": "white",
           "landcolor": "#E5ECF6",
           "showlakes": true,
           "showland": true,
           "subunitcolor": "white"
          },
          "hoverlabel": {
           "align": "left"
          },
          "hovermode": "closest",
          "mapbox": {
           "style": "light"
          },
          "paper_bgcolor": "white",
          "plot_bgcolor": "#E5ECF6",
          "polar": {
           "angularaxis": {
            "gridcolor": "white",
            "linecolor": "white",
            "ticks": ""
           },
           "bgcolor": "#E5ECF6",
           "radialaxis": {
            "gridcolor": "white",
            "linecolor": "white",
            "ticks": ""
           }
          },
          "scene": {
           "xaxis": {
            "backgroundcolor": "#E5ECF6",
            "gridcolor": "white",
            "gridwidth": 2,
            "linecolor": "white",
            "showbackground": true,
            "ticks": "",
            "zerolinecolor": "white"
           },
           "yaxis": {
            "backgroundcolor": "#E5ECF6",
            "gridcolor": "white",
            "gridwidth": 2,
            "linecolor": "white",
            "showbackground": true,
            "ticks": "",
            "zerolinecolor": "white"
           },
           "zaxis": {
            "backgroundcolor": "#E5ECF6",
            "gridcolor": "white",
            "gridwidth": 2,
            "linecolor": "white",
            "showbackground": true,
            "ticks": "",
            "zerolinecolor": "white"
           }
          },
          "shapedefaults": {
           "line": {
            "color": "#2a3f5f"
           }
          },
          "ternary": {
           "aaxis": {
            "gridcolor": "white",
            "linecolor": "white",
            "ticks": ""
           },
           "baxis": {
            "gridcolor": "white",
            "linecolor": "white",
            "ticks": ""
           },
           "bgcolor": "#E5ECF6",
           "caxis": {
            "gridcolor": "white",
            "linecolor": "white",
            "ticks": ""
           }
          },
          "title": {
           "x": 0.05
          },
          "xaxis": {
           "automargin": true,
           "gridcolor": "white",
           "linecolor": "white",
           "ticks": "",
           "title": {
            "standoff": 15
           },
           "zerolinecolor": "white",
           "zerolinewidth": 2
          },
          "yaxis": {
           "automargin": true,
           "gridcolor": "white",
           "linecolor": "white",
           "ticks": "",
           "title": {
            "standoff": 15
           },
           "zerolinecolor": "white",
           "zerolinewidth": 2
          }
         }
        },
        "title": {
         "text": "Model vs Dataset Rankings"
        },
        "width": 800,
        "xaxis": {
         "nticks": 59
        },
        "yaxis": {
         "nticks": 16
        }
       }
      }
     },
     "metadata": {},
     "output_type": "display_data"
    }
   ],
   "source": [
    "from typing import Optional\n",
    "import plotly.graph_objects as go\n",
    "import plotly.express as px\n",
    "import pandas as pd\n",
    "import yaml  \n",
    "\n",
    "def stable_softmax(df):\n",
    "    # Exclude the first column which contains text\n",
    "    columns = df.columns[1:]\n",
    "    for col in columns:\n",
    "        # df[col] = np.exp((df[col] - df[col].max())) / np.exp((df[col] - df[col].max())).sum()\n",
    "        # reduce the temperature of the softmax\n",
    "        # temp = 0.9\n",
    "        # df[col] = np.exp((df[col] - df[col].max()) / temp) / np.exp((df[col] - df[col].max()) / temp).sum()\n",
    "        df[col] = (df[col] - df[col].min()) / (df[col].max() - df[col].min())\n",
    "    return df\n",
    "\n",
    "def interpolate_colorscale(colorscale, steps=100):\n",
    "    # Get the list of colors from the colorscale\n",
    "    colors = [color for color in colorscale]\n",
    "    print(colors)\n",
    "    # Interpolate the colors\n",
    "    interpolated_colors = np.interp(np.linspace(0, 1, steps), np.linspace(0, 1, len(colors)), colors)\n",
    "    # Create a new colorscale with interpolated colors\n",
    "    interpolated_colorscale = [[i/(steps-1), color] for i, color in enumerate(interpolated_colors)]\n",
    "    return interpolated_colorscale\n",
    "    \n",
    "def plot_heatmap(df: pd.DataFrame, task_type: Optional[str] = None):\n",
    "    \"\"\"\n",
    "    Plot a heatmap of the DataFrame using Plotly, with rows sorted by their average rank.\n",
    "    The x-axis labels reflect the order of the columns after they have been reordered by similarity.\n",
    "\n",
    "    Parameters:\n",
    "    df (pandas.DataFrame): The DataFrame to plot.\n",
    "\n",
    "    Returns:\n",
    "    None\n",
    "    \"\"\"\n",
    "    # remove all columns after iwildcam.mae\n",
    "    df = df.loc[:, :'iwildcam.mae']\n",
    "    # rank rows by imagenet1k.acc@1\n",
    "    df = df.sort_values(by=\"imagenet1k.acc@1\", ascending=True)\n",
    "    df = stable_softmax(df)\n",
    "    # Define the task mapping\n",
    "    # softmax all columns using the logmax function columnwise\n",
    "    # df = df.apply(lambda x: np.log(np.exp(x).sum()), axis=1)\n",
    "    \n",
    "    if task_type:\n",
    "        task_mapping = yaml.safe_load(open(\"task_mapping.yaml\", \"r\"))\n",
    "        column_names = task_mapping[task_type] + [\"imagenet1k.acc@1\"]\n",
    "        keep_columns = [column for column in df.columns if column in column_names]\n",
    "    else:\n",
    "        keep_columns = df.columns[1:]\n",
    "        \n",
    "    # Exclude the label column from the data to be plotted\n",
    "    labels = df[df.columns[0]]\n",
    "    \n",
    "    data = df[keep_columns]\n",
    "\n",
    "    # Add a temporary column to the DataFrame with the average rank of each row\n",
    "    # data['average_rank'] = data.mean(axis=1)\n",
    "    \n",
    "    # Sort the DataFrame by this temporary column\n",
    "    # data.sort_values('average_rank', ascending=False, inplace=True)\n",
    "    # print(data['average_rank'])\n",
    "\n",
    "    # # Remove the temporary column\n",
    "    # data.drop('average_rank', axis=1, inplace=True)\n",
    "    # display_custom(data)\n",
    "    # Update the labels to match the new order\n",
    "    labels = labels[data.index]\n",
    "    labels = [label.replace(\"-224\", \"\") for label in labels]\n",
    "    data.columns = [column.replace(\"flickr30k\", \"f30k\").replace(\"winoground\", \"wg\").replace(\"pokemonblipcaptions\", \"pbc\").replace(\"newyorkercaptioncontest\", \"nycc\").replace(\"image-to-text\", \"img-to-txt\").replace(\"text-to-image\", \"txt-to-img\") for column in data.columns]\n",
    "    \n",
    "    \n",
    "    fig = go.Figure(data=go.Heatmap(\n",
    "        z=data.values,\n",
    "        x=data.columns,\n",
    "        y=labels,\n",
    "        colorscale=px.colors.sequential.Electric,  # Use reversed Red color scale\n",
    "    ))\n",
    "\n",
    "    fig.update_layout(\n",
    "        title='Model vs Dataset Rankings',\n",
    "        xaxis_nticks=len(data.columns),\n",
    "        yaxis_nticks=len(labels),\n",
    "        autosize=True,\n",
    "        width=800,\n",
    "        # height=600,\n",
    "        margin=dict(\n",
    "            l=50,\n",
    "            r=50,\n",
    "            b=100,\n",
    "            t=100,\n",
    "            pad=4\n",
    "        )\n",
    "    )\n",
    "\n",
    "    fig.show()\n",
    "    fig.write_image(\"heatmap.png\", scale=5)\n",
    "    \n",
    "df = move_column(df, 'imagenet1k.acc@1', 1)\n",
    "df = move_column(df, 'imagenet1k.acc@5', 2)\n",
    "df = move_column(df, 'imagenet1k.loss', 3)\n",
    "# apply logmax softmax to the columns in a columnwise manner\n",
    "\n",
    "\n",
    "plot_heatmap(df)\n"
   ]
  },
  {
   "cell_type": "code",
   "execution_count": 1560,
   "metadata": {},
   "outputs": [
    {
     "data": {
      "text/html": [
       "<pre style=\"white-space:pre;overflow-x:auto;line-height:normal;font-family:Menlo,'DejaVu Sans Mono',consolas,'Courier New',monospace\">imagenet1k.acc@<span style=\"color: #008080; text-decoration-color: #008080; font-weight: bold\">1</span>                            <span style=\"color: #008080; text-decoration-color: #008080; font-weight: bold\">1.000000</span>\n",
       "imagenet1k.acc@<span style=\"color: #008080; text-decoration-color: #008080; font-weight: bold\">5</span>                            <span style=\"color: #008080; text-decoration-color: #008080; font-weight: bold\">0.973529</span>\n",
       "imagenet1k.loss                             <span style=\"color: #008080; text-decoration-color: #008080; font-weight: bold\">0.991176</span>\n",
       "cifar100.loss                               <span style=\"color: #008080; text-decoration-color: #008080; font-weight: bold\">0.861765</span>\n",
       "cifar100.acc@<span style=\"color: #008080; text-decoration-color: #008080; font-weight: bold\">1</span>                              <span style=\"color: #008080; text-decoration-color: #008080; font-weight: bold\">0.847059</span>\n",
       "                                              <span style=\"color: #808000; text-decoration-color: #808000\">...</span>   \n",
       "devGATE <span style=\"font-weight: bold\">(</span>Weighted Higher is better<span style=\"font-weight: bold\">)</span>         <span style=\"color: #008080; text-decoration-color: #008080; font-weight: bold\">0.882353</span>\n",
       "imagenet1k.acc@<span style=\"color: #008080; text-decoration-color: #008080; font-weight: bold\">1</span> rank                      <span style=\"color: #008080; text-decoration-color: #008080; font-weight: bold\">-1.000000</span>\n",
       "imagenet1k.acc@<span style=\"color: #008080; text-decoration-color: #008080; font-weight: bold\">5</span> rank                      <span style=\"color: #008080; text-decoration-color: #008080; font-weight: bold\">-0.973529</span>\n",
       "devGATE <span style=\"font-weight: bold\">(</span>Weighted Higher is better rank<span style=\"font-weight: bold\">)</span>   <span style=\"color: #008080; text-decoration-color: #008080; font-weight: bold\">-0.882353</span>\n",
       "GATE <span style=\"font-weight: bold\">(</span>Weighted Higher is better rank<span style=\"font-weight: bold\">)</span>      <span style=\"color: #008080; text-decoration-color: #008080; font-weight: bold\">-0.888235</span>\n",
       "Name: imagenet1k.acc@<span style=\"color: #008080; text-decoration-color: #008080; font-weight: bold\">1</span>, Length: <span style=\"color: #008080; text-decoration-color: #008080; font-weight: bold\">73</span>, dtype: float64\n",
       "</pre>\n"
      ],
      "text/plain": [
       "imagenet1k.acc@\u001b[1;36m1\u001b[0m                            \u001b[1;36m1.000000\u001b[0m\n",
       "imagenet1k.acc@\u001b[1;36m5\u001b[0m                            \u001b[1;36m0.973529\u001b[0m\n",
       "imagenet1k.loss                             \u001b[1;36m0.991176\u001b[0m\n",
       "cifar100.loss                               \u001b[1;36m0.861765\u001b[0m\n",
       "cifar100.acc@\u001b[1;36m1\u001b[0m                              \u001b[1;36m0.847059\u001b[0m\n",
       "                                              \u001b[33m...\u001b[0m   \n",
       "devGATE \u001b[1m(\u001b[0mWeighted Higher is better\u001b[1m)\u001b[0m         \u001b[1;36m0.882353\u001b[0m\n",
       "imagenet1k.acc@\u001b[1;36m1\u001b[0m rank                      \u001b[1;36m-1.000000\u001b[0m\n",
       "imagenet1k.acc@\u001b[1;36m5\u001b[0m rank                      \u001b[1;36m-0.973529\u001b[0m\n",
       "devGATE \u001b[1m(\u001b[0mWeighted Higher is better rank\u001b[1m)\u001b[0m   \u001b[1;36m-0.882353\u001b[0m\n",
       "GATE \u001b[1m(\u001b[0mWeighted Higher is better rank\u001b[1m)\u001b[0m      \u001b[1;36m-0.888235\u001b[0m\n",
       "Name: imagenet1k.acc@\u001b[1;36m1\u001b[0m, Length: \u001b[1;36m73\u001b[0m, dtype: float64\n"
      ]
     },
     "metadata": {},
     "output_type": "display_data"
    },
    {
     "data": {
      "text/html": [
       "<pre style=\"white-space:pre;overflow-x:auto;line-height:normal;font-family:Menlo,'DejaVu Sans Mono',consolas,'Courier New',monospace\">imagenet1k.acc@<span style=\"color: #008080; text-decoration-color: #008080; font-weight: bold\">1</span>                  <span style=\"color: #008080; text-decoration-color: #008080; font-weight: bold\">1.000000</span>\n",
       "imagenet1k.acc@<span style=\"color: #008080; text-decoration-color: #008080; font-weight: bold\">1</span> rank             <span style=\"color: #008080; text-decoration-color: #008080; font-weight: bold\">1.000000</span>\n",
       "imagenet1k.loss                   <span style=\"color: #008080; text-decoration-color: #008080; font-weight: bold\">0.991176</span>\n",
       "imagenet1k.acc@<span style=\"color: #008080; text-decoration-color: #008080; font-weight: bold\">5</span> rank             <span style=\"color: #008080; text-decoration-color: #008080; font-weight: bold\">0.973529</span>\n",
       "imagenet1k.acc@<span style=\"color: #008080; text-decoration-color: #008080; font-weight: bold\">5</span>                  <span style=\"color: #008080; text-decoration-color: #008080; font-weight: bold\">0.973529</span>\n",
       "                                    <span style=\"color: #808000; text-decoration-color: #808000\">...</span>   \n",
       "pascal.dice-loss                  <span style=\"color: #008080; text-decoration-color: #008080; font-weight: bold\">0.261765</span>\n",
       "nyu.mIoU                          <span style=\"color: #008080; text-decoration-color: #008080; font-weight: bold\">0.255882</span>\n",
       "coco-10k.dice-loss                <span style=\"color: #008080; text-decoration-color: #008080; font-weight: bold\">0.191458</span>\n",
       "winoground.image-to-text-acc@<span style=\"color: #008080; text-decoration-color: #008080; font-weight: bold\">1</span>    <span style=\"color: #008080; text-decoration-color: #008080; font-weight: bold\">0.134021</span>\n",
       "winoground.text-to-image-acc@<span style=\"color: #008080; text-decoration-color: #008080; font-weight: bold\">1</span>    <span style=\"color: #008080; text-decoration-color: #008080; font-weight: bold\">0.004415</span>\n",
       "Name: imagenet1k.acc@<span style=\"color: #008080; text-decoration-color: #008080; font-weight: bold\">1</span>, Length: <span style=\"color: #008080; text-decoration-color: #008080; font-weight: bold\">73</span>, dtype: float64\n",
       "</pre>\n"
      ],
      "text/plain": [
       "imagenet1k.acc@\u001b[1;36m1\u001b[0m                  \u001b[1;36m1.000000\u001b[0m\n",
       "imagenet1k.acc@\u001b[1;36m1\u001b[0m rank             \u001b[1;36m1.000000\u001b[0m\n",
       "imagenet1k.loss                   \u001b[1;36m0.991176\u001b[0m\n",
       "imagenet1k.acc@\u001b[1;36m5\u001b[0m rank             \u001b[1;36m0.973529\u001b[0m\n",
       "imagenet1k.acc@\u001b[1;36m5\u001b[0m                  \u001b[1;36m0.973529\u001b[0m\n",
       "                                    \u001b[33m...\u001b[0m   \n",
       "pascal.dice-loss                  \u001b[1;36m0.261765\u001b[0m\n",
       "nyu.mIoU                          \u001b[1;36m0.255882\u001b[0m\n",
       "coco-10k.dice-loss                \u001b[1;36m0.191458\u001b[0m\n",
       "winoground.image-to-text-acc@\u001b[1;36m1\u001b[0m    \u001b[1;36m0.134021\u001b[0m\n",
       "winoground.text-to-image-acc@\u001b[1;36m1\u001b[0m    \u001b[1;36m0.004415\u001b[0m\n",
       "Name: imagenet1k.acc@\u001b[1;36m1\u001b[0m, Length: \u001b[1;36m73\u001b[0m, dtype: float64\n"
      ]
     },
     "metadata": {},
     "output_type": "display_data"
    },
    {
     "data": {
      "text/html": [
       "<pre style=\"white-space:pre;overflow-x:auto;line-height:normal;font-family:Menlo,'DejaVu Sans Mono',consolas,'Courier New',monospace\"><span style=\"color: #008080; text-decoration-color: #008080; font-weight: bold\">0.727389373011548</span>\n",
       "</pre>\n"
      ],
      "text/plain": [
       "\u001b[1;36m0.727389373011548\u001b[0m\n"
      ]
     },
     "metadata": {},
     "output_type": "display_data"
    }
   ],
   "source": [
    "from rich import print\n",
    "df.set_index(df.columns[0], inplace=True)\n",
    "correlation_matrix = df.corr(method=\"spearman\")[\"imagenet1k.acc@1\"]\n",
    "print(correlation_matrix)\n",
    "\n",
    "sorted_correlation_matrix = correlation_matrix.abs().sort_values(\n",
    "    ascending=False\n",
    ")\n",
    "print(sorted_correlation_matrix)\n",
    "average_correlation = sorted_correlation_matrix.mean()\n",
    "print(average_correlation)"
   ]
  },
  {
   "cell_type": "code",
   "execution_count": 1561,
   "metadata": {},
   "outputs": [
    {
     "ename": "KeyError",
     "evalue": "'devGATE (Higher is better)'",
     "output_type": "error",
     "traceback": [
      "\u001b[0;31m---------------------------------------------------------------------------\u001b[0m",
      "\u001b[0;31mKeyError\u001b[0m                                  Traceback (most recent call last)",
      "File \u001b[0;32m~/Work/environment_management/mambaforge-MacOSX-arm64/envs/gate/lib/python3.10/site-packages/pandas/core/indexes/base.py:3805\u001b[0m, in \u001b[0;36mIndex.get_loc\u001b[0;34m(self, key)\u001b[0m\n\u001b[1;32m   3804\u001b[0m \u001b[38;5;28;01mtry\u001b[39;00m:\n\u001b[0;32m-> 3805\u001b[0m     \u001b[38;5;28;01mreturn\u001b[39;00m \u001b[38;5;28;43mself\u001b[39;49m\u001b[38;5;241;43m.\u001b[39;49m\u001b[43m_engine\u001b[49m\u001b[38;5;241;43m.\u001b[39;49m\u001b[43mget_loc\u001b[49m\u001b[43m(\u001b[49m\u001b[43mcasted_key\u001b[49m\u001b[43m)\u001b[49m\n\u001b[1;32m   3806\u001b[0m \u001b[38;5;28;01mexcept\u001b[39;00m \u001b[38;5;167;01mKeyError\u001b[39;00m \u001b[38;5;28;01mas\u001b[39;00m err:\n",
      "File \u001b[0;32mindex.pyx:167\u001b[0m, in \u001b[0;36mpandas._libs.index.IndexEngine.get_loc\u001b[0;34m()\u001b[0m\n",
      "File \u001b[0;32mindex.pyx:196\u001b[0m, in \u001b[0;36mpandas._libs.index.IndexEngine.get_loc\u001b[0;34m()\u001b[0m\n",
      "File \u001b[0;32mpandas/_libs/hashtable_class_helper.pxi:7081\u001b[0m, in \u001b[0;36mpandas._libs.hashtable.PyObjectHashTable.get_item\u001b[0;34m()\u001b[0m\n",
      "File \u001b[0;32mpandas/_libs/hashtable_class_helper.pxi:7089\u001b[0m, in \u001b[0;36mpandas._libs.hashtable.PyObjectHashTable.get_item\u001b[0;34m()\u001b[0m\n",
      "\u001b[0;31mKeyError\u001b[0m: 'devGATE (Higher is better)'",
      "\nThe above exception was the direct cause of the following exception:\n",
      "\u001b[0;31mKeyError\u001b[0m                                  Traceback (most recent call last)",
      "Cell \u001b[0;32mIn[1561], line 3\u001b[0m\n\u001b[1;32m      1\u001b[0m \u001b[38;5;28;01mfrom\u001b[39;00m \u001b[38;5;21;01mrich\u001b[39;00m \u001b[38;5;28;01mimport\u001b[39;00m \u001b[38;5;28mprint\u001b[39m\n\u001b[1;32m      2\u001b[0m df\u001b[38;5;241m.\u001b[39mset_index(df\u001b[38;5;241m.\u001b[39mcolumns[\u001b[38;5;241m0\u001b[39m], inplace\u001b[38;5;241m=\u001b[39m\u001b[38;5;28;01mTrue\u001b[39;00m)\n\u001b[0;32m----> 3\u001b[0m correlation_matrix \u001b[38;5;241m=\u001b[39m \u001b[43mdf\u001b[49m\u001b[38;5;241;43m.\u001b[39;49m\u001b[43mcorr\u001b[49m\u001b[43m(\u001b[49m\u001b[43mmethod\u001b[49m\u001b[38;5;241;43m=\u001b[39;49m\u001b[38;5;124;43m\"\u001b[39;49m\u001b[38;5;124;43mspearman\u001b[39;49m\u001b[38;5;124;43m\"\u001b[39;49m\u001b[43m)\u001b[49m\u001b[43m[\u001b[49m\u001b[38;5;124;43m\"\u001b[39;49m\u001b[38;5;124;43mdevGATE (Higher is better)\u001b[39;49m\u001b[38;5;124;43m\"\u001b[39;49m\u001b[43m]\u001b[49m\n\u001b[1;32m      5\u001b[0m sorted_correlation_matrix \u001b[38;5;241m=\u001b[39m correlation_matrix\u001b[38;5;241m.\u001b[39mabs()\u001b[38;5;241m.\u001b[39msort_values(\n\u001b[1;32m      6\u001b[0m     ascending\u001b[38;5;241m=\u001b[39m\u001b[38;5;28;01mFalse\u001b[39;00m\n\u001b[1;32m      7\u001b[0m )\n\u001b[1;32m      8\u001b[0m \u001b[38;5;28mprint\u001b[39m(sorted_correlation_matrix)\n",
      "File \u001b[0;32m~/Work/environment_management/mambaforge-MacOSX-arm64/envs/gate/lib/python3.10/site-packages/pandas/core/frame.py:4090\u001b[0m, in \u001b[0;36mDataFrame.__getitem__\u001b[0;34m(self, key)\u001b[0m\n\u001b[1;32m   4088\u001b[0m \u001b[38;5;28;01mif\u001b[39;00m \u001b[38;5;28mself\u001b[39m\u001b[38;5;241m.\u001b[39mcolumns\u001b[38;5;241m.\u001b[39mnlevels \u001b[38;5;241m>\u001b[39m \u001b[38;5;241m1\u001b[39m:\n\u001b[1;32m   4089\u001b[0m     \u001b[38;5;28;01mreturn\u001b[39;00m \u001b[38;5;28mself\u001b[39m\u001b[38;5;241m.\u001b[39m_getitem_multilevel(key)\n\u001b[0;32m-> 4090\u001b[0m indexer \u001b[38;5;241m=\u001b[39m \u001b[38;5;28;43mself\u001b[39;49m\u001b[38;5;241;43m.\u001b[39;49m\u001b[43mcolumns\u001b[49m\u001b[38;5;241;43m.\u001b[39;49m\u001b[43mget_loc\u001b[49m\u001b[43m(\u001b[49m\u001b[43mkey\u001b[49m\u001b[43m)\u001b[49m\n\u001b[1;32m   4091\u001b[0m \u001b[38;5;28;01mif\u001b[39;00m is_integer(indexer):\n\u001b[1;32m   4092\u001b[0m     indexer \u001b[38;5;241m=\u001b[39m [indexer]\n",
      "File \u001b[0;32m~/Work/environment_management/mambaforge-MacOSX-arm64/envs/gate/lib/python3.10/site-packages/pandas/core/indexes/base.py:3812\u001b[0m, in \u001b[0;36mIndex.get_loc\u001b[0;34m(self, key)\u001b[0m\n\u001b[1;32m   3807\u001b[0m     \u001b[38;5;28;01mif\u001b[39;00m \u001b[38;5;28misinstance\u001b[39m(casted_key, \u001b[38;5;28mslice\u001b[39m) \u001b[38;5;129;01mor\u001b[39;00m (\n\u001b[1;32m   3808\u001b[0m         \u001b[38;5;28misinstance\u001b[39m(casted_key, abc\u001b[38;5;241m.\u001b[39mIterable)\n\u001b[1;32m   3809\u001b[0m         \u001b[38;5;129;01mand\u001b[39;00m \u001b[38;5;28many\u001b[39m(\u001b[38;5;28misinstance\u001b[39m(x, \u001b[38;5;28mslice\u001b[39m) \u001b[38;5;28;01mfor\u001b[39;00m x \u001b[38;5;129;01min\u001b[39;00m casted_key)\n\u001b[1;32m   3810\u001b[0m     ):\n\u001b[1;32m   3811\u001b[0m         \u001b[38;5;28;01mraise\u001b[39;00m InvalidIndexError(key)\n\u001b[0;32m-> 3812\u001b[0m     \u001b[38;5;28;01mraise\u001b[39;00m \u001b[38;5;167;01mKeyError\u001b[39;00m(key) \u001b[38;5;28;01mfrom\u001b[39;00m \u001b[38;5;21;01merr\u001b[39;00m\n\u001b[1;32m   3813\u001b[0m \u001b[38;5;28;01mexcept\u001b[39;00m \u001b[38;5;167;01mTypeError\u001b[39;00m:\n\u001b[1;32m   3814\u001b[0m     \u001b[38;5;66;03m# If we have a listlike key, _check_indexing_error will raise\u001b[39;00m\n\u001b[1;32m   3815\u001b[0m     \u001b[38;5;66;03m#  InvalidIndexError. Otherwise we fall through and re-raise\u001b[39;00m\n\u001b[1;32m   3816\u001b[0m     \u001b[38;5;66;03m#  the TypeError.\u001b[39;00m\n\u001b[1;32m   3817\u001b[0m     \u001b[38;5;28mself\u001b[39m\u001b[38;5;241m.\u001b[39m_check_indexing_error(key)\n",
      "\u001b[0;31mKeyError\u001b[0m: 'devGATE (Higher is better)'"
     ]
    }
   ],
   "source": [
    "from rich import print\n",
    "df.set_index(df.columns[0], inplace=True)\n",
    "correlation_matrix = df.corr(method=\"spearman\")[\"devGATE (Higher is better)\"]\n",
    "\n",
    "sorted_correlation_matrix = correlation_matrix.abs().sort_values(\n",
    "    ascending=False\n",
    ")\n",
    "print(sorted_correlation_matrix)\n",
    "average_correlation = sorted_correlation_matrix.mean()\n",
    "print(average_correlation)"
   ]
  }
 ],
 "metadata": {
  "kernelspec": {
   "display_name": "gate",
   "language": "python",
   "name": "python3"
  },
  "language_info": {
   "codemirror_mode": {
    "name": "ipython",
    "version": 3
   },
   "file_extension": ".py",
   "mimetype": "text/x-python",
   "name": "python",
   "nbconvert_exporter": "python",
   "pygments_lexer": "ipython3",
   "version": "3.10.13"
  }
 },
 "nbformat": 4,
 "nbformat_minor": 2
}
