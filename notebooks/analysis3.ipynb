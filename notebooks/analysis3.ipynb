{
 "cells": [
  {
   "cell_type": "code",
   "execution_count": 1280,
   "metadata": {},
   "outputs": [],
   "source": [
    "import numpy as np\n",
    "import pandas as pd\n",
    "import matplotlib.pyplot as plt\n",
    "import seaborn as sns\n",
    "\n",
    "# Load your dataset\n",
    "data = pd.read_csv('/Users/antreasantoniou/Downloads/gate-evolve-output.csv')"
   ]
  },
  {
   "cell_type": "code",
   "execution_count": 1281,
   "metadata": {},
   "outputs": [],
   "source": [
    "def display_custom(df):\n",
    "    # visualize using tabulate for ipython noteboooks\n",
    "    from IPython.display import display\n",
    "\n",
    "    # Assuming df is your DataFrame\n",
    "    with pd.option_context(\"display.max_rows\", None, \"display.max_columns\", None):\n",
    "        display(\n",
    "            df\n",
    "        )"
   ]
  },
  {
   "cell_type": "code",
   "execution_count": 1282,
   "metadata": {},
   "outputs": [
    {
     "data": {
      "image/png": "[encoded data removed]",
      "text/plain": [
       "<Figure size 640x480 with 1 Axes>"
      ]
     },
     "metadata": {},
     "output_type": "display_data"
    }
   ],
   "source": [
    "# Initialize a DataFrame to store the simulated data\n",
    "sim_data = pd.DataFrame()\n",
    "\n",
    "# For each row in the data, simulate a dataset and add it to sim_data\n",
    "for idx, row in data.iterrows():\n",
    "    # Use the normal distribution to simulate data\n",
    "    if int(row[\"Name\"]) > 2:\n",
    "        simulated = np.random.normal(loc=row['mean_score'], scale=row['std_score'], size=1000)\n",
    "        # Clip the simulated data at the min and max values\n",
    "        simulated = np.clip(simulated, row['min_score'], row['max_score'])\n",
    "        # Add the simulated data to the DataFrame\n",
    "        sim_data[str(row['Name'])] = pd.Series(simulated)\n",
    "\n",
    "# Plot a boxplot of the simulated data\n",
    "# plt.figure(figsize=(10,6))\n",
    "sns.boxplot(data=sim_data)\n",
    "plt.xlabel('Name')\n",
    "plt.ylabel('Score')\n",
    "plt.yscale('log')\n",
    "plt.show()\n"
   ]
  },
  {
   "cell_type": "code",
   "execution_count": 1283,
   "metadata": {},
   "outputs": [
    {
     "data": {
      "application/vnd.plotly.v1+json": {
       "config": {
        "plotlyServerURL": "https://plot.ly"
       },
       "data": [
        {
         "boxpoints": false,
         "line": {
          "width": 2
         },
         "name": "1",
         "type": "box",
         "xaxis": "x",
         "y": [
          1.018015265,
          1.350211442,
          1.659624219,
          1.9690369959999998,
          2.16649437
         ],
         "yaxis": "y"
        },
        {
         "boxpoints": false,
         "line": {
          "width": 2
         },
         "name": "2",
         "type": "box",
         "xaxis": "x",
         "y": [
          0.78703624,
          0.8558583329999999,
          0.902206361,
          0.948554389,
          0.956088841
         ],
         "yaxis": "y"
        },
        {
         "boxpoints": false,
         "line": {
          "width": 2
         },
         "name": "3",
         "type": "box",
         "xaxis": "x2",
         "y": [
          0.759506702,
          0.770231196,
          0.77667892,
          0.7831266440000001,
          0.785627484
         ],
         "yaxis": "y2"
        },
        {
         "boxpoints": false,
         "line": {
          "width": 2
         },
         "name": "6",
         "type": "box",
         "xaxis": "x2",
         "y": [
          0.740258098,
          0.754244237,
          0.758460104,
          0.762675971,
          0.76386863
         ],
         "yaxis": "y2"
        },
        {
         "boxpoints": false,
         "line": {
          "width": 2
         },
         "name": "9",
         "type": "box",
         "xaxis": "x2",
         "y": [
          0.717098475,
          0.723868014,
          0.728668988,
          0.733469962,
          0.735498011
         ],
         "yaxis": "y2"
        },
        {
         "boxpoints": false,
         "line": {
          "width": 2
         },
         "name": "12",
         "type": "box",
         "xaxis": "x2",
         "y": [
          0.674734056,
          0.69153722,
          0.69793874,
          0.70434026,
          0.705666184
         ],
         "yaxis": "y2"
        },
        {
         "boxpoints": false,
         "line": {
          "width": 2
         },
         "name": "15",
         "type": "box",
         "xaxis": "x2",
         "y": [
          0.678830683,
          0.685974408,
          0.690768957,
          0.6955635059999999,
          0.696684301
         ],
         "yaxis": "y2"
        },
        {
         "boxpoints": false,
         "line": {
          "width": 2
         },
         "name": "18",
         "type": "box",
         "xaxis": "x2",
         "y": [
          0.665681303,
          0.681339851,
          0.686995149,
          0.692650447,
          0.693859398
         ],
         "yaxis": "y2"
        },
        {
         "boxpoints": false,
         "line": {
          "width": 2
         },
         "name": "21",
         "type": "box",
         "xaxis": "x2",
         "y": [
          0.681022823,
          0.6896043150000001,
          0.694625676,
          0.699647037,
          0.699661434
         ],
         "yaxis": "y2"
        },
        {
         "boxpoints": false,
         "line": {
          "width": 2
         },
         "name": "24",
         "type": "box",
         "xaxis": "x2",
         "y": [
          0.67888695,
          0.692153978,
          0.698514402,
          0.7048748260000001,
          0.70521903
         ],
         "yaxis": "y2"
        },
        {
         "boxpoints": false,
         "line": {
          "width": 2
         },
         "name": "28",
         "type": "box",
         "xaxis": "x2",
         "y": [
          0.728412092,
          0.738619632,
          0.746066451,
          0.75351327,
          0.757301748
         ],
         "yaxis": "y2"
        },
        {
         "boxpoints": false,
         "line": {
          "width": 2
         },
         "name": "30",
         "type": "box",
         "xaxis": "x2",
         "y": [
          0.746185958,
          0.746185958,
          0.746185958,
          0.746185958,
          0.746185958
         ],
         "yaxis": "y2"
        }
       ],
       "layout": {
        "annotations": [
         {
          "font": {
           "size": 16
          },
          "showarrow": false,
          "text": "k=1, 2",
          "x": 0.225,
          "xanchor": "center",
          "xref": "paper",
          "y": 1,
          "yanchor": "bottom",
          "yref": "paper"
         },
         {
          "font": {
           "size": 16
          },
          "showarrow": false,
          "text": "k>=3",
          "x": 0.775,
          "xanchor": "center",
          "xref": "paper",
          "y": 1,
          "yanchor": "bottom",
          "yref": "paper"
         }
        ],
        "autosize": false,
        "font": {
         "family": "Arial",
         "size": 20
        },
        "margin": {
         "b": 50,
         "l": 0,
         "r": 10,
         "t": 50
        },
        "showlegend": false,
        "template": {
         "data": {
          "bar": [
           {
            "error_x": {
             "color": "#2a3f5f"
            },
            "error_y": {
             "color": "#2a3f5f"
            },
            "marker": {
             "line": {
              "color": "#E5ECF6",
              "width": 0.5
             },
             "pattern": {
              "fillmode": "overlay",
              "size": 10,
              "solidity": 0.2
             }
            },
            "type": "bar"
           }
          ],
          "barpolar": [
           {
            "marker": {
             "line": {
              "color": "#E5ECF6",
              "width": 0.5
             },
             "pattern": {
              "fillmode": "overlay",
              "size": 10,
              "solidity": 0.2
             }
            },
            "type": "barpolar"
           }
          ],
          "carpet": [
           {
            "aaxis": {
             "endlinecolor": "#2a3f5f",
             "gridcolor": "white",
             "linecolor": "white",
             "minorgridcolor": "white",
             "startlinecolor": "#2a3f5f"
            },
            "baxis": {
             "endlinecolor": "#2a3f5f",
             "gridcolor": "white",
             "linecolor": "white",
             "minorgridcolor": "white",
             "startlinecolor": "#2a3f5f"
            },
            "type": "carpet"
           }
          ],
          "choropleth": [
           {
            "colorbar": {
             "outlinewidth": 0,
             "ticks": ""
            },
            "type": "choropleth"
           }
          ],
          "contour": [
           {
            "colorbar": {
             "outlinewidth": 0,
             "ticks": ""
            },
            "colorscale": [
             [
              0,
              "#0d0887"
             ],
             [
              0.1111111111111111,
              "#46039f"
             ],
             [
              0.2222222222222222,
              "#7201a8"
             ],
             [
              0.3333333333333333,
              "#9c179e"
             ],
             [
              0.4444444444444444,
              "#bd3786"
             ],
             [
              0.5555555555555556,
              "#d8576b"
             ],
             [
              0.6666666666666666,
              "#ed7953"
             ],
             [
              0.7777777777777778,
              "#fb9f3a"
             ],
             [
              0.8888888888888888,
              "#fdca26"
             ],
             [
              1,
              "#f0f921"
             ]
            ],
            "type": "contour"
           }
          ],
          "contourcarpet": [
           {
            "colorbar": {
             "outlinewidth": 0,
             "ticks": ""
            },
            "type": "contourcarpet"
           }
          ],
          "heatmap": [
           {
            "colorbar": {
             "outlinewidth": 0,
             "ticks": ""
            },
            "colorscale": [
             [
              0,
              "#0d0887"
             ],
             [
              0.1111111111111111,
              "#46039f"
             ],
             [
              0.2222222222222222,
              "#7201a8"
             ],
             [
              0.3333333333333333,
              "#9c179e"
             ],
             [
              0.4444444444444444,
              "#bd3786"
             ],
             [
              0.5555555555555556,
              "#d8576b"
             ],
             [
              0.6666666666666666,
              "#ed7953"
             ],
             [
              0.7777777777777778,
              "#fb9f3a"
             ],
             [
              0.8888888888888888,
              "#fdca26"
             ],
             [
              1,
              "#f0f921"
             ]
            ],
            "type": "heatmap"
           }
          ],
          "heatmapgl": [
           {
            "colorbar": {
             "outlinewidth": 0,
             "ticks": ""
            },
            "colorscale": [
             [
              0,
              "#0d0887"
             ],
             [
              0.1111111111111111,
              "#46039f"
             ],
             [
              0.2222222222222222,
              "#7201a8"
             ],
             [
              0.3333333333333333,
              "#9c179e"
             ],
             [
              0.4444444444444444,
              "#bd3786"
             ],
             [
              0.5555555555555556,
              "#d8576b"
             ],
             [
              0.6666666666666666,
              "#ed7953"
             ],
             [
              0.7777777777777778,
              "#fb9f3a"
             ],
             [
              0.8888888888888888,
              "#fdca26"
             ],
             [
              1,
              "#f0f921"
             ]
            ],
            "type": "heatmapgl"
           }
          ],
          "histogram": [
           {
            "marker": {
             "pattern": {
              "fillmode": "overlay",
              "size": 10,
              "solidity": 0.2
             }
            },
            "type": "histogram"
           }
          ],
          "histogram2d": [
           {
            "colorbar": {
             "outlinewidth": 0,
             "ticks": ""
            },
            "colorscale": [
             [
              0,
              "#0d0887"
             ],
             [
              0.1111111111111111,
              "#46039f"
             ],
             [
              0.2222222222222222,
              "#7201a8"
             ],
             [
              0.3333333333333333,
              "#9c179e"
             ],
             [
              0.4444444444444444,
              "#bd3786"
             ],
             [
              0.5555555555555556,
              "#d8576b"
             ],
             [
              0.6666666666666666,
              "#ed7953"
             ],
             [
              0.7777777777777778,
              "#fb9f3a"
             ],
             [
              0.8888888888888888,
              "#fdca26"
             ],
             [
              1,
              "#f0f921"
             ]
            ],
            "type": "histogram2d"
           }
          ],
          "histogram2dcontour": [
           {
            "colorbar": {
             "outlinewidth": 0,
             "ticks": ""
            },
            "colorscale": [
             [
              0,
              "#0d0887"
             ],
             [
              0.1111111111111111,
              "#46039f"
             ],
             [
              0.2222222222222222,
              "#7201a8"
             ],
             [
              0.3333333333333333,
              "#9c179e"
             ],
             [
              0.4444444444444444,
              "#bd3786"
             ],
             [
              0.5555555555555556,
              "#d8576b"
             ],
             [
              0.6666666666666666,
              "#ed7953"
             ],
             [
              0.7777777777777778,
              "#fb9f3a"
             ],
             [
              0.8888888888888888,
              "#fdca26"
             ],
             [
              1,
              "#f0f921"
             ]
            ],
            "type": "histogram2dcontour"
           }
          ],
          "mesh3d": [
           {
            "colorbar": {
             "outlinewidth": 0,
             "ticks": ""
            },
            "type": "mesh3d"
           }
          ],
          "parcoords": [
           {
            "line": {
             "colorbar": {
              "outlinewidth": 0,
              "ticks": ""
             }
            },
            "type": "parcoords"
           }
          ],
          "pie": [
           {
            "automargin": true,
            "type": "pie"
           }
          ],
          "scatter": [
           {
            "fillpattern": {
             "fillmode": "overlay",
             "size": 10,
             "solidity": 0.2
            },
            "type": "scatter"
           }
          ],
          "scatter3d": [
           {
            "line": {
             "colorbar": {
              "outlinewidth": 0,
              "ticks": ""
             }
            },
            "marker": {
             "colorbar": {
              "outlinewidth": 0,
              "ticks": ""
             }
            },
            "type": "scatter3d"
           }
          ],
          "scattercarpet": [
           {
            "marker": {
             "colorbar": {
              "outlinewidth": 0,
              "ticks": ""
             }
            },
            "type": "scattercarpet"
           }
          ],
          "scattergeo": [
           {
            "marker": {
             "colorbar": {
              "outlinewidth": 0,
              "ticks": ""
             }
            },
            "type": "scattergeo"
           }
          ],
          "scattergl": [
           {
            "marker": {
             "colorbar": {
              "outlinewidth": 0,
              "ticks": ""
             }
            },
            "type": "scattergl"
           }
          ],
          "scattermapbox": [
           {
            "marker": {
             "colorbar": {
              "outlinewidth": 0,
              "ticks": ""
             }
            },
            "type": "scattermapbox"
           }
          ],
          "scatterpolar": [
           {
            "marker": {
             "colorbar": {
              "outlinewidth": 0,
              "ticks": ""
             }
            },
            "type": "scatterpolar"
           }
          ],
          "scatterpolargl": [
           {
            "marker": {
             "colorbar": {
              "outlinewidth": 0,
              "ticks": ""
             }
            },
            "type": "scatterpolargl"
           }
          ],
          "scatterternary": [
           {
            "marker": {
             "colorbar": {
              "outlinewidth": 0,
              "ticks": ""
             }
            },
            "type": "scatterternary"
           }
          ],
          "surface": [
           {
            "colorbar": {
             "outlinewidth": 0,
             "ticks": ""
            },
            "colorscale": [
             [
              0,
              "#0d0887"
             ],
             [
              0.1111111111111111,
              "#46039f"
             ],
             [
              0.2222222222222222,
              "#7201a8"
             ],
             [
              0.3333333333333333,
              "#9c179e"
             ],
             [
              0.4444444444444444,
              "#bd3786"
             ],
             [
              0.5555555555555556,
              "#d8576b"
             ],
             [
              0.6666666666666666,
              "#ed7953"
             ],
             [
              0.7777777777777778,
              "#fb9f3a"
             ],
             [
              0.8888888888888888,
              "#fdca26"
             ],
             [
              1,
              "#f0f921"
             ]
            ],
            "type": "surface"
           }
          ],
          "table": [
           {
            "cells": {
             "fill": {
              "color": "#EBF0F8"
             },
             "line": {
              "color": "white"
             }
            },
            "header": {
             "fill": {
              "color": "#C8D4E3"
             },
             "line": {
              "color": "white"
             }
            },
            "type": "table"
           }
          ]
         },
         "layout": {
          "annotationdefaults": {
           "arrowcolor": "#2a3f5f",
           "arrowhead": 0,
           "arrowwidth": 1
          },
          "autotypenumbers": "strict",
          "coloraxis": {
           "colorbar": {
            "outlinewidth": 0,
            "ticks": ""
           }
          },
          "colorscale": {
           "diverging": [
            [
             0,
             "#8e0152"
            ],
            [
             0.1,
             "#c51b7d"
            ],
            [
             0.2,
             "#de77ae"
            ],
            [
             0.3,
             "#f1b6da"
            ],
            [
             0.4,
             "#fde0ef"
            ],
            [
             0.5,
             "#f7f7f7"
            ],
            [
             0.6,
             "#e6f5d0"
            ],
            [
             0.7,
             "#b8e186"
            ],
            [
             0.8,
             "#7fbc41"
            ],
            [
             0.9,
             "#4d9221"
            ],
            [
             1,
             "#276419"
            ]
           ],
           "sequential": [
            [
             0,
             "#0d0887"
            ],
            [
             0.1111111111111111,
             "#46039f"
            ],
            [
             0.2222222222222222,
             "#7201a8"
            ],
            [
             0.3333333333333333,
             "#9c179e"
            ],
            [
             0.4444444444444444,
             "#bd3786"
            ],
            [
             0.5555555555555556,
             "#d8576b"
            ],
            [
             0.6666666666666666,
             "#ed7953"
            ],
            [
             0.7777777777777778,
             "#fb9f3a"
            ],
            [
             0.8888888888888888,
             "#fdca26"
            ],
            [
             1,
             "#f0f921"
            ]
           ],
           "sequentialminus": [
            [
             0,
             "#0d0887"
            ],
            [
             0.1111111111111111,
             "#46039f"
            ],
            [
             0.2222222222222222,
             "#7201a8"
            ],
            [
             0.3333333333333333,
             "#9c179e"
            ],
            [
             0.4444444444444444,
             "#bd3786"
            ],
            [
             0.5555555555555556,
             "#d8576b"
            ],
            [
             0.6666666666666666,
             "#ed7953"
            ],
            [
             0.7777777777777778,
             "#fb9f3a"
            ],
            [
             0.8888888888888888,
             "#fdca26"
            ],
            [
             1,
             "#f0f921"
            ]
           ]
          },
          "colorway": [
           "#636efa",
           "#EF553B",
           "#00cc96",
           "#ab63fa",
           "#FFA15A",
           "#19d3f3",
           "#FF6692",
           "#B6E880",
           "#FF97FF",
           "#FECB52"
          ],
          "font": {
           "color": "#2a3f5f"
          },
          "geo": {
           "bgcolor": "white",
           "lakecolor": "white",
           "landcolor": "#E5ECF6",
           "showlakes": true,
           "showland": true,
           "subunitcolor": "white"
          },
          "hoverlabel": {
           "align": "left"
          },
          "hovermode": "closest",
          "mapbox": {
           "style": "light"
          },
          "paper_bgcolor": "white",
          "plot_bgcolor": "#E5ECF6",
          "polar": {
           "angularaxis": {
            "gridcolor": "white",
            "linecolor": "white",
            "ticks": ""
           },
           "bgcolor": "#E5ECF6",
           "radialaxis": {
            "gridcolor": "white",
            "linecolor": "white",
            "ticks": ""
           }
          },
          "scene": {
           "xaxis": {
            "backgroundcolor": "#E5ECF6",
            "gridcolor": "white",
            "gridwidth": 2,
            "linecolor": "white",
            "showbackground": true,
            "ticks": "",
            "zerolinecolor": "white"
           },
           "yaxis": {
            "backgroundcolor": "#E5ECF6",
            "gridcolor": "white",
            "gridwidth": 2,
            "linecolor": "white",
            "showbackground": true,
            "ticks": "",
            "zerolinecolor": "white"
           },
           "zaxis": {
            "backgroundcolor": "#E5ECF6",
            "gridcolor": "white",
            "gridwidth": 2,
            "linecolor": "white",
            "showbackground": true,
            "ticks": "",
            "zerolinecolor": "white"
           }
          },
          "shapedefaults": {
           "line": {
            "color": "#2a3f5f"
           }
          },
          "ternary": {
           "aaxis": {
            "gridcolor": "white",
            "linecolor": "white",
            "ticks": ""
           },
           "baxis": {
            "gridcolor": "white",
            "linecolor": "white",
            "ticks": ""
           },
           "bgcolor": "#E5ECF6",
           "caxis": {
            "gridcolor": "white",
            "linecolor": "white",
            "ticks": ""
           }
          },
          "title": {
           "x": 0.05
          },
          "xaxis": {
           "automargin": true,
           "gridcolor": "white",
           "linecolor": "white",
           "ticks": "",
           "title": {
            "standoff": 15
           },
           "zerolinecolor": "white",
           "zerolinewidth": 2
          },
          "yaxis": {
           "automargin": true,
           "gridcolor": "white",
           "linecolor": "white",
           "ticks": "",
           "title": {
            "standoff": 15
           },
           "zerolinecolor": "white",
           "zerolinewidth": 2
          }
         }
        },
        "width": 900,
        "xaxis": {
         "anchor": "y",
         "domain": [
          0,
          0.45
         ]
        },
        "xaxis2": {
         "anchor": "y2",
         "domain": [
          0.55,
          1
         ]
        },
        "yaxis": {
         "anchor": "x",
         "domain": [
          0,
          1
         ],
         "title": {
          "text": "MSE"
         }
        },
        "yaxis2": {
         "anchor": "x2",
         "domain": [
          0,
          1
         ]
        }
       }
      }
     },
     "metadata": {},
     "output_type": "display_data"
    }
   ],
   "source": [
    "import plotly.graph_objects as go\n",
    "from plotly.subplots import make_subplots\n",
    "# Create a Box trace for each row in the data\n",
    "# Create a Box trace for each 'Name' in the data\n",
    "# Initialize a DataFrame to store the simulated data\n",
    "# Create a Box trace for each row in the data\n",
    "# Create a Box trace for each 'Name' in the data\n",
    "\n",
    "\n",
    "# Create traces for data points 1 and 2\n",
    "traces_1_2 = []\n",
    "for idx, row in data.iterrows():\n",
    "    if int(row['Name']) <= 2:\n",
    "        traces_1_2.append(go.Box(\n",
    "            y=[row['min_score'], row['mean_score'] - row['std_score'], row['mean_score'], row['mean_score'] + row['std_score'], row['max_score']],\n",
    "            name=int(row['Name']),\n",
    "            boxpoints=False,\n",
    "            line_width=2,\n",
    "        ))\n",
    "\n",
    "# Create traces for data points 3 and above\n",
    "traces_3_plus = []\n",
    "for idx, row in data.iterrows():\n",
    "    if int(row['Name']) > 2:\n",
    "        traces_3_plus.append(go.Box(\n",
    "            y=[row['min_score'], row['mean_score'] - row['std_score'], row['mean_score'], row['mean_score'] + row['std_score'], row['max_score']],\n",
    "            name=int(row['Name']),\n",
    "            boxpoints=False,\n",
    "            line_width=2,\n",
    "        ))\n",
    "\n",
    "# Create a figure with two subplots\n",
    "fig = make_subplots(rows=1, cols=2, subplot_titles=(\"k=1, 2\", \"k>=3\"))\n",
    "\n",
    "# Add traces to the subplots\n",
    "for trace in traces_1_2:\n",
    "    fig.add_trace(trace, row=1, col=1)\n",
    "\n",
    "for trace in traces_3_plus:\n",
    "    fig.add_trace(trace, row=1, col=2)\n",
    "\n",
    "# Update the layout\n",
    "fig.update_layout(\n",
    "    # title_text=\"Mean Squared Error for Different Number of Datasets (k)\",\n",
    "    \n",
    "    yaxis_title='MSE',\n",
    "    # xaxis_title='k (num datasets)',\n",
    "    width=900,  # Width of the figure in pixels\n",
    "    # height=400,  # Height of the figure in pixels\n",
    "    autosize=False,\n",
    "    showlegend=False,\n",
    "    margin=dict(l=0, r=10, t=50, b=50),\n",
    "    font=dict(\n",
    "        family=\"Arial\",  # Font family\n",
    "        size=20,  # Font size\n",
    "    ),\n",
    "    # yaxis=dict(\n",
    "    #     title_font=dict(\n",
    "    #         size=14,  # Y-axis title font size\n",
    "    #     ),\n",
    "    #     tickfont=dict(\n",
    "    #         size=12,  # Y-axis tick font size\n",
    "    #     ),\n",
    "    # ),\n",
    "    # xaxis=dict(\n",
    "    #     tickfont=dict(\n",
    "    #         size=12,  # X-axis tick font size\n",
    "    #     ),\n",
    "    # ),\n",
    ")\n",
    "# Save the figure as a PDF\n",
    "fig.write_image(\"boxplots.pdf\")\n",
    "fig.show()\n",
    "\n",
    "\n"
   ]
  },
  {
   "cell_type": "code",
   "execution_count": 1284,
   "metadata": {},
   "outputs": [
    {
     "data": {
      "application/vnd.plotly.v1+json": {
       "config": {
        "plotlyServerURL": "https://plot.ly"
       },
       "data": [
        {
         "alignmentgroup": "True",
         "hovertemplate": "Dataset Name=%{x}<br>Score Difference (lower is better)=%{y}<extra></extra>",
         "legendgroup": "",
         "marker": {
          "color": "#636efa",
          "pattern": {
           "shape": ""
          }
         },
         "name": "",
         "offsetgroup": "",
         "orientation": "v",
         "showlegend": false,
         "textposition": "auto",
         "type": "bar",
         "x": [
          "full",
          "chexpert",
          "pascal",
          "places365",
          "imagenet1k",
          "ade20k",
          "ham10k",
          "kinetics",
          "clevr",
          "ucf",
          "food101",
          "nycc",
          "flickr30k"
         ],
         "xaxis": "x",
         "y": [
          0,
          0.0032999999999999696,
          0.0044999999999999485,
          0.005599999999999938,
          0.005899999999999905,
          0.006599999999999939,
          0.00869999999999993,
          0.01079999999999992,
          0.01739999999999997,
          0.017799999999999927,
          0.02089999999999992,
          0.022599999999999953,
          0.05249999999999999
         ],
         "yaxis": "y"
        }
       ],
       "layout": {
        "barmode": "relative",
        "font": {
         "size": 18
        },
        "legend": {
         "tracegroupgap": 0
        },
        "margin": {
         "t": 60
        },
        "showlegend": false,
        "template": {
         "data": {
          "bar": [
           {
            "error_x": {
             "color": "#2a3f5f"
            },
            "error_y": {
             "color": "#2a3f5f"
            },
            "marker": {
             "line": {
              "color": "#E5ECF6",
              "width": 0.5
             },
             "pattern": {
              "fillmode": "overlay",
              "size": 10,
              "solidity": 0.2
             }
            },
            "type": "bar"
           }
          ],
          "barpolar": [
           {
            "marker": {
             "line": {
              "color": "#E5ECF6",
              "width": 0.5
             },
             "pattern": {
              "fillmode": "overlay",
              "size": 10,
              "solidity": 0.2
             }
            },
            "type": "barpolar"
           }
          ],
          "carpet": [
           {
            "aaxis": {
             "endlinecolor": "#2a3f5f",
             "gridcolor": "white",
             "linecolor": "white",
             "minorgridcolor": "white",
             "startlinecolor": "#2a3f5f"
            },
            "baxis": {
             "endlinecolor": "#2a3f5f",
             "gridcolor": "white",
             "linecolor": "white",
             "minorgridcolor": "white",
             "startlinecolor": "#2a3f5f"
            },
            "type": "carpet"
           }
          ],
          "choropleth": [
           {
            "colorbar": {
             "outlinewidth": 0,
             "ticks": ""
            },
            "type": "choropleth"
           }
          ],
          "contour": [
           {
            "colorbar": {
             "outlinewidth": 0,
             "ticks": ""
            },
            "colorscale": [
             [
              0,
              "#0d0887"
             ],
             [
              0.1111111111111111,
              "#46039f"
             ],
             [
              0.2222222222222222,
              "#7201a8"
             ],
             [
              0.3333333333333333,
              "#9c179e"
             ],
             [
              0.4444444444444444,
              "#bd3786"
             ],
             [
              0.5555555555555556,
              "#d8576b"
             ],
             [
              0.6666666666666666,
              "#ed7953"
             ],
             [
              0.7777777777777778,
              "#fb9f3a"
             ],
             [
              0.8888888888888888,
              "#fdca26"
             ],
             [
              1,
              "#f0f921"
             ]
            ],
            "type": "contour"
           }
          ],
          "contourcarpet": [
           {
            "colorbar": {
             "outlinewidth": 0,
             "ticks": ""
            },
            "type": "contourcarpet"
           }
          ],
          "heatmap": [
           {
            "colorbar": {
             "outlinewidth": 0,
             "ticks": ""
            },
            "colorscale": [
             [
              0,
              "#0d0887"
             ],
             [
              0.1111111111111111,
              "#46039f"
             ],
             [
              0.2222222222222222,
              "#7201a8"
             ],
             [
              0.3333333333333333,
              "#9c179e"
             ],
             [
              0.4444444444444444,
              "#bd3786"
             ],
             [
              0.5555555555555556,
              "#d8576b"
             ],
             [
              0.6666666666666666,
              "#ed7953"
             ],
             [
              0.7777777777777778,
              "#fb9f3a"
             ],
             [
              0.8888888888888888,
              "#fdca26"
             ],
             [
              1,
              "#f0f921"
             ]
            ],
            "type": "heatmap"
           }
          ],
          "heatmapgl": [
           {
            "colorbar": {
             "outlinewidth": 0,
             "ticks": ""
            },
            "colorscale": [
             [
              0,
              "#0d0887"
             ],
             [
              0.1111111111111111,
              "#46039f"
             ],
             [
              0.2222222222222222,
              "#7201a8"
             ],
             [
              0.3333333333333333,
              "#9c179e"
             ],
             [
              0.4444444444444444,
              "#bd3786"
             ],
             [
              0.5555555555555556,
              "#d8576b"
             ],
             [
              0.6666666666666666,
              "#ed7953"
             ],
             [
              0.7777777777777778,
              "#fb9f3a"
             ],
             [
              0.8888888888888888,
              "#fdca26"
             ],
             [
              1,
              "#f0f921"
             ]
            ],
            "type": "heatmapgl"
           }
          ],
          "histogram": [
           {
            "marker": {
             "pattern": {
              "fillmode": "overlay",
              "size": 10,
              "solidity": 0.2
             }
            },
            "type": "histogram"
           }
          ],
          "histogram2d": [
           {
            "colorbar": {
             "outlinewidth": 0,
             "ticks": ""
            },
            "colorscale": [
             [
              0,
              "#0d0887"
             ],
             [
              0.1111111111111111,
              "#46039f"
             ],
             [
              0.2222222222222222,
              "#7201a8"
             ],
             [
              0.3333333333333333,
              "#9c179e"
             ],
             [
              0.4444444444444444,
              "#bd3786"
             ],
             [
              0.5555555555555556,
              "#d8576b"
             ],
             [
              0.6666666666666666,
              "#ed7953"
             ],
             [
              0.7777777777777778,
              "#fb9f3a"
             ],
             [
              0.8888888888888888,
              "#fdca26"
             ],
             [
              1,
              "#f0f921"
             ]
            ],
            "type": "histogram2d"
           }
          ],
          "histogram2dcontour": [
           {
            "colorbar": {
             "outlinewidth": 0,
             "ticks": ""
            },
            "colorscale": [
             [
              0,
              "#0d0887"
             ],
             [
              0.1111111111111111,
              "#46039f"
             ],
             [
              0.2222222222222222,
              "#7201a8"
             ],
             [
              0.3333333333333333,
              "#9c179e"
             ],
             [
              0.4444444444444444,
              "#bd3786"
             ],
             [
              0.5555555555555556,
              "#d8576b"
             ],
             [
              0.6666666666666666,
              "#ed7953"
             ],
             [
              0.7777777777777778,
              "#fb9f3a"
             ],
             [
              0.8888888888888888,
              "#fdca26"
             ],
             [
              1,
              "#f0f921"
             ]
            ],
            "type": "histogram2dcontour"
           }
          ],
          "mesh3d": [
           {
            "colorbar": {
             "outlinewidth": 0,
             "ticks": ""
            },
            "type": "mesh3d"
           }
          ],
          "parcoords": [
           {
            "line": {
             "colorbar": {
              "outlinewidth": 0,
              "ticks": ""
             }
            },
            "type": "parcoords"
           }
          ],
          "pie": [
           {
            "automargin": true,
            "type": "pie"
           }
          ],
          "scatter": [
           {
            "fillpattern": {
             "fillmode": "overlay",
             "size": 10,
             "solidity": 0.2
            },
            "type": "scatter"
           }
          ],
          "scatter3d": [
           {
            "line": {
             "colorbar": {
              "outlinewidth": 0,
              "ticks": ""
             }
            },
            "marker": {
             "colorbar": {
              "outlinewidth": 0,
              "ticks": ""
             }
            },
            "type": "scatter3d"
           }
          ],
          "scattercarpet": [
           {
            "marker": {
             "colorbar": {
              "outlinewidth": 0,
              "ticks": ""
             }
            },
            "type": "scattercarpet"
           }
          ],
          "scattergeo": [
           {
            "marker": {
             "colorbar": {
              "outlinewidth": 0,
              "ticks": ""
             }
            },
            "type": "scattergeo"
           }
          ],
          "scattergl": [
           {
            "marker": {
             "colorbar": {
              "outlinewidth": 0,
              "ticks": ""
             }
            },
            "type": "scattergl"
           }
          ],
          "scattermapbox": [
           {
            "marker": {
             "colorbar": {
              "outlinewidth": 0,
              "ticks": ""
             }
            },
            "type": "scattermapbox"
           }
          ],
          "scatterpolar": [
           {
            "marker": {
             "colorbar": {
              "outlinewidth": 0,
              "ticks": ""
             }
            },
            "type": "scatterpolar"
           }
          ],
          "scatterpolargl": [
           {
            "marker": {
             "colorbar": {
              "outlinewidth": 0,
              "ticks": ""
             }
            },
            "type": "scatterpolargl"
           }
          ],
          "scatterternary": [
           {
            "marker": {
             "colorbar": {
              "outlinewidth": 0,
              "ticks": ""
             }
            },
            "type": "scatterternary"
           }
          ],
          "surface": [
           {
            "colorbar": {
             "outlinewidth": 0,
             "ticks": ""
            },
            "colorscale": [
             [
              0,
              "#0d0887"
             ],
             [
              0.1111111111111111,
              "#46039f"
             ],
             [
              0.2222222222222222,
              "#7201a8"
             ],
             [
              0.3333333333333333,
              "#9c179e"
             ],
             [
              0.4444444444444444,
              "#bd3786"
             ],
             [
              0.5555555555555556,
              "#d8576b"
             ],
             [
              0.6666666666666666,
              "#ed7953"
             ],
             [
              0.7777777777777778,
              "#fb9f3a"
             ],
             [
              0.8888888888888888,
              "#fdca26"
             ],
             [
              1,
              "#f0f921"
             ]
            ],
            "type": "surface"
           }
          ],
          "table": [
           {
            "cells": {
             "fill": {
              "color": "#EBF0F8"
             },
             "line": {
              "color": "white"
             }
            },
            "header": {
             "fill": {
              "color": "#C8D4E3"
             },
             "line": {
              "color": "white"
             }
            },
            "type": "table"
           }
          ]
         },
         "layout": {
          "annotationdefaults": {
           "arrowcolor": "#2a3f5f",
           "arrowhead": 0,
           "arrowwidth": 1
          },
          "autotypenumbers": "strict",
          "coloraxis": {
           "colorbar": {
            "outlinewidth": 0,
            "ticks": ""
           }
          },
          "colorscale": {
           "diverging": [
            [
             0,
             "#8e0152"
            ],
            [
             0.1,
             "#c51b7d"
            ],
            [
             0.2,
             "#de77ae"
            ],
            [
             0.3,
             "#f1b6da"
            ],
            [
             0.4,
             "#fde0ef"
            ],
            [
             0.5,
             "#f7f7f7"
            ],
            [
             0.6,
             "#e6f5d0"
            ],
            [
             0.7,
             "#b8e186"
            ],
            [
             0.8,
             "#7fbc41"
            ],
            [
             0.9,
             "#4d9221"
            ],
            [
             1,
             "#276419"
            ]
           ],
           "sequential": [
            [
             0,
             "#0d0887"
            ],
            [
             0.1111111111111111,
             "#46039f"
            ],
            [
             0.2222222222222222,
             "#7201a8"
            ],
            [
             0.3333333333333333,
             "#9c179e"
            ],
            [
             0.4444444444444444,
             "#bd3786"
            ],
            [
             0.5555555555555556,
             "#d8576b"
            ],
            [
             0.6666666666666666,
             "#ed7953"
            ],
            [
             0.7777777777777778,
             "#fb9f3a"
            ],
            [
             0.8888888888888888,
             "#fdca26"
            ],
            [
             1,
             "#f0f921"
            ]
           ],
           "sequentialminus": [
            [
             0,
             "#0d0887"
            ],
            [
             0.1111111111111111,
             "#46039f"
            ],
            [
             0.2222222222222222,
             "#7201a8"
            ],
            [
             0.3333333333333333,
             "#9c179e"
            ],
            [
             0.4444444444444444,
             "#bd3786"
            ],
            [
             0.5555555555555556,
             "#d8576b"
            ],
            [
             0.6666666666666666,
             "#ed7953"
            ],
            [
             0.7777777777777778,
             "#fb9f3a"
            ],
            [
             0.8888888888888888,
             "#fdca26"
            ],
            [
             1,
             "#f0f921"
            ]
           ]
          },
          "colorway": [
           "#636efa",
           "#EF553B",
           "#00cc96",
           "#ab63fa",
           "#FFA15A",
           "#19d3f3",
           "#FF6692",
           "#B6E880",
           "#FF97FF",
           "#FECB52"
          ],
          "font": {
           "color": "#2a3f5f"
          },
          "geo": {
           "bgcolor": "white",
           "lakecolor": "white",
           "landcolor": "#E5ECF6",
           "showlakes": true,
           "showland": true,
           "subunitcolor": "white"
          },
          "hoverlabel": {
           "align": "left"
          },
          "hovermode": "closest",
          "mapbox": {
           "style": "light"
          },
          "paper_bgcolor": "white",
          "plot_bgcolor": "#E5ECF6",
          "polar": {
           "angularaxis": {
            "gridcolor": "white",
            "linecolor": "white",
            "ticks": ""
           },
           "bgcolor": "#E5ECF6",
           "radialaxis": {
            "gridcolor": "white",
            "linecolor": "white",
            "ticks": ""
           }
          },
          "scene": {
           "xaxis": {
            "backgroundcolor": "#E5ECF6",
            "gridcolor": "white",
            "gridwidth": 2,
            "linecolor": "white",
            "showbackground": true,
            "ticks": "",
            "zerolinecolor": "white"
           },
           "yaxis": {
            "backgroundcolor": "#E5ECF6",
            "gridcolor": "white",
            "gridwidth": 2,
            "linecolor": "white",
            "showbackground": true,
            "ticks": "",
            "zerolinecolor": "white"
           },
           "zaxis": {
            "backgroundcolor": "#E5ECF6",
            "gridcolor": "white",
            "gridwidth": 2,
            "linecolor": "white",
            "showbackground": true,
            "ticks": "",
            "zerolinecolor": "white"
           }
          },
          "shapedefaults": {
           "line": {
            "color": "#2a3f5f"
           }
          },
          "ternary": {
           "aaxis": {
            "gridcolor": "white",
            "linecolor": "white",
            "ticks": ""
           },
           "baxis": {
            "gridcolor": "white",
            "linecolor": "white",
            "ticks": ""
           },
           "bgcolor": "#E5ECF6",
           "caxis": {
            "gridcolor": "white",
            "linecolor": "white",
            "ticks": ""
           }
          },
          "title": {
           "x": 0.05
          },
          "xaxis": {
           "automargin": true,
           "gridcolor": "white",
           "linecolor": "white",
           "ticks": "",
           "title": {
            "standoff": 15
           },
           "zerolinecolor": "white",
           "zerolinewidth": 2
          },
          "yaxis": {
           "automargin": true,
           "gridcolor": "white",
           "linecolor": "white",
           "ticks": "",
           "title": {
            "standoff": 15
           },
           "zerolinecolor": "white",
           "zerolinewidth": 2
          }
         }
        },
        "width": 500,
        "xaxis": {
         "anchor": "y",
         "domain": [
          0,
          1
         ],
         "tickfont": {
          "size": 18
         },
         "title": {
          "font": {
           "size": 18
          },
          "text": "Dataset Name"
         }
        },
        "yaxis": {
         "anchor": "x",
         "domain": [
          0,
          1
         ],
         "tickfont": {
          "size": 18
         },
         "title": {
          "font": {
           "size": 18
          },
          "text": "Score Difference (lower is better)"
         }
        }
       }
      }
     },
     "metadata": {},
     "output_type": "display_data"
    }
   ],
   "source": [
    "import pandas as pd\n",
    "import plotly.express as px\n",
    "\n",
    "# Load the data from the CSV file\n",
    "data = pd.read_csv('k=12-1.csv')\n",
    "\n",
    "# Calculate the difference from 'full' variant\n",
    "full_score = data[data['Name'] == 'full']['Score'].values[0]\n",
    "data['Score Difference'] = data['Score'] - full_score\n",
    "font_size = 18\n",
    "# Create a line chart with markers using Plotly\n",
    "fig = px.bar(data, x='Name', y='Score Difference', labels={'Name': 'Dataset Name', 'Score Difference':'Score Difference (lower is better)'})\n",
    "fig.update_layout(\n",
    "    # height=300,\n",
    "    width=500,\n",
    "    showlegend=False,\n",
    "    font=dict(size=font_size),  # Global font size\n",
    "    yaxis=dict(\n",
    "        title_font=dict(size=font_size),  # Y-axis title font size\n",
    "        tickfont=dict(size=font_size),  # Y-axis tick font size\n",
    "    ),\n",
    "    xaxis=dict(\n",
    "        title_font=dict(size=font_size),  # X-axis title font size (if any)\n",
    "        tickfont=dict(size=font_size),  # X-axis tick font size\n",
    "    ),\n",
    "    # margin=dict(l=20, r=20, t=20, b=20),  # margins\n",
    "    \n",
    ")\n",
    "\n",
    "# Save the figure as a PDF file\n",
    "fig.write_image(\"figure.pdf\")\n",
    "# Show the figure\n",
    "fig.show()"
   ]
  },
  {
   "cell_type": "code",
   "execution_count": 1285,
   "metadata": {},
   "outputs": [
    {
     "data": {
      "text/html": [
       "<pre style=\"white-space:pre;overflow-x:auto;line-height:normal;font-family:Menlo,'DejaVu Sans Mono',consolas,'Courier New',monospace\"><span style=\"font-weight: bold\">[</span>\n",
       "    <span style=\"color: #008000; text-decoration-color: #008000\">'chexpert'</span>,\n",
       "    <span style=\"color: #008000; text-decoration-color: #008000\">'pascal'</span>,\n",
       "    <span style=\"color: #008000; text-decoration-color: #008000\">'places365'</span>,\n",
       "    <span style=\"color: #008000; text-decoration-color: #008000\">'imagenet1k'</span>,\n",
       "    <span style=\"color: #008000; text-decoration-color: #008000\">'ade20k'</span>,\n",
       "    <span style=\"color: #008000; text-decoration-color: #008000\">'ham10k'</span>,\n",
       "    <span style=\"color: #008000; text-decoration-color: #008000\">'kinetics'</span>,\n",
       "    <span style=\"color: #008000; text-decoration-color: #008000\">'clevr'</span>,\n",
       "    <span style=\"color: #008000; text-decoration-color: #008000\">'ucf'</span>,\n",
       "    <span style=\"color: #008000; text-decoration-color: #008000\">'food101'</span>,\n",
       "    <span style=\"color: #008000; text-decoration-color: #008000\">'newyorkercaptioncontest'</span>,\n",
       "    <span style=\"color: #008000; text-decoration-color: #008000\">'flickr30k'</span>\n",
       "<span style=\"font-weight: bold\">]</span>\n",
       "</pre>\n"
      ],
      "text/plain": [
       "\u001b[1m[\u001b[0m\n",
       "    \u001b[32m'chexpert'\u001b[0m,\n",
       "    \u001b[32m'pascal'\u001b[0m,\n",
       "    \u001b[32m'places365'\u001b[0m,\n",
       "    \u001b[32m'imagenet1k'\u001b[0m,\n",
       "    \u001b[32m'ade20k'\u001b[0m,\n",
       "    \u001b[32m'ham10k'\u001b[0m,\n",
       "    \u001b[32m'kinetics'\u001b[0m,\n",
       "    \u001b[32m'clevr'\u001b[0m,\n",
       "    \u001b[32m'ucf'\u001b[0m,\n",
       "    \u001b[32m'food101'\u001b[0m,\n",
       "    \u001b[32m'newyorkercaptioncontest'\u001b[0m,\n",
       "    \u001b[32m'flickr30k'\u001b[0m\n",
       "\u001b[1m]\u001b[0m\n"
      ]
     },
     "metadata": {},
     "output_type": "display_data"
    }
   ],
   "source": [
    "sub_gate_columns = data[\"Name\"]\n",
    "\n",
    "sub_gate_columns = sub_gate_columns[1:]\n",
    "sub_gate_columns = [\"newyorkercaptioncontest\" if col == \"nycc\" else col for col in sub_gate_columns]\n",
    "print(sub_gate_columns)\n"
   ]
  },
  {
   "cell_type": "code",
   "execution_count": 1286,
   "metadata": {},
   "outputs": [
    {
     "name": "stderr",
     "output_type": "stream",
     "text": [
      "/var/folders/gh/_5t3nhn94t12m7rh483b8b7r0000gn/T/ipykernel_60051/553669900.py:10: FutureWarning:\n",
      "\n",
      "Series.__getitem__ treating keys as positions is deprecated. In a future version, integer keys will always be treated as labels (consistent with DataFrame behavior). To access a value by position, use `ser.iloc[pos]`\n",
      "\n"
     ]
    },
    {
     "data": {
      "text/html": [
       "<div>\n",
       "<style scoped>\n",
       "    .dataframe tbody tr th:only-of-type {\n",
       "        vertical-align: middle;\n",
       "    }\n",
       "\n",
       "    .dataframe tbody tr th {\n",
       "        vertical-align: top;\n",
       "    }\n",
       "\n",
       "    .dataframe thead th {\n",
       "        text-align: right;\n",
       "    }\n",
       "</style>\n",
       "<table border=\"1\" class=\"dataframe\">\n",
       "  <thead>\n",
       "    <tr style=\"text-align: right;\">\n",
       "      <th></th>\n",
       "      <th>Model.Metric</th>\n",
       "      <th>cityscapes.mIoU</th>\n",
       "      <th>cityscapes.dice-loss</th>\n",
       "      <th>acdc.dice-loss</th>\n",
       "      <th>ade20k.mIoU</th>\n",
       "      <th>ade20k.dice-loss</th>\n",
       "      <th>aircraft.acc@1</th>\n",
       "      <th>chexpert.auc</th>\n",
       "      <th>cifar100.loss</th>\n",
       "      <th>cifar100.acc@5</th>\n",
       "      <th>cifar100.acc@1</th>\n",
       "      <th>clevr.acc@1</th>\n",
       "      <th>clevr-math.acc@5</th>\n",
       "      <th>clevr-math.acc@1</th>\n",
       "      <th>coco-10k.mIoU</th>\n",
       "      <th>coco-10k.dice-loss</th>\n",
       "      <th>coco-164k.mIoU</th>\n",
       "      <th>coco-164k.dice-loss</th>\n",
       "      <th>cubirds.acc@1</th>\n",
       "      <th>diabetic.auc</th>\n",
       "      <th>dtextures.acc@1</th>\n",
       "      <th>flickr30k.text-to-image-acc@5</th>\n",
       "      <th>flickr30k.text-to-image-acc@1</th>\n",
       "      <th>flickr30k.image-to-text-acc@1</th>\n",
       "      <th>flickr30k.image-to-text-acc@5</th>\n",
       "      <th>food101.loss</th>\n",
       "      <th>food101.acc@5</th>\n",
       "      <th>food101.acc@1</th>\n",
       "      <th>fungi.acc@1</th>\n",
       "      <th>ham10k.auc</th>\n",
       "      <th>hmdb51.acc@5</th>\n",
       "      <th>hmdb51.acc@1</th>\n",
       "      <th>imagenet1k.loss</th>\n",
       "      <th>imagenet1k.acc@5</th>\n",
       "      <th>imagenet1k.acc@1</th>\n",
       "      <th>iwildcam.mae</th>\n",
       "      <th>kinetics.acc@5</th>\n",
       "      <th>kinetics.acc@1</th>\n",
       "      <th>mini.acc@1</th>\n",
       "      <th>newyorkercaptioncontest.text-to-image-acc@5</th>\n",
       "      <th>newyorkercaptioncontest.text-to-image-acc@1</th>\n",
       "      <th>newyorkercaptioncontest.image-to-text-acc@1</th>\n",
       "      <th>newyorkercaptioncontest.image-to-text-acc@5</th>\n",
       "      <th>nyu.mIoU</th>\n",
       "      <th>nyu.dice-loss</th>\n",
       "      <th>omniglot.acc@1</th>\n",
       "      <th>pascal.mIoU</th>\n",
       "      <th>pascal.dice-loss</th>\n",
       "      <th>places365.loss</th>\n",
       "      <th>places365.acc@5</th>\n",
       "      <th>places365.acc@1</th>\n",
       "      <th>pokemonblipcaptions.text-to-image-acc@5</th>\n",
       "      <th>pokemonblipcaptions.text-to-image-acc@1</th>\n",
       "      <th>pokemonblipcaptions.image-to-text-acc@1</th>\n",
       "      <th>pokemonblipcaptions.image-to-text-acc@5</th>\n",
       "      <th>ucf.acc@5</th>\n",
       "      <th>ucf.acc@1</th>\n",
       "      <th>vgg.acc@1</th>\n",
       "      <th>winoground.text-to-image-acc@1</th>\n",
       "      <th>winoground.image-to-text-acc@1</th>\n",
       "      <th>Image Classification</th>\n",
       "      <th>Few Shot Image Classification</th>\n",
       "      <th>Image Segmentation</th>\n",
       "      <th>Image Relational Reasoning</th>\n",
       "      <th>Medical Classification/Segmentation</th>\n",
       "      <th>Image to Text Zero Shot Learning</th>\n",
       "      <th>Video Classification</th>\n",
       "      <th>Video Regression</th>\n",
       "    </tr>\n",
       "  </thead>\n",
       "  <tbody>\n",
       "    <tr>\n",
       "      <th>0</th>\n",
       "      <td>AR-ViT-B16-224</td>\n",
       "      <td>57.848</td>\n",
       "      <td>35.19</td>\n",
       "      <td>42.9</td>\n",
       "      <td>17.353</td>\n",
       "      <td>22.3</td>\n",
       "      <td>94.4</td>\n",
       "      <td>81.3</td>\n",
       "      <td>76.628571</td>\n",
       "      <td>83.629</td>\n",
       "      <td>55.742</td>\n",
       "      <td>52.828</td>\n",
       "      <td>98.850</td>\n",
       "      <td>58.849</td>\n",
       "      <td>22.783</td>\n",
       "      <td>2.7</td>\n",
       "      <td>21.321</td>\n",
       "      <td>3.0</td>\n",
       "      <td>94.4</td>\n",
       "      <td>83.9</td>\n",
       "      <td>79.9</td>\n",
       "      <td>18.8</td>\n",
       "      <td>5.3</td>\n",
       "      <td>5.5</td>\n",
       "      <td>18.7</td>\n",
       "      <td>91.685714</td>\n",
       "      <td>96.630</td>\n",
       "      <td>83.834</td>\n",
       "      <td>77.5</td>\n",
       "      <td>98.5</td>\n",
       "      <td>57.917</td>\n",
       "      <td>28.385</td>\n",
       "      <td>86.185714</td>\n",
       "      <td>93.007</td>\n",
       "      <td>78.199</td>\n",
       "      <td>41.528571</td>\n",
       "      <td>63.288</td>\n",
       "      <td>36.718</td>\n",
       "      <td>98.7</td>\n",
       "      <td>19.5</td>\n",
       "      <td>5.2</td>\n",
       "      <td>5.4</td>\n",
       "      <td>18.7</td>\n",
       "      <td>8.345</td>\n",
       "      <td>72.9</td>\n",
       "      <td>98.6</td>\n",
       "      <td>15.460</td>\n",
       "      <td>21.9</td>\n",
       "      <td>70.542857</td>\n",
       "      <td>78.706</td>\n",
       "      <td>46.641</td>\n",
       "      <td>82.1</td>\n",
       "      <td>64.0</td>\n",
       "      <td>62.8</td>\n",
       "      <td>79.4</td>\n",
       "      <td>84.369</td>\n",
       "      <td>65.374</td>\n",
       "      <td>95.5</td>\n",
       "      <td>56.9</td>\n",
       "      <td>61.1</td>\n",
       "      <td>78.452571</td>\n",
       "      <td>91.285714</td>\n",
       "      <td>25.091667</td>\n",
       "      <td>70.175667</td>\n",
       "      <td>76.650</td>\n",
       "      <td>35.957143</td>\n",
       "      <td>56.008500</td>\n",
       "      <td>41.528571</td>\n",
       "    </tr>\n",
       "    <tr>\n",
       "      <th>1</th>\n",
       "      <td>BART</td>\n",
       "      <td>0.000</td>\n",
       "      <td>0.00</td>\n",
       "      <td>25.3</td>\n",
       "      <td>0.380</td>\n",
       "      <td>33.2</td>\n",
       "      <td>53.0</td>\n",
       "      <td>63.7</td>\n",
       "      <td>43.071429</td>\n",
       "      <td>29.170</td>\n",
       "      <td>8.967</td>\n",
       "      <td>42.563</td>\n",
       "      <td>96.450</td>\n",
       "      <td>41.761</td>\n",
       "      <td>0.056</td>\n",
       "      <td>4.1</td>\n",
       "      <td>0.110</td>\n",
       "      <td>3.5</td>\n",
       "      <td>50.3</td>\n",
       "      <td>55.1</td>\n",
       "      <td>35.4</td>\n",
       "      <td>7.9</td>\n",
       "      <td>1.6</td>\n",
       "      <td>1.5</td>\n",
       "      <td>7.8</td>\n",
       "      <td>44.442857</td>\n",
       "      <td>31.844</td>\n",
       "      <td>11.504</td>\n",
       "      <td>33.7</td>\n",
       "      <td>85.9</td>\n",
       "      <td>9.961</td>\n",
       "      <td>1.953</td>\n",
       "      <td>5.400000</td>\n",
       "      <td>3.107</td>\n",
       "      <td>0.713</td>\n",
       "      <td>35.871429</td>\n",
       "      <td>1.277</td>\n",
       "      <td>0.256</td>\n",
       "      <td>37.3</td>\n",
       "      <td>8.1</td>\n",
       "      <td>1.6</td>\n",
       "      <td>1.6</td>\n",
       "      <td>8.1</td>\n",
       "      <td>4.893</td>\n",
       "      <td>76.0</td>\n",
       "      <td>84.1</td>\n",
       "      <td>1.002</td>\n",
       "      <td>44.4</td>\n",
       "      <td>25.028571</td>\n",
       "      <td>11.058</td>\n",
       "      <td>2.953</td>\n",
       "      <td>74.8</td>\n",
       "      <td>55.6</td>\n",
       "      <td>55.6</td>\n",
       "      <td>69.4</td>\n",
       "      <td>5.444</td>\n",
       "      <td>1.031</td>\n",
       "      <td>59.4</td>\n",
       "      <td>47.7</td>\n",
       "      <td>48.8</td>\n",
       "      <td>18.104905</td>\n",
       "      <td>50.457143</td>\n",
       "      <td>13.970083</td>\n",
       "      <td>60.258000</td>\n",
       "      <td>57.500</td>\n",
       "      <td>27.864286</td>\n",
       "      <td>3.320333</td>\n",
       "      <td>35.871429</td>\n",
       "    </tr>\n",
       "    <tr>\n",
       "      <th>2</th>\n",
       "      <td>BERT</td>\n",
       "      <td>0.000</td>\n",
       "      <td>0.00</td>\n",
       "      <td>4.1</td>\n",
       "      <td>0.360</td>\n",
       "      <td>33.0</td>\n",
       "      <td>59.0</td>\n",
       "      <td>66.2</td>\n",
       "      <td>47.357143</td>\n",
       "      <td>38.137</td>\n",
       "      <td>14.520</td>\n",
       "      <td>42.593</td>\n",
       "      <td>97.400</td>\n",
       "      <td>44.265</td>\n",
       "      <td>0.055</td>\n",
       "      <td>3.8</td>\n",
       "      <td>0.096</td>\n",
       "      <td>3.4</td>\n",
       "      <td>47.4</td>\n",
       "      <td>57.6</td>\n",
       "      <td>37.6</td>\n",
       "      <td>8.1</td>\n",
       "      <td>1.6</td>\n",
       "      <td>1.5</td>\n",
       "      <td>8.3</td>\n",
       "      <td>50.014286</td>\n",
       "      <td>42.442</td>\n",
       "      <td>18.191</td>\n",
       "      <td>32.8</td>\n",
       "      <td>91.1</td>\n",
       "      <td>9.766</td>\n",
       "      <td>1.953</td>\n",
       "      <td>7.528571</td>\n",
       "      <td>4.616</td>\n",
       "      <td>1.173</td>\n",
       "      <td>34.628571</td>\n",
       "      <td>1.269</td>\n",
       "      <td>0.233</td>\n",
       "      <td>39.6</td>\n",
       "      <td>8.2</td>\n",
       "      <td>1.5</td>\n",
       "      <td>1.6</td>\n",
       "      <td>8.5</td>\n",
       "      <td>5.503</td>\n",
       "      <td>75.9</td>\n",
       "      <td>90.2</td>\n",
       "      <td>0.961</td>\n",
       "      <td>45.5</td>\n",
       "      <td>28.457143</td>\n",
       "      <td>16.037</td>\n",
       "      <td>4.795</td>\n",
       "      <td>75.6</td>\n",
       "      <td>59.9</td>\n",
       "      <td>58.7</td>\n",
       "      <td>72.2</td>\n",
       "      <td>6.040</td>\n",
       "      <td>1.287</td>\n",
       "      <td>59.4</td>\n",
       "      <td>50.4</td>\n",
       "      <td>50.3</td>\n",
       "      <td>22.772345</td>\n",
       "      <td>52.285714</td>\n",
       "      <td>14.047917</td>\n",
       "      <td>61.419333</td>\n",
       "      <td>54.750</td>\n",
       "      <td>29.028571</td>\n",
       "      <td>3.424667</td>\n",
       "      <td>34.628571</td>\n",
       "    </tr>\n",
       "    <tr>\n",
       "      <th>3</th>\n",
       "      <td>CLIP-B16-224</td>\n",
       "      <td>65.142</td>\n",
       "      <td>40.06</td>\n",
       "      <td>46.2</td>\n",
       "      <td>33.804</td>\n",
       "      <td>31.3</td>\n",
       "      <td>96.5</td>\n",
       "      <td>81.6</td>\n",
       "      <td>87.028571</td>\n",
       "      <td>93.760</td>\n",
       "      <td>74.731</td>\n",
       "      <td>52.622</td>\n",
       "      <td>99.113</td>\n",
       "      <td>61.218</td>\n",
       "      <td>29.609</td>\n",
       "      <td>3.2</td>\n",
       "      <td>30.369</td>\n",
       "      <td>4.6</td>\n",
       "      <td>97.9</td>\n",
       "      <td>86.7</td>\n",
       "      <td>84.3</td>\n",
       "      <td>20.9</td>\n",
       "      <td>5.5</td>\n",
       "      <td>6.2</td>\n",
       "      <td>20.6</td>\n",
       "      <td>95.628571</td>\n",
       "      <td>98.679</td>\n",
       "      <td>91.496</td>\n",
       "      <td>85.4</td>\n",
       "      <td>98.6</td>\n",
       "      <td>70.039</td>\n",
       "      <td>40.404</td>\n",
       "      <td>89.257143</td>\n",
       "      <td>95.708</td>\n",
       "      <td>81.815</td>\n",
       "      <td>48.385714</td>\n",
       "      <td>71.240</td>\n",
       "      <td>44.574</td>\n",
       "      <td>96.2</td>\n",
       "      <td>21.0</td>\n",
       "      <td>5.7</td>\n",
       "      <td>6.0</td>\n",
       "      <td>19.9</td>\n",
       "      <td>7.545</td>\n",
       "      <td>71.3</td>\n",
       "      <td>98.9</td>\n",
       "      <td>26.619</td>\n",
       "      <td>36.8</td>\n",
       "      <td>74.900000</td>\n",
       "      <td>83.864</td>\n",
       "      <td>53.445</td>\n",
       "      <td>85.2</td>\n",
       "      <td>67.9</td>\n",
       "      <td>61.8</td>\n",
       "      <td>81.7</td>\n",
       "      <td>88.238</td>\n",
       "      <td>71.440</td>\n",
       "      <td>98.9</td>\n",
       "      <td>54.0</td>\n",
       "      <td>48.6</td>\n",
       "      <td>85.026024</td>\n",
       "      <td>94.014286</td>\n",
       "      <td>31.695667</td>\n",
       "      <td>70.984333</td>\n",
       "      <td>78.275</td>\n",
       "      <td>36.071429</td>\n",
       "      <td>64.322500</td>\n",
       "      <td>48.385714</td>\n",
       "    </tr>\n",
       "    <tr>\n",
       "      <th>4</th>\n",
       "      <td>ConvNextV2-Base</td>\n",
       "      <td>62.341</td>\n",
       "      <td>41.78</td>\n",
       "      <td>36.4</td>\n",
       "      <td>37.253</td>\n",
       "      <td>52.8</td>\n",
       "      <td>96.7</td>\n",
       "      <td>81.8</td>\n",
       "      <td>90.857143</td>\n",
       "      <td>97.422</td>\n",
       "      <td>84.126</td>\n",
       "      <td>52.606</td>\n",
       "      <td>99.787</td>\n",
       "      <td>77.402</td>\n",
       "      <td>26.840</td>\n",
       "      <td>85.3</td>\n",
       "      <td>25.059</td>\n",
       "      <td>83.1</td>\n",
       "      <td>98.0</td>\n",
       "      <td>87.5</td>\n",
       "      <td>85.0</td>\n",
       "      <td>21.2</td>\n",
       "      <td>5.5</td>\n",
       "      <td>6.0</td>\n",
       "      <td>20.5</td>\n",
       "      <td>96.114286</td>\n",
       "      <td>98.991</td>\n",
       "      <td>92.896</td>\n",
       "      <td>85.7</td>\n",
       "      <td>99.1</td>\n",
       "      <td>77.539</td>\n",
       "      <td>50.326</td>\n",
       "      <td>90.928571</td>\n",
       "      <td>96.851</td>\n",
       "      <td>85.288</td>\n",
       "      <td>50.771429</td>\n",
       "      <td>75.765</td>\n",
       "      <td>49.011</td>\n",
       "      <td>95.8</td>\n",
       "      <td>21.4</td>\n",
       "      <td>5.8</td>\n",
       "      <td>6.3</td>\n",
       "      <td>21.0</td>\n",
       "      <td>5.260</td>\n",
       "      <td>77.5</td>\n",
       "      <td>98.6</td>\n",
       "      <td>32.665</td>\n",
       "      <td>70.3</td>\n",
       "      <td>76.300000</td>\n",
       "      <td>85.325</td>\n",
       "      <td>54.726</td>\n",
       "      <td>80.3</td>\n",
       "      <td>61.0</td>\n",
       "      <td>61.6</td>\n",
       "      <td>78.3</td>\n",
       "      <td>94.737</td>\n",
       "      <td>84.106</td>\n",
       "      <td>99.6</td>\n",
       "      <td>47.8</td>\n",
       "      <td>39.8</td>\n",
       "      <td>87.485417</td>\n",
       "      <td>94.200000</td>\n",
       "      <td>50.016500</td>\n",
       "      <td>76.598333</td>\n",
       "      <td>76.200</td>\n",
       "      <td>34.035714</td>\n",
       "      <td>71.914000</td>\n",
       "      <td>50.771429</td>\n",
       "    </tr>\n",
       "    <tr>\n",
       "      <th>5</th>\n",
       "      <td>DINO-B16-224</td>\n",
       "      <td>60.224</td>\n",
       "      <td>36.13</td>\n",
       "      <td>48.5</td>\n",
       "      <td>18.610</td>\n",
       "      <td>26.7</td>\n",
       "      <td>95.6</td>\n",
       "      <td>81.9</td>\n",
       "      <td>82.857143</td>\n",
       "      <td>89.590</td>\n",
       "      <td>66.282</td>\n",
       "      <td>52.846</td>\n",
       "      <td>99.188</td>\n",
       "      <td>61.001</td>\n",
       "      <td>24.968</td>\n",
       "      <td>3.1</td>\n",
       "      <td>24.292</td>\n",
       "      <td>4.9</td>\n",
       "      <td>95.9</td>\n",
       "      <td>84.7</td>\n",
       "      <td>79.1</td>\n",
       "      <td>19.6</td>\n",
       "      <td>4.6</td>\n",
       "      <td>5.4</td>\n",
       "      <td>18.6</td>\n",
       "      <td>93.171429</td>\n",
       "      <td>97.449</td>\n",
       "      <td>86.519</td>\n",
       "      <td>81.2</td>\n",
       "      <td>98.7</td>\n",
       "      <td>56.525</td>\n",
       "      <td>27.995</td>\n",
       "      <td>80.342857</td>\n",
       "      <td>88.493</td>\n",
       "      <td>67.529</td>\n",
       "      <td>42.714286</td>\n",
       "      <td>55.634</td>\n",
       "      <td>29.529</td>\n",
       "      <td>89.9</td>\n",
       "      <td>20.0</td>\n",
       "      <td>5.2</td>\n",
       "      <td>5.3</td>\n",
       "      <td>19.0</td>\n",
       "      <td>6.138</td>\n",
       "      <td>71.4</td>\n",
       "      <td>98.7</td>\n",
       "      <td>18.184</td>\n",
       "      <td>30.2</td>\n",
       "      <td>71.614286</td>\n",
       "      <td>79.704</td>\n",
       "      <td>47.454</td>\n",
       "      <td>85.6</td>\n",
       "      <td>68.2</td>\n",
       "      <td>65.5</td>\n",
       "      <td>81.8</td>\n",
       "      <td>77.125</td>\n",
       "      <td>52.769</td>\n",
       "      <td>95.9</td>\n",
       "      <td>48.3</td>\n",
       "      <td>49.5</td>\n",
       "      <td>79.250476</td>\n",
       "      <td>90.900000</td>\n",
       "      <td>27.070500</td>\n",
       "      <td>71.011667</td>\n",
       "      <td>78.450</td>\n",
       "      <td>35.471429</td>\n",
       "      <td>49.929500</td>\n",
       "      <td>42.714286</td>\n",
       "    </tr>\n",
       "    <tr>\n",
       "      <th>6</th>\n",
       "      <td>DeiT3-B16-224</td>\n",
       "      <td>62.833</td>\n",
       "      <td>35.99</td>\n",
       "      <td>40.9</td>\n",
       "      <td>21.900</td>\n",
       "      <td>29.7</td>\n",
       "      <td>95.3</td>\n",
       "      <td>82.7</td>\n",
       "      <td>83.400000</td>\n",
       "      <td>90.844</td>\n",
       "      <td>66.750</td>\n",
       "      <td>52.342</td>\n",
       "      <td>99.350</td>\n",
       "      <td>62.701</td>\n",
       "      <td>28.345</td>\n",
       "      <td>4.7</td>\n",
       "      <td>26.125</td>\n",
       "      <td>4.1</td>\n",
       "      <td>96.2</td>\n",
       "      <td>81.8</td>\n",
       "      <td>81.9</td>\n",
       "      <td>20.0</td>\n",
       "      <td>5.0</td>\n",
       "      <td>5.6</td>\n",
       "      <td>19.2</td>\n",
       "      <td>93.614286</td>\n",
       "      <td>97.718</td>\n",
       "      <td>87.331</td>\n",
       "      <td>80.5</td>\n",
       "      <td>98.5</td>\n",
       "      <td>64.338</td>\n",
       "      <td>36.523</td>\n",
       "      <td>88.657143</td>\n",
       "      <td>94.675</td>\n",
       "      <td>82.011</td>\n",
       "      <td>54.371429</td>\n",
       "      <td>66.558</td>\n",
       "      <td>39.528</td>\n",
       "      <td>98.8</td>\n",
       "      <td>21.9</td>\n",
       "      <td>6.0</td>\n",
       "      <td>6.5</td>\n",
       "      <td>20.5</td>\n",
       "      <td>7.488</td>\n",
       "      <td>70.8</td>\n",
       "      <td>98.6</td>\n",
       "      <td>22.291</td>\n",
       "      <td>33.3</td>\n",
       "      <td>72.242857</td>\n",
       "      <td>80.614</td>\n",
       "      <td>48.677</td>\n",
       "      <td>82.6</td>\n",
       "      <td>67.0</td>\n",
       "      <td>63.9</td>\n",
       "      <td>81.0</td>\n",
       "      <td>88.506</td>\n",
       "      <td>70.411</td>\n",
       "      <td>96.2</td>\n",
       "      <td>49.2</td>\n",
       "      <td>42.4</td>\n",
       "      <td>82.211190</td>\n",
       "      <td>92.500000</td>\n",
       "      <td>28.964333</td>\n",
       "      <td>71.464333</td>\n",
       "      <td>75.975</td>\n",
       "      <td>35.057143</td>\n",
       "      <td>60.977333</td>\n",
       "      <td>54.371429</td>\n",
       "    </tr>\n",
       "    <tr>\n",
       "      <th>7</th>\n",
       "      <td>EffFormer-s0</td>\n",
       "      <td>2.492</td>\n",
       "      <td>0.00</td>\n",
       "      <td>27.0</td>\n",
       "      <td>9.801</td>\n",
       "      <td>33.8</td>\n",
       "      <td>77.5</td>\n",
       "      <td>80.0</td>\n",
       "      <td>50.314286</td>\n",
       "      <td>43.571</td>\n",
       "      <td>16.511</td>\n",
       "      <td>45.115</td>\n",
       "      <td>98.700</td>\n",
       "      <td>53.862</td>\n",
       "      <td>13.995</td>\n",
       "      <td>9.7</td>\n",
       "      <td>13.549</td>\n",
       "      <td>13.5</td>\n",
       "      <td>86.3</td>\n",
       "      <td>81.8</td>\n",
       "      <td>56.7</td>\n",
       "      <td>15.6</td>\n",
       "      <td>3.5</td>\n",
       "      <td>4.2</td>\n",
       "      <td>16.0</td>\n",
       "      <td>78.814286</td>\n",
       "      <td>86.983</td>\n",
       "      <td>62.578</td>\n",
       "      <td>51.2</td>\n",
       "      <td>81.8</td>\n",
       "      <td>9.726</td>\n",
       "      <td>1.628</td>\n",
       "      <td>59.571429</td>\n",
       "      <td>72.456</td>\n",
       "      <td>44.615</td>\n",
       "      <td>50.214286</td>\n",
       "      <td>1.334</td>\n",
       "      <td>0.279</td>\n",
       "      <td>90.8</td>\n",
       "      <td>15.1</td>\n",
       "      <td>3.4</td>\n",
       "      <td>3.4</td>\n",
       "      <td>14.4</td>\n",
       "      <td>10.498</td>\n",
       "      <td>76.4</td>\n",
       "      <td>95.4</td>\n",
       "      <td>14.026</td>\n",
       "      <td>51.4</td>\n",
       "      <td>53.200000</td>\n",
       "      <td>55.901</td>\n",
       "      <td>25.548</td>\n",
       "      <td>77.5</td>\n",
       "      <td>60.5</td>\n",
       "      <td>59.4</td>\n",
       "      <td>78.2</td>\n",
       "      <td>5.173</td>\n",
       "      <td>0.840</td>\n",
       "      <td>90.3</td>\n",
       "      <td>56.8</td>\n",
       "      <td>51.3</td>\n",
       "      <td>54.171917</td>\n",
       "      <td>78.314286</td>\n",
       "      <td>20.763417</td>\n",
       "      <td>65.892333</td>\n",
       "      <td>67.650</td>\n",
       "      <td>32.807143</td>\n",
       "      <td>3.163333</td>\n",
       "      <td>50.214286</td>\n",
       "    </tr>\n",
       "    <tr>\n",
       "      <th>8</th>\n",
       "      <td>EffV2-RW-S</td>\n",
       "      <td>63.144</td>\n",
       "      <td>40.18</td>\n",
       "      <td>60.9</td>\n",
       "      <td>12.668</td>\n",
       "      <td>32.1</td>\n",
       "      <td>89.4</td>\n",
       "      <td>81.8</td>\n",
       "      <td>79.128571</td>\n",
       "      <td>89.471</td>\n",
       "      <td>64.968</td>\n",
       "      <td>39.848</td>\n",
       "      <td>97.463</td>\n",
       "      <td>43.199</td>\n",
       "      <td>8.704</td>\n",
       "      <td>6.3</td>\n",
       "      <td>8.268</td>\n",
       "      <td>4.5</td>\n",
       "      <td>92.1</td>\n",
       "      <td>86.1</td>\n",
       "      <td>59.5</td>\n",
       "      <td>17.3</td>\n",
       "      <td>4.0</td>\n",
       "      <td>3.7</td>\n",
       "      <td>16.1</td>\n",
       "      <td>90.814286</td>\n",
       "      <td>96.816</td>\n",
       "      <td>85.282</td>\n",
       "      <td>73.7</td>\n",
       "      <td>97.5</td>\n",
       "      <td>27.699</td>\n",
       "      <td>11.068</td>\n",
       "      <td>81.485714</td>\n",
       "      <td>90.439</td>\n",
       "      <td>71.549</td>\n",
       "      <td>47.128571</td>\n",
       "      <td>2.357</td>\n",
       "      <td>0.561</td>\n",
       "      <td>62.8</td>\n",
       "      <td>16.8</td>\n",
       "      <td>3.5</td>\n",
       "      <td>3.4</td>\n",
       "      <td>14.9</td>\n",
       "      <td>8.216</td>\n",
       "      <td>75.6</td>\n",
       "      <td>98.6</td>\n",
       "      <td>11.776</td>\n",
       "      <td>38.2</td>\n",
       "      <td>73.685714</td>\n",
       "      <td>82.389</td>\n",
       "      <td>51.066</td>\n",
       "      <td>65.1</td>\n",
       "      <td>46.3</td>\n",
       "      <td>46.0</td>\n",
       "      <td>62.5</td>\n",
       "      <td>25.840</td>\n",
       "      <td>9.611</td>\n",
       "      <td>91.2</td>\n",
       "      <td>50.0</td>\n",
       "      <td>50.0</td>\n",
       "      <td>79.757857</td>\n",
       "      <td>81.042857</td>\n",
       "      <td>25.804667</td>\n",
       "      <td>60.170000</td>\n",
       "      <td>81.575</td>\n",
       "      <td>28.542857</td>\n",
       "      <td>12.856000</td>\n",
       "      <td>47.128571</td>\n",
       "    </tr>\n",
       "    <tr>\n",
       "      <th>9</th>\n",
       "      <td>Flex-B-1200EP</td>\n",
       "      <td>66.623</td>\n",
       "      <td>38.59</td>\n",
       "      <td>45.4</td>\n",
       "      <td>23.308</td>\n",
       "      <td>29.2</td>\n",
       "      <td>95.9</td>\n",
       "      <td>82.9</td>\n",
       "      <td>87.428571</td>\n",
       "      <td>94.367</td>\n",
       "      <td>75.100</td>\n",
       "      <td>51.956</td>\n",
       "      <td>98.825</td>\n",
       "      <td>59.879</td>\n",
       "      <td>30.371</td>\n",
       "      <td>5.2</td>\n",
       "      <td>27.997</td>\n",
       "      <td>4.7</td>\n",
       "      <td>96.4</td>\n",
       "      <td>85.7</td>\n",
       "      <td>78.4</td>\n",
       "      <td>20.8</td>\n",
       "      <td>4.9</td>\n",
       "      <td>5.9</td>\n",
       "      <td>20.0</td>\n",
       "      <td>94.400000</td>\n",
       "      <td>98.093</td>\n",
       "      <td>89.142</td>\n",
       "      <td>83.7</td>\n",
       "      <td>98.5</td>\n",
       "      <td>60.885</td>\n",
       "      <td>32.227</td>\n",
       "      <td>89.142857</td>\n",
       "      <td>95.428</td>\n",
       "      <td>82.265</td>\n",
       "      <td>54.957143</td>\n",
       "      <td>67.584</td>\n",
       "      <td>40.673</td>\n",
       "      <td>99.1</td>\n",
       "      <td>20.9</td>\n",
       "      <td>5.3</td>\n",
       "      <td>5.3</td>\n",
       "      <td>19.6</td>\n",
       "      <td>6.197</td>\n",
       "      <td>72.5</td>\n",
       "      <td>98.9</td>\n",
       "      <td>21.660</td>\n",
       "      <td>31.4</td>\n",
       "      <td>74.528571</td>\n",
       "      <td>83.311</td>\n",
       "      <td>52.065</td>\n",
       "      <td>81.0</td>\n",
       "      <td>63.7</td>\n",
       "      <td>60.6</td>\n",
       "      <td>79.0</td>\n",
       "      <td>81.510</td>\n",
       "      <td>63.159</td>\n",
       "      <td>96.7</td>\n",
       "      <td>50.2</td>\n",
       "      <td>48.2</td>\n",
       "      <td>84.605917</td>\n",
       "      <td>92.728571</td>\n",
       "      <td>29.812167</td>\n",
       "      <td>70.220000</td>\n",
       "      <td>78.125</td>\n",
       "      <td>34.671429</td>\n",
       "      <td>57.673000</td>\n",
       "      <td>54.957143</td>\n",
       "    </tr>\n",
       "    <tr>\n",
       "      <th>10</th>\n",
       "      <td>Laion-B16-224</td>\n",
       "      <td>66.612</td>\n",
       "      <td>42.00</td>\n",
       "      <td>43.6</td>\n",
       "      <td>27.604</td>\n",
       "      <td>24.0</td>\n",
       "      <td>96.1</td>\n",
       "      <td>81.7</td>\n",
       "      <td>87.242857</td>\n",
       "      <td>93.859</td>\n",
       "      <td>75.139</td>\n",
       "      <td>46.963</td>\n",
       "      <td>99.000</td>\n",
       "      <td>61.104</td>\n",
       "      <td>30.564</td>\n",
       "      <td>3.2</td>\n",
       "      <td>27.208</td>\n",
       "      <td>2.6</td>\n",
       "      <td>96.6</td>\n",
       "      <td>84.9</td>\n",
       "      <td>85.4</td>\n",
       "      <td>20.9</td>\n",
       "      <td>5.2</td>\n",
       "      <td>5.9</td>\n",
       "      <td>20.2</td>\n",
       "      <td>95.585714</td>\n",
       "      <td>98.710</td>\n",
       "      <td>91.334</td>\n",
       "      <td>85.2</td>\n",
       "      <td>98.6</td>\n",
       "      <td>54.242</td>\n",
       "      <td>26.202</td>\n",
       "      <td>84.571429</td>\n",
       "      <td>93.055</td>\n",
       "      <td>74.079</td>\n",
       "      <td>45.600000</td>\n",
       "      <td>70.913</td>\n",
       "      <td>43.591</td>\n",
       "      <td>90.8</td>\n",
       "      <td>21.3</td>\n",
       "      <td>5.9</td>\n",
       "      <td>6.6</td>\n",
       "      <td>21.2</td>\n",
       "      <td>5.023</td>\n",
       "      <td>73.4</td>\n",
       "      <td>98.9</td>\n",
       "      <td>18.823</td>\n",
       "      <td>26.7</td>\n",
       "      <td>74.257143</td>\n",
       "      <td>83.650</td>\n",
       "      <td>52.924</td>\n",
       "      <td>91.0</td>\n",
       "      <td>67.6</td>\n",
       "      <td>64.8</td>\n",
       "      <td>85.6</td>\n",
       "      <td>83.914</td>\n",
       "      <td>62.289</td>\n",
       "      <td>96.8</td>\n",
       "      <td>56.2</td>\n",
       "      <td>48.2</td>\n",
       "      <td>83.700595</td>\n",
       "      <td>92.828571</td>\n",
       "      <td>28.977833</td>\n",
       "      <td>69.022333</td>\n",
       "      <td>77.200</td>\n",
       "      <td>37.185714</td>\n",
       "      <td>56.858500</td>\n",
       "      <td>45.600000</td>\n",
       "    </tr>\n",
       "    <tr>\n",
       "      <th>11</th>\n",
       "      <td>MPNET</td>\n",
       "      <td>0.000</td>\n",
       "      <td>0.00</td>\n",
       "      <td>25.3</td>\n",
       "      <td>0.368</td>\n",
       "      <td>33.0</td>\n",
       "      <td>15.8</td>\n",
       "      <td>61.2</td>\n",
       "      <td>34.214286</td>\n",
       "      <td>5.006</td>\n",
       "      <td>0.995</td>\n",
       "      <td>41.279</td>\n",
       "      <td>93.238</td>\n",
       "      <td>36.811</td>\n",
       "      <td>0.055</td>\n",
       "      <td>3.8</td>\n",
       "      <td>0.104</td>\n",
       "      <td>3.0</td>\n",
       "      <td>48.5</td>\n",
       "      <td>51.8</td>\n",
       "      <td>38.3</td>\n",
       "      <td>7.9</td>\n",
       "      <td>1.6</td>\n",
       "      <td>1.6</td>\n",
       "      <td>7.9</td>\n",
       "      <td>41.714286</td>\n",
       "      <td>26.332</td>\n",
       "      <td>8.421</td>\n",
       "      <td>6.6</td>\n",
       "      <td>83.3</td>\n",
       "      <td>9.766</td>\n",
       "      <td>1.432</td>\n",
       "      <td>2.485714</td>\n",
       "      <td>1.033</td>\n",
       "      <td>0.238</td>\n",
       "      <td>34.400000</td>\n",
       "      <td>1.277</td>\n",
       "      <td>0.248</td>\n",
       "      <td>36.7</td>\n",
       "      <td>7.9</td>\n",
       "      <td>1.6</td>\n",
       "      <td>1.6</td>\n",
       "      <td>7.9</td>\n",
       "      <td>5.452</td>\n",
       "      <td>75.8</td>\n",
       "      <td>90.7</td>\n",
       "      <td>0.948</td>\n",
       "      <td>42.2</td>\n",
       "      <td>15.700000</td>\n",
       "      <td>1.368</td>\n",
       "      <td>0.274</td>\n",
       "      <td>13.2</td>\n",
       "      <td>2.6</td>\n",
       "      <td>2.6</td>\n",
       "      <td>13.2</td>\n",
       "      <td>6.040</td>\n",
       "      <td>1.392</td>\n",
       "      <td>60.5</td>\n",
       "      <td>52.0</td>\n",
       "      <td>38.6</td>\n",
       "      <td>11.481774</td>\n",
       "      <td>42.442857</td>\n",
       "      <td>13.727250</td>\n",
       "      <td>57.109333</td>\n",
       "      <td>55.400</td>\n",
       "      <td>11.442857</td>\n",
       "      <td>3.359167</td>\n",
       "      <td>34.400000</td>\n",
       "    </tr>\n",
       "    <tr>\n",
       "      <th>12</th>\n",
       "      <td>RNX50-32x4A1</td>\n",
       "      <td>38.788</td>\n",
       "      <td>25.52</td>\n",
       "      <td>42.9</td>\n",
       "      <td>18.171</td>\n",
       "      <td>31.4</td>\n",
       "      <td>93.2</td>\n",
       "      <td>80.0</td>\n",
       "      <td>82.085714</td>\n",
       "      <td>91.262</td>\n",
       "      <td>68.312</td>\n",
       "      <td>39.924</td>\n",
       "      <td>96.725</td>\n",
       "      <td>42.582</td>\n",
       "      <td>18.284</td>\n",
       "      <td>8.7</td>\n",
       "      <td>16.795</td>\n",
       "      <td>9.5</td>\n",
       "      <td>92.7</td>\n",
       "      <td>85.6</td>\n",
       "      <td>64.8</td>\n",
       "      <td>16.3</td>\n",
       "      <td>3.8</td>\n",
       "      <td>3.7</td>\n",
       "      <td>16.1</td>\n",
       "      <td>91.100000</td>\n",
       "      <td>96.934</td>\n",
       "      <td>85.452</td>\n",
       "      <td>74.8</td>\n",
       "      <td>97.7</td>\n",
       "      <td>22.161</td>\n",
       "      <td>5.182</td>\n",
       "      <td>85.228571</td>\n",
       "      <td>93.232</td>\n",
       "      <td>77.340</td>\n",
       "      <td>47.857143</td>\n",
       "      <td>8.813</td>\n",
       "      <td>2.399</td>\n",
       "      <td>78.3</td>\n",
       "      <td>17.3</td>\n",
       "      <td>4.1</td>\n",
       "      <td>3.9</td>\n",
       "      <td>16.3</td>\n",
       "      <td>6.650</td>\n",
       "      <td>75.8</td>\n",
       "      <td>98.5</td>\n",
       "      <td>16.606</td>\n",
       "      <td>33.8</td>\n",
       "      <td>74.000000</td>\n",
       "      <td>82.509</td>\n",
       "      <td>51.461</td>\n",
       "      <td>63.9</td>\n",
       "      <td>51.0</td>\n",
       "      <td>49.1</td>\n",
       "      <td>61.4</td>\n",
       "      <td>41.912</td>\n",
       "      <td>19.380</td>\n",
       "      <td>87.8</td>\n",
       "      <td>50.0</td>\n",
       "      <td>50.0</td>\n",
       "      <td>81.576357</td>\n",
       "      <td>84.300000</td>\n",
       "      <td>25.001167</td>\n",
       "      <td>59.743667</td>\n",
       "      <td>76.550</td>\n",
       "      <td>29.064286</td>\n",
       "      <td>16.641167</td>\n",
       "      <td>47.857143</td>\n",
       "    </tr>\n",
       "    <tr>\n",
       "      <th>13</th>\n",
       "      <td>SIGLIP-P16-224</td>\n",
       "      <td>64.505</td>\n",
       "      <td>39.38</td>\n",
       "      <td>51.3</td>\n",
       "      <td>30.698</td>\n",
       "      <td>21.4</td>\n",
       "      <td>97.2</td>\n",
       "      <td>81.6</td>\n",
       "      <td>88.357143</td>\n",
       "      <td>95.074</td>\n",
       "      <td>76.871</td>\n",
       "      <td>52.545</td>\n",
       "      <td>99.537</td>\n",
       "      <td>68.768</td>\n",
       "      <td>23.841</td>\n",
       "      <td>3.0</td>\n",
       "      <td>29.024</td>\n",
       "      <td>2.9</td>\n",
       "      <td>97.2</td>\n",
       "      <td>85.4</td>\n",
       "      <td>88.5</td>\n",
       "      <td>21.6</td>\n",
       "      <td>5.9</td>\n",
       "      <td>7.0</td>\n",
       "      <td>21.0</td>\n",
       "      <td>96.457143</td>\n",
       "      <td>99.114</td>\n",
       "      <td>93.102</td>\n",
       "      <td>85.7</td>\n",
       "      <td>98.6</td>\n",
       "      <td>65.938</td>\n",
       "      <td>39.922</td>\n",
       "      <td>85.214286</td>\n",
       "      <td>93.067</td>\n",
       "      <td>75.070</td>\n",
       "      <td>53.171429</td>\n",
       "      <td>71.205</td>\n",
       "      <td>43.842</td>\n",
       "      <td>93.1</td>\n",
       "      <td>22.5</td>\n",
       "      <td>6.2</td>\n",
       "      <td>6.9</td>\n",
       "      <td>21.8</td>\n",
       "      <td>7.846</td>\n",
       "      <td>76.4</td>\n",
       "      <td>99.0</td>\n",
       "      <td>19.001</td>\n",
       "      <td>28.4</td>\n",
       "      <td>75.128571</td>\n",
       "      <td>84.061</td>\n",
       "      <td>53.563</td>\n",
       "      <td>86.5</td>\n",
       "      <td>66.4</td>\n",
       "      <td>65.2</td>\n",
       "      <td>87.1</td>\n",
       "      <td>88.352</td>\n",
       "      <td>68.101</td>\n",
       "      <td>98.6</td>\n",
       "      <td>47.2</td>\n",
       "      <td>59.5</td>\n",
       "      <td>84.589929</td>\n",
       "      <td>94.185714</td>\n",
       "      <td>28.866250</td>\n",
       "      <td>73.616667</td>\n",
       "      <td>79.225</td>\n",
       "      <td>37.485714</td>\n",
       "      <td>62.893333</td>\n",
       "      <td>53.171429</td>\n",
       "    </tr>\n",
       "    <tr>\n",
       "      <th>14</th>\n",
       "      <td>SViT-B16-224</td>\n",
       "      <td>53.125</td>\n",
       "      <td>32.03</td>\n",
       "      <td>41.7</td>\n",
       "      <td>18.183</td>\n",
       "      <td>31.6</td>\n",
       "      <td>92.9</td>\n",
       "      <td>82.4</td>\n",
       "      <td>73.257143</td>\n",
       "      <td>79.956</td>\n",
       "      <td>50.567</td>\n",
       "      <td>51.592</td>\n",
       "      <td>98.875</td>\n",
       "      <td>58.029</td>\n",
       "      <td>20.203</td>\n",
       "      <td>2.9</td>\n",
       "      <td>18.108</td>\n",
       "      <td>2.8</td>\n",
       "      <td>93.4</td>\n",
       "      <td>80.1</td>\n",
       "      <td>79.9</td>\n",
       "      <td>17.1</td>\n",
       "      <td>4.2</td>\n",
       "      <td>4.3</td>\n",
       "      <td>17.1</td>\n",
       "      <td>86.457143</td>\n",
       "      <td>93.509</td>\n",
       "      <td>75.677</td>\n",
       "      <td>77.7</td>\n",
       "      <td>97.8</td>\n",
       "      <td>56.510</td>\n",
       "      <td>26.641</td>\n",
       "      <td>41.457143</td>\n",
       "      <td>48.929</td>\n",
       "      <td>20.618</td>\n",
       "      <td>45.142857</td>\n",
       "      <td>51.144</td>\n",
       "      <td>25.282</td>\n",
       "      <td>91.8</td>\n",
       "      <td>18.4</td>\n",
       "      <td>4.7</td>\n",
       "      <td>4.6</td>\n",
       "      <td>17.8</td>\n",
       "      <td>8.323</td>\n",
       "      <td>72.5</td>\n",
       "      <td>98.6</td>\n",
       "      <td>15.266</td>\n",
       "      <td>23.8</td>\n",
       "      <td>55.357143</td>\n",
       "      <td>59.872</td>\n",
       "      <td>27.075</td>\n",
       "      <td>76.3</td>\n",
       "      <td>63.0</td>\n",
       "      <td>58.0</td>\n",
       "      <td>75.6</td>\n",
       "      <td>75.290</td>\n",
       "      <td>48.708</td>\n",
       "      <td>93.4</td>\n",
       "      <td>40.9</td>\n",
       "      <td>45.4</td>\n",
       "      <td>59.394298</td>\n",
       "      <td>89.671429</td>\n",
       "      <td>24.903167</td>\n",
       "      <td>69.498667</td>\n",
       "      <td>75.500</td>\n",
       "      <td>31.957143</td>\n",
       "      <td>47.262500</td>\n",
       "      <td>45.142857</td>\n",
       "    </tr>\n",
       "    <tr>\n",
       "      <th>15</th>\n",
       "      <td>Whisper</td>\n",
       "      <td>0.000</td>\n",
       "      <td>0.00</td>\n",
       "      <td>28.7</td>\n",
       "      <td>0.358</td>\n",
       "      <td>32.9</td>\n",
       "      <td>58.3</td>\n",
       "      <td>64.8</td>\n",
       "      <td>43.900000</td>\n",
       "      <td>32.136</td>\n",
       "      <td>10.997</td>\n",
       "      <td>44.873</td>\n",
       "      <td>97.537</td>\n",
       "      <td>44.653</td>\n",
       "      <td>0.056</td>\n",
       "      <td>3.7</td>\n",
       "      <td>0.086</td>\n",
       "      <td>3.3</td>\n",
       "      <td>31.7</td>\n",
       "      <td>56.9</td>\n",
       "      <td>33.2</td>\n",
       "      <td>9.1</td>\n",
       "      <td>2.0</td>\n",
       "      <td>1.8</td>\n",
       "      <td>8.9</td>\n",
       "      <td>47.942857</td>\n",
       "      <td>38.603</td>\n",
       "      <td>16.223</td>\n",
       "      <td>28.4</td>\n",
       "      <td>87.6</td>\n",
       "      <td>9.831</td>\n",
       "      <td>1.953</td>\n",
       "      <td>7.600000</td>\n",
       "      <td>4.705</td>\n",
       "      <td>1.285</td>\n",
       "      <td>49.157143</td>\n",
       "      <td>1.256</td>\n",
       "      <td>0.253</td>\n",
       "      <td>33.9</td>\n",
       "      <td>9.8</td>\n",
       "      <td>2.0</td>\n",
       "      <td>2.1</td>\n",
       "      <td>9.2</td>\n",
       "      <td>4.495</td>\n",
       "      <td>75.7</td>\n",
       "      <td>80.5</td>\n",
       "      <td>0.954</td>\n",
       "      <td>40.7</td>\n",
       "      <td>28.371429</td>\n",
       "      <td>16.028</td>\n",
       "      <td>4.931</td>\n",
       "      <td>75.2</td>\n",
       "      <td>61.4</td>\n",
       "      <td>57.6</td>\n",
       "      <td>68.7</td>\n",
       "      <td>6.171</td>\n",
       "      <td>1.155</td>\n",
       "      <td>53.5</td>\n",
       "      <td>51.5</td>\n",
       "      <td>50.8</td>\n",
       "      <td>21.060190</td>\n",
       "      <td>45.642857</td>\n",
       "      <td>13.520750</td>\n",
       "      <td>62.354333</td>\n",
       "      <td>59.500</td>\n",
       "      <td>29.292857</td>\n",
       "      <td>3.436500</td>\n",
       "      <td>49.157143</td>\n",
       "    </tr>\n",
       "  </tbody>\n",
       "</table>\n",
       "</div>"
      ],
      "text/plain": [
       "       Model.Metric  cityscapes.mIoU  cityscapes.dice-loss  acdc.dice-loss  \\\n",
       "0    AR-ViT-B16-224           57.848                 35.19            42.9   \n",
       "1              BART            0.000                  0.00            25.3   \n",
       "2              BERT            0.000                  0.00             4.1   \n",
       "3      CLIP-B16-224           65.142                 40.06            46.2   \n",
       "4   ConvNextV2-Base           62.341                 41.78            36.4   \n",
       "5      DINO-B16-224           60.224                 36.13            48.5   \n",
       "6     DeiT3-B16-224           62.833                 35.99            40.9   \n",
       "7      EffFormer-s0            2.492                  0.00            27.0   \n",
       "8        EffV2-RW-S           63.144                 40.18            60.9   \n",
       "9     Flex-B-1200EP           66.623                 38.59            45.4   \n",
       "10    Laion-B16-224           66.612                 42.00            43.6   \n",
       "11            MPNET            0.000                  0.00            25.3   \n",
       "12     RNX50-32x4A1           38.788                 25.52            42.9   \n",
       "13   SIGLIP-P16-224           64.505                 39.38            51.3   \n",
       "14     SViT-B16-224           53.125                 32.03            41.7   \n",
       "15          Whisper            0.000                  0.00            28.7   \n",
       "\n",
       "    ade20k.mIoU  ade20k.dice-loss  aircraft.acc@1  chexpert.auc  \\\n",
       "0        17.353              22.3            94.4          81.3   \n",
       "1         0.380              33.2            53.0          63.7   \n",
       "2         0.360              33.0            59.0          66.2   \n",
       "3        33.804              31.3            96.5          81.6   \n",
       "4        37.253              52.8            96.7          81.8   \n",
       "5        18.610              26.7            95.6          81.9   \n",
       "6        21.900              29.7            95.3          82.7   \n",
       "7         9.801              33.8            77.5          80.0   \n",
       "8        12.668              32.1            89.4          81.8   \n",
       "9        23.308              29.2            95.9          82.9   \n",
       "10       27.604              24.0            96.1          81.7   \n",
       "11        0.368              33.0            15.8          61.2   \n",
       "12       18.171              31.4            93.2          80.0   \n",
       "13       30.698              21.4            97.2          81.6   \n",
       "14       18.183              31.6            92.9          82.4   \n",
       "15        0.358              32.9            58.3          64.8   \n",
       "\n",
       "    cifar100.loss  cifar100.acc@5  cifar100.acc@1  clevr.acc@1  \\\n",
       "0       76.628571          83.629          55.742       52.828   \n",
       "1       43.071429          29.170           8.967       42.563   \n",
       "2       47.357143          38.137          14.520       42.593   \n",
       "3       87.028571          93.760          74.731       52.622   \n",
       "4       90.857143          97.422          84.126       52.606   \n",
       "5       82.857143          89.590          66.282       52.846   \n",
       "6       83.400000          90.844          66.750       52.342   \n",
       "7       50.314286          43.571          16.511       45.115   \n",
       "8       79.128571          89.471          64.968       39.848   \n",
       "9       87.428571          94.367          75.100       51.956   \n",
       "10      87.242857          93.859          75.139       46.963   \n",
       "11      34.214286           5.006           0.995       41.279   \n",
       "12      82.085714          91.262          68.312       39.924   \n",
       "13      88.357143          95.074          76.871       52.545   \n",
       "14      73.257143          79.956          50.567       51.592   \n",
       "15      43.900000          32.136          10.997       44.873   \n",
       "\n",
       "    clevr-math.acc@5  clevr-math.acc@1  coco-10k.mIoU  coco-10k.dice-loss  \\\n",
       "0             98.850            58.849         22.783                 2.7   \n",
       "1             96.450            41.761          0.056                 4.1   \n",
       "2             97.400            44.265          0.055                 3.8   \n",
       "3             99.113            61.218         29.609                 3.2   \n",
       "4             99.787            77.402         26.840                85.3   \n",
       "5             99.188            61.001         24.968                 3.1   \n",
       "6             99.350            62.701         28.345                 4.7   \n",
       "7             98.700            53.862         13.995                 9.7   \n",
       "8             97.463            43.199          8.704                 6.3   \n",
       "9             98.825            59.879         30.371                 5.2   \n",
       "10            99.000            61.104         30.564                 3.2   \n",
       "11            93.238            36.811          0.055                 3.8   \n",
       "12            96.725            42.582         18.284                 8.7   \n",
       "13            99.537            68.768         23.841                 3.0   \n",
       "14            98.875            58.029         20.203                 2.9   \n",
       "15            97.537            44.653          0.056                 3.7   \n",
       "\n",
       "    coco-164k.mIoU  coco-164k.dice-loss  cubirds.acc@1  diabetic.auc  \\\n",
       "0           21.321                  3.0           94.4          83.9   \n",
       "1            0.110                  3.5           50.3          55.1   \n",
       "2            0.096                  3.4           47.4          57.6   \n",
       "3           30.369                  4.6           97.9          86.7   \n",
       "4           25.059                 83.1           98.0          87.5   \n",
       "5           24.292                  4.9           95.9          84.7   \n",
       "6           26.125                  4.1           96.2          81.8   \n",
       "7           13.549                 13.5           86.3          81.8   \n",
       "8            8.268                  4.5           92.1          86.1   \n",
       "9           27.997                  4.7           96.4          85.7   \n",
       "10          27.208                  2.6           96.6          84.9   \n",
       "11           0.104                  3.0           48.5          51.8   \n",
       "12          16.795                  9.5           92.7          85.6   \n",
       "13          29.024                  2.9           97.2          85.4   \n",
       "14          18.108                  2.8           93.4          80.1   \n",
       "15           0.086                  3.3           31.7          56.9   \n",
       "\n",
       "    dtextures.acc@1  flickr30k.text-to-image-acc@5  \\\n",
       "0              79.9                           18.8   \n",
       "1              35.4                            7.9   \n",
       "2              37.6                            8.1   \n",
       "3              84.3                           20.9   \n",
       "4              85.0                           21.2   \n",
       "5              79.1                           19.6   \n",
       "6              81.9                           20.0   \n",
       "7              56.7                           15.6   \n",
       "8              59.5                           17.3   \n",
       "9              78.4                           20.8   \n",
       "10             85.4                           20.9   \n",
       "11             38.3                            7.9   \n",
       "12             64.8                           16.3   \n",
       "13             88.5                           21.6   \n",
       "14             79.9                           17.1   \n",
       "15             33.2                            9.1   \n",
       "\n",
       "    flickr30k.text-to-image-acc@1  flickr30k.image-to-text-acc@1  \\\n",
       "0                             5.3                            5.5   \n",
       "1                             1.6                            1.5   \n",
       "2                             1.6                            1.5   \n",
       "3                             5.5                            6.2   \n",
       "4                             5.5                            6.0   \n",
       "5                             4.6                            5.4   \n",
       "6                             5.0                            5.6   \n",
       "7                             3.5                            4.2   \n",
       "8                             4.0                            3.7   \n",
       "9                             4.9                            5.9   \n",
       "10                            5.2                            5.9   \n",
       "11                            1.6                            1.6   \n",
       "12                            3.8                            3.7   \n",
       "13                            5.9                            7.0   \n",
       "14                            4.2                            4.3   \n",
       "15                            2.0                            1.8   \n",
       "\n",
       "    flickr30k.image-to-text-acc@5  food101.loss  food101.acc@5  food101.acc@1  \\\n",
       "0                            18.7     91.685714         96.630         83.834   \n",
       "1                             7.8     44.442857         31.844         11.504   \n",
       "2                             8.3     50.014286         42.442         18.191   \n",
       "3                            20.6     95.628571         98.679         91.496   \n",
       "4                            20.5     96.114286         98.991         92.896   \n",
       "5                            18.6     93.171429         97.449         86.519   \n",
       "6                            19.2     93.614286         97.718         87.331   \n",
       "7                            16.0     78.814286         86.983         62.578   \n",
       "8                            16.1     90.814286         96.816         85.282   \n",
       "9                            20.0     94.400000         98.093         89.142   \n",
       "10                           20.2     95.585714         98.710         91.334   \n",
       "11                            7.9     41.714286         26.332          8.421   \n",
       "12                           16.1     91.100000         96.934         85.452   \n",
       "13                           21.0     96.457143         99.114         93.102   \n",
       "14                           17.1     86.457143         93.509         75.677   \n",
       "15                            8.9     47.942857         38.603         16.223   \n",
       "\n",
       "    fungi.acc@1  ham10k.auc  hmdb51.acc@5  hmdb51.acc@1  imagenet1k.loss  \\\n",
       "0          77.5        98.5        57.917        28.385        86.185714   \n",
       "1          33.7        85.9         9.961         1.953         5.400000   \n",
       "2          32.8        91.1         9.766         1.953         7.528571   \n",
       "3          85.4        98.6        70.039        40.404        89.257143   \n",
       "4          85.7        99.1        77.539        50.326        90.928571   \n",
       "5          81.2        98.7        56.525        27.995        80.342857   \n",
       "6          80.5        98.5        64.338        36.523        88.657143   \n",
       "7          51.2        81.8         9.726         1.628        59.571429   \n",
       "8          73.7        97.5        27.699        11.068        81.485714   \n",
       "9          83.7        98.5        60.885        32.227        89.142857   \n",
       "10         85.2        98.6        54.242        26.202        84.571429   \n",
       "11          6.6        83.3         9.766         1.432         2.485714   \n",
       "12         74.8        97.7        22.161         5.182        85.228571   \n",
       "13         85.7        98.6        65.938        39.922        85.214286   \n",
       "14         77.7        97.8        56.510        26.641        41.457143   \n",
       "15         28.4        87.6         9.831         1.953         7.600000   \n",
       "\n",
       "    imagenet1k.acc@5  imagenet1k.acc@1  iwildcam.mae  kinetics.acc@5  \\\n",
       "0             93.007            78.199     41.528571          63.288   \n",
       "1              3.107             0.713     35.871429           1.277   \n",
       "2              4.616             1.173     34.628571           1.269   \n",
       "3             95.708            81.815     48.385714          71.240   \n",
       "4             96.851            85.288     50.771429          75.765   \n",
       "5             88.493            67.529     42.714286          55.634   \n",
       "6             94.675            82.011     54.371429          66.558   \n",
       "7             72.456            44.615     50.214286           1.334   \n",
       "8             90.439            71.549     47.128571           2.357   \n",
       "9             95.428            82.265     54.957143          67.584   \n",
       "10            93.055            74.079     45.600000          70.913   \n",
       "11             1.033             0.238     34.400000           1.277   \n",
       "12            93.232            77.340     47.857143           8.813   \n",
       "13            93.067            75.070     53.171429          71.205   \n",
       "14            48.929            20.618     45.142857          51.144   \n",
       "15             4.705             1.285     49.157143           1.256   \n",
       "\n",
       "    kinetics.acc@1  mini.acc@1  newyorkercaptioncontest.text-to-image-acc@5  \\\n",
       "0           36.718        98.7                                         19.5   \n",
       "1            0.256        37.3                                          8.1   \n",
       "2            0.233        39.6                                          8.2   \n",
       "3           44.574        96.2                                         21.0   \n",
       "4           49.011        95.8                                         21.4   \n",
       "5           29.529        89.9                                         20.0   \n",
       "6           39.528        98.8                                         21.9   \n",
       "7            0.279        90.8                                         15.1   \n",
       "8            0.561        62.8                                         16.8   \n",
       "9           40.673        99.1                                         20.9   \n",
       "10          43.591        90.8                                         21.3   \n",
       "11           0.248        36.7                                          7.9   \n",
       "12           2.399        78.3                                         17.3   \n",
       "13          43.842        93.1                                         22.5   \n",
       "14          25.282        91.8                                         18.4   \n",
       "15           0.253        33.9                                          9.8   \n",
       "\n",
       "    newyorkercaptioncontest.text-to-image-acc@1  \\\n",
       "0                                           5.2   \n",
       "1                                           1.6   \n",
       "2                                           1.5   \n",
       "3                                           5.7   \n",
       "4                                           5.8   \n",
       "5                                           5.2   \n",
       "6                                           6.0   \n",
       "7                                           3.4   \n",
       "8                                           3.5   \n",
       "9                                           5.3   \n",
       "10                                          5.9   \n",
       "11                                          1.6   \n",
       "12                                          4.1   \n",
       "13                                          6.2   \n",
       "14                                          4.7   \n",
       "15                                          2.0   \n",
       "\n",
       "    newyorkercaptioncontest.image-to-text-acc@1  \\\n",
       "0                                           5.4   \n",
       "1                                           1.6   \n",
       "2                                           1.6   \n",
       "3                                           6.0   \n",
       "4                                           6.3   \n",
       "5                                           5.3   \n",
       "6                                           6.5   \n",
       "7                                           3.4   \n",
       "8                                           3.4   \n",
       "9                                           5.3   \n",
       "10                                          6.6   \n",
       "11                                          1.6   \n",
       "12                                          3.9   \n",
       "13                                          6.9   \n",
       "14                                          4.6   \n",
       "15                                          2.1   \n",
       "\n",
       "    newyorkercaptioncontest.image-to-text-acc@5  nyu.mIoU  nyu.dice-loss  \\\n",
       "0                                          18.7     8.345           72.9   \n",
       "1                                           8.1     4.893           76.0   \n",
       "2                                           8.5     5.503           75.9   \n",
       "3                                          19.9     7.545           71.3   \n",
       "4                                          21.0     5.260           77.5   \n",
       "5                                          19.0     6.138           71.4   \n",
       "6                                          20.5     7.488           70.8   \n",
       "7                                          14.4    10.498           76.4   \n",
       "8                                          14.9     8.216           75.6   \n",
       "9                                          19.6     6.197           72.5   \n",
       "10                                         21.2     5.023           73.4   \n",
       "11                                          7.9     5.452           75.8   \n",
       "12                                         16.3     6.650           75.8   \n",
       "13                                         21.8     7.846           76.4   \n",
       "14                                         17.8     8.323           72.5   \n",
       "15                                          9.2     4.495           75.7   \n",
       "\n",
       "    omniglot.acc@1  pascal.mIoU  pascal.dice-loss  places365.loss  \\\n",
       "0             98.6       15.460              21.9       70.542857   \n",
       "1             84.1        1.002              44.4       25.028571   \n",
       "2             90.2        0.961              45.5       28.457143   \n",
       "3             98.9       26.619              36.8       74.900000   \n",
       "4             98.6       32.665              70.3       76.300000   \n",
       "5             98.7       18.184              30.2       71.614286   \n",
       "6             98.6       22.291              33.3       72.242857   \n",
       "7             95.4       14.026              51.4       53.200000   \n",
       "8             98.6       11.776              38.2       73.685714   \n",
       "9             98.9       21.660              31.4       74.528571   \n",
       "10            98.9       18.823              26.7       74.257143   \n",
       "11            90.7        0.948              42.2       15.700000   \n",
       "12            98.5       16.606              33.8       74.000000   \n",
       "13            99.0       19.001              28.4       75.128571   \n",
       "14            98.6       15.266              23.8       55.357143   \n",
       "15            80.5        0.954              40.7       28.371429   \n",
       "\n",
       "    places365.acc@5  places365.acc@1  pokemonblipcaptions.text-to-image-acc@5  \\\n",
       "0            78.706           46.641                                     82.1   \n",
       "1            11.058            2.953                                     74.8   \n",
       "2            16.037            4.795                                     75.6   \n",
       "3            83.864           53.445                                     85.2   \n",
       "4            85.325           54.726                                     80.3   \n",
       "5            79.704           47.454                                     85.6   \n",
       "6            80.614           48.677                                     82.6   \n",
       "7            55.901           25.548                                     77.5   \n",
       "8            82.389           51.066                                     65.1   \n",
       "9            83.311           52.065                                     81.0   \n",
       "10           83.650           52.924                                     91.0   \n",
       "11            1.368            0.274                                     13.2   \n",
       "12           82.509           51.461                                     63.9   \n",
       "13           84.061           53.563                                     86.5   \n",
       "14           59.872           27.075                                     76.3   \n",
       "15           16.028            4.931                                     75.2   \n",
       "\n",
       "    pokemonblipcaptions.text-to-image-acc@1  \\\n",
       "0                                      64.0   \n",
       "1                                      55.6   \n",
       "2                                      59.9   \n",
       "3                                      67.9   \n",
       "4                                      61.0   \n",
       "5                                      68.2   \n",
       "6                                      67.0   \n",
       "7                                      60.5   \n",
       "8                                      46.3   \n",
       "9                                      63.7   \n",
       "10                                     67.6   \n",
       "11                                      2.6   \n",
       "12                                     51.0   \n",
       "13                                     66.4   \n",
       "14                                     63.0   \n",
       "15                                     61.4   \n",
       "\n",
       "    pokemonblipcaptions.image-to-text-acc@1  \\\n",
       "0                                      62.8   \n",
       "1                                      55.6   \n",
       "2                                      58.7   \n",
       "3                                      61.8   \n",
       "4                                      61.6   \n",
       "5                                      65.5   \n",
       "6                                      63.9   \n",
       "7                                      59.4   \n",
       "8                                      46.0   \n",
       "9                                      60.6   \n",
       "10                                     64.8   \n",
       "11                                      2.6   \n",
       "12                                     49.1   \n",
       "13                                     65.2   \n",
       "14                                     58.0   \n",
       "15                                     57.6   \n",
       "\n",
       "    pokemonblipcaptions.image-to-text-acc@5  ucf.acc@5  ucf.acc@1  vgg.acc@1  \\\n",
       "0                                      79.4     84.369     65.374       95.5   \n",
       "1                                      69.4      5.444      1.031       59.4   \n",
       "2                                      72.2      6.040      1.287       59.4   \n",
       "3                                      81.7     88.238     71.440       98.9   \n",
       "4                                      78.3     94.737     84.106       99.6   \n",
       "5                                      81.8     77.125     52.769       95.9   \n",
       "6                                      81.0     88.506     70.411       96.2   \n",
       "7                                      78.2      5.173      0.840       90.3   \n",
       "8                                      62.5     25.840      9.611       91.2   \n",
       "9                                      79.0     81.510     63.159       96.7   \n",
       "10                                     85.6     83.914     62.289       96.8   \n",
       "11                                     13.2      6.040      1.392       60.5   \n",
       "12                                     61.4     41.912     19.380       87.8   \n",
       "13                                     87.1     88.352     68.101       98.6   \n",
       "14                                     75.6     75.290     48.708       93.4   \n",
       "15                                     68.7      6.171      1.155       53.5   \n",
       "\n",
       "    winoground.text-to-image-acc@1  winoground.image-to-text-acc@1  \\\n",
       "0                             56.9                            61.1   \n",
       "1                             47.7                            48.8   \n",
       "2                             50.4                            50.3   \n",
       "3                             54.0                            48.6   \n",
       "4                             47.8                            39.8   \n",
       "5                             48.3                            49.5   \n",
       "6                             49.2                            42.4   \n",
       "7                             56.8                            51.3   \n",
       "8                             50.0                            50.0   \n",
       "9                             50.2                            48.2   \n",
       "10                            56.2                            48.2   \n",
       "11                            52.0                            38.6   \n",
       "12                            50.0                            50.0   \n",
       "13                            47.2                            59.5   \n",
       "14                            40.9                            45.4   \n",
       "15                            51.5                            50.8   \n",
       "\n",
       "    Image Classification  Few Shot Image Classification  Image Segmentation  \\\n",
       "0              78.452571                      91.285714           25.091667   \n",
       "1              18.104905                      50.457143           13.970083   \n",
       "2              22.772345                      52.285714           14.047917   \n",
       "3              85.026024                      94.014286           31.695667   \n",
       "4              87.485417                      94.200000           50.016500   \n",
       "5              79.250476                      90.900000           27.070500   \n",
       "6              82.211190                      92.500000           28.964333   \n",
       "7              54.171917                      78.314286           20.763417   \n",
       "8              79.757857                      81.042857           25.804667   \n",
       "9              84.605917                      92.728571           29.812167   \n",
       "10             83.700595                      92.828571           28.977833   \n",
       "11             11.481774                      42.442857           13.727250   \n",
       "12             81.576357                      84.300000           25.001167   \n",
       "13             84.589929                      94.185714           28.866250   \n",
       "14             59.394298                      89.671429           24.903167   \n",
       "15             21.060190                      45.642857           13.520750   \n",
       "\n",
       "    Image Relational Reasoning  Medical Classification/Segmentation  \\\n",
       "0                    70.175667                               76.650   \n",
       "1                    60.258000                               57.500   \n",
       "2                    61.419333                               54.750   \n",
       "3                    70.984333                               78.275   \n",
       "4                    76.598333                               76.200   \n",
       "5                    71.011667                               78.450   \n",
       "6                    71.464333                               75.975   \n",
       "7                    65.892333                               67.650   \n",
       "8                    60.170000                               81.575   \n",
       "9                    70.220000                               78.125   \n",
       "10                   69.022333                               77.200   \n",
       "11                   57.109333                               55.400   \n",
       "12                   59.743667                               76.550   \n",
       "13                   73.616667                               79.225   \n",
       "14                   69.498667                               75.500   \n",
       "15                   62.354333                               59.500   \n",
       "\n",
       "    Image to Text Zero Shot Learning  Video Classification  Video Regression  \n",
       "0                          35.957143             56.008500         41.528571  \n",
       "1                          27.864286              3.320333         35.871429  \n",
       "2                          29.028571              3.424667         34.628571  \n",
       "3                          36.071429             64.322500         48.385714  \n",
       "4                          34.035714             71.914000         50.771429  \n",
       "5                          35.471429             49.929500         42.714286  \n",
       "6                          35.057143             60.977333         54.371429  \n",
       "7                          32.807143              3.163333         50.214286  \n",
       "8                          28.542857             12.856000         47.128571  \n",
       "9                          34.671429             57.673000         54.957143  \n",
       "10                         37.185714             56.858500         45.600000  \n",
       "11                         11.442857              3.359167         34.400000  \n",
       "12                         29.064286             16.641167         47.857143  \n",
       "13                         37.485714             62.893333         53.171429  \n",
       "14                         31.957143             47.262500         45.142857  \n",
       "15                         29.292857              3.436500         49.157143  "
      ]
     },
     "metadata": {},
     "output_type": "display_data"
    }
   ],
   "source": [
    "import pathlib\n",
    "\n",
    "import yaml\n",
    "\n",
    "def load_data_as_df(filepath):\n",
    "    df = pd.read_csv(filepath)\n",
    "    task_dataset_dict = yaml.safe_load(open(\"task_mapping.yaml\"))\n",
    "\n",
    "    # Concatenating the header with the first row\n",
    "    new_headers = [f\"{col.split('.')[0]}.{df.iloc[0][idx]}\" for idx, col in enumerate(df.columns)]\n",
    "\n",
    "    # Setting the new concatenated values as column names\n",
    "    df.columns = new_headers\n",
    "\n",
    "    # Removing the first row from the DataFrame\n",
    "    df = df.drop(df.index[0])\n",
    "\n",
    "    # Resetting the DataFrame index\n",
    "    df.reset_index(drop=True, inplace=True)\n",
    "    \n",
    "    columns = df.columns.tolist()[1:]\n",
    "    model_names = df.columns.tolist()[0]\n",
    "    # remove all datapoints with less than 50% on imagenet1k.1\n",
    "\n",
    "    # Replace NA with 5\n",
    "    df = df.fillna(1)\n",
    "    # model_names = df[model_names][1:]\n",
    "\n",
    "    # Convert all columns (except the first) to numeric\n",
    "    for col in df.columns[1:]:\n",
    "        df[col] = pd.to_numeric(df[col], errors=\"coerce\")\n",
    "    \n",
    "    # All columns that have mae in the name should be divided by 5 and then the result should be subtracted from 1 and multiplied by 100\n",
    "    mae_columns = df.columns[df.columns.str.contains('dice', case=False)]\n",
    "    for col in mae_columns:\n",
    "        df[col] = (1-df[col]) * 100\n",
    "    \n",
    "    # columns with mae or loss in their name (except those with dice loss) should be divided by 4 and then the result should be subtracted from 1 and multiplied by 100\n",
    "    \n",
    "    selected_columns = df.columns[df.columns.str.contains('mae|loss', case=False) & ~df.columns.str.contains('dice', case=False)]\n",
    "    for col in selected_columns:\n",
    "        df[col] = (1-df[col] / 7.) * 100\n",
    "        \n",
    "    for col in df.columns[1:]:\n",
    "        if df[col].max() < 1:  # Check if the column is in a fractional format\n",
    "            df[col] = df[col] * 100  # Convert to percentage format\n",
    "    \n",
    "    # for col in columns:\n",
    "    #     df[col] = (df[col] - df[col].min())\n",
    "    \n",
    "    # gaussian normalization\n",
    "    # for col in columns:\n",
    "    #     df[col] = (df[col] - df[col].mean()) / df[col].std()\n",
    "    \n",
    "    # Add a new column for each task, where the value is the mean of the columns that are in the task\n",
    "    for task, datasets in task_dataset_dict.items():\n",
    "        df[task] = df[datasets].mean(axis=1)\n",
    "    \n",
    "    return df\n",
    "\n",
    "source_csv_filepath = (\n",
    "    \"13032024-full.csv\"\n",
    ")\n",
    "source_csv_filepath = pathlib.Path(source_csv_filepath)\n",
    "\n",
    "df = load_data_as_df(source_csv_filepath)\n",
    "display_custom(df)\n"
   ]
  },
  {
   "cell_type": "code",
   "execution_count": 1287,
   "metadata": {},
   "outputs": [],
   "source": [
    "def move_column(df, column_name, position):\n",
    "    \"\"\"\n",
    "    Move a specific column to a specified position in a DataFrame.\n",
    "\n",
    "    Parameters:\n",
    "    df (pandas.DataFrame): The DataFrame to modify.\n",
    "    column_name (str): The name of the column to move.\n",
    "    position (int): The position to move the column to.\n",
    "\n",
    "    Returns:\n",
    "    pandas.DataFrame: The modified DataFrame.\n",
    "    \"\"\"\n",
    "    # Ensure the position is within the valid range\n",
    "    if position < 0 or position > len(df.columns):\n",
    "        raise ValueError(f\"Position must be between 0 and {len(df.columns)}\")\n",
    "\n",
    "    # Get a list of the column names\n",
    "    cols = df.columns.tolist()\n",
    "\n",
    "    # Check if the column name is in the list\n",
    "    if column_name in cols:\n",
    "        # Remove the column from its current position\n",
    "        cols.remove(column_name)\n",
    "\n",
    "        # Insert the column at the specified position\n",
    "        cols.insert(position, column_name)\n",
    "\n",
    "        # Reorder the DataFrame\n",
    "        df = df[cols]\n",
    "\n",
    "    return df"
   ]
  },
  {
   "cell_type": "code",
   "execution_count": 1288,
   "metadata": {},
   "outputs": [
    {
     "data": {
      "text/html": [
       "<pre style=\"white-space:pre;overflow-x:auto;line-height:normal;font-family:Menlo,'DejaVu Sans Mono',consolas,'Courier New',monospace\"><span style=\"font-weight: bold\">{</span>\n",
       "    <span style=\"color: #008000; text-decoration-color: #008000\">'Image Classification'</span>: <span style=\"font-weight: bold\">[</span>\n",
       "        <span style=\"color: #008000; text-decoration-color: #008000\">'cifar100.loss'</span>,\n",
       "        <span style=\"color: #008000; text-decoration-color: #008000\">'cifar100.acc@1'</span>,\n",
       "        <span style=\"color: #008000; text-decoration-color: #008000\">'cifar100.acc@5'</span>,\n",
       "        <span style=\"color: #008000; text-decoration-color: #008000\">'food101.loss'</span>,\n",
       "        <span style=\"color: #008000; text-decoration-color: #008000\">'food101.acc@5'</span>,\n",
       "        <span style=\"color: #008000; text-decoration-color: #008000\">'food101.acc@1'</span>,\n",
       "        <span style=\"color: #008000; text-decoration-color: #008000\">'imagenet1k.loss'</span>,\n",
       "        <span style=\"color: #008000; text-decoration-color: #008000\">'imagenet1k.acc@5'</span>,\n",
       "        <span style=\"color: #008000; text-decoration-color: #008000\">'imagenet1k.acc@1'</span>,\n",
       "        <span style=\"color: #008000; text-decoration-color: #008000\">'places365.loss'</span>,\n",
       "        <span style=\"color: #008000; text-decoration-color: #008000\">'places365.acc@5'</span>,\n",
       "        <span style=\"color: #008000; text-decoration-color: #008000\">'places365.acc@1'</span>\n",
       "    <span style=\"font-weight: bold\">]</span>,\n",
       "    <span style=\"color: #008000; text-decoration-color: #008000\">'Few Shot Image Classification'</span>: <span style=\"font-weight: bold\">[</span>\n",
       "        <span style=\"color: #008000; text-decoration-color: #008000\">'fungi.acc@1'</span>,\n",
       "        <span style=\"color: #008000; text-decoration-color: #008000\">'mini.acc@1'</span>,\n",
       "        <span style=\"color: #008000; text-decoration-color: #008000\">'omniglot.acc@1'</span>,\n",
       "        <span style=\"color: #008000; text-decoration-color: #008000\">'vgg.acc@1'</span>,\n",
       "        <span style=\"color: #008000; text-decoration-color: #008000\">'aircraft.acc@1'</span>,\n",
       "        <span style=\"color: #008000; text-decoration-color: #008000\">'dtextures.acc@1'</span>,\n",
       "        <span style=\"color: #008000; text-decoration-color: #008000\">'cubirds.acc@1'</span>\n",
       "    <span style=\"font-weight: bold\">]</span>,\n",
       "    <span style=\"color: #008000; text-decoration-color: #008000\">'Image Segmentation'</span>: <span style=\"font-weight: bold\">[</span>\n",
       "        <span style=\"color: #008000; text-decoration-color: #008000\">'ade20k.dice-loss'</span>,\n",
       "        <span style=\"color: #008000; text-decoration-color: #008000\">'ade20k.mIoU'</span>,\n",
       "        <span style=\"color: #008000; text-decoration-color: #008000\">'coco-10k.mIoU'</span>,\n",
       "        <span style=\"color: #008000; text-decoration-color: #008000\">'coco-10k.dice-loss'</span>,\n",
       "        <span style=\"color: #008000; text-decoration-color: #008000\">'coco-164k.mIoU'</span>,\n",
       "        <span style=\"color: #008000; text-decoration-color: #008000\">'coco-164k.dice-loss'</span>,\n",
       "        <span style=\"color: #008000; text-decoration-color: #008000\">'cityscapes.mIoU'</span>,\n",
       "        <span style=\"color: #008000; text-decoration-color: #008000\">'cityscapes.dice-loss'</span>,\n",
       "        <span style=\"color: #008000; text-decoration-color: #008000\">'nyu.mIoU'</span>,\n",
       "        <span style=\"color: #008000; text-decoration-color: #008000\">'nyu.dice-loss'</span>,\n",
       "        <span style=\"color: #008000; text-decoration-color: #008000\">'pascal.mIoU'</span>,\n",
       "        <span style=\"color: #008000; text-decoration-color: #008000\">'pascal.dice-loss'</span>\n",
       "    <span style=\"font-weight: bold\">]</span>,\n",
       "    <span style=\"color: #008000; text-decoration-color: #008000\">'Image Relational Reasoning'</span>: <span style=\"font-weight: bold\">[</span><span style=\"color: #008000; text-decoration-color: #008000\">'clevr.acc@1'</span>, <span style=\"color: #008000; text-decoration-color: #008000\">'clevr-math.acc@5'</span>, <span style=\"color: #008000; text-decoration-color: #008000\">'clevr-math.acc@1'</span><span style=\"font-weight: bold\">]</span>,\n",
       "    <span style=\"color: #008000; text-decoration-color: #008000\">'Medical Classification/Segmentation'</span>: <span style=\"font-weight: bold\">[</span><span style=\"color: #008000; text-decoration-color: #008000\">'ham10k.auc'</span>, <span style=\"color: #008000; text-decoration-color: #008000\">'chexpert.auc'</span>, <span style=\"color: #008000; text-decoration-color: #008000\">'diabetic.auc'</span>, <span style=\"color: #008000; text-decoration-color: #008000\">'acdc.dice-loss'</span><span style=\"font-weight: bold\">]</span>,\n",
       "    <span style=\"color: #008000; text-decoration-color: #008000\">'Image to Text Zero Shot Learning'</span>: <span style=\"font-weight: bold\">[</span>\n",
       "        <span style=\"color: #008000; text-decoration-color: #008000\">'flickr30k.text-to-image-acc@5'</span>,\n",
       "        <span style=\"color: #008000; text-decoration-color: #008000\">'flickr30k.text-to-image-acc@1'</span>,\n",
       "        <span style=\"color: #008000; text-decoration-color: #008000\">'flickr30k.image-to-text-acc@1'</span>,\n",
       "        <span style=\"color: #008000; text-decoration-color: #008000\">'flickr30k.image-to-text-acc@5'</span>,\n",
       "        <span style=\"color: #008000; text-decoration-color: #008000\">'newyorkercaptioncontest.text-to-image-acc@5'</span>,\n",
       "        <span style=\"color: #008000; text-decoration-color: #008000\">'newyorkercaptioncontest.text-to-image-acc@1'</span>,\n",
       "        <span style=\"color: #008000; text-decoration-color: #008000\">'newyorkercaptioncontest.image-to-text-acc@1'</span>,\n",
       "        <span style=\"color: #008000; text-decoration-color: #008000\">'newyorkercaptioncontest.image-to-text-acc@5'</span>,\n",
       "        <span style=\"color: #008000; text-decoration-color: #008000\">'pokemonblipcaptions.text-to-image-acc@5'</span>,\n",
       "        <span style=\"color: #008000; text-decoration-color: #008000\">'pokemonblipcaptions.text-to-image-acc@1'</span>,\n",
       "        <span style=\"color: #008000; text-decoration-color: #008000\">'pokemonblipcaptions.image-to-text-acc@1'</span>,\n",
       "        <span style=\"color: #008000; text-decoration-color: #008000\">'pokemonblipcaptions.image-to-text-acc@5'</span>,\n",
       "        <span style=\"color: #008000; text-decoration-color: #008000\">'winoground.image-to-text-acc@1'</span>,\n",
       "        <span style=\"color: #008000; text-decoration-color: #008000\">'winoground.text-to-image-acc@1'</span>\n",
       "    <span style=\"font-weight: bold\">]</span>,\n",
       "    <span style=\"color: #008000; text-decoration-color: #008000\">'Video Classification'</span>: <span style=\"font-weight: bold\">[</span>\n",
       "        <span style=\"color: #008000; text-decoration-color: #008000\">'kinetics.acc@5'</span>,\n",
       "        <span style=\"color: #008000; text-decoration-color: #008000\">'kinetics.acc@1'</span>,\n",
       "        <span style=\"color: #008000; text-decoration-color: #008000\">'hmdb51.acc@5'</span>,\n",
       "        <span style=\"color: #008000; text-decoration-color: #008000\">'hmdb51.acc@1'</span>,\n",
       "        <span style=\"color: #008000; text-decoration-color: #008000\">'ucf.acc@5'</span>,\n",
       "        <span style=\"color: #008000; text-decoration-color: #008000\">'ucf.acc@1'</span>\n",
       "    <span style=\"font-weight: bold\">]</span>,\n",
       "    <span style=\"color: #008000; text-decoration-color: #008000\">'Video Regression'</span>: <span style=\"font-weight: bold\">[</span><span style=\"color: #008000; text-decoration-color: #008000\">'iwildcam.mae'</span><span style=\"font-weight: bold\">]</span>\n",
       "<span style=\"font-weight: bold\">}</span>\n",
       "</pre>\n"
      ],
      "text/plain": [
       "\u001b[1m{\u001b[0m\n",
       "    \u001b[32m'Image Classification'\u001b[0m: \u001b[1m[\u001b[0m\n",
       "        \u001b[32m'cifar100.loss'\u001b[0m,\n",
       "        \u001b[32m'cifar100.acc@1'\u001b[0m,\n",
       "        \u001b[32m'cifar100.acc@5'\u001b[0m,\n",
       "        \u001b[32m'food101.loss'\u001b[0m,\n",
       "        \u001b[32m'food101.acc@5'\u001b[0m,\n",
       "        \u001b[32m'food101.acc@1'\u001b[0m,\n",
       "        \u001b[32m'imagenet1k.loss'\u001b[0m,\n",
       "        \u001b[32m'imagenet1k.acc@5'\u001b[0m,\n",
       "        \u001b[32m'imagenet1k.acc@1'\u001b[0m,\n",
       "        \u001b[32m'places365.loss'\u001b[0m,\n",
       "        \u001b[32m'places365.acc@5'\u001b[0m,\n",
       "        \u001b[32m'places365.acc@1'\u001b[0m\n",
       "    \u001b[1m]\u001b[0m,\n",
       "    \u001b[32m'Few Shot Image Classification'\u001b[0m: \u001b[1m[\u001b[0m\n",
       "        \u001b[32m'fungi.acc@1'\u001b[0m,\n",
       "        \u001b[32m'mini.acc@1'\u001b[0m,\n",
       "        \u001b[32m'omniglot.acc@1'\u001b[0m,\n",
       "        \u001b[32m'vgg.acc@1'\u001b[0m,\n",
       "        \u001b[32m'aircraft.acc@1'\u001b[0m,\n",
       "        \u001b[32m'dtextures.acc@1'\u001b[0m,\n",
       "        \u001b[32m'cubirds.acc@1'\u001b[0m\n",
       "    \u001b[1m]\u001b[0m,\n",
       "    \u001b[32m'Image Segmentation'\u001b[0m: \u001b[1m[\u001b[0m\n",
       "        \u001b[32m'ade20k.dice-loss'\u001b[0m,\n",
       "        \u001b[32m'ade20k.mIoU'\u001b[0m,\n",
       "        \u001b[32m'coco-10k.mIoU'\u001b[0m,\n",
       "        \u001b[32m'coco-10k.dice-loss'\u001b[0m,\n",
       "        \u001b[32m'coco-164k.mIoU'\u001b[0m,\n",
       "        \u001b[32m'coco-164k.dice-loss'\u001b[0m,\n",
       "        \u001b[32m'cityscapes.mIoU'\u001b[0m,\n",
       "        \u001b[32m'cityscapes.dice-loss'\u001b[0m,\n",
       "        \u001b[32m'nyu.mIoU'\u001b[0m,\n",
       "        \u001b[32m'nyu.dice-loss'\u001b[0m,\n",
       "        \u001b[32m'pascal.mIoU'\u001b[0m,\n",
       "        \u001b[32m'pascal.dice-loss'\u001b[0m\n",
       "    \u001b[1m]\u001b[0m,\n",
       "    \u001b[32m'Image Relational Reasoning'\u001b[0m: \u001b[1m[\u001b[0m\u001b[32m'clevr.acc@1'\u001b[0m, \u001b[32m'clevr-math.acc@5'\u001b[0m, \u001b[32m'clevr-math.acc@1'\u001b[0m\u001b[1m]\u001b[0m,\n",
       "    \u001b[32m'Medical Classification/Segmentation'\u001b[0m: \u001b[1m[\u001b[0m\u001b[32m'ham10k.auc'\u001b[0m, \u001b[32m'chexpert.auc'\u001b[0m, \u001b[32m'diabetic.auc'\u001b[0m, \u001b[32m'acdc.dice-loss'\u001b[0m\u001b[1m]\u001b[0m,\n",
       "    \u001b[32m'Image to Text Zero Shot Learning'\u001b[0m: \u001b[1m[\u001b[0m\n",
       "        \u001b[32m'flickr30k.text-to-image-acc@5'\u001b[0m,\n",
       "        \u001b[32m'flickr30k.text-to-image-acc@1'\u001b[0m,\n",
       "        \u001b[32m'flickr30k.image-to-text-acc@1'\u001b[0m,\n",
       "        \u001b[32m'flickr30k.image-to-text-acc@5'\u001b[0m,\n",
       "        \u001b[32m'newyorkercaptioncontest.text-to-image-acc@5'\u001b[0m,\n",
       "        \u001b[32m'newyorkercaptioncontest.text-to-image-acc@1'\u001b[0m,\n",
       "        \u001b[32m'newyorkercaptioncontest.image-to-text-acc@1'\u001b[0m,\n",
       "        \u001b[32m'newyorkercaptioncontest.image-to-text-acc@5'\u001b[0m,\n",
       "        \u001b[32m'pokemonblipcaptions.text-to-image-acc@5'\u001b[0m,\n",
       "        \u001b[32m'pokemonblipcaptions.text-to-image-acc@1'\u001b[0m,\n",
       "        \u001b[32m'pokemonblipcaptions.image-to-text-acc@1'\u001b[0m,\n",
       "        \u001b[32m'pokemonblipcaptions.image-to-text-acc@5'\u001b[0m,\n",
       "        \u001b[32m'winoground.image-to-text-acc@1'\u001b[0m,\n",
       "        \u001b[32m'winoground.text-to-image-acc@1'\u001b[0m\n",
       "    \u001b[1m]\u001b[0m,\n",
       "    \u001b[32m'Video Classification'\u001b[0m: \u001b[1m[\u001b[0m\n",
       "        \u001b[32m'kinetics.acc@5'\u001b[0m,\n",
       "        \u001b[32m'kinetics.acc@1'\u001b[0m,\n",
       "        \u001b[32m'hmdb51.acc@5'\u001b[0m,\n",
       "        \u001b[32m'hmdb51.acc@1'\u001b[0m,\n",
       "        \u001b[32m'ucf.acc@5'\u001b[0m,\n",
       "        \u001b[32m'ucf.acc@1'\u001b[0m\n",
       "    \u001b[1m]\u001b[0m,\n",
       "    \u001b[32m'Video Regression'\u001b[0m: \u001b[1m[\u001b[0m\u001b[32m'iwildcam.mae'\u001b[0m\u001b[1m]\u001b[0m\n",
       "\u001b[1m}\u001b[0m\n"
      ]
     },
     "metadata": {},
     "output_type": "display_data"
    }
   ],
   "source": [
    "import yaml\n",
    "\n",
    "task_to_dataset_metrics = yaml.safe_load(open(\"task_mapping.yaml\"))\n",
    "idx = 1\n",
    "for task_name, dataset_metrics in task_to_dataset_metrics.items():\n",
    "    for metric in dataset_metrics:\n",
    "        df = move_column(df, metric, idx)\n",
    "        idx += 1\n",
    "print(task_to_dataset_metrics)"
   ]
  },
  {
   "cell_type": "code",
   "execution_count": 1289,
   "metadata": {},
   "outputs": [
    {
     "data": {
      "text/html": [
       "<pre style=\"white-space:pre;overflow-x:auto;line-height:normal;font-family:Menlo,'DejaVu Sans Mono',consolas,'Courier New',monospace\"><span style=\"color: #008080; text-decoration-color: #008080; font-weight: bold\">0</span>      AR-ViT-B16-<span style=\"color: #008080; text-decoration-color: #008080; font-weight: bold\">224</span>\n",
       "<span style=\"color: #008080; text-decoration-color: #008080; font-weight: bold\">1</span>                BART\n",
       "<span style=\"color: #008080; text-decoration-color: #008080; font-weight: bold\">2</span>                BERT\n",
       "<span style=\"color: #008080; text-decoration-color: #008080; font-weight: bold\">3</span>        CLIP-B16-<span style=\"color: #008080; text-decoration-color: #008080; font-weight: bold\">224</span>\n",
       "<span style=\"color: #008080; text-decoration-color: #008080; font-weight: bold\">4</span>     ConvNextV2-Base\n",
       "<span style=\"color: #008080; text-decoration-color: #008080; font-weight: bold\">5</span>        DINO-B16-<span style=\"color: #008080; text-decoration-color: #008080; font-weight: bold\">224</span>\n",
       "<span style=\"color: #008080; text-decoration-color: #008080; font-weight: bold\">6</span>       DeiT3-B16-<span style=\"color: #008080; text-decoration-color: #008080; font-weight: bold\">224</span>\n",
       "<span style=\"color: #008080; text-decoration-color: #008080; font-weight: bold\">7</span>        EffFormer-s0\n",
       "<span style=\"color: #008080; text-decoration-color: #008080; font-weight: bold\">8</span>          EffV2-RW-S\n",
       "<span style=\"color: #008080; text-decoration-color: #008080; font-weight: bold\">9</span>       Flex-B-1200EP\n",
       "<span style=\"color: #008080; text-decoration-color: #008080; font-weight: bold\">10</span>      Laion-B16-<span style=\"color: #008080; text-decoration-color: #008080; font-weight: bold\">224</span>\n",
       "<span style=\"color: #008080; text-decoration-color: #008080; font-weight: bold\">11</span>              MPNET\n",
       "<span style=\"color: #008080; text-decoration-color: #008080; font-weight: bold\">12</span>       RNX50-32x4A1\n",
       "<span style=\"color: #008080; text-decoration-color: #008080; font-weight: bold\">13</span>     SIGLIP-P16-<span style=\"color: #008080; text-decoration-color: #008080; font-weight: bold\">224</span>\n",
       "<span style=\"color: #008080; text-decoration-color: #008080; font-weight: bold\">14</span>       SViT-B16-<span style=\"color: #008080; text-decoration-color: #008080; font-weight: bold\">224</span>\n",
       "<span style=\"color: #008080; text-decoration-color: #008080; font-weight: bold\">15</span>            Whisper\n",
       "Name: Model.Metric, dtype: object\n",
       "</pre>\n"
      ],
      "text/plain": [
       "\u001b[1;36m0\u001b[0m      AR-ViT-B16-\u001b[1;36m224\u001b[0m\n",
       "\u001b[1;36m1\u001b[0m                BART\n",
       "\u001b[1;36m2\u001b[0m                BERT\n",
       "\u001b[1;36m3\u001b[0m        CLIP-B16-\u001b[1;36m224\u001b[0m\n",
       "\u001b[1;36m4\u001b[0m     ConvNextV2-Base\n",
       "\u001b[1;36m5\u001b[0m        DINO-B16-\u001b[1;36m224\u001b[0m\n",
       "\u001b[1;36m6\u001b[0m       DeiT3-B16-\u001b[1;36m224\u001b[0m\n",
       "\u001b[1;36m7\u001b[0m        EffFormer-s0\n",
       "\u001b[1;36m8\u001b[0m          EffV2-RW-S\n",
       "\u001b[1;36m9\u001b[0m       Flex-B-1200EP\n",
       "\u001b[1;36m10\u001b[0m      Laion-B16-\u001b[1;36m224\u001b[0m\n",
       "\u001b[1;36m11\u001b[0m              MPNET\n",
       "\u001b[1;36m12\u001b[0m       RNX50-32x4A1\n",
       "\u001b[1;36m13\u001b[0m     SIGLIP-P16-\u001b[1;36m224\u001b[0m\n",
       "\u001b[1;36m14\u001b[0m       SViT-B16-\u001b[1;36m224\u001b[0m\n",
       "\u001b[1;36m15\u001b[0m            Whisper\n",
       "Name: Model.Metric, dtype: object\n"
      ]
     },
     "metadata": {},
     "output_type": "display_data"
    }
   ],
   "source": [
    "model_names = df['Model.Metric']\n",
    "print(model_names)\n",
    "modality_shift = [\"BART\", \"BERT\", \"Whisper\", \"MPNET\"]\n",
    "pretraining_shift = [\"AR-ViT-B16-224\", \"CLIP-B16-224\", \"DINO-B16-224\", \"DeiT3-B16-224\", \"Flex-B-1200EP\", \"Laion-B16-224\", \"SIGLIP-P16-224\"]\n",
    "architecture_shift = [\"AR-ViT-B16-224\", \"ConvNextV2-Base\", \"EffV2-RW-S\", \"RNX50-32x4A1\", \"SViT-B16-224\", \"EffFormer-s0\"]"
   ]
  },
  {
   "cell_type": "code",
   "execution_count": 1290,
   "metadata": {},
   "outputs": [],
   "source": [
    "import numpy as np\n",
    "\n",
    "def generate_palette(palette, target_length):\n",
    "    if len(palette) >= target_length:\n",
    "        return palette[:target_length]\n",
    "    else:\n",
    "        # Interpolate colors in the palette\n",
    "        colors = np.array([px.colors.hex_to_rgb(color) for color in palette])\n",
    "        new_colors = np.array([\n",
    "            np.interp(np.linspace(0, len(colors) - 1, target_length), np.arange(len(colors)), colors[:, i])\n",
    "            for i in range(3)\n",
    "        ]).T.astype(int)\n",
    "        return [f'rgb({r},{g},{b})' for r, g, b in new_colors]"
   ]
  },
  {
   "cell_type": "code",
   "execution_count": 1291,
   "metadata": {},
   "outputs": [
    {
     "name": "stderr",
     "output_type": "stream",
     "text": [
      "/var/folders/gh/_5t3nhn94t12m7rh483b8b7r0000gn/T/ipykernel_60051/3420618578.py:16: SettingWithCopyWarning:\n",
      "\n",
      "\n",
      "A value is trying to be set on a copy of a slice from a DataFrame.\n",
      "Try using .loc[row_indexer,col_indexer] = value instead\n",
      "\n",
      "See the caveats in the documentation: https://pandas.pydata.org/pandas-docs/stable/user_guide/indexing.html#returning-a-view-versus-a-copy\n",
      "\n"
     ]
    },
    {
     "data": {
      "application/vnd.plotly.v1+json": {
       "config": {
        "plotlyServerURL": "https://plot.ly"
       },
       "data": [
        {
         "line": {
          "color": "#fcfdbf"
         },
         "mode": "lines",
         "name": "AR-ViT-B16-224",
         "r": [
          0.3717600501272478,
          0.7735252570826101,
          -0.32920233187883596,
          0.4891760990070932,
          0.21390770567210834,
          1.360616113397915,
          0.77563781984758,
          -1.6291961528640413
         ],
         "theta": [
          "Img Class",
          "FS Img Class",
          "Img Seg",
          "Img Relational Reasoning",
          "Medical Class/Seg",
          "Img to Text ZS Learning",
          "Video Class",
          "Video Reg"
         ],
         "type": "scatterpolar"
        },
        {
         "line": {
          "color": "#fcfdbf"
         },
         "mode": "lines",
         "name": "AR-ViT-B16-224",
         "r": [
          0.3717600501272478,
          -1.6291961528640413
         ],
         "showlegend": false,
         "theta": [
          "Img Class",
          "Video Reg"
         ],
         "type": "scatterpolar"
        },
        {
         "line": {
          "color": "#feca8d"
         },
         "mode": "lines",
         "name": "ConvNextV2-Base",
         "r": [
          1.0461349191824965,
          1.2415405386788192,
          2.0117636199364815,
          1.482617943753122,
          0.11389890821501553,
          0.6896615130238761,
          1.3530034091671808,
          1.0701378059145357
         ],
         "theta": [
          "Img Class",
          "FS Img Class",
          "Img Seg",
          "Img Relational Reasoning",
          "Medical Class/Seg",
          "Img to Text ZS Learning",
          "Video Class",
          "Video Reg"
         ],
         "type": "scatterpolar"
        },
        {
         "line": {
          "color": "#feca8d"
         },
         "mode": "lines",
         "name": "ConvNextV2-Base",
         "r": [
          1.0461349191824965,
          1.0701378059145357
         ],
         "showlegend": false,
         "theta": [
          "Img Class",
          "Video Reg"
         ],
         "type": "scatterpolar"
        },
        {
         "line": {
          "color": "#fd9668"
         },
         "mode": "lines",
         "name": "EffV2-RW-S",
         "r": [
          -1.440986979632338,
          -1.3096015845318596,
          -0.7357160182670289,
          -0.17335907355811475,
          -1.7862682434696722,
          0.26064964958768366,
          -1.142628238760608,
          0.9074267944889378
         ],
         "theta": [
          "Img Class",
          "FS Img Class",
          "Img Seg",
          "Img Relational Reasoning",
          "Medical Class/Seg",
          "Img to Text ZS Learning",
          "Video Class",
          "Video Reg"
         ],
         "type": "scatterpolar"
        },
        {
         "line": {
          "color": "#fd9668"
         },
         "mode": "lines",
         "name": "EffV2-RW-S",
         "r": [
          -1.440986979632338,
          0.9074267944889378
         ],
         "showlegend": false,
         "theta": [
          "Img Class",
          "Video Reg"
         ],
         "type": "scatterpolar"
        },
        {
         "line": {
          "color": "#f1605d"
         },
         "mode": "lines",
         "name": "RNX50-32x4A1",
         "r": [
          0.46921017347694804,
          -0.8714108061746261,
          -0.2622366394177299,
          -1.0584751286107938,
          1.3084484333969122,
          -1.2284205973390925,
          -0.790786913302216,
          0.00625811582406393
         ],
         "theta": [
          "Img Class",
          "FS Img Class",
          "Img Seg",
          "Img Relational Reasoning",
          "Medical Class/Seg",
          "Img to Text ZS Learning",
          "Video Class",
          "Video Reg"
         ],
         "type": "scatterpolar"
        },
        {
         "line": {
          "color": "#f1605d"
         },
         "mode": "lines",
         "name": "RNX50-32x4A1",
         "r": [
          0.46921017347694804,
          0.00625811582406393
         ],
         "showlegend": false,
         "theta": [
          "Img Class",
          "Video Reg"
         ],
         "type": "scatterpolar"
        },
        {
         "line": {
          "color": "#cd4071"
         },
         "mode": "lines",
         "name": "SViT-B16-224",
         "r": [
          0.6049758892676869,
          -0.34833490321416705,
          -0.33770218484900427,
          -1.124419290922926,
          0.19168352845941683,
          -1.0463399808807103,
          -0.6533863296567531,
          0.2190340538421566
         ],
         "theta": [
          "Img Class",
          "FS Img Class",
          "Img Seg",
          "Img Relational Reasoning",
          "Medical Class/Seg",
          "Img to Text ZS Learning",
          "Video Class",
          "Video Reg"
         ],
         "type": "scatterpolar"
        },
        {
         "line": {
          "color": "#cd4071"
         },
         "mode": "lines",
         "name": "SViT-B16-224",
         "r": [
          0.6049758892676869,
          0.2190340538421566
         ],
         "showlegend": false,
         "theta": [
          "Img Class",
          "Video Reg"
         ],
         "type": "scatterpolar"
        },
        {
         "line": {
          "color": "#9e2f7f"
         },
         "mode": "lines",
         "name": "EffFormer-s0",
         "r": [
          -1.0510940524220431,
          0.5142814981592256,
          -0.34690644552388267,
          0.3844594503316128,
          -0.041670332273787095,
          -0.03616669778968103,
          0.45816025270481636,
          -0.5736606172056485
         ],
         "theta": [
          "Img Class",
          "FS Img Class",
          "Img Seg",
          "Img Relational Reasoning",
          "Medical Class/Seg",
          "Img to Text ZS Learning",
          "Video Class",
          "Video Reg"
         ],
         "type": "scatterpolar"
        },
        {
         "line": {
          "color": "#9e2f7f"
         },
         "mode": "lines",
         "name": "EffFormer-s0",
         "r": [
          -1.0510940524220431,
          -0.5736606172056485
         ],
         "showlegend": false,
         "theta": [
          "Img Class",
          "Video Reg"
         ],
         "type": "scatterpolar"
        }
       ],
       "layout": {
        "autosize": true,
        "font": {
         "size": 8
        },
        "height": 400,
        "legend": {
         "orientation": "h",
         "x": 0.5,
         "xanchor": "center",
         "y": 1.4,
         "yanchor": "top"
        },
        "margin": {
         "b": 50,
         "l": 50,
         "pad": 4,
         "r": 50,
         "t": 100
        },
        "template": {
         "data": {
          "bar": [
           {
            "error_x": {
             "color": "#2a3f5f"
            },
            "error_y": {
             "color": "#2a3f5f"
            },
            "marker": {
             "line": {
              "color": "#E5ECF6",
              "width": 0.5
             },
             "pattern": {
              "fillmode": "overlay",
              "size": 10,
              "solidity": 0.2
             }
            },
            "type": "bar"
           }
          ],
          "barpolar": [
           {
            "marker": {
             "line": {
              "color": "#E5ECF6",
              "width": 0.5
             },
             "pattern": {
              "fillmode": "overlay",
              "size": 10,
              "solidity": 0.2
             }
            },
            "type": "barpolar"
           }
          ],
          "carpet": [
           {
            "aaxis": {
             "endlinecolor": "#2a3f5f",
             "gridcolor": "white",
             "linecolor": "white",
             "minorgridcolor": "white",
             "startlinecolor": "#2a3f5f"
            },
            "baxis": {
             "endlinecolor": "#2a3f5f",
             "gridcolor": "white",
             "linecolor": "white",
             "minorgridcolor": "white",
             "startlinecolor": "#2a3f5f"
            },
            "type": "carpet"
           }
          ],
          "choropleth": [
           {
            "colorbar": {
             "outlinewidth": 0,
             "ticks": ""
            },
            "type": "choropleth"
           }
          ],
          "contour": [
           {
            "colorbar": {
             "outlinewidth": 0,
             "ticks": ""
            },
            "colorscale": [
             [
              0,
              "#0d0887"
             ],
             [
              0.1111111111111111,
              "#46039f"
             ],
             [
              0.2222222222222222,
              "#7201a8"
             ],
             [
              0.3333333333333333,
              "#9c179e"
             ],
             [
              0.4444444444444444,
              "#bd3786"
             ],
             [
              0.5555555555555556,
              "#d8576b"
             ],
             [
              0.6666666666666666,
              "#ed7953"
             ],
             [
              0.7777777777777778,
              "#fb9f3a"
             ],
             [
              0.8888888888888888,
              "#fdca26"
             ],
             [
              1,
              "#f0f921"
             ]
            ],
            "type": "contour"
           }
          ],
          "contourcarpet": [
           {
            "colorbar": {
             "outlinewidth": 0,
             "ticks": ""
            },
            "type": "contourcarpet"
           }
          ],
          "heatmap": [
           {
            "colorbar": {
             "outlinewidth": 0,
             "ticks": ""
            },
            "colorscale": [
             [
              0,
              "#0d0887"
             ],
             [
              0.1111111111111111,
              "#46039f"
             ],
             [
              0.2222222222222222,
              "#7201a8"
             ],
             [
              0.3333333333333333,
              "#9c179e"
             ],
             [
              0.4444444444444444,
              "#bd3786"
             ],
             [
              0.5555555555555556,
              "#d8576b"
             ],
             [
              0.6666666666666666,
              "#ed7953"
             ],
             [
              0.7777777777777778,
              "#fb9f3a"
             ],
             [
              0.8888888888888888,
              "#fdca26"
             ],
             [
              1,
              "#f0f921"
             ]
            ],
            "type": "heatmap"
           }
          ],
          "heatmapgl": [
           {
            "colorbar": {
             "outlinewidth": 0,
             "ticks": ""
            },
            "colorscale": [
             [
              0,
              "#0d0887"
             ],
             [
              0.1111111111111111,
              "#46039f"
             ],
             [
              0.2222222222222222,
              "#7201a8"
             ],
             [
              0.3333333333333333,
              "#9c179e"
             ],
             [
              0.4444444444444444,
              "#bd3786"
             ],
             [
              0.5555555555555556,
              "#d8576b"
             ],
             [
              0.6666666666666666,
              "#ed7953"
             ],
             [
              0.7777777777777778,
              "#fb9f3a"
             ],
             [
              0.8888888888888888,
              "#fdca26"
             ],
             [
              1,
              "#f0f921"
             ]
            ],
            "type": "heatmapgl"
           }
          ],
          "histogram": [
           {
            "marker": {
             "pattern": {
              "fillmode": "overlay",
              "size": 10,
              "solidity": 0.2
             }
            },
            "type": "histogram"
           }
          ],
          "histogram2d": [
           {
            "colorbar": {
             "outlinewidth": 0,
             "ticks": ""
            },
            "colorscale": [
             [
              0,
              "#0d0887"
             ],
             [
              0.1111111111111111,
              "#46039f"
             ],
             [
              0.2222222222222222,
              "#7201a8"
             ],
             [
              0.3333333333333333,
              "#9c179e"
             ],
             [
              0.4444444444444444,
              "#bd3786"
             ],
             [
              0.5555555555555556,
              "#d8576b"
             ],
             [
              0.6666666666666666,
              "#ed7953"
             ],
             [
              0.7777777777777778,
              "#fb9f3a"
             ],
             [
              0.8888888888888888,
              "#fdca26"
             ],
             [
              1,
              "#f0f921"
             ]
            ],
            "type": "histogram2d"
           }
          ],
          "histogram2dcontour": [
           {
            "colorbar": {
             "outlinewidth": 0,
             "ticks": ""
            },
            "colorscale": [
             [
              0,
              "#0d0887"
             ],
             [
              0.1111111111111111,
              "#46039f"
             ],
             [
              0.2222222222222222,
              "#7201a8"
             ],
             [
              0.3333333333333333,
              "#9c179e"
             ],
             [
              0.4444444444444444,
              "#bd3786"
             ],
             [
              0.5555555555555556,
              "#d8576b"
             ],
             [
              0.6666666666666666,
              "#ed7953"
             ],
             [
              0.7777777777777778,
              "#fb9f3a"
             ],
             [
              0.8888888888888888,
              "#fdca26"
             ],
             [
              1,
              "#f0f921"
             ]
            ],
            "type": "histogram2dcontour"
           }
          ],
          "mesh3d": [
           {
            "colorbar": {
             "outlinewidth": 0,
             "ticks": ""
            },
            "type": "mesh3d"
           }
          ],
          "parcoords": [
           {
            "line": {
             "colorbar": {
              "outlinewidth": 0,
              "ticks": ""
             }
            },
            "type": "parcoords"
           }
          ],
          "pie": [
           {
            "automargin": true,
            "type": "pie"
           }
          ],
          "scatter": [
           {
            "fillpattern": {
             "fillmode": "overlay",
             "size": 10,
             "solidity": 0.2
            },
            "type": "scatter"
           }
          ],
          "scatter3d": [
           {
            "line": {
             "colorbar": {
              "outlinewidth": 0,
              "ticks": ""
             }
            },
            "marker": {
             "colorbar": {
              "outlinewidth": 0,
              "ticks": ""
             }
            },
            "type": "scatter3d"
           }
          ],
          "scattercarpet": [
           {
            "marker": {
             "colorbar": {
              "outlinewidth": 0,
              "ticks": ""
             }
            },
            "type": "scattercarpet"
           }
          ],
          "scattergeo": [
           {
            "marker": {
             "colorbar": {
              "outlinewidth": 0,
              "ticks": ""
             }
            },
            "type": "scattergeo"
           }
          ],
          "scattergl": [
           {
            "marker": {
             "colorbar": {
              "outlinewidth": 0,
              "ticks": ""
             }
            },
            "type": "scattergl"
           }
          ],
          "scattermapbox": [
           {
            "marker": {
             "colorbar": {
              "outlinewidth": 0,
              "ticks": ""
             }
            },
            "type": "scattermapbox"
           }
          ],
          "scatterpolar": [
           {
            "marker": {
             "colorbar": {
              "outlinewidth": 0,
              "ticks": ""
             }
            },
            "type": "scatterpolar"
           }
          ],
          "scatterpolargl": [
           {
            "marker": {
             "colorbar": {
              "outlinewidth": 0,
              "ticks": ""
             }
            },
            "type": "scatterpolargl"
           }
          ],
          "scatterternary": [
           {
            "marker": {
             "colorbar": {
              "outlinewidth": 0,
              "ticks": ""
             }
            },
            "type": "scatterternary"
           }
          ],
          "surface": [
           {
            "colorbar": {
             "outlinewidth": 0,
             "ticks": ""
            },
            "colorscale": [
             [
              0,
              "#0d0887"
             ],
             [
              0.1111111111111111,
              "#46039f"
             ],
             [
              0.2222222222222222,
              "#7201a8"
             ],
             [
              0.3333333333333333,
              "#9c179e"
             ],
             [
              0.4444444444444444,
              "#bd3786"
             ],
             [
              0.5555555555555556,
              "#d8576b"
             ],
             [
              0.6666666666666666,
              "#ed7953"
             ],
             [
              0.7777777777777778,
              "#fb9f3a"
             ],
             [
              0.8888888888888888,
              "#fdca26"
             ],
             [
              1,
              "#f0f921"
             ]
            ],
            "type": "surface"
           }
          ],
          "table": [
           {
            "cells": {
             "fill": {
              "color": "#EBF0F8"
             },
             "line": {
              "color": "white"
             }
            },
            "header": {
             "fill": {
              "color": "#C8D4E3"
             },
             "line": {
              "color": "white"
             }
            },
            "type": "table"
           }
          ]
         },
         "layout": {
          "annotationdefaults": {
           "arrowcolor": "#2a3f5f",
           "arrowhead": 0,
           "arrowwidth": 1
          },
          "autotypenumbers": "strict",
          "coloraxis": {
           "colorbar": {
            "outlinewidth": 0,
            "ticks": ""
           }
          },
          "colorscale": {
           "diverging": [
            [
             0,
             "#8e0152"
            ],
            [
             0.1,
             "#c51b7d"
            ],
            [
             0.2,
             "#de77ae"
            ],
            [
             0.3,
             "#f1b6da"
            ],
            [
             0.4,
             "#fde0ef"
            ],
            [
             0.5,
             "#f7f7f7"
            ],
            [
             0.6,
             "#e6f5d0"
            ],
            [
             0.7,
             "#b8e186"
            ],
            [
             0.8,
             "#7fbc41"
            ],
            [
             0.9,
             "#4d9221"
            ],
            [
             1,
             "#276419"
            ]
           ],
           "sequential": [
            [
             0,
             "#0d0887"
            ],
            [
             0.1111111111111111,
             "#46039f"
            ],
            [
             0.2222222222222222,
             "#7201a8"
            ],
            [
             0.3333333333333333,
             "#9c179e"
            ],
            [
             0.4444444444444444,
             "#bd3786"
            ],
            [
             0.5555555555555556,
             "#d8576b"
            ],
            [
             0.6666666666666666,
             "#ed7953"
            ],
            [
             0.7777777777777778,
             "#fb9f3a"
            ],
            [
             0.8888888888888888,
             "#fdca26"
            ],
            [
             1,
             "#f0f921"
            ]
           ],
           "sequentialminus": [
            [
             0,
             "#0d0887"
            ],
            [
             0.1111111111111111,
             "#46039f"
            ],
            [
             0.2222222222222222,
             "#7201a8"
            ],
            [
             0.3333333333333333,
             "#9c179e"
            ],
            [
             0.4444444444444444,
             "#bd3786"
            ],
            [
             0.5555555555555556,
             "#d8576b"
            ],
            [
             0.6666666666666666,
             "#ed7953"
            ],
            [
             0.7777777777777778,
             "#fb9f3a"
            ],
            [
             0.8888888888888888,
             "#fdca26"
            ],
            [
             1,
             "#f0f921"
            ]
           ]
          },
          "colorway": [
           "#636efa",
           "#EF553B",
           "#00cc96",
           "#ab63fa",
           "#FFA15A",
           "#19d3f3",
           "#FF6692",
           "#B6E880",
           "#FF97FF",
           "#FECB52"
          ],
          "font": {
           "color": "#2a3f5f"
          },
          "geo": {
           "bgcolor": "white",
           "lakecolor": "white",
           "landcolor": "#E5ECF6",
           "showlakes": true,
           "showland": true,
           "subunitcolor": "white"
          },
          "hoverlabel": {
           "align": "left"
          },
          "hovermode": "closest",
          "mapbox": {
           "style": "light"
          },
          "paper_bgcolor": "white",
          "plot_bgcolor": "#E5ECF6",
          "polar": {
           "angularaxis": {
            "gridcolor": "white",
            "linecolor": "white",
            "ticks": ""
           },
           "bgcolor": "#E5ECF6",
           "radialaxis": {
            "gridcolor": "white",
            "linecolor": "white",
            "ticks": ""
           }
          },
          "scene": {
           "xaxis": {
            "backgroundcolor": "#E5ECF6",
            "gridcolor": "white",
            "gridwidth": 2,
            "linecolor": "white",
            "showbackground": true,
            "ticks": "",
            "zerolinecolor": "white"
           },
           "yaxis": {
            "backgroundcolor": "#E5ECF6",
            "gridcolor": "white",
            "gridwidth": 2,
            "linecolor": "white",
            "showbackground": true,
            "ticks": "",
            "zerolinecolor": "white"
           },
           "zaxis": {
            "backgroundcolor": "#E5ECF6",
            "gridcolor": "white",
            "gridwidth": 2,
            "linecolor": "white",
            "showbackground": true,
            "ticks": "",
            "zerolinecolor": "white"
           }
          },
          "shapedefaults": {
           "line": {
            "color": "#2a3f5f"
           }
          },
          "ternary": {
           "aaxis": {
            "gridcolor": "white",
            "linecolor": "white",
            "ticks": ""
           },
           "baxis": {
            "gridcolor": "white",
            "linecolor": "white",
            "ticks": ""
           },
           "bgcolor": "#E5ECF6",
           "caxis": {
            "gridcolor": "white",
            "linecolor": "white",
            "ticks": ""
           }
          },
          "title": {
           "x": 0.05
          },
          "xaxis": {
           "automargin": true,
           "gridcolor": "white",
           "linecolor": "white",
           "ticks": "",
           "title": {
            "standoff": 15
           },
           "zerolinecolor": "white",
           "zerolinewidth": 2
          },
          "yaxis": {
           "automargin": true,
           "gridcolor": "white",
           "linecolor": "white",
           "ticks": "",
           "title": {
            "standoff": 15
           },
           "zerolinecolor": "white",
           "zerolinewidth": 2
          }
         }
        },
        "width": 400
       }
      }
     },
     "metadata": {},
     "output_type": "display_data"
    }
   ],
   "source": [
    "import plotly.express as px\n",
    "# Preprocess data for polar plot\n",
    "color_palette = px.colors.sequential.Magma_r  # Original palette\n",
    "target_length = len(architecture_shift)\n",
    "color_palette = generate_palette(color_palette, target_length)\n",
    "\n",
    "categories = df.columns[-8:]  # Exclude the first column (Model.Metric)\n",
    "values = df.iloc[:, -8:].values  # Exclude the first column\n",
    "\n",
    "categories = [category.replace(\"Classification\", \"Class\").replace(\"Zero Shot\", \"ZS\").replace(\"Image\", \"Img\").replace(\"Regression\", \"Reg\").replace(\"Few Shot\", \"FS\").replace(\"Segmentation\", \"Seg\") for category in categories]  # Shorten the category names\n",
    "# dataframe that includes only Model.Metrics matching entries in pretraining_shift\n",
    "new_df = df[df['Model.Metric'].isin(architecture_shift)]\n",
    "columns = new_df.columns\n",
    "# gaussian normalization\n",
    "for col in columns[1:]:\n",
    "    new_df[col] = (new_df[col] - new_df[col].mean()) / (new_df[col].std())\n",
    "values = new_df.iloc[:, -8:].values  # Exclude the first column\n",
    "new_df = new_df.reset_index(drop=True)\n",
    "# Create polar plot for each model\n",
    "fig = go.Figure()\n",
    "for i, model in enumerate(architecture_shift):\n",
    "    id = new_df[new_df['Model.Metric'] == model].index[0]\n",
    "    color_index = i % len(color_palette)  # Ensure the index is within the range of the color palette\n",
    "    fig.add_trace(go.Scatterpolar(\n",
    "        r=values[i],\n",
    "        theta=categories,\n",
    "        name=model,\n",
    "        mode='lines',\n",
    "        line=dict(color=color_palette[color_index])  \n",
    "        \n",
    "    ))\n",
    "    fig.add_trace(go.Scatterpolar(\n",
    "        r=[values[i][0], values[i][-1]],\n",
    "        theta=[categories[0], categories[-1]],\n",
    "        name=model,\n",
    "        mode='lines',\n",
    "        showlegend=False,\n",
    "        line=dict(color=color_palette[color_index]) \n",
    "        \n",
    "    ))\n",
    "    \n",
    "    \n",
    "\n",
    "# Update layout\n",
    "fig.update_layout(\n",
    "    height=400,\n",
    "    width=400,\n",
    "    autosize=True,\n",
    "    margin=dict(\n",
    "            l=50,\n",
    "            r=50,\n",
    "            b=50,\n",
    "            t=100,\n",
    "            pad=4\n",
    "        ),\n",
    "    font=dict(\n",
    "        size=8\n",
    "    ),\n",
    ")\n",
    "\n",
    "# make legend smaller and move it to the top center\n",
    "fig.update_layout(\n",
    "    legend=dict(\n",
    "        orientation=\"h\",\n",
    "        yanchor=\"top\",\n",
    "        y=1.4,\n",
    "        xanchor=\"center\",\n",
    "        x=0.5\n",
    "    )\n",
    ")\n",
    "\n",
    "fig.show()\n",
    "fig.write_image(\"architecture_polar_plot.pdf\")\n",
    "fig.write_image(\"architecture_polar_plot.png\")"
   ]
  },
  {
   "cell_type": "code",
   "execution_count": 1292,
   "metadata": {},
   "outputs": [
    {
     "name": "stderr",
     "output_type": "stream",
     "text": [
      "/var/folders/gh/_5t3nhn94t12m7rh483b8b7r0000gn/T/ipykernel_60051/4145886805.py:16: SettingWithCopyWarning:\n",
      "\n",
      "\n",
      "A value is trying to be set on a copy of a slice from a DataFrame.\n",
      "Try using .loc[row_indexer,col_indexer] = value instead\n",
      "\n",
      "See the caveats in the documentation: https://pandas.pydata.org/pandas-docs/stable/user_guide/indexing.html#returning-a-view-versus-a-copy\n",
      "\n"
     ]
    },
    {
     "data": {
      "application/vnd.plotly.v1+json": {
       "config": {
        "plotlyServerURL": "https://plot.ly"
       },
       "data": [
        {
         "line": {
          "color": "#fcfdbf"
         },
         "mode": "lines",
         "name": "AR-ViT-B16-224",
         "r": [
          -1.5187176442167472,
          -1.089257782118806,
          -1.7032903187619028,
          -0.526948944072104,
          -0.9252208633992383,
          -0.027340881977766827,
          -0.4870768675615774,
          -1.275854819863969
         ],
         "theta": [
          "Img Class",
          "FS Img Class",
          "Img Seg",
          "Img Relational Reasoning",
          "Medical Class/Seg",
          "Img to Text ZS Learning",
          "Video Class",
          "Video Reg"
         ],
         "type": "scatterpolar"
        },
        {
         "line": {
          "color": "#fcfdbf"
         },
         "mode": "lines",
         "name": "AR-ViT-B16-224",
         "r": [
          -1.5187176442167472,
          -1.275854819863969
         ],
         "showlegend": false,
         "theta": [
          "Img Class",
          "Video Reg"
         ],
         "type": "scatterpolar"
        },
        {
         "line": {
          "color": "#feca8d"
         },
         "mode": "lines",
         "name": "CLIP-B16-224",
         "r": [
          0.9188718173497716,
          1.1139761886721655,
          1.4669998704023492,
          0.03956453834321923,
          0.5066685680519551,
          0.08202264593328688,
          1.2202419895850753,
          -0.05173369058272057
         ],
         "theta": [
          "Img Class",
          "FS Img Class",
          "Img Seg",
          "Img Relational Reasoning",
          "Medical Class/Seg",
          "Img to Text ZS Learning",
          "Video Class",
          "Video Reg"
         ],
         "type": "scatterpolar"
        },
        {
         "line": {
          "color": "#feca8d"
         },
         "mode": "lines",
         "name": "CLIP-B16-224",
         "r": [
          0.9188718173497716,
          -0.05173369058272057
         ],
         "showlegend": false,
         "theta": [
          "Img Class",
          "Video Reg"
         ],
         "type": "scatterpolar"
        },
        {
         "line": {
          "color": "#fd9668"
         },
         "mode": "lines",
         "name": "DINO-B16-224",
         "r": [
          -1.222835948231749,
          -1.4007097046913393,
          -0.753339394676824,
          0.05871297426986887,
          0.660872045285172,
          -0.4921358755997417,
          -1.73542800210506,
          -1.064183874592419
         ],
         "theta": [
          "Img Class",
          "FS Img Class",
          "Img Seg",
          "Img Relational Reasoning",
          "Medical Class/Seg",
          "Img to Text ZS Learning",
          "Video Class",
          "Video Reg"
         ],
         "type": "scatterpolar"
        },
        {
         "line": {
          "color": "#fd9668"
         },
         "mode": "lines",
         "name": "DINO-B16-224",
         "r": [
          -1.222835948231749,
          -1.064183874592419
         ],
         "showlegend": false,
         "theta": [
          "Img Class",
          "Video Reg"
         ],
         "type": "scatterpolar"
        },
        {
         "line": {
          "color": "#f1605d"
         },
         "mode": "lines",
         "name": "DeiT3-B16-224",
         "r": [
          -0.12493403561136991,
          -0.10876098883485263,
          0.15580676470823,
          0.37582975461611,
          -1.520005704155903,
          -0.8885786642773165,
          0.5332963400423244,
          1.0168220451857022
         ],
         "theta": [
          "Img Class",
          "FS Img Class",
          "Img Seg",
          "Img Relational Reasoning",
          "Medical Class/Seg",
          "Img to Text ZS Learning",
          "Video Class",
          "Video Reg"
         ],
         "type": "scatterpolar"
        },
        {
         "line": {
          "color": "#f1605d"
         },
         "mode": "lines",
         "name": "DeiT3-B16-224",
         "r": [
          -0.12493403561136991,
          1.0168220451857022
         ],
         "showlegend": false,
         "theta": [
          "Img Class",
          "Video Reg"
         ],
         "type": "scatterpolar"
        },
        {
         "line": {
          "color": "#cd4071"
         },
         "mode": "lines",
         "name": "Flex-B-1200EP",
         "r": [
          0.7630862902309103,
          0.07580311343035809,
          0.5628142902553384,
          -0.4958911150691155,
          0.3744941589949157,
          -1.2576805709771244,
          -0.14526399316650915,
          1.1213823916451426
         ],
         "theta": [
          "Img Class",
          "FS Img Class",
          "Img Seg",
          "Img Relational Reasoning",
          "Medical Class/Seg",
          "Img to Text ZS Learning",
          "Video Class",
          "Video Reg"
         ],
         "type": "scatterpolar"
        },
        {
         "line": {
          "color": "#cd4071"
         },
         "mode": "lines",
         "name": "Flex-B-1200EP",
         "r": [
          0.7630862902309103,
          1.1213823916451426
         ],
         "showlegend": false,
         "theta": [
          "Img Class",
          "Video Reg"
         ],
         "type": "scatterpolar"
        },
        {
         "line": {
          "color": "#9e2f7f"
         },
         "mode": "lines",
         "name": "Laion-B16-224",
         "r": [
          0.4273719888676511,
          0.15654990817138348,
          0.1622875214547047,
          -1.3349195331722534,
          -0.44058136352344796,
          1.1483170430660707,
          -0.3125253846923649,
          -0.549032899353226
         ],
         "theta": [
          "Img Class",
          "FS Img Class",
          "Img Seg",
          "Img Relational Reasoning",
          "Medical Class/Seg",
          "Img to Text ZS Learning",
          "Video Class",
          "Video Reg"
         ],
         "type": "scatterpolar"
        },
        {
         "line": {
          "color": "#9e2f7f"
         },
         "mode": "lines",
         "name": "Laion-B16-224",
         "r": [
          0.4273719888676511,
          -0.549032899353226
         ],
         "showlegend": false,
         "theta": [
          "Img Class",
          "Video Reg"
         ],
         "type": "scatterpolar"
        },
        {
         "line": {
          "color": "#721f81"
         },
         "mode": "lines",
         "name": "SIGLIP-P16-224",
         "r": [
          0.7571575316114961,
          1.2523992653710794,
          0.10872126661810293,
          1.883652325084235,
          1.3437731587465087,
          1.435396303832585,
          0.9267559178981105,
          0.8026008475614834
         ],
         "theta": [
          "Img Class",
          "FS Img Class",
          "Img Seg",
          "Img Relational Reasoning",
          "Medical Class/Seg",
          "Img to Text ZS Learning",
          "Video Class",
          "Video Reg"
         ],
         "type": "scatterpolar"
        },
        {
         "line": {
          "color": "#721f81"
         },
         "mode": "lines",
         "name": "SIGLIP-P16-224",
         "r": [
          0.7571575316114961,
          0.8026008475614834
         ],
         "showlegend": false,
         "theta": [
          "Img Class",
          "Video Reg"
         ],
         "type": "scatterpolar"
        }
       ],
       "layout": {
        "autosize": true,
        "font": {
         "size": 8
        },
        "height": 400,
        "legend": {
         "orientation": "h",
         "x": 0.5,
         "xanchor": "center",
         "y": 1.4,
         "yanchor": "top"
        },
        "margin": {
         "b": 50,
         "l": 50,
         "pad": 4,
         "r": 50,
         "t": 100
        },
        "template": {
         "data": {
          "bar": [
           {
            "error_x": {
             "color": "#2a3f5f"
            },
            "error_y": {
             "color": "#2a3f5f"
            },
            "marker": {
             "line": {
              "color": "#E5ECF6",
              "width": 0.5
             },
             "pattern": {
              "fillmode": "overlay",
              "size": 10,
              "solidity": 0.2
             }
            },
            "type": "bar"
           }
          ],
          "barpolar": [
           {
            "marker": {
             "line": {
              "color": "#E5ECF6",
              "width": 0.5
             },
             "pattern": {
              "fillmode": "overlay",
              "size": 10,
              "solidity": 0.2
             }
            },
            "type": "barpolar"
           }
          ],
          "carpet": [
           {
            "aaxis": {
             "endlinecolor": "#2a3f5f",
             "gridcolor": "white",
             "linecolor": "white",
             "minorgridcolor": "white",
             "startlinecolor": "#2a3f5f"
            },
            "baxis": {
             "endlinecolor": "#2a3f5f",
             "gridcolor": "white",
             "linecolor": "white",
             "minorgridcolor": "white",
             "startlinecolor": "#2a3f5f"
            },
            "type": "carpet"
           }
          ],
          "choropleth": [
           {
            "colorbar": {
             "outlinewidth": 0,
             "ticks": ""
            },
            "type": "choropleth"
           }
          ],
          "contour": [
           {
            "colorbar": {
             "outlinewidth": 0,
             "ticks": ""
            },
            "colorscale": [
             [
              0,
              "#0d0887"
             ],
             [
              0.1111111111111111,
              "#46039f"
             ],
             [
              0.2222222222222222,
              "#7201a8"
             ],
             [
              0.3333333333333333,
              "#9c179e"
             ],
             [
              0.4444444444444444,
              "#bd3786"
             ],
             [
              0.5555555555555556,
              "#d8576b"
             ],
             [
              0.6666666666666666,
              "#ed7953"
             ],
             [
              0.7777777777777778,
              "#fb9f3a"
             ],
             [
              0.8888888888888888,
              "#fdca26"
             ],
             [
              1,
              "#f0f921"
             ]
            ],
            "type": "contour"
           }
          ],
          "contourcarpet": [
           {
            "colorbar": {
             "outlinewidth": 0,
             "ticks": ""
            },
            "type": "contourcarpet"
           }
          ],
          "heatmap": [
           {
            "colorbar": {
             "outlinewidth": 0,
             "ticks": ""
            },
            "colorscale": [
             [
              0,
              "#0d0887"
             ],
             [
              0.1111111111111111,
              "#46039f"
             ],
             [
              0.2222222222222222,
              "#7201a8"
             ],
             [
              0.3333333333333333,
              "#9c179e"
             ],
             [
              0.4444444444444444,
              "#bd3786"
             ],
             [
              0.5555555555555556,
              "#d8576b"
             ],
             [
              0.6666666666666666,
              "#ed7953"
             ],
             [
              0.7777777777777778,
              "#fb9f3a"
             ],
             [
              0.8888888888888888,
              "#fdca26"
             ],
             [
              1,
              "#f0f921"
             ]
            ],
            "type": "heatmap"
           }
          ],
          "heatmapgl": [
           {
            "colorbar": {
             "outlinewidth": 0,
             "ticks": ""
            },
            "colorscale": [
             [
              0,
              "#0d0887"
             ],
             [
              0.1111111111111111,
              "#46039f"
             ],
             [
              0.2222222222222222,
              "#7201a8"
             ],
             [
              0.3333333333333333,
              "#9c179e"
             ],
             [
              0.4444444444444444,
              "#bd3786"
             ],
             [
              0.5555555555555556,
              "#d8576b"
             ],
             [
              0.6666666666666666,
              "#ed7953"
             ],
             [
              0.7777777777777778,
              "#fb9f3a"
             ],
             [
              0.8888888888888888,
              "#fdca26"
             ],
             [
              1,
              "#f0f921"
             ]
            ],
            "type": "heatmapgl"
           }
          ],
          "histogram": [
           {
            "marker": {
             "pattern": {
              "fillmode": "overlay",
              "size": 10,
              "solidity": 0.2
             }
            },
            "type": "histogram"
           }
          ],
          "histogram2d": [
           {
            "colorbar": {
             "outlinewidth": 0,
             "ticks": ""
            },
            "colorscale": [
             [
              0,
              "#0d0887"
             ],
             [
              0.1111111111111111,
              "#46039f"
             ],
             [
              0.2222222222222222,
              "#7201a8"
             ],
             [
              0.3333333333333333,
              "#9c179e"
             ],
             [
              0.4444444444444444,
              "#bd3786"
             ],
             [
              0.5555555555555556,
              "#d8576b"
             ],
             [
              0.6666666666666666,
              "#ed7953"
             ],
             [
              0.7777777777777778,
              "#fb9f3a"
             ],
             [
              0.8888888888888888,
              "#fdca26"
             ],
             [
              1,
              "#f0f921"
             ]
            ],
            "type": "histogram2d"
           }
          ],
          "histogram2dcontour": [
           {
            "colorbar": {
             "outlinewidth": 0,
             "ticks": ""
            },
            "colorscale": [
             [
              0,
              "#0d0887"
             ],
             [
              0.1111111111111111,
              "#46039f"
             ],
             [
              0.2222222222222222,
              "#7201a8"
             ],
             [
              0.3333333333333333,
              "#9c179e"
             ],
             [
              0.4444444444444444,
              "#bd3786"
             ],
             [
              0.5555555555555556,
              "#d8576b"
             ],
             [
              0.6666666666666666,
              "#ed7953"
             ],
             [
              0.7777777777777778,
              "#fb9f3a"
             ],
             [
              0.8888888888888888,
              "#fdca26"
             ],
             [
              1,
              "#f0f921"
             ]
            ],
            "type": "histogram2dcontour"
           }
          ],
          "mesh3d": [
           {
            "colorbar": {
             "outlinewidth": 0,
             "ticks": ""
            },
            "type": "mesh3d"
           }
          ],
          "parcoords": [
           {
            "line": {
             "colorbar": {
              "outlinewidth": 0,
              "ticks": ""
             }
            },
            "type": "parcoords"
           }
          ],
          "pie": [
           {
            "automargin": true,
            "type": "pie"
           }
          ],
          "scatter": [
           {
            "fillpattern": {
             "fillmode": "overlay",
             "size": 10,
             "solidity": 0.2
            },
            "type": "scatter"
           }
          ],
          "scatter3d": [
           {
            "line": {
             "colorbar": {
              "outlinewidth": 0,
              "ticks": ""
             }
            },
            "marker": {
             "colorbar": {
              "outlinewidth": 0,
              "ticks": ""
             }
            },
            "type": "scatter3d"
           }
          ],
          "scattercarpet": [
           {
            "marker": {
             "colorbar": {
              "outlinewidth": 0,
              "ticks": ""
             }
            },
            "type": "scattercarpet"
           }
          ],
          "scattergeo": [
           {
            "marker": {
             "colorbar": {
              "outlinewidth": 0,
              "ticks": ""
             }
            },
            "type": "scattergeo"
           }
          ],
          "scattergl": [
           {
            "marker": {
             "colorbar": {
              "outlinewidth": 0,
              "ticks": ""
             }
            },
            "type": "scattergl"
           }
          ],
          "scattermapbox": [
           {
            "marker": {
             "colorbar": {
              "outlinewidth": 0,
              "ticks": ""
             }
            },
            "type": "scattermapbox"
           }
          ],
          "scatterpolar": [
           {
            "marker": {
             "colorbar": {
              "outlinewidth": 0,
              "ticks": ""
             }
            },
            "type": "scatterpolar"
           }
          ],
          "scatterpolargl": [
           {
            "marker": {
             "colorbar": {
              "outlinewidth": 0,
              "ticks": ""
             }
            },
            "type": "scatterpolargl"
           }
          ],
          "scatterternary": [
           {
            "marker": {
             "colorbar": {
              "outlinewidth": 0,
              "ticks": ""
             }
            },
            "type": "scatterternary"
           }
          ],
          "surface": [
           {
            "colorbar": {
             "outlinewidth": 0,
             "ticks": ""
            },
            "colorscale": [
             [
              0,
              "#0d0887"
             ],
             [
              0.1111111111111111,
              "#46039f"
             ],
             [
              0.2222222222222222,
              "#7201a8"
             ],
             [
              0.3333333333333333,
              "#9c179e"
             ],
             [
              0.4444444444444444,
              "#bd3786"
             ],
             [
              0.5555555555555556,
              "#d8576b"
             ],
             [
              0.6666666666666666,
              "#ed7953"
             ],
             [
              0.7777777777777778,
              "#fb9f3a"
             ],
             [
              0.8888888888888888,
              "#fdca26"
             ],
             [
              1,
              "#f0f921"
             ]
            ],
            "type": "surface"
           }
          ],
          "table": [
           {
            "cells": {
             "fill": {
              "color": "#EBF0F8"
             },
             "line": {
              "color": "white"
             }
            },
            "header": {
             "fill": {
              "color": "#C8D4E3"
             },
             "line": {
              "color": "white"
             }
            },
            "type": "table"
           }
          ]
         },
         "layout": {
          "annotationdefaults": {
           "arrowcolor": "#2a3f5f",
           "arrowhead": 0,
           "arrowwidth": 1
          },
          "autotypenumbers": "strict",
          "coloraxis": {
           "colorbar": {
            "outlinewidth": 0,
            "ticks": ""
           }
          },
          "colorscale": {
           "diverging": [
            [
             0,
             "#8e0152"
            ],
            [
             0.1,
             "#c51b7d"
            ],
            [
             0.2,
             "#de77ae"
            ],
            [
             0.3,
             "#f1b6da"
            ],
            [
             0.4,
             "#fde0ef"
            ],
            [
             0.5,
             "#f7f7f7"
            ],
            [
             0.6,
             "#e6f5d0"
            ],
            [
             0.7,
             "#b8e186"
            ],
            [
             0.8,
             "#7fbc41"
            ],
            [
             0.9,
             "#4d9221"
            ],
            [
             1,
             "#276419"
            ]
           ],
           "sequential": [
            [
             0,
             "#0d0887"
            ],
            [
             0.1111111111111111,
             "#46039f"
            ],
            [
             0.2222222222222222,
             "#7201a8"
            ],
            [
             0.3333333333333333,
             "#9c179e"
            ],
            [
             0.4444444444444444,
             "#bd3786"
            ],
            [
             0.5555555555555556,
             "#d8576b"
            ],
            [
             0.6666666666666666,
             "#ed7953"
            ],
            [
             0.7777777777777778,
             "#fb9f3a"
            ],
            [
             0.8888888888888888,
             "#fdca26"
            ],
            [
             1,
             "#f0f921"
            ]
           ],
           "sequentialminus": [
            [
             0,
             "#0d0887"
            ],
            [
             0.1111111111111111,
             "#46039f"
            ],
            [
             0.2222222222222222,
             "#7201a8"
            ],
            [
             0.3333333333333333,
             "#9c179e"
            ],
            [
             0.4444444444444444,
             "#bd3786"
            ],
            [
             0.5555555555555556,
             "#d8576b"
            ],
            [
             0.6666666666666666,
             "#ed7953"
            ],
            [
             0.7777777777777778,
             "#fb9f3a"
            ],
            [
             0.8888888888888888,
             "#fdca26"
            ],
            [
             1,
             "#f0f921"
            ]
           ]
          },
          "colorway": [
           "#636efa",
           "#EF553B",
           "#00cc96",
           "#ab63fa",
           "#FFA15A",
           "#19d3f3",
           "#FF6692",
           "#B6E880",
           "#FF97FF",
           "#FECB52"
          ],
          "font": {
           "color": "#2a3f5f"
          },
          "geo": {
           "bgcolor": "white",
           "lakecolor": "white",
           "landcolor": "#E5ECF6",
           "showlakes": true,
           "showland": true,
           "subunitcolor": "white"
          },
          "hoverlabel": {
           "align": "left"
          },
          "hovermode": "closest",
          "mapbox": {
           "style": "light"
          },
          "paper_bgcolor": "white",
          "plot_bgcolor": "#E5ECF6",
          "polar": {
           "angularaxis": {
            "gridcolor": "white",
            "linecolor": "white",
            "ticks": ""
           },
           "bgcolor": "#E5ECF6",
           "radialaxis": {
            "gridcolor": "white",
            "linecolor": "white",
            "ticks": ""
           }
          },
          "scene": {
           "xaxis": {
            "backgroundcolor": "#E5ECF6",
            "gridcolor": "white",
            "gridwidth": 2,
            "linecolor": "white",
            "showbackground": true,
            "ticks": "",
            "zerolinecolor": "white"
           },
           "yaxis": {
            "backgroundcolor": "#E5ECF6",
            "gridcolor": "white",
            "gridwidth": 2,
            "linecolor": "white",
            "showbackground": true,
            "ticks": "",
            "zerolinecolor": "white"
           },
           "zaxis": {
            "backgroundcolor": "#E5ECF6",
            "gridcolor": "white",
            "gridwidth": 2,
            "linecolor": "white",
            "showbackground": true,
            "ticks": "",
            "zerolinecolor": "white"
           }
          },
          "shapedefaults": {
           "line": {
            "color": "#2a3f5f"
           }
          },
          "ternary": {
           "aaxis": {
            "gridcolor": "white",
            "linecolor": "white",
            "ticks": ""
           },
           "baxis": {
            "gridcolor": "white",
            "linecolor": "white",
            "ticks": ""
           },
           "bgcolor": "#E5ECF6",
           "caxis": {
            "gridcolor": "white",
            "linecolor": "white",
            "ticks": ""
           }
          },
          "title": {
           "x": 0.05
          },
          "xaxis": {
           "automargin": true,
           "gridcolor": "white",
           "linecolor": "white",
           "ticks": "",
           "title": {
            "standoff": 15
           },
           "zerolinecolor": "white",
           "zerolinewidth": 2
          },
          "yaxis": {
           "automargin": true,
           "gridcolor": "white",
           "linecolor": "white",
           "ticks": "",
           "title": {
            "standoff": 15
           },
           "zerolinecolor": "white",
           "zerolinewidth": 2
          }
         }
        },
        "width": 400
       }
      }
     },
     "metadata": {},
     "output_type": "display_data"
    }
   ],
   "source": [
    "import plotly.express as px\n",
    "# Preprocess data for polar plot\n",
    "color_palette = px.colors.sequential.Magma_r  # Original palette\n",
    "target_length = len(pretraining_shift)\n",
    "color_palette = generate_palette(color_palette, target_length)\n",
    "\n",
    "categories = df.columns[-8:]  # Exclude the first column (Model.Metric)\n",
    "values = df.iloc[:, -8:].values  # Exclude the first column\n",
    "\n",
    "categories = [category.replace(\"Classification\", \"Class\").replace(\"Zero Shot\", \"ZS\").replace(\"Image\", \"Img\").replace(\"Regression\", \"Reg\").replace(\"Few Shot\", \"FS\").replace(\"Segmentation\", \"Seg\") for category in categories]  # Shorten the category names\n",
    "# dataframe that includes only Model.Metrics matching entries in pretraining_shift\n",
    "new_df = df[df['Model.Metric'].isin(pretraining_shift)]\n",
    "columns = new_df.columns\n",
    "# gaussian normalization\n",
    "for col in columns[1:]:\n",
    "    new_df[col] = (new_df[col] - new_df[col].mean()) / new_df[col].std()\n",
    "values = new_df.iloc[:, -8:].values  # Exclude the first column\n",
    "new_df = new_df.reset_index(drop=True)\n",
    "# Create polar plot for each model\n",
    "fig = go.Figure()\n",
    "for i, model in enumerate(pretraining_shift):\n",
    "    id = new_df[new_df['Model.Metric'] == model].index[0]\n",
    "    color_index = i % len(color_palette)  # Ensure the index is within the range of the color palette\n",
    "    fig.add_trace(go.Scatterpolar(\n",
    "        r=values[i],\n",
    "        theta=categories,\n",
    "        name=model,\n",
    "        mode='lines',\n",
    "        line=dict(color=color_palette[color_index])  \n",
    "        \n",
    "    ))\n",
    "    fig.add_trace(go.Scatterpolar(\n",
    "        r=[values[i][0], values[i][-1]],\n",
    "        theta=[categories[0], categories[-1]],\n",
    "        name=model,\n",
    "        mode='lines',\n",
    "        showlegend=False,\n",
    "        line=dict(color=color_palette[color_index]) \n",
    "        \n",
    "    ))\n",
    "    \n",
    "    \n",
    "\n",
    "# Update layout\n",
    "fig.update_layout(\n",
    "    height=400,\n",
    "    width=400,\n",
    "    autosize=True,\n",
    "    margin=dict(\n",
    "            l=50,\n",
    "            r=50,\n",
    "            b=50,\n",
    "            t=100,\n",
    "            pad=4\n",
    "        ),\n",
    "    font=dict(\n",
    "        size=8\n",
    "    ),\n",
    ")\n",
    "\n",
    "# make legend smaller and move it to the top center\n",
    "fig.update_layout(\n",
    "    legend=dict(\n",
    "        orientation=\"h\",\n",
    "        yanchor=\"top\",\n",
    "        y=1.4,\n",
    "        xanchor=\"center\",\n",
    "        x=0.5\n",
    "    )\n",
    ")\n",
    "\n",
    "fig.show()\n",
    "fig.write_image(\"pretraining_polar_plot.pdf\")\n",
    "fig.write_image(\"pretraining_polar_plot.png\")"
   ]
  },
  {
   "cell_type": "code",
   "execution_count": 1293,
   "metadata": {},
   "outputs": [
    {
     "name": "stderr",
     "output_type": "stream",
     "text": [
      "/var/folders/gh/_5t3nhn94t12m7rh483b8b7r0000gn/T/ipykernel_60051/3413461409.py:16: SettingWithCopyWarning:\n",
      "\n",
      "\n",
      "A value is trying to be set on a copy of a slice from a DataFrame.\n",
      "Try using .loc[row_indexer,col_indexer] = value instead\n",
      "\n",
      "See the caveats in the documentation: https://pandas.pydata.org/pandas-docs/stable/user_guide/indexing.html#returning-a-view-versus-a-copy\n",
      "\n"
     ]
    },
    {
     "data": {
      "application/vnd.plotly.v1+json": {
       "config": {
        "plotlyServerURL": "https://plot.ly"
       },
       "data": [
        {
         "line": {
          "color": "#fcfdbf"
         },
         "mode": "lines",
         "name": "BART",
         "r": [
          -0.050270570332385155,
          0.6123734685411057,
          0.6403473266331644,
          -0.011929118826218778,
          0.3305102279866512,
          0.3989728021685468,
          -1.1788059200327696,
          -0.37094637859897656
         ],
         "theta": [
          "Img Class",
          "FS Img Class",
          "Img Seg",
          "Img Relational Reasoning",
          "Medical Class/Seg",
          "Img to Text ZS Learning",
          "Video Class",
          "Video Reg"
         ],
         "type": "scatterpolar"
        },
        {
         "line": {
          "color": "#fcfdbf"
         },
         "mode": "lines",
         "name": "BART",
         "r": [
          -0.050270570332385155,
          -0.37094637859897656
         ],
         "showlegend": false,
         "theta": [
          "Img Class",
          "Video Reg"
         ],
         "type": "scatterpolar"
        },
        {
         "line": {
          "color": "#feca8d"
         },
         "mode": "lines",
         "name": "BERT",
         "r": [
          0.8886490474827454,
          1.0195620606099969,
          0.964864094443999,
          0.49646292998788966,
          -0.9451432835407548,
          0.533337609510433,
          0.7181928098914209,
          -0.5453914323184947
         ],
         "theta": [
          "Img Class",
          "FS Img Class",
          "Img Seg",
          "Img Relational Reasoning",
          "Medical Class/Seg",
          "Img to Text ZS Learning",
          "Video Class",
          "Video Reg"
         ],
         "type": "scatterpolar"
        },
        {
         "line": {
          "color": "#feca8d"
         },
         "mode": "lines",
         "name": "BERT",
         "r": [
          0.8886490474827454,
          -0.5453914323184947
         ],
         "showlegend": false,
         "theta": [
          "Img Class",
          "Video Reg"
         ],
         "type": "scatterpolar"
        },
        {
         "line": {
          "color": "#fd9668"
         },
         "mode": "lines",
         "name": "Whisper",
         "r": [
          -1.3826041296506677,
          -1.1722577826358305,
          -0.3721171930678948,
          -1.3903077907831967,
          -0.6436251808160933,
          -1.4961480081320497,
          -0.47273450777662945,
          -0.577473281278406
         ],
         "theta": [
          "Img Class",
          "FS Img Class",
          "Img Seg",
          "Img Relational Reasoning",
          "Medical Class/Seg",
          "Img to Text ZS Learning",
          "Video Class",
          "Video Reg"
         ],
         "type": "scatterpolar"
        },
        {
         "line": {
          "color": "#fd9668"
         },
         "mode": "lines",
         "name": "Whisper",
         "r": [
          -1.3826041296506677,
          -0.577473281278406
         ],
         "showlegend": false,
         "theta": [
          "Img Class",
          "Video Reg"
         ],
         "type": "scatterpolar"
        },
        {
         "line": {
          "color": "#f1605d"
         },
         "mode": "lines",
         "name": "MPNET",
         "r": [
          0.5442256525003067,
          -0.45967774651527055,
          -1.233094228009276,
          0.9057739796215258,
          1.2582582363702068,
          0.5638375964530701,
          0.9333476179179699,
          1.4938110921958763
         ],
         "theta": [
          "Img Class",
          "FS Img Class",
          "Img Seg",
          "Img Relational Reasoning",
          "Medical Class/Seg",
          "Img to Text ZS Learning",
          "Video Class",
          "Video Reg"
         ],
         "type": "scatterpolar"
        },
        {
         "line": {
          "color": "#f1605d"
         },
         "mode": "lines",
         "name": "MPNET",
         "r": [
          0.5442256525003067,
          1.4938110921958763
         ],
         "showlegend": false,
         "theta": [
          "Img Class",
          "Video Reg"
         ],
         "type": "scatterpolar"
        }
       ],
       "layout": {
        "autosize": true,
        "font": {
         "size": 8
        },
        "height": 400,
        "legend": {
         "orientation": "h",
         "x": 0.5,
         "xanchor": "center",
         "y": 1.4,
         "yanchor": "top"
        },
        "margin": {
         "b": 50,
         "l": 50,
         "pad": 4,
         "r": 50,
         "t": 100
        },
        "template": {
         "data": {
          "bar": [
           {
            "error_x": {
             "color": "#2a3f5f"
            },
            "error_y": {
             "color": "#2a3f5f"
            },
            "marker": {
             "line": {
              "color": "#E5ECF6",
              "width": 0.5
             },
             "pattern": {
              "fillmode": "overlay",
              "size": 10,
              "solidity": 0.2
             }
            },
            "type": "bar"
           }
          ],
          "barpolar": [
           {
            "marker": {
             "line": {
              "color": "#E5ECF6",
              "width": 0.5
             },
             "pattern": {
              "fillmode": "overlay",
              "size": 10,
              "solidity": 0.2
             }
            },
            "type": "barpolar"
           }
          ],
          "carpet": [
           {
            "aaxis": {
             "endlinecolor": "#2a3f5f",
             "gridcolor": "white",
             "linecolor": "white",
             "minorgridcolor": "white",
             "startlinecolor": "#2a3f5f"
            },
            "baxis": {
             "endlinecolor": "#2a3f5f",
             "gridcolor": "white",
             "linecolor": "white",
             "minorgridcolor": "white",
             "startlinecolor": "#2a3f5f"
            },
            "type": "carpet"
           }
          ],
          "choropleth": [
           {
            "colorbar": {
             "outlinewidth": 0,
             "ticks": ""
            },
            "type": "choropleth"
           }
          ],
          "contour": [
           {
            "colorbar": {
             "outlinewidth": 0,
             "ticks": ""
            },
            "colorscale": [
             [
              0,
              "#0d0887"
             ],
             [
              0.1111111111111111,
              "#46039f"
             ],
             [
              0.2222222222222222,
              "#7201a8"
             ],
             [
              0.3333333333333333,
              "#9c179e"
             ],
             [
              0.4444444444444444,
              "#bd3786"
             ],
             [
              0.5555555555555556,
              "#d8576b"
             ],
             [
              0.6666666666666666,
              "#ed7953"
             ],
             [
              0.7777777777777778,
              "#fb9f3a"
             ],
             [
              0.8888888888888888,
              "#fdca26"
             ],
             [
              1,
              "#f0f921"
             ]
            ],
            "type": "contour"
           }
          ],
          "contourcarpet": [
           {
            "colorbar": {
             "outlinewidth": 0,
             "ticks": ""
            },
            "type": "contourcarpet"
           }
          ],
          "heatmap": [
           {
            "colorbar": {
             "outlinewidth": 0,
             "ticks": ""
            },
            "colorscale": [
             [
              0,
              "#0d0887"
             ],
             [
              0.1111111111111111,
              "#46039f"
             ],
             [
              0.2222222222222222,
              "#7201a8"
             ],
             [
              0.3333333333333333,
              "#9c179e"
             ],
             [
              0.4444444444444444,
              "#bd3786"
             ],
             [
              0.5555555555555556,
              "#d8576b"
             ],
             [
              0.6666666666666666,
              "#ed7953"
             ],
             [
              0.7777777777777778,
              "#fb9f3a"
             ],
             [
              0.8888888888888888,
              "#fdca26"
             ],
             [
              1,
              "#f0f921"
             ]
            ],
            "type": "heatmap"
           }
          ],
          "heatmapgl": [
           {
            "colorbar": {
             "outlinewidth": 0,
             "ticks": ""
            },
            "colorscale": [
             [
              0,
              "#0d0887"
             ],
             [
              0.1111111111111111,
              "#46039f"
             ],
             [
              0.2222222222222222,
              "#7201a8"
             ],
             [
              0.3333333333333333,
              "#9c179e"
             ],
             [
              0.4444444444444444,
              "#bd3786"
             ],
             [
              0.5555555555555556,
              "#d8576b"
             ],
             [
              0.6666666666666666,
              "#ed7953"
             ],
             [
              0.7777777777777778,
              "#fb9f3a"
             ],
             [
              0.8888888888888888,
              "#fdca26"
             ],
             [
              1,
              "#f0f921"
             ]
            ],
            "type": "heatmapgl"
           }
          ],
          "histogram": [
           {
            "marker": {
             "pattern": {
              "fillmode": "overlay",
              "size": 10,
              "solidity": 0.2
             }
            },
            "type": "histogram"
           }
          ],
          "histogram2d": [
           {
            "colorbar": {
             "outlinewidth": 0,
             "ticks": ""
            },
            "colorscale": [
             [
              0,
              "#0d0887"
             ],
             [
              0.1111111111111111,
              "#46039f"
             ],
             [
              0.2222222222222222,
              "#7201a8"
             ],
             [
              0.3333333333333333,
              "#9c179e"
             ],
             [
              0.4444444444444444,
              "#bd3786"
             ],
             [
              0.5555555555555556,
              "#d8576b"
             ],
             [
              0.6666666666666666,
              "#ed7953"
             ],
             [
              0.7777777777777778,
              "#fb9f3a"
             ],
             [
              0.8888888888888888,
              "#fdca26"
             ],
             [
              1,
              "#f0f921"
             ]
            ],
            "type": "histogram2d"
           }
          ],
          "histogram2dcontour": [
           {
            "colorbar": {
             "outlinewidth": 0,
             "ticks": ""
            },
            "colorscale": [
             [
              0,
              "#0d0887"
             ],
             [
              0.1111111111111111,
              "#46039f"
             ],
             [
              0.2222222222222222,
              "#7201a8"
             ],
             [
              0.3333333333333333,
              "#9c179e"
             ],
             [
              0.4444444444444444,
              "#bd3786"
             ],
             [
              0.5555555555555556,
              "#d8576b"
             ],
             [
              0.6666666666666666,
              "#ed7953"
             ],
             [
              0.7777777777777778,
              "#fb9f3a"
             ],
             [
              0.8888888888888888,
              "#fdca26"
             ],
             [
              1,
              "#f0f921"
             ]
            ],
            "type": "histogram2dcontour"
           }
          ],
          "mesh3d": [
           {
            "colorbar": {
             "outlinewidth": 0,
             "ticks": ""
            },
            "type": "mesh3d"
           }
          ],
          "parcoords": [
           {
            "line": {
             "colorbar": {
              "outlinewidth": 0,
              "ticks": ""
             }
            },
            "type": "parcoords"
           }
          ],
          "pie": [
           {
            "automargin": true,
            "type": "pie"
           }
          ],
          "scatter": [
           {
            "fillpattern": {
             "fillmode": "overlay",
             "size": 10,
             "solidity": 0.2
            },
            "type": "scatter"
           }
          ],
          "scatter3d": [
           {
            "line": {
             "colorbar": {
              "outlinewidth": 0,
              "ticks": ""
             }
            },
            "marker": {
             "colorbar": {
              "outlinewidth": 0,
              "ticks": ""
             }
            },
            "type": "scatter3d"
           }
          ],
          "scattercarpet": [
           {
            "marker": {
             "colorbar": {
              "outlinewidth": 0,
              "ticks": ""
             }
            },
            "type": "scattercarpet"
           }
          ],
          "scattergeo": [
           {
            "marker": {
             "colorbar": {
              "outlinewidth": 0,
              "ticks": ""
             }
            },
            "type": "scattergeo"
           }
          ],
          "scattergl": [
           {
            "marker": {
             "colorbar": {
              "outlinewidth": 0,
              "ticks": ""
             }
            },
            "type": "scattergl"
           }
          ],
          "scattermapbox": [
           {
            "marker": {
             "colorbar": {
              "outlinewidth": 0,
              "ticks": ""
             }
            },
            "type": "scattermapbox"
           }
          ],
          "scatterpolar": [
           {
            "marker": {
             "colorbar": {
              "outlinewidth": 0,
              "ticks": ""
             }
            },
            "type": "scatterpolar"
           }
          ],
          "scatterpolargl": [
           {
            "marker": {
             "colorbar": {
              "outlinewidth": 0,
              "ticks": ""
             }
            },
            "type": "scatterpolargl"
           }
          ],
          "scatterternary": [
           {
            "marker": {
             "colorbar": {
              "outlinewidth": 0,
              "ticks": ""
             }
            },
            "type": "scatterternary"
           }
          ],
          "surface": [
           {
            "colorbar": {
             "outlinewidth": 0,
             "ticks": ""
            },
            "colorscale": [
             [
              0,
              "#0d0887"
             ],
             [
              0.1111111111111111,
              "#46039f"
             ],
             [
              0.2222222222222222,
              "#7201a8"
             ],
             [
              0.3333333333333333,
              "#9c179e"
             ],
             [
              0.4444444444444444,
              "#bd3786"
             ],
             [
              0.5555555555555556,
              "#d8576b"
             ],
             [
              0.6666666666666666,
              "#ed7953"
             ],
             [
              0.7777777777777778,
              "#fb9f3a"
             ],
             [
              0.8888888888888888,
              "#fdca26"
             ],
             [
              1,
              "#f0f921"
             ]
            ],
            "type": "surface"
           }
          ],
          "table": [
           {
            "cells": {
             "fill": {
              "color": "#EBF0F8"
             },
             "line": {
              "color": "white"
             }
            },
            "header": {
             "fill": {
              "color": "#C8D4E3"
             },
             "line": {
              "color": "white"
             }
            },
            "type": "table"
           }
          ]
         },
         "layout": {
          "annotationdefaults": {
           "arrowcolor": "#2a3f5f",
           "arrowhead": 0,
           "arrowwidth": 1
          },
          "autotypenumbers": "strict",
          "coloraxis": {
           "colorbar": {
            "outlinewidth": 0,
            "ticks": ""
           }
          },
          "colorscale": {
           "diverging": [
            [
             0,
             "#8e0152"
            ],
            [
             0.1,
             "#c51b7d"
            ],
            [
             0.2,
             "#de77ae"
            ],
            [
             0.3,
             "#f1b6da"
            ],
            [
             0.4,
             "#fde0ef"
            ],
            [
             0.5,
             "#f7f7f7"
            ],
            [
             0.6,
             "#e6f5d0"
            ],
            [
             0.7,
             "#b8e186"
            ],
            [
             0.8,
             "#7fbc41"
            ],
            [
             0.9,
             "#4d9221"
            ],
            [
             1,
             "#276419"
            ]
           ],
           "sequential": [
            [
             0,
             "#0d0887"
            ],
            [
             0.1111111111111111,
             "#46039f"
            ],
            [
             0.2222222222222222,
             "#7201a8"
            ],
            [
             0.3333333333333333,
             "#9c179e"
            ],
            [
             0.4444444444444444,
             "#bd3786"
            ],
            [
             0.5555555555555556,
             "#d8576b"
            ],
            [
             0.6666666666666666,
             "#ed7953"
            ],
            [
             0.7777777777777778,
             "#fb9f3a"
            ],
            [
             0.8888888888888888,
             "#fdca26"
            ],
            [
             1,
             "#f0f921"
            ]
           ],
           "sequentialminus": [
            [
             0,
             "#0d0887"
            ],
            [
             0.1111111111111111,
             "#46039f"
            ],
            [
             0.2222222222222222,
             "#7201a8"
            ],
            [
             0.3333333333333333,
             "#9c179e"
            ],
            [
             0.4444444444444444,
             "#bd3786"
            ],
            [
             0.5555555555555556,
             "#d8576b"
            ],
            [
             0.6666666666666666,
             "#ed7953"
            ],
            [
             0.7777777777777778,
             "#fb9f3a"
            ],
            [
             0.8888888888888888,
             "#fdca26"
            ],
            [
             1,
             "#f0f921"
            ]
           ]
          },
          "colorway": [
           "#636efa",
           "#EF553B",
           "#00cc96",
           "#ab63fa",
           "#FFA15A",
           "#19d3f3",
           "#FF6692",
           "#B6E880",
           "#FF97FF",
           "#FECB52"
          ],
          "font": {
           "color": "#2a3f5f"
          },
          "geo": {
           "bgcolor": "white",
           "lakecolor": "white",
           "landcolor": "#E5ECF6",
           "showlakes": true,
           "showland": true,
           "subunitcolor": "white"
          },
          "hoverlabel": {
           "align": "left"
          },
          "hovermode": "closest",
          "mapbox": {
           "style": "light"
          },
          "paper_bgcolor": "white",
          "plot_bgcolor": "#E5ECF6",
          "polar": {
           "angularaxis": {
            "gridcolor": "white",
            "linecolor": "white",
            "ticks": ""
           },
           "bgcolor": "#E5ECF6",
           "radialaxis": {
            "gridcolor": "white",
            "linecolor": "white",
            "ticks": ""
           }
          },
          "scene": {
           "xaxis": {
            "backgroundcolor": "#E5ECF6",
            "gridcolor": "white",
            "gridwidth": 2,
            "linecolor": "white",
            "showbackground": true,
            "ticks": "",
            "zerolinecolor": "white"
           },
           "yaxis": {
            "backgroundcolor": "#E5ECF6",
            "gridcolor": "white",
            "gridwidth": 2,
            "linecolor": "white",
            "showbackground": true,
            "ticks": "",
            "zerolinecolor": "white"
           },
           "zaxis": {
            "backgroundcolor": "#E5ECF6",
            "gridcolor": "white",
            "gridwidth": 2,
            "linecolor": "white",
            "showbackground": true,
            "ticks": "",
            "zerolinecolor": "white"
           }
          },
          "shapedefaults": {
           "line": {
            "color": "#2a3f5f"
           }
          },
          "ternary": {
           "aaxis": {
            "gridcolor": "white",
            "linecolor": "white",
            "ticks": ""
           },
           "baxis": {
            "gridcolor": "white",
            "linecolor": "white",
            "ticks": ""
           },
           "bgcolor": "#E5ECF6",
           "caxis": {
            "gridcolor": "white",
            "linecolor": "white",
            "ticks": ""
           }
          },
          "title": {
           "x": 0.05
          },
          "xaxis": {
           "automargin": true,
           "gridcolor": "white",
           "linecolor": "white",
           "ticks": "",
           "title": {
            "standoff": 15
           },
           "zerolinecolor": "white",
           "zerolinewidth": 2
          },
          "yaxis": {
           "automargin": true,
           "gridcolor": "white",
           "linecolor": "white",
           "ticks": "",
           "title": {
            "standoff": 15
           },
           "zerolinecolor": "white",
           "zerolinewidth": 2
          }
         }
        },
        "width": 400
       }
      }
     },
     "metadata": {},
     "output_type": "display_data"
    }
   ],
   "source": [
    "import plotly.express as px\n",
    "# Preprocess data for polar plot\n",
    "color_palette = px.colors.sequential.Magma_r  # Original palette\n",
    "target_length = len(modality_shift)\n",
    "color_palette = generate_palette(color_palette, target_length)\n",
    "\n",
    "categories = df.columns[-8:]  # Exclude the first column (Model.Metric)\n",
    "values = df.iloc[:, -8:].values  # Exclude the first column\n",
    "\n",
    "categories = [category.replace(\"Classification\", \"Class\").replace(\"Zero Shot\", \"ZS\").replace(\"Image\", \"Img\").replace(\"Regression\", \"Reg\").replace(\"Few Shot\", \"FS\").replace(\"Segmentation\", \"Seg\") for category in categories]  # Shorten the category names\n",
    "# dataframe that includes only Model.Metrics matching entries in pretraining_shift\n",
    "new_df = df[df['Model.Metric'].isin(modality_shift)]\n",
    "columns = new_df.columns\n",
    "# gaussian normalization\n",
    "for col in columns[1:]:\n",
    "    new_df[col] = (new_df[col] - new_df[col].mean()) / new_df[col].std()\n",
    "values = new_df.iloc[:, -8:].values  # Exclude the first column\n",
    "new_df = new_df.reset_index(drop=True)\n",
    "# Create polar plot for each model\n",
    "fig = go.Figure()\n",
    "for i, model in enumerate(modality_shift):\n",
    "    id = new_df[new_df['Model.Metric'] == model].index[0]\n",
    "    color_index = i % len(color_palette)  # Ensure the index is within the range of the color palette\n",
    "    fig.add_trace(go.Scatterpolar(\n",
    "        r=values[i],\n",
    "        theta=categories,\n",
    "        name=model,\n",
    "        mode='lines',\n",
    "        line=dict(color=color_palette[color_index])  \n",
    "        \n",
    "    ))\n",
    "    fig.add_trace(go.Scatterpolar(\n",
    "        r=[values[i][0], values[i][-1]],\n",
    "        theta=[categories[0], categories[-1]],\n",
    "        name=model,\n",
    "        mode='lines',\n",
    "        showlegend=False,\n",
    "        line=dict(color=color_palette[color_index]) \n",
    "        \n",
    "    ))\n",
    "    \n",
    "    \n",
    "\n",
    "# Update layout\n",
    "fig.update_layout(\n",
    "    height=400,\n",
    "    width=400,\n",
    "    autosize=True,\n",
    "    margin=dict(\n",
    "            l=50,\n",
    "            r=50,\n",
    "            b=50,\n",
    "            t=100,\n",
    "            pad=4\n",
    "        ),\n",
    "    font=dict(\n",
    "        size=8\n",
    "    ),\n",
    ")\n",
    "\n",
    "# make legend smaller and move it to the top center\n",
    "fig.update_layout(\n",
    "    legend=dict(\n",
    "        orientation=\"h\",\n",
    "        yanchor=\"top\",\n",
    "        y=1.4,\n",
    "        xanchor=\"center\",\n",
    "        x=0.5\n",
    "    )\n",
    ")\n",
    "\n",
    "fig.show()\n",
    "fig.write_image(\"modality_polar_plot.pdf\")\n",
    "fig.write_image(\"modality_polar_plot.png\")"
   ]
  },
  {
   "cell_type": "code",
   "execution_count": 1294,
   "metadata": {},
   "outputs": [
    {
     "data": {
      "text/html": [
       "<pre style=\"white-space:pre;overflow-x:auto;line-height:normal;font-family:Menlo,'DejaVu Sans Mono',consolas,'Courier New',monospace\"><span style=\"font-weight: bold\">[</span>\n",
       "    <span style=\"color: #008000; text-decoration-color: #008000\">'Model.Metric'</span>,\n",
       "    <span style=\"color: #008000; text-decoration-color: #008000\">'cifar100.loss'</span>,\n",
       "    <span style=\"color: #008000; text-decoration-color: #008000\">'cifar100.acc@1'</span>,\n",
       "    <span style=\"color: #008000; text-decoration-color: #008000\">'cifar100.acc@5'</span>,\n",
       "    <span style=\"color: #008000; text-decoration-color: #008000\">'food101.loss'</span>,\n",
       "    <span style=\"color: #008000; text-decoration-color: #008000\">'food101.acc@5'</span>,\n",
       "    <span style=\"color: #008000; text-decoration-color: #008000\">'food101.acc@1'</span>,\n",
       "    <span style=\"color: #008000; text-decoration-color: #008000\">'imagenet1k.loss'</span>,\n",
       "    <span style=\"color: #008000; text-decoration-color: #008000\">'imagenet1k.acc@5'</span>,\n",
       "    <span style=\"color: #008000; text-decoration-color: #008000\">'imagenet1k.acc@1'</span>,\n",
       "    <span style=\"color: #008000; text-decoration-color: #008000\">'places365.loss'</span>,\n",
       "    <span style=\"color: #008000; text-decoration-color: #008000\">'places365.acc@5'</span>,\n",
       "    <span style=\"color: #008000; text-decoration-color: #008000\">'places365.acc@1'</span>,\n",
       "    <span style=\"color: #008000; text-decoration-color: #008000\">'fungi.acc@1'</span>,\n",
       "    <span style=\"color: #008000; text-decoration-color: #008000\">'mini.acc@1'</span>,\n",
       "    <span style=\"color: #008000; text-decoration-color: #008000\">'omniglot.acc@1'</span>,\n",
       "    <span style=\"color: #008000; text-decoration-color: #008000\">'vgg.acc@1'</span>,\n",
       "    <span style=\"color: #008000; text-decoration-color: #008000\">'aircraft.acc@1'</span>,\n",
       "    <span style=\"color: #008000; text-decoration-color: #008000\">'dtextures.acc@1'</span>,\n",
       "    <span style=\"color: #008000; text-decoration-color: #008000\">'cubirds.acc@1'</span>,\n",
       "    <span style=\"color: #008000; text-decoration-color: #008000\">'ade20k.dice-loss'</span>,\n",
       "    <span style=\"color: #008000; text-decoration-color: #008000\">'ade20k.mIoU'</span>,\n",
       "    <span style=\"color: #008000; text-decoration-color: #008000\">'coco-10k.mIoU'</span>,\n",
       "    <span style=\"color: #008000; text-decoration-color: #008000\">'coco-10k.dice-loss'</span>,\n",
       "    <span style=\"color: #008000; text-decoration-color: #008000\">'coco-164k.mIoU'</span>,\n",
       "    <span style=\"color: #008000; text-decoration-color: #008000\">'coco-164k.dice-loss'</span>,\n",
       "    <span style=\"color: #008000; text-decoration-color: #008000\">'cityscapes.mIoU'</span>,\n",
       "    <span style=\"color: #008000; text-decoration-color: #008000\">'cityscapes.dice-loss'</span>,\n",
       "    <span style=\"color: #008000; text-decoration-color: #008000\">'nyu.mIoU'</span>,\n",
       "    <span style=\"color: #008000; text-decoration-color: #008000\">'nyu.dice-loss'</span>,\n",
       "    <span style=\"color: #008000; text-decoration-color: #008000\">'pascal.mIoU'</span>,\n",
       "    <span style=\"color: #008000; text-decoration-color: #008000\">'pascal.dice-loss'</span>,\n",
       "    <span style=\"color: #008000; text-decoration-color: #008000\">'clevr.acc@1'</span>,\n",
       "    <span style=\"color: #008000; text-decoration-color: #008000\">'clevr-math.acc@5'</span>,\n",
       "    <span style=\"color: #008000; text-decoration-color: #008000\">'clevr-math.acc@1'</span>,\n",
       "    <span style=\"color: #008000; text-decoration-color: #008000\">'ham10k.auc'</span>,\n",
       "    <span style=\"color: #008000; text-decoration-color: #008000\">'chexpert.auc'</span>,\n",
       "    <span style=\"color: #008000; text-decoration-color: #008000\">'diabetic.auc'</span>,\n",
       "    <span style=\"color: #008000; text-decoration-color: #008000\">'acdc.dice-loss'</span>,\n",
       "    <span style=\"color: #008000; text-decoration-color: #008000\">'flickr30k.text-to-image-acc@5'</span>,\n",
       "    <span style=\"color: #008000; text-decoration-color: #008000\">'flickr30k.text-to-image-acc@1'</span>,\n",
       "    <span style=\"color: #008000; text-decoration-color: #008000\">'flickr30k.image-to-text-acc@1'</span>,\n",
       "    <span style=\"color: #008000; text-decoration-color: #008000\">'flickr30k.image-to-text-acc@5'</span>,\n",
       "    <span style=\"color: #008000; text-decoration-color: #008000\">'newyorkercaptioncontest.text-to-image-acc@5'</span>,\n",
       "    <span style=\"color: #008000; text-decoration-color: #008000\">'newyorkercaptioncontest.text-to-image-acc@1'</span>,\n",
       "    <span style=\"color: #008000; text-decoration-color: #008000\">'newyorkercaptioncontest.image-to-text-acc@1'</span>,\n",
       "    <span style=\"color: #008000; text-decoration-color: #008000\">'newyorkercaptioncontest.image-to-text-acc@5'</span>,\n",
       "    <span style=\"color: #008000; text-decoration-color: #008000\">'pokemonblipcaptions.text-to-image-acc@5'</span>,\n",
       "    <span style=\"color: #008000; text-decoration-color: #008000\">'pokemonblipcaptions.text-to-image-acc@1'</span>,\n",
       "    <span style=\"color: #008000; text-decoration-color: #008000\">'pokemonblipcaptions.image-to-text-acc@1'</span>,\n",
       "    <span style=\"color: #008000; text-decoration-color: #008000\">'pokemonblipcaptions.image-to-text-acc@5'</span>,\n",
       "    <span style=\"color: #008000; text-decoration-color: #008000\">'winoground.image-to-text-acc@1'</span>,\n",
       "    <span style=\"color: #008000; text-decoration-color: #008000\">'winoground.text-to-image-acc@1'</span>,\n",
       "    <span style=\"color: #008000; text-decoration-color: #008000\">'kinetics.acc@5'</span>,\n",
       "    <span style=\"color: #008000; text-decoration-color: #008000\">'kinetics.acc@1'</span>,\n",
       "    <span style=\"color: #008000; text-decoration-color: #008000\">'hmdb51.acc@5'</span>,\n",
       "    <span style=\"color: #008000; text-decoration-color: #008000\">'hmdb51.acc@1'</span>,\n",
       "    <span style=\"color: #008000; text-decoration-color: #008000\">'ucf.acc@5'</span>,\n",
       "    <span style=\"color: #008000; text-decoration-color: #008000\">'ucf.acc@1'</span>,\n",
       "    <span style=\"color: #008000; text-decoration-color: #008000\">'iwildcam.mae'</span>,\n",
       "    <span style=\"color: #008000; text-decoration-color: #008000\">'Image Classification'</span>,\n",
       "    <span style=\"color: #008000; text-decoration-color: #008000\">'Few Shot Image Classification'</span>,\n",
       "    <span style=\"color: #008000; text-decoration-color: #008000\">'Image Segmentation'</span>,\n",
       "    <span style=\"color: #008000; text-decoration-color: #008000\">'Image Relational Reasoning'</span>,\n",
       "    <span style=\"color: #008000; text-decoration-color: #008000\">'Medical Classification/Segmentation'</span>,\n",
       "    <span style=\"color: #008000; text-decoration-color: #008000\">'Image to Text Zero Shot Learning'</span>,\n",
       "    <span style=\"color: #008000; text-decoration-color: #008000\">'Video Classification'</span>,\n",
       "    <span style=\"color: #008000; text-decoration-color: #008000\">'Video Regression'</span>\n",
       "<span style=\"font-weight: bold\">]</span>\n",
       "</pre>\n"
      ],
      "text/plain": [
       "\u001b[1m[\u001b[0m\n",
       "    \u001b[32m'Model.Metric'\u001b[0m,\n",
       "    \u001b[32m'cifar100.loss'\u001b[0m,\n",
       "    \u001b[32m'cifar100.acc@1'\u001b[0m,\n",
       "    \u001b[32m'cifar100.acc@5'\u001b[0m,\n",
       "    \u001b[32m'food101.loss'\u001b[0m,\n",
       "    \u001b[32m'food101.acc@5'\u001b[0m,\n",
       "    \u001b[32m'food101.acc@1'\u001b[0m,\n",
       "    \u001b[32m'imagenet1k.loss'\u001b[0m,\n",
       "    \u001b[32m'imagenet1k.acc@5'\u001b[0m,\n",
       "    \u001b[32m'imagenet1k.acc@1'\u001b[0m,\n",
       "    \u001b[32m'places365.loss'\u001b[0m,\n",
       "    \u001b[32m'places365.acc@5'\u001b[0m,\n",
       "    \u001b[32m'places365.acc@1'\u001b[0m,\n",
       "    \u001b[32m'fungi.acc@1'\u001b[0m,\n",
       "    \u001b[32m'mini.acc@1'\u001b[0m,\n",
       "    \u001b[32m'omniglot.acc@1'\u001b[0m,\n",
       "    \u001b[32m'vgg.acc@1'\u001b[0m,\n",
       "    \u001b[32m'aircraft.acc@1'\u001b[0m,\n",
       "    \u001b[32m'dtextures.acc@1'\u001b[0m,\n",
       "    \u001b[32m'cubirds.acc@1'\u001b[0m,\n",
       "    \u001b[32m'ade20k.dice-loss'\u001b[0m,\n",
       "    \u001b[32m'ade20k.mIoU'\u001b[0m,\n",
       "    \u001b[32m'coco-10k.mIoU'\u001b[0m,\n",
       "    \u001b[32m'coco-10k.dice-loss'\u001b[0m,\n",
       "    \u001b[32m'coco-164k.mIoU'\u001b[0m,\n",
       "    \u001b[32m'coco-164k.dice-loss'\u001b[0m,\n",
       "    \u001b[32m'cityscapes.mIoU'\u001b[0m,\n",
       "    \u001b[32m'cityscapes.dice-loss'\u001b[0m,\n",
       "    \u001b[32m'nyu.mIoU'\u001b[0m,\n",
       "    \u001b[32m'nyu.dice-loss'\u001b[0m,\n",
       "    \u001b[32m'pascal.mIoU'\u001b[0m,\n",
       "    \u001b[32m'pascal.dice-loss'\u001b[0m,\n",
       "    \u001b[32m'clevr.acc@1'\u001b[0m,\n",
       "    \u001b[32m'clevr-math.acc@5'\u001b[0m,\n",
       "    \u001b[32m'clevr-math.acc@1'\u001b[0m,\n",
       "    \u001b[32m'ham10k.auc'\u001b[0m,\n",
       "    \u001b[32m'chexpert.auc'\u001b[0m,\n",
       "    \u001b[32m'diabetic.auc'\u001b[0m,\n",
       "    \u001b[32m'acdc.dice-loss'\u001b[0m,\n",
       "    \u001b[32m'flickr30k.text-to-image-acc@5'\u001b[0m,\n",
       "    \u001b[32m'flickr30k.text-to-image-acc@1'\u001b[0m,\n",
       "    \u001b[32m'flickr30k.image-to-text-acc@1'\u001b[0m,\n",
       "    \u001b[32m'flickr30k.image-to-text-acc@5'\u001b[0m,\n",
       "    \u001b[32m'newyorkercaptioncontest.text-to-image-acc@5'\u001b[0m,\n",
       "    \u001b[32m'newyorkercaptioncontest.text-to-image-acc@1'\u001b[0m,\n",
       "    \u001b[32m'newyorkercaptioncontest.image-to-text-acc@1'\u001b[0m,\n",
       "    \u001b[32m'newyorkercaptioncontest.image-to-text-acc@5'\u001b[0m,\n",
       "    \u001b[32m'pokemonblipcaptions.text-to-image-acc@5'\u001b[0m,\n",
       "    \u001b[32m'pokemonblipcaptions.text-to-image-acc@1'\u001b[0m,\n",
       "    \u001b[32m'pokemonblipcaptions.image-to-text-acc@1'\u001b[0m,\n",
       "    \u001b[32m'pokemonblipcaptions.image-to-text-acc@5'\u001b[0m,\n",
       "    \u001b[32m'winoground.image-to-text-acc@1'\u001b[0m,\n",
       "    \u001b[32m'winoground.text-to-image-acc@1'\u001b[0m,\n",
       "    \u001b[32m'kinetics.acc@5'\u001b[0m,\n",
       "    \u001b[32m'kinetics.acc@1'\u001b[0m,\n",
       "    \u001b[32m'hmdb51.acc@5'\u001b[0m,\n",
       "    \u001b[32m'hmdb51.acc@1'\u001b[0m,\n",
       "    \u001b[32m'ucf.acc@5'\u001b[0m,\n",
       "    \u001b[32m'ucf.acc@1'\u001b[0m,\n",
       "    \u001b[32m'iwildcam.mae'\u001b[0m,\n",
       "    \u001b[32m'Image Classification'\u001b[0m,\n",
       "    \u001b[32m'Few Shot Image Classification'\u001b[0m,\n",
       "    \u001b[32m'Image Segmentation'\u001b[0m,\n",
       "    \u001b[32m'Image Relational Reasoning'\u001b[0m,\n",
       "    \u001b[32m'Medical Classification/Segmentation'\u001b[0m,\n",
       "    \u001b[32m'Image to Text Zero Shot Learning'\u001b[0m,\n",
       "    \u001b[32m'Video Classification'\u001b[0m,\n",
       "    \u001b[32m'Video Regression'\u001b[0m\n",
       "\u001b[1m]\u001b[0m\n"
      ]
     },
     "metadata": {},
     "output_type": "display_data"
    }
   ],
   "source": [
    "column_names = list(df.columns)\n",
    "\n",
    "print(column_names)"
   ]
  },
  {
   "cell_type": "code",
   "execution_count": 1295,
   "metadata": {},
   "outputs": [
    {
     "data": {
      "text/html": [
       "<pre style=\"white-space:pre;overflow-x:auto;line-height:normal;font-family:Menlo,'DejaVu Sans Mono',consolas,'Courier New',monospace\"><span style=\"font-weight: bold\">{</span>\n",
       "    <span style=\"color: #008000; text-decoration-color: #008000\">'Image Classification'</span>: <span style=\"font-weight: bold\">[</span>\n",
       "        <span style=\"color: #008000; text-decoration-color: #008000\">'cifar100.loss'</span>,\n",
       "        <span style=\"color: #008000; text-decoration-color: #008000\">'cifar100.acc@1'</span>,\n",
       "        <span style=\"color: #008000; text-decoration-color: #008000\">'cifar100.acc@5'</span>,\n",
       "        <span style=\"color: #008000; text-decoration-color: #008000\">'food101.loss'</span>,\n",
       "        <span style=\"color: #008000; text-decoration-color: #008000\">'food101.acc@5'</span>,\n",
       "        <span style=\"color: #008000; text-decoration-color: #008000\">'food101.acc@1'</span>,\n",
       "        <span style=\"color: #008000; text-decoration-color: #008000\">'imagenet1k.loss'</span>,\n",
       "        <span style=\"color: #008000; text-decoration-color: #008000\">'imagenet1k.acc@5'</span>,\n",
       "        <span style=\"color: #008000; text-decoration-color: #008000\">'imagenet1k.acc@1'</span>,\n",
       "        <span style=\"color: #008000; text-decoration-color: #008000\">'places365.loss'</span>,\n",
       "        <span style=\"color: #008000; text-decoration-color: #008000\">'places365.acc@5'</span>,\n",
       "        <span style=\"color: #008000; text-decoration-color: #008000\">'places365.acc@1'</span>\n",
       "    <span style=\"font-weight: bold\">]</span>,\n",
       "    <span style=\"color: #008000; text-decoration-color: #008000\">'Few Shot Image Classification'</span>: <span style=\"font-weight: bold\">[</span>\n",
       "        <span style=\"color: #008000; text-decoration-color: #008000\">'fungi.acc@1'</span>,\n",
       "        <span style=\"color: #008000; text-decoration-color: #008000\">'mini.acc@1'</span>,\n",
       "        <span style=\"color: #008000; text-decoration-color: #008000\">'omniglot.acc@1'</span>,\n",
       "        <span style=\"color: #008000; text-decoration-color: #008000\">'vgg.acc@1'</span>,\n",
       "        <span style=\"color: #008000; text-decoration-color: #008000\">'aircraft.acc@1'</span>,\n",
       "        <span style=\"color: #008000; text-decoration-color: #008000\">'dtextures.acc@1'</span>,\n",
       "        <span style=\"color: #008000; text-decoration-color: #008000\">'cubirds.acc@1'</span>\n",
       "    <span style=\"font-weight: bold\">]</span>,\n",
       "    <span style=\"color: #008000; text-decoration-color: #008000\">'Image Segmentation'</span>: <span style=\"font-weight: bold\">[</span>\n",
       "        <span style=\"color: #008000; text-decoration-color: #008000\">'ade20k.dice-loss'</span>,\n",
       "        <span style=\"color: #008000; text-decoration-color: #008000\">'ade20k.mIoU'</span>,\n",
       "        <span style=\"color: #008000; text-decoration-color: #008000\">'coco-10k.mIoU'</span>,\n",
       "        <span style=\"color: #008000; text-decoration-color: #008000\">'coco-10k.dice-loss'</span>,\n",
       "        <span style=\"color: #008000; text-decoration-color: #008000\">'coco-164k.mIoU'</span>,\n",
       "        <span style=\"color: #008000; text-decoration-color: #008000\">'coco-164k.dice-loss'</span>,\n",
       "        <span style=\"color: #008000; text-decoration-color: #008000\">'cityscapes.mIoU'</span>,\n",
       "        <span style=\"color: #008000; text-decoration-color: #008000\">'cityscapes.dice-loss'</span>,\n",
       "        <span style=\"color: #008000; text-decoration-color: #008000\">'nyu.mIoU'</span>,\n",
       "        <span style=\"color: #008000; text-decoration-color: #008000\">'nyu.dice-loss'</span>,\n",
       "        <span style=\"color: #008000; text-decoration-color: #008000\">'pascal.mIoU'</span>,\n",
       "        <span style=\"color: #008000; text-decoration-color: #008000\">'pascal.dice-loss'</span>\n",
       "    <span style=\"font-weight: bold\">]</span>,\n",
       "    <span style=\"color: #008000; text-decoration-color: #008000\">'Image Relational Reasoning'</span>: <span style=\"font-weight: bold\">[</span><span style=\"color: #008000; text-decoration-color: #008000\">'clevr.acc@1'</span>, <span style=\"color: #008000; text-decoration-color: #008000\">'clevr-math.acc@5'</span>, <span style=\"color: #008000; text-decoration-color: #008000\">'clevr-math.acc@1'</span><span style=\"font-weight: bold\">]</span>,\n",
       "    <span style=\"color: #008000; text-decoration-color: #008000\">'Medical Classification/Segmentation'</span>: <span style=\"font-weight: bold\">[</span><span style=\"color: #008000; text-decoration-color: #008000\">'ham10k.auc'</span>, <span style=\"color: #008000; text-decoration-color: #008000\">'chexpert.auc'</span>, <span style=\"color: #008000; text-decoration-color: #008000\">'diabetic.auc'</span>, <span style=\"color: #008000; text-decoration-color: #008000\">'acdc.dice-loss'</span><span style=\"font-weight: bold\">]</span>,\n",
       "    <span style=\"color: #008000; text-decoration-color: #008000\">'Image to Text Zero Shot Learning'</span>: <span style=\"font-weight: bold\">[</span>\n",
       "        <span style=\"color: #008000; text-decoration-color: #008000\">'flickr30k.text-to-image-acc@5'</span>,\n",
       "        <span style=\"color: #008000; text-decoration-color: #008000\">'flickr30k.text-to-image-acc@1'</span>,\n",
       "        <span style=\"color: #008000; text-decoration-color: #008000\">'flickr30k.image-to-text-acc@1'</span>,\n",
       "        <span style=\"color: #008000; text-decoration-color: #008000\">'flickr30k.image-to-text-acc@5'</span>,\n",
       "        <span style=\"color: #008000; text-decoration-color: #008000\">'newyorkercaptioncontest.text-to-image-acc@5'</span>,\n",
       "        <span style=\"color: #008000; text-decoration-color: #008000\">'newyorkercaptioncontest.text-to-image-acc@1'</span>,\n",
       "        <span style=\"color: #008000; text-decoration-color: #008000\">'newyorkercaptioncontest.image-to-text-acc@1'</span>,\n",
       "        <span style=\"color: #008000; text-decoration-color: #008000\">'newyorkercaptioncontest.image-to-text-acc@5'</span>,\n",
       "        <span style=\"color: #008000; text-decoration-color: #008000\">'pokemonblipcaptions.text-to-image-acc@5'</span>,\n",
       "        <span style=\"color: #008000; text-decoration-color: #008000\">'pokemonblipcaptions.text-to-image-acc@1'</span>,\n",
       "        <span style=\"color: #008000; text-decoration-color: #008000\">'pokemonblipcaptions.image-to-text-acc@1'</span>,\n",
       "        <span style=\"color: #008000; text-decoration-color: #008000\">'pokemonblipcaptions.image-to-text-acc@5'</span>,\n",
       "        <span style=\"color: #008000; text-decoration-color: #008000\">'winoground.image-to-text-acc@1'</span>,\n",
       "        <span style=\"color: #008000; text-decoration-color: #008000\">'winoground.text-to-image-acc@1'</span>\n",
       "    <span style=\"font-weight: bold\">]</span>,\n",
       "    <span style=\"color: #008000; text-decoration-color: #008000\">'Video Classification'</span>: <span style=\"font-weight: bold\">[</span>\n",
       "        <span style=\"color: #008000; text-decoration-color: #008000\">'kinetics.acc@5'</span>,\n",
       "        <span style=\"color: #008000; text-decoration-color: #008000\">'kinetics.acc@1'</span>,\n",
       "        <span style=\"color: #008000; text-decoration-color: #008000\">'hmdb51.acc@5'</span>,\n",
       "        <span style=\"color: #008000; text-decoration-color: #008000\">'hmdb51.acc@1'</span>,\n",
       "        <span style=\"color: #008000; text-decoration-color: #008000\">'ucf.acc@5'</span>,\n",
       "        <span style=\"color: #008000; text-decoration-color: #008000\">'ucf.acc@1'</span>\n",
       "    <span style=\"font-weight: bold\">]</span>,\n",
       "    <span style=\"color: #008000; text-decoration-color: #008000\">'Video Regression'</span>: <span style=\"font-weight: bold\">[</span><span style=\"color: #008000; text-decoration-color: #008000\">'iwildcam.mae'</span><span style=\"font-weight: bold\">]</span>\n",
       "<span style=\"font-weight: bold\">}</span>\n",
       "</pre>\n"
      ],
      "text/plain": [
       "\u001b[1m{\u001b[0m\n",
       "    \u001b[32m'Image Classification'\u001b[0m: \u001b[1m[\u001b[0m\n",
       "        \u001b[32m'cifar100.loss'\u001b[0m,\n",
       "        \u001b[32m'cifar100.acc@1'\u001b[0m,\n",
       "        \u001b[32m'cifar100.acc@5'\u001b[0m,\n",
       "        \u001b[32m'food101.loss'\u001b[0m,\n",
       "        \u001b[32m'food101.acc@5'\u001b[0m,\n",
       "        \u001b[32m'food101.acc@1'\u001b[0m,\n",
       "        \u001b[32m'imagenet1k.loss'\u001b[0m,\n",
       "        \u001b[32m'imagenet1k.acc@5'\u001b[0m,\n",
       "        \u001b[32m'imagenet1k.acc@1'\u001b[0m,\n",
       "        \u001b[32m'places365.loss'\u001b[0m,\n",
       "        \u001b[32m'places365.acc@5'\u001b[0m,\n",
       "        \u001b[32m'places365.acc@1'\u001b[0m\n",
       "    \u001b[1m]\u001b[0m,\n",
       "    \u001b[32m'Few Shot Image Classification'\u001b[0m: \u001b[1m[\u001b[0m\n",
       "        \u001b[32m'fungi.acc@1'\u001b[0m,\n",
       "        \u001b[32m'mini.acc@1'\u001b[0m,\n",
       "        \u001b[32m'omniglot.acc@1'\u001b[0m,\n",
       "        \u001b[32m'vgg.acc@1'\u001b[0m,\n",
       "        \u001b[32m'aircraft.acc@1'\u001b[0m,\n",
       "        \u001b[32m'dtextures.acc@1'\u001b[0m,\n",
       "        \u001b[32m'cubirds.acc@1'\u001b[0m\n",
       "    \u001b[1m]\u001b[0m,\n",
       "    \u001b[32m'Image Segmentation'\u001b[0m: \u001b[1m[\u001b[0m\n",
       "        \u001b[32m'ade20k.dice-loss'\u001b[0m,\n",
       "        \u001b[32m'ade20k.mIoU'\u001b[0m,\n",
       "        \u001b[32m'coco-10k.mIoU'\u001b[0m,\n",
       "        \u001b[32m'coco-10k.dice-loss'\u001b[0m,\n",
       "        \u001b[32m'coco-164k.mIoU'\u001b[0m,\n",
       "        \u001b[32m'coco-164k.dice-loss'\u001b[0m,\n",
       "        \u001b[32m'cityscapes.mIoU'\u001b[0m,\n",
       "        \u001b[32m'cityscapes.dice-loss'\u001b[0m,\n",
       "        \u001b[32m'nyu.mIoU'\u001b[0m,\n",
       "        \u001b[32m'nyu.dice-loss'\u001b[0m,\n",
       "        \u001b[32m'pascal.mIoU'\u001b[0m,\n",
       "        \u001b[32m'pascal.dice-loss'\u001b[0m\n",
       "    \u001b[1m]\u001b[0m,\n",
       "    \u001b[32m'Image Relational Reasoning'\u001b[0m: \u001b[1m[\u001b[0m\u001b[32m'clevr.acc@1'\u001b[0m, \u001b[32m'clevr-math.acc@5'\u001b[0m, \u001b[32m'clevr-math.acc@1'\u001b[0m\u001b[1m]\u001b[0m,\n",
       "    \u001b[32m'Medical Classification/Segmentation'\u001b[0m: \u001b[1m[\u001b[0m\u001b[32m'ham10k.auc'\u001b[0m, \u001b[32m'chexpert.auc'\u001b[0m, \u001b[32m'diabetic.auc'\u001b[0m, \u001b[32m'acdc.dice-loss'\u001b[0m\u001b[1m]\u001b[0m,\n",
       "    \u001b[32m'Image to Text Zero Shot Learning'\u001b[0m: \u001b[1m[\u001b[0m\n",
       "        \u001b[32m'flickr30k.text-to-image-acc@5'\u001b[0m,\n",
       "        \u001b[32m'flickr30k.text-to-image-acc@1'\u001b[0m,\n",
       "        \u001b[32m'flickr30k.image-to-text-acc@1'\u001b[0m,\n",
       "        \u001b[32m'flickr30k.image-to-text-acc@5'\u001b[0m,\n",
       "        \u001b[32m'newyorkercaptioncontest.text-to-image-acc@5'\u001b[0m,\n",
       "        \u001b[32m'newyorkercaptioncontest.text-to-image-acc@1'\u001b[0m,\n",
       "        \u001b[32m'newyorkercaptioncontest.image-to-text-acc@1'\u001b[0m,\n",
       "        \u001b[32m'newyorkercaptioncontest.image-to-text-acc@5'\u001b[0m,\n",
       "        \u001b[32m'pokemonblipcaptions.text-to-image-acc@5'\u001b[0m,\n",
       "        \u001b[32m'pokemonblipcaptions.text-to-image-acc@1'\u001b[0m,\n",
       "        \u001b[32m'pokemonblipcaptions.image-to-text-acc@1'\u001b[0m,\n",
       "        \u001b[32m'pokemonblipcaptions.image-to-text-acc@5'\u001b[0m,\n",
       "        \u001b[32m'winoground.image-to-text-acc@1'\u001b[0m,\n",
       "        \u001b[32m'winoground.text-to-image-acc@1'\u001b[0m\n",
       "    \u001b[1m]\u001b[0m,\n",
       "    \u001b[32m'Video Classification'\u001b[0m: \u001b[1m[\u001b[0m\n",
       "        \u001b[32m'kinetics.acc@5'\u001b[0m,\n",
       "        \u001b[32m'kinetics.acc@1'\u001b[0m,\n",
       "        \u001b[32m'hmdb51.acc@5'\u001b[0m,\n",
       "        \u001b[32m'hmdb51.acc@1'\u001b[0m,\n",
       "        \u001b[32m'ucf.acc@5'\u001b[0m,\n",
       "        \u001b[32m'ucf.acc@1'\u001b[0m\n",
       "    \u001b[1m]\u001b[0m,\n",
       "    \u001b[32m'Video Regression'\u001b[0m: \u001b[1m[\u001b[0m\u001b[32m'iwildcam.mae'\u001b[0m\u001b[1m]\u001b[0m\n",
       "\u001b[1m}\u001b[0m\n"
      ]
     },
     "metadata": {},
     "output_type": "display_data"
    },
    {
     "data": {
      "text/html": [
       "<pre style=\"white-space:pre;overflow-x:auto;line-height:normal;font-family:Menlo,'DejaVu Sans Mono',consolas,'Courier New',monospace\"><span style=\"font-weight: bold\">{</span>\n",
       "    <span style=\"color: #008000; text-decoration-color: #008000\">'cifar100.loss'</span>: <span style=\"color: #008080; text-decoration-color: #008080; font-weight: bold\">0.010416666666666666</span>,\n",
       "    <span style=\"color: #008000; text-decoration-color: #008000\">'cifar100.acc@1'</span>: <span style=\"color: #008080; text-decoration-color: #008080; font-weight: bold\">0.010416666666666666</span>,\n",
       "    <span style=\"color: #008000; text-decoration-color: #008000\">'cifar100.acc@5'</span>: <span style=\"color: #008080; text-decoration-color: #008080; font-weight: bold\">0.010416666666666666</span>,\n",
       "    <span style=\"color: #008000; text-decoration-color: #008000\">'food101.loss'</span>: <span style=\"color: #008080; text-decoration-color: #008080; font-weight: bold\">0.010416666666666666</span>,\n",
       "    <span style=\"color: #008000; text-decoration-color: #008000\">'food101.acc@5'</span>: <span style=\"color: #008080; text-decoration-color: #008080; font-weight: bold\">0.010416666666666666</span>,\n",
       "    <span style=\"color: #008000; text-decoration-color: #008000\">'food101.acc@1'</span>: <span style=\"color: #008080; text-decoration-color: #008080; font-weight: bold\">0.010416666666666666</span>,\n",
       "    <span style=\"color: #008000; text-decoration-color: #008000\">'imagenet1k.loss'</span>: <span style=\"color: #008080; text-decoration-color: #008080; font-weight: bold\">0.010416666666666666</span>,\n",
       "    <span style=\"color: #008000; text-decoration-color: #008000\">'imagenet1k.acc@5'</span>: <span style=\"color: #008080; text-decoration-color: #008080; font-weight: bold\">0.010416666666666666</span>,\n",
       "    <span style=\"color: #008000; text-decoration-color: #008000\">'imagenet1k.acc@1'</span>: <span style=\"color: #008080; text-decoration-color: #008080; font-weight: bold\">0.010416666666666666</span>,\n",
       "    <span style=\"color: #008000; text-decoration-color: #008000\">'places365.loss'</span>: <span style=\"color: #008080; text-decoration-color: #008080; font-weight: bold\">0.010416666666666666</span>,\n",
       "    <span style=\"color: #008000; text-decoration-color: #008000\">'places365.acc@5'</span>: <span style=\"color: #008080; text-decoration-color: #008080; font-weight: bold\">0.010416666666666666</span>,\n",
       "    <span style=\"color: #008000; text-decoration-color: #008000\">'places365.acc@1'</span>: <span style=\"color: #008080; text-decoration-color: #008080; font-weight: bold\">0.010416666666666666</span>,\n",
       "    <span style=\"color: #008000; text-decoration-color: #008000\">'fungi.acc@1'</span>: <span style=\"color: #008080; text-decoration-color: #008080; font-weight: bold\">0.017857142857142856</span>,\n",
       "    <span style=\"color: #008000; text-decoration-color: #008000\">'mini.acc@1'</span>: <span style=\"color: #008080; text-decoration-color: #008080; font-weight: bold\">0.017857142857142856</span>,\n",
       "    <span style=\"color: #008000; text-decoration-color: #008000\">'omniglot.acc@1'</span>: <span style=\"color: #008080; text-decoration-color: #008080; font-weight: bold\">0.017857142857142856</span>,\n",
       "    <span style=\"color: #008000; text-decoration-color: #008000\">'vgg.acc@1'</span>: <span style=\"color: #008080; text-decoration-color: #008080; font-weight: bold\">0.017857142857142856</span>,\n",
       "    <span style=\"color: #008000; text-decoration-color: #008000\">'aircraft.acc@1'</span>: <span style=\"color: #008080; text-decoration-color: #008080; font-weight: bold\">0.017857142857142856</span>,\n",
       "    <span style=\"color: #008000; text-decoration-color: #008000\">'dtextures.acc@1'</span>: <span style=\"color: #008080; text-decoration-color: #008080; font-weight: bold\">0.017857142857142856</span>,\n",
       "    <span style=\"color: #008000; text-decoration-color: #008000\">'cubirds.acc@1'</span>: <span style=\"color: #008080; text-decoration-color: #008080; font-weight: bold\">0.017857142857142856</span>,\n",
       "    <span style=\"color: #008000; text-decoration-color: #008000\">'ade20k.dice-loss'</span>: <span style=\"color: #008080; text-decoration-color: #008080; font-weight: bold\">0.010416666666666666</span>,\n",
       "    <span style=\"color: #008000; text-decoration-color: #008000\">'ade20k.mIoU'</span>: <span style=\"color: #008080; text-decoration-color: #008080; font-weight: bold\">0.010416666666666666</span>,\n",
       "    <span style=\"color: #008000; text-decoration-color: #008000\">'coco-10k.mIoU'</span>: <span style=\"color: #008080; text-decoration-color: #008080; font-weight: bold\">0.010416666666666666</span>,\n",
       "    <span style=\"color: #008000; text-decoration-color: #008000\">'coco-10k.dice-loss'</span>: <span style=\"color: #008080; text-decoration-color: #008080; font-weight: bold\">0.010416666666666666</span>,\n",
       "    <span style=\"color: #008000; text-decoration-color: #008000\">'coco-164k.mIoU'</span>: <span style=\"color: #008080; text-decoration-color: #008080; font-weight: bold\">0.010416666666666666</span>,\n",
       "    <span style=\"color: #008000; text-decoration-color: #008000\">'coco-164k.dice-loss'</span>: <span style=\"color: #008080; text-decoration-color: #008080; font-weight: bold\">0.010416666666666666</span>,\n",
       "    <span style=\"color: #008000; text-decoration-color: #008000\">'cityscapes.mIoU'</span>: <span style=\"color: #008080; text-decoration-color: #008080; font-weight: bold\">0.010416666666666666</span>,\n",
       "    <span style=\"color: #008000; text-decoration-color: #008000\">'cityscapes.dice-loss'</span>: <span style=\"color: #008080; text-decoration-color: #008080; font-weight: bold\">0.010416666666666666</span>,\n",
       "    <span style=\"color: #008000; text-decoration-color: #008000\">'nyu.mIoU'</span>: <span style=\"color: #008080; text-decoration-color: #008080; font-weight: bold\">0.010416666666666666</span>,\n",
       "    <span style=\"color: #008000; text-decoration-color: #008000\">'nyu.dice-loss'</span>: <span style=\"color: #008080; text-decoration-color: #008080; font-weight: bold\">0.010416666666666666</span>,\n",
       "    <span style=\"color: #008000; text-decoration-color: #008000\">'pascal.mIoU'</span>: <span style=\"color: #008080; text-decoration-color: #008080; font-weight: bold\">0.010416666666666666</span>,\n",
       "    <span style=\"color: #008000; text-decoration-color: #008000\">'pascal.dice-loss'</span>: <span style=\"color: #008080; text-decoration-color: #008080; font-weight: bold\">0.010416666666666666</span>,\n",
       "    <span style=\"color: #008000; text-decoration-color: #008000\">'clevr.acc@1'</span>: <span style=\"color: #008080; text-decoration-color: #008080; font-weight: bold\">0.041666666666666664</span>,\n",
       "    <span style=\"color: #008000; text-decoration-color: #008000\">'clevr-math.acc@5'</span>: <span style=\"color: #008080; text-decoration-color: #008080; font-weight: bold\">0.041666666666666664</span>,\n",
       "    <span style=\"color: #008000; text-decoration-color: #008000\">'clevr-math.acc@1'</span>: <span style=\"color: #008080; text-decoration-color: #008080; font-weight: bold\">0.041666666666666664</span>,\n",
       "    <span style=\"color: #008000; text-decoration-color: #008000\">'ham10k.auc'</span>: <span style=\"color: #008080; text-decoration-color: #008080; font-weight: bold\">0.03125</span>,\n",
       "    <span style=\"color: #008000; text-decoration-color: #008000\">'chexpert.auc'</span>: <span style=\"color: #008080; text-decoration-color: #008080; font-weight: bold\">0.03125</span>,\n",
       "    <span style=\"color: #008000; text-decoration-color: #008000\">'diabetic.auc'</span>: <span style=\"color: #008080; text-decoration-color: #008080; font-weight: bold\">0.03125</span>,\n",
       "    <span style=\"color: #008000; text-decoration-color: #008000\">'acdc.dice-loss'</span>: <span style=\"color: #008080; text-decoration-color: #008080; font-weight: bold\">0.03125</span>,\n",
       "    <span style=\"color: #008000; text-decoration-color: #008000\">'flickr30k.text-to-image-acc@5'</span>: <span style=\"color: #008080; text-decoration-color: #008080; font-weight: bold\">0.008928571428571428</span>,\n",
       "    <span style=\"color: #008000; text-decoration-color: #008000\">'flickr30k.text-to-image-acc@1'</span>: <span style=\"color: #008080; text-decoration-color: #008080; font-weight: bold\">0.008928571428571428</span>,\n",
       "    <span style=\"color: #008000; text-decoration-color: #008000\">'flickr30k.image-to-text-acc@1'</span>: <span style=\"color: #008080; text-decoration-color: #008080; font-weight: bold\">0.008928571428571428</span>,\n",
       "    <span style=\"color: #008000; text-decoration-color: #008000\">'flickr30k.image-to-text-acc@5'</span>: <span style=\"color: #008080; text-decoration-color: #008080; font-weight: bold\">0.008928571428571428</span>,\n",
       "    <span style=\"color: #008000; text-decoration-color: #008000\">'newyorkercaptioncontest.text-to-image-acc@5'</span>: <span style=\"color: #008080; text-decoration-color: #008080; font-weight: bold\">0.008928571428571428</span>,\n",
       "    <span style=\"color: #008000; text-decoration-color: #008000\">'newyorkercaptioncontest.text-to-image-acc@1'</span>: <span style=\"color: #008080; text-decoration-color: #008080; font-weight: bold\">0.008928571428571428</span>,\n",
       "    <span style=\"color: #008000; text-decoration-color: #008000\">'newyorkercaptioncontest.image-to-text-acc@1'</span>: <span style=\"color: #008080; text-decoration-color: #008080; font-weight: bold\">0.008928571428571428</span>,\n",
       "    <span style=\"color: #008000; text-decoration-color: #008000\">'newyorkercaptioncontest.image-to-text-acc@5'</span>: <span style=\"color: #008080; text-decoration-color: #008080; font-weight: bold\">0.008928571428571428</span>,\n",
       "    <span style=\"color: #008000; text-decoration-color: #008000\">'pokemonblipcaptions.text-to-image-acc@5'</span>: <span style=\"color: #008080; text-decoration-color: #008080; font-weight: bold\">0.008928571428571428</span>,\n",
       "    <span style=\"color: #008000; text-decoration-color: #008000\">'pokemonblipcaptions.text-to-image-acc@1'</span>: <span style=\"color: #008080; text-decoration-color: #008080; font-weight: bold\">0.008928571428571428</span>,\n",
       "    <span style=\"color: #008000; text-decoration-color: #008000\">'pokemonblipcaptions.image-to-text-acc@1'</span>: <span style=\"color: #008080; text-decoration-color: #008080; font-weight: bold\">0.008928571428571428</span>,\n",
       "    <span style=\"color: #008000; text-decoration-color: #008000\">'pokemonblipcaptions.image-to-text-acc@5'</span>: <span style=\"color: #008080; text-decoration-color: #008080; font-weight: bold\">0.008928571428571428</span>,\n",
       "    <span style=\"color: #008000; text-decoration-color: #008000\">'winoground.image-to-text-acc@1'</span>: <span style=\"color: #008080; text-decoration-color: #008080; font-weight: bold\">0.008928571428571428</span>,\n",
       "    <span style=\"color: #008000; text-decoration-color: #008000\">'winoground.text-to-image-acc@1'</span>: <span style=\"color: #008080; text-decoration-color: #008080; font-weight: bold\">0.008928571428571428</span>,\n",
       "    <span style=\"color: #008000; text-decoration-color: #008000\">'kinetics.acc@5'</span>: <span style=\"color: #008080; text-decoration-color: #008080; font-weight: bold\">0.020833333333333332</span>,\n",
       "    <span style=\"color: #008000; text-decoration-color: #008000\">'kinetics.acc@1'</span>: <span style=\"color: #008080; text-decoration-color: #008080; font-weight: bold\">0.020833333333333332</span>,\n",
       "    <span style=\"color: #008000; text-decoration-color: #008000\">'hmdb51.acc@5'</span>: <span style=\"color: #008080; text-decoration-color: #008080; font-weight: bold\">0.020833333333333332</span>,\n",
       "    <span style=\"color: #008000; text-decoration-color: #008000\">'hmdb51.acc@1'</span>: <span style=\"color: #008080; text-decoration-color: #008080; font-weight: bold\">0.020833333333333332</span>,\n",
       "    <span style=\"color: #008000; text-decoration-color: #008000\">'ucf.acc@5'</span>: <span style=\"color: #008080; text-decoration-color: #008080; font-weight: bold\">0.020833333333333332</span>,\n",
       "    <span style=\"color: #008000; text-decoration-color: #008000\">'ucf.acc@1'</span>: <span style=\"color: #008080; text-decoration-color: #008080; font-weight: bold\">0.020833333333333332</span>,\n",
       "    <span style=\"color: #008000; text-decoration-color: #008000\">'iwildcam.mae'</span>: <span style=\"color: #008080; text-decoration-color: #008080; font-weight: bold\">0.125</span>\n",
       "<span style=\"font-weight: bold\">}</span>\n",
       "</pre>\n"
      ],
      "text/plain": [
       "\u001b[1m{\u001b[0m\n",
       "    \u001b[32m'cifar100.loss'\u001b[0m: \u001b[1;36m0.010416666666666666\u001b[0m,\n",
       "    \u001b[32m'cifar100.acc@1'\u001b[0m: \u001b[1;36m0.010416666666666666\u001b[0m,\n",
       "    \u001b[32m'cifar100.acc@5'\u001b[0m: \u001b[1;36m0.010416666666666666\u001b[0m,\n",
       "    \u001b[32m'food101.loss'\u001b[0m: \u001b[1;36m0.010416666666666666\u001b[0m,\n",
       "    \u001b[32m'food101.acc@5'\u001b[0m: \u001b[1;36m0.010416666666666666\u001b[0m,\n",
       "    \u001b[32m'food101.acc@1'\u001b[0m: \u001b[1;36m0.010416666666666666\u001b[0m,\n",
       "    \u001b[32m'imagenet1k.loss'\u001b[0m: \u001b[1;36m0.010416666666666666\u001b[0m,\n",
       "    \u001b[32m'imagenet1k.acc@5'\u001b[0m: \u001b[1;36m0.010416666666666666\u001b[0m,\n",
       "    \u001b[32m'imagenet1k.acc@1'\u001b[0m: \u001b[1;36m0.010416666666666666\u001b[0m,\n",
       "    \u001b[32m'places365.loss'\u001b[0m: \u001b[1;36m0.010416666666666666\u001b[0m,\n",
       "    \u001b[32m'places365.acc@5'\u001b[0m: \u001b[1;36m0.010416666666666666\u001b[0m,\n",
       "    \u001b[32m'places365.acc@1'\u001b[0m: \u001b[1;36m0.010416666666666666\u001b[0m,\n",
       "    \u001b[32m'fungi.acc@1'\u001b[0m: \u001b[1;36m0.017857142857142856\u001b[0m,\n",
       "    \u001b[32m'mini.acc@1'\u001b[0m: \u001b[1;36m0.017857142857142856\u001b[0m,\n",
       "    \u001b[32m'omniglot.acc@1'\u001b[0m: \u001b[1;36m0.017857142857142856\u001b[0m,\n",
       "    \u001b[32m'vgg.acc@1'\u001b[0m: \u001b[1;36m0.017857142857142856\u001b[0m,\n",
       "    \u001b[32m'aircraft.acc@1'\u001b[0m: \u001b[1;36m0.017857142857142856\u001b[0m,\n",
       "    \u001b[32m'dtextures.acc@1'\u001b[0m: \u001b[1;36m0.017857142857142856\u001b[0m,\n",
       "    \u001b[32m'cubirds.acc@1'\u001b[0m: \u001b[1;36m0.017857142857142856\u001b[0m,\n",
       "    \u001b[32m'ade20k.dice-loss'\u001b[0m: \u001b[1;36m0.010416666666666666\u001b[0m,\n",
       "    \u001b[32m'ade20k.mIoU'\u001b[0m: \u001b[1;36m0.010416666666666666\u001b[0m,\n",
       "    \u001b[32m'coco-10k.mIoU'\u001b[0m: \u001b[1;36m0.010416666666666666\u001b[0m,\n",
       "    \u001b[32m'coco-10k.dice-loss'\u001b[0m: \u001b[1;36m0.010416666666666666\u001b[0m,\n",
       "    \u001b[32m'coco-164k.mIoU'\u001b[0m: \u001b[1;36m0.010416666666666666\u001b[0m,\n",
       "    \u001b[32m'coco-164k.dice-loss'\u001b[0m: \u001b[1;36m0.010416666666666666\u001b[0m,\n",
       "    \u001b[32m'cityscapes.mIoU'\u001b[0m: \u001b[1;36m0.010416666666666666\u001b[0m,\n",
       "    \u001b[32m'cityscapes.dice-loss'\u001b[0m: \u001b[1;36m0.010416666666666666\u001b[0m,\n",
       "    \u001b[32m'nyu.mIoU'\u001b[0m: \u001b[1;36m0.010416666666666666\u001b[0m,\n",
       "    \u001b[32m'nyu.dice-loss'\u001b[0m: \u001b[1;36m0.010416666666666666\u001b[0m,\n",
       "    \u001b[32m'pascal.mIoU'\u001b[0m: \u001b[1;36m0.010416666666666666\u001b[0m,\n",
       "    \u001b[32m'pascal.dice-loss'\u001b[0m: \u001b[1;36m0.010416666666666666\u001b[0m,\n",
       "    \u001b[32m'clevr.acc@1'\u001b[0m: \u001b[1;36m0.041666666666666664\u001b[0m,\n",
       "    \u001b[32m'clevr-math.acc@5'\u001b[0m: \u001b[1;36m0.041666666666666664\u001b[0m,\n",
       "    \u001b[32m'clevr-math.acc@1'\u001b[0m: \u001b[1;36m0.041666666666666664\u001b[0m,\n",
       "    \u001b[32m'ham10k.auc'\u001b[0m: \u001b[1;36m0.03125\u001b[0m,\n",
       "    \u001b[32m'chexpert.auc'\u001b[0m: \u001b[1;36m0.03125\u001b[0m,\n",
       "    \u001b[32m'diabetic.auc'\u001b[0m: \u001b[1;36m0.03125\u001b[0m,\n",
       "    \u001b[32m'acdc.dice-loss'\u001b[0m: \u001b[1;36m0.03125\u001b[0m,\n",
       "    \u001b[32m'flickr30k.text-to-image-acc@5'\u001b[0m: \u001b[1;36m0.008928571428571428\u001b[0m,\n",
       "    \u001b[32m'flickr30k.text-to-image-acc@1'\u001b[0m: \u001b[1;36m0.008928571428571428\u001b[0m,\n",
       "    \u001b[32m'flickr30k.image-to-text-acc@1'\u001b[0m: \u001b[1;36m0.008928571428571428\u001b[0m,\n",
       "    \u001b[32m'flickr30k.image-to-text-acc@5'\u001b[0m: \u001b[1;36m0.008928571428571428\u001b[0m,\n",
       "    \u001b[32m'newyorkercaptioncontest.text-to-image-acc@5'\u001b[0m: \u001b[1;36m0.008928571428571428\u001b[0m,\n",
       "    \u001b[32m'newyorkercaptioncontest.text-to-image-acc@1'\u001b[0m: \u001b[1;36m0.008928571428571428\u001b[0m,\n",
       "    \u001b[32m'newyorkercaptioncontest.image-to-text-acc@1'\u001b[0m: \u001b[1;36m0.008928571428571428\u001b[0m,\n",
       "    \u001b[32m'newyorkercaptioncontest.image-to-text-acc@5'\u001b[0m: \u001b[1;36m0.008928571428571428\u001b[0m,\n",
       "    \u001b[32m'pokemonblipcaptions.text-to-image-acc@5'\u001b[0m: \u001b[1;36m0.008928571428571428\u001b[0m,\n",
       "    \u001b[32m'pokemonblipcaptions.text-to-image-acc@1'\u001b[0m: \u001b[1;36m0.008928571428571428\u001b[0m,\n",
       "    \u001b[32m'pokemonblipcaptions.image-to-text-acc@1'\u001b[0m: \u001b[1;36m0.008928571428571428\u001b[0m,\n",
       "    \u001b[32m'pokemonblipcaptions.image-to-text-acc@5'\u001b[0m: \u001b[1;36m0.008928571428571428\u001b[0m,\n",
       "    \u001b[32m'winoground.image-to-text-acc@1'\u001b[0m: \u001b[1;36m0.008928571428571428\u001b[0m,\n",
       "    \u001b[32m'winoground.text-to-image-acc@1'\u001b[0m: \u001b[1;36m0.008928571428571428\u001b[0m,\n",
       "    \u001b[32m'kinetics.acc@5'\u001b[0m: \u001b[1;36m0.020833333333333332\u001b[0m,\n",
       "    \u001b[32m'kinetics.acc@1'\u001b[0m: \u001b[1;36m0.020833333333333332\u001b[0m,\n",
       "    \u001b[32m'hmdb51.acc@5'\u001b[0m: \u001b[1;36m0.020833333333333332\u001b[0m,\n",
       "    \u001b[32m'hmdb51.acc@1'\u001b[0m: \u001b[1;36m0.020833333333333332\u001b[0m,\n",
       "    \u001b[32m'ucf.acc@5'\u001b[0m: \u001b[1;36m0.020833333333333332\u001b[0m,\n",
       "    \u001b[32m'ucf.acc@1'\u001b[0m: \u001b[1;36m0.020833333333333332\u001b[0m,\n",
       "    \u001b[32m'iwildcam.mae'\u001b[0m: \u001b[1;36m0.125\u001b[0m\n",
       "\u001b[1m}\u001b[0m\n"
      ]
     },
     "metadata": {},
     "output_type": "display_data"
    },
    {
     "data": {
      "text/html": [
       "<pre style=\"white-space:pre;overflow-x:auto;line-height:normal;font-family:Menlo,'DejaVu Sans Mono',consolas,'Courier New',monospace\">Sum of weights: <span style=\"color: #008080; text-decoration-color: #008080; font-weight: bold\">1.0</span>\n",
       "</pre>\n"
      ],
      "text/plain": [
       "Sum of weights: \u001b[1;36m1.0\u001b[0m\n"
      ]
     },
     "metadata": {},
     "output_type": "display_data"
    }
   ],
   "source": [
    "import yaml\n",
    "\n",
    "\n",
    "task_to_dataset = yaml.safe_load(open(\"task_mapping.yaml\"))\n",
    "task_to_dataset = {k: [d for d in v if d in df.columns] for k, v in task_to_dataset.items()}\n",
    "dataset_to_weight = {}\n",
    "for task_name, task_datasets in task_to_dataset.items():\n",
    "    for dataset in task_datasets:\n",
    "        dataset_to_weight[dataset] = 1. / len(task_datasets) / len(task_to_dataset)\n",
    "print(task_to_dataset)\n",
    "print(dataset_to_weight)\n",
    "print(f\"Sum of weights: {sum(dataset_to_weight.values())}\")"
   ]
  },
  {
   "cell_type": "code",
   "execution_count": 1296,
   "metadata": {},
   "outputs": [
    {
     "data": {
      "text/html": [
       "<pre style=\"white-space:pre;overflow-x:auto;line-height:normal;font-family:Menlo,'DejaVu Sans Mono',consolas,'Courier New',monospace\"><span style=\"font-weight: bold\">{</span>\n",
       "    <span style=\"color: #008000; text-decoration-color: #008000\">'Image Classification'</span>: <span style=\"font-weight: bold\">[</span>\n",
       "        <span style=\"color: #008000; text-decoration-color: #008000\">'cifar100.loss'</span>,\n",
       "        <span style=\"color: #008000; text-decoration-color: #008000\">'cifar100.acc@1'</span>,\n",
       "        <span style=\"color: #008000; text-decoration-color: #008000\">'cifar100.acc@5'</span>,\n",
       "        <span style=\"color: #008000; text-decoration-color: #008000\">'food101.loss'</span>,\n",
       "        <span style=\"color: #008000; text-decoration-color: #008000\">'food101.acc@5'</span>,\n",
       "        <span style=\"color: #008000; text-decoration-color: #008000\">'food101.acc@1'</span>,\n",
       "        <span style=\"color: #008000; text-decoration-color: #008000\">'imagenet1k.loss'</span>,\n",
       "        <span style=\"color: #008000; text-decoration-color: #008000\">'imagenet1k.acc@5'</span>,\n",
       "        <span style=\"color: #008000; text-decoration-color: #008000\">'imagenet1k.acc@1'</span>,\n",
       "        <span style=\"color: #008000; text-decoration-color: #008000\">'places365.loss'</span>,\n",
       "        <span style=\"color: #008000; text-decoration-color: #008000\">'places365.acc@5'</span>,\n",
       "        <span style=\"color: #008000; text-decoration-color: #008000\">'places365.acc@1'</span>\n",
       "    <span style=\"font-weight: bold\">]</span>,\n",
       "    <span style=\"color: #008000; text-decoration-color: #008000\">'Few Shot Image Classification'</span>: <span style=\"font-weight: bold\">[</span>\n",
       "        <span style=\"color: #008000; text-decoration-color: #008000\">'fungi.acc@1'</span>,\n",
       "        <span style=\"color: #008000; text-decoration-color: #008000\">'mini.acc@1'</span>,\n",
       "        <span style=\"color: #008000; text-decoration-color: #008000\">'omniglot.acc@1'</span>,\n",
       "        <span style=\"color: #008000; text-decoration-color: #008000\">'vgg.acc@1'</span>,\n",
       "        <span style=\"color: #008000; text-decoration-color: #008000\">'aircraft.acc@1'</span>,\n",
       "        <span style=\"color: #008000; text-decoration-color: #008000\">'dtextures.acc@1'</span>,\n",
       "        <span style=\"color: #008000; text-decoration-color: #008000\">'cubirds.acc@1'</span>\n",
       "    <span style=\"font-weight: bold\">]</span>,\n",
       "    <span style=\"color: #008000; text-decoration-color: #008000\">'Image Segmentation'</span>: <span style=\"font-weight: bold\">[</span>\n",
       "        <span style=\"color: #008000; text-decoration-color: #008000\">'ade20k.dice-loss'</span>,\n",
       "        <span style=\"color: #008000; text-decoration-color: #008000\">'ade20k.mIoU'</span>,\n",
       "        <span style=\"color: #008000; text-decoration-color: #008000\">'coco-10k.mIoU'</span>,\n",
       "        <span style=\"color: #008000; text-decoration-color: #008000\">'coco-10k.dice-loss'</span>,\n",
       "        <span style=\"color: #008000; text-decoration-color: #008000\">'coco-164k.mIoU'</span>,\n",
       "        <span style=\"color: #008000; text-decoration-color: #008000\">'coco-164k.dice-loss'</span>,\n",
       "        <span style=\"color: #008000; text-decoration-color: #008000\">'cityscapes.mIoU'</span>,\n",
       "        <span style=\"color: #008000; text-decoration-color: #008000\">'cityscapes.dice-loss'</span>,\n",
       "        <span style=\"color: #008000; text-decoration-color: #008000\">'nyu.mIoU'</span>,\n",
       "        <span style=\"color: #008000; text-decoration-color: #008000\">'nyu.dice-loss'</span>,\n",
       "        <span style=\"color: #008000; text-decoration-color: #008000\">'pascal.mIoU'</span>,\n",
       "        <span style=\"color: #008000; text-decoration-color: #008000\">'pascal.dice-loss'</span>\n",
       "    <span style=\"font-weight: bold\">]</span>,\n",
       "    <span style=\"color: #008000; text-decoration-color: #008000\">'Image Relational Reasoning'</span>: <span style=\"font-weight: bold\">[</span><span style=\"color: #008000; text-decoration-color: #008000\">'clevr.acc@1'</span>, <span style=\"color: #008000; text-decoration-color: #008000\">'clevr-math.acc@5'</span>, <span style=\"color: #008000; text-decoration-color: #008000\">'clevr-math.acc@1'</span><span style=\"font-weight: bold\">]</span>,\n",
       "    <span style=\"color: #008000; text-decoration-color: #008000\">'Medical Classification/Segmentation'</span>: <span style=\"font-weight: bold\">[</span><span style=\"color: #008000; text-decoration-color: #008000\">'ham10k.auc'</span>, <span style=\"color: #008000; text-decoration-color: #008000\">'chexpert.auc'</span>, <span style=\"color: #008000; text-decoration-color: #008000\">'diabetic.auc'</span>, <span style=\"color: #008000; text-decoration-color: #008000\">'acdc.dice-loss'</span><span style=\"font-weight: bold\">]</span>,\n",
       "    <span style=\"color: #008000; text-decoration-color: #008000\">'Image to Text Zero Shot Learning'</span>: <span style=\"font-weight: bold\">[</span>\n",
       "        <span style=\"color: #008000; text-decoration-color: #008000\">'flickr30k.text-to-image-acc@5'</span>,\n",
       "        <span style=\"color: #008000; text-decoration-color: #008000\">'flickr30k.text-to-image-acc@1'</span>,\n",
       "        <span style=\"color: #008000; text-decoration-color: #008000\">'flickr30k.image-to-text-acc@1'</span>,\n",
       "        <span style=\"color: #008000; text-decoration-color: #008000\">'flickr30k.image-to-text-acc@5'</span>,\n",
       "        <span style=\"color: #008000; text-decoration-color: #008000\">'newyorkercaptioncontest.text-to-image-acc@5'</span>,\n",
       "        <span style=\"color: #008000; text-decoration-color: #008000\">'newyorkercaptioncontest.text-to-image-acc@1'</span>,\n",
       "        <span style=\"color: #008000; text-decoration-color: #008000\">'newyorkercaptioncontest.image-to-text-acc@1'</span>,\n",
       "        <span style=\"color: #008000; text-decoration-color: #008000\">'newyorkercaptioncontest.image-to-text-acc@5'</span>,\n",
       "        <span style=\"color: #008000; text-decoration-color: #008000\">'pokemonblipcaptions.text-to-image-acc@5'</span>,\n",
       "        <span style=\"color: #008000; text-decoration-color: #008000\">'pokemonblipcaptions.text-to-image-acc@1'</span>,\n",
       "        <span style=\"color: #008000; text-decoration-color: #008000\">'pokemonblipcaptions.image-to-text-acc@1'</span>,\n",
       "        <span style=\"color: #008000; text-decoration-color: #008000\">'pokemonblipcaptions.image-to-text-acc@5'</span>,\n",
       "        <span style=\"color: #008000; text-decoration-color: #008000\">'winoground.image-to-text-acc@1'</span>,\n",
       "        <span style=\"color: #008000; text-decoration-color: #008000\">'winoground.text-to-image-acc@1'</span>\n",
       "    <span style=\"font-weight: bold\">]</span>,\n",
       "    <span style=\"color: #008000; text-decoration-color: #008000\">'Video Classification'</span>: <span style=\"font-weight: bold\">[</span>\n",
       "        <span style=\"color: #008000; text-decoration-color: #008000\">'kinetics.acc@5'</span>,\n",
       "        <span style=\"color: #008000; text-decoration-color: #008000\">'kinetics.acc@1'</span>,\n",
       "        <span style=\"color: #008000; text-decoration-color: #008000\">'hmdb51.acc@5'</span>,\n",
       "        <span style=\"color: #008000; text-decoration-color: #008000\">'hmdb51.acc@1'</span>,\n",
       "        <span style=\"color: #008000; text-decoration-color: #008000\">'ucf.acc@5'</span>,\n",
       "        <span style=\"color: #008000; text-decoration-color: #008000\">'ucf.acc@1'</span>\n",
       "    <span style=\"font-weight: bold\">]</span>,\n",
       "    <span style=\"color: #008000; text-decoration-color: #008000\">'Video Regression'</span>: <span style=\"font-weight: bold\">[</span><span style=\"color: #008000; text-decoration-color: #008000\">'iwildcam.mae'</span><span style=\"font-weight: bold\">]</span>\n",
       "<span style=\"font-weight: bold\">}</span>\n",
       "</pre>\n"
      ],
      "text/plain": [
       "\u001b[1m{\u001b[0m\n",
       "    \u001b[32m'Image Classification'\u001b[0m: \u001b[1m[\u001b[0m\n",
       "        \u001b[32m'cifar100.loss'\u001b[0m,\n",
       "        \u001b[32m'cifar100.acc@1'\u001b[0m,\n",
       "        \u001b[32m'cifar100.acc@5'\u001b[0m,\n",
       "        \u001b[32m'food101.loss'\u001b[0m,\n",
       "        \u001b[32m'food101.acc@5'\u001b[0m,\n",
       "        \u001b[32m'food101.acc@1'\u001b[0m,\n",
       "        \u001b[32m'imagenet1k.loss'\u001b[0m,\n",
       "        \u001b[32m'imagenet1k.acc@5'\u001b[0m,\n",
       "        \u001b[32m'imagenet1k.acc@1'\u001b[0m,\n",
       "        \u001b[32m'places365.loss'\u001b[0m,\n",
       "        \u001b[32m'places365.acc@5'\u001b[0m,\n",
       "        \u001b[32m'places365.acc@1'\u001b[0m\n",
       "    \u001b[1m]\u001b[0m,\n",
       "    \u001b[32m'Few Shot Image Classification'\u001b[0m: \u001b[1m[\u001b[0m\n",
       "        \u001b[32m'fungi.acc@1'\u001b[0m,\n",
       "        \u001b[32m'mini.acc@1'\u001b[0m,\n",
       "        \u001b[32m'omniglot.acc@1'\u001b[0m,\n",
       "        \u001b[32m'vgg.acc@1'\u001b[0m,\n",
       "        \u001b[32m'aircraft.acc@1'\u001b[0m,\n",
       "        \u001b[32m'dtextures.acc@1'\u001b[0m,\n",
       "        \u001b[32m'cubirds.acc@1'\u001b[0m\n",
       "    \u001b[1m]\u001b[0m,\n",
       "    \u001b[32m'Image Segmentation'\u001b[0m: \u001b[1m[\u001b[0m\n",
       "        \u001b[32m'ade20k.dice-loss'\u001b[0m,\n",
       "        \u001b[32m'ade20k.mIoU'\u001b[0m,\n",
       "        \u001b[32m'coco-10k.mIoU'\u001b[0m,\n",
       "        \u001b[32m'coco-10k.dice-loss'\u001b[0m,\n",
       "        \u001b[32m'coco-164k.mIoU'\u001b[0m,\n",
       "        \u001b[32m'coco-164k.dice-loss'\u001b[0m,\n",
       "        \u001b[32m'cityscapes.mIoU'\u001b[0m,\n",
       "        \u001b[32m'cityscapes.dice-loss'\u001b[0m,\n",
       "        \u001b[32m'nyu.mIoU'\u001b[0m,\n",
       "        \u001b[32m'nyu.dice-loss'\u001b[0m,\n",
       "        \u001b[32m'pascal.mIoU'\u001b[0m,\n",
       "        \u001b[32m'pascal.dice-loss'\u001b[0m\n",
       "    \u001b[1m]\u001b[0m,\n",
       "    \u001b[32m'Image Relational Reasoning'\u001b[0m: \u001b[1m[\u001b[0m\u001b[32m'clevr.acc@1'\u001b[0m, \u001b[32m'clevr-math.acc@5'\u001b[0m, \u001b[32m'clevr-math.acc@1'\u001b[0m\u001b[1m]\u001b[0m,\n",
       "    \u001b[32m'Medical Classification/Segmentation'\u001b[0m: \u001b[1m[\u001b[0m\u001b[32m'ham10k.auc'\u001b[0m, \u001b[32m'chexpert.auc'\u001b[0m, \u001b[32m'diabetic.auc'\u001b[0m, \u001b[32m'acdc.dice-loss'\u001b[0m\u001b[1m]\u001b[0m,\n",
       "    \u001b[32m'Image to Text Zero Shot Learning'\u001b[0m: \u001b[1m[\u001b[0m\n",
       "        \u001b[32m'flickr30k.text-to-image-acc@5'\u001b[0m,\n",
       "        \u001b[32m'flickr30k.text-to-image-acc@1'\u001b[0m,\n",
       "        \u001b[32m'flickr30k.image-to-text-acc@1'\u001b[0m,\n",
       "        \u001b[32m'flickr30k.image-to-text-acc@5'\u001b[0m,\n",
       "        \u001b[32m'newyorkercaptioncontest.text-to-image-acc@5'\u001b[0m,\n",
       "        \u001b[32m'newyorkercaptioncontest.text-to-image-acc@1'\u001b[0m,\n",
       "        \u001b[32m'newyorkercaptioncontest.image-to-text-acc@1'\u001b[0m,\n",
       "        \u001b[32m'newyorkercaptioncontest.image-to-text-acc@5'\u001b[0m,\n",
       "        \u001b[32m'pokemonblipcaptions.text-to-image-acc@5'\u001b[0m,\n",
       "        \u001b[32m'pokemonblipcaptions.text-to-image-acc@1'\u001b[0m,\n",
       "        \u001b[32m'pokemonblipcaptions.image-to-text-acc@1'\u001b[0m,\n",
       "        \u001b[32m'pokemonblipcaptions.image-to-text-acc@5'\u001b[0m,\n",
       "        \u001b[32m'winoground.image-to-text-acc@1'\u001b[0m,\n",
       "        \u001b[32m'winoground.text-to-image-acc@1'\u001b[0m\n",
       "    \u001b[1m]\u001b[0m,\n",
       "    \u001b[32m'Video Classification'\u001b[0m: \u001b[1m[\u001b[0m\n",
       "        \u001b[32m'kinetics.acc@5'\u001b[0m,\n",
       "        \u001b[32m'kinetics.acc@1'\u001b[0m,\n",
       "        \u001b[32m'hmdb51.acc@5'\u001b[0m,\n",
       "        \u001b[32m'hmdb51.acc@1'\u001b[0m,\n",
       "        \u001b[32m'ucf.acc@5'\u001b[0m,\n",
       "        \u001b[32m'ucf.acc@1'\u001b[0m\n",
       "    \u001b[1m]\u001b[0m,\n",
       "    \u001b[32m'Video Regression'\u001b[0m: \u001b[1m[\u001b[0m\u001b[32m'iwildcam.mae'\u001b[0m\u001b[1m]\u001b[0m\n",
       "\u001b[1m}\u001b[0m\n"
      ]
     },
     "metadata": {},
     "output_type": "display_data"
    },
    {
     "data": {
      "text/html": [
       "<pre style=\"white-space:pre;overflow-x:auto;line-height:normal;font-family:Menlo,'DejaVu Sans Mono',consolas,'Courier New',monospace\"><span style=\"font-weight: bold\">{</span>\n",
       "    <span style=\"color: #008000; text-decoration-color: #008000\">'cifar100.loss'</span>: <span style=\"color: #008080; text-decoration-color: #008080; font-weight: bold\">0.010416666666666666</span>,\n",
       "    <span style=\"color: #008000; text-decoration-color: #008000\">'cifar100.acc@1'</span>: <span style=\"color: #008080; text-decoration-color: #008080; font-weight: bold\">0.010416666666666666</span>,\n",
       "    <span style=\"color: #008000; text-decoration-color: #008000\">'cifar100.acc@5'</span>: <span style=\"color: #008080; text-decoration-color: #008080; font-weight: bold\">0.010416666666666666</span>,\n",
       "    <span style=\"color: #008000; text-decoration-color: #008000\">'food101.loss'</span>: <span style=\"color: #008080; text-decoration-color: #008080; font-weight: bold\">0.010416666666666666</span>,\n",
       "    <span style=\"color: #008000; text-decoration-color: #008000\">'food101.acc@5'</span>: <span style=\"color: #008080; text-decoration-color: #008080; font-weight: bold\">0.010416666666666666</span>,\n",
       "    <span style=\"color: #008000; text-decoration-color: #008000\">'food101.acc@1'</span>: <span style=\"color: #008080; text-decoration-color: #008080; font-weight: bold\">0.010416666666666666</span>,\n",
       "    <span style=\"color: #008000; text-decoration-color: #008000\">'imagenet1k.loss'</span>: <span style=\"color: #008080; text-decoration-color: #008080; font-weight: bold\">0.010416666666666666</span>,\n",
       "    <span style=\"color: #008000; text-decoration-color: #008000\">'imagenet1k.acc@5'</span>: <span style=\"color: #008080; text-decoration-color: #008080; font-weight: bold\">0.010416666666666666</span>,\n",
       "    <span style=\"color: #008000; text-decoration-color: #008000\">'imagenet1k.acc@1'</span>: <span style=\"color: #008080; text-decoration-color: #008080; font-weight: bold\">0.010416666666666666</span>,\n",
       "    <span style=\"color: #008000; text-decoration-color: #008000\">'places365.loss'</span>: <span style=\"color: #008080; text-decoration-color: #008080; font-weight: bold\">0.010416666666666666</span>,\n",
       "    <span style=\"color: #008000; text-decoration-color: #008000\">'places365.acc@5'</span>: <span style=\"color: #008080; text-decoration-color: #008080; font-weight: bold\">0.010416666666666666</span>,\n",
       "    <span style=\"color: #008000; text-decoration-color: #008000\">'places365.acc@1'</span>: <span style=\"color: #008080; text-decoration-color: #008080; font-weight: bold\">0.010416666666666666</span>,\n",
       "    <span style=\"color: #008000; text-decoration-color: #008000\">'fungi.acc@1'</span>: <span style=\"color: #008080; text-decoration-color: #008080; font-weight: bold\">0.017857142857142856</span>,\n",
       "    <span style=\"color: #008000; text-decoration-color: #008000\">'mini.acc@1'</span>: <span style=\"color: #008080; text-decoration-color: #008080; font-weight: bold\">0.017857142857142856</span>,\n",
       "    <span style=\"color: #008000; text-decoration-color: #008000\">'omniglot.acc@1'</span>: <span style=\"color: #008080; text-decoration-color: #008080; font-weight: bold\">0.017857142857142856</span>,\n",
       "    <span style=\"color: #008000; text-decoration-color: #008000\">'vgg.acc@1'</span>: <span style=\"color: #008080; text-decoration-color: #008080; font-weight: bold\">0.017857142857142856</span>,\n",
       "    <span style=\"color: #008000; text-decoration-color: #008000\">'aircraft.acc@1'</span>: <span style=\"color: #008080; text-decoration-color: #008080; font-weight: bold\">0.017857142857142856</span>,\n",
       "    <span style=\"color: #008000; text-decoration-color: #008000\">'dtextures.acc@1'</span>: <span style=\"color: #008080; text-decoration-color: #008080; font-weight: bold\">0.017857142857142856</span>,\n",
       "    <span style=\"color: #008000; text-decoration-color: #008000\">'cubirds.acc@1'</span>: <span style=\"color: #008080; text-decoration-color: #008080; font-weight: bold\">0.017857142857142856</span>,\n",
       "    <span style=\"color: #008000; text-decoration-color: #008000\">'ade20k.dice-loss'</span>: <span style=\"color: #008080; text-decoration-color: #008080; font-weight: bold\">0.010416666666666666</span>,\n",
       "    <span style=\"color: #008000; text-decoration-color: #008000\">'ade20k.mIoU'</span>: <span style=\"color: #008080; text-decoration-color: #008080; font-weight: bold\">0.010416666666666666</span>,\n",
       "    <span style=\"color: #008000; text-decoration-color: #008000\">'coco-10k.mIoU'</span>: <span style=\"color: #008080; text-decoration-color: #008080; font-weight: bold\">0.010416666666666666</span>,\n",
       "    <span style=\"color: #008000; text-decoration-color: #008000\">'coco-10k.dice-loss'</span>: <span style=\"color: #008080; text-decoration-color: #008080; font-weight: bold\">0.010416666666666666</span>,\n",
       "    <span style=\"color: #008000; text-decoration-color: #008000\">'coco-164k.mIoU'</span>: <span style=\"color: #008080; text-decoration-color: #008080; font-weight: bold\">0.010416666666666666</span>,\n",
       "    <span style=\"color: #008000; text-decoration-color: #008000\">'coco-164k.dice-loss'</span>: <span style=\"color: #008080; text-decoration-color: #008080; font-weight: bold\">0.010416666666666666</span>,\n",
       "    <span style=\"color: #008000; text-decoration-color: #008000\">'cityscapes.mIoU'</span>: <span style=\"color: #008080; text-decoration-color: #008080; font-weight: bold\">0.010416666666666666</span>,\n",
       "    <span style=\"color: #008000; text-decoration-color: #008000\">'cityscapes.dice-loss'</span>: <span style=\"color: #008080; text-decoration-color: #008080; font-weight: bold\">0.010416666666666666</span>,\n",
       "    <span style=\"color: #008000; text-decoration-color: #008000\">'nyu.mIoU'</span>: <span style=\"color: #008080; text-decoration-color: #008080; font-weight: bold\">0.010416666666666666</span>,\n",
       "    <span style=\"color: #008000; text-decoration-color: #008000\">'nyu.dice-loss'</span>: <span style=\"color: #008080; text-decoration-color: #008080; font-weight: bold\">0.010416666666666666</span>,\n",
       "    <span style=\"color: #008000; text-decoration-color: #008000\">'pascal.mIoU'</span>: <span style=\"color: #008080; text-decoration-color: #008080; font-weight: bold\">0.010416666666666666</span>,\n",
       "    <span style=\"color: #008000; text-decoration-color: #008000\">'pascal.dice-loss'</span>: <span style=\"color: #008080; text-decoration-color: #008080; font-weight: bold\">0.010416666666666666</span>,\n",
       "    <span style=\"color: #008000; text-decoration-color: #008000\">'clevr.acc@1'</span>: <span style=\"color: #008080; text-decoration-color: #008080; font-weight: bold\">0.041666666666666664</span>,\n",
       "    <span style=\"color: #008000; text-decoration-color: #008000\">'clevr-math.acc@5'</span>: <span style=\"color: #008080; text-decoration-color: #008080; font-weight: bold\">0.041666666666666664</span>,\n",
       "    <span style=\"color: #008000; text-decoration-color: #008000\">'clevr-math.acc@1'</span>: <span style=\"color: #008080; text-decoration-color: #008080; font-weight: bold\">0.041666666666666664</span>,\n",
       "    <span style=\"color: #008000; text-decoration-color: #008000\">'ham10k.auc'</span>: <span style=\"color: #008080; text-decoration-color: #008080; font-weight: bold\">0.03125</span>,\n",
       "    <span style=\"color: #008000; text-decoration-color: #008000\">'chexpert.auc'</span>: <span style=\"color: #008080; text-decoration-color: #008080; font-weight: bold\">0.03125</span>,\n",
       "    <span style=\"color: #008000; text-decoration-color: #008000\">'diabetic.auc'</span>: <span style=\"color: #008080; text-decoration-color: #008080; font-weight: bold\">0.03125</span>,\n",
       "    <span style=\"color: #008000; text-decoration-color: #008000\">'acdc.dice-loss'</span>: <span style=\"color: #008080; text-decoration-color: #008080; font-weight: bold\">0.03125</span>,\n",
       "    <span style=\"color: #008000; text-decoration-color: #008000\">'flickr30k.text-to-image-acc@5'</span>: <span style=\"color: #008080; text-decoration-color: #008080; font-weight: bold\">0.008928571428571428</span>,\n",
       "    <span style=\"color: #008000; text-decoration-color: #008000\">'flickr30k.text-to-image-acc@1'</span>: <span style=\"color: #008080; text-decoration-color: #008080; font-weight: bold\">0.008928571428571428</span>,\n",
       "    <span style=\"color: #008000; text-decoration-color: #008000\">'flickr30k.image-to-text-acc@1'</span>: <span style=\"color: #008080; text-decoration-color: #008080; font-weight: bold\">0.008928571428571428</span>,\n",
       "    <span style=\"color: #008000; text-decoration-color: #008000\">'flickr30k.image-to-text-acc@5'</span>: <span style=\"color: #008080; text-decoration-color: #008080; font-weight: bold\">0.008928571428571428</span>,\n",
       "    <span style=\"color: #008000; text-decoration-color: #008000\">'newyorkercaptioncontest.text-to-image-acc@5'</span>: <span style=\"color: #008080; text-decoration-color: #008080; font-weight: bold\">0.008928571428571428</span>,\n",
       "    <span style=\"color: #008000; text-decoration-color: #008000\">'newyorkercaptioncontest.text-to-image-acc@1'</span>: <span style=\"color: #008080; text-decoration-color: #008080; font-weight: bold\">0.008928571428571428</span>,\n",
       "    <span style=\"color: #008000; text-decoration-color: #008000\">'newyorkercaptioncontest.image-to-text-acc@1'</span>: <span style=\"color: #008080; text-decoration-color: #008080; font-weight: bold\">0.008928571428571428</span>,\n",
       "    <span style=\"color: #008000; text-decoration-color: #008000\">'newyorkercaptioncontest.image-to-text-acc@5'</span>: <span style=\"color: #008080; text-decoration-color: #008080; font-weight: bold\">0.008928571428571428</span>,\n",
       "    <span style=\"color: #008000; text-decoration-color: #008000\">'pokemonblipcaptions.text-to-image-acc@5'</span>: <span style=\"color: #008080; text-decoration-color: #008080; font-weight: bold\">0.008928571428571428</span>,\n",
       "    <span style=\"color: #008000; text-decoration-color: #008000\">'pokemonblipcaptions.text-to-image-acc@1'</span>: <span style=\"color: #008080; text-decoration-color: #008080; font-weight: bold\">0.008928571428571428</span>,\n",
       "    <span style=\"color: #008000; text-decoration-color: #008000\">'pokemonblipcaptions.image-to-text-acc@1'</span>: <span style=\"color: #008080; text-decoration-color: #008080; font-weight: bold\">0.008928571428571428</span>,\n",
       "    <span style=\"color: #008000; text-decoration-color: #008000\">'pokemonblipcaptions.image-to-text-acc@5'</span>: <span style=\"color: #008080; text-decoration-color: #008080; font-weight: bold\">0.008928571428571428</span>,\n",
       "    <span style=\"color: #008000; text-decoration-color: #008000\">'winoground.image-to-text-acc@1'</span>: <span style=\"color: #008080; text-decoration-color: #008080; font-weight: bold\">0.008928571428571428</span>,\n",
       "    <span style=\"color: #008000; text-decoration-color: #008000\">'winoground.text-to-image-acc@1'</span>: <span style=\"color: #008080; text-decoration-color: #008080; font-weight: bold\">0.008928571428571428</span>,\n",
       "    <span style=\"color: #008000; text-decoration-color: #008000\">'kinetics.acc@5'</span>: <span style=\"color: #008080; text-decoration-color: #008080; font-weight: bold\">0.020833333333333332</span>,\n",
       "    <span style=\"color: #008000; text-decoration-color: #008000\">'kinetics.acc@1'</span>: <span style=\"color: #008080; text-decoration-color: #008080; font-weight: bold\">0.020833333333333332</span>,\n",
       "    <span style=\"color: #008000; text-decoration-color: #008000\">'hmdb51.acc@5'</span>: <span style=\"color: #008080; text-decoration-color: #008080; font-weight: bold\">0.020833333333333332</span>,\n",
       "    <span style=\"color: #008000; text-decoration-color: #008000\">'hmdb51.acc@1'</span>: <span style=\"color: #008080; text-decoration-color: #008080; font-weight: bold\">0.020833333333333332</span>,\n",
       "    <span style=\"color: #008000; text-decoration-color: #008000\">'ucf.acc@5'</span>: <span style=\"color: #008080; text-decoration-color: #008080; font-weight: bold\">0.020833333333333332</span>,\n",
       "    <span style=\"color: #008000; text-decoration-color: #008000\">'ucf.acc@1'</span>: <span style=\"color: #008080; text-decoration-color: #008080; font-weight: bold\">0.020833333333333332</span>,\n",
       "    <span style=\"color: #008000; text-decoration-color: #008000\">'iwildcam.mae'</span>: <span style=\"color: #008080; text-decoration-color: #008080; font-weight: bold\">0.125</span>\n",
       "<span style=\"font-weight: bold\">}</span>\n",
       "</pre>\n"
      ],
      "text/plain": [
       "\u001b[1m{\u001b[0m\n",
       "    \u001b[32m'cifar100.loss'\u001b[0m: \u001b[1;36m0.010416666666666666\u001b[0m,\n",
       "    \u001b[32m'cifar100.acc@1'\u001b[0m: \u001b[1;36m0.010416666666666666\u001b[0m,\n",
       "    \u001b[32m'cifar100.acc@5'\u001b[0m: \u001b[1;36m0.010416666666666666\u001b[0m,\n",
       "    \u001b[32m'food101.loss'\u001b[0m: \u001b[1;36m0.010416666666666666\u001b[0m,\n",
       "    \u001b[32m'food101.acc@5'\u001b[0m: \u001b[1;36m0.010416666666666666\u001b[0m,\n",
       "    \u001b[32m'food101.acc@1'\u001b[0m: \u001b[1;36m0.010416666666666666\u001b[0m,\n",
       "    \u001b[32m'imagenet1k.loss'\u001b[0m: \u001b[1;36m0.010416666666666666\u001b[0m,\n",
       "    \u001b[32m'imagenet1k.acc@5'\u001b[0m: \u001b[1;36m0.010416666666666666\u001b[0m,\n",
       "    \u001b[32m'imagenet1k.acc@1'\u001b[0m: \u001b[1;36m0.010416666666666666\u001b[0m,\n",
       "    \u001b[32m'places365.loss'\u001b[0m: \u001b[1;36m0.010416666666666666\u001b[0m,\n",
       "    \u001b[32m'places365.acc@5'\u001b[0m: \u001b[1;36m0.010416666666666666\u001b[0m,\n",
       "    \u001b[32m'places365.acc@1'\u001b[0m: \u001b[1;36m0.010416666666666666\u001b[0m,\n",
       "    \u001b[32m'fungi.acc@1'\u001b[0m: \u001b[1;36m0.017857142857142856\u001b[0m,\n",
       "    \u001b[32m'mini.acc@1'\u001b[0m: \u001b[1;36m0.017857142857142856\u001b[0m,\n",
       "    \u001b[32m'omniglot.acc@1'\u001b[0m: \u001b[1;36m0.017857142857142856\u001b[0m,\n",
       "    \u001b[32m'vgg.acc@1'\u001b[0m: \u001b[1;36m0.017857142857142856\u001b[0m,\n",
       "    \u001b[32m'aircraft.acc@1'\u001b[0m: \u001b[1;36m0.017857142857142856\u001b[0m,\n",
       "    \u001b[32m'dtextures.acc@1'\u001b[0m: \u001b[1;36m0.017857142857142856\u001b[0m,\n",
       "    \u001b[32m'cubirds.acc@1'\u001b[0m: \u001b[1;36m0.017857142857142856\u001b[0m,\n",
       "    \u001b[32m'ade20k.dice-loss'\u001b[0m: \u001b[1;36m0.010416666666666666\u001b[0m,\n",
       "    \u001b[32m'ade20k.mIoU'\u001b[0m: \u001b[1;36m0.010416666666666666\u001b[0m,\n",
       "    \u001b[32m'coco-10k.mIoU'\u001b[0m: \u001b[1;36m0.010416666666666666\u001b[0m,\n",
       "    \u001b[32m'coco-10k.dice-loss'\u001b[0m: \u001b[1;36m0.010416666666666666\u001b[0m,\n",
       "    \u001b[32m'coco-164k.mIoU'\u001b[0m: \u001b[1;36m0.010416666666666666\u001b[0m,\n",
       "    \u001b[32m'coco-164k.dice-loss'\u001b[0m: \u001b[1;36m0.010416666666666666\u001b[0m,\n",
       "    \u001b[32m'cityscapes.mIoU'\u001b[0m: \u001b[1;36m0.010416666666666666\u001b[0m,\n",
       "    \u001b[32m'cityscapes.dice-loss'\u001b[0m: \u001b[1;36m0.010416666666666666\u001b[0m,\n",
       "    \u001b[32m'nyu.mIoU'\u001b[0m: \u001b[1;36m0.010416666666666666\u001b[0m,\n",
       "    \u001b[32m'nyu.dice-loss'\u001b[0m: \u001b[1;36m0.010416666666666666\u001b[0m,\n",
       "    \u001b[32m'pascal.mIoU'\u001b[0m: \u001b[1;36m0.010416666666666666\u001b[0m,\n",
       "    \u001b[32m'pascal.dice-loss'\u001b[0m: \u001b[1;36m0.010416666666666666\u001b[0m,\n",
       "    \u001b[32m'clevr.acc@1'\u001b[0m: \u001b[1;36m0.041666666666666664\u001b[0m,\n",
       "    \u001b[32m'clevr-math.acc@5'\u001b[0m: \u001b[1;36m0.041666666666666664\u001b[0m,\n",
       "    \u001b[32m'clevr-math.acc@1'\u001b[0m: \u001b[1;36m0.041666666666666664\u001b[0m,\n",
       "    \u001b[32m'ham10k.auc'\u001b[0m: \u001b[1;36m0.03125\u001b[0m,\n",
       "    \u001b[32m'chexpert.auc'\u001b[0m: \u001b[1;36m0.03125\u001b[0m,\n",
       "    \u001b[32m'diabetic.auc'\u001b[0m: \u001b[1;36m0.03125\u001b[0m,\n",
       "    \u001b[32m'acdc.dice-loss'\u001b[0m: \u001b[1;36m0.03125\u001b[0m,\n",
       "    \u001b[32m'flickr30k.text-to-image-acc@5'\u001b[0m: \u001b[1;36m0.008928571428571428\u001b[0m,\n",
       "    \u001b[32m'flickr30k.text-to-image-acc@1'\u001b[0m: \u001b[1;36m0.008928571428571428\u001b[0m,\n",
       "    \u001b[32m'flickr30k.image-to-text-acc@1'\u001b[0m: \u001b[1;36m0.008928571428571428\u001b[0m,\n",
       "    \u001b[32m'flickr30k.image-to-text-acc@5'\u001b[0m: \u001b[1;36m0.008928571428571428\u001b[0m,\n",
       "    \u001b[32m'newyorkercaptioncontest.text-to-image-acc@5'\u001b[0m: \u001b[1;36m0.008928571428571428\u001b[0m,\n",
       "    \u001b[32m'newyorkercaptioncontest.text-to-image-acc@1'\u001b[0m: \u001b[1;36m0.008928571428571428\u001b[0m,\n",
       "    \u001b[32m'newyorkercaptioncontest.image-to-text-acc@1'\u001b[0m: \u001b[1;36m0.008928571428571428\u001b[0m,\n",
       "    \u001b[32m'newyorkercaptioncontest.image-to-text-acc@5'\u001b[0m: \u001b[1;36m0.008928571428571428\u001b[0m,\n",
       "    \u001b[32m'pokemonblipcaptions.text-to-image-acc@5'\u001b[0m: \u001b[1;36m0.008928571428571428\u001b[0m,\n",
       "    \u001b[32m'pokemonblipcaptions.text-to-image-acc@1'\u001b[0m: \u001b[1;36m0.008928571428571428\u001b[0m,\n",
       "    \u001b[32m'pokemonblipcaptions.image-to-text-acc@1'\u001b[0m: \u001b[1;36m0.008928571428571428\u001b[0m,\n",
       "    \u001b[32m'pokemonblipcaptions.image-to-text-acc@5'\u001b[0m: \u001b[1;36m0.008928571428571428\u001b[0m,\n",
       "    \u001b[32m'winoground.image-to-text-acc@1'\u001b[0m: \u001b[1;36m0.008928571428571428\u001b[0m,\n",
       "    \u001b[32m'winoground.text-to-image-acc@1'\u001b[0m: \u001b[1;36m0.008928571428571428\u001b[0m,\n",
       "    \u001b[32m'kinetics.acc@5'\u001b[0m: \u001b[1;36m0.020833333333333332\u001b[0m,\n",
       "    \u001b[32m'kinetics.acc@1'\u001b[0m: \u001b[1;36m0.020833333333333332\u001b[0m,\n",
       "    \u001b[32m'hmdb51.acc@5'\u001b[0m: \u001b[1;36m0.020833333333333332\u001b[0m,\n",
       "    \u001b[32m'hmdb51.acc@1'\u001b[0m: \u001b[1;36m0.020833333333333332\u001b[0m,\n",
       "    \u001b[32m'ucf.acc@5'\u001b[0m: \u001b[1;36m0.020833333333333332\u001b[0m,\n",
       "    \u001b[32m'ucf.acc@1'\u001b[0m: \u001b[1;36m0.020833333333333332\u001b[0m,\n",
       "    \u001b[32m'iwildcam.mae'\u001b[0m: \u001b[1;36m0.125\u001b[0m\n",
       "\u001b[1m}\u001b[0m\n"
      ]
     },
     "metadata": {},
     "output_type": "display_data"
    },
    {
     "data": {
      "text/html": [
       "<pre style=\"white-space:pre;overflow-x:auto;line-height:normal;font-family:Menlo,'DejaVu Sans Mono',consolas,'Courier New',monospace\">Sum of weights: <span style=\"color: #008080; text-decoration-color: #008080; font-weight: bold\">1.0</span>\n",
       "</pre>\n"
      ],
      "text/plain": [
       "Sum of weights: \u001b[1;36m1.0\u001b[0m\n"
      ]
     },
     "metadata": {},
     "output_type": "display_data"
    }
   ],
   "source": [
    "import yaml\n",
    "\n",
    "\n",
    "task_to_dataset = yaml.safe_load(open(\"task_mapping.yaml\"))\n",
    "task_to_dataset = {k: [d for d in v if d in df.columns] for k, v in task_to_dataset.items()}\n",
    "dataset_to_weight = {}\n",
    "for task_name, task_datasets in task_to_dataset.items():\n",
    "    for dataset in task_datasets:\n",
    "        dataset_to_weight[dataset] = 1. / len(task_datasets) / len(task_to_dataset)\n",
    "print(task_to_dataset)\n",
    "print(dataset_to_weight)\n",
    "print(f\"Sum of weights: {sum(dataset_to_weight.values())}\")"
   ]
  },
  {
   "cell_type": "code",
   "execution_count": 1297,
   "metadata": {},
   "outputs": [
    {
     "data": {
      "text/html": [
       "<pre style=\"white-space:pre;overflow-x:auto;line-height:normal;font-family:Menlo,'DejaVu Sans Mono',consolas,'Courier New',monospace\"><span style=\"font-weight: bold\">{</span>\n",
       "    <span style=\"color: #008000; text-decoration-color: #008000\">'food101.loss'</span>: <span style=\"color: #008080; text-decoration-color: #008080; font-weight: bold\">0.021806853582554513</span>,\n",
       "    <span style=\"color: #008000; text-decoration-color: #008000\">'food101.acc@5'</span>: <span style=\"color: #008080; text-decoration-color: #008080; font-weight: bold\">0.021806853582554513</span>,\n",
       "    <span style=\"color: #008000; text-decoration-color: #008000\">'food101.acc@1'</span>: <span style=\"color: #008080; text-decoration-color: #008080; font-weight: bold\">0.021806853582554513</span>,\n",
       "    <span style=\"color: #008000; text-decoration-color: #008000\">'imagenet1k.loss'</span>: <span style=\"color: #008080; text-decoration-color: #008080; font-weight: bold\">0.021806853582554513</span>,\n",
       "    <span style=\"color: #008000; text-decoration-color: #008000\">'imagenet1k.acc@5'</span>: <span style=\"color: #008080; text-decoration-color: #008080; font-weight: bold\">0.021806853582554513</span>,\n",
       "    <span style=\"color: #008000; text-decoration-color: #008000\">'imagenet1k.acc@1'</span>: <span style=\"color: #008080; text-decoration-color: #008080; font-weight: bold\">0.021806853582554513</span>,\n",
       "    <span style=\"color: #008000; text-decoration-color: #008000\">'places365.loss'</span>: <span style=\"color: #008080; text-decoration-color: #008080; font-weight: bold\">0.021806853582554513</span>,\n",
       "    <span style=\"color: #008000; text-decoration-color: #008000\">'places365.acc@5'</span>: <span style=\"color: #008080; text-decoration-color: #008080; font-weight: bold\">0.021806853582554513</span>,\n",
       "    <span style=\"color: #008000; text-decoration-color: #008000\">'places365.acc@1'</span>: <span style=\"color: #008080; text-decoration-color: #008080; font-weight: bold\">0.021806853582554513</span>,\n",
       "    <span style=\"color: #008000; text-decoration-color: #008000\">'ade20k.dice-loss'</span>: <span style=\"color: #008080; text-decoration-color: #008080; font-weight: bold\">0.021806853582554513</span>,\n",
       "    <span style=\"color: #008000; text-decoration-color: #008000\">'ade20k.mIoU'</span>: <span style=\"color: #008080; text-decoration-color: #008080; font-weight: bold\">0.021806853582554513</span>,\n",
       "    <span style=\"color: #008000; text-decoration-color: #008000\">'pascal.mIoU'</span>: <span style=\"color: #008080; text-decoration-color: #008080; font-weight: bold\">0.021806853582554513</span>,\n",
       "    <span style=\"color: #008000; text-decoration-color: #008000\">'pascal.dice-loss'</span>: <span style=\"color: #008080; text-decoration-color: #008080; font-weight: bold\">0.021806853582554513</span>,\n",
       "    <span style=\"color: #008000; text-decoration-color: #008000\">'clevr.acc@1'</span>: <span style=\"color: #008080; text-decoration-color: #008080; font-weight: bold\">0.08722741433021805</span>,\n",
       "    <span style=\"color: #008000; text-decoration-color: #008000\">'clevr-math.acc@5'</span>: <span style=\"color: #008080; text-decoration-color: #008080; font-weight: bold\">0.08722741433021805</span>,\n",
       "    <span style=\"color: #008000; text-decoration-color: #008000\">'clevr-math.acc@1'</span>: <span style=\"color: #008080; text-decoration-color: #008080; font-weight: bold\">0.08722741433021805</span>,\n",
       "    <span style=\"color: #008000; text-decoration-color: #008000\">'ham10k.auc'</span>: <span style=\"color: #008080; text-decoration-color: #008080; font-weight: bold\">0.06542056074766354</span>,\n",
       "    <span style=\"color: #008000; text-decoration-color: #008000\">'chexpert.auc'</span>: <span style=\"color: #008080; text-decoration-color: #008080; font-weight: bold\">0.06542056074766354</span>,\n",
       "    <span style=\"color: #008000; text-decoration-color: #008000\">'flickr30k.text-to-image-acc@5'</span>: <span style=\"color: #008080; text-decoration-color: #008080; font-weight: bold\">0.018691588785046724</span>,\n",
       "    <span style=\"color: #008000; text-decoration-color: #008000\">'flickr30k.text-to-image-acc@1'</span>: <span style=\"color: #008080; text-decoration-color: #008080; font-weight: bold\">0.018691588785046724</span>,\n",
       "    <span style=\"color: #008000; text-decoration-color: #008000\">'flickr30k.image-to-text-acc@1'</span>: <span style=\"color: #008080; text-decoration-color: #008080; font-weight: bold\">0.018691588785046724</span>,\n",
       "    <span style=\"color: #008000; text-decoration-color: #008000\">'flickr30k.image-to-text-acc@5'</span>: <span style=\"color: #008080; text-decoration-color: #008080; font-weight: bold\">0.018691588785046724</span>,\n",
       "    <span style=\"color: #008000; text-decoration-color: #008000\">'newyorkercaptioncontest.text-to-image-acc@5'</span>: <span style=\"color: #008080; text-decoration-color: #008080; font-weight: bold\">0.018691588785046724</span>,\n",
       "    <span style=\"color: #008000; text-decoration-color: #008000\">'newyorkercaptioncontest.text-to-image-acc@1'</span>: <span style=\"color: #008080; text-decoration-color: #008080; font-weight: bold\">0.018691588785046724</span>,\n",
       "    <span style=\"color: #008000; text-decoration-color: #008000\">'newyorkercaptioncontest.image-to-text-acc@1'</span>: <span style=\"color: #008080; text-decoration-color: #008080; font-weight: bold\">0.018691588785046724</span>,\n",
       "    <span style=\"color: #008000; text-decoration-color: #008000\">'newyorkercaptioncontest.image-to-text-acc@5'</span>: <span style=\"color: #008080; text-decoration-color: #008080; font-weight: bold\">0.018691588785046724</span>,\n",
       "    <span style=\"color: #008000; text-decoration-color: #008000\">'kinetics.acc@5'</span>: <span style=\"color: #008080; text-decoration-color: #008080; font-weight: bold\">0.043613707165109025</span>,\n",
       "    <span style=\"color: #008000; text-decoration-color: #008000\">'kinetics.acc@1'</span>: <span style=\"color: #008080; text-decoration-color: #008080; font-weight: bold\">0.043613707165109025</span>,\n",
       "    <span style=\"color: #008000; text-decoration-color: #008000\">'ucf.acc@5'</span>: <span style=\"color: #008080; text-decoration-color: #008080; font-weight: bold\">0.043613707165109025</span>,\n",
       "    <span style=\"color: #008000; text-decoration-color: #008000\">'ucf.acc@1'</span>: <span style=\"color: #008080; text-decoration-color: #008080; font-weight: bold\">0.043613707165109025</span>\n",
       "<span style=\"font-weight: bold\">}</span>\n",
       "</pre>\n"
      ],
      "text/plain": [
       "\u001b[1m{\u001b[0m\n",
       "    \u001b[32m'food101.loss'\u001b[0m: \u001b[1;36m0.021806853582554513\u001b[0m,\n",
       "    \u001b[32m'food101.acc@5'\u001b[0m: \u001b[1;36m0.021806853582554513\u001b[0m,\n",
       "    \u001b[32m'food101.acc@1'\u001b[0m: \u001b[1;36m0.021806853582554513\u001b[0m,\n",
       "    \u001b[32m'imagenet1k.loss'\u001b[0m: \u001b[1;36m0.021806853582554513\u001b[0m,\n",
       "    \u001b[32m'imagenet1k.acc@5'\u001b[0m: \u001b[1;36m0.021806853582554513\u001b[0m,\n",
       "    \u001b[32m'imagenet1k.acc@1'\u001b[0m: \u001b[1;36m0.021806853582554513\u001b[0m,\n",
       "    \u001b[32m'places365.loss'\u001b[0m: \u001b[1;36m0.021806853582554513\u001b[0m,\n",
       "    \u001b[32m'places365.acc@5'\u001b[0m: \u001b[1;36m0.021806853582554513\u001b[0m,\n",
       "    \u001b[32m'places365.acc@1'\u001b[0m: \u001b[1;36m0.021806853582554513\u001b[0m,\n",
       "    \u001b[32m'ade20k.dice-loss'\u001b[0m: \u001b[1;36m0.021806853582554513\u001b[0m,\n",
       "    \u001b[32m'ade20k.mIoU'\u001b[0m: \u001b[1;36m0.021806853582554513\u001b[0m,\n",
       "    \u001b[32m'pascal.mIoU'\u001b[0m: \u001b[1;36m0.021806853582554513\u001b[0m,\n",
       "    \u001b[32m'pascal.dice-loss'\u001b[0m: \u001b[1;36m0.021806853582554513\u001b[0m,\n",
       "    \u001b[32m'clevr.acc@1'\u001b[0m: \u001b[1;36m0.08722741433021805\u001b[0m,\n",
       "    \u001b[32m'clevr-math.acc@5'\u001b[0m: \u001b[1;36m0.08722741433021805\u001b[0m,\n",
       "    \u001b[32m'clevr-math.acc@1'\u001b[0m: \u001b[1;36m0.08722741433021805\u001b[0m,\n",
       "    \u001b[32m'ham10k.auc'\u001b[0m: \u001b[1;36m0.06542056074766354\u001b[0m,\n",
       "    \u001b[32m'chexpert.auc'\u001b[0m: \u001b[1;36m0.06542056074766354\u001b[0m,\n",
       "    \u001b[32m'flickr30k.text-to-image-acc@5'\u001b[0m: \u001b[1;36m0.018691588785046724\u001b[0m,\n",
       "    \u001b[32m'flickr30k.text-to-image-acc@1'\u001b[0m: \u001b[1;36m0.018691588785046724\u001b[0m,\n",
       "    \u001b[32m'flickr30k.image-to-text-acc@1'\u001b[0m: \u001b[1;36m0.018691588785046724\u001b[0m,\n",
       "    \u001b[32m'flickr30k.image-to-text-acc@5'\u001b[0m: \u001b[1;36m0.018691588785046724\u001b[0m,\n",
       "    \u001b[32m'newyorkercaptioncontest.text-to-image-acc@5'\u001b[0m: \u001b[1;36m0.018691588785046724\u001b[0m,\n",
       "    \u001b[32m'newyorkercaptioncontest.text-to-image-acc@1'\u001b[0m: \u001b[1;36m0.018691588785046724\u001b[0m,\n",
       "    \u001b[32m'newyorkercaptioncontest.image-to-text-acc@1'\u001b[0m: \u001b[1;36m0.018691588785046724\u001b[0m,\n",
       "    \u001b[32m'newyorkercaptioncontest.image-to-text-acc@5'\u001b[0m: \u001b[1;36m0.018691588785046724\u001b[0m,\n",
       "    \u001b[32m'kinetics.acc@5'\u001b[0m: \u001b[1;36m0.043613707165109025\u001b[0m,\n",
       "    \u001b[32m'kinetics.acc@1'\u001b[0m: \u001b[1;36m0.043613707165109025\u001b[0m,\n",
       "    \u001b[32m'ucf.acc@5'\u001b[0m: \u001b[1;36m0.043613707165109025\u001b[0m,\n",
       "    \u001b[32m'ucf.acc@1'\u001b[0m: \u001b[1;36m0.043613707165109025\u001b[0m\n",
       "\u001b[1m}\u001b[0m\n"
      ]
     },
     "metadata": {},
     "output_type": "display_data"
    },
    {
     "data": {
      "text/html": [
       "<pre style=\"white-space:pre;overflow-x:auto;line-height:normal;font-family:Menlo,'DejaVu Sans Mono',consolas,'Courier New',monospace\">sum of weights: <span style=\"color: #008080; text-decoration-color: #008080; font-weight: bold\">1.0</span>\n",
       "</pre>\n"
      ],
      "text/plain": [
       "sum of weights: \u001b[1;36m1.0\u001b[0m\n"
      ]
     },
     "metadata": {},
     "output_type": "display_data"
    }
   ],
   "source": [
    "from re import sub\n",
    "import yaml\n",
    "\n",
    "\n",
    "sub_gate_metrics = [col for col in df.columns if any(term in col for term in sub_gate_columns)]\n",
    "\n",
    "task_to_dataset = yaml.safe_load(open(\"task_mapping.yaml\"))\n",
    "reverse_task_to_dataset = {d: k for k, v in task_to_dataset.items() for d in v}\n",
    "sub_gate_dataset_to_weight = {}\n",
    "\n",
    "for dataset in sub_gate_metrics:\n",
    "    if \"rank\" not in dataset:\n",
    "        sub_gate_dataset_to_weight[dataset] = 1. / len(task_to_dataset[reverse_task_to_dataset[dataset]])\n",
    "\n",
    "# normalize the weights\n",
    "sub_gate_dataset_to_weight = {k: v / sum(sub_gate_dataset_to_weight.values()) for k, v in sub_gate_dataset_to_weight.items()}\n",
    "\n",
    "print(sub_gate_dataset_to_weight)\n",
    "print(f\"sum of weights: {sum(sub_gate_dataset_to_weight.values())}\")"
   ]
  },
  {
   "cell_type": "code",
   "execution_count": 1298,
   "metadata": {},
   "outputs": [],
   "source": [
    "from typing import Dict, List, Optional\n",
    "import pandas as pd\n",
    "\n",
    "def calculate_means(df, terms: Optional[List], prefix: Optional[str] = None, term_weight: Optional[Dict[str, float]] = None):\n",
    "    # Find the metrics that contain any of the terms\n",
    "    if not terms:\n",
    "        included_metrics = df.columns[1:]\n",
    "    else:\n",
    "        included_metrics = [col for col in df.columns if any(term in col for term in terms)]\n",
    "\n",
    "    # Separate the metrics into \"lower is better\" and \"higher is better\"\n",
    "    lower_is_better_metrics = [col for col in included_metrics if 'loss' in col or 'mae' in col]\n",
    "    higher_is_better_metrics = list(set(included_metrics) - set(lower_is_better_metrics))\n",
    "    # print(lower_is_better_metrics)\n",
    "    # print(higher_is_better_metrics)\n",
    "    \n",
    "    # Convert fractional values to percentages in the higher_is_better_metrics, if necessary\n",
    "    for col in higher_is_better_metrics:\n",
    "        if df[col].max() < 1:  # Check if the column is in a fractional format\n",
    "            df[col] = df[col] * 100  # Convert to percentage format\n",
    "    \n",
    "    if prefix is None:\n",
    "        prefix = 'Mean'\n",
    "    \n",
    "    # Calculate the weighted sum for lower and higher is better metrics\n",
    "    if term_weight is not None:\n",
    "        df[f\"{prefix} (Weighted Lower is better)\"] = df[lower_is_better_metrics].apply(lambda row: sum(row[col] * term_weight.get(col, 1) for col in lower_is_better_metrics), axis=1)\n",
    "        df[f\"{prefix} (Weighted Higher is better)\"] = df[higher_is_better_metrics].apply(lambda row: sum(row[col] * term_weight.get(col, 1) for col in higher_is_better_metrics), axis=1)\n",
    "    else:\n",
    "        df[f\"{prefix} (Weighted Lower is better)\"] = df[lower_is_better_metrics].mean(axis=1)\n",
    "        df[f\"{prefix} (Weighted Higher is better)\"] = df[higher_is_better_metrics].mean(axis=1)\n",
    "    \n",
    "    # df[f'{prefix} (Lower is better)'] = df[lower_is_better_metrics].mean(axis=1)\n",
    "    # df[f'{prefix} (Higher is better)'] = df[higher_is_better_metrics].mean(axis=1)\n",
    "\n",
    "    return df\n"
   ]
  },
  {
   "cell_type": "code",
   "execution_count": 1299,
   "metadata": {},
   "outputs": [],
   "source": [
    "df = calculate_means(df, None, 'GATE', term_weight=dataset_to_weight)\n",
    "df = calculate_means(df, sub_gate_columns, 'devGATE', term_weight=sub_gate_dataset_to_weight)"
   ]
  },
  {
   "cell_type": "code",
   "execution_count": 1300,
   "metadata": {},
   "outputs": [
    {
     "data": {
      "text/html": [
       "<div>\n",
       "<style scoped>\n",
       "    .dataframe tbody tr th:only-of-type {\n",
       "        vertical-align: middle;\n",
       "    }\n",
       "\n",
       "    .dataframe tbody tr th {\n",
       "        vertical-align: top;\n",
       "    }\n",
       "\n",
       "    .dataframe thead th {\n",
       "        text-align: right;\n",
       "    }\n",
       "</style>\n",
       "<table border=\"1\" class=\"dataframe\">\n",
       "  <thead>\n",
       "    <tr style=\"text-align: right;\">\n",
       "      <th></th>\n",
       "      <th>Model.Metric</th>\n",
       "      <th>cifar100.loss</th>\n",
       "      <th>cifar100.acc@1</th>\n",
       "      <th>cifar100.acc@5</th>\n",
       "      <th>food101.loss</th>\n",
       "      <th>food101.acc@5</th>\n",
       "      <th>food101.acc@1</th>\n",
       "      <th>imagenet1k.loss</th>\n",
       "      <th>imagenet1k.acc@5</th>\n",
       "      <th>imagenet1k.acc@1</th>\n",
       "      <th>places365.loss</th>\n",
       "      <th>places365.acc@5</th>\n",
       "      <th>places365.acc@1</th>\n",
       "      <th>fungi.acc@1</th>\n",
       "      <th>mini.acc@1</th>\n",
       "      <th>omniglot.acc@1</th>\n",
       "      <th>vgg.acc@1</th>\n",
       "      <th>aircraft.acc@1</th>\n",
       "      <th>dtextures.acc@1</th>\n",
       "      <th>cubirds.acc@1</th>\n",
       "      <th>ade20k.dice-loss</th>\n",
       "      <th>ade20k.mIoU</th>\n",
       "      <th>coco-10k.mIoU</th>\n",
       "      <th>coco-10k.dice-loss</th>\n",
       "      <th>coco-164k.mIoU</th>\n",
       "      <th>coco-164k.dice-loss</th>\n",
       "      <th>cityscapes.mIoU</th>\n",
       "      <th>cityscapes.dice-loss</th>\n",
       "      <th>nyu.mIoU</th>\n",
       "      <th>nyu.dice-loss</th>\n",
       "      <th>pascal.mIoU</th>\n",
       "      <th>pascal.dice-loss</th>\n",
       "      <th>clevr.acc@1</th>\n",
       "      <th>clevr-math.acc@5</th>\n",
       "      <th>clevr-math.acc@1</th>\n",
       "      <th>ham10k.auc</th>\n",
       "      <th>chexpert.auc</th>\n",
       "      <th>diabetic.auc</th>\n",
       "      <th>acdc.dice-loss</th>\n",
       "      <th>flickr30k.text-to-image-acc@5</th>\n",
       "      <th>flickr30k.text-to-image-acc@1</th>\n",
       "      <th>flickr30k.image-to-text-acc@1</th>\n",
       "      <th>flickr30k.image-to-text-acc@5</th>\n",
       "      <th>newyorkercaptioncontest.text-to-image-acc@5</th>\n",
       "      <th>newyorkercaptioncontest.text-to-image-acc@1</th>\n",
       "      <th>newyorkercaptioncontest.image-to-text-acc@1</th>\n",
       "      <th>newyorkercaptioncontest.image-to-text-acc@5</th>\n",
       "      <th>pokemonblipcaptions.text-to-image-acc@5</th>\n",
       "      <th>pokemonblipcaptions.text-to-image-acc@1</th>\n",
       "      <th>pokemonblipcaptions.image-to-text-acc@1</th>\n",
       "      <th>pokemonblipcaptions.image-to-text-acc@5</th>\n",
       "      <th>winoground.image-to-text-acc@1</th>\n",
       "      <th>winoground.text-to-image-acc@1</th>\n",
       "      <th>kinetics.acc@5</th>\n",
       "      <th>kinetics.acc@1</th>\n",
       "      <th>hmdb51.acc@5</th>\n",
       "      <th>hmdb51.acc@1</th>\n",
       "      <th>ucf.acc@5</th>\n",
       "      <th>ucf.acc@1</th>\n",
       "      <th>iwildcam.mae</th>\n",
       "      <th>Image Classification</th>\n",
       "      <th>Few Shot Image Classification</th>\n",
       "      <th>Image Segmentation</th>\n",
       "      <th>Image Relational Reasoning</th>\n",
       "      <th>Medical Classification/Segmentation</th>\n",
       "      <th>Image to Text Zero Shot Learning</th>\n",
       "      <th>Video Classification</th>\n",
       "      <th>Video Regression</th>\n",
       "      <th>GATE (Weighted Lower is better)</th>\n",
       "      <th>GATE (Weighted Higher is better)</th>\n",
       "      <th>devGATE (Weighted Lower is better)</th>\n",
       "      <th>devGATE (Weighted Higher is better)</th>\n",
       "      <th>imagenet1k.acc@1 rank</th>\n",
       "      <th>imagenet1k.acc@5 rank</th>\n",
       "      <th>devGATE (Weighted Higher is better rank)</th>\n",
       "      <th>GATE (Weighted Higher is better rank)</th>\n",
       "      <th>devGATE (Weighted Lower is better rank)</th>\n",
       "      <th>GATE (Weighted Lower is better rank)</th>\n",
       "    </tr>\n",
       "  </thead>\n",
       "  <tbody>\n",
       "    <tr>\n",
       "      <th>0</th>\n",
       "      <td>AR-ViT-B16-224</td>\n",
       "      <td>76.628571</td>\n",
       "      <td>55.742</td>\n",
       "      <td>83.629</td>\n",
       "      <td>91.685714</td>\n",
       "      <td>96.630</td>\n",
       "      <td>83.834</td>\n",
       "      <td>86.185714</td>\n",
       "      <td>93.007</td>\n",
       "      <td>78.199</td>\n",
       "      <td>70.542857</td>\n",
       "      <td>78.706</td>\n",
       "      <td>46.641</td>\n",
       "      <td>77.5</td>\n",
       "      <td>98.7</td>\n",
       "      <td>98.6</td>\n",
       "      <td>95.5</td>\n",
       "      <td>94.4</td>\n",
       "      <td>79.9</td>\n",
       "      <td>94.4</td>\n",
       "      <td>22.3</td>\n",
       "      <td>17.353</td>\n",
       "      <td>22.783</td>\n",
       "      <td>2.7</td>\n",
       "      <td>21.321</td>\n",
       "      <td>3.0</td>\n",
       "      <td>57.848</td>\n",
       "      <td>35.19</td>\n",
       "      <td>8.345</td>\n",
       "      <td>72.9</td>\n",
       "      <td>15.460</td>\n",
       "      <td>21.9</td>\n",
       "      <td>52.828</td>\n",
       "      <td>98.850</td>\n",
       "      <td>58.849</td>\n",
       "      <td>98.5</td>\n",
       "      <td>81.3</td>\n",
       "      <td>83.9</td>\n",
       "      <td>42.9</td>\n",
       "      <td>18.8</td>\n",
       "      <td>5.3</td>\n",
       "      <td>5.5</td>\n",
       "      <td>18.7</td>\n",
       "      <td>19.5</td>\n",
       "      <td>5.2</td>\n",
       "      <td>5.4</td>\n",
       "      <td>18.7</td>\n",
       "      <td>82.1</td>\n",
       "      <td>64.0</td>\n",
       "      <td>62.8</td>\n",
       "      <td>79.4</td>\n",
       "      <td>61.1</td>\n",
       "      <td>56.9</td>\n",
       "      <td>63.288</td>\n",
       "      <td>36.718</td>\n",
       "      <td>57.917</td>\n",
       "      <td>28.385</td>\n",
       "      <td>84.369</td>\n",
       "      <td>65.374</td>\n",
       "      <td>41.528571</td>\n",
       "      <td>78.452571</td>\n",
       "      <td>91.285714</td>\n",
       "      <td>25.091667</td>\n",
       "      <td>70.175667</td>\n",
       "      <td>76.650</td>\n",
       "      <td>35.957143</td>\n",
       "      <td>56.008500</td>\n",
       "      <td>41.528571</td>\n",
       "      <td>11.563289</td>\n",
       "      <td>522.980274</td>\n",
       "      <td>6.380997</td>\n",
       "      <td>53.951564</td>\n",
       "      <td>5.0</td>\n",
       "      <td>8.0</td>\n",
       "      <td>7.0</td>\n",
       "      <td>7.0</td>\n",
       "      <td>7.0</td>\n",
       "      <td>6.0</td>\n",
       "    </tr>\n",
       "    <tr>\n",
       "      <th>1</th>\n",
       "      <td>BART</td>\n",
       "      <td>43.071429</td>\n",
       "      <td>8.967</td>\n",
       "      <td>29.170</td>\n",
       "      <td>44.442857</td>\n",
       "      <td>31.844</td>\n",
       "      <td>11.504</td>\n",
       "      <td>5.400000</td>\n",
       "      <td>3.107</td>\n",
       "      <td>0.713</td>\n",
       "      <td>25.028571</td>\n",
       "      <td>11.058</td>\n",
       "      <td>2.953</td>\n",
       "      <td>33.7</td>\n",
       "      <td>37.3</td>\n",
       "      <td>84.1</td>\n",
       "      <td>59.4</td>\n",
       "      <td>53.0</td>\n",
       "      <td>35.4</td>\n",
       "      <td>50.3</td>\n",
       "      <td>33.2</td>\n",
       "      <td>0.380</td>\n",
       "      <td>0.056</td>\n",
       "      <td>4.1</td>\n",
       "      <td>0.110</td>\n",
       "      <td>3.5</td>\n",
       "      <td>0.000</td>\n",
       "      <td>0.00</td>\n",
       "      <td>4.893</td>\n",
       "      <td>76.0</td>\n",
       "      <td>1.002</td>\n",
       "      <td>44.4</td>\n",
       "      <td>42.563</td>\n",
       "      <td>96.450</td>\n",
       "      <td>41.761</td>\n",
       "      <td>85.9</td>\n",
       "      <td>63.7</td>\n",
       "      <td>55.1</td>\n",
       "      <td>25.3</td>\n",
       "      <td>7.9</td>\n",
       "      <td>1.6</td>\n",
       "      <td>1.5</td>\n",
       "      <td>7.8</td>\n",
       "      <td>8.1</td>\n",
       "      <td>1.6</td>\n",
       "      <td>1.6</td>\n",
       "      <td>8.1</td>\n",
       "      <td>74.8</td>\n",
       "      <td>55.6</td>\n",
       "      <td>55.6</td>\n",
       "      <td>69.4</td>\n",
       "      <td>48.8</td>\n",
       "      <td>47.7</td>\n",
       "      <td>1.277</td>\n",
       "      <td>0.256</td>\n",
       "      <td>9.961</td>\n",
       "      <td>1.953</td>\n",
       "      <td>5.444</td>\n",
       "      <td>1.031</td>\n",
       "      <td>35.871429</td>\n",
       "      <td>18.104905</td>\n",
       "      <td>50.457143</td>\n",
       "      <td>13.970083</td>\n",
       "      <td>60.258000</td>\n",
       "      <td>57.500</td>\n",
       "      <td>27.864286</td>\n",
       "      <td>3.320333</td>\n",
       "      <td>35.871429</td>\n",
       "      <td>8.182292</td>\n",
       "      <td>292.582159</td>\n",
       "      <td>3.324922</td>\n",
       "      <td>27.982900</td>\n",
       "      <td>15.0</td>\n",
       "      <td>15.0</td>\n",
       "      <td>15.0</td>\n",
       "      <td>15.0</td>\n",
       "      <td>2.0</td>\n",
       "      <td>3.0</td>\n",
       "    </tr>\n",
       "    <tr>\n",
       "      <th>2</th>\n",
       "      <td>BERT</td>\n",
       "      <td>47.357143</td>\n",
       "      <td>14.520</td>\n",
       "      <td>38.137</td>\n",
       "      <td>50.014286</td>\n",
       "      <td>42.442</td>\n",
       "      <td>18.191</td>\n",
       "      <td>7.528571</td>\n",
       "      <td>4.616</td>\n",
       "      <td>1.173</td>\n",
       "      <td>28.457143</td>\n",
       "      <td>16.037</td>\n",
       "      <td>4.795</td>\n",
       "      <td>32.8</td>\n",
       "      <td>39.6</td>\n",
       "      <td>90.2</td>\n",
       "      <td>59.4</td>\n",
       "      <td>59.0</td>\n",
       "      <td>37.6</td>\n",
       "      <td>47.4</td>\n",
       "      <td>33.0</td>\n",
       "      <td>0.360</td>\n",
       "      <td>0.055</td>\n",
       "      <td>3.8</td>\n",
       "      <td>0.096</td>\n",
       "      <td>3.4</td>\n",
       "      <td>0.000</td>\n",
       "      <td>0.00</td>\n",
       "      <td>5.503</td>\n",
       "      <td>75.9</td>\n",
       "      <td>0.961</td>\n",
       "      <td>45.5</td>\n",
       "      <td>42.593</td>\n",
       "      <td>97.400</td>\n",
       "      <td>44.265</td>\n",
       "      <td>91.1</td>\n",
       "      <td>66.2</td>\n",
       "      <td>57.6</td>\n",
       "      <td>4.1</td>\n",
       "      <td>8.1</td>\n",
       "      <td>1.6</td>\n",
       "      <td>1.5</td>\n",
       "      <td>8.3</td>\n",
       "      <td>8.2</td>\n",
       "      <td>1.5</td>\n",
       "      <td>1.6</td>\n",
       "      <td>8.5</td>\n",
       "      <td>75.6</td>\n",
       "      <td>59.9</td>\n",
       "      <td>58.7</td>\n",
       "      <td>72.2</td>\n",
       "      <td>50.3</td>\n",
       "      <td>50.4</td>\n",
       "      <td>1.269</td>\n",
       "      <td>0.233</td>\n",
       "      <td>9.766</td>\n",
       "      <td>1.953</td>\n",
       "      <td>6.040</td>\n",
       "      <td>1.287</td>\n",
       "      <td>34.628571</td>\n",
       "      <td>22.772345</td>\n",
       "      <td>52.285714</td>\n",
       "      <td>14.047917</td>\n",
       "      <td>61.419333</td>\n",
       "      <td>54.750</td>\n",
       "      <td>29.028571</td>\n",
       "      <td>3.424667</td>\n",
       "      <td>34.628571</td>\n",
       "      <td>7.529167</td>\n",
       "      <td>298.872592</td>\n",
       "      <td>3.587227</td>\n",
       "      <td>29.414190</td>\n",
       "      <td>14.0</td>\n",
       "      <td>14.0</td>\n",
       "      <td>13.0</td>\n",
       "      <td>14.0</td>\n",
       "      <td>4.0</td>\n",
       "      <td>1.0</td>\n",
       "    </tr>\n",
       "    <tr>\n",
       "      <th>3</th>\n",
       "      <td>CLIP-B16-224</td>\n",
       "      <td>87.028571</td>\n",
       "      <td>74.731</td>\n",
       "      <td>93.760</td>\n",
       "      <td>95.628571</td>\n",
       "      <td>98.679</td>\n",
       "      <td>91.496</td>\n",
       "      <td>89.257143</td>\n",
       "      <td>95.708</td>\n",
       "      <td>81.815</td>\n",
       "      <td>74.900000</td>\n",
       "      <td>83.864</td>\n",
       "      <td>53.445</td>\n",
       "      <td>85.4</td>\n",
       "      <td>96.2</td>\n",
       "      <td>98.9</td>\n",
       "      <td>98.9</td>\n",
       "      <td>96.5</td>\n",
       "      <td>84.3</td>\n",
       "      <td>97.9</td>\n",
       "      <td>31.3</td>\n",
       "      <td>33.804</td>\n",
       "      <td>29.609</td>\n",
       "      <td>3.2</td>\n",
       "      <td>30.369</td>\n",
       "      <td>4.6</td>\n",
       "      <td>65.142</td>\n",
       "      <td>40.06</td>\n",
       "      <td>7.545</td>\n",
       "      <td>71.3</td>\n",
       "      <td>26.619</td>\n",
       "      <td>36.8</td>\n",
       "      <td>52.622</td>\n",
       "      <td>99.113</td>\n",
       "      <td>61.218</td>\n",
       "      <td>98.6</td>\n",
       "      <td>81.6</td>\n",
       "      <td>86.7</td>\n",
       "      <td>46.2</td>\n",
       "      <td>20.9</td>\n",
       "      <td>5.5</td>\n",
       "      <td>6.2</td>\n",
       "      <td>20.6</td>\n",
       "      <td>21.0</td>\n",
       "      <td>5.7</td>\n",
       "      <td>6.0</td>\n",
       "      <td>19.9</td>\n",
       "      <td>85.2</td>\n",
       "      <td>67.9</td>\n",
       "      <td>61.8</td>\n",
       "      <td>81.7</td>\n",
       "      <td>48.6</td>\n",
       "      <td>54.0</td>\n",
       "      <td>71.240</td>\n",
       "      <td>44.574</td>\n",
       "      <td>70.039</td>\n",
       "      <td>40.404</td>\n",
       "      <td>88.238</td>\n",
       "      <td>71.440</td>\n",
       "      <td>48.385714</td>\n",
       "      <td>85.026024</td>\n",
       "      <td>94.014286</td>\n",
       "      <td>31.695667</td>\n",
       "      <td>70.984333</td>\n",
       "      <td>78.275</td>\n",
       "      <td>36.071429</td>\n",
       "      <td>64.322500</td>\n",
       "      <td>48.385714</td>\n",
       "      <td>13.055238</td>\n",
       "      <td>559.316583</td>\n",
       "      <td>7.150156</td>\n",
       "      <td>56.687171</td>\n",
       "      <td>4.0</td>\n",
       "      <td>2.0</td>\n",
       "      <td>3.0</td>\n",
       "      <td>3.0</td>\n",
       "      <td>15.0</td>\n",
       "      <td>11.0</td>\n",
       "    </tr>\n",
       "    <tr>\n",
       "      <th>4</th>\n",
       "      <td>ConvNextV2-Base</td>\n",
       "      <td>90.857143</td>\n",
       "      <td>84.126</td>\n",
       "      <td>97.422</td>\n",
       "      <td>96.114286</td>\n",
       "      <td>98.991</td>\n",
       "      <td>92.896</td>\n",
       "      <td>90.928571</td>\n",
       "      <td>96.851</td>\n",
       "      <td>85.288</td>\n",
       "      <td>76.300000</td>\n",
       "      <td>85.325</td>\n",
       "      <td>54.726</td>\n",
       "      <td>85.7</td>\n",
       "      <td>95.8</td>\n",
       "      <td>98.6</td>\n",
       "      <td>99.6</td>\n",
       "      <td>96.7</td>\n",
       "      <td>85.0</td>\n",
       "      <td>98.0</td>\n",
       "      <td>52.8</td>\n",
       "      <td>37.253</td>\n",
       "      <td>26.840</td>\n",
       "      <td>85.3</td>\n",
       "      <td>25.059</td>\n",
       "      <td>83.1</td>\n",
       "      <td>62.341</td>\n",
       "      <td>41.78</td>\n",
       "      <td>5.260</td>\n",
       "      <td>77.5</td>\n",
       "      <td>32.665</td>\n",
       "      <td>70.3</td>\n",
       "      <td>52.606</td>\n",
       "      <td>99.787</td>\n",
       "      <td>77.402</td>\n",
       "      <td>99.1</td>\n",
       "      <td>81.8</td>\n",
       "      <td>87.5</td>\n",
       "      <td>36.4</td>\n",
       "      <td>21.2</td>\n",
       "      <td>5.5</td>\n",
       "      <td>6.0</td>\n",
       "      <td>20.5</td>\n",
       "      <td>21.4</td>\n",
       "      <td>5.8</td>\n",
       "      <td>6.3</td>\n",
       "      <td>21.0</td>\n",
       "      <td>80.3</td>\n",
       "      <td>61.0</td>\n",
       "      <td>61.6</td>\n",
       "      <td>78.3</td>\n",
       "      <td>39.8</td>\n",
       "      <td>47.8</td>\n",
       "      <td>75.765</td>\n",
       "      <td>49.011</td>\n",
       "      <td>77.539</td>\n",
       "      <td>50.326</td>\n",
       "      <td>94.737</td>\n",
       "      <td>84.106</td>\n",
       "      <td>50.771429</td>\n",
       "      <td>87.485417</td>\n",
       "      <td>94.200000</td>\n",
       "      <td>50.016500</td>\n",
       "      <td>76.598333</td>\n",
       "      <td>76.200</td>\n",
       "      <td>34.035714</td>\n",
       "      <td>71.914000</td>\n",
       "      <td>50.771429</td>\n",
       "      <td>15.452470</td>\n",
       "      <td>593.421597</td>\n",
       "      <td>8.427103</td>\n",
       "      <td>59.869131</td>\n",
       "      <td>1.0</td>\n",
       "      <td>1.0</td>\n",
       "      <td>1.0</td>\n",
       "      <td>1.0</td>\n",
       "      <td>16.0</td>\n",
       "      <td>16.0</td>\n",
       "    </tr>\n",
       "    <tr>\n",
       "      <th>5</th>\n",
       "      <td>DINO-B16-224</td>\n",
       "      <td>82.857143</td>\n",
       "      <td>66.282</td>\n",
       "      <td>89.590</td>\n",
       "      <td>93.171429</td>\n",
       "      <td>97.449</td>\n",
       "      <td>86.519</td>\n",
       "      <td>80.342857</td>\n",
       "      <td>88.493</td>\n",
       "      <td>67.529</td>\n",
       "      <td>71.614286</td>\n",
       "      <td>79.704</td>\n",
       "      <td>47.454</td>\n",
       "      <td>81.2</td>\n",
       "      <td>89.9</td>\n",
       "      <td>98.7</td>\n",
       "      <td>95.9</td>\n",
       "      <td>95.6</td>\n",
       "      <td>79.1</td>\n",
       "      <td>95.9</td>\n",
       "      <td>26.7</td>\n",
       "      <td>18.610</td>\n",
       "      <td>24.968</td>\n",
       "      <td>3.1</td>\n",
       "      <td>24.292</td>\n",
       "      <td>4.9</td>\n",
       "      <td>60.224</td>\n",
       "      <td>36.13</td>\n",
       "      <td>6.138</td>\n",
       "      <td>71.4</td>\n",
       "      <td>18.184</td>\n",
       "      <td>30.2</td>\n",
       "      <td>52.846</td>\n",
       "      <td>99.188</td>\n",
       "      <td>61.001</td>\n",
       "      <td>98.7</td>\n",
       "      <td>81.9</td>\n",
       "      <td>84.7</td>\n",
       "      <td>48.5</td>\n",
       "      <td>19.6</td>\n",
       "      <td>4.6</td>\n",
       "      <td>5.4</td>\n",
       "      <td>18.6</td>\n",
       "      <td>20.0</td>\n",
       "      <td>5.2</td>\n",
       "      <td>5.3</td>\n",
       "      <td>19.0</td>\n",
       "      <td>85.6</td>\n",
       "      <td>68.2</td>\n",
       "      <td>65.5</td>\n",
       "      <td>81.8</td>\n",
       "      <td>49.5</td>\n",
       "      <td>48.3</td>\n",
       "      <td>55.634</td>\n",
       "      <td>29.529</td>\n",
       "      <td>56.525</td>\n",
       "      <td>27.995</td>\n",
       "      <td>77.125</td>\n",
       "      <td>52.769</td>\n",
       "      <td>42.714286</td>\n",
       "      <td>79.250476</td>\n",
       "      <td>90.900000</td>\n",
       "      <td>27.070500</td>\n",
       "      <td>71.011667</td>\n",
       "      <td>78.450</td>\n",
       "      <td>35.471429</td>\n",
       "      <td>49.929500</td>\n",
       "      <td>42.714286</td>\n",
       "      <td>12.067574</td>\n",
       "      <td>522.080015</td>\n",
       "      <td>6.586293</td>\n",
       "      <td>52.592436</td>\n",
       "      <td>10.0</td>\n",
       "      <td>10.0</td>\n",
       "      <td>8.0</td>\n",
       "      <td>8.0</td>\n",
       "      <td>8.0</td>\n",
       "      <td>8.0</td>\n",
       "    </tr>\n",
       "    <tr>\n",
       "      <th>6</th>\n",
       "      <td>DeiT3-B16-224</td>\n",
       "      <td>83.400000</td>\n",
       "      <td>66.750</td>\n",
       "      <td>90.844</td>\n",
       "      <td>93.614286</td>\n",
       "      <td>97.718</td>\n",
       "      <td>87.331</td>\n",
       "      <td>88.657143</td>\n",
       "      <td>94.675</td>\n",
       "      <td>82.011</td>\n",
       "      <td>72.242857</td>\n",
       "      <td>80.614</td>\n",
       "      <td>48.677</td>\n",
       "      <td>80.5</td>\n",
       "      <td>98.8</td>\n",
       "      <td>98.6</td>\n",
       "      <td>96.2</td>\n",
       "      <td>95.3</td>\n",
       "      <td>81.9</td>\n",
       "      <td>96.2</td>\n",
       "      <td>29.7</td>\n",
       "      <td>21.900</td>\n",
       "      <td>28.345</td>\n",
       "      <td>4.7</td>\n",
       "      <td>26.125</td>\n",
       "      <td>4.1</td>\n",
       "      <td>62.833</td>\n",
       "      <td>35.99</td>\n",
       "      <td>7.488</td>\n",
       "      <td>70.8</td>\n",
       "      <td>22.291</td>\n",
       "      <td>33.3</td>\n",
       "      <td>52.342</td>\n",
       "      <td>99.350</td>\n",
       "      <td>62.701</td>\n",
       "      <td>98.5</td>\n",
       "      <td>82.7</td>\n",
       "      <td>81.8</td>\n",
       "      <td>40.9</td>\n",
       "      <td>20.0</td>\n",
       "      <td>5.0</td>\n",
       "      <td>5.6</td>\n",
       "      <td>19.2</td>\n",
       "      <td>21.9</td>\n",
       "      <td>6.0</td>\n",
       "      <td>6.5</td>\n",
       "      <td>20.5</td>\n",
       "      <td>82.6</td>\n",
       "      <td>67.0</td>\n",
       "      <td>63.9</td>\n",
       "      <td>81.0</td>\n",
       "      <td>42.4</td>\n",
       "      <td>49.2</td>\n",
       "      <td>66.558</td>\n",
       "      <td>39.528</td>\n",
       "      <td>64.338</td>\n",
       "      <td>36.523</td>\n",
       "      <td>88.506</td>\n",
       "      <td>70.411</td>\n",
       "      <td>54.371429</td>\n",
       "      <td>82.211190</td>\n",
       "      <td>92.500000</td>\n",
       "      <td>28.964333</td>\n",
       "      <td>71.464333</td>\n",
       "      <td>75.975</td>\n",
       "      <td>35.057143</td>\n",
       "      <td>60.977333</td>\n",
       "      <td>54.371429</td>\n",
       "      <td>13.454807</td>\n",
       "      <td>550.756051</td>\n",
       "      <td>6.923988</td>\n",
       "      <td>55.741324</td>\n",
       "      <td>3.0</td>\n",
       "      <td>4.0</td>\n",
       "      <td>4.0</td>\n",
       "      <td>5.0</td>\n",
       "      <td>13.0</td>\n",
       "      <td>13.0</td>\n",
       "    </tr>\n",
       "    <tr>\n",
       "      <th>7</th>\n",
       "      <td>EffFormer-s0</td>\n",
       "      <td>50.314286</td>\n",
       "      <td>16.511</td>\n",
       "      <td>43.571</td>\n",
       "      <td>78.814286</td>\n",
       "      <td>86.983</td>\n",
       "      <td>62.578</td>\n",
       "      <td>59.571429</td>\n",
       "      <td>72.456</td>\n",
       "      <td>44.615</td>\n",
       "      <td>53.200000</td>\n",
       "      <td>55.901</td>\n",
       "      <td>25.548</td>\n",
       "      <td>51.2</td>\n",
       "      <td>90.8</td>\n",
       "      <td>95.4</td>\n",
       "      <td>90.3</td>\n",
       "      <td>77.5</td>\n",
       "      <td>56.7</td>\n",
       "      <td>86.3</td>\n",
       "      <td>33.8</td>\n",
       "      <td>9.801</td>\n",
       "      <td>13.995</td>\n",
       "      <td>9.7</td>\n",
       "      <td>13.549</td>\n",
       "      <td>13.5</td>\n",
       "      <td>2.492</td>\n",
       "      <td>0.00</td>\n",
       "      <td>10.498</td>\n",
       "      <td>76.4</td>\n",
       "      <td>14.026</td>\n",
       "      <td>51.4</td>\n",
       "      <td>45.115</td>\n",
       "      <td>98.700</td>\n",
       "      <td>53.862</td>\n",
       "      <td>81.8</td>\n",
       "      <td>80.0</td>\n",
       "      <td>81.8</td>\n",
       "      <td>27.0</td>\n",
       "      <td>15.6</td>\n",
       "      <td>3.5</td>\n",
       "      <td>4.2</td>\n",
       "      <td>16.0</td>\n",
       "      <td>15.1</td>\n",
       "      <td>3.4</td>\n",
       "      <td>3.4</td>\n",
       "      <td>14.4</td>\n",
       "      <td>77.5</td>\n",
       "      <td>60.5</td>\n",
       "      <td>59.4</td>\n",
       "      <td>78.2</td>\n",
       "      <td>51.3</td>\n",
       "      <td>56.8</td>\n",
       "      <td>1.334</td>\n",
       "      <td>0.279</td>\n",
       "      <td>9.726</td>\n",
       "      <td>1.628</td>\n",
       "      <td>5.173</td>\n",
       "      <td>0.840</td>\n",
       "      <td>50.214286</td>\n",
       "      <td>54.171917</td>\n",
       "      <td>78.314286</td>\n",
       "      <td>20.763417</td>\n",
       "      <td>65.892333</td>\n",
       "      <td>67.650</td>\n",
       "      <td>32.807143</td>\n",
       "      <td>3.163333</td>\n",
       "      <td>50.214286</td>\n",
       "      <td>11.565327</td>\n",
       "      <td>408.033476</td>\n",
       "      <td>6.035826</td>\n",
       "      <td>37.683726</td>\n",
       "      <td>11.0</td>\n",
       "      <td>11.0</td>\n",
       "      <td>12.0</td>\n",
       "      <td>12.0</td>\n",
       "      <td>6.0</td>\n",
       "      <td>7.0</td>\n",
       "    </tr>\n",
       "    <tr>\n",
       "      <th>8</th>\n",
       "      <td>EffV2-RW-S</td>\n",
       "      <td>79.128571</td>\n",
       "      <td>64.968</td>\n",
       "      <td>89.471</td>\n",
       "      <td>90.814286</td>\n",
       "      <td>96.816</td>\n",
       "      <td>85.282</td>\n",
       "      <td>81.485714</td>\n",
       "      <td>90.439</td>\n",
       "      <td>71.549</td>\n",
       "      <td>73.685714</td>\n",
       "      <td>82.389</td>\n",
       "      <td>51.066</td>\n",
       "      <td>73.7</td>\n",
       "      <td>62.8</td>\n",
       "      <td>98.6</td>\n",
       "      <td>91.2</td>\n",
       "      <td>89.4</td>\n",
       "      <td>59.5</td>\n",
       "      <td>92.1</td>\n",
       "      <td>32.1</td>\n",
       "      <td>12.668</td>\n",
       "      <td>8.704</td>\n",
       "      <td>6.3</td>\n",
       "      <td>8.268</td>\n",
       "      <td>4.5</td>\n",
       "      <td>63.144</td>\n",
       "      <td>40.18</td>\n",
       "      <td>8.216</td>\n",
       "      <td>75.6</td>\n",
       "      <td>11.776</td>\n",
       "      <td>38.2</td>\n",
       "      <td>39.848</td>\n",
       "      <td>97.463</td>\n",
       "      <td>43.199</td>\n",
       "      <td>97.5</td>\n",
       "      <td>81.8</td>\n",
       "      <td>86.1</td>\n",
       "      <td>60.9</td>\n",
       "      <td>17.3</td>\n",
       "      <td>4.0</td>\n",
       "      <td>3.7</td>\n",
       "      <td>16.1</td>\n",
       "      <td>16.8</td>\n",
       "      <td>3.5</td>\n",
       "      <td>3.4</td>\n",
       "      <td>14.9</td>\n",
       "      <td>65.1</td>\n",
       "      <td>46.3</td>\n",
       "      <td>46.0</td>\n",
       "      <td>62.5</td>\n",
       "      <td>50.0</td>\n",
       "      <td>50.0</td>\n",
       "      <td>2.357</td>\n",
       "      <td>0.561</td>\n",
       "      <td>27.699</td>\n",
       "      <td>11.068</td>\n",
       "      <td>25.840</td>\n",
       "      <td>9.611</td>\n",
       "      <td>47.128571</td>\n",
       "      <td>79.757857</td>\n",
       "      <td>81.042857</td>\n",
       "      <td>25.804667</td>\n",
       "      <td>60.170000</td>\n",
       "      <td>81.575</td>\n",
       "      <td>28.542857</td>\n",
       "      <td>12.856000</td>\n",
       "      <td>47.128571</td>\n",
       "      <td>13.231637</td>\n",
       "      <td>455.755899</td>\n",
       "      <td>6.897196</td>\n",
       "      <td>41.585174</td>\n",
       "      <td>9.0</td>\n",
       "      <td>9.0</td>\n",
       "      <td>11.0</td>\n",
       "      <td>11.0</td>\n",
       "      <td>12.0</td>\n",
       "      <td>12.0</td>\n",
       "    </tr>\n",
       "    <tr>\n",
       "      <th>9</th>\n",
       "      <td>Flex-B-1200EP</td>\n",
       "      <td>87.428571</td>\n",
       "      <td>75.100</td>\n",
       "      <td>94.367</td>\n",
       "      <td>94.400000</td>\n",
       "      <td>98.093</td>\n",
       "      <td>89.142</td>\n",
       "      <td>89.142857</td>\n",
       "      <td>95.428</td>\n",
       "      <td>82.265</td>\n",
       "      <td>74.528571</td>\n",
       "      <td>83.311</td>\n",
       "      <td>52.065</td>\n",
       "      <td>83.7</td>\n",
       "      <td>99.1</td>\n",
       "      <td>98.9</td>\n",
       "      <td>96.7</td>\n",
       "      <td>95.9</td>\n",
       "      <td>78.4</td>\n",
       "      <td>96.4</td>\n",
       "      <td>29.2</td>\n",
       "      <td>23.308</td>\n",
       "      <td>30.371</td>\n",
       "      <td>5.2</td>\n",
       "      <td>27.997</td>\n",
       "      <td>4.7</td>\n",
       "      <td>66.623</td>\n",
       "      <td>38.59</td>\n",
       "      <td>6.197</td>\n",
       "      <td>72.5</td>\n",
       "      <td>21.660</td>\n",
       "      <td>31.4</td>\n",
       "      <td>51.956</td>\n",
       "      <td>98.825</td>\n",
       "      <td>59.879</td>\n",
       "      <td>98.5</td>\n",
       "      <td>82.9</td>\n",
       "      <td>85.7</td>\n",
       "      <td>45.4</td>\n",
       "      <td>20.8</td>\n",
       "      <td>4.9</td>\n",
       "      <td>5.9</td>\n",
       "      <td>20.0</td>\n",
       "      <td>20.9</td>\n",
       "      <td>5.3</td>\n",
       "      <td>5.3</td>\n",
       "      <td>19.6</td>\n",
       "      <td>81.0</td>\n",
       "      <td>63.7</td>\n",
       "      <td>60.6</td>\n",
       "      <td>79.0</td>\n",
       "      <td>48.2</td>\n",
       "      <td>50.2</td>\n",
       "      <td>67.584</td>\n",
       "      <td>40.673</td>\n",
       "      <td>60.885</td>\n",
       "      <td>32.227</td>\n",
       "      <td>81.510</td>\n",
       "      <td>63.159</td>\n",
       "      <td>54.957143</td>\n",
       "      <td>84.605917</td>\n",
       "      <td>92.728571</td>\n",
       "      <td>29.812167</td>\n",
       "      <td>70.220000</td>\n",
       "      <td>78.125</td>\n",
       "      <td>34.671429</td>\n",
       "      <td>57.673000</td>\n",
       "      <td>54.957143</td>\n",
       "      <td>13.778914</td>\n",
       "      <td>551.863466</td>\n",
       "      <td>6.949221</td>\n",
       "      <td>55.083950</td>\n",
       "      <td>2.0</td>\n",
       "      <td>3.0</td>\n",
       "      <td>5.0</td>\n",
       "      <td>4.0</td>\n",
       "      <td>14.0</td>\n",
       "      <td>15.0</td>\n",
       "    </tr>\n",
       "    <tr>\n",
       "      <th>10</th>\n",
       "      <td>Laion-B16-224</td>\n",
       "      <td>87.242857</td>\n",
       "      <td>75.139</td>\n",
       "      <td>93.859</td>\n",
       "      <td>95.585714</td>\n",
       "      <td>98.710</td>\n",
       "      <td>91.334</td>\n",
       "      <td>84.571429</td>\n",
       "      <td>93.055</td>\n",
       "      <td>74.079</td>\n",
       "      <td>74.257143</td>\n",
       "      <td>83.650</td>\n",
       "      <td>52.924</td>\n",
       "      <td>85.2</td>\n",
       "      <td>90.8</td>\n",
       "      <td>98.9</td>\n",
       "      <td>96.8</td>\n",
       "      <td>96.1</td>\n",
       "      <td>85.4</td>\n",
       "      <td>96.6</td>\n",
       "      <td>24.0</td>\n",
       "      <td>27.604</td>\n",
       "      <td>30.564</td>\n",
       "      <td>3.2</td>\n",
       "      <td>27.208</td>\n",
       "      <td>2.6</td>\n",
       "      <td>66.612</td>\n",
       "      <td>42.00</td>\n",
       "      <td>5.023</td>\n",
       "      <td>73.4</td>\n",
       "      <td>18.823</td>\n",
       "      <td>26.7</td>\n",
       "      <td>46.963</td>\n",
       "      <td>99.000</td>\n",
       "      <td>61.104</td>\n",
       "      <td>98.6</td>\n",
       "      <td>81.7</td>\n",
       "      <td>84.9</td>\n",
       "      <td>43.6</td>\n",
       "      <td>20.9</td>\n",
       "      <td>5.2</td>\n",
       "      <td>5.9</td>\n",
       "      <td>20.2</td>\n",
       "      <td>21.3</td>\n",
       "      <td>5.9</td>\n",
       "      <td>6.6</td>\n",
       "      <td>21.2</td>\n",
       "      <td>91.0</td>\n",
       "      <td>67.6</td>\n",
       "      <td>64.8</td>\n",
       "      <td>85.6</td>\n",
       "      <td>48.2</td>\n",
       "      <td>56.2</td>\n",
       "      <td>70.913</td>\n",
       "      <td>43.591</td>\n",
       "      <td>54.242</td>\n",
       "      <td>26.202</td>\n",
       "      <td>83.914</td>\n",
       "      <td>62.289</td>\n",
       "      <td>45.600000</td>\n",
       "      <td>83.700595</td>\n",
       "      <td>92.828571</td>\n",
       "      <td>28.977833</td>\n",
       "      <td>69.022333</td>\n",
       "      <td>77.200</td>\n",
       "      <td>37.185714</td>\n",
       "      <td>56.858500</td>\n",
       "      <td>45.600000</td>\n",
       "      <td>12.412054</td>\n",
       "      <td>540.383187</td>\n",
       "      <td>6.653583</td>\n",
       "      <td>55.010988</td>\n",
       "      <td>8.0</td>\n",
       "      <td>7.0</td>\n",
       "      <td>6.0</td>\n",
       "      <td>6.0</td>\n",
       "      <td>9.0</td>\n",
       "      <td>9.0</td>\n",
       "    </tr>\n",
       "    <tr>\n",
       "      <th>11</th>\n",
       "      <td>MPNET</td>\n",
       "      <td>34.214286</td>\n",
       "      <td>0.995</td>\n",
       "      <td>5.006</td>\n",
       "      <td>41.714286</td>\n",
       "      <td>26.332</td>\n",
       "      <td>8.421</td>\n",
       "      <td>2.485714</td>\n",
       "      <td>1.033</td>\n",
       "      <td>0.238</td>\n",
       "      <td>15.700000</td>\n",
       "      <td>1.368</td>\n",
       "      <td>0.274</td>\n",
       "      <td>6.6</td>\n",
       "      <td>36.7</td>\n",
       "      <td>90.7</td>\n",
       "      <td>60.5</td>\n",
       "      <td>15.8</td>\n",
       "      <td>38.3</td>\n",
       "      <td>48.5</td>\n",
       "      <td>33.0</td>\n",
       "      <td>0.368</td>\n",
       "      <td>0.055</td>\n",
       "      <td>3.8</td>\n",
       "      <td>0.104</td>\n",
       "      <td>3.0</td>\n",
       "      <td>0.000</td>\n",
       "      <td>0.00</td>\n",
       "      <td>5.452</td>\n",
       "      <td>75.8</td>\n",
       "      <td>0.948</td>\n",
       "      <td>42.2</td>\n",
       "      <td>41.279</td>\n",
       "      <td>93.238</td>\n",
       "      <td>36.811</td>\n",
       "      <td>83.3</td>\n",
       "      <td>61.2</td>\n",
       "      <td>51.8</td>\n",
       "      <td>25.3</td>\n",
       "      <td>7.9</td>\n",
       "      <td>1.6</td>\n",
       "      <td>1.6</td>\n",
       "      <td>7.9</td>\n",
       "      <td>7.9</td>\n",
       "      <td>1.6</td>\n",
       "      <td>1.6</td>\n",
       "      <td>7.9</td>\n",
       "      <td>13.2</td>\n",
       "      <td>2.6</td>\n",
       "      <td>2.6</td>\n",
       "      <td>13.2</td>\n",
       "      <td>38.6</td>\n",
       "      <td>52.0</td>\n",
       "      <td>1.277</td>\n",
       "      <td>0.248</td>\n",
       "      <td>9.766</td>\n",
       "      <td>1.432</td>\n",
       "      <td>6.040</td>\n",
       "      <td>1.392</td>\n",
       "      <td>34.400000</td>\n",
       "      <td>11.481774</td>\n",
       "      <td>42.442857</td>\n",
       "      <td>13.727250</td>\n",
       "      <td>57.109333</td>\n",
       "      <td>55.400</td>\n",
       "      <td>11.442857</td>\n",
       "      <td>3.359167</td>\n",
       "      <td>34.400000</td>\n",
       "      <td>7.714732</td>\n",
       "      <td>250.318911</td>\n",
       "      <td>2.946106</td>\n",
       "      <td>26.348773</td>\n",
       "      <td>16.0</td>\n",
       "      <td>16.0</td>\n",
       "      <td>16.0</td>\n",
       "      <td>16.0</td>\n",
       "      <td>1.0</td>\n",
       "      <td>2.0</td>\n",
       "    </tr>\n",
       "    <tr>\n",
       "      <th>12</th>\n",
       "      <td>RNX50-32x4A1</td>\n",
       "      <td>82.085714</td>\n",
       "      <td>68.312</td>\n",
       "      <td>91.262</td>\n",
       "      <td>91.100000</td>\n",
       "      <td>96.934</td>\n",
       "      <td>85.452</td>\n",
       "      <td>85.228571</td>\n",
       "      <td>93.232</td>\n",
       "      <td>77.340</td>\n",
       "      <td>74.000000</td>\n",
       "      <td>82.509</td>\n",
       "      <td>51.461</td>\n",
       "      <td>74.8</td>\n",
       "      <td>78.3</td>\n",
       "      <td>98.5</td>\n",
       "      <td>87.8</td>\n",
       "      <td>93.2</td>\n",
       "      <td>64.8</td>\n",
       "      <td>92.7</td>\n",
       "      <td>31.4</td>\n",
       "      <td>18.171</td>\n",
       "      <td>18.284</td>\n",
       "      <td>8.7</td>\n",
       "      <td>16.795</td>\n",
       "      <td>9.5</td>\n",
       "      <td>38.788</td>\n",
       "      <td>25.52</td>\n",
       "      <td>6.650</td>\n",
       "      <td>75.8</td>\n",
       "      <td>16.606</td>\n",
       "      <td>33.8</td>\n",
       "      <td>39.924</td>\n",
       "      <td>96.725</td>\n",
       "      <td>42.582</td>\n",
       "      <td>97.7</td>\n",
       "      <td>80.0</td>\n",
       "      <td>85.6</td>\n",
       "      <td>42.9</td>\n",
       "      <td>16.3</td>\n",
       "      <td>3.8</td>\n",
       "      <td>3.7</td>\n",
       "      <td>16.1</td>\n",
       "      <td>17.3</td>\n",
       "      <td>4.1</td>\n",
       "      <td>3.9</td>\n",
       "      <td>16.3</td>\n",
       "      <td>63.9</td>\n",
       "      <td>51.0</td>\n",
       "      <td>49.1</td>\n",
       "      <td>61.4</td>\n",
       "      <td>50.0</td>\n",
       "      <td>50.0</td>\n",
       "      <td>8.813</td>\n",
       "      <td>2.399</td>\n",
       "      <td>22.161</td>\n",
       "      <td>5.182</td>\n",
       "      <td>41.912</td>\n",
       "      <td>19.380</td>\n",
       "      <td>47.857143</td>\n",
       "      <td>81.576357</td>\n",
       "      <td>84.300000</td>\n",
       "      <td>25.001167</td>\n",
       "      <td>59.743667</td>\n",
       "      <td>76.550</td>\n",
       "      <td>29.064286</td>\n",
       "      <td>16.641167</td>\n",
       "      <td>47.857143</td>\n",
       "      <td>12.709583</td>\n",
       "      <td>460.615926</td>\n",
       "      <td>6.880685</td>\n",
       "      <td>43.321368</td>\n",
       "      <td>6.0</td>\n",
       "      <td>5.0</td>\n",
       "      <td>10.0</td>\n",
       "      <td>10.0</td>\n",
       "      <td>11.0</td>\n",
       "      <td>10.0</td>\n",
       "    </tr>\n",
       "    <tr>\n",
       "      <th>13</th>\n",
       "      <td>SIGLIP-P16-224</td>\n",
       "      <td>88.357143</td>\n",
       "      <td>76.871</td>\n",
       "      <td>95.074</td>\n",
       "      <td>96.457143</td>\n",
       "      <td>99.114</td>\n",
       "      <td>93.102</td>\n",
       "      <td>85.214286</td>\n",
       "      <td>93.067</td>\n",
       "      <td>75.070</td>\n",
       "      <td>75.128571</td>\n",
       "      <td>84.061</td>\n",
       "      <td>53.563</td>\n",
       "      <td>85.7</td>\n",
       "      <td>93.1</td>\n",
       "      <td>99.0</td>\n",
       "      <td>98.6</td>\n",
       "      <td>97.2</td>\n",
       "      <td>88.5</td>\n",
       "      <td>97.2</td>\n",
       "      <td>21.4</td>\n",
       "      <td>30.698</td>\n",
       "      <td>23.841</td>\n",
       "      <td>3.0</td>\n",
       "      <td>29.024</td>\n",
       "      <td>2.9</td>\n",
       "      <td>64.505</td>\n",
       "      <td>39.38</td>\n",
       "      <td>7.846</td>\n",
       "      <td>76.4</td>\n",
       "      <td>19.001</td>\n",
       "      <td>28.4</td>\n",
       "      <td>52.545</td>\n",
       "      <td>99.537</td>\n",
       "      <td>68.768</td>\n",
       "      <td>98.6</td>\n",
       "      <td>81.6</td>\n",
       "      <td>85.4</td>\n",
       "      <td>51.3</td>\n",
       "      <td>21.6</td>\n",
       "      <td>5.9</td>\n",
       "      <td>7.0</td>\n",
       "      <td>21.0</td>\n",
       "      <td>22.5</td>\n",
       "      <td>6.2</td>\n",
       "      <td>6.9</td>\n",
       "      <td>21.8</td>\n",
       "      <td>86.5</td>\n",
       "      <td>66.4</td>\n",
       "      <td>65.2</td>\n",
       "      <td>87.1</td>\n",
       "      <td>59.5</td>\n",
       "      <td>47.2</td>\n",
       "      <td>71.205</td>\n",
       "      <td>43.842</td>\n",
       "      <td>65.938</td>\n",
       "      <td>39.922</td>\n",
       "      <td>88.352</td>\n",
       "      <td>68.101</td>\n",
       "      <td>53.171429</td>\n",
       "      <td>84.589929</td>\n",
       "      <td>94.185714</td>\n",
       "      <td>28.866250</td>\n",
       "      <td>73.616667</td>\n",
       "      <td>79.225</td>\n",
       "      <td>37.485714</td>\n",
       "      <td>62.893333</td>\n",
       "      <td>53.171429</td>\n",
       "      <td>13.631190</td>\n",
       "      <td>564.657100</td>\n",
       "      <td>6.685981</td>\n",
       "      <td>56.947452</td>\n",
       "      <td>7.0</td>\n",
       "      <td>6.0</td>\n",
       "      <td>2.0</td>\n",
       "      <td>2.0</td>\n",
       "      <td>10.0</td>\n",
       "      <td>14.0</td>\n",
       "    </tr>\n",
       "    <tr>\n",
       "      <th>14</th>\n",
       "      <td>SViT-B16-224</td>\n",
       "      <td>73.257143</td>\n",
       "      <td>50.567</td>\n",
       "      <td>79.956</td>\n",
       "      <td>86.457143</td>\n",
       "      <td>93.509</td>\n",
       "      <td>75.677</td>\n",
       "      <td>41.457143</td>\n",
       "      <td>48.929</td>\n",
       "      <td>20.618</td>\n",
       "      <td>55.357143</td>\n",
       "      <td>59.872</td>\n",
       "      <td>27.075</td>\n",
       "      <td>77.7</td>\n",
       "      <td>91.8</td>\n",
       "      <td>98.6</td>\n",
       "      <td>93.4</td>\n",
       "      <td>92.9</td>\n",
       "      <td>79.9</td>\n",
       "      <td>93.4</td>\n",
       "      <td>31.6</td>\n",
       "      <td>18.183</td>\n",
       "      <td>20.203</td>\n",
       "      <td>2.9</td>\n",
       "      <td>18.108</td>\n",
       "      <td>2.8</td>\n",
       "      <td>53.125</td>\n",
       "      <td>32.03</td>\n",
       "      <td>8.323</td>\n",
       "      <td>72.5</td>\n",
       "      <td>15.266</td>\n",
       "      <td>23.8</td>\n",
       "      <td>51.592</td>\n",
       "      <td>98.875</td>\n",
       "      <td>58.029</td>\n",
       "      <td>97.8</td>\n",
       "      <td>82.4</td>\n",
       "      <td>80.1</td>\n",
       "      <td>41.7</td>\n",
       "      <td>17.1</td>\n",
       "      <td>4.2</td>\n",
       "      <td>4.3</td>\n",
       "      <td>17.1</td>\n",
       "      <td>18.4</td>\n",
       "      <td>4.7</td>\n",
       "      <td>4.6</td>\n",
       "      <td>17.8</td>\n",
       "      <td>76.3</td>\n",
       "      <td>63.0</td>\n",
       "      <td>58.0</td>\n",
       "      <td>75.6</td>\n",
       "      <td>45.4</td>\n",
       "      <td>40.9</td>\n",
       "      <td>51.144</td>\n",
       "      <td>25.282</td>\n",
       "      <td>56.510</td>\n",
       "      <td>26.641</td>\n",
       "      <td>75.290</td>\n",
       "      <td>48.708</td>\n",
       "      <td>45.142857</td>\n",
       "      <td>59.394298</td>\n",
       "      <td>89.671429</td>\n",
       "      <td>24.903167</td>\n",
       "      <td>69.498667</td>\n",
       "      <td>75.500</td>\n",
       "      <td>31.957143</td>\n",
       "      <td>47.262500</td>\n",
       "      <td>45.142857</td>\n",
       "      <td>11.343467</td>\n",
       "      <td>487.402850</td>\n",
       "      <td>5.204673</td>\n",
       "      <td>48.196657</td>\n",
       "      <td>12.0</td>\n",
       "      <td>12.0</td>\n",
       "      <td>9.0</td>\n",
       "      <td>9.0</td>\n",
       "      <td>5.0</td>\n",
       "      <td>5.0</td>\n",
       "    </tr>\n",
       "    <tr>\n",
       "      <th>15</th>\n",
       "      <td>Whisper</td>\n",
       "      <td>43.900000</td>\n",
       "      <td>10.997</td>\n",
       "      <td>32.136</td>\n",
       "      <td>47.942857</td>\n",
       "      <td>38.603</td>\n",
       "      <td>16.223</td>\n",
       "      <td>7.600000</td>\n",
       "      <td>4.705</td>\n",
       "      <td>1.285</td>\n",
       "      <td>28.371429</td>\n",
       "      <td>16.028</td>\n",
       "      <td>4.931</td>\n",
       "      <td>28.4</td>\n",
       "      <td>33.9</td>\n",
       "      <td>80.5</td>\n",
       "      <td>53.5</td>\n",
       "      <td>58.3</td>\n",
       "      <td>33.2</td>\n",
       "      <td>31.7</td>\n",
       "      <td>32.9</td>\n",
       "      <td>0.358</td>\n",
       "      <td>0.056</td>\n",
       "      <td>3.7</td>\n",
       "      <td>0.086</td>\n",
       "      <td>3.3</td>\n",
       "      <td>0.000</td>\n",
       "      <td>0.00</td>\n",
       "      <td>4.495</td>\n",
       "      <td>75.7</td>\n",
       "      <td>0.954</td>\n",
       "      <td>40.7</td>\n",
       "      <td>44.873</td>\n",
       "      <td>97.537</td>\n",
       "      <td>44.653</td>\n",
       "      <td>87.6</td>\n",
       "      <td>64.8</td>\n",
       "      <td>56.9</td>\n",
       "      <td>28.7</td>\n",
       "      <td>9.1</td>\n",
       "      <td>2.0</td>\n",
       "      <td>1.8</td>\n",
       "      <td>8.9</td>\n",
       "      <td>9.8</td>\n",
       "      <td>2.0</td>\n",
       "      <td>2.1</td>\n",
       "      <td>9.2</td>\n",
       "      <td>75.2</td>\n",
       "      <td>61.4</td>\n",
       "      <td>57.6</td>\n",
       "      <td>68.7</td>\n",
       "      <td>50.8</td>\n",
       "      <td>51.5</td>\n",
       "      <td>1.256</td>\n",
       "      <td>0.253</td>\n",
       "      <td>9.831</td>\n",
       "      <td>1.953</td>\n",
       "      <td>6.171</td>\n",
       "      <td>1.155</td>\n",
       "      <td>49.157143</td>\n",
       "      <td>21.060190</td>\n",
       "      <td>45.642857</td>\n",
       "      <td>13.520750</td>\n",
       "      <td>62.354333</td>\n",
       "      <td>59.500</td>\n",
       "      <td>29.292857</td>\n",
       "      <td>3.436500</td>\n",
       "      <td>49.157143</td>\n",
       "      <td>10.001042</td>\n",
       "      <td>309.459168</td>\n",
       "      <td>3.434891</td>\n",
       "      <td>29.323561</td>\n",
       "      <td>13.0</td>\n",
       "      <td>13.0</td>\n",
       "      <td>14.0</td>\n",
       "      <td>13.0</td>\n",
       "      <td>3.0</td>\n",
       "      <td>4.0</td>\n",
       "    </tr>\n",
       "  </tbody>\n",
       "</table>\n",
       "</div>"
      ],
      "text/plain": [
       "       Model.Metric  cifar100.loss  cifar100.acc@1  cifar100.acc@5  \\\n",
       "0    AR-ViT-B16-224      76.628571          55.742          83.629   \n",
       "1              BART      43.071429           8.967          29.170   \n",
       "2              BERT      47.357143          14.520          38.137   \n",
       "3      CLIP-B16-224      87.028571          74.731          93.760   \n",
       "4   ConvNextV2-Base      90.857143          84.126          97.422   \n",
       "5      DINO-B16-224      82.857143          66.282          89.590   \n",
       "6     DeiT3-B16-224      83.400000          66.750          90.844   \n",
       "7      EffFormer-s0      50.314286          16.511          43.571   \n",
       "8        EffV2-RW-S      79.128571          64.968          89.471   \n",
       "9     Flex-B-1200EP      87.428571          75.100          94.367   \n",
       "10    Laion-B16-224      87.242857          75.139          93.859   \n",
       "11            MPNET      34.214286           0.995           5.006   \n",
       "12     RNX50-32x4A1      82.085714          68.312          91.262   \n",
       "13   SIGLIP-P16-224      88.357143          76.871          95.074   \n",
       "14     SViT-B16-224      73.257143          50.567          79.956   \n",
       "15          Whisper      43.900000          10.997          32.136   \n",
       "\n",
       "    food101.loss  food101.acc@5  food101.acc@1  imagenet1k.loss  \\\n",
       "0      91.685714         96.630         83.834        86.185714   \n",
       "1      44.442857         31.844         11.504         5.400000   \n",
       "2      50.014286         42.442         18.191         7.528571   \n",
       "3      95.628571         98.679         91.496        89.257143   \n",
       "4      96.114286         98.991         92.896        90.928571   \n",
       "5      93.171429         97.449         86.519        80.342857   \n",
       "6      93.614286         97.718         87.331        88.657143   \n",
       "7      78.814286         86.983         62.578        59.571429   \n",
       "8      90.814286         96.816         85.282        81.485714   \n",
       "9      94.400000         98.093         89.142        89.142857   \n",
       "10     95.585714         98.710         91.334        84.571429   \n",
       "11     41.714286         26.332          8.421         2.485714   \n",
       "12     91.100000         96.934         85.452        85.228571   \n",
       "13     96.457143         99.114         93.102        85.214286   \n",
       "14     86.457143         93.509         75.677        41.457143   \n",
       "15     47.942857         38.603         16.223         7.600000   \n",
       "\n",
       "    imagenet1k.acc@5  imagenet1k.acc@1  places365.loss  places365.acc@5  \\\n",
       "0             93.007            78.199       70.542857           78.706   \n",
       "1              3.107             0.713       25.028571           11.058   \n",
       "2              4.616             1.173       28.457143           16.037   \n",
       "3             95.708            81.815       74.900000           83.864   \n",
       "4             96.851            85.288       76.300000           85.325   \n",
       "5             88.493            67.529       71.614286           79.704   \n",
       "6             94.675            82.011       72.242857           80.614   \n",
       "7             72.456            44.615       53.200000           55.901   \n",
       "8             90.439            71.549       73.685714           82.389   \n",
       "9             95.428            82.265       74.528571           83.311   \n",
       "10            93.055            74.079       74.257143           83.650   \n",
       "11             1.033             0.238       15.700000            1.368   \n",
       "12            93.232            77.340       74.000000           82.509   \n",
       "13            93.067            75.070       75.128571           84.061   \n",
       "14            48.929            20.618       55.357143           59.872   \n",
       "15             4.705             1.285       28.371429           16.028   \n",
       "\n",
       "    places365.acc@1  fungi.acc@1  mini.acc@1  omniglot.acc@1  vgg.acc@1  \\\n",
       "0            46.641         77.5        98.7            98.6       95.5   \n",
       "1             2.953         33.7        37.3            84.1       59.4   \n",
       "2             4.795         32.8        39.6            90.2       59.4   \n",
       "3            53.445         85.4        96.2            98.9       98.9   \n",
       "4            54.726         85.7        95.8            98.6       99.6   \n",
       "5            47.454         81.2        89.9            98.7       95.9   \n",
       "6            48.677         80.5        98.8            98.6       96.2   \n",
       "7            25.548         51.2        90.8            95.4       90.3   \n",
       "8            51.066         73.7        62.8            98.6       91.2   \n",
       "9            52.065         83.7        99.1            98.9       96.7   \n",
       "10           52.924         85.2        90.8            98.9       96.8   \n",
       "11            0.274          6.6        36.7            90.7       60.5   \n",
       "12           51.461         74.8        78.3            98.5       87.8   \n",
       "13           53.563         85.7        93.1            99.0       98.6   \n",
       "14           27.075         77.7        91.8            98.6       93.4   \n",
       "15            4.931         28.4        33.9            80.5       53.5   \n",
       "\n",
       "    aircraft.acc@1  dtextures.acc@1  cubirds.acc@1  ade20k.dice-loss  \\\n",
       "0             94.4             79.9           94.4              22.3   \n",
       "1             53.0             35.4           50.3              33.2   \n",
       "2             59.0             37.6           47.4              33.0   \n",
       "3             96.5             84.3           97.9              31.3   \n",
       "4             96.7             85.0           98.0              52.8   \n",
       "5             95.6             79.1           95.9              26.7   \n",
       "6             95.3             81.9           96.2              29.7   \n",
       "7             77.5             56.7           86.3              33.8   \n",
       "8             89.4             59.5           92.1              32.1   \n",
       "9             95.9             78.4           96.4              29.2   \n",
       "10            96.1             85.4           96.6              24.0   \n",
       "11            15.8             38.3           48.5              33.0   \n",
       "12            93.2             64.8           92.7              31.4   \n",
       "13            97.2             88.5           97.2              21.4   \n",
       "14            92.9             79.9           93.4              31.6   \n",
       "15            58.3             33.2           31.7              32.9   \n",
       "\n",
       "    ade20k.mIoU  coco-10k.mIoU  coco-10k.dice-loss  coco-164k.mIoU  \\\n",
       "0        17.353         22.783                 2.7          21.321   \n",
       "1         0.380          0.056                 4.1           0.110   \n",
       "2         0.360          0.055                 3.8           0.096   \n",
       "3        33.804         29.609                 3.2          30.369   \n",
       "4        37.253         26.840                85.3          25.059   \n",
       "5        18.610         24.968                 3.1          24.292   \n",
       "6        21.900         28.345                 4.7          26.125   \n",
       "7         9.801         13.995                 9.7          13.549   \n",
       "8        12.668          8.704                 6.3           8.268   \n",
       "9        23.308         30.371                 5.2          27.997   \n",
       "10       27.604         30.564                 3.2          27.208   \n",
       "11        0.368          0.055                 3.8           0.104   \n",
       "12       18.171         18.284                 8.7          16.795   \n",
       "13       30.698         23.841                 3.0          29.024   \n",
       "14       18.183         20.203                 2.9          18.108   \n",
       "15        0.358          0.056                 3.7           0.086   \n",
       "\n",
       "    coco-164k.dice-loss  cityscapes.mIoU  cityscapes.dice-loss  nyu.mIoU  \\\n",
       "0                   3.0           57.848                 35.19     8.345   \n",
       "1                   3.5            0.000                  0.00     4.893   \n",
       "2                   3.4            0.000                  0.00     5.503   \n",
       "3                   4.6           65.142                 40.06     7.545   \n",
       "4                  83.1           62.341                 41.78     5.260   \n",
       "5                   4.9           60.224                 36.13     6.138   \n",
       "6                   4.1           62.833                 35.99     7.488   \n",
       "7                  13.5            2.492                  0.00    10.498   \n",
       "8                   4.5           63.144                 40.18     8.216   \n",
       "9                   4.7           66.623                 38.59     6.197   \n",
       "10                  2.6           66.612                 42.00     5.023   \n",
       "11                  3.0            0.000                  0.00     5.452   \n",
       "12                  9.5           38.788                 25.52     6.650   \n",
       "13                  2.9           64.505                 39.38     7.846   \n",
       "14                  2.8           53.125                 32.03     8.323   \n",
       "15                  3.3            0.000                  0.00     4.495   \n",
       "\n",
       "    nyu.dice-loss  pascal.mIoU  pascal.dice-loss  clevr.acc@1  \\\n",
       "0            72.9       15.460              21.9       52.828   \n",
       "1            76.0        1.002              44.4       42.563   \n",
       "2            75.9        0.961              45.5       42.593   \n",
       "3            71.3       26.619              36.8       52.622   \n",
       "4            77.5       32.665              70.3       52.606   \n",
       "5            71.4       18.184              30.2       52.846   \n",
       "6            70.8       22.291              33.3       52.342   \n",
       "7            76.4       14.026              51.4       45.115   \n",
       "8            75.6       11.776              38.2       39.848   \n",
       "9            72.5       21.660              31.4       51.956   \n",
       "10           73.4       18.823              26.7       46.963   \n",
       "11           75.8        0.948              42.2       41.279   \n",
       "12           75.8       16.606              33.8       39.924   \n",
       "13           76.4       19.001              28.4       52.545   \n",
       "14           72.5       15.266              23.8       51.592   \n",
       "15           75.7        0.954              40.7       44.873   \n",
       "\n",
       "    clevr-math.acc@5  clevr-math.acc@1  ham10k.auc  chexpert.auc  \\\n",
       "0             98.850            58.849        98.5          81.3   \n",
       "1             96.450            41.761        85.9          63.7   \n",
       "2             97.400            44.265        91.1          66.2   \n",
       "3             99.113            61.218        98.6          81.6   \n",
       "4             99.787            77.402        99.1          81.8   \n",
       "5             99.188            61.001        98.7          81.9   \n",
       "6             99.350            62.701        98.5          82.7   \n",
       "7             98.700            53.862        81.8          80.0   \n",
       "8             97.463            43.199        97.5          81.8   \n",
       "9             98.825            59.879        98.5          82.9   \n",
       "10            99.000            61.104        98.6          81.7   \n",
       "11            93.238            36.811        83.3          61.2   \n",
       "12            96.725            42.582        97.7          80.0   \n",
       "13            99.537            68.768        98.6          81.6   \n",
       "14            98.875            58.029        97.8          82.4   \n",
       "15            97.537            44.653        87.6          64.8   \n",
       "\n",
       "    diabetic.auc  acdc.dice-loss  flickr30k.text-to-image-acc@5  \\\n",
       "0           83.9            42.9                           18.8   \n",
       "1           55.1            25.3                            7.9   \n",
       "2           57.6             4.1                            8.1   \n",
       "3           86.7            46.2                           20.9   \n",
       "4           87.5            36.4                           21.2   \n",
       "5           84.7            48.5                           19.6   \n",
       "6           81.8            40.9                           20.0   \n",
       "7           81.8            27.0                           15.6   \n",
       "8           86.1            60.9                           17.3   \n",
       "9           85.7            45.4                           20.8   \n",
       "10          84.9            43.6                           20.9   \n",
       "11          51.8            25.3                            7.9   \n",
       "12          85.6            42.9                           16.3   \n",
       "13          85.4            51.3                           21.6   \n",
       "14          80.1            41.7                           17.1   \n",
       "15          56.9            28.7                            9.1   \n",
       "\n",
       "    flickr30k.text-to-image-acc@1  flickr30k.image-to-text-acc@1  \\\n",
       "0                             5.3                            5.5   \n",
       "1                             1.6                            1.5   \n",
       "2                             1.6                            1.5   \n",
       "3                             5.5                            6.2   \n",
       "4                             5.5                            6.0   \n",
       "5                             4.6                            5.4   \n",
       "6                             5.0                            5.6   \n",
       "7                             3.5                            4.2   \n",
       "8                             4.0                            3.7   \n",
       "9                             4.9                            5.9   \n",
       "10                            5.2                            5.9   \n",
       "11                            1.6                            1.6   \n",
       "12                            3.8                            3.7   \n",
       "13                            5.9                            7.0   \n",
       "14                            4.2                            4.3   \n",
       "15                            2.0                            1.8   \n",
       "\n",
       "    flickr30k.image-to-text-acc@5  \\\n",
       "0                            18.7   \n",
       "1                             7.8   \n",
       "2                             8.3   \n",
       "3                            20.6   \n",
       "4                            20.5   \n",
       "5                            18.6   \n",
       "6                            19.2   \n",
       "7                            16.0   \n",
       "8                            16.1   \n",
       "9                            20.0   \n",
       "10                           20.2   \n",
       "11                            7.9   \n",
       "12                           16.1   \n",
       "13                           21.0   \n",
       "14                           17.1   \n",
       "15                            8.9   \n",
       "\n",
       "    newyorkercaptioncontest.text-to-image-acc@5  \\\n",
       "0                                          19.5   \n",
       "1                                           8.1   \n",
       "2                                           8.2   \n",
       "3                                          21.0   \n",
       "4                                          21.4   \n",
       "5                                          20.0   \n",
       "6                                          21.9   \n",
       "7                                          15.1   \n",
       "8                                          16.8   \n",
       "9                                          20.9   \n",
       "10                                         21.3   \n",
       "11                                          7.9   \n",
       "12                                         17.3   \n",
       "13                                         22.5   \n",
       "14                                         18.4   \n",
       "15                                          9.8   \n",
       "\n",
       "    newyorkercaptioncontest.text-to-image-acc@1  \\\n",
       "0                                           5.2   \n",
       "1                                           1.6   \n",
       "2                                           1.5   \n",
       "3                                           5.7   \n",
       "4                                           5.8   \n",
       "5                                           5.2   \n",
       "6                                           6.0   \n",
       "7                                           3.4   \n",
       "8                                           3.5   \n",
       "9                                           5.3   \n",
       "10                                          5.9   \n",
       "11                                          1.6   \n",
       "12                                          4.1   \n",
       "13                                          6.2   \n",
       "14                                          4.7   \n",
       "15                                          2.0   \n",
       "\n",
       "    newyorkercaptioncontest.image-to-text-acc@1  \\\n",
       "0                                           5.4   \n",
       "1                                           1.6   \n",
       "2                                           1.6   \n",
       "3                                           6.0   \n",
       "4                                           6.3   \n",
       "5                                           5.3   \n",
       "6                                           6.5   \n",
       "7                                           3.4   \n",
       "8                                           3.4   \n",
       "9                                           5.3   \n",
       "10                                          6.6   \n",
       "11                                          1.6   \n",
       "12                                          3.9   \n",
       "13                                          6.9   \n",
       "14                                          4.6   \n",
       "15                                          2.1   \n",
       "\n",
       "    newyorkercaptioncontest.image-to-text-acc@5  \\\n",
       "0                                          18.7   \n",
       "1                                           8.1   \n",
       "2                                           8.5   \n",
       "3                                          19.9   \n",
       "4                                          21.0   \n",
       "5                                          19.0   \n",
       "6                                          20.5   \n",
       "7                                          14.4   \n",
       "8                                          14.9   \n",
       "9                                          19.6   \n",
       "10                                         21.2   \n",
       "11                                          7.9   \n",
       "12                                         16.3   \n",
       "13                                         21.8   \n",
       "14                                         17.8   \n",
       "15                                          9.2   \n",
       "\n",
       "    pokemonblipcaptions.text-to-image-acc@5  \\\n",
       "0                                      82.1   \n",
       "1                                      74.8   \n",
       "2                                      75.6   \n",
       "3                                      85.2   \n",
       "4                                      80.3   \n",
       "5                                      85.6   \n",
       "6                                      82.6   \n",
       "7                                      77.5   \n",
       "8                                      65.1   \n",
       "9                                      81.0   \n",
       "10                                     91.0   \n",
       "11                                     13.2   \n",
       "12                                     63.9   \n",
       "13                                     86.5   \n",
       "14                                     76.3   \n",
       "15                                     75.2   \n",
       "\n",
       "    pokemonblipcaptions.text-to-image-acc@1  \\\n",
       "0                                      64.0   \n",
       "1                                      55.6   \n",
       "2                                      59.9   \n",
       "3                                      67.9   \n",
       "4                                      61.0   \n",
       "5                                      68.2   \n",
       "6                                      67.0   \n",
       "7                                      60.5   \n",
       "8                                      46.3   \n",
       "9                                      63.7   \n",
       "10                                     67.6   \n",
       "11                                      2.6   \n",
       "12                                     51.0   \n",
       "13                                     66.4   \n",
       "14                                     63.0   \n",
       "15                                     61.4   \n",
       "\n",
       "    pokemonblipcaptions.image-to-text-acc@1  \\\n",
       "0                                      62.8   \n",
       "1                                      55.6   \n",
       "2                                      58.7   \n",
       "3                                      61.8   \n",
       "4                                      61.6   \n",
       "5                                      65.5   \n",
       "6                                      63.9   \n",
       "7                                      59.4   \n",
       "8                                      46.0   \n",
       "9                                      60.6   \n",
       "10                                     64.8   \n",
       "11                                      2.6   \n",
       "12                                     49.1   \n",
       "13                                     65.2   \n",
       "14                                     58.0   \n",
       "15                                     57.6   \n",
       "\n",
       "    pokemonblipcaptions.image-to-text-acc@5  winoground.image-to-text-acc@1  \\\n",
       "0                                      79.4                            61.1   \n",
       "1                                      69.4                            48.8   \n",
       "2                                      72.2                            50.3   \n",
       "3                                      81.7                            48.6   \n",
       "4                                      78.3                            39.8   \n",
       "5                                      81.8                            49.5   \n",
       "6                                      81.0                            42.4   \n",
       "7                                      78.2                            51.3   \n",
       "8                                      62.5                            50.0   \n",
       "9                                      79.0                            48.2   \n",
       "10                                     85.6                            48.2   \n",
       "11                                     13.2                            38.6   \n",
       "12                                     61.4                            50.0   \n",
       "13                                     87.1                            59.5   \n",
       "14                                     75.6                            45.4   \n",
       "15                                     68.7                            50.8   \n",
       "\n",
       "    winoground.text-to-image-acc@1  kinetics.acc@5  kinetics.acc@1  \\\n",
       "0                             56.9          63.288          36.718   \n",
       "1                             47.7           1.277           0.256   \n",
       "2                             50.4           1.269           0.233   \n",
       "3                             54.0          71.240          44.574   \n",
       "4                             47.8          75.765          49.011   \n",
       "5                             48.3          55.634          29.529   \n",
       "6                             49.2          66.558          39.528   \n",
       "7                             56.8           1.334           0.279   \n",
       "8                             50.0           2.357           0.561   \n",
       "9                             50.2          67.584          40.673   \n",
       "10                            56.2          70.913          43.591   \n",
       "11                            52.0           1.277           0.248   \n",
       "12                            50.0           8.813           2.399   \n",
       "13                            47.2          71.205          43.842   \n",
       "14                            40.9          51.144          25.282   \n",
       "15                            51.5           1.256           0.253   \n",
       "\n",
       "    hmdb51.acc@5  hmdb51.acc@1  ucf.acc@5  ucf.acc@1  iwildcam.mae  \\\n",
       "0         57.917        28.385     84.369     65.374     41.528571   \n",
       "1          9.961         1.953      5.444      1.031     35.871429   \n",
       "2          9.766         1.953      6.040      1.287     34.628571   \n",
       "3         70.039        40.404     88.238     71.440     48.385714   \n",
       "4         77.539        50.326     94.737     84.106     50.771429   \n",
       "5         56.525        27.995     77.125     52.769     42.714286   \n",
       "6         64.338        36.523     88.506     70.411     54.371429   \n",
       "7          9.726         1.628      5.173      0.840     50.214286   \n",
       "8         27.699        11.068     25.840      9.611     47.128571   \n",
       "9         60.885        32.227     81.510     63.159     54.957143   \n",
       "10        54.242        26.202     83.914     62.289     45.600000   \n",
       "11         9.766         1.432      6.040      1.392     34.400000   \n",
       "12        22.161         5.182     41.912     19.380     47.857143   \n",
       "13        65.938        39.922     88.352     68.101     53.171429   \n",
       "14        56.510        26.641     75.290     48.708     45.142857   \n",
       "15         9.831         1.953      6.171      1.155     49.157143   \n",
       "\n",
       "    Image Classification  Few Shot Image Classification  Image Segmentation  \\\n",
       "0              78.452571                      91.285714           25.091667   \n",
       "1              18.104905                      50.457143           13.970083   \n",
       "2              22.772345                      52.285714           14.047917   \n",
       "3              85.026024                      94.014286           31.695667   \n",
       "4              87.485417                      94.200000           50.016500   \n",
       "5              79.250476                      90.900000           27.070500   \n",
       "6              82.211190                      92.500000           28.964333   \n",
       "7              54.171917                      78.314286           20.763417   \n",
       "8              79.757857                      81.042857           25.804667   \n",
       "9              84.605917                      92.728571           29.812167   \n",
       "10             83.700595                      92.828571           28.977833   \n",
       "11             11.481774                      42.442857           13.727250   \n",
       "12             81.576357                      84.300000           25.001167   \n",
       "13             84.589929                      94.185714           28.866250   \n",
       "14             59.394298                      89.671429           24.903167   \n",
       "15             21.060190                      45.642857           13.520750   \n",
       "\n",
       "    Image Relational Reasoning  Medical Classification/Segmentation  \\\n",
       "0                    70.175667                               76.650   \n",
       "1                    60.258000                               57.500   \n",
       "2                    61.419333                               54.750   \n",
       "3                    70.984333                               78.275   \n",
       "4                    76.598333                               76.200   \n",
       "5                    71.011667                               78.450   \n",
       "6                    71.464333                               75.975   \n",
       "7                    65.892333                               67.650   \n",
       "8                    60.170000                               81.575   \n",
       "9                    70.220000                               78.125   \n",
       "10                   69.022333                               77.200   \n",
       "11                   57.109333                               55.400   \n",
       "12                   59.743667                               76.550   \n",
       "13                   73.616667                               79.225   \n",
       "14                   69.498667                               75.500   \n",
       "15                   62.354333                               59.500   \n",
       "\n",
       "    Image to Text Zero Shot Learning  Video Classification  Video Regression  \\\n",
       "0                          35.957143             56.008500         41.528571   \n",
       "1                          27.864286              3.320333         35.871429   \n",
       "2                          29.028571              3.424667         34.628571   \n",
       "3                          36.071429             64.322500         48.385714   \n",
       "4                          34.035714             71.914000         50.771429   \n",
       "5                          35.471429             49.929500         42.714286   \n",
       "6                          35.057143             60.977333         54.371429   \n",
       "7                          32.807143              3.163333         50.214286   \n",
       "8                          28.542857             12.856000         47.128571   \n",
       "9                          34.671429             57.673000         54.957143   \n",
       "10                         37.185714             56.858500         45.600000   \n",
       "11                         11.442857              3.359167         34.400000   \n",
       "12                         29.064286             16.641167         47.857143   \n",
       "13                         37.485714             62.893333         53.171429   \n",
       "14                         31.957143             47.262500         45.142857   \n",
       "15                         29.292857              3.436500         49.157143   \n",
       "\n",
       "    GATE (Weighted Lower is better)  GATE (Weighted Higher is better)  \\\n",
       "0                         11.563289                        522.980274   \n",
       "1                          8.182292                        292.582159   \n",
       "2                          7.529167                        298.872592   \n",
       "3                         13.055238                        559.316583   \n",
       "4                         15.452470                        593.421597   \n",
       "5                         12.067574                        522.080015   \n",
       "6                         13.454807                        550.756051   \n",
       "7                         11.565327                        408.033476   \n",
       "8                         13.231637                        455.755899   \n",
       "9                         13.778914                        551.863466   \n",
       "10                        12.412054                        540.383187   \n",
       "11                         7.714732                        250.318911   \n",
       "12                        12.709583                        460.615926   \n",
       "13                        13.631190                        564.657100   \n",
       "14                        11.343467                        487.402850   \n",
       "15                        10.001042                        309.459168   \n",
       "\n",
       "    devGATE (Weighted Lower is better)  devGATE (Weighted Higher is better)  \\\n",
       "0                             6.380997                            53.951564   \n",
       "1                             3.324922                            27.982900   \n",
       "2                             3.587227                            29.414190   \n",
       "3                             7.150156                            56.687171   \n",
       "4                             8.427103                            59.869131   \n",
       "5                             6.586293                            52.592436   \n",
       "6                             6.923988                            55.741324   \n",
       "7                             6.035826                            37.683726   \n",
       "8                             6.897196                            41.585174   \n",
       "9                             6.949221                            55.083950   \n",
       "10                            6.653583                            55.010988   \n",
       "11                            2.946106                            26.348773   \n",
       "12                            6.880685                            43.321368   \n",
       "13                            6.685981                            56.947452   \n",
       "14                            5.204673                            48.196657   \n",
       "15                            3.434891                            29.323561   \n",
       "\n",
       "    imagenet1k.acc@1 rank  imagenet1k.acc@5 rank  \\\n",
       "0                     5.0                    8.0   \n",
       "1                    15.0                   15.0   \n",
       "2                    14.0                   14.0   \n",
       "3                     4.0                    2.0   \n",
       "4                     1.0                    1.0   \n",
       "5                    10.0                   10.0   \n",
       "6                     3.0                    4.0   \n",
       "7                    11.0                   11.0   \n",
       "8                     9.0                    9.0   \n",
       "9                     2.0                    3.0   \n",
       "10                    8.0                    7.0   \n",
       "11                   16.0                   16.0   \n",
       "12                    6.0                    5.0   \n",
       "13                    7.0                    6.0   \n",
       "14                   12.0                   12.0   \n",
       "15                   13.0                   13.0   \n",
       "\n",
       "    devGATE (Weighted Higher is better rank)  \\\n",
       "0                                        7.0   \n",
       "1                                       15.0   \n",
       "2                                       13.0   \n",
       "3                                        3.0   \n",
       "4                                        1.0   \n",
       "5                                        8.0   \n",
       "6                                        4.0   \n",
       "7                                       12.0   \n",
       "8                                       11.0   \n",
       "9                                        5.0   \n",
       "10                                       6.0   \n",
       "11                                      16.0   \n",
       "12                                      10.0   \n",
       "13                                       2.0   \n",
       "14                                       9.0   \n",
       "15                                      14.0   \n",
       "\n",
       "    GATE (Weighted Higher is better rank)  \\\n",
       "0                                     7.0   \n",
       "1                                    15.0   \n",
       "2                                    14.0   \n",
       "3                                     3.0   \n",
       "4                                     1.0   \n",
       "5                                     8.0   \n",
       "6                                     5.0   \n",
       "7                                    12.0   \n",
       "8                                    11.0   \n",
       "9                                     4.0   \n",
       "10                                    6.0   \n",
       "11                                   16.0   \n",
       "12                                   10.0   \n",
       "13                                    2.0   \n",
       "14                                    9.0   \n",
       "15                                   13.0   \n",
       "\n",
       "    devGATE (Weighted Lower is better rank)  \\\n",
       "0                                       7.0   \n",
       "1                                       2.0   \n",
       "2                                       4.0   \n",
       "3                                      15.0   \n",
       "4                                      16.0   \n",
       "5                                       8.0   \n",
       "6                                      13.0   \n",
       "7                                       6.0   \n",
       "8                                      12.0   \n",
       "9                                      14.0   \n",
       "10                                      9.0   \n",
       "11                                      1.0   \n",
       "12                                     11.0   \n",
       "13                                     10.0   \n",
       "14                                      5.0   \n",
       "15                                      3.0   \n",
       "\n",
       "    GATE (Weighted Lower is better rank)  \n",
       "0                                    6.0  \n",
       "1                                    3.0  \n",
       "2                                    1.0  \n",
       "3                                   11.0  \n",
       "4                                   16.0  \n",
       "5                                    8.0  \n",
       "6                                   13.0  \n",
       "7                                    7.0  \n",
       "8                                   12.0  \n",
       "9                                   15.0  \n",
       "10                                   9.0  \n",
       "11                                   2.0  \n",
       "12                                  10.0  \n",
       "13                                  14.0  \n",
       "14                                   5.0  \n",
       "15                                   4.0  "
      ]
     },
     "metadata": {},
     "output_type": "display_data"
    }
   ],
   "source": [
    "def add_average_rank_column(df):\n",
    "    # Add a column for the average rank\n",
    "    lower_is_better_columns = [col for col in df.columns if 'loss' in col or 'mae' in col]\n",
    "    higher_is_better_columns = list(set(df.columns) - set(lower_is_better_columns))\n",
    "    lower_is_better_ranks = df[lower_is_better_columns].rank(ascending=True)\n",
    "    higher_is_better_ranks = df[higher_is_better_columns].rank(ascending=False)\n",
    "    merged_ranks = pd.concat([lower_is_better_ranks, higher_is_better_ranks], axis=1)\n",
    "    # df['Average Rank'] = merged_ranks.mean(axis=1).rank(ascending=True)\n",
    "    return df\n",
    "    \n",
    "df[\"imagenet1k.acc@1 rank\"] = df[\"imagenet1k.acc@1\"].rank(ascending=False)\n",
    "df[\"imagenet1k.acc@5 rank\"] = df[\"imagenet1k.acc@5\"].rank(ascending=False)\n",
    "df[\"devGATE (Weighted Higher is better rank)\"] = df[\"devGATE (Weighted Higher is better)\"].rank(ascending=False)\n",
    "df[\"GATE (Weighted Higher is better rank)\"] = df[\"GATE (Weighted Higher is better)\"].rank(ascending=False)\n",
    "df[\"devGATE (Weighted Lower is better rank)\"] = df[\"devGATE (Weighted Lower is better)\"].rank(ascending=True)\n",
    "df[\"GATE (Weighted Lower is better rank)\"] = df[\"GATE (Weighted Lower is better)\"].rank(ascending=True)\n",
    "# df[\"devGATE (Higher is better) rank\"] = df[\"devGATE (Higher is better)\"].rank(ascending=False)\n",
    "# df[\"GATE (Higher is better) rank\"] = df[\"GATE (Higher is better)\"].rank(ascending=False)\n",
    "\n",
    "# df[\"imagenet1k.loss rank\"] = df[\"imagenet1k.loss\"].rank(ascending=True)\n",
    "# df[\"devGATE (Lower is better) rank\"] = df[\"devGATE (Lower is better)\"].rank(ascending=True)\n",
    "# df[\"GATE (Lower is better) rank\"] = df[\"GATE (Lower is better)\"].rank(ascending=True)\n",
    "\n",
    "df = add_average_rank_column(df)\n",
    "display_custom(df)"
   ]
  },
  {
   "cell_type": "code",
   "execution_count": 1301,
   "metadata": {},
   "outputs": [
    {
     "data": {
      "text/html": [
       "<pre style=\"white-space:pre;overflow-x:auto;line-height:normal;font-family:Menlo,'DejaVu Sans Mono',consolas,'Courier New',monospace\">cifar100.loss                               <span style=\"color: #008080; text-decoration-color: #008080; font-weight: bold\">0.861765</span>\n",
       "cifar100.acc@<span style=\"color: #008080; text-decoration-color: #008080; font-weight: bold\">1</span>                              <span style=\"color: #008080; text-decoration-color: #008080; font-weight: bold\">0.847059</span>\n",
       "cifar100.acc@<span style=\"color: #008080; text-decoration-color: #008080; font-weight: bold\">5</span>                              <span style=\"color: #008080; text-decoration-color: #008080; font-weight: bold\">0.864706</span>\n",
       "food101.loss                                <span style=\"color: #008080; text-decoration-color: #008080; font-weight: bold\">0.847059</span>\n",
       "food101.acc@<span style=\"color: #008080; text-decoration-color: #008080; font-weight: bold\">5</span>                               <span style=\"color: #008080; text-decoration-color: #008080; font-weight: bold\">0.820588</span>\n",
       "                                              <span style=\"color: #808000; text-decoration-color: #808000\">...</span>   \n",
       "imagenet1k.acc@<span style=\"color: #008080; text-decoration-color: #008080; font-weight: bold\">5</span> rank                      <span style=\"color: #008080; text-decoration-color: #008080; font-weight: bold\">-0.973529</span>\n",
       "devGATE <span style=\"font-weight: bold\">(</span>Weighted Higher is better rank<span style=\"font-weight: bold\">)</span>   <span style=\"color: #008080; text-decoration-color: #008080; font-weight: bold\">-0.882353</span>\n",
       "GATE <span style=\"font-weight: bold\">(</span>Weighted Higher is better rank<span style=\"font-weight: bold\">)</span>      <span style=\"color: #008080; text-decoration-color: #008080; font-weight: bold\">-0.888235</span>\n",
       "devGATE <span style=\"font-weight: bold\">(</span>Weighted Lower is better rank<span style=\"font-weight: bold\">)</span>     <span style=\"color: #008080; text-decoration-color: #008080; font-weight: bold\">0.926471</span>\n",
       "GATE <span style=\"font-weight: bold\">(</span>Weighted Lower is better rank<span style=\"font-weight: bold\">)</span>        <span style=\"color: #008080; text-decoration-color: #008080; font-weight: bold\">0.879412</span>\n",
       "Name: imagenet1k.acc@<span style=\"color: #008080; text-decoration-color: #008080; font-weight: bold\">1</span>, Length: <span style=\"color: #008080; text-decoration-color: #008080; font-weight: bold\">77</span>, dtype: float64\n",
       "</pre>\n"
      ],
      "text/plain": [
       "cifar100.loss                               \u001b[1;36m0.861765\u001b[0m\n",
       "cifar100.acc@\u001b[1;36m1\u001b[0m                              \u001b[1;36m0.847059\u001b[0m\n",
       "cifar100.acc@\u001b[1;36m5\u001b[0m                              \u001b[1;36m0.864706\u001b[0m\n",
       "food101.loss                                \u001b[1;36m0.847059\u001b[0m\n",
       "food101.acc@\u001b[1;36m5\u001b[0m                               \u001b[1;36m0.820588\u001b[0m\n",
       "                                              \u001b[33m...\u001b[0m   \n",
       "imagenet1k.acc@\u001b[1;36m5\u001b[0m rank                      \u001b[1;36m-0.973529\u001b[0m\n",
       "devGATE \u001b[1m(\u001b[0mWeighted Higher is better rank\u001b[1m)\u001b[0m   \u001b[1;36m-0.882353\u001b[0m\n",
       "GATE \u001b[1m(\u001b[0mWeighted Higher is better rank\u001b[1m)\u001b[0m      \u001b[1;36m-0.888235\u001b[0m\n",
       "devGATE \u001b[1m(\u001b[0mWeighted Lower is better rank\u001b[1m)\u001b[0m     \u001b[1;36m0.926471\u001b[0m\n",
       "GATE \u001b[1m(\u001b[0mWeighted Lower is better rank\u001b[1m)\u001b[0m        \u001b[1;36m0.879412\u001b[0m\n",
       "Name: imagenet1k.acc@\u001b[1;36m1\u001b[0m, Length: \u001b[1;36m77\u001b[0m, dtype: float64\n"
      ]
     },
     "metadata": {},
     "output_type": "display_data"
    },
    {
     "data": {
      "text/html": [
       "<pre style=\"white-space:pre;overflow-x:auto;line-height:normal;font-family:Menlo,'DejaVu Sans Mono',consolas,'Courier New',monospace\">imagenet1k.acc@<span style=\"color: #008080; text-decoration-color: #008080; font-weight: bold\">1</span>                  <span style=\"color: #008080; text-decoration-color: #008080; font-weight: bold\">1.000000</span>\n",
       "imagenet1k.acc@<span style=\"color: #008080; text-decoration-color: #008080; font-weight: bold\">1</span> rank             <span style=\"color: #008080; text-decoration-color: #008080; font-weight: bold\">1.000000</span>\n",
       "imagenet1k.loss                   <span style=\"color: #008080; text-decoration-color: #008080; font-weight: bold\">0.991176</span>\n",
       "imagenet1k.acc@<span style=\"color: #008080; text-decoration-color: #008080; font-weight: bold\">5</span>                  <span style=\"color: #008080; text-decoration-color: #008080; font-weight: bold\">0.973529</span>\n",
       "imagenet1k.acc@<span style=\"color: #008080; text-decoration-color: #008080; font-weight: bold\">5</span> rank             <span style=\"color: #008080; text-decoration-color: #008080; font-weight: bold\">0.973529</span>\n",
       "                                    <span style=\"color: #808000; text-decoration-color: #808000\">...</span>   \n",
       "pascal.dice-loss                  <span style=\"color: #008080; text-decoration-color: #008080; font-weight: bold\">0.261765</span>\n",
       "nyu.mIoU                          <span style=\"color: #008080; text-decoration-color: #008080; font-weight: bold\">0.255882</span>\n",
       "coco-10k.dice-loss                <span style=\"color: #008080; text-decoration-color: #008080; font-weight: bold\">0.191458</span>\n",
       "winoground.image-to-text-acc@<span style=\"color: #008080; text-decoration-color: #008080; font-weight: bold\">1</span>    <span style=\"color: #008080; text-decoration-color: #008080; font-weight: bold\">0.134021</span>\n",
       "winoground.text-to-image-acc@<span style=\"color: #008080; text-decoration-color: #008080; font-weight: bold\">1</span>    <span style=\"color: #008080; text-decoration-color: #008080; font-weight: bold\">0.004415</span>\n",
       "Name: imagenet1k.acc@<span style=\"color: #008080; text-decoration-color: #008080; font-weight: bold\">1</span>, Length: <span style=\"color: #008080; text-decoration-color: #008080; font-weight: bold\">77</span>, dtype: float64\n",
       "</pre>\n"
      ],
      "text/plain": [
       "imagenet1k.acc@\u001b[1;36m1\u001b[0m                  \u001b[1;36m1.000000\u001b[0m\n",
       "imagenet1k.acc@\u001b[1;36m1\u001b[0m rank             \u001b[1;36m1.000000\u001b[0m\n",
       "imagenet1k.loss                   \u001b[1;36m0.991176\u001b[0m\n",
       "imagenet1k.acc@\u001b[1;36m5\u001b[0m                  \u001b[1;36m0.973529\u001b[0m\n",
       "imagenet1k.acc@\u001b[1;36m5\u001b[0m rank             \u001b[1;36m0.973529\u001b[0m\n",
       "                                    \u001b[33m...\u001b[0m   \n",
       "pascal.dice-loss                  \u001b[1;36m0.261765\u001b[0m\n",
       "nyu.mIoU                          \u001b[1;36m0.255882\u001b[0m\n",
       "coco-10k.dice-loss                \u001b[1;36m0.191458\u001b[0m\n",
       "winoground.image-to-text-acc@\u001b[1;36m1\u001b[0m    \u001b[1;36m0.134021\u001b[0m\n",
       "winoground.text-to-image-acc@\u001b[1;36m1\u001b[0m    \u001b[1;36m0.004415\u001b[0m\n",
       "Name: imagenet1k.acc@\u001b[1;36m1\u001b[0m, Length: \u001b[1;36m77\u001b[0m, dtype: float64\n"
      ]
     },
     "metadata": {},
     "output_type": "display_data"
    },
    {
     "data": {
      "text/html": [
       "<pre style=\"white-space:pre;overflow-x:auto;line-height:normal;font-family:Menlo,'DejaVu Sans Mono',consolas,'Courier New',monospace\"><span style=\"color: #008080; text-decoration-color: #008080; font-weight: bold\">0.7365089472172126</span>\n",
       "</pre>\n"
      ],
      "text/plain": [
       "\u001b[1;36m0.7365089472172126\u001b[0m\n"
      ]
     },
     "metadata": {},
     "output_type": "display_data"
    }
   ],
   "source": [
    "from rich import print\n",
    "df.set_index(df.columns[0], inplace=True)\n",
    "correlation_matrix = df.corr(method=\"spearman\")[\"imagenet1k.acc@1\"]\n",
    "print(correlation_matrix)\n",
    "\n",
    "sorted_correlation_matrix = correlation_matrix.abs().sort_values(\n",
    "    ascending=False\n",
    ")\n",
    "print(sorted_correlation_matrix)\n",
    "average_correlation = sorted_correlation_matrix.mean()\n",
    "print(average_correlation)"
   ]
  },
  {
   "cell_type": "code",
   "execution_count": 1302,
   "metadata": {},
   "outputs": [
    {
     "ename": "KeyError",
     "evalue": "'devGATE (Higher is better)'",
     "output_type": "error",
     "traceback": [
      "\u001b[0;31m---------------------------------------------------------------------------\u001b[0m",
      "\u001b[0;31mKeyError\u001b[0m                                  Traceback (most recent call last)",
      "File \u001b[0;32m~/Work/environment_management/mambaforge-MacOSX-arm64/envs/gate/lib/python3.10/site-packages/pandas/core/indexes/base.py:3805\u001b[0m, in \u001b[0;36mIndex.get_loc\u001b[0;34m(self, key)\u001b[0m\n\u001b[1;32m   3804\u001b[0m \u001b[38;5;28;01mtry\u001b[39;00m:\n\u001b[0;32m-> 3805\u001b[0m     \u001b[38;5;28;01mreturn\u001b[39;00m \u001b[38;5;28;43mself\u001b[39;49m\u001b[38;5;241;43m.\u001b[39;49m\u001b[43m_engine\u001b[49m\u001b[38;5;241;43m.\u001b[39;49m\u001b[43mget_loc\u001b[49m\u001b[43m(\u001b[49m\u001b[43mcasted_key\u001b[49m\u001b[43m)\u001b[49m\n\u001b[1;32m   3806\u001b[0m \u001b[38;5;28;01mexcept\u001b[39;00m \u001b[38;5;167;01mKeyError\u001b[39;00m \u001b[38;5;28;01mas\u001b[39;00m err:\n",
      "File \u001b[0;32mindex.pyx:167\u001b[0m, in \u001b[0;36mpandas._libs.index.IndexEngine.get_loc\u001b[0;34m()\u001b[0m\n",
      "File \u001b[0;32mindex.pyx:196\u001b[0m, in \u001b[0;36mpandas._libs.index.IndexEngine.get_loc\u001b[0;34m()\u001b[0m\n",
      "File \u001b[0;32mpandas/_libs/hashtable_class_helper.pxi:7081\u001b[0m, in \u001b[0;36mpandas._libs.hashtable.PyObjectHashTable.get_item\u001b[0;34m()\u001b[0m\n",
      "File \u001b[0;32mpandas/_libs/hashtable_class_helper.pxi:7089\u001b[0m, in \u001b[0;36mpandas._libs.hashtable.PyObjectHashTable.get_item\u001b[0;34m()\u001b[0m\n",
      "\u001b[0;31mKeyError\u001b[0m: 'devGATE (Higher is better)'",
      "\nThe above exception was the direct cause of the following exception:\n",
      "\u001b[0;31mKeyError\u001b[0m                                  Traceback (most recent call last)",
      "Cell \u001b[0;32mIn[1302], line 3\u001b[0m\n\u001b[1;32m      1\u001b[0m \u001b[38;5;28;01mfrom\u001b[39;00m \u001b[38;5;21;01mrich\u001b[39;00m \u001b[38;5;28;01mimport\u001b[39;00m \u001b[38;5;28mprint\u001b[39m\n\u001b[1;32m      2\u001b[0m df\u001b[38;5;241m.\u001b[39mset_index(df\u001b[38;5;241m.\u001b[39mcolumns[\u001b[38;5;241m0\u001b[39m], inplace\u001b[38;5;241m=\u001b[39m\u001b[38;5;28;01mTrue\u001b[39;00m)\n\u001b[0;32m----> 3\u001b[0m correlation_matrix \u001b[38;5;241m=\u001b[39m \u001b[43mdf\u001b[49m\u001b[38;5;241;43m.\u001b[39;49m\u001b[43mcorr\u001b[49m\u001b[43m(\u001b[49m\u001b[43mmethod\u001b[49m\u001b[38;5;241;43m=\u001b[39;49m\u001b[38;5;124;43m\"\u001b[39;49m\u001b[38;5;124;43mspearman\u001b[39;49m\u001b[38;5;124;43m\"\u001b[39;49m\u001b[43m)\u001b[49m\u001b[43m[\u001b[49m\u001b[38;5;124;43m\"\u001b[39;49m\u001b[38;5;124;43mdevGATE (Higher is better)\u001b[39;49m\u001b[38;5;124;43m\"\u001b[39;49m\u001b[43m]\u001b[49m\n\u001b[1;32m      5\u001b[0m sorted_correlation_matrix \u001b[38;5;241m=\u001b[39m correlation_matrix\u001b[38;5;241m.\u001b[39mabs()\u001b[38;5;241m.\u001b[39msort_values(\n\u001b[1;32m      6\u001b[0m     ascending\u001b[38;5;241m=\u001b[39m\u001b[38;5;28;01mFalse\u001b[39;00m\n\u001b[1;32m      7\u001b[0m )\n\u001b[1;32m      8\u001b[0m \u001b[38;5;28mprint\u001b[39m(sorted_correlation_matrix)\n",
      "File \u001b[0;32m~/Work/environment_management/mambaforge-MacOSX-arm64/envs/gate/lib/python3.10/site-packages/pandas/core/frame.py:4090\u001b[0m, in \u001b[0;36mDataFrame.__getitem__\u001b[0;34m(self, key)\u001b[0m\n\u001b[1;32m   4088\u001b[0m \u001b[38;5;28;01mif\u001b[39;00m \u001b[38;5;28mself\u001b[39m\u001b[38;5;241m.\u001b[39mcolumns\u001b[38;5;241m.\u001b[39mnlevels \u001b[38;5;241m>\u001b[39m \u001b[38;5;241m1\u001b[39m:\n\u001b[1;32m   4089\u001b[0m     \u001b[38;5;28;01mreturn\u001b[39;00m \u001b[38;5;28mself\u001b[39m\u001b[38;5;241m.\u001b[39m_getitem_multilevel(key)\n\u001b[0;32m-> 4090\u001b[0m indexer \u001b[38;5;241m=\u001b[39m \u001b[38;5;28;43mself\u001b[39;49m\u001b[38;5;241;43m.\u001b[39;49m\u001b[43mcolumns\u001b[49m\u001b[38;5;241;43m.\u001b[39;49m\u001b[43mget_loc\u001b[49m\u001b[43m(\u001b[49m\u001b[43mkey\u001b[49m\u001b[43m)\u001b[49m\n\u001b[1;32m   4091\u001b[0m \u001b[38;5;28;01mif\u001b[39;00m is_integer(indexer):\n\u001b[1;32m   4092\u001b[0m     indexer \u001b[38;5;241m=\u001b[39m [indexer]\n",
      "File \u001b[0;32m~/Work/environment_management/mambaforge-MacOSX-arm64/envs/gate/lib/python3.10/site-packages/pandas/core/indexes/base.py:3812\u001b[0m, in \u001b[0;36mIndex.get_loc\u001b[0;34m(self, key)\u001b[0m\n\u001b[1;32m   3807\u001b[0m     \u001b[38;5;28;01mif\u001b[39;00m \u001b[38;5;28misinstance\u001b[39m(casted_key, \u001b[38;5;28mslice\u001b[39m) \u001b[38;5;129;01mor\u001b[39;00m (\n\u001b[1;32m   3808\u001b[0m         \u001b[38;5;28misinstance\u001b[39m(casted_key, abc\u001b[38;5;241m.\u001b[39mIterable)\n\u001b[1;32m   3809\u001b[0m         \u001b[38;5;129;01mand\u001b[39;00m \u001b[38;5;28many\u001b[39m(\u001b[38;5;28misinstance\u001b[39m(x, \u001b[38;5;28mslice\u001b[39m) \u001b[38;5;28;01mfor\u001b[39;00m x \u001b[38;5;129;01min\u001b[39;00m casted_key)\n\u001b[1;32m   3810\u001b[0m     ):\n\u001b[1;32m   3811\u001b[0m         \u001b[38;5;28;01mraise\u001b[39;00m InvalidIndexError(key)\n\u001b[0;32m-> 3812\u001b[0m     \u001b[38;5;28;01mraise\u001b[39;00m \u001b[38;5;167;01mKeyError\u001b[39;00m(key) \u001b[38;5;28;01mfrom\u001b[39;00m \u001b[38;5;21;01merr\u001b[39;00m\n\u001b[1;32m   3813\u001b[0m \u001b[38;5;28;01mexcept\u001b[39;00m \u001b[38;5;167;01mTypeError\u001b[39;00m:\n\u001b[1;32m   3814\u001b[0m     \u001b[38;5;66;03m# If we have a listlike key, _check_indexing_error will raise\u001b[39;00m\n\u001b[1;32m   3815\u001b[0m     \u001b[38;5;66;03m#  InvalidIndexError. Otherwise we fall through and re-raise\u001b[39;00m\n\u001b[1;32m   3816\u001b[0m     \u001b[38;5;66;03m#  the TypeError.\u001b[39;00m\n\u001b[1;32m   3817\u001b[0m     \u001b[38;5;28mself\u001b[39m\u001b[38;5;241m.\u001b[39m_check_indexing_error(key)\n",
      "\u001b[0;31mKeyError\u001b[0m: 'devGATE (Higher is better)'"
     ]
    }
   ],
   "source": [
    "from rich import print\n",
    "df.set_index(df.columns[0], inplace=True)\n",
    "correlation_matrix = df.corr(method=\"spearman\")[\"devGATE (Higher is better)\"]\n",
    "\n",
    "sorted_correlation_matrix = correlation_matrix.abs().sort_values(\n",
    "    ascending=False\n",
    ")\n",
    "print(sorted_correlation_matrix)\n",
    "average_correlation = sorted_correlation_matrix.mean()\n",
    "print(average_correlation)"
   ]
  }
 ],
 "metadata": {
  "kernelspec": {
   "display_name": "gate",
   "language": "python",
   "name": "python3"
  },
  "language_info": {
   "codemirror_mode": {
    "name": "ipython",
    "version": 3
   },
   "file_extension": ".py",
   "mimetype": "text/x-python",
   "name": "python",
   "nbconvert_exporter": "python",
   "pygments_lexer": "ipython3",
   "version": "3.10.13"
  }
 },
 "nbformat": 4,
 "nbformat_minor": 2
}
