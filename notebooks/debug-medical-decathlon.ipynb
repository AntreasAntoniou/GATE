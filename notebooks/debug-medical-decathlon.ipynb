{
 "cells": [
  {
   "cell_type": "code",
   "execution_count": null,
   "metadata": {},
   "outputs": [],
   "source": [
    "import gate.data.medical.segmentation.medical_decathlon as medical_decathlon"
   ]
  },
  {
   "cell_type": "code",
   "execution_count": null,
   "metadata": {},
   "outputs": [],
   "source": [
    "import os\n",
    "import dotenv\n",
    "\n",
    "# Load environment variables from .env file\n",
    "dotenv.load_dotenv(\n",
    "    dotenv_path=\"/disk/scratch_fast1/aantoni2/GATE/secrets/setup_variables.env\"\n",
    ")\n",
    "import huggingface_hub\n",
    "\n",
    "huggingface_hub.login()"
   ]
  },
  {
   "cell_type": "code",
   "execution_count": null,
   "metadata": {},
   "outputs": [],
   "source": [
    "dataset = medical_decathlon.build_dataset(\n",
    "    set_name=\"train\",\n",
    "    data_dir=os.environ.get(\"DATASET_DIR\"),\n",
    "    task_name=\"task01braintumour\",\n",
    ")"
   ]
  },
  {
   "cell_type": "code",
   "execution_count": null,
   "metadata": {},
   "outputs": [],
   "source": [
    "for item in dataset:\n",
    "    break"
   ]
  },
  {
   "cell_type": "code",
   "execution_count": null,
   "metadata": {},
   "outputs": [],
   "source": [
    "print(list(item.keys()))"
   ]
  },
  {
   "cell_type": "code",
   "execution_count": null,
   "metadata": {},
   "outputs": [],
   "source": [
    "import torch\n",
    "\n",
    "image = (\n",
    "    torch.stack([torch.tensor(i) for i in item[\"image\"]])\n",
    "    if isinstance(item[\"image\"], list)\n",
    "    else item[\"image\"]\n",
    ")\n",
    "annotation = (\n",
    "    torch.stack([torch.tensor(i) for i in item[\"label\"]])\n",
    "    if isinstance(item[\"label\"], list)\n",
    "    else item[\"label\"]\n",
    ")\n",
    "image = image.permute(3, 0, 1, 2)[:, :3]\n",
    "annotation = annotation.permute(0, 3, 1, 2)[0]"
   ]
  },
  {
   "cell_type": "code",
   "execution_count": null,
   "metadata": {},
   "outputs": [],
   "source": [
    "print(image.shape)\n",
    "print(annotation.shape)"
   ]
  },
  {
   "cell_type": "code",
   "execution_count": null,
   "metadata": {},
   "outputs": [],
   "source": [
    "def show_batch(x: torch.Tensor, y: torch.Tensor) -> None:\n",
    "    import torch\n",
    "    from torchvision.utils import make_grid\n",
    "    import matplotlib.pyplot as plt\n",
    "    import matplotlib.colors as mcolors\n",
    "    import numpy as np\n",
    "\n",
    "    # Assuming x is a tensor of images with shape (B, C, H, W)\n",
    "    # and y is a tensor of labels with shape (B, H, W), values from 0 to 255\n",
    "\n",
    "    # Create a color map for 256 different classes\n",
    "    cmap = plt.cm.get_cmap(\n",
    "        \"nipy_spectral\", 256\n",
    "    )  # You can choose any suitable colormap\n",
    "    cmap_colors = cmap(np.arange(256))[\n",
    "        :, :3\n",
    "    ]  # Extract RGB values as a numpy array\n",
    "\n",
    "    # Convert cmap_colors to a PyTorch tensor\n",
    "    cmap_colors_tensor = torch.tensor(cmap_colors, dtype=torch.float32)\n",
    "\n",
    "    # Overlay each image with its label\n",
    "    overlaid_images = []\n",
    "    for img, label in zip(x, y):\n",
    "        # Normalize image for proper visualization\n",
    "        img = (img - img.min()) / (img.max() - img.min())\n",
    "\n",
    "        # Expand label dimensions and convert to RGB using the color map\n",
    "        label_expanded = label.unsqueeze(0).repeat(3, 1, 1)  # Expand to CxHxW\n",
    "        label_rgb = cmap_colors_tensor[label_expanded.long()]\n",
    "\n",
    "        # Overlay label on image with transparency\n",
    "        alpha = 0.4  # Transparency factor\n",
    "        overlaid_img = (1 - alpha) * img + alpha * label_rgb\n",
    "        overlaid_images.append(overlaid_img)\n",
    "\n",
    "    # Create a grid of the overlaid images\n",
    "    grid = make_grid(\n",
    "        overlaid_images, nrow=20\n",
    "    )  # Adjust the number of rows as needed\n",
    "\n",
    "    # Permute grid for correct display\n",
    "    grid = grid.permute((1, 2, 0))\n",
    "\n",
    "    plt.figure(figsize=(12, 12))  # Adjust the size as needed\n",
    "    plt.imshow(grid)\n",
    "    plt.axis(\"off\")  # Hide axes for better visualization\n",
    "    plt.show()"
   ]
  },
  {
   "cell_type": "code",
   "execution_count": null,
   "metadata": {},
   "outputs": [],
   "source": [
    "show_batch(image, annotation)"
   ]
  },
  {
   "cell_type": "code",
   "execution_count": null,
   "metadata": {},
   "outputs": [],
   "source": [
    "import matplotlib.pyplot as plt\n",
    "import numpy as np\n",
    "import torch\n",
    "\n",
    "# Assuming input_img is your batch of images and input_mask is your batch of masks\n",
    "# For demonstration, we create a random image and mask\n",
    "input_img = torch.rand(240, 240, 3)\n",
    "input_mask = torch.randint(low=0, high=2, size=(240, 240))  # binary mask"
   ]
  },
  {
   "cell_type": "code",
   "execution_count": null,
   "metadata": {},
   "outputs": [],
   "source": []
  }
 ],
 "metadata": {
  "kernelspec": {
   "display_name": "Python 3 (ipykernel)",
   "language": "python",
   "name": "python3"
  },
  "language_info": {
   "codemirror_mode": {
    "name": "ipython",
    "version": 3
   },
   "file_extension": ".py",
   "mimetype": "text/x-python",
   "name": "python",
   "nbconvert_exporter": "python",
   "pygments_lexer": "ipython3",
   "version": "3.10.13"
  }
 },
 "nbformat": 4,
 "nbformat_minor": 4
}
