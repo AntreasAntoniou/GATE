{
 "cells": [
  {
   "cell_type": "code",
   "execution_count": 1,
   "metadata": {},
   "outputs": [
    {
     "data": {
      "text/html": [
       "<div>\n",
       "<style scoped>\n",
       "    .dataframe tbody tr th:only-of-type {\n",
       "        vertical-align: middle;\n",
       "    }\n",
       "\n",
       "    .dataframe tbody tr th {\n",
       "        vertical-align: top;\n",
       "    }\n",
       "\n",
       "    .dataframe thead th {\n",
       "        text-align: right;\n",
       "    }\n",
       "</style>\n",
       "<table border=\"1\" class=\"dataframe\">\n",
       "  <thead>\n",
       "    <tr style=\"text-align: right;\">\n",
       "      <th></th>\n",
       "      <th>model_name</th>\n",
       "      <th>dataset_name</th>\n",
       "      <th>cifar100_loss</th>\n",
       "      <th>cifar100_acc</th>\n",
       "      <th>clevr_acc</th>\n",
       "    </tr>\n",
       "  </thead>\n",
       "  <tbody>\n",
       "    <tr>\n",
       "      <th>0</th>\n",
       "      <td>john</td>\n",
       "      <td>cifar100</td>\n",
       "      <td>0.1</td>\n",
       "      <td>99.0</td>\n",
       "      <td>NaN</td>\n",
       "    </tr>\n",
       "    <tr>\n",
       "      <th>1</th>\n",
       "      <td>john</td>\n",
       "      <td>clevr</td>\n",
       "      <td>NaN</td>\n",
       "      <td>NaN</td>\n",
       "      <td>89.0</td>\n",
       "    </tr>\n",
       "  </tbody>\n",
       "</table>\n",
       "</div>"
      ],
      "text/plain": [
       "  model_name dataset_name  cifar100_loss  cifar100_acc  clevr_acc\n",
       "0       john     cifar100            0.1          99.0        NaN\n",
       "1       john        clevr            NaN           NaN       89.0"
      ]
     },
     "metadata": {},
     "output_type": "display_data"
    },
    {
     "data": {
      "text/html": [
       "<pre style=\"white-space:pre;overflow-x:auto;line-height:normal;font-family:Menlo,'DejaVu Sans Mono',consolas,'Courier New',monospace\">Merged DataFrame:\n",
       "</pre>\n"
      ],
      "text/plain": [
       "Merged DataFrame:\n"
      ]
     },
     "metadata": {},
     "output_type": "display_data"
    },
    {
     "data": {
      "text/html": [
       "<pre style=\"white-space:pre;overflow-x:auto;line-height:normal;font-family:Menlo,'DejaVu Sans Mono',consolas,'Courier New',monospace\">PRINT SOMETHING HERE\n",
       "</pre>\n"
      ],
      "text/plain": [
       "PRINT SOMETHING HERE\n"
      ]
     },
     "metadata": {},
     "output_type": "display_data"
    },
    {
     "data": {
      "text/html": [
       "<div>\n",
       "<style scoped>\n",
       "    .dataframe tbody tr th:only-of-type {\n",
       "        vertical-align: middle;\n",
       "    }\n",
       "\n",
       "    .dataframe tbody tr th {\n",
       "        vertical-align: top;\n",
       "    }\n",
       "\n",
       "    .dataframe thead th {\n",
       "        text-align: right;\n",
       "    }\n",
       "</style>\n",
       "<table border=\"1\" class=\"dataframe\">\n",
       "  <thead>\n",
       "    <tr style=\"text-align: right;\">\n",
       "      <th></th>\n",
       "      <th>model_name</th>\n",
       "      <th>cifar100_loss</th>\n",
       "      <th>cifar100_acc</th>\n",
       "      <th>clevr_acc</th>\n",
       "    </tr>\n",
       "  </thead>\n",
       "  <tbody>\n",
       "    <tr>\n",
       "      <th>0</th>\n",
       "      <td>john</td>\n",
       "      <td>0.1</td>\n",
       "      <td>99.0</td>\n",
       "      <td>89.0</td>\n",
       "    </tr>\n",
       "  </tbody>\n",
       "</table>\n",
       "</div>"
      ],
      "text/plain": [
       "  model_name  cifar100_loss  cifar100_acc  clevr_acc\n",
       "0       john            0.1          99.0       89.0"
      ]
     },
     "metadata": {},
     "output_type": "display_data"
    }
   ],
   "source": [
    "from math import pi\n",
    "import pandas as pd\n",
    "import numpy as np\n",
    "from rich import print\n",
    "\n",
    "def display_pretty(df):\n",
    "    # visualize using tabulate for ipython noteboooks\n",
    "    from IPython.display import display\n",
    "\n",
    "    # Assuming df is your DataFrame\n",
    "    with pd.option_context(\"display.max_rows\", None, \"display.max_columns\", None):\n",
    "        display(\n",
    "            df\n",
    "        )\n",
    "\n",
    "\n",
    "\n",
    "# Example usage\n",
    "data = {\n",
    "    'model_name': ['john', 'john'],\n",
    "    'dataset_name': ['cifar100', 'clevr'],\n",
    "    'cifar100_loss': [0.1, np.nan],\n",
    "    'cifar100_acc': [99, np.nan],\n",
    "    'clevr_acc': [np.nan, 89]\n",
    "}\n",
    "\n",
    "df = pd.DataFrame(data)\n",
    "display_pretty(df)\n",
    "merged_df = df.groupby('model_name').first().reset_index()\n",
    "# remove dataset_name column\n",
    "merged_df = merged_df.drop(columns=['dataset_name'])\n",
    "print(\"Merged DataFrame:\")\n",
    "print(f\"PRINT SOMETHING HERE\")\n",
    "display_pretty(merged_df)"
   ]
  }
 ],
 "metadata": {
  "kernelspec": {
   "display_name": "gate",
   "language": "python",
   "name": "python3"
  },
  "language_info": {
   "codemirror_mode": {
    "name": "ipython",
    "version": 3
   },
   "file_extension": ".py",
   "mimetype": "text/x-python",
   "name": "python",
   "nbconvert_exporter": "python",
   "pygments_lexer": "ipython3",
   "version": "3.10.13"
  }
 },
 "nbformat": 4,
 "nbformat_minor": 2
}
